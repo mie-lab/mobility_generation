{
 "cells": [
  {
   "cell_type": "code",
   "execution_count": null,
   "metadata": {},
   "outputs": [],
   "source": [
    "import os\n",
    "import json\n",
    "import math\n",
    "import datetime\n",
    "\n",
    "from pathlib import Path\n",
    "\n",
    "from shapely import wkt, Point\n",
    "import pandas as pd\n",
    "import geopandas as gpd\n",
    "from tqdm import tqdm\n",
    "\n",
    "from s2geometry import *\n",
    "import s2sphere\n",
    "\n",
    "import trackintel as ti\n",
    "from trackintel.preprocessing.triplegs import generate_trips\n",
    "from trackintel.analysis.tracking_quality import temporal_tracking_quality, _split_overlaps\n",
    "\n",
    "from IPython.utils.text import columnize\n",
    "import folium"
   ]
  },
  {
   "cell_type": "code",
   "execution_count": null,
   "metadata": {},
   "outputs": [],
   "source": [
    "print('** S2 Functions **\\n')\n",
    "print(columnize(dir(s2), displaywidth=100))"
   ]
  },
  {
   "cell_type": "markdown",
   "metadata": {},
   "source": [
    "# Bin locations"
   ]
  },
  {
   "cell_type": "code",
   "execution_count": null,
   "metadata": {},
   "outputs": [],
   "source": [
    "locs = pd.read_csv(os.path.join(\".\", \"data\", f\"locations.csv\"))\n",
    "locs[\"center\"] = locs[\"center\"].apply(wkt.loads)\n",
    "locs = gpd.GeoDataFrame(locs, geometry=\"center\", crs=\"EPSG:4326\")"
   ]
  },
  {
   "cell_type": "code",
   "execution_count": null,
   "metadata": {},
   "outputs": [],
   "source": [
    "# read and simplify swiss boundary \n",
    "swissBoundary = gpd.read_file(os.path.join(\".\", \"data\", \"swiss\", \"swiss_1903+.shp\")).to_crs(\"EPSG:4326\")\n",
    "\n",
    "# get the geometry\n",
    "swiss_polygon = swissBoundary.geometry.iloc[0]\n",
    "\n",
    "print(len(swiss_polygon.exterior.coords))\n",
    "\n",
    "# simplify\n",
    "swiss_polygon_simplify = swiss_polygon.simplify(0.01, preserve_topology=False)\n",
    "\n",
    "print(len(swiss_polygon_simplify.exterior.coords))"
   ]
  },
  {
   "cell_type": "code",
   "execution_count": null,
   "metadata": {},
   "outputs": [],
   "source": [
    "coords = swiss_polygon_simplify.exterior.coords\n",
    "coords[0]"
   ]
  },
  {
   "cell_type": "code",
   "execution_count": null,
   "metadata": {},
   "outputs": [],
   "source": [
    "# construct the S2Polygon object\n",
    "\n",
    "point_ls = []\n",
    "\n",
    "for xx, yy, _ in coords:\n",
    "    point_ls.append(S2LatLng.FromDegrees(yy, xx).ToPoint())\n",
    "\n",
    "loop = S2Loop(point_ls)\n",
    "if ~loop.IsNormalized():\n",
    "    loop.Normalize()\n",
    "swiss_region = S2Polygon(loop)"
   ]
  },
  {
   "cell_type": "code",
   "execution_count": null,
   "metadata": {},
   "outputs": [],
   "source": [
    "# check the validity, should be smaller than 2*pi\n",
    "swiss_region.GetArea()"
   ]
  },
  {
   "cell_type": "code",
   "execution_count": null,
   "metadata": {},
   "outputs": [],
   "source": [
    "# get the covering\n",
    "\n",
    "coverer = s2.S2RegionCoverer()\n",
    "# atm we select 13\n",
    "coverer.set_min_level(13)\n",
    "coverer.set_max_level(13)\n",
    "\n",
    "covering = coverer.GetCovering(swiss_region)"
   ]
  },
  {
   "cell_type": "code",
   "execution_count": null,
   "metadata": {},
   "outputs": [],
   "source": [
    "len(covering)"
   ]
  },
  {
   "cell_type": "code",
   "execution_count": null,
   "metadata": {},
   "outputs": [],
   "source": [
    "# get the location gdf and covering cell\n",
    "\n",
    "cell_Ids = []\n",
    "row_ls = []\n",
    "for i in range(len(covering)):\n",
    "    cell_Ids.append(s2sphere.CellId(id_=covering[i].id()))\n",
    "\n",
    "    row = {}\n",
    "    row[\"loc_id\"] = covering[i].id()\n",
    "    row[\"geometry\"] = Point(covering[i].ToLatLng().lng().degrees(), \n",
    "                          covering[i].ToLatLng().lat().degrees())\n",
    "    row_ls.append(row)\n",
    "\n",
    "all_location_gdf = gpd.GeoDataFrame(row_ls, geometry = \"geometry\", crs=\"EPSG:4326\")"
   ]
  },
  {
   "cell_type": "code",
   "execution_count": null,
   "metadata": {},
   "outputs": [],
   "source": [
    "all_location_gdf"
   ]
  },
  {
   "cell_type": "code",
   "execution_count": null,
   "metadata": {},
   "outputs": [],
   "source": [
    "# project locations into s2 cells\n",
    "def get_loc_id(row):\n",
    "    cell = s2sphere.Cell.from_lat_lng(s2sphere.LatLng.from_degrees(row.y, row.x))\n",
    "    return cell.id().parent(13).id()\n",
    "\n",
    "locs[\"s2_id\"] = locs[\"center\"].apply(get_loc_id)"
   ]
  },
  {
   "cell_type": "code",
   "execution_count": null,
   "metadata": {},
   "outputs": [],
   "source": [
    "locs"
   ]
  },
  {
   "cell_type": "markdown",
   "metadata": {},
   "source": [
    "### Save results"
   ]
  },
  {
   "cell_type": "code",
   "execution_count": null,
   "metadata": {},
   "outputs": [],
   "source": [
    "# all location covering switzerland\n",
    "all_location_gdf.to_csv(os.path.join(\".\", \"data\", f\"all_locations.csv\"))\n",
    "# original location with s2 cell ids\n",
    "locs.to_csv(os.path.join(\".\", \"data\", f\"locs_s2.csv\"))"
   ]
  },
  {
   "cell_type": "markdown",
   "metadata": {},
   "source": [
    "## Plotting for correctness check"
   ]
  },
  {
   "cell_type": "code",
   "execution_count": null,
   "metadata": {},
   "outputs": [],
   "source": [
    "def get_bbox(coords):\n",
    "    lat_min = 1e7\n",
    "    lat_max = -1e7\n",
    "    lon_min = 1e7\n",
    "    lon_max = -1e7\n",
    "    for lat, lon in coords:\n",
    "        lat_min = min(lat_min, lat)\n",
    "        lat_max = max(lat_max, lat)\n",
    "        lon_min = min(lon_min, lon)\n",
    "        lon_max = max(lon_max, lon)\n",
    "    return [(lat_min, lon_min), (lat_max, lon_max)]\n",
    "\n",
    "def s2_to_geo_boundary(cell_id):\n",
    "    cell = s2sphere.Cell(cell_id)\n",
    "    boundary = []\n",
    "    for k in range(4):\n",
    "        ll = s2sphere.LatLng.from_point(cell.get_vertex(k))\n",
    "        boundary.append((ll.lat().degrees, ll.lng().degrees))\n",
    "    return boundary\n",
    "\n",
    "def plot_s2(cell_id):\n",
    "    print(cell_id)\n",
    "    return plot_geometries([s2_to_geo_boundary(cell_id)])\n",
    "\n",
    "def plot_s2cells(cell_ids):\n",
    "    polygons = []\n",
    "    for cell_id in cell_ids:\n",
    "        # print(cell_id)\n",
    "        polygons.append(s2_to_geo_boundary(cell_id))\n",
    "    return plot_geometries(polygons)\n",
    "\n",
    "def plot_geometries(polygons=[], points=[]):\n",
    "    f = folium.Figure(width=600, height=300)\n",
    "    m = folium.Map(\n",
    "        tiles='https://tiles.stadiamaps.com/tiles/osm_bright/{z}/{x}/{y}{r}.png',\n",
    "        attr='(C) Stadia Maps, (C) OpenMapTiles (C) OpenStreetMap contributors',\n",
    "        zoom_start=20, max_zoom=20).add_to(f)\n",
    "    for polygon in polygons:\n",
    "        folium.Polygon(polygon, color='#ff0000', opacity=1).add_to(m)\n",
    "    for point in points:\n",
    "        folium.Marker(point, color='#0000ff', opacity=1).add_to(m)\n",
    "    bb = get_bbox([c for p in polygons for c in p])\n",
    "    m.fit_bounds(bb)\n",
    "    return m"
   ]
  },
  {
   "cell_type": "code",
   "execution_count": null,
   "metadata": {},
   "outputs": [],
   "source": [
    "plot_s2cells(cell_Ids)"
   ]
  },
  {
   "cell_type": "code",
   "execution_count": null,
   "metadata": {},
   "outputs": [],
   "source": [
    "loc_cell_ls = []\n",
    "\n",
    "for center in locs[\"center\"].values:\n",
    "    cell = s2sphere.Cell.from_lat_lng(s2sphere.LatLng.from_degrees(center.y, center.x))\n",
    "    loc_cell_ls.append(cell.id().parent(11))"
   ]
  },
  {
   "cell_type": "code",
   "execution_count": null,
   "metadata": {},
   "outputs": [],
   "source": [
    "plot_s2cells(loc_cell_ls)"
   ]
  },
  {
   "cell_type": "code",
   "execution_count": null,
   "metadata": {},
   "outputs": [],
   "source": [
    "# comparing all locations and existing locations\n",
    "len(covering), len(locs[\"s2_id\"].unique())"
   ]
  }
 ],
 "metadata": {
  "kernelspec": {
   "display_name": "Python 3 (ipykernel)",
   "language": "python",
   "name": "python3"
  },
  "language_info": {
   "codemirror_mode": {
    "name": "ipython",
    "version": 3
   },
   "file_extension": ".py",
   "mimetype": "text/x-python",
   "name": "python",
   "nbconvert_exporter": "python",
   "pygments_lexer": "ipython3",
   "version": "3.9.17"
  },
  "vscode": {
   "interpreter": {
    "hash": "659ffd3ea00dbbc52f857660b8dafea05f804bc55dd91047cefb31e38b5505f6"
   }
  }
 },
 "nbformat": 4,
 "nbformat_minor": 4
}
