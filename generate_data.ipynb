{
 "cells": [
  {
   "cell_type": "code",
   "execution_count": 165,
   "metadata": {},
   "outputs": [],
   "source": [
    "import torch \n",
    "import numpy as np\n",
    "\n",
    "import os\n",
    "import pandas as pd\n",
    "import geopandas as gpd\n",
    "import pickle as pickle\n",
    "\n",
    "# from loc_predict.processing import _split_train_test\n",
    "from shapely import wkt\n",
    "from tqdm import tqdm\n",
    "from scipy.spatial.distance import pdist, squareform\n",
    "\n",
    "from gensim.corpora import Dictionary\n",
    "from gensim.models import TfidfModel, LdaModel\n",
    "import gensim\n",
    "\n",
    "import trackintel as ti\n",
    "from trackintel.geogr.distances import calculate_distance_matrix\n",
    "\n",
    "from loc_predict.models.markov import markov_transition_prob\n",
    "from utils.utils import load_data\n",
    "from utils.dataloader import get_train_test\n",
    "\n",
    "def save_pk_file(save_path, data):\n",
    "    \"\"\"Function to save data to pickle format given data and path.\"\"\"\n",
    "    with open(save_path, \"wb\") as handle:\n",
    "        pickle.dump(data, handle, protocol=pickle.HIGHEST_PROTOCOL)\n"
   ]
  },
  {
   "cell_type": "markdown",
   "metadata": {},
   "source": [
    "# Pairwise distance matrix"
   ]
  },
  {
   "cell_type": "code",
   "execution_count": 205,
   "metadata": {},
   "outputs": [],
   "source": [
    "all_locs = pd.read_csv(\"./data/test/all_locations.csv\", index_col=\"id\")\n",
    "all_locs[\"geometry\"] = all_locs[\"geometry\"].apply(wkt.loads)\n",
    "all_locs = gpd.GeoDataFrame(all_locs, geometry=\"geometry\", crs=\"EPSG:4326\")"
   ]
  },
  {
   "cell_type": "code",
   "execution_count": 206,
   "metadata": {},
   "outputs": [
    {
     "data": {
      "text/html": [
       "<div>\n",
       "<style scoped>\n",
       "    .dataframe tbody tr th:only-of-type {\n",
       "        vertical-align: middle;\n",
       "    }\n",
       "\n",
       "    .dataframe tbody tr th {\n",
       "        vertical-align: top;\n",
       "    }\n",
       "\n",
       "    .dataframe thead th {\n",
       "        text-align: right;\n",
       "    }\n",
       "</style>\n",
       "<table border=\"1\" class=\"dataframe\">\n",
       "  <thead>\n",
       "    <tr style=\"text-align: right;\">\n",
       "      <th></th>\n",
       "      <th>loc_id</th>\n",
       "      <th>level</th>\n",
       "      <th>geometry</th>\n",
       "      <th>area</th>\n",
       "    </tr>\n",
       "    <tr>\n",
       "      <th>id</th>\n",
       "      <th></th>\n",
       "      <th></th>\n",
       "      <th></th>\n",
       "      <th></th>\n",
       "    </tr>\n",
       "  </thead>\n",
       "  <tbody>\n",
       "    <tr>\n",
       "      <th>0</th>\n",
       "      <td>5152984577853095936</td>\n",
       "      <td>13</td>\n",
       "      <td>POINT (10.34358 46.62398)</td>\n",
       "      <td>POLYGON ((10.347820052132302 46.61871685680636...</td>\n",
       "    </tr>\n",
       "    <tr>\n",
       "      <th>1</th>\n",
       "      <td>5152985557105639424</td>\n",
       "      <td>12</td>\n",
       "      <td>POINT (10.29508 46.64301)</td>\n",
       "      <td>POLYGON ((10.303565033130825 46.63249007077394...</td>\n",
       "    </tr>\n",
       "    <tr>\n",
       "      <th>2</th>\n",
       "      <td>5152985677364723712</td>\n",
       "      <td>13</td>\n",
       "      <td>POINT (10.26355 46.64099)</td>\n",
       "      <td>POLYGON ((10.26780082511594 46.63572990632601,...</td>\n",
       "    </tr>\n",
       "    <tr>\n",
       "      <th>3</th>\n",
       "      <td>5152985711724462080</td>\n",
       "      <td>13</td>\n",
       "      <td>POINT (10.26698 46.65043)</td>\n",
       "      <td>POLYGON ((10.271227187809282 46.64517003239574...</td>\n",
       "    </tr>\n",
       "    <tr>\n",
       "      <th>4</th>\n",
       "      <td>5152988254345101312</td>\n",
       "      <td>13</td>\n",
       "      <td>POINT (10.44252 46.62467)</td>\n",
       "      <td>POLYGON ((10.446753699334618 46.61940323409345...</td>\n",
       "    </tr>\n",
       "    <tr>\n",
       "      <th>...</th>\n",
       "      <td>...</td>\n",
       "      <td>...</td>\n",
       "      <td>...</td>\n",
       "      <td>...</td>\n",
       "    </tr>\n",
       "    <tr>\n",
       "      <th>8959</th>\n",
       "      <td>5159785125990367232</td>\n",
       "      <td>13</td>\n",
       "      <td>POINT (9.53321 47.34228)</td>\n",
       "      <td>POLYGON ((9.53761425405036 47.33697471681336, ...</td>\n",
       "    </tr>\n",
       "    <tr>\n",
       "      <th>8960</th>\n",
       "      <td>5159785297789059072</td>\n",
       "      <td>13</td>\n",
       "      <td>POINT (9.55174 47.36047)</td>\n",
       "      <td>POLYGON ((9.556149844349989 47.355166963815904...</td>\n",
       "    </tr>\n",
       "    <tr>\n",
       "      <th>8961</th>\n",
       "      <td>5159785486767620096</td>\n",
       "      <td>12</td>\n",
       "      <td>POINT (9.58027 47.35314)</td>\n",
       "      <td>POLYGON ((9.589080312384539 47.34252563756386,...</td>\n",
       "    </tr>\n",
       "    <tr>\n",
       "      <th>8962</th>\n",
       "      <td>5159785761645527040</td>\n",
       "      <td>12</td>\n",
       "      <td>POINT (9.59788 47.33191)</td>\n",
       "      <td>POLYGON ((9.606683428932946 47.321300042067506...</td>\n",
       "    </tr>\n",
       "    <tr>\n",
       "      <th>8963</th>\n",
       "      <td>5160198645441626112</td>\n",
       "      <td>13</td>\n",
       "      <td>POINT (10.37597 46.98301)</td>\n",
       "      <td>POLYGON ((10.380257658858904 46.97771378506055...</td>\n",
       "    </tr>\n",
       "  </tbody>\n",
       "</table>\n",
       "<p>8964 rows × 4 columns</p>\n",
       "</div>"
      ],
      "text/plain": [
       "                   loc_id  level                   geometry  \\\n",
       "id                                                            \n",
       "0     5152984577853095936     13  POINT (10.34358 46.62398)   \n",
       "1     5152985557105639424     12  POINT (10.29508 46.64301)   \n",
       "2     5152985677364723712     13  POINT (10.26355 46.64099)   \n",
       "3     5152985711724462080     13  POINT (10.26698 46.65043)   \n",
       "4     5152988254345101312     13  POINT (10.44252 46.62467)   \n",
       "...                   ...    ...                        ...   \n",
       "8959  5159785125990367232     13   POINT (9.53321 47.34228)   \n",
       "8960  5159785297789059072     13   POINT (9.55174 47.36047)   \n",
       "8961  5159785486767620096     12   POINT (9.58027 47.35314)   \n",
       "8962  5159785761645527040     12   POINT (9.59788 47.33191)   \n",
       "8963  5160198645441626112     13  POINT (10.37597 46.98301)   \n",
       "\n",
       "                                                   area  \n",
       "id                                                       \n",
       "0     POLYGON ((10.347820052132302 46.61871685680636...  \n",
       "1     POLYGON ((10.303565033130825 46.63249007077394...  \n",
       "2     POLYGON ((10.26780082511594 46.63572990632601,...  \n",
       "3     POLYGON ((10.271227187809282 46.64517003239574...  \n",
       "4     POLYGON ((10.446753699334618 46.61940323409345...  \n",
       "...                                                 ...  \n",
       "8959  POLYGON ((9.53761425405036 47.33697471681336, ...  \n",
       "8960  POLYGON ((9.556149844349989 47.355166963815904...  \n",
       "8961  POLYGON ((9.589080312384539 47.34252563756386,...  \n",
       "8962  POLYGON ((9.606683428932946 47.321300042067506...  \n",
       "8963  POLYGON ((10.380257658858904 46.97771378506055...  \n",
       "\n",
       "[8964 rows x 4 columns]"
      ]
     },
     "execution_count": 206,
     "metadata": {},
     "output_type": "execute_result"
    }
   ],
   "source": [
    "all_locs"
   ]
  },
  {
   "cell_type": "code",
   "execution_count": 207,
   "metadata": {},
   "outputs": [],
   "source": [
    "# %%time\n",
    "\n",
    "# calculate_distance_matrix(all_locs, all_locs[:256], dist_metric=\"haversine\", n_jobs=-1)\n",
    "dist_matrix = calculate_distance_matrix(all_locs, dist_metric=\"haversine\", n_jobs=-1)"
   ]
  },
  {
   "cell_type": "code",
   "execution_count": 208,
   "metadata": {},
   "outputs": [
    {
     "data": {
      "text/plain": [
       "(8964, 8964)"
      ]
     },
     "execution_count": 208,
     "metadata": {},
     "output_type": "execute_result"
    }
   ],
   "source": [
    "dist_matrix.shape"
   ]
  },
  {
   "cell_type": "code",
   "execution_count": 34,
   "metadata": {},
   "outputs": [],
   "source": [
    "\n",
    "save_pk_file(\"./data/temp/dist_matrix_test.pk\", dist_matrix)"
   ]
  },
  {
   "cell_type": "markdown",
   "metadata": {},
   "source": [
    "# Empirical visit matrix"
   ]
  },
  {
   "cell_type": "code",
   "execution_count": 7,
   "metadata": {},
   "outputs": [],
   "source": [
    "sp = pd.read_csv(os.path.join(\".\", \"data\", \"sp.csv\"), index_col=\"id\")\n",
    "loc = pd.read_csv(os.path.join(\".\", \"data\", \"locs_s2.csv\"), index_col=\"id\")\n",
    "sp = load_data(sp, loc)\n",
    "\n",
    "all_locs = pd.read_csv(os.path.join(\".\", \"data\", \"test\", \"all_locations.csv\"), index_col=\"id\")\n",
    "all_locs[\"geometry\"] = all_locs[\"geometry\"].apply(wkt.loads)\n",
    "all_locs = gpd.GeoDataFrame(all_locs, geometry=\"geometry\", crs=\"EPSG:4326\")"
   ]
  },
  {
   "cell_type": "code",
   "execution_count": 8,
   "metadata": {},
   "outputs": [],
   "source": [
    "train_data, vali_data, test_data, all_locs = get_train_test(sp, all_locs=all_locs)"
   ]
  },
  {
   "cell_type": "code",
   "execution_count": 9,
   "metadata": {},
   "outputs": [],
   "source": [
    "transit_df = train_data.groupby(\"user_id\").apply(markov_transition_prob, n=1).reset_index().drop(columns=\"level_1\")"
   ]
  },
  {
   "cell_type": "code",
   "execution_count": 10,
   "metadata": {},
   "outputs": [
    {
     "name": "stderr",
     "output_type": "stream",
     "text": [
      "100%|██████████| 179399/179399 [00:00<00:00, 1117262.49it/s]\n"
     ]
    }
   ],
   "source": [
    "emp_matrix = np.zeros((len(all_locs), len(all_locs)))\n",
    "\n",
    "for pair in tqdm(transit_df[[\"loc_1\", \"toLoc\"]].values):\n",
    "    emp_matrix[pair[0], pair[1]] += 1"
   ]
  },
  {
   "cell_type": "code",
   "execution_count": 11,
   "metadata": {},
   "outputs": [
    {
     "data": {
      "text/plain": [
       "(8964, 8964)"
      ]
     },
     "execution_count": 11,
     "metadata": {},
     "output_type": "execute_result"
    }
   ],
   "source": [
    "emp_matrix.shape"
   ]
  },
  {
   "cell_type": "code",
   "execution_count": 42,
   "metadata": {},
   "outputs": [],
   "source": [
    "save_pk_file(\"./data/temp/emp_matrix_test.pk\", emp_matrix)"
   ]
  },
  {
   "cell_type": "markdown",
   "metadata": {},
   "source": [
    "# POI distribution\n",
    "## Read location file"
   ]
  },
  {
   "cell_type": "code",
   "execution_count": 68,
   "metadata": {},
   "outputs": [],
   "source": [
    "all_locs = pd.read_csv(\"./data/test/all_locations.csv\", index_col=\"id\")\n",
    "all_locs = all_locs.drop(columns=\"geometry\")\n",
    "all_locs[\"area\"] = all_locs[\"area\"].apply(wkt.loads)\n",
    "all_locs = gpd.GeoDataFrame(all_locs, geometry=\"area\", crs=\"EPSG:4326\")\n",
    "all_locs = all_locs.to_crs(\"EPSG:2056\")"
   ]
  },
  {
   "cell_type": "markdown",
   "metadata": {},
   "source": [
    "## Read POI file and preprocess"
   ]
  },
  {
   "cell_type": "code",
   "execution_count": 60,
   "metadata": {},
   "outputs": [],
   "source": [
    "def _read_poi_files():\n",
    "    # get all the pofws, 1\n",
    "    pofw_file = gpd.read_file(os.path.join(\"data\", \"poi\", \"ori\", \"gis_osm_pofw_free_1.shp\"))\n",
    "\n",
    "    # get all the transport, 4\n",
    "    transport_file = gpd.read_file(os.path.join(\"data\", \"poi\", \"ori\", \"gis_osm_transport_free_1.shp\"))\n",
    "\n",
    "    # drop the trees and get the beaches, 1\n",
    "    natural_file = gpd.read_file(os.path.join(\"data\", \"poi\", \"ori\", \"gis_osm_natural_free_1.shp\"))\n",
    "    natural_file = natural_file.loc[natural_file[\"fclass\"] != \"tree\"]\n",
    "\n",
    "    natural_a_file = gpd.read_file(os.path.join(\"data\", \"poi\", \"ori\", \"gis_osm_natural_a_free_1.shp\"))\n",
    "    natural_a_file = natural_a_file.loc[natural_a_file[\"fclass\"].isin([\"beach\"])].reset_index(drop=True)\n",
    "    natural_a_file[\"geometry\"] = natural_a_file.to_crs(\"EPSG:2056\").geometry.centroid.to_crs(\"EPSG:4326\")\n",
    "\n",
    "    # get all the pois, 11\n",
    "    poi_file = gpd.read_file(os.path.join(\"data\", \"poi\", \"ori\", \"gis_osm_pois_free_1.shp\"))\n",
    "\n",
    "    # get the parking slots of traffic point file, 4\n",
    "    traffic_file = gpd.read_file(os.path.join(\"data\", \"poi\", \"ori\", \"gis_osm_traffic_free_1.shp\"))\n",
    "    traffic_file = (\n",
    "        traffic_file.loc[\n",
    "            traffic_file[\"fclass\"].isin(\n",
    "                [\n",
    "                    \"parking\",\n",
    "                    \"parking_bicycle\",\n",
    "                    \"parking_underground\",\n",
    "                    \"parking_multistorey\",\n",
    "                ]\n",
    "            )\n",
    "        ]\n",
    "        .reset_index(drop=True)\n",
    "        .copy()\n",
    "    )\n",
    "\n",
    "    # get the parking slots of traffic area file\n",
    "    traffic_a_file = gpd.read_file(os.path.join(\"data\", \"poi\", \"ori\", \"gis_osm_traffic_a_free_1.shp\"))\n",
    "    traffic_a_file = (\n",
    "        traffic_a_file.loc[\n",
    "            traffic_a_file[\"fclass\"].isin(\n",
    "                [\n",
    "                    \"parking\",\n",
    "                    \"parking_bicycle\",\n",
    "                    \"parking_underground\",\n",
    "                    \"parking_multistorey\",\n",
    "                ]\n",
    "            )\n",
    "        ]\n",
    "        .reset_index(drop=True)\n",
    "        .copy()\n",
    "    )\n",
    "    traffic_a_file[\"geometry\"] = traffic_a_file.to_crs(\"EPSG:2056\").geometry.centroid.to_crs(\"EPSG:4326\")\n",
    "\n",
    "    # buildings_file\n",
    "    buildings_file = gpd.read_file(os.path.join(\"data\", \"poi\", \"ori\", \"gis_osm_buildings_a_free_1.shp\"))\n",
    "    buildings_file[\"code\"] = buildings_file.groupby([\"type\"]).ngroup() + 1002\n",
    "    buildings_file.loc[buildings_file[\"code\"].isna(), \"code\"] = 1001\n",
    "    buildings_file[\"geometry\"] = buildings_file.to_crs(\"EPSG:2056\").geometry.centroid.to_crs(\"EPSG:4326\")\n",
    "\n",
    "    # concat all the pois\n",
    "    all_pois = pd.concat(\n",
    "        [\n",
    "            pofw_file,\n",
    "            transport_file,\n",
    "            natural_file,\n",
    "            natural_a_file,\n",
    "            poi_file,\n",
    "            traffic_file,\n",
    "            traffic_a_file,\n",
    "            buildings_file,\n",
    "        ]\n",
    "    )\n",
    "    # all_pois.drop(columns=[\"name\"], inplace=True)\n",
    "\n",
    "    return all_pois\n",
    "\n",
    "gdf = _read_poi_files()"
   ]
  },
  {
   "cell_type": "code",
   "execution_count": 61,
   "metadata": {},
   "outputs": [
    {
     "name": "stdout",
     "output_type": "stream",
     "text": [
      "category\n",
      "Unknown           2737932\n",
      "Others             127119\n",
      "Entertainment       93521\n",
      "Shopping            48116\n",
      "Residential         42271\n",
      "Transportation      39290\n",
      "Services             9010\n",
      "Schools              2850\n",
      "Civic                 765\n",
      "Name: count, dtype: int64\n"
     ]
    }
   ],
   "source": [
    "def _assign_category(df):\n",
    "    # 2018 Hong: Life services, Office building/space, Other facilities, Medical/Education, Entertainment, Government, Residence communities, Financial services\n",
    "    # 2021 Yin : Residential, Hotel/resort, Mixed-use, K–12 schools, University/college, Office/workplace, Services, Civic/religious, Shopping/retail, Recreation/entertainment, Transportation, Others\n",
    "\n",
    "    ### osm code -> 2018 Hong -> 2021 Yin\n",
    "    # public 20xx  -> Residence communities ->  Residential\n",
    "    #    university + school + kindergarten + college (208x) -> Medical/Education -> K–12 schools/University/college\n",
    "    # health 21xx -> Medical/Education -> Services\n",
    "    # leisure 22xx -> Entertainment -> Recreation/entertainment\n",
    "    # catering 23xx -> Life services -> Residential\n",
    "    # accommodation 24xx -> Entertainment -> Hotel/resort\n",
    "    # shopping 25xx -> Life services -> Shopping/retail\n",
    "    # money 26xx -> Financial services -> Services\n",
    "    # tourism 27xx -> Entertainment -> Recreation/entertainment\n",
    "    # pofw 3xxx -> Life services -> Civic/religious\n",
    "    # natural 41xx -> Entertainment -> Recreation/entertainment\n",
    "    # transport 56xx -> Other facilities -> Transportation\n",
    "    # miscpoi 29xx -> Other facilities -> Others\n",
    "\n",
    "    # note: miscpoi contains \"bench\" or \"drinking_water\" that might not reveal any landuse info\n",
    "\n",
    "    # init\n",
    "    df[\"category\"] = \"Unknown\"\n",
    "\n",
    "    # public 20xx  -> Residence communities ->  Residential\n",
    "    #    university + school + kindergarten + college (208x) -> Medical/Education -> K–12 schools/University/college\n",
    "    df.loc[(df[\"code\"] > 2000) & (df[\"code\"] < 2100), \"category\"] = \"Residential\"\n",
    "    df.loc[(df[\"code\"] > 2080) & (df[\"code\"] < 2090), \"category\"] = \"Schools\"\n",
    "\n",
    "    # health 21xx -> Medical/Education -> Services\n",
    "    df.loc[(df[\"code\"] > 2100) & (df[\"code\"] < 2200), \"category\"] = \"Services\"\n",
    "\n",
    "    # leisure 22xx -> Entertainment -> Recreation/entertainment\n",
    "    df.loc[(df[\"code\"] > 2200) & (df[\"code\"] < 2300), \"category\"] = \"Entertainment\"\n",
    "\n",
    "    # catering 23xx -> Life services -> Residential\n",
    "    df.loc[(df[\"code\"] > 2300) & (df[\"code\"] < 2400), \"category\"] = \"Residential\"\n",
    "\n",
    "    # accommodation 24xx -> Entertainment -> Hotel/resort\n",
    "    df.loc[(df[\"code\"] > 2400) & (df[\"code\"] < 2500), \"category\"] = \"Entertainment\"\n",
    "\n",
    "    # shopping 25xx -> Life services -> Shopping/retail\n",
    "    df.loc[(df[\"code\"] > 2500) & (df[\"code\"] < 2600), \"category\"] = \"Shopping\"\n",
    "\n",
    "    # money 26xx -> Financial services -> Services\n",
    "    df.loc[(df[\"code\"] > 2600) & (df[\"code\"] < 2700), \"category\"] = \"Services\"\n",
    "\n",
    "    # tourism 27xx -> Entertainment -> Recreation/entertainment\n",
    "    df.loc[(df[\"code\"] > 2700) & (df[\"code\"] < 2800), \"category\"] = \"Entertainment\"\n",
    "\n",
    "    # miscpoi 29xx -> Other facilities -> Others\n",
    "    df.loc[(df[\"code\"] > 2900) & (df[\"code\"] < 3000), \"category\"] = \"Others\"\n",
    "\n",
    "    # pofw 3xxx -> Life services -> Civic/religious\n",
    "    df.loc[(df[\"code\"] > 3000) & (df[\"code\"] < 4000), \"category\"] = \"Civic\"\n",
    "\n",
    "    # natural 41xx -> Entertainment -> Recreation/entertainment\n",
    "    df.loc[(df[\"code\"] > 4000) & (df[\"code\"] < 5000), \"category\"] = \"Entertainment\"\n",
    "\n",
    "    # transport 56xx -> Other facilities -> Transportation\n",
    "    df.loc[(df[\"code\"] > 5600) & (df[\"code\"] < 5700), \"category\"] = \"Transportation\"\n",
    "\n",
    "    # Unknown           2737932\n",
    "    # Others             127119\n",
    "    # Entertainment       93521\n",
    "    # Shopping            48116\n",
    "    # Residential         42271\n",
    "    # Transportation      39290\n",
    "    # Services             9010\n",
    "    # Schools              2850\n",
    "    # Civic                 765\n",
    "\n",
    "    print(df[\"category\"].value_counts())\n",
    "    return df\n",
    "\n",
    "gdf = _assign_category(gdf)"
   ]
  },
  {
   "cell_type": "code",
   "execution_count": 62,
   "metadata": {},
   "outputs": [
    {
     "data": {
      "text/plain": [
       "(3100874, 3100874)"
      ]
     },
     "execution_count": 62,
     "metadata": {},
     "output_type": "execute_result"
    }
   ],
   "source": [
    "len(gdf), gdf[\"code\"].value_counts().sum()"
   ]
  },
  {
   "cell_type": "code",
   "execution_count": 63,
   "metadata": {},
   "outputs": [],
   "source": [
    "# final cleaning\n",
    "gdf.drop(columns=[\"osm_id\", \"fclass\"], inplace=True)\n",
    "# reindex\n",
    "gdf.reset_index(drop=True, inplace=True)\n",
    "gdf.index.name = \"id\"\n",
    "gdf.reset_index(inplace=True)\n",
    "\n",
    "# change the projection and save\n",
    "gdf = gdf.to_crs(\"EPSG:2056\")\n",
    "gdf.to_file(os.path.join(\"data\", \"poi\", \"final_pois.shp\"))"
   ]
  },
  {
   "cell_type": "markdown",
   "metadata": {},
   "source": [
    "## Get location poi pair"
   ]
  },
  {
   "cell_type": "code",
   "execution_count": 64,
   "metadata": {},
   "outputs": [],
   "source": [
    "# read poi file\n",
    "poi = gpd.read_file(os.path.join(\"data\", \"poi\", \"final_pois.shp\"))\n",
    "spatial_index = poi.sindex"
   ]
  },
  {
   "cell_type": "code",
   "execution_count": 65,
   "metadata": {},
   "outputs": [
    {
     "data": {
      "text/plain": [
       "3100874"
      ]
     },
     "execution_count": 65,
     "metadata": {},
     "output_type": "execute_result"
    }
   ],
   "source": [
    "poi[\"code\"].value_counts().sum()"
   ]
  },
  {
   "cell_type": "code",
   "execution_count": 70,
   "metadata": {},
   "outputs": [
    {
     "name": "stderr",
     "output_type": "stream",
     "text": [
      "Generating poi within: 100%|██████████| 8964/8964 [00:54<00:00, 163.65it/s]\n"
     ]
    }
   ],
   "source": [
    "def _get_inside_pois(df, poi, spatial_index):\n",
    "    \"\"\"\n",
    "    Given one extent (df), return the poi within this extent.\n",
    "    spatial_index is obtained from poi.sindex to speed up the process.\n",
    "    \"\"\"\n",
    "    possible_matches_index = list(spatial_index.intersection(df.bounds))\n",
    "    possible_matches = poi.iloc[possible_matches_index]\n",
    "    precise_matches = possible_matches[possible_matches.within(df)][\"id\"].values\n",
    "\n",
    "    return precise_matches\n",
    "\n",
    "# get the inside poi within each location\n",
    "tqdm.pandas(desc=\"Generating poi within\")\n",
    "all_locs[\"poi_within\"] = all_locs[\"area\"].progress_apply(\n",
    "    _get_inside_pois, poi=poi, spatial_index=spatial_index\n",
    ")"
   ]
  },
  {
   "cell_type": "code",
   "execution_count": 71,
   "metadata": {},
   "outputs": [
    {
     "data": {
      "text/html": [
       "<div>\n",
       "<style scoped>\n",
       "    .dataframe tbody tr th:only-of-type {\n",
       "        vertical-align: middle;\n",
       "    }\n",
       "\n",
       "    .dataframe tbody tr th {\n",
       "        vertical-align: top;\n",
       "    }\n",
       "\n",
       "    .dataframe thead th {\n",
       "        text-align: right;\n",
       "    }\n",
       "</style>\n",
       "<table border=\"1\" class=\"dataframe\">\n",
       "  <thead>\n",
       "    <tr style=\"text-align: right;\">\n",
       "      <th></th>\n",
       "      <th>loc_id</th>\n",
       "      <th>level</th>\n",
       "      <th>area</th>\n",
       "      <th>poi_within</th>\n",
       "    </tr>\n",
       "    <tr>\n",
       "      <th>id</th>\n",
       "      <th></th>\n",
       "      <th></th>\n",
       "      <th></th>\n",
       "      <th></th>\n",
       "    </tr>\n",
       "  </thead>\n",
       "  <tbody>\n",
       "    <tr>\n",
       "      <th>0</th>\n",
       "      <td>5152984577853095936</td>\n",
       "      <td>13</td>\n",
       "      <td>POLYGON ((2822783.921 1167182.211, 2823009.157...</td>\n",
       "      <td>[1321249, 1321313, 1321341, 1321325, 1321343, ...</td>\n",
       "    </tr>\n",
       "    <tr>\n",
       "      <th>1</th>\n",
       "      <td>5152985557105639424</td>\n",
       "      <td>12</td>\n",
       "      <td>POLYGON ((2819340.510 1168587.568, 2819790.000...</td>\n",
       "      <td>[322841, 42965, 121298, 121299, 1404046, 16777...</td>\n",
       "    </tr>\n",
       "    <tr>\n",
       "      <th>2</th>\n",
       "      <td>5152985677364723712</td>\n",
       "      <td>13</td>\n",
       "      <td>POLYGON ((2816590.595 1168848.114, 2816814.904...</td>\n",
       "      <td>[95060, 1483539, 232216, 2886149, 95061, 99850...</td>\n",
       "    </tr>\n",
       "    <tr>\n",
       "      <th>3</th>\n",
       "      <td>5152985711724462080</td>\n",
       "      <td>13</td>\n",
       "      <td>POLYGON ((2816814.904 1169906.317, 2817039.255...</td>\n",
       "      <td>[408769, 49439, 390867, 51731, 998508, 95063, ...</td>\n",
       "    </tr>\n",
       "    <tr>\n",
       "      <th>4</th>\n",
       "      <td>5152988254345101312</td>\n",
       "      <td>13</td>\n",
       "      <td>POLYGON ((2830353.619 1167544.210, 2830580.004...</td>\n",
       "      <td>[1787820, 1787829, 1787830, 1787837, 1787827, ...</td>\n",
       "    </tr>\n",
       "    <tr>\n",
       "      <th>...</th>\n",
       "      <td>...</td>\n",
       "      <td>...</td>\n",
       "      <td>...</td>\n",
       "      <td>...</td>\n",
       "    </tr>\n",
       "    <tr>\n",
       "      <th>8959</th>\n",
       "      <td>5159785125990367232</td>\n",
       "      <td>13</td>\n",
       "      <td>POLYGON ((2758620.178 1245023.063, 2758836.180...</td>\n",
       "      <td>[3044777, 2334529, 189401, 2190426, 2206291, 2...</td>\n",
       "    </tr>\n",
       "    <tr>\n",
       "      <th>8960</th>\n",
       "      <td>5159785297789059072</td>\n",
       "      <td>13</td>\n",
       "      <td>POLYGON ((2759965.980 1247082.609, 2760182.201...</td>\n",
       "      <td>[1362222, 1362200, 1362221, 1362198, 16652, 13...</td>\n",
       "    </tr>\n",
       "    <tr>\n",
       "      <th>8961</th>\n",
       "      <td>5159785486767620096</td>\n",
       "      <td>12</td>\n",
       "      <td>POLYGON ((2762491.584 1245745.332, 2762924.822...</td>\n",
       "      <td>[680729, 680728, 680730, 2409037, 332162, 6807...</td>\n",
       "    </tr>\n",
       "    <tr>\n",
       "      <th>8962</th>\n",
       "      <td>5159785761645527040</td>\n",
       "      <td>12</td>\n",
       "      <td>POLYGON ((2763886.581 1243422.966, 2764320.214...</td>\n",
       "      <td>[89060, 329644, 314974, 763044, 444398, 151767...</td>\n",
       "    </tr>\n",
       "    <tr>\n",
       "      <th>8963</th>\n",
       "      <td>5160198645441626112</td>\n",
       "      <td>13</td>\n",
       "      <td>POLYGON ((2823770.589 1207155.808, 2823996.257...</td>\n",
       "      <td>[2884162, 352744, 2884161, 907701, 907786, 553...</td>\n",
       "    </tr>\n",
       "  </tbody>\n",
       "</table>\n",
       "<p>8964 rows × 4 columns</p>\n",
       "</div>"
      ],
      "text/plain": [
       "                   loc_id  level  \\\n",
       "id                                 \n",
       "0     5152984577853095936     13   \n",
       "1     5152985557105639424     12   \n",
       "2     5152985677364723712     13   \n",
       "3     5152985711724462080     13   \n",
       "4     5152988254345101312     13   \n",
       "...                   ...    ...   \n",
       "8959  5159785125990367232     13   \n",
       "8960  5159785297789059072     13   \n",
       "8961  5159785486767620096     12   \n",
       "8962  5159785761645527040     12   \n",
       "8963  5160198645441626112     13   \n",
       "\n",
       "                                                   area  \\\n",
       "id                                                        \n",
       "0     POLYGON ((2822783.921 1167182.211, 2823009.157...   \n",
       "1     POLYGON ((2819340.510 1168587.568, 2819790.000...   \n",
       "2     POLYGON ((2816590.595 1168848.114, 2816814.904...   \n",
       "3     POLYGON ((2816814.904 1169906.317, 2817039.255...   \n",
       "4     POLYGON ((2830353.619 1167544.210, 2830580.004...   \n",
       "...                                                 ...   \n",
       "8959  POLYGON ((2758620.178 1245023.063, 2758836.180...   \n",
       "8960  POLYGON ((2759965.980 1247082.609, 2760182.201...   \n",
       "8961  POLYGON ((2762491.584 1245745.332, 2762924.822...   \n",
       "8962  POLYGON ((2763886.581 1243422.966, 2764320.214...   \n",
       "8963  POLYGON ((2823770.589 1207155.808, 2823996.257...   \n",
       "\n",
       "                                             poi_within  \n",
       "id                                                       \n",
       "0     [1321249, 1321313, 1321341, 1321325, 1321343, ...  \n",
       "1     [322841, 42965, 121298, 121299, 1404046, 16777...  \n",
       "2     [95060, 1483539, 232216, 2886149, 95061, 99850...  \n",
       "3     [408769, 49439, 390867, 51731, 998508, 95063, ...  \n",
       "4     [1787820, 1787829, 1787830, 1787837, 1787827, ...  \n",
       "...                                                 ...  \n",
       "8959  [3044777, 2334529, 189401, 2190426, 2206291, 2...  \n",
       "8960  [1362222, 1362200, 1362221, 1362198, 16652, 13...  \n",
       "8961  [680729, 680728, 680730, 2409037, 332162, 6807...  \n",
       "8962  [89060, 329644, 314974, 763044, 444398, 151767...  \n",
       "8963  [2884162, 352744, 2884161, 907701, 907786, 553...  \n",
       "\n",
       "[8964 rows x 4 columns]"
      ]
     },
     "execution_count": 71,
     "metadata": {},
     "output_type": "execute_result"
    }
   ],
   "source": [
    "all_locs"
   ]
  },
  {
   "cell_type": "code",
   "execution_count": 72,
   "metadata": {},
   "outputs": [],
   "source": [
    "# cleaning and expanding to location_id-poi_id pair\n",
    "all_locs.drop(columns=\"area\", inplace=True)\n",
    "\n",
    "# explode preserves nan - preserves locs with no poi\n",
    "locs_poi = all_locs.explode(column=\"poi_within\")"
   ]
  },
  {
   "cell_type": "code",
   "execution_count": 74,
   "metadata": {},
   "outputs": [],
   "source": [
    "# get the poi info from original poi df\n",
    "locs_poi = locs_poi.merge(poi[[\"id\", \"category\", \"code\"]], left_on=\"poi_within\", right_on=\"id\", how=\"left\")\n",
    "locs_poi.drop(columns=[\"id\"], inplace=True)"
   ]
  },
  {
   "cell_type": "code",
   "execution_count": 75,
   "metadata": {},
   "outputs": [
    {
     "data": {
      "text/html": [
       "<div>\n",
       "<style scoped>\n",
       "    .dataframe tbody tr th:only-of-type {\n",
       "        vertical-align: middle;\n",
       "    }\n",
       "\n",
       "    .dataframe tbody tr th {\n",
       "        vertical-align: top;\n",
       "    }\n",
       "\n",
       "    .dataframe thead th {\n",
       "        text-align: right;\n",
       "    }\n",
       "</style>\n",
       "<table border=\"1\" class=\"dataframe\">\n",
       "  <thead>\n",
       "    <tr style=\"text-align: right;\">\n",
       "      <th></th>\n",
       "      <th>loc_id</th>\n",
       "      <th>level</th>\n",
       "      <th>poi_within</th>\n",
       "      <th>category</th>\n",
       "      <th>code</th>\n",
       "    </tr>\n",
       "  </thead>\n",
       "  <tbody>\n",
       "    <tr>\n",
       "      <th>0</th>\n",
       "      <td>5152984577853095936</td>\n",
       "      <td>13</td>\n",
       "      <td>1321249</td>\n",
       "      <td>Unknown</td>\n",
       "      <td>1001.0</td>\n",
       "    </tr>\n",
       "    <tr>\n",
       "      <th>1</th>\n",
       "      <td>5152984577853095936</td>\n",
       "      <td>13</td>\n",
       "      <td>1321313</td>\n",
       "      <td>Unknown</td>\n",
       "      <td>1001.0</td>\n",
       "    </tr>\n",
       "    <tr>\n",
       "      <th>2</th>\n",
       "      <td>5152984577853095936</td>\n",
       "      <td>13</td>\n",
       "      <td>1321341</td>\n",
       "      <td>Unknown</td>\n",
       "      <td>1001.0</td>\n",
       "    </tr>\n",
       "    <tr>\n",
       "      <th>3</th>\n",
       "      <td>5152984577853095936</td>\n",
       "      <td>13</td>\n",
       "      <td>1321325</td>\n",
       "      <td>Unknown</td>\n",
       "      <td>1001.0</td>\n",
       "    </tr>\n",
       "    <tr>\n",
       "      <th>4</th>\n",
       "      <td>5152984577853095936</td>\n",
       "      <td>13</td>\n",
       "      <td>1321343</td>\n",
       "      <td>Unknown</td>\n",
       "      <td>1001.0</td>\n",
       "    </tr>\n",
       "    <tr>\n",
       "      <th>...</th>\n",
       "      <td>...</td>\n",
       "      <td>...</td>\n",
       "      <td>...</td>\n",
       "      <td>...</td>\n",
       "      <td>...</td>\n",
       "    </tr>\n",
       "    <tr>\n",
       "      <th>2368642</th>\n",
       "      <td>5160198645441626112</td>\n",
       "      <td>13</td>\n",
       "      <td>907772</td>\n",
       "      <td>Unknown</td>\n",
       "      <td>1001.0</td>\n",
       "    </tr>\n",
       "    <tr>\n",
       "      <th>2368643</th>\n",
       "      <td>5160198645441626112</td>\n",
       "      <td>13</td>\n",
       "      <td>907659</td>\n",
       "      <td>Unknown</td>\n",
       "      <td>1001.0</td>\n",
       "    </tr>\n",
       "    <tr>\n",
       "      <th>2368644</th>\n",
       "      <td>5160198645441626112</td>\n",
       "      <td>13</td>\n",
       "      <td>907855</td>\n",
       "      <td>Unknown</td>\n",
       "      <td>1001.0</td>\n",
       "    </tr>\n",
       "    <tr>\n",
       "      <th>2368645</th>\n",
       "      <td>5160198645441626112</td>\n",
       "      <td>13</td>\n",
       "      <td>38599</td>\n",
       "      <td>Transportation</td>\n",
       "      <td>5655.0</td>\n",
       "    </tr>\n",
       "    <tr>\n",
       "      <th>2368646</th>\n",
       "      <td>5160198645441626112</td>\n",
       "      <td>13</td>\n",
       "      <td>907705</td>\n",
       "      <td>Unknown</td>\n",
       "      <td>1001.0</td>\n",
       "    </tr>\n",
       "  </tbody>\n",
       "</table>\n",
       "<p>2368647 rows × 5 columns</p>\n",
       "</div>"
      ],
      "text/plain": [
       "                      loc_id  level poi_within        category    code\n",
       "0        5152984577853095936     13    1321249         Unknown  1001.0\n",
       "1        5152984577853095936     13    1321313         Unknown  1001.0\n",
       "2        5152984577853095936     13    1321341         Unknown  1001.0\n",
       "3        5152984577853095936     13    1321325         Unknown  1001.0\n",
       "4        5152984577853095936     13    1321343         Unknown  1001.0\n",
       "...                      ...    ...        ...             ...     ...\n",
       "2368642  5160198645441626112     13     907772         Unknown  1001.0\n",
       "2368643  5160198645441626112     13     907659         Unknown  1001.0\n",
       "2368644  5160198645441626112     13     907855         Unknown  1001.0\n",
       "2368645  5160198645441626112     13      38599  Transportation  5655.0\n",
       "2368646  5160198645441626112     13     907705         Unknown  1001.0\n",
       "\n",
       "[2368647 rows x 5 columns]"
      ]
     },
     "execution_count": 75,
     "metadata": {},
     "output_type": "execute_result"
    }
   ],
   "source": [
    "locs_poi"
   ]
  },
  {
   "cell_type": "code",
   "execution_count": 76,
   "metadata": {},
   "outputs": [],
   "source": [
    "# final cleaning\n",
    "valid_pairs = locs_poi.dropna(subset=[\"poi_within\"]).copy()\n",
    "valid_pairs[\"code\"] = valid_pairs[\"code\"].astype(int).astype(str)"
   ]
  },
  {
   "cell_type": "code",
   "execution_count": 79,
   "metadata": {},
   "outputs": [
    {
     "data": {
      "text/plain": [
       "8919"
      ]
     },
     "execution_count": 79,
     "metadata": {},
     "output_type": "execute_result"
    }
   ],
   "source": [
    "# some location does not have pois inside\n",
    "len(valid_pairs[\"loc_id\"].unique())"
   ]
  },
  {
   "cell_type": "markdown",
   "metadata": {},
   "source": [
    "## Get lda vector for each location"
   ]
  },
  {
   "cell_type": "code",
   "execution_count": 119,
   "metadata": {},
   "outputs": [],
   "source": [
    "def _lda(df, categories=16):\n",
    "    \"\"\"Note: deal with the osm assigned \"code\" field.\"\"\"\n",
    "    texts = df.groupby(\"loc_id\")[\"code\"].apply(list).to_list()\n",
    "\n",
    "    dct = Dictionary(texts)\n",
    "    corpus = [dct.doc2bow(line) for line in texts]\n",
    "\n",
    "    lda = LdaModel(corpus, num_topics=categories)\n",
    "    vector = lda[corpus]\n",
    "\n",
    "    # the lda array\n",
    "    dense_ldavector = gensim.matutils.corpus2dense(vector, num_terms=categories).T\n",
    "    # the index arr\n",
    "    index_arr = df.groupby(\"loc_id\", as_index=False).count()[\"loc_id\"].values\n",
    "\n",
    "    poiValues = pd.Series(list(dense_ldavector))\n",
    "    poiValues.index = index_arr\n",
    "\n",
    "    poiValues.name = \"poiValues\"\n",
    "    poiValues.index.name = \"loc_id\"\n",
    "\n",
    "    return poiValues.reset_index()\n",
    "\n",
    "poiValues = _lda(valid_pairs, categories=16)"
   ]
  },
  {
   "cell_type": "code",
   "execution_count": 127,
   "metadata": {},
   "outputs": [],
   "source": [
    "locs_poi = all_locs.merge(poiValues, on=\"loc_id\", how=\"left\")"
   ]
  },
  {
   "cell_type": "code",
   "execution_count": 139,
   "metadata": {},
   "outputs": [],
   "source": [
    "# assign all 0's to non-poi locations\n",
    "locs_poi.loc[locs_poi[\"poiValues\"].isna(), \"poiValues\"] = locs_poi.loc[locs_poi[\"poiValues\"].isna(), \"poiValues\"].apply(lambda x: np.zeros(16))"
   ]
  },
  {
   "cell_type": "code",
   "execution_count": 144,
   "metadata": {},
   "outputs": [],
   "source": [
    "locs_poi.drop(columns=\"poi_within\", inplace=True)"
   ]
  },
  {
   "cell_type": "markdown",
   "metadata": {},
   "source": [
    "## Calculate distance"
   ]
  },
  {
   "cell_type": "code",
   "execution_count": 186,
   "metadata": {},
   "outputs": [],
   "source": [
    "poiValues = locs_poi.sort_index()[\"poiValues\"].values\n",
    "poiValues = np.array([np.array(xi) for xi in poiValues])"
   ]
  },
  {
   "cell_type": "code",
   "execution_count": 195,
   "metadata": {},
   "outputs": [],
   "source": [
    "corr_distance = pdist(poiValues, 'correlation')\n",
    "corr_distance = squareform(corr_distance)\n",
    "# nan values receive the highest distance\n",
    "corr_distance[np.isnan(corr_distance)] = np.nanmax(corr_distance)"
   ]
  },
  {
   "cell_type": "code",
   "execution_count": 197,
   "metadata": {},
   "outputs": [
    {
     "data": {
      "text/plain": [
       "(8964, 8964)"
      ]
     },
     "execution_count": 197,
     "metadata": {},
     "output_type": "execute_result"
    }
   ],
   "source": [
    "corr_distance.shape"
   ]
  },
  {
   "cell_type": "markdown",
   "metadata": {},
   "source": [
    "## Save"
   ]
  },
  {
   "cell_type": "code",
   "execution_count": 198,
   "metadata": {},
   "outputs": [],
   "source": [
    "save_pk_file(\"./data/temp/function_matrix_test.pk\", corr_distance)"
   ]
  }
 ],
 "metadata": {
  "kernelspec": {
   "display_name": "Python 3 (ipykernel)",
   "language": "python",
   "name": "python3"
  },
  "language_info": {
   "codemirror_mode": {
    "name": "ipython",
    "version": 3
   },
   "file_extension": ".py",
   "mimetype": "text/x-python",
   "name": "python",
   "nbconvert_exporter": "python",
   "pygments_lexer": "ipython3",
   "version": "3.9.17"
  },
  "vscode": {
   "interpreter": {
    "hash": "659ffd3ea00dbbc52f857660b8dafea05f804bc55dd91047cefb31e38b5505f6"
   }
  }
 },
 "nbformat": 4,
 "nbformat_minor": 4
}
