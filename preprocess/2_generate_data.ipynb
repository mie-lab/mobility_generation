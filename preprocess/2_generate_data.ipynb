{
 "cells": [
  {
   "cell_type": "code",
   "execution_count": 1,
   "metadata": {
    "execution": {
     "iopub.execute_input": "2024-03-18T14:33:51.398198Z",
     "iopub.status.busy": "2024-03-18T14:33:51.398198Z",
     "iopub.status.idle": "2024-03-18T14:33:55.146506Z",
     "shell.execute_reply": "2024-03-18T14:33:55.146506Z",
     "shell.execute_reply.started": "2024-03-18T14:33:51.398198Z"
    }
   },
   "outputs": [],
   "source": [
    "import torch \n",
    "import numpy as np\n",
    "\n",
    "import math\n",
    "\n",
    "import os\n",
    "import pandas as pd\n",
    "import geopandas as gpd\n",
    "import pickle as pickle\n",
    "\n",
    "import shapely\n",
    "from shapely import wkt\n",
    "from tqdm import tqdm\n",
    "\n",
    "from gensim.corpora import Dictionary\n",
    "from gensim.models import TfidfModel, LdaModel\n",
    "import gensim\n",
    "\n",
    "from scipy.spatial.distance import pdist, squareform\n",
    "from sklearn.metrics import pairwise_distances\n",
    "\n",
    "import trackintel as ti\n",
    "from trackintel.geogr.distances import calculate_distance_matrix"
   ]
  },
  {
   "cell_type": "code",
   "execution_count": 2,
   "metadata": {
    "execution": {
     "iopub.execute_input": "2024-03-18T14:33:55.148012Z",
     "iopub.status.busy": "2024-03-18T14:33:55.148012Z",
     "iopub.status.idle": "2024-03-18T14:33:55.161381Z",
     "shell.execute_reply": "2024-03-18T14:33:55.161381Z",
     "shell.execute_reply.started": "2024-03-18T14:33:55.148012Z"
    }
   },
   "outputs": [
    {
     "data": {
      "text/plain": [
       "'1.2.4'"
      ]
     },
     "execution_count": 2,
     "metadata": {},
     "output_type": "execute_result"
    }
   ],
   "source": [
    "ti.__version__"
   ]
  },
  {
   "cell_type": "code",
   "execution_count": 3,
   "metadata": {
    "execution": {
     "iopub.execute_input": "2024-03-18T14:33:55.163377Z",
     "iopub.status.busy": "2024-03-18T14:33:55.162379Z",
     "iopub.status.idle": "2024-03-18T14:33:55.207999Z",
     "shell.execute_reply": "2024-03-18T14:33:55.207999Z",
     "shell.execute_reply.started": "2024-03-18T14:33:55.163377Z"
    }
   },
   "outputs": [],
   "source": [
    "import sys\n",
    "sys.path.insert(1, os.path.join(sys.path[0], '..'))\n",
    "\n",
    "from loc_predict.models.markov import markov_transition_prob\n",
    "from utils.utils import load_data\n",
    "from utils.dataloader import get_train_test\n",
    "\n",
    "def save_pk_file(save_path, data):\n",
    "    \"\"\"Function to save data to pickle format given data and path.\"\"\"\n",
    "    with open(save_path, \"wb\") as handle:\n",
    "        pickle.dump(data, handle, protocol=pickle.HIGHEST_PROTOCOL)"
   ]
  },
  {
   "cell_type": "markdown",
   "metadata": {},
   "source": [
    "# Pairwise distance matrix"
   ]
  },
  {
   "cell_type": "code",
   "execution_count": 12,
   "metadata": {
    "execution": {
     "iopub.execute_input": "2024-03-18T14:34:54.902119Z",
     "iopub.status.busy": "2024-03-18T14:34:54.901122Z",
     "iopub.status.idle": "2024-03-18T14:34:55.329631Z",
     "shell.execute_reply": "2024-03-18T14:34:55.329631Z",
     "shell.execute_reply.started": "2024-03-18T14:34:54.902119Z"
    }
   },
   "outputs": [],
   "source": [
    "visited_locs = pd.read_csv(\"../data/s2_loc_visited_level10_14.csv\", index_col=\"id\").sort_values(by=\"loc_id\")\n",
    "visited_locs[\"geometry\"] = visited_locs[\"geometry\"].apply(wkt.loads)\n",
    "visited_locs = gpd.GeoDataFrame(visited_locs, geometry=\"geometry\", crs=\"EPSG:4326\")\n",
    "\n",
    "visited_locs = visited_locs.to_crs(\"EPSG:2056\")"
   ]
  },
  {
   "cell_type": "code",
   "execution_count": 21,
   "metadata": {
    "execution": {
     "iopub.execute_input": "2024-03-18T14:37:39.917092Z",
     "iopub.status.busy": "2024-03-18T14:37:39.917092Z",
     "iopub.status.idle": "2024-03-18T14:37:39.926578Z",
     "shell.execute_reply": "2024-03-18T14:37:39.926578Z",
     "shell.execute_reply.started": "2024-03-18T14:37:39.917092Z"
    }
   },
   "outputs": [
    {
     "data": {
      "text/html": [
       "<div>\n",
       "<style scoped>\n",
       "    .dataframe tbody tr th:only-of-type {\n",
       "        vertical-align: middle;\n",
       "    }\n",
       "\n",
       "    .dataframe tbody tr th {\n",
       "        vertical-align: top;\n",
       "    }\n",
       "\n",
       "    .dataframe thead th {\n",
       "        text-align: right;\n",
       "    }\n",
       "</style>\n",
       "<table border=\"1\" class=\"dataframe\">\n",
       "  <thead>\n",
       "    <tr style=\"text-align: right;\">\n",
       "      <th></th>\n",
       "      <th>loc_id</th>\n",
       "      <th>level</th>\n",
       "      <th>geometry</th>\n",
       "    </tr>\n",
       "    <tr>\n",
       "      <th>id</th>\n",
       "      <th></th>\n",
       "      <th></th>\n",
       "      <th></th>\n",
       "    </tr>\n",
       "  </thead>\n",
       "  <tbody>\n",
       "    <tr>\n",
       "      <th>0</th>\n",
       "      <td>5152981090339651584</td>\n",
       "      <td>10</td>\n",
       "      <td>POINT (2824875.045 1159436.528)</td>\n",
       "    </tr>\n",
       "    <tr>\n",
       "      <th>1</th>\n",
       "      <td>5152984582148063232</td>\n",
       "      <td>14</td>\n",
       "      <td>POINT (2822264.816 1168040.708)</td>\n",
       "    </tr>\n",
       "    <tr>\n",
       "      <th>2</th>\n",
       "      <td>5152984590737997824</td>\n",
       "      <td>14</td>\n",
       "      <td>POINT (2822152.250 1167511.806)</td>\n",
       "    </tr>\n",
       "    <tr>\n",
       "      <th>3</th>\n",
       "      <td>5152985265047863296</td>\n",
       "      <td>13</td>\n",
       "      <td>POINT (2815796.126 1167304.569)</td>\n",
       "    </tr>\n",
       "    <tr>\n",
       "      <th>4</th>\n",
       "      <td>5152985299407601664</td>\n",
       "      <td>13</td>\n",
       "      <td>POINT (2816020.303 1168362.492)</td>\n",
       "    </tr>\n",
       "  </tbody>\n",
       "</table>\n",
       "</div>"
      ],
      "text/plain": [
       "                 loc_id  level                         geometry\n",
       "id                                                             \n",
       "0   5152981090339651584     10  POINT (2824875.045 1159436.528)\n",
       "1   5152984582148063232     14  POINT (2822264.816 1168040.708)\n",
       "2   5152984590737997824     14  POINT (2822152.250 1167511.806)\n",
       "3   5152985265047863296     13  POINT (2815796.126 1167304.569)\n",
       "4   5152985299407601664     13  POINT (2816020.303 1168362.492)"
      ]
     },
     "execution_count": 21,
     "metadata": {},
     "output_type": "execute_result"
    }
   ],
   "source": [
    "visited_locs.head()"
   ]
  },
  {
   "cell_type": "code",
   "execution_count": 18,
   "metadata": {
    "execution": {
     "iopub.execute_input": "2024-03-18T14:36:26.698207Z",
     "iopub.status.busy": "2024-03-18T14:36:26.698207Z",
     "iopub.status.idle": "2024-03-18T14:36:32.971715Z",
     "shell.execute_reply": "2024-03-18T14:36:32.971715Z",
     "shell.execute_reply.started": "2024-03-18T14:36:26.698207Z"
    }
   },
   "outputs": [],
   "source": [
    "def calculate_distance_matrix(X):\n",
    "    X = shapely.get_coordinates(X.geometry)\n",
    "\n",
    "    distance = pdist(X, 'euclidean')\n",
    "    dist_matrix = squareform(distance)\n",
    "    return dist_matrix\n",
    "    \n",
    "dist_matrix = calculate_distance_matrix(visited_locs)"
   ]
  },
  {
   "cell_type": "code",
   "execution_count": 19,
   "metadata": {
    "execution": {
     "iopub.execute_input": "2024-03-18T14:37:08.441910Z",
     "iopub.status.busy": "2024-03-18T14:37:08.441910Z",
     "iopub.status.idle": "2024-03-18T14:37:08.451392Z",
     "shell.execute_reply": "2024-03-18T14:37:08.451392Z",
     "shell.execute_reply.started": "2024-03-18T14:37:08.441910Z"
    }
   },
   "outputs": [
    {
     "data": {
      "text/plain": [
       "(28742, 28742)"
      ]
     },
     "execution_count": 19,
     "metadata": {},
     "output_type": "execute_result"
    }
   ],
   "source": [
    "dist_matrix.shape"
   ]
  },
  {
   "cell_type": "code",
   "execution_count": 22,
   "metadata": {
    "execution": {
     "iopub.execute_input": "2024-03-18T14:37:43.503339Z",
     "iopub.status.busy": "2024-03-18T14:37:43.503339Z",
     "iopub.status.idle": "2024-03-18T14:38:17.953354Z",
     "shell.execute_reply": "2024-03-18T14:38:17.953354Z",
     "shell.execute_reply.started": "2024-03-18T14:37:43.503339Z"
    }
   },
   "outputs": [],
   "source": [
    "save_pk_file(\"../data/matrix/distance.pk\", dist_matrix)"
   ]
  },
  {
   "cell_type": "markdown",
   "metadata": {},
   "source": [
    "# Empirical visit matrix"
   ]
  },
  {
   "cell_type": "code",
   "execution_count": 7,
   "metadata": {},
   "outputs": [],
   "source": [
    "sp = pd.read_csv(os.path.join(\"..\", \"data\", \"sp.csv\"), index_col=\"id\")\n",
    "loc = pd.read_csv(os.path.join(\"..\", \"data\", \"locs_s2.csv\"), index_col=\"id\")\n",
    "sp = load_data(sp, loc)\n",
    "\n",
    "all_locs = pd.read_csv(os.path.join(\".\", \"data\", \"test\", \"all_locations.csv\"), index_col=\"id\")\n",
    "all_locs[\"geometry\"] = all_locs[\"geometry\"].apply(wkt.loads)\n",
    "all_locs = gpd.GeoDataFrame(all_locs, geometry=\"geometry\", crs=\"EPSG:4326\")"
   ]
  },
  {
   "cell_type": "code",
   "execution_count": 8,
   "metadata": {},
   "outputs": [],
   "source": [
    "train_data, vali_data, test_data, all_locs = get_train_test(sp, all_locs=all_locs)"
   ]
  },
  {
   "cell_type": "code",
   "execution_count": 9,
   "metadata": {},
   "outputs": [],
   "source": [
    "transit_df = train_data.groupby(\"user_id\").apply(markov_transition_prob, n=1).reset_index().drop(columns=\"level_1\")"
   ]
  },
  {
   "cell_type": "code",
   "execution_count": 10,
   "metadata": {},
   "outputs": [
    {
     "name": "stderr",
     "output_type": "stream",
     "text": [
      "100%|██████████| 179399/179399 [00:00<00:00, 1117262.49it/s]\n"
     ]
    }
   ],
   "source": [
    "emp_matrix = np.zeros((len(all_locs), len(all_locs)))\n",
    "\n",
    "for pair in tqdm(transit_df[[\"loc_1\", \"toLoc\"]].values):\n",
    "    emp_matrix[pair[0], pair[1]] += 1"
   ]
  },
  {
   "cell_type": "code",
   "execution_count": 11,
   "metadata": {},
   "outputs": [
    {
     "data": {
      "text/plain": [
       "(8964, 8964)"
      ]
     },
     "execution_count": 11,
     "metadata": {},
     "output_type": "execute_result"
    }
   ],
   "source": [
    "emp_matrix.shape"
   ]
  },
  {
   "cell_type": "code",
   "execution_count": 42,
   "metadata": {},
   "outputs": [],
   "source": [
    "save_pk_file(\"./data/matrix/emp_matrix_test.pk\", emp_matrix)\n"
   ]
  },
  {
   "cell_type": "markdown",
   "metadata": {},
   "source": [
    "# POI distribution\n",
    "## Read location file"
   ]
  },
  {
   "cell_type": "code",
   "execution_count": 4,
   "metadata": {
    "execution": {
     "iopub.execute_input": "2024-03-16T22:08:51.622849Z",
     "iopub.status.busy": "2024-03-16T22:08:51.621343Z",
     "iopub.status.idle": "2024-03-16T22:08:54.559539Z",
     "shell.execute_reply": "2024-03-16T22:08:54.559539Z",
     "shell.execute_reply.started": "2024-03-16T22:08:51.622849Z"
    }
   },
   "outputs": [],
   "source": [
    "s2_loc = pd.read_csv(os.path.join(\"..\", \"data\", \"s2_loc_all_level10_14.csv\"), index_col=\"id\")\n",
    "\n",
    "s2_loc = s2_loc.drop(columns=\"geometry\").rename(columns={\"area\":\"geometry\"})\n",
    "s2_loc[\"geometry\"] = s2_loc[\"geometry\"].apply(wkt.loads)\n",
    "\n",
    "loc = gpd.GeoDataFrame(s2_loc, geometry=\"geometry\", crs=\"EPSG:4326\")\n",
    "loc = loc.to_crs(\"EPSG:2056\")"
   ]
  },
  {
   "cell_type": "code",
   "execution_count": 5,
   "metadata": {
    "execution": {
     "iopub.execute_input": "2024-03-16T22:08:54.561532Z",
     "iopub.status.busy": "2024-03-16T22:08:54.560535Z",
     "iopub.status.idle": "2024-03-16T22:08:54.592496Z",
     "shell.execute_reply": "2024-03-16T22:08:54.591499Z",
     "shell.execute_reply.started": "2024-03-16T22:08:54.561532Z"
    }
   },
   "outputs": [
    {
     "data": {
      "text/html": [
       "<div>\n",
       "<style scoped>\n",
       "    .dataframe tbody tr th:only-of-type {\n",
       "        vertical-align: middle;\n",
       "    }\n",
       "\n",
       "    .dataframe tbody tr th {\n",
       "        vertical-align: top;\n",
       "    }\n",
       "\n",
       "    .dataframe thead th {\n",
       "        text-align: right;\n",
       "    }\n",
       "</style>\n",
       "<table border=\"1\" class=\"dataframe\">\n",
       "  <thead>\n",
       "    <tr style=\"text-align: right;\">\n",
       "      <th></th>\n",
       "      <th>loc_id</th>\n",
       "      <th>level</th>\n",
       "      <th>freq</th>\n",
       "      <th>geometry</th>\n",
       "    </tr>\n",
       "    <tr>\n",
       "      <th>id</th>\n",
       "      <th></th>\n",
       "      <th></th>\n",
       "      <th></th>\n",
       "      <th></th>\n",
       "    </tr>\n",
       "  </thead>\n",
       "  <tbody>\n",
       "    <tr>\n",
       "      <th>0</th>\n",
       "      <td>5152981090339651584</td>\n",
       "      <td>10</td>\n",
       "      <td>1</td>\n",
       "      <td>POLYGON ((2827640.256 1154866.983, 2829448.495...</td>\n",
       "    </tr>\n",
       "    <tr>\n",
       "      <th>1</th>\n",
       "      <td>5152983289362907136</td>\n",
       "      <td>10</td>\n",
       "      <td>0</td>\n",
       "      <td>POLYGON ((2820309.073 1155559.663, 2822108.462...</td>\n",
       "    </tr>\n",
       "    <tr>\n",
       "      <th>2</th>\n",
       "      <td>5152984393169502208</td>\n",
       "      <td>14</td>\n",
       "      <td>0</td>\n",
       "      <td>POLYGON ((2822108.462 1164010.057, 2822221.013...</td>\n",
       "    </tr>\n",
       "    <tr>\n",
       "      <th>3</th>\n",
       "      <td>5152984401759436800</td>\n",
       "      <td>14</td>\n",
       "      <td>0</td>\n",
       "      <td>POLYGON ((2822221.013 1164538.626, 2822333.574...</td>\n",
       "    </tr>\n",
       "    <tr>\n",
       "      <th>4</th>\n",
       "      <td>5152984410349371392</td>\n",
       "      <td>14</td>\n",
       "      <td>0</td>\n",
       "      <td>POLYGON ((2821762.543 1164582.028, 2821875.069...</td>\n",
       "    </tr>\n",
       "    <tr>\n",
       "      <th>...</th>\n",
       "      <td>...</td>\n",
       "      <td>...</td>\n",
       "      <td>...</td>\n",
       "      <td>...</td>\n",
       "    </tr>\n",
       "    <tr>\n",
       "      <th>142570</th>\n",
       "      <td>5160199354111229952</td>\n",
       "      <td>14</td>\n",
       "      <td>0</td>\n",
       "      <td>POLYGON ((2825351.144 1214617.359, 2825464.119...</td>\n",
       "    </tr>\n",
       "    <tr>\n",
       "      <th>142571</th>\n",
       "      <td>5160199362701164544</td>\n",
       "      <td>14</td>\n",
       "      <td>0</td>\n",
       "      <td>POLYGON ((2824890.046 1214661.465, 2825002.986...</td>\n",
       "    </tr>\n",
       "    <tr>\n",
       "      <th>142572</th>\n",
       "      <td>5160199371291099136</td>\n",
       "      <td>14</td>\n",
       "      <td>0</td>\n",
       "      <td>POLYGON ((2825002.986 1215194.812, 2825115.937...</td>\n",
       "    </tr>\n",
       "    <tr>\n",
       "      <th>142573</th>\n",
       "      <td>5160199379881033728</td>\n",
       "      <td>14</td>\n",
       "      <td>0</td>\n",
       "      <td>POLYGON ((2825464.119 1215150.697, 2825577.105...</td>\n",
       "    </tr>\n",
       "    <tr>\n",
       "      <th>142574</th>\n",
       "      <td>5160222473920184320</td>\n",
       "      <td>10</td>\n",
       "      <td>0</td>\n",
       "      <td>POLYGON ((2831145.460 1206451.480, 2832960.889...</td>\n",
       "    </tr>\n",
       "  </tbody>\n",
       "</table>\n",
       "<p>142575 rows × 4 columns</p>\n",
       "</div>"
      ],
      "text/plain": [
       "                     loc_id  level  freq  \\\n",
       "id                                         \n",
       "0       5152981090339651584     10     1   \n",
       "1       5152983289362907136     10     0   \n",
       "2       5152984393169502208     14     0   \n",
       "3       5152984401759436800     14     0   \n",
       "4       5152984410349371392     14     0   \n",
       "...                     ...    ...   ...   \n",
       "142570  5160199354111229952     14     0   \n",
       "142571  5160199362701164544     14     0   \n",
       "142572  5160199371291099136     14     0   \n",
       "142573  5160199379881033728     14     0   \n",
       "142574  5160222473920184320     10     0   \n",
       "\n",
       "                                                 geometry  \n",
       "id                                                         \n",
       "0       POLYGON ((2827640.256 1154866.983, 2829448.495...  \n",
       "1       POLYGON ((2820309.073 1155559.663, 2822108.462...  \n",
       "2       POLYGON ((2822108.462 1164010.057, 2822221.013...  \n",
       "3       POLYGON ((2822221.013 1164538.626, 2822333.574...  \n",
       "4       POLYGON ((2821762.543 1164582.028, 2821875.069...  \n",
       "...                                                   ...  \n",
       "142570  POLYGON ((2825351.144 1214617.359, 2825464.119...  \n",
       "142571  POLYGON ((2824890.046 1214661.465, 2825002.986...  \n",
       "142572  POLYGON ((2825002.986 1215194.812, 2825115.937...  \n",
       "142573  POLYGON ((2825464.119 1215150.697, 2825577.105...  \n",
       "142574  POLYGON ((2831145.460 1206451.480, 2832960.889...  \n",
       "\n",
       "[142575 rows x 4 columns]"
      ]
     },
     "execution_count": 5,
     "metadata": {},
     "output_type": "execute_result"
    }
   ],
   "source": [
    "loc"
   ]
  },
  {
   "cell_type": "markdown",
   "metadata": {},
   "source": [
    "## Read POI file and preprocess\n",
    "### Places of Worship"
   ]
  },
  {
   "cell_type": "code",
   "execution_count": 9,
   "metadata": {
    "execution": {
     "iopub.execute_input": "2024-03-16T22:09:36.642550Z",
     "iopub.status.busy": "2024-03-16T22:09:36.642550Z",
     "iopub.status.idle": "2024-03-16T22:09:37.772660Z",
     "shell.execute_reply": "2024-03-16T22:09:37.772660Z",
     "shell.execute_reply.started": "2024-03-16T22:09:36.642550Z"
    }
   },
   "outputs": [],
   "source": [
    "# get all the pofws, 1\n",
    "pofw = gpd.read_file(os.path.join(\"..\", \"data\", \"poi\", \"ori\", \"gis_osm_pofw_free_1.shp\"))\n",
    "\n",
    "# area pofw transformed into points\n",
    "pofw_a = gpd.read_file(os.path.join(\"..\",\"data\", \"poi\", \"ori\", \"gis_osm_pofw_a_free_1.shp\"))\n",
    "pofw_a[\"geometry\"] = pofw_a.to_crs(\"EPSG:2056\").geometry.centroid.to_crs(\"EPSG:4326\")\n",
    "\n",
    "pofw = pd.concat([pofw, pofw_a])\n",
    "pofw = pofw.drop_duplicates(subset=\"osm_id\")"
   ]
  },
  {
   "cell_type": "markdown",
   "metadata": {},
   "source": [
    "### Transport Infrastructure"
   ]
  },
  {
   "cell_type": "code",
   "execution_count": 10,
   "metadata": {
    "execution": {
     "iopub.execute_input": "2024-03-16T22:09:47.585887Z",
     "iopub.status.busy": "2024-03-16T22:09:47.585887Z",
     "iopub.status.idle": "2024-03-16T22:09:52.295691Z",
     "shell.execute_reply": "2024-03-16T22:09:52.295691Z",
     "shell.execute_reply.started": "2024-03-16T22:09:47.585887Z"
    }
   },
   "outputs": [],
   "source": [
    "# get all the transport\n",
    "transport = gpd.read_file(os.path.join(\"..\", \"data\", \"poi\", \"ori\", \"gis_osm_transport_free_1.shp\"))\n",
    "\n",
    "# area transport transformed into points\n",
    "transport_a = gpd.read_file(os.path.join(\"..\", \"data\", \"poi\", \"ori\", \"gis_osm_transport_a_free_1.shp\"))\n",
    "transport_a[\"geometry\"] = transport_a.to_crs(\"EPSG:2056\").geometry.centroid.to_crs(\"EPSG:4326\")\n",
    "\n",
    "transport = pd.concat([transport, transport_a])\n",
    "transport = transport.drop_duplicates(subset=\"osm_id\")"
   ]
  },
  {
   "cell_type": "markdown",
   "metadata": {},
   "source": [
    "### Natural Features "
   ]
  },
  {
   "cell_type": "code",
   "execution_count": 11,
   "metadata": {
    "execution": {
     "iopub.execute_input": "2024-03-16T22:10:11.461185Z",
     "iopub.status.busy": "2024-03-16T22:10:11.461185Z",
     "iopub.status.idle": "2024-03-16T22:11:38.004539Z",
     "shell.execute_reply": "2024-03-16T22:11:38.004539Z",
     "shell.execute_reply.started": "2024-03-16T22:10:11.461185Z"
    }
   },
   "outputs": [],
   "source": [
    "# \n",
    "natural = gpd.read_file(os.path.join(\"..\", \"data\", \"poi\", \"ori\", \"gis_osm_natural_free_1.shp\"))\n",
    "\n",
    "# drop the trees: code = 4121\n",
    "natural = natural.loc[natural[\"code\"] != 4121]\n",
    "\n",
    "# area natural transformed into points\n",
    "natural_a = gpd.read_file(os.path.join(\"..\", \"data\", \"poi\", \"ori\", \"gis_osm_natural_a_free_1.shp\"))\n",
    "natural_a = natural_a.loc[natural_a[\"code\"] != 4121]\n",
    "natural_a[\"geometry\"] = natural_a.to_crs(\"EPSG:2056\").geometry.centroid.to_crs(\"EPSG:4326\")\n",
    "\n",
    "natural = pd.concat([natural, natural_a])\n",
    "natural = natural.drop_duplicates(subset=\"osm_id\")"
   ]
  },
  {
   "cell_type": "code",
   "execution_count": 12,
   "metadata": {
    "execution": {
     "iopub.execute_input": "2024-03-16T22:11:38.006534Z",
     "iopub.status.busy": "2024-03-16T22:11:38.005537Z",
     "iopub.status.idle": "2024-03-16T22:11:38.019936Z",
     "shell.execute_reply": "2024-03-16T22:11:38.019936Z",
     "shell.execute_reply.started": "2024-03-16T22:11:38.005537Z"
    }
   },
   "outputs": [
    {
     "data": {
      "text/plain": [
       "code\n",
       "4111    7098\n",
       "4103    1041\n",
       "4141     539\n",
       "4132     477\n",
       "4101     421\n",
       "4112     297\n",
       "Name: count, dtype: int64"
      ]
     },
     "execution_count": 12,
     "metadata": {},
     "output_type": "execute_result"
    }
   ],
   "source": [
    "natural[\"code\"].value_counts()"
   ]
  },
  {
   "cell_type": "markdown",
   "metadata": {},
   "source": [
    "### POIs"
   ]
  },
  {
   "cell_type": "code",
   "execution_count": 13,
   "metadata": {
    "execution": {
     "iopub.execute_input": "2024-03-16T22:11:38.020934Z",
     "iopub.status.busy": "2024-03-16T22:11:38.020934Z",
     "iopub.status.idle": "2024-03-16T22:12:23.272360Z",
     "shell.execute_reply": "2024-03-16T22:12:23.272360Z",
     "shell.execute_reply.started": "2024-03-16T22:11:38.020934Z"
    }
   },
   "outputs": [],
   "source": [
    "# \n",
    "poi = gpd.read_file(os.path.join(\"..\", \"data\", \"poi\", \"ori\", \"gis_osm_pois_free_1.shp\"))\n",
    "\n",
    "# area poi transformed into points\n",
    "poi_a = gpd.read_file(os.path.join(\"..\", \"data\", \"poi\", \"ori\", \"gis_osm_pois_a_free_1.shp\"))\n",
    "poi_a[\"geometry\"] = poi_a.to_crs(\"EPSG:2056\").geometry.centroid.to_crs(\"EPSG:4326\")\n",
    "\n",
    "poi = pd.concat([poi, poi_a])\n",
    "poi = poi.drop_duplicates(subset=\"osm_id\")"
   ]
  },
  {
   "cell_type": "code",
   "execution_count": 14,
   "metadata": {
    "execution": {
     "iopub.execute_input": "2024-03-16T22:12:23.273727Z",
     "iopub.status.busy": "2024-03-16T22:12:23.273727Z",
     "iopub.status.idle": "2024-03-16T22:12:23.287441Z",
     "shell.execute_reply": "2024-03-16T22:12:23.287441Z",
     "shell.execute_reply.started": "2024-03-16T22:12:23.273727Z"
    }
   },
   "outputs": [
    {
     "data": {
      "text/plain": [
       "code\n",
       "2902    68205\n",
       "2701    43136\n",
       "2252    23546\n",
       "2253    22747\n",
       "2301    17357\n",
       "        ...  \n",
       "2530       14\n",
       "2955       10\n",
       "2736        9\n",
       "2737        8\n",
       "2954        3\n",
       "Name: count, Length: 139, dtype: int64"
      ]
     },
     "execution_count": 14,
     "metadata": {},
     "output_type": "execute_result"
    }
   ],
   "source": [
    "poi[\"code\"].value_counts()"
   ]
  },
  {
   "cell_type": "markdown",
   "metadata": {},
   "source": [
    "### Traffic"
   ]
  },
  {
   "cell_type": "code",
   "execution_count": 18,
   "metadata": {
    "execution": {
     "iopub.execute_input": "2024-03-16T22:25:09.110458Z",
     "iopub.status.busy": "2024-03-16T22:25:09.110458Z",
     "iopub.status.idle": "2024-03-16T22:25:34.275892Z",
     "shell.execute_reply": "2024-03-16T22:25:34.275119Z",
     "shell.execute_reply.started": "2024-03-16T22:25:09.110458Z"
    }
   },
   "outputs": [],
   "source": [
    "# get the parking slots of traffic point file\n",
    "traffic = gpd.read_file(os.path.join(\"..\",\"data\", \"poi\", \"ori\", \"gis_osm_traffic_free_1.shp\"))\n",
    "\n",
    "# drop the crossing, turning_circle, street_lamp: code = 5204, 5207, 5209\n",
    "traffic = traffic.loc[~traffic[\"code\"].isin([5204, 5207, 5209])]\n",
    "\n",
    "# area traffic transformed into points\n",
    "traffic_a = gpd.read_file(os.path.join(\"..\", \"data\", \"poi\", \"ori\", \"gis_osm_traffic_a_free_1.shp\"))\n",
    "traffic_a[\"geometry\"] = traffic_a.to_crs(\"EPSG:2056\").geometry.centroid.to_crs(\"EPSG:4326\")\n",
    "\n",
    "traffic = pd.concat([traffic, traffic_a])\n",
    "traffic = traffic.drop_duplicates(subset=\"osm_id\")"
   ]
  },
  {
   "cell_type": "code",
   "execution_count": 19,
   "metadata": {
    "execution": {
     "iopub.execute_input": "2024-03-16T22:25:34.276890Z",
     "iopub.status.busy": "2024-03-16T22:25:34.276890Z",
     "iopub.status.idle": "2024-03-16T22:25:34.290940Z",
     "shell.execute_reply": "2024-03-16T22:25:34.290940Z",
     "shell.execute_reply.started": "2024-03-16T22:25:34.276890Z"
    }
   },
   "outputs": [
    {
     "data": {
      "text/plain": [
       "code\n",
       "5260    60568\n",
       "5270    10432\n",
       "5201     6064\n",
       "5250     3621\n",
       "5203     3029\n",
       "5263     2436\n",
       "5303     1234\n",
       "5321     1138\n",
       "5206      994\n",
       "5332      582\n",
       "5208      547\n",
       "5302      462\n",
       "5262      396\n",
       "5301      318\n",
       "5202      300\n",
       "5311      166\n",
       "5251       64\n",
       "5331        9\n",
       "Name: count, dtype: int64"
      ]
     },
     "execution_count": 19,
     "metadata": {},
     "output_type": "execute_result"
    }
   ],
   "source": [
    "traffic[\"code\"].value_counts()"
   ]
  },
  {
   "cell_type": "markdown",
   "metadata": {},
   "source": [
    "### Building"
   ]
  },
  {
   "cell_type": "code",
   "execution_count": 44,
   "metadata": {
    "execution": {
     "iopub.execute_input": "2024-03-16T22:40:13.405884Z",
     "iopub.status.busy": "2024-03-16T22:40:13.405884Z",
     "iopub.status.idle": "2024-03-16T22:46:50.150435Z",
     "shell.execute_reply": "2024-03-16T22:46:50.150435Z",
     "shell.execute_reply.started": "2024-03-16T22:40:13.405884Z"
    }
   },
   "outputs": [],
   "source": [
    "buildings = gpd.read_file(os.path.join(\"..\", \"data\", \"poi\", \"ori\", \"gis_osm_buildings_a_free_1.shp\"))\n",
    "\n",
    "# all building get the same code 1500\n",
    "buildings[\"geometry\"] = buildings.to_crs(\"EPSG:2056\").geometry.centroid.to_crs(\"EPSG:4326\")"
   ]
  },
  {
   "cell_type": "code",
   "execution_count": 45,
   "metadata": {
    "execution": {
     "iopub.execute_input": "2024-03-16T22:46:52.532126Z",
     "iopub.status.busy": "2024-03-16T22:46:52.532126Z",
     "iopub.status.idle": "2024-03-16T22:46:52.555221Z",
     "shell.execute_reply": "2024-03-16T22:46:52.555221Z",
     "shell.execute_reply.started": "2024-03-16T22:46:52.532126Z"
    }
   },
   "outputs": [
    {
     "data": {
      "text/plain": [
       "code\n",
       "1500    2584180\n",
       "Name: count, dtype: int64"
      ]
     },
     "execution_count": 45,
     "metadata": {},
     "output_type": "execute_result"
    }
   ],
   "source": [
    "buildings[\"code\"].value_counts()"
   ]
  },
  {
   "cell_type": "markdown",
   "metadata": {},
   "source": [
    "### Combine all types of POIs"
   ]
  },
  {
   "cell_type": "code",
   "execution_count": 51,
   "metadata": {
    "execution": {
     "iopub.execute_input": "2024-03-16T22:48:11.223501Z",
     "iopub.status.busy": "2024-03-16T22:48:11.223501Z",
     "iopub.status.idle": "2024-03-16T22:48:12.043684Z",
     "shell.execute_reply": "2024-03-16T22:48:12.043684Z",
     "shell.execute_reply.started": "2024-03-16T22:48:11.223501Z"
    }
   },
   "outputs": [],
   "source": [
    "# concat all the pois\n",
    "poi_gdf = pd.concat([pofw, transport, natural, poi, traffic, buildings])\n",
    "poi_gdf.drop(columns={\"type\"}, inplace=True)"
   ]
  },
  {
   "cell_type": "code",
   "execution_count": 52,
   "metadata": {
    "execution": {
     "iopub.execute_input": "2024-03-16T22:49:19.793641Z",
     "iopub.status.busy": "2024-03-16T22:49:19.793641Z",
     "iopub.status.idle": "2024-03-16T22:49:19.829652Z",
     "shell.execute_reply": "2024-03-16T22:49:19.828655Z",
     "shell.execute_reply.started": "2024-03-16T22:49:19.793641Z"
    }
   },
   "outputs": [
    {
     "data": {
      "text/plain": [
       "code\n",
       "1500    2584180\n",
       "2902      68205\n",
       "5260      60568\n",
       "2701      43136\n",
       "5621      34700\n",
       "         ...   \n",
       "3301          7\n",
       "3500          7\n",
       "3106          6\n",
       "2954          3\n",
       "5652          2\n",
       "Name: count, Length: 188, dtype: int64"
      ]
     },
     "execution_count": 52,
     "metadata": {},
     "output_type": "execute_result"
    }
   ],
   "source": [
    "poi_gdf[\"code\"].value_counts()"
   ]
  },
  {
   "cell_type": "markdown",
   "metadata": {},
   "source": [
    "## Assign to poi category"
   ]
  },
  {
   "cell_type": "code",
   "execution_count": 57,
   "metadata": {
    "execution": {
     "iopub.execute_input": "2024-03-16T22:53:35.294775Z",
     "iopub.status.busy": "2024-03-16T22:53:35.294775Z",
     "iopub.status.idle": "2024-03-16T22:53:35.585789Z",
     "shell.execute_reply": "2024-03-16T22:53:35.584791Z",
     "shell.execute_reply.started": "2024-03-16T22:53:35.294775Z"
    }
   },
   "outputs": [
    {
     "name": "stdout",
     "output_type": "stream",
     "text": [
      "category\n",
      "Others            2699673\n",
      "Entertainment      149791\n",
      "Transportation     131733\n",
      "Residential         50254\n",
      "Shopping            47979\n",
      "Services             9554\n",
      "Schools              9142\n",
      "Civic                6464\n",
      "Name: count, dtype: int64\n"
     ]
    }
   ],
   "source": [
    "def _assign_category(df):\n",
    "    # 2018 Hong: Life services, Office building/space, Other facilities, Medical/Education, Entertainment, Government, Residence communities, Financial services\n",
    "    # 2021 Yin : Residential, Hotel/resort, Mixed-use, K–12 schools, University/college, Office/workplace, Services, Civic/religious, Shopping/retail, Recreation/entertainment, Transportation, Others\n",
    "\n",
    "    ### osm code -> 2018 Hong -> 2021 Yin\n",
    "    # public 20xx  -> Residence communities ->  Residential\n",
    "    #    university + school + kindergarten + college (208x) -> Medical/Education -> K–12 schools/University/college\n",
    "    # health 21xx -> Medical/Education -> Services\n",
    "    # leisure 22xx -> Entertainment -> Recreation/entertainment\n",
    "    # catering 23xx -> Life services -> Residential\n",
    "    # accommodation 24xx -> Entertainment -> Hotel/resort\n",
    "    # shopping 25xx -> Life services -> Shopping/retail\n",
    "    # money 26xx -> Financial services -> Services\n",
    "    # tourism 27xx -> Entertainment -> Recreation/entertainment\n",
    "    # pofw 3xxx -> Life services -> Civic/religious\n",
    "    # natural 41xx -> Entertainment -> Recreation/entertainment\n",
    "    # transport 56xx -> Other facilities -> Transportation\n",
    "    # miscpoi 29xx -> Other facilities -> Others\n",
    "\n",
    "    # note: miscpoi contains \"bench\" or \"drinking_water\" that might not reveal any landuse info\n",
    "\n",
    "    # init\n",
    "    df[\"category\"] = \"Unknown\"\n",
    "\n",
    "    # public 20xx  -> Residence communities ->  Residential\n",
    "    #    university + school + kindergarten + college (208x) -> Medical/Education -> K–12 schools/University/college\n",
    "    df.loc[(df[\"code\"] > 2000) & (df[\"code\"] < 2100), \"category\"] = \"Residential\"\n",
    "    df.loc[(df[\"code\"] > 2080) & (df[\"code\"] < 2090), \"category\"] = \"Schools\"\n",
    "\n",
    "    # health 21xx -> Medical/Education -> Services\n",
    "    df.loc[(df[\"code\"] > 2100) & (df[\"code\"] < 2200), \"category\"] = \"Services\"\n",
    "\n",
    "    # leisure 22xx -> Entertainment -> Recreation/entertainment\n",
    "    df.loc[(df[\"code\"] > 2200) & (df[\"code\"] < 2300), \"category\"] = \"Entertainment\"\n",
    "\n",
    "    # catering 23xx -> Life services -> Residential\n",
    "    df.loc[(df[\"code\"] > 2300) & (df[\"code\"] < 2400), \"category\"] = \"Residential\"\n",
    "\n",
    "    # accommodation 24xx -> Entertainment -> Hotel/resort\n",
    "    df.loc[(df[\"code\"] > 2400) & (df[\"code\"] < 2500), \"category\"] = \"Entertainment\"\n",
    "\n",
    "    # shopping 25xx -> Life services -> Shopping/retail\n",
    "    df.loc[(df[\"code\"] > 2500) & (df[\"code\"] < 2600), \"category\"] = \"Shopping\"\n",
    "\n",
    "    # money 26xx -> Financial services -> Services\n",
    "    df.loc[(df[\"code\"] > 2600) & (df[\"code\"] < 2700), \"category\"] = \"Services\"\n",
    "\n",
    "    # tourism 27xx -> Entertainment -> Recreation/entertainment\n",
    "    df.loc[(df[\"code\"] > 2700) & (df[\"code\"] < 2800), \"category\"] = \"Entertainment\"\n",
    "\n",
    "    # miscpoi 29xx -> Other facilities -> Others\n",
    "    df.loc[(df[\"code\"] > 2900) & (df[\"code\"] < 3000), \"category\"] = \"Others\"\n",
    "    df.loc[(df[\"code\"] == 1500), \"category\"] = \"Others\"\n",
    "\n",
    "    # pofw 3xxx -> Life services -> Civic/religious\n",
    "    df.loc[(df[\"code\"] > 3000) & (df[\"code\"] < 4000), \"category\"] = \"Civic\"\n",
    "\n",
    "    # natural 41xx -> Entertainment -> Recreation/entertainment\n",
    "    df.loc[(df[\"code\"] > 4000) & (df[\"code\"] < 5000), \"category\"] = \"Entertainment\"\n",
    "\n",
    "    # transport 56xx -> Other facilities -> Transportation\n",
    "    df.loc[(df[\"code\"] > 5600) & (df[\"code\"] < 5700), \"category\"] = \"Transportation\"\n",
    "    # traffic 54xx -> Other facilities -> Transportation\n",
    "    df.loc[(df[\"code\"] > 5200) & (df[\"code\"] < 5400), \"category\"] = \"Transportation\"\n",
    "\n",
    "    # Unknown           2737932\n",
    "    # Others             127119\n",
    "    # Entertainment       93521\n",
    "    # Shopping            48116\n",
    "    # Residential         42271\n",
    "    # Transportation      39290\n",
    "    # Services             9010\n",
    "    # Schools              2850\n",
    "    # Civic                 765\n",
    "\n",
    "    print(df[\"category\"].value_counts())\n",
    "    return df\n",
    "\n",
    "poi_category_gdf = _assign_category(poi_gdf)"
   ]
  },
  {
   "cell_type": "code",
   "execution_count": 59,
   "metadata": {
    "execution": {
     "iopub.execute_input": "2024-03-16T22:53:52.411433Z",
     "iopub.status.busy": "2024-03-16T22:53:52.409927Z",
     "iopub.status.idle": "2024-03-16T22:53:52.437135Z",
     "shell.execute_reply": "2024-03-16T22:53:52.437135Z",
     "shell.execute_reply.started": "2024-03-16T22:53:52.409927Z"
    }
   },
   "outputs": [
    {
     "data": {
      "text/plain": [
       "(3104590, 3104590)"
      ]
     },
     "execution_count": 59,
     "metadata": {},
     "output_type": "execute_result"
    }
   ],
   "source": [
    "len(poi_category_gdf), poi_category_gdf[\"code\"].value_counts().sum()"
   ]
  },
  {
   "cell_type": "markdown",
   "metadata": {
    "execution": {
     "iopub.execute_input": "2024-03-16T22:54:01.098277Z",
     "iopub.status.busy": "2024-03-16T22:54:01.097281Z",
     "iopub.status.idle": "2024-03-16T22:54:01.113366Z",
     "shell.execute_reply": "2024-03-16T22:54:01.113366Z",
     "shell.execute_reply.started": "2024-03-16T22:54:01.098277Z"
    }
   },
   "source": [
    "## Final cleaning and safe"
   ]
  },
  {
   "cell_type": "code",
   "execution_count": 61,
   "metadata": {
    "execution": {
     "iopub.execute_input": "2024-03-16T22:54:57.158365Z",
     "iopub.status.busy": "2024-03-16T22:54:57.158365Z",
     "iopub.status.idle": "2024-03-16T22:59:04.384837Z",
     "shell.execute_reply": "2024-03-16T22:59:04.383845Z",
     "shell.execute_reply.started": "2024-03-16T22:54:57.158365Z"
    }
   },
   "outputs": [],
   "source": [
    "# final cleaning\n",
    "poi_category_gdf.drop(columns=[\"osm_id\", \"fclass\"], inplace=True)\n",
    "# reindex\n",
    "poi_category_gdf.reset_index(drop=True, inplace=True)\n",
    "poi_category_gdf.index.name = \"id\"\n",
    "poi_category_gdf.reset_index(inplace=True)\n",
    "\n",
    "# change the projection and save\n",
    "poi_category_gdf =poi_category_gdf.to_crs(\"EPSG:2056\")\n",
    "poi_category_gdf.to_file(os.path.join(\"..\", \"data\", \"poi\", \"final_pois.shp\"))"
   ]
  },
  {
   "cell_type": "markdown",
   "metadata": {},
   "source": [
    "## Get location poi pair"
   ]
  },
  {
   "cell_type": "code",
   "execution_count": 62,
   "metadata": {
    "execution": {
     "iopub.execute_input": "2024-03-16T22:59:46.829266Z",
     "iopub.status.busy": "2024-03-16T22:59:46.829266Z",
     "iopub.status.idle": "2024-03-16T23:05:30.411771Z",
     "shell.execute_reply": "2024-03-16T23:05:30.410772Z",
     "shell.execute_reply.started": "2024-03-16T22:59:46.829266Z"
    }
   },
   "outputs": [],
   "source": [
    "# read poi file\n",
    "poi = gpd.read_file(os.path.join(\"..\", \"data\", \"poi\", \"final_pois.shp\"))\n",
    "spatial_index = poi.sindex"
   ]
  },
  {
   "cell_type": "code",
   "execution_count": 63,
   "metadata": {
    "execution": {
     "iopub.execute_input": "2024-03-16T23:08:35.830045Z",
     "iopub.status.busy": "2024-03-16T23:08:35.829048Z",
     "iopub.status.idle": "2024-03-16T23:08:35.857541Z",
     "shell.execute_reply": "2024-03-16T23:08:35.856543Z",
     "shell.execute_reply.started": "2024-03-16T23:08:35.830045Z"
    }
   },
   "outputs": [
    {
     "data": {
      "text/plain": [
       "(3104590, 3104590)"
      ]
     },
     "execution_count": 63,
     "metadata": {},
     "output_type": "execute_result"
    }
   ],
   "source": [
    "len(poi), poi[\"code\"].value_counts().sum()"
   ]
  },
  {
   "cell_type": "code",
   "execution_count": 65,
   "metadata": {
    "execution": {
     "iopub.execute_input": "2024-03-16T23:10:00.459572Z",
     "iopub.status.busy": "2024-03-16T23:10:00.459572Z",
     "iopub.status.idle": "2024-03-16T23:14:26.721880Z",
     "shell.execute_reply": "2024-03-16T23:14:26.721880Z",
     "shell.execute_reply.started": "2024-03-16T23:10:00.459572Z"
    }
   },
   "outputs": [
    {
     "name": "stderr",
     "output_type": "stream",
     "text": [
      "Generating poi within: 100%|██████████████████████████████████████████████████| 142575/142575 [04:26<00:00, 535.51it/s]\n"
     ]
    }
   ],
   "source": [
    "def _get_inside_pois(df, poi, spatial_index):\n",
    "    \"\"\"\n",
    "    Given one extent (df), return the poi within this extent.\n",
    "    spatial_index is obtained from poi.sindex to speed up the process.\n",
    "    \"\"\"\n",
    "    possible_matches_index = list(spatial_index.intersection(df.bounds))\n",
    "    possible_matches = poi.iloc[possible_matches_index]\n",
    "    precise_matches = possible_matches[possible_matches.within(df)][\"id\"].values\n",
    "\n",
    "    return precise_matches\n",
    "\n",
    "# get the inside poi within each location\n",
    "tqdm.pandas(desc=\"Generating poi within\")\n",
    "loc[\"poi_within\"] = loc[\"geometry\"].progress_apply(\n",
    "    _get_inside_pois, poi=poi, spatial_index=spatial_index\n",
    ")"
   ]
  },
  {
   "cell_type": "code",
   "execution_count": 66,
   "metadata": {
    "execution": {
     "iopub.execute_input": "2024-03-16T23:15:08.839119Z",
     "iopub.status.busy": "2024-03-16T23:15:08.839119Z",
     "iopub.status.idle": "2024-03-16T23:15:08.864816Z",
     "shell.execute_reply": "2024-03-16T23:15:08.863818Z",
     "shell.execute_reply.started": "2024-03-16T23:15:08.839119Z"
    }
   },
   "outputs": [
    {
     "data": {
      "text/html": [
       "<div>\n",
       "<style scoped>\n",
       "    .dataframe tbody tr th:only-of-type {\n",
       "        vertical-align: middle;\n",
       "    }\n",
       "\n",
       "    .dataframe tbody tr th {\n",
       "        vertical-align: top;\n",
       "    }\n",
       "\n",
       "    .dataframe thead th {\n",
       "        text-align: right;\n",
       "    }\n",
       "</style>\n",
       "<table border=\"1\" class=\"dataframe\">\n",
       "  <thead>\n",
       "    <tr style=\"text-align: right;\">\n",
       "      <th></th>\n",
       "      <th>loc_id</th>\n",
       "      <th>level</th>\n",
       "      <th>freq</th>\n",
       "      <th>geometry</th>\n",
       "      <th>poi_within</th>\n",
       "    </tr>\n",
       "    <tr>\n",
       "      <th>id</th>\n",
       "      <th></th>\n",
       "      <th></th>\n",
       "      <th></th>\n",
       "      <th></th>\n",
       "      <th></th>\n",
       "    </tr>\n",
       "  </thead>\n",
       "  <tbody>\n",
       "    <tr>\n",
       "      <th>0</th>\n",
       "      <td>5152981090339651584</td>\n",
       "      <td>10</td>\n",
       "      <td>1</td>\n",
       "      <td>POLYGON ((2827640.256 1154866.983, 2829448.495...</td>\n",
       "      <td>[46461, 46466, 46467, 47482, 46465, 47487, 144...</td>\n",
       "    </tr>\n",
       "    <tr>\n",
       "      <th>1</th>\n",
       "      <td>5152983289362907136</td>\n",
       "      <td>10</td>\n",
       "      <td>0</td>\n",
       "      <td>POLYGON ((2820309.073 1155559.663, 2822108.462...</td>\n",
       "      <td>[46462, 46460, 45903, 46464, 47479, 47481, 464...</td>\n",
       "    </tr>\n",
       "    <tr>\n",
       "      <th>2</th>\n",
       "      <td>5152984393169502208</td>\n",
       "      <td>14</td>\n",
       "      <td>0</td>\n",
       "      <td>POLYGON ((2822108.462 1164010.057, 2822221.013...</td>\n",
       "      <td>[]</td>\n",
       "    </tr>\n",
       "    <tr>\n",
       "      <th>3</th>\n",
       "      <td>5152984401759436800</td>\n",
       "      <td>14</td>\n",
       "      <td>0</td>\n",
       "      <td>POLYGON ((2822221.013 1164538.626, 2822333.574...</td>\n",
       "      <td>[]</td>\n",
       "    </tr>\n",
       "    <tr>\n",
       "      <th>4</th>\n",
       "      <td>5152984410349371392</td>\n",
       "      <td>14</td>\n",
       "      <td>0</td>\n",
       "      <td>POLYGON ((2821762.543 1164582.028, 2821875.069...</td>\n",
       "      <td>[]</td>\n",
       "    </tr>\n",
       "    <tr>\n",
       "      <th>...</th>\n",
       "      <td>...</td>\n",
       "      <td>...</td>\n",
       "      <td>...</td>\n",
       "      <td>...</td>\n",
       "      <td>...</td>\n",
       "    </tr>\n",
       "    <tr>\n",
       "      <th>142570</th>\n",
       "      <td>5160199354111229952</td>\n",
       "      <td>14</td>\n",
       "      <td>0</td>\n",
       "      <td>POLYGON ((2825351.144 1214617.359, 2825464.119...</td>\n",
       "      <td>[]</td>\n",
       "    </tr>\n",
       "    <tr>\n",
       "      <th>142571</th>\n",
       "      <td>5160199362701164544</td>\n",
       "      <td>14</td>\n",
       "      <td>0</td>\n",
       "      <td>POLYGON ((2824890.046 1214661.465, 2825002.986...</td>\n",
       "      <td>[]</td>\n",
       "    </tr>\n",
       "    <tr>\n",
       "      <th>142572</th>\n",
       "      <td>5160199371291099136</td>\n",
       "      <td>14</td>\n",
       "      <td>0</td>\n",
       "      <td>POLYGON ((2825002.986 1215194.812, 2825115.937...</td>\n",
       "      <td>[]</td>\n",
       "    </tr>\n",
       "    <tr>\n",
       "      <th>142573</th>\n",
       "      <td>5160199379881033728</td>\n",
       "      <td>14</td>\n",
       "      <td>0</td>\n",
       "      <td>POLYGON ((2825464.119 1215150.697, 2825577.105...</td>\n",
       "      <td>[]</td>\n",
       "    </tr>\n",
       "    <tr>\n",
       "      <th>142574</th>\n",
       "      <td>5160222473920184320</td>\n",
       "      <td>10</td>\n",
       "      <td>0</td>\n",
       "      <td>POLYGON ((2831145.460 1206451.480, 2832960.889...</td>\n",
       "      <td>[232832, 232831, 2287463, 49945, 978529, 35510...</td>\n",
       "    </tr>\n",
       "  </tbody>\n",
       "</table>\n",
       "<p>142575 rows × 5 columns</p>\n",
       "</div>"
      ],
      "text/plain": [
       "                     loc_id  level  freq  \\\n",
       "id                                         \n",
       "0       5152981090339651584     10     1   \n",
       "1       5152983289362907136     10     0   \n",
       "2       5152984393169502208     14     0   \n",
       "3       5152984401759436800     14     0   \n",
       "4       5152984410349371392     14     0   \n",
       "...                     ...    ...   ...   \n",
       "142570  5160199354111229952     14     0   \n",
       "142571  5160199362701164544     14     0   \n",
       "142572  5160199371291099136     14     0   \n",
       "142573  5160199379881033728     14     0   \n",
       "142574  5160222473920184320     10     0   \n",
       "\n",
       "                                                 geometry  \\\n",
       "id                                                          \n",
       "0       POLYGON ((2827640.256 1154866.983, 2829448.495...   \n",
       "1       POLYGON ((2820309.073 1155559.663, 2822108.462...   \n",
       "2       POLYGON ((2822108.462 1164010.057, 2822221.013...   \n",
       "3       POLYGON ((2822221.013 1164538.626, 2822333.574...   \n",
       "4       POLYGON ((2821762.543 1164582.028, 2821875.069...   \n",
       "...                                                   ...   \n",
       "142570  POLYGON ((2825351.144 1214617.359, 2825464.119...   \n",
       "142571  POLYGON ((2824890.046 1214661.465, 2825002.986...   \n",
       "142572  POLYGON ((2825002.986 1215194.812, 2825115.937...   \n",
       "142573  POLYGON ((2825464.119 1215150.697, 2825577.105...   \n",
       "142574  POLYGON ((2831145.460 1206451.480, 2832960.889...   \n",
       "\n",
       "                                               poi_within  \n",
       "id                                                         \n",
       "0       [46461, 46466, 46467, 47482, 46465, 47487, 144...  \n",
       "1       [46462, 46460, 45903, 46464, 47479, 47481, 464...  \n",
       "2                                                      []  \n",
       "3                                                      []  \n",
       "4                                                      []  \n",
       "...                                                   ...  \n",
       "142570                                                 []  \n",
       "142571                                                 []  \n",
       "142572                                                 []  \n",
       "142573                                                 []  \n",
       "142574  [232832, 232831, 2287463, 49945, 978529, 35510...  \n",
       "\n",
       "[142575 rows x 5 columns]"
      ]
     },
     "execution_count": 66,
     "metadata": {},
     "output_type": "execute_result"
    }
   ],
   "source": [
    "loc"
   ]
  },
  {
   "cell_type": "code",
   "execution_count": 67,
   "metadata": {
    "execution": {
     "iopub.execute_input": "2024-03-16T23:16:22.164700Z",
     "iopub.status.busy": "2024-03-16T23:16:22.163702Z",
     "iopub.status.idle": "2024-03-16T23:16:22.528165Z",
     "shell.execute_reply": "2024-03-16T23:16:22.527172Z",
     "shell.execute_reply.started": "2024-03-16T23:16:22.164700Z"
    }
   },
   "outputs": [],
   "source": [
    "# cleaning and expanding to location_id-poi_id pair\n",
    "loc_no_geo = loc.drop(columns=\"geometry\")\n",
    "\n",
    "# explode preserves nan - preserves locs with no poi\n",
    "locs_poi = loc_no_geo.explode(column=\"poi_within\")"
   ]
  },
  {
   "cell_type": "code",
   "execution_count": 68,
   "metadata": {
    "execution": {
     "iopub.execute_input": "2024-03-16T23:16:34.103008Z",
     "iopub.status.busy": "2024-03-16T23:16:34.103008Z",
     "iopub.status.idle": "2024-03-16T23:16:36.430583Z",
     "shell.execute_reply": "2024-03-16T23:16:36.429590Z",
     "shell.execute_reply.started": "2024-03-16T23:16:34.103008Z"
    }
   },
   "outputs": [],
   "source": [
    "# get the poi info from original poi df\n",
    "locs_poi = locs_poi.merge(poi[[\"id\", \"category\", \"code\"]], left_on=\"poi_within\", right_on=\"id\", how=\"left\")\n",
    "locs_poi.drop(columns=[\"id\"], inplace=True)"
   ]
  },
  {
   "cell_type": "code",
   "execution_count": 70,
   "metadata": {
    "execution": {
     "iopub.execute_input": "2024-03-16T23:17:12.344051Z",
     "iopub.status.busy": "2024-03-16T23:17:12.344051Z",
     "iopub.status.idle": "2024-03-16T23:17:12.389581Z",
     "shell.execute_reply": "2024-03-16T23:17:12.389581Z",
     "shell.execute_reply.started": "2024-03-16T23:17:12.344051Z"
    }
   },
   "outputs": [
    {
     "data": {
      "text/plain": [
       "code\n",
       "1500.0    2584175\n",
       "2902.0      68205\n",
       "5260.0      60568\n",
       "2701.0      43132\n",
       "5621.0      34700\n",
       "           ...   \n",
       "3500.0          7\n",
       "3301.0          7\n",
       "3106.0          6\n",
       "2954.0          3\n",
       "5652.0          2\n",
       "Name: count, Length: 188, dtype: int64"
      ]
     },
     "execution_count": 70,
     "metadata": {},
     "output_type": "execute_result"
    }
   ],
   "source": [
    "locs_poi[\"code\"].value_counts()"
   ]
  },
  {
   "cell_type": "code",
   "execution_count": 71,
   "metadata": {
    "execution": {
     "iopub.execute_input": "2024-03-16T23:17:41.745397Z",
     "iopub.status.busy": "2024-03-16T23:17:41.745397Z",
     "iopub.status.idle": "2024-03-16T23:17:43.327722Z",
     "shell.execute_reply": "2024-03-16T23:17:43.327722Z",
     "shell.execute_reply.started": "2024-03-16T23:17:41.745397Z"
    }
   },
   "outputs": [],
   "source": [
    "# final cleaning\n",
    "valid_pairs = locs_poi.dropna(subset=[\"poi_within\"]).copy()\n",
    "valid_pairs[\"code\"] = valid_pairs[\"code\"].astype(int).astype(str)"
   ]
  },
  {
   "cell_type": "code",
   "execution_count": 73,
   "metadata": {
    "execution": {
     "iopub.execute_input": "2024-03-16T23:17:51.675277Z",
     "iopub.status.busy": "2024-03-16T23:17:51.675277Z",
     "iopub.status.idle": "2024-03-16T23:17:51.713383Z",
     "shell.execute_reply": "2024-03-16T23:17:51.713383Z",
     "shell.execute_reply.started": "2024-03-16T23:17:51.675277Z"
    }
   },
   "outputs": [
    {
     "data": {
      "text/plain": [
       "83947"
      ]
     },
     "execution_count": 73,
     "metadata": {},
     "output_type": "execute_result"
    }
   ],
   "source": [
    "# some location does not have pois inside\n",
    "len(valid_pairs[\"loc_id\"].unique())"
   ]
  },
  {
   "cell_type": "markdown",
   "metadata": {},
   "source": [
    "## Get lda vector for locations"
   ]
  },
  {
   "cell_type": "code",
   "execution_count": 74,
   "metadata": {
    "execution": {
     "iopub.execute_input": "2024-03-17T10:40:19.377837Z",
     "iopub.status.busy": "2024-03-17T10:40:19.377837Z",
     "iopub.status.idle": "2024-03-17T10:40:53.976835Z",
     "shell.execute_reply": "2024-03-17T10:40:53.976835Z",
     "shell.execute_reply.started": "2024-03-17T10:40:19.377837Z"
    }
   },
   "outputs": [],
   "source": [
    "def _lda(df, categories=16):\n",
    "    \"\"\"Note: deal with the osm assigned \"code\" field.\"\"\"\n",
    "    texts = df.groupby(\"loc_id\")[\"code\"].apply(list).to_list()\n",
    "\n",
    "    dct = Dictionary(texts)\n",
    "    corpus = [dct.doc2bow(line) for line in texts]\n",
    "\n",
    "    lda = LdaModel(corpus, num_topics=categories)\n",
    "    vector = lda[corpus]\n",
    "\n",
    "    # the lda array\n",
    "    dense_ldavector = gensim.matutils.corpus2dense(vector, num_terms=categories).T\n",
    "    # the index arr\n",
    "    index_arr = df.groupby(\"loc_id\", as_index=False).count()[\"loc_id\"].values\n",
    "\n",
    "    poiValues = pd.Series(list(dense_ldavector))\n",
    "    poiValues.index = index_arr\n",
    "\n",
    "    poiValues.name = \"poiValues\"\n",
    "    poiValues.index.name = \"loc_id\"\n",
    "\n",
    "    return poiValues.reset_index()\n",
    "\n",
    "poiValues = _lda(valid_pairs, categories=16)"
   ]
  },
  {
   "cell_type": "code",
   "execution_count": 77,
   "metadata": {
    "execution": {
     "iopub.execute_input": "2024-03-17T10:41:27.861825Z",
     "iopub.status.busy": "2024-03-17T10:41:27.861825Z",
     "iopub.status.idle": "2024-03-17T10:41:27.917853Z",
     "shell.execute_reply": "2024-03-17T10:41:27.917853Z",
     "shell.execute_reply.started": "2024-03-17T10:41:27.861825Z"
    }
   },
   "outputs": [],
   "source": [
    "locs_poi = loc.merge(poiValues, on=\"loc_id\", how=\"left\")"
   ]
  },
  {
   "cell_type": "code",
   "execution_count": 79,
   "metadata": {
    "execution": {
     "iopub.execute_input": "2024-03-17T10:41:51.347902Z",
     "iopub.status.busy": "2024-03-17T10:41:51.346904Z",
     "iopub.status.idle": "2024-03-17T10:41:51.394837Z",
     "shell.execute_reply": "2024-03-17T10:41:51.394837Z",
     "shell.execute_reply.started": "2024-03-17T10:41:51.347902Z"
    }
   },
   "outputs": [],
   "source": [
    "# assign all 0's to non-poi locations\n",
    "locs_poi.loc[locs_poi[\"poiValues\"].isna(), \"poiValues\"] = locs_poi.loc[locs_poi[\"poiValues\"].isna(), \"poiValues\"].apply(lambda x: np.zeros(16))"
   ]
  },
  {
   "cell_type": "code",
   "execution_count": 101,
   "metadata": {
    "execution": {
     "iopub.execute_input": "2024-03-17T15:05:36.974677Z",
     "iopub.status.busy": "2024-03-17T15:05:36.974677Z",
     "iopub.status.idle": "2024-03-17T15:05:37.077024Z",
     "shell.execute_reply": "2024-03-17T15:05:37.077024Z",
     "shell.execute_reply.started": "2024-03-17T15:05:36.974677Z"
    }
   },
   "outputs": [],
   "source": [
    "locs_poi[\"poiValues\"] = locs_poi[\"poiValues\"].apply(lambda x: np.array(x, dtype=np.float32))"
   ]
  },
  {
   "cell_type": "code",
   "execution_count": 81,
   "metadata": {
    "execution": {
     "iopub.execute_input": "2024-03-17T10:42:04.131458Z",
     "iopub.status.busy": "2024-03-17T10:42:04.131458Z",
     "iopub.status.idle": "2024-03-17T10:42:04.162058Z",
     "shell.execute_reply": "2024-03-17T10:42:04.161058Z",
     "shell.execute_reply.started": "2024-03-17T10:42:04.131458Z"
    }
   },
   "outputs": [],
   "source": [
    "locs_poi.drop(columns=[\"poi_within\", \"geometry\"], inplace=True)"
   ]
  },
  {
   "cell_type": "markdown",
   "metadata": {},
   "source": [
    "## Save loc poi file"
   ]
  },
  {
   "cell_type": "code",
   "execution_count": 104,
   "metadata": {
    "execution": {
     "iopub.execute_input": "2024-03-17T15:05:50.308458Z",
     "iopub.status.busy": "2024-03-17T15:05:50.307460Z",
     "iopub.status.idle": "2024-03-17T15:06:04.331738Z",
     "shell.execute_reply": "2024-03-17T15:06:04.331233Z",
     "shell.execute_reply.started": "2024-03-17T15:05:50.308458Z"
    }
   },
   "outputs": [],
   "source": [
    "locs_poi.to_csv(os.path.join(\"..\", \"data\", \"s2_loc_poi_level10_14.csv\"), index=False)"
   ]
  },
  {
   "cell_type": "code",
   "execution_count": 126,
   "metadata": {
    "execution": {
     "iopub.execute_input": "2024-03-17T15:14:46.161001Z",
     "iopub.status.busy": "2024-03-17T15:14:46.159492Z",
     "iopub.status.idle": "2024-03-17T15:14:46.624867Z",
     "shell.execute_reply": "2024-03-17T15:14:46.624867Z",
     "shell.execute_reply.started": "2024-03-17T15:14:46.161001Z"
    }
   },
   "outputs": [],
   "source": [
    "with open(os.path.join(\"..\", \"data\", \"s2_loc_poi_level10_14.pk\"), \"wb\") as handle:\n",
    "    pickle.dump(locs_poi[[\"loc_id\", \"poiValues\"]].to_dict(\"list\"), handle, protocol=pickle.HIGHEST_PROTOCOL)"
   ]
  },
  {
   "cell_type": "markdown",
   "metadata": {},
   "source": [
    "## Calculate distance"
   ]
  },
  {
   "cell_type": "code",
   "execution_count": 156,
   "metadata": {
    "execution": {
     "iopub.execute_input": "2024-03-18T14:13:58.813941Z",
     "iopub.status.busy": "2024-03-18T14:13:58.813941Z",
     "iopub.status.idle": "2024-03-18T14:13:58.852384Z",
     "shell.execute_reply": "2024-03-18T14:13:58.851387Z",
     "shell.execute_reply.started": "2024-03-18T14:13:58.813941Z"
    }
   },
   "outputs": [],
   "source": [
    "visited_loc = pd.read_csv(os.path.join(\"..\", \"data\", \"s2_loc_visited_level10_14.csv\"), index_col=\"id\")"
   ]
  },
  {
   "cell_type": "code",
   "execution_count": 157,
   "metadata": {
    "execution": {
     "iopub.execute_input": "2024-03-18T14:13:59.444884Z",
     "iopub.status.busy": "2024-03-18T14:13:59.444884Z",
     "iopub.status.idle": "2024-03-18T14:13:59.489576Z",
     "shell.execute_reply": "2024-03-18T14:13:59.489576Z",
     "shell.execute_reply.started": "2024-03-18T14:13:59.444884Z"
    }
   },
   "outputs": [],
   "source": [
    "visited_poiValues = locs_poi.loc[locs_poi[\"loc_id\"].isin(visited_loc[\"loc_id\"].values)].sort_values(by=\"loc_id\")[\"poiValues\"].values\n",
    "\n",
    "visited_poiValues = np.array([np.array(xi) for xi in visited_poiValues])"
   ]
  },
  {
   "cell_type": "code",
   "execution_count": 158,
   "metadata": {
    "execution": {
     "iopub.execute_input": "2024-03-18T14:14:05.716091Z",
     "iopub.status.busy": "2024-03-18T14:14:05.716091Z",
     "iopub.status.idle": "2024-03-18T14:14:05.722595Z",
     "shell.execute_reply": "2024-03-18T14:14:05.722595Z",
     "shell.execute_reply.started": "2024-03-18T14:14:05.716091Z"
    }
   },
   "outputs": [
    {
     "data": {
      "text/plain": [
       "(28742, 16)"
      ]
     },
     "execution_count": 158,
     "metadata": {},
     "output_type": "execute_result"
    }
   ],
   "source": [
    "visited_poiValues.shape"
   ]
  },
  {
   "cell_type": "code",
   "execution_count": 159,
   "metadata": {
    "execution": {
     "iopub.execute_input": "2024-03-18T14:14:21.242931Z",
     "iopub.status.busy": "2024-03-18T14:14:21.241933Z",
     "iopub.status.idle": "2024-03-18T14:14:34.507754Z",
     "shell.execute_reply": "2024-03-18T14:14:34.507754Z",
     "shell.execute_reply.started": "2024-03-18T14:14:21.242931Z"
    }
   },
   "outputs": [],
   "source": [
    "corr_distance = pdist(visited_poiValues, 'correlation')\n",
    "corr_distance = squareform(corr_distance)\n",
    "# nan values receive the highest distance\n",
    "corr_distance[np.isnan(corr_distance)] = np.nanmax(corr_distance)"
   ]
  },
  {
   "cell_type": "code",
   "execution_count": 160,
   "metadata": {
    "execution": {
     "iopub.execute_input": "2024-03-18T14:14:48.358703Z",
     "iopub.status.busy": "2024-03-18T14:14:48.358703Z",
     "iopub.status.idle": "2024-03-18T14:14:48.369192Z",
     "shell.execute_reply": "2024-03-18T14:14:48.368688Z",
     "shell.execute_reply.started": "2024-03-18T14:14:48.358703Z"
    }
   },
   "outputs": [
    {
     "data": {
      "text/plain": [
       "(28742, 28742)"
      ]
     },
     "execution_count": 160,
     "metadata": {},
     "output_type": "execute_result"
    }
   ],
   "source": [
    "corr_distance.shape"
   ]
  },
  {
   "cell_type": "markdown",
   "metadata": {},
   "source": [
    "## Save"
   ]
  },
  {
   "cell_type": "code",
   "execution_count": 161,
   "metadata": {
    "execution": {
     "iopub.execute_input": "2024-03-18T14:15:19.914129Z",
     "iopub.status.busy": "2024-03-18T14:15:19.914129Z",
     "iopub.status.idle": "2024-03-18T14:15:54.410660Z",
     "shell.execute_reply": "2024-03-18T14:15:54.410660Z",
     "shell.execute_reply.started": "2024-03-18T14:15:19.914129Z"
    }
   },
   "outputs": [],
   "source": [
    "save_pk_file(\"../data/matrix/function.pk\", corr_distance)"
   ]
  }
 ],
 "metadata": {
  "kernelspec": {
   "display_name": "Python 3 (ipykernel)",
   "language": "python",
   "name": "python3"
  },
  "language_info": {
   "codemirror_mode": {
    "name": "ipython",
    "version": 3
   },
   "file_extension": ".py",
   "mimetype": "text/x-python",
   "name": "python",
   "nbconvert_exporter": "python",
   "pygments_lexer": "ipython3",
   "version": "3.9.17"
  },
  "vscode": {
   "interpreter": {
    "hash": "659ffd3ea00dbbc52f857660b8dafea05f804bc55dd91047cefb31e38b5505f6"
   }
  }
 },
 "nbformat": 4,
 "nbformat_minor": 4
}
