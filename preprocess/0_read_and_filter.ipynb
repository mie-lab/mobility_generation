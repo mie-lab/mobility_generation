{
 "cells": [
  {
   "cell_type": "code",
   "execution_count": 1,
   "metadata": {
    "execution": {
     "iopub.execute_input": "2024-06-11T13:15:11.267614Z",
     "iopub.status.busy": "2024-06-11T13:15:11.267614Z",
     "iopub.status.idle": "2024-06-11T13:15:13.493618Z",
     "shell.execute_reply": "2024-06-11T13:15:13.493618Z",
     "shell.execute_reply.started": "2024-06-11T13:15:11.267614Z"
    }
   },
   "outputs": [],
   "source": [
    "import geopandas as gpd\n",
    "import numpy as np\n",
    "import pandas as pd\n",
    "import os\n",
    "import json\n",
    "from pathlib import Path\n",
    "import datetime\n",
    "from shapely import wkt\n",
    "from shapely.geometry import LineString\n",
    "from tqdm import tqdm\n",
    "\n",
    "from joblib import Parallel, delayed\n",
    "import multiprocessing\n",
    "\n",
    "import trackintel as ti\n",
    "from trackintel.analysis.tracking_quality import temporal_tracking_quality"
   ]
  },
  {
   "cell_type": "code",
   "execution_count": 2,
   "metadata": {
    "execution": {
     "iopub.execute_input": "2024-06-11T13:15:13.497122Z",
     "iopub.status.busy": "2024-06-11T13:15:13.497122Z",
     "iopub.status.idle": "2024-06-11T13:15:13.515074Z",
     "shell.execute_reply": "2024-06-11T13:15:13.509091Z",
     "shell.execute_reply.started": "2024-06-11T13:15:13.497122Z"
    }
   },
   "outputs": [
    {
     "data": {
      "text/plain": [
       "'1.2.4'"
      ]
     },
     "execution_count": 2,
     "metadata": {},
     "output_type": "execute_result"
    }
   ],
   "source": [
    "ti.__version__"
   ]
  },
  {
   "cell_type": "code",
   "execution_count": 3,
   "metadata": {
    "execution": {
     "iopub.execute_input": "2024-06-11T13:15:13.517068Z",
     "iopub.status.busy": "2024-06-11T13:15:13.517068Z",
     "iopub.status.idle": "2024-06-11T13:15:13.526045Z",
     "shell.execute_reply": "2024-06-11T13:15:13.525048Z",
     "shell.execute_reply.started": "2024-06-11T13:15:13.517068Z"
    }
   },
   "outputs": [],
   "source": [
    "# read file storage\n",
    "Dataset_file = os.path.join(\"..\", \"paths.json\")\n",
    "with open(Dataset_file) as json_file:\n",
    "    CONFIG = json.load(json_file)"
   ]
  },
  {
   "cell_type": "markdown",
   "metadata": {},
   "source": [
    "# Read staypoints"
   ]
  },
  {
   "cell_type": "code",
   "execution_count": 4,
   "metadata": {
    "execution": {
     "iopub.execute_input": "2024-06-11T13:15:13.528039Z",
     "iopub.status.busy": "2024-06-11T13:15:13.528039Z",
     "iopub.status.idle": "2024-06-11T13:15:21.442176Z",
     "shell.execute_reply": "2024-06-11T13:15:21.441164Z",
     "shell.execute_reply.started": "2024-06-11T13:15:13.528039Z"
    }
   },
   "outputs": [],
   "source": [
    "sp = pd.read_csv(os.path.join(CONFIG[f\"raw_mobis\"], \"sps.csv\"))"
   ]
  },
  {
   "cell_type": "code",
   "execution_count": 5,
   "metadata": {
    "execution": {
     "iopub.execute_input": "2024-06-11T13:15:21.443173Z",
     "iopub.status.busy": "2024-06-11T13:15:21.443173Z",
     "iopub.status.idle": "2024-06-11T13:15:37.615707Z",
     "shell.execute_reply": "2024-06-11T13:15:37.615707Z",
     "shell.execute_reply.started": "2024-06-11T13:15:21.443173Z"
    }
   },
   "outputs": [],
   "source": [
    "# geometry\n",
    "sp[\"geometry\"] = gpd.GeoSeries.from_wkt(sp[\"geometry\"])\n",
    "sp = gpd.GeoDataFrame(sp, crs=\"EPSG:4326\", geometry=\"geometry\")"
   ]
  },
  {
   "cell_type": "code",
   "execution_count": 6,
   "metadata": {
    "execution": {
     "iopub.execute_input": "2024-06-11T13:15:37.616700Z",
     "iopub.status.busy": "2024-06-11T13:15:37.616700Z",
     "iopub.status.idle": "2024-06-11T13:16:35.289691Z",
     "shell.execute_reply": "2024-06-11T13:16:35.288180Z",
     "shell.execute_reply.started": "2024-06-11T13:15:37.616700Z"
    }
   },
   "outputs": [],
   "source": [
    "sp[\"started_at\"] = pd.to_datetime(sp[\"started_at\"], format='mixed', yearfirst=True, utc=True)\n",
    "sp[\"finished_at\"] = pd.to_datetime(sp[\"finished_at\"], format='mixed', yearfirst=True, utc=True)"
   ]
  },
  {
   "cell_type": "code",
   "execution_count": 7,
   "metadata": {
    "execution": {
     "iopub.execute_input": "2024-06-11T13:16:35.290692Z",
     "iopub.status.busy": "2024-06-11T13:16:35.290692Z",
     "iopub.status.idle": "2024-06-11T13:16:36.143652Z",
     "shell.execute_reply": "2024-06-11T13:16:36.143652Z",
     "shell.execute_reply.started": "2024-06-11T13:16:35.290692Z"
    }
   },
   "outputs": [],
   "source": [
    "# to trackintel\n",
    "sp = ti.io.read_staypoints_gpd(sp)"
   ]
  },
  {
   "cell_type": "code",
   "execution_count": 8,
   "metadata": {
    "execution": {
     "iopub.execute_input": "2024-06-11T13:16:36.144644Z",
     "iopub.status.busy": "2024-06-11T13:16:36.144644Z",
     "iopub.status.idle": "2024-06-11T13:16:36.159604Z",
     "shell.execute_reply": "2024-06-11T13:16:36.159604Z",
     "shell.execute_reply.started": "2024-06-11T13:16:36.144644Z"
    }
   },
   "outputs": [
    {
     "data": {
      "text/plain": [
       "trackintel.model.staypoints.Staypoints"
      ]
     },
     "execution_count": 8,
     "metadata": {},
     "output_type": "execute_result"
    }
   ],
   "source": [
    "type(sp)"
   ]
  },
  {
   "cell_type": "markdown",
   "metadata": {},
   "source": [
    "# Read triplegs"
   ]
  },
  {
   "cell_type": "code",
   "execution_count": 9,
   "metadata": {
    "execution": {
     "iopub.execute_input": "2024-06-11T13:16:36.162596Z",
     "iopub.status.busy": "2024-06-11T13:16:36.161599Z",
     "iopub.status.idle": "2024-06-11T13:23:02.436829Z",
     "shell.execute_reply": "2024-06-11T13:23:02.436829Z",
     "shell.execute_reply.started": "2024-06-11T13:16:36.161599Z"
    }
   },
   "outputs": [],
   "source": [
    "# only a subset for testing\n",
    "# tpls = pd.read_csv(os.path.join(CONFIG[\"raw_mobis\"], \"legs.csv\"), nrows=100000)\n",
    "\n",
    "# full, with mode 4\n",
    "tpls = pd.read_csv(os.path.join(CONFIG[\"raw_mobis\"], \"legs.csv\"), usecols=[0, 1, 3, 4, 6])\n",
    "tpls[\"mode\"] = tpls[\"mode\"].apply(lambda x: x[6:])"
   ]
  },
  {
   "cell_type": "code",
   "execution_count": 10,
   "metadata": {
    "execution": {
     "iopub.execute_input": "2024-06-11T13:23:02.437826Z",
     "iopub.status.busy": "2024-06-11T13:23:02.437826Z",
     "iopub.status.idle": "2024-06-11T13:45:35.194606Z",
     "shell.execute_reply": "2024-06-11T13:45:35.182128Z",
     "shell.execute_reply.started": "2024-06-11T13:23:02.437826Z"
    }
   },
   "outputs": [],
   "source": [
    "# geometry\n",
    "tpls[\"geometry\"] = gpd.GeoSeries.from_wkt(tpls[\"geometry\"])\n",
    "tpls = gpd.GeoDataFrame(tpls, crs=\"EPSG:4326\", geometry=\"geometry\")"
   ]
  },
  {
   "cell_type": "code",
   "execution_count": 11,
   "metadata": {
    "execution": {
     "iopub.execute_input": "2024-06-11T13:45:35.198597Z",
     "iopub.status.busy": "2024-06-11T13:45:35.198597Z",
     "iopub.status.idle": "2024-06-11T13:45:51.384243Z",
     "shell.execute_reply": "2024-06-11T13:45:51.378296Z",
     "shell.execute_reply.started": "2024-06-11T13:45:35.198597Z"
    }
   },
   "outputs": [],
   "source": [
    "# construct linestring from multilinestring\n",
    "def get_simple_line(multi):\n",
    "    # multi = wkt.loads(str)\n",
    "    multicoords = [list(line.coords) for line in multi.geoms]\n",
    "    simple = LineString([item for sublist in multicoords for item in sublist])\n",
    "    return simple\n",
    "\n",
    "MultiLSFlag = tpls.geometry.type == \"MultiLineString\"\n",
    "tpls.loc[MultiLSFlag, \"geometry\"] = tpls.loc[MultiLSFlag, \"geometry\"].apply(get_simple_line)"
   ]
  },
  {
   "cell_type": "code",
   "execution_count": 12,
   "metadata": {
    "execution": {
     "iopub.execute_input": "2024-06-11T13:45:51.387235Z",
     "iopub.status.busy": "2024-06-11T13:45:51.386238Z",
     "iopub.status.idle": "2024-06-11T13:47:08.770271Z",
     "shell.execute_reply": "2024-06-11T13:47:08.755311Z",
     "shell.execute_reply.started": "2024-06-11T13:45:51.387235Z"
    }
   },
   "outputs": [],
   "source": [
    "tpls[\"started_at\"] = pd.to_datetime(tpls[\"started_at\"], format='mixed', yearfirst=True, utc=True)\n",
    "tpls[\"finished_at\"] = pd.to_datetime(tpls[\"finished_at\"], format='mixed', yearfirst=True, utc=True)"
   ]
  },
  {
   "cell_type": "code",
   "execution_count": 13,
   "metadata": {
    "execution": {
     "iopub.execute_input": "2024-06-11T13:47:08.782241Z",
     "iopub.status.busy": "2024-06-11T13:47:08.781244Z",
     "iopub.status.idle": "2024-06-11T13:47:25.044742Z",
     "shell.execute_reply": "2024-06-11T13:47:25.039756Z",
     "shell.execute_reply.started": "2024-06-11T13:47:08.782241Z"
    }
   },
   "outputs": [],
   "source": [
    "# to trackintel, filter invalid geometry\n",
    "tpls = ti.io.read_triplegs_gpd(tpls[tpls.geometry.is_valid])"
   ]
  },
  {
   "cell_type": "code",
   "execution_count": 14,
   "metadata": {
    "execution": {
     "iopub.execute_input": "2024-06-11T13:47:25.046737Z",
     "iopub.status.busy": "2024-06-11T13:47:25.046737Z",
     "iopub.status.idle": "2024-06-11T13:47:25.094609Z",
     "shell.execute_reply": "2024-06-11T13:47:25.085633Z",
     "shell.execute_reply.started": "2024-06-11T13:47:25.046737Z"
    }
   },
   "outputs": [
    {
     "data": {
      "text/plain": [
       "trackintel.model.triplegs.Triplegs"
      ]
     },
     "execution_count": 14,
     "metadata": {},
     "output_type": "execute_result"
    }
   ],
   "source": [
    "type(tpls)"
   ]
  },
  {
   "cell_type": "markdown",
   "metadata": {},
   "source": [
    "# Final cleaning"
   ]
  },
  {
   "cell_type": "code",
   "execution_count": 15,
   "metadata": {
    "execution": {
     "iopub.execute_input": "2024-06-11T13:47:55.660658Z",
     "iopub.status.busy": "2024-06-11T13:47:55.656634Z",
     "iopub.status.idle": "2024-06-11T13:47:56.026636Z",
     "shell.execute_reply": "2024-06-11T13:47:56.021649Z",
     "shell.execute_reply.started": "2024-06-11T13:47:55.660658Z"
    }
   },
   "outputs": [
    {
     "data": {
      "text/plain": [
       "((5152,), (5130,))"
      ]
     },
     "execution_count": 15,
     "metadata": {},
     "output_type": "execute_result"
    }
   ],
   "source": [
    "tpls[\"user_id\"].unique().shape, sp[\"user_id\"].unique().shape"
   ]
  },
  {
   "cell_type": "code",
   "execution_count": 16,
   "metadata": {
    "execution": {
     "iopub.execute_input": "2024-06-11T13:47:58.052673Z",
     "iopub.status.busy": "2024-06-11T13:47:58.052673Z",
     "iopub.status.idle": "2024-06-11T13:47:58.377444Z",
     "shell.execute_reply": "2024-06-11T13:47:58.338994Z",
     "shell.execute_reply.started": "2024-06-11T13:47:58.052673Z"
    }
   },
   "outputs": [],
   "source": [
    "# negative duration records have already been dropped\n",
    "sp[\"duration\"] = (sp[\"finished_at\"] - sp[\"started_at\"]).dt.total_seconds()\n",
    "tpls[\"duration\"] = (tpls[\"finished_at\"] - tpls[\"started_at\"]).dt.total_seconds()"
   ]
  },
  {
   "cell_type": "code",
   "execution_count": 17,
   "metadata": {
    "execution": {
     "iopub.execute_input": "2024-06-11T13:47:58.780524Z",
     "iopub.status.busy": "2024-06-11T13:47:58.780524Z",
     "iopub.status.idle": "2024-06-11T13:48:05.077441Z",
     "shell.execute_reply": "2024-06-11T13:48:05.070490Z",
     "shell.execute_reply.started": "2024-06-11T13:47:58.780524Z"
    }
   },
   "outputs": [],
   "source": [
    "sp = sp.sort_values(by=\"started_at\").reset_index(drop=True)\n",
    "tpls = tpls.sort_values(by=\"started_at\").reset_index(drop=True)\n",
    "\n",
    "sp.index.name = \"id\"\n",
    "tpls.index.name = \"id\""
   ]
  },
  {
   "cell_type": "code",
   "execution_count": 18,
   "metadata": {
    "execution": {
     "iopub.execute_input": "2024-06-11T13:48:05.092076Z",
     "iopub.status.busy": "2024-06-11T13:48:05.084097Z",
     "iopub.status.idle": "2024-06-11T13:48:05.159221Z",
     "shell.execute_reply": "2024-06-11T13:48:05.148250Z",
     "shell.execute_reply.started": "2024-06-11T13:48:05.092076Z"
    }
   },
   "outputs": [
    {
     "data": {
      "text/plain": [
       "(4811539, 6391628)"
      ]
     },
     "execution_count": 18,
     "metadata": {},
     "output_type": "execute_result"
    }
   ],
   "source": [
    "len(sp), len(tpls)"
   ]
  },
  {
   "cell_type": "code",
   "execution_count": 19,
   "metadata": {
    "execution": {
     "iopub.execute_input": "2024-06-11T13:48:05.162259Z",
     "iopub.status.busy": "2024-06-11T13:48:05.162259Z",
     "iopub.status.idle": "2024-06-11T13:48:05.248529Z",
     "shell.execute_reply": "2024-06-11T13:48:05.241586Z",
     "shell.execute_reply.started": "2024-06-11T13:48:05.162259Z"
    }
   },
   "outputs": [
    {
     "data": {
      "text/html": [
       "<div>\n",
       "<style scoped>\n",
       "    .dataframe tbody tr th:only-of-type {\n",
       "        vertical-align: middle;\n",
       "    }\n",
       "\n",
       "    .dataframe tbody tr th {\n",
       "        vertical-align: top;\n",
       "    }\n",
       "\n",
       "    .dataframe thead th {\n",
       "        text-align: right;\n",
       "    }\n",
       "</style>\n",
       "<table border=\"1\" class=\"dataframe\">\n",
       "  <thead>\n",
       "    <tr style=\"text-align: right;\">\n",
       "      <th></th>\n",
       "      <th>started_at</th>\n",
       "      <th>finished_at</th>\n",
       "      <th>geometry</th>\n",
       "      <th>mode</th>\n",
       "      <th>user_id</th>\n",
       "      <th>duration</th>\n",
       "    </tr>\n",
       "    <tr>\n",
       "      <th>id</th>\n",
       "      <th></th>\n",
       "      <th></th>\n",
       "      <th></th>\n",
       "      <th></th>\n",
       "      <th></th>\n",
       "      <th></th>\n",
       "    </tr>\n",
       "  </thead>\n",
       "  <tbody>\n",
       "    <tr>\n",
       "      <th>0</th>\n",
       "      <td>2019-09-01 00:43:39.546000+00:00</td>\n",
       "      <td>2019-09-01 00:45:48.144000+00:00</td>\n",
       "      <td>LINESTRING (-123.08238 44.00756, -123.08245 44...</td>\n",
       "      <td>Walk</td>\n",
       "      <td>AQXET</td>\n",
       "      <td>128.598000</td>\n",
       "    </tr>\n",
       "    <tr>\n",
       "      <th>1</th>\n",
       "      <td>2019-09-01 01:02:29.142999+00:00</td>\n",
       "      <td>2019-09-01 01:04:06.545000+00:00</td>\n",
       "      <td>LINESTRING (-123.08249 44.00756, -123.08265 44...</td>\n",
       "      <td>Walk</td>\n",
       "      <td>AQXET</td>\n",
       "      <td>97.402001</td>\n",
       "    </tr>\n",
       "    <tr>\n",
       "      <th>2</th>\n",
       "      <td>2019-09-01 01:04:06.545000+00:00</td>\n",
       "      <td>2019-09-01 01:20:53.158999+00:00</td>\n",
       "      <td>LINESTRING (-123.08280 44.00765, -123.08264 44...</td>\n",
       "      <td>Car</td>\n",
       "      <td>AQXET</td>\n",
       "      <td>1006.613999</td>\n",
       "    </tr>\n",
       "    <tr>\n",
       "      <th>3</th>\n",
       "      <td>2019-09-01 02:52:34.696000+00:00</td>\n",
       "      <td>2019-09-01 02:52:57.516000+00:00</td>\n",
       "      <td>LINESTRING (-73.55908 45.58575, -73.45893 45.4...</td>\n",
       "      <td>Subway</td>\n",
       "      <td>LCGZG</td>\n",
       "      <td>22.820000</td>\n",
       "    </tr>\n",
       "    <tr>\n",
       "      <th>4</th>\n",
       "      <td>2019-09-01 03:38:14.168999+00:00</td>\n",
       "      <td>2019-09-01 03:44:58.186000+00:00</td>\n",
       "      <td>LINESTRING (-123.10317 44.05745, -123.10339 44...</td>\n",
       "      <td>Car</td>\n",
       "      <td>AQXET</td>\n",
       "      <td>404.017001</td>\n",
       "    </tr>\n",
       "  </tbody>\n",
       "</table>\n",
       "</div>"
      ],
      "text/plain": [
       "                         started_at                      finished_at  \\\n",
       "id                                                                     \n",
       "0  2019-09-01 00:43:39.546000+00:00 2019-09-01 00:45:48.144000+00:00   \n",
       "1  2019-09-01 01:02:29.142999+00:00 2019-09-01 01:04:06.545000+00:00   \n",
       "2  2019-09-01 01:04:06.545000+00:00 2019-09-01 01:20:53.158999+00:00   \n",
       "3  2019-09-01 02:52:34.696000+00:00 2019-09-01 02:52:57.516000+00:00   \n",
       "4  2019-09-01 03:38:14.168999+00:00 2019-09-01 03:44:58.186000+00:00   \n",
       "\n",
       "                                             geometry    mode user_id  \\\n",
       "id                                                                      \n",
       "0   LINESTRING (-123.08238 44.00756, -123.08245 44...    Walk   AQXET   \n",
       "1   LINESTRING (-123.08249 44.00756, -123.08265 44...    Walk   AQXET   \n",
       "2   LINESTRING (-123.08280 44.00765, -123.08264 44...     Car   AQXET   \n",
       "3   LINESTRING (-73.55908 45.58575, -73.45893 45.4...  Subway   LCGZG   \n",
       "4   LINESTRING (-123.10317 44.05745, -123.10339 44...     Car   AQXET   \n",
       "\n",
       "       duration  \n",
       "id               \n",
       "0    128.598000  \n",
       "1     97.402001  \n",
       "2   1006.613999  \n",
       "3     22.820000  \n",
       "4    404.017001  "
      ]
     },
     "execution_count": 19,
     "metadata": {},
     "output_type": "execute_result"
    }
   ],
   "source": [
    "tpls.head()"
   ]
  },
  {
   "cell_type": "code",
   "execution_count": 20,
   "metadata": {
    "execution": {
     "iopub.execute_input": "2024-06-11T13:48:05.264490Z",
     "iopub.status.busy": "2024-06-11T13:48:05.264490Z",
     "iopub.status.idle": "2024-06-11T13:48:05.356759Z",
     "shell.execute_reply": "2024-06-11T13:48:05.350775Z",
     "shell.execute_reply.started": "2024-06-11T13:48:05.264490Z"
    }
   },
   "outputs": [
    {
     "data": {
      "text/html": [
       "<div>\n",
       "<style scoped>\n",
       "    .dataframe tbody tr th:only-of-type {\n",
       "        vertical-align: middle;\n",
       "    }\n",
       "\n",
       "    .dataframe tbody tr th {\n",
       "        vertical-align: top;\n",
       "    }\n",
       "\n",
       "    .dataframe thead th {\n",
       "        text-align: right;\n",
       "    }\n",
       "</style>\n",
       "<table border=\"1\" class=\"dataframe\">\n",
       "  <thead>\n",
       "    <tr style=\"text-align: right;\">\n",
       "      <th></th>\n",
       "      <th>started_at</th>\n",
       "      <th>finished_at</th>\n",
       "      <th>geometry</th>\n",
       "      <th>purpose</th>\n",
       "      <th>detected_purpose</th>\n",
       "      <th>confidence</th>\n",
       "      <th>user_id</th>\n",
       "      <th>overseas</th>\n",
       "      <th>misdetected_completely</th>\n",
       "      <th>duration</th>\n",
       "    </tr>\n",
       "    <tr>\n",
       "      <th>id</th>\n",
       "      <th></th>\n",
       "      <th></th>\n",
       "      <th></th>\n",
       "      <th></th>\n",
       "      <th></th>\n",
       "      <th></th>\n",
       "      <th></th>\n",
       "      <th></th>\n",
       "      <th></th>\n",
       "      <th></th>\n",
       "    </tr>\n",
       "  </thead>\n",
       "  <tbody>\n",
       "    <tr>\n",
       "      <th>0</th>\n",
       "      <td>2019-09-01 00:45:48.144000+00:00</td>\n",
       "      <td>2019-09-01 01:02:29.142999+00:00</td>\n",
       "      <td>POINT (-123.08249 44.00756)</td>\n",
       "      <td>unknown</td>\n",
       "      <td>unknown</td>\n",
       "      <td>1.0</td>\n",
       "      <td>AQXET</td>\n",
       "      <td>True</td>\n",
       "      <td>False</td>\n",
       "      <td>1000.998999</td>\n",
       "    </tr>\n",
       "    <tr>\n",
       "      <th>1</th>\n",
       "      <td>2019-09-01 01:20:53.158999+00:00</td>\n",
       "      <td>2019-09-01 03:38:14.168999+00:00</td>\n",
       "      <td>POINT (-123.10317 44.05745)</td>\n",
       "      <td>unknown</td>\n",
       "      <td>unknown</td>\n",
       "      <td>1.0</td>\n",
       "      <td>AQXET</td>\n",
       "      <td>True</td>\n",
       "      <td>False</td>\n",
       "      <td>8241.010000</td>\n",
       "    </tr>\n",
       "    <tr>\n",
       "      <th>2</th>\n",
       "      <td>2019-09-01 02:52:57.516000+00:00</td>\n",
       "      <td>2019-09-01 18:18:04.576999+00:00</td>\n",
       "      <td>POINT (-73.45860 45.45644)</td>\n",
       "      <td>unknown</td>\n",
       "      <td>unknown</td>\n",
       "      <td>1.0</td>\n",
       "      <td>LCGZG</td>\n",
       "      <td>True</td>\n",
       "      <td>False</td>\n",
       "      <td>55507.060999</td>\n",
       "    </tr>\n",
       "    <tr>\n",
       "      <th>3</th>\n",
       "      <td>2019-09-01 03:44:58.186000+00:00</td>\n",
       "      <td>2019-09-01 15:49:36.105000+00:00</td>\n",
       "      <td>POINT (-123.10147 44.03391)</td>\n",
       "      <td>unknown</td>\n",
       "      <td>unknown</td>\n",
       "      <td>1.0</td>\n",
       "      <td>AQXET</td>\n",
       "      <td>True</td>\n",
       "      <td>False</td>\n",
       "      <td>43477.919000</td>\n",
       "    </tr>\n",
       "    <tr>\n",
       "      <th>4</th>\n",
       "      <td>2019-09-01 08:46:09.986000+00:00</td>\n",
       "      <td>2019-09-01 09:05:17.973999+00:00</td>\n",
       "      <td>POINT (8.86188 46.03543)</td>\n",
       "      <td>unknown</td>\n",
       "      <td>unknown</td>\n",
       "      <td>1.0</td>\n",
       "      <td>MMOQN</td>\n",
       "      <td>False</td>\n",
       "      <td>False</td>\n",
       "      <td>1147.987999</td>\n",
       "    </tr>\n",
       "  </tbody>\n",
       "</table>\n",
       "</div>"
      ],
      "text/plain": [
       "                         started_at                      finished_at  \\\n",
       "id                                                                     \n",
       "0  2019-09-01 00:45:48.144000+00:00 2019-09-01 01:02:29.142999+00:00   \n",
       "1  2019-09-01 01:20:53.158999+00:00 2019-09-01 03:38:14.168999+00:00   \n",
       "2  2019-09-01 02:52:57.516000+00:00 2019-09-01 18:18:04.576999+00:00   \n",
       "3  2019-09-01 03:44:58.186000+00:00 2019-09-01 15:49:36.105000+00:00   \n",
       "4  2019-09-01 08:46:09.986000+00:00 2019-09-01 09:05:17.973999+00:00   \n",
       "\n",
       "                       geometry  purpose detected_purpose  confidence user_id  \\\n",
       "id                                                                              \n",
       "0   POINT (-123.08249 44.00756)  unknown          unknown         1.0   AQXET   \n",
       "1   POINT (-123.10317 44.05745)  unknown          unknown         1.0   AQXET   \n",
       "2    POINT (-73.45860 45.45644)  unknown          unknown         1.0   LCGZG   \n",
       "3   POINT (-123.10147 44.03391)  unknown          unknown         1.0   AQXET   \n",
       "4      POINT (8.86188 46.03543)  unknown          unknown         1.0   MMOQN   \n",
       "\n",
       "    overseas  misdetected_completely      duration  \n",
       "id                                                  \n",
       "0       True                   False   1000.998999  \n",
       "1       True                   False   8241.010000  \n",
       "2       True                   False  55507.060999  \n",
       "3       True                   False  43477.919000  \n",
       "4      False                   False   1147.987999  "
      ]
     },
     "execution_count": 20,
     "metadata": {},
     "output_type": "execute_result"
    }
   ],
   "source": [
    "sp.head()"
   ]
  },
  {
   "cell_type": "markdown",
   "metadata": {},
   "source": [
    "# Filter duplicates"
   ]
  },
  {
   "cell_type": "code",
   "execution_count": 21,
   "metadata": {
    "execution": {
     "iopub.execute_input": "2024-06-11T13:48:30.404353Z",
     "iopub.status.busy": "2024-06-11T13:48:30.404353Z",
     "iopub.status.idle": "2024-06-11T13:57:14.063478Z",
     "shell.execute_reply": "2024-06-11T13:57:14.055536Z",
     "shell.execute_reply.started": "2024-06-11T13:48:30.404353Z"
    }
   },
   "outputs": [],
   "source": [
    "def _alter_diff(df):\n",
    "    df.sort_values(by=\"started_at\", inplace=True)\n",
    "    df[\"diff\"] = pd.NA\n",
    "    # for correct dtype\n",
    "    df[\"st_next\"] = df[\"started_at\"]\n",
    "\n",
    "    diff = df[\"started_at\"].iloc[1:].reset_index(drop=True) - df[\"finished_at\"].iloc[:-1].reset_index(drop=True)\n",
    "    df[\"diff\"].iloc[:-1] = diff.dt.total_seconds()\n",
    "    df[\"st_next\"].iloc[:-1] = df[\"started_at\"].iloc[1:].reset_index(drop=True)\n",
    "\n",
    "    df.loc[df[\"diff\"] < 0, \"finished_at\"] = df.loc[df[\"diff\"] < 0, \"st_next\"]\n",
    "\n",
    "    df[\"started_at\"], df[\"finished_at\"] = pd.to_datetime(df[\"started_at\"]), pd.to_datetime(df[\"finished_at\"])\n",
    "    df[\"duration\"] = (df[\"finished_at\"] - df[\"started_at\"]).dt.total_seconds()\n",
    "\n",
    "    # print(df.loc[df[\"diff\"] < 0])\n",
    "    df.drop(columns=[\"diff\", \"st_next\"], inplace=True)\n",
    "    df.drop(index=df[df[\"duration\"] <= 0].index, inplace=True)\n",
    "\n",
    "    return df\n",
    "\n",
    "def filter_duplicates(sp, tpls):\n",
    "\n",
    "    # merge trips and staypoints\n",
    "    sp[\"type\"] = \"sp\"\n",
    "    tpls[\"type\"] = \"tpl\"\n",
    "    df_all = pd.merge(sp, tpls, how=\"outer\")\n",
    "\n",
    "    df_all = df_all.groupby(\"user_id\", as_index=False).apply(_alter_diff)\n",
    "    sp = df_all.loc[df_all[\"type\"] == \"sp\"].drop(columns=[\"type\"])\n",
    "    tpls = df_all.loc[df_all[\"type\"] == \"tpl\"].drop(columns=[\"type\"])\n",
    "\n",
    "    sp = sp[[\"id\", \"user_id\", \"started_at\", \"finished_at\", \"geometry\", \"duration\", \"purpose\", \"detected_purpose\", \"overseas\"]]\n",
    "    tpls = tpls[[\"id\", \"user_id\", \"started_at\", \"finished_at\",\"duration\", \"mode\", \"geometry\"]]\n",
    "\n",
    "    return sp.set_index(\"id\"), tpls.set_index(\"id\")\n",
    "\n",
    "sp, tpls = filter_duplicates(sp.reset_index(), tpls.reset_index())"
   ]
  },
  {
   "cell_type": "code",
   "execution_count": 22,
   "metadata": {
    "execution": {
     "iopub.execute_input": "2024-06-11T13:57:14.074450Z",
     "iopub.status.busy": "2024-06-11T13:57:14.074450Z",
     "iopub.status.idle": "2024-06-11T13:57:14.126310Z",
     "shell.execute_reply": "2024-06-11T13:57:14.121324Z",
     "shell.execute_reply.started": "2024-06-11T13:57:14.074450Z"
    }
   },
   "outputs": [
    {
     "data": {
      "text/plain": [
       "(4804194, 6381957)"
      ]
     },
     "execution_count": 22,
     "metadata": {},
     "output_type": "execute_result"
    }
   ],
   "source": [
    "len(sp), len(tpls)"
   ]
  },
  {
   "cell_type": "markdown",
   "metadata": {},
   "source": [
    "# Read quality filter file"
   ]
  },
  {
   "cell_type": "code",
   "execution_count": 23,
   "metadata": {
    "execution": {
     "iopub.execute_input": "2024-06-11T13:58:58.232867Z",
     "iopub.status.busy": "2024-06-11T13:58:58.232867Z",
     "iopub.status.idle": "2024-06-11T13:58:58.368061Z",
     "shell.execute_reply": "2024-06-11T13:58:58.363523Z",
     "shell.execute_reply.started": "2024-06-11T13:58:58.232867Z"
    }
   },
   "outputs": [],
   "source": [
    "quality_path = os.path.join(\"..\",\"data\", \"quality\")\n",
    "quality_file = os.path.join(quality_path, \"mobis_filtered.csv\")\n",
    "if Path(quality_file).is_file():\n",
    "    valid_users = pd.read_csv(quality_file)[\"user_id\"].values\n",
    "else:\n",
    "    if not os.path.exists(quality_path):\n",
    "        os.makedirs(quality_path)"
   ]
  },
  {
   "cell_type": "code",
   "execution_count": 24,
   "metadata": {
    "execution": {
     "iopub.execute_input": "2024-06-11T13:58:59.082924Z",
     "iopub.status.busy": "2024-06-11T13:58:59.081926Z",
     "iopub.status.idle": "2024-06-11T13:58:59.142274Z",
     "shell.execute_reply": "2024-06-11T13:58:59.137287Z",
     "shell.execute_reply.started": "2024-06-11T13:58:59.082924Z"
    }
   },
   "outputs": [
    {
     "data": {
      "text/plain": [
       "2113"
      ]
     },
     "execution_count": 24,
     "metadata": {},
     "output_type": "execute_result"
    }
   ],
   "source": [
    "len(valid_users)"
   ]
  },
  {
   "cell_type": "markdown",
   "metadata": {},
   "source": [
    "# Define activity"
   ]
  },
  {
   "cell_type": "code",
   "execution_count": 25,
   "metadata": {
    "execution": {
     "iopub.execute_input": "2024-06-11T13:59:01.118779Z",
     "iopub.status.busy": "2024-06-11T13:59:01.112764Z",
     "iopub.status.idle": "2024-06-11T13:59:01.566453Z",
     "shell.execute_reply": "2024-06-11T13:59:01.555483Z",
     "shell.execute_reply.started": "2024-06-11T13:59:01.118779Z"
    }
   },
   "outputs": [],
   "source": [
    "sp[\"is_activity\"] = True\n",
    "\n",
    "# wait is not an activity\n",
    "sp.loc[sp[\"purpose\"] == \"wait\", \"is_activity\"] = False\n",
    "\n",
    "# shorter than 25min\n",
    "sp.loc[(sp[\"purpose\"] == \"unknown\") & (sp[\"duration\"] < 25 * 60), \"is_activity\"] = False"
   ]
  },
  {
   "cell_type": "code",
   "execution_count": 26,
   "metadata": {
    "execution": {
     "iopub.execute_input": "2024-06-11T13:59:01.583408Z",
     "iopub.status.busy": "2024-06-11T13:59:01.583408Z",
     "iopub.status.idle": "2024-06-11T13:59:01.689641Z",
     "shell.execute_reply": "2024-06-11T13:59:01.681658Z",
     "shell.execute_reply.started": "2024-06-11T13:59:01.583408Z"
    }
   },
   "outputs": [
    {
     "data": {
      "text/plain": [
       "is_activity\n",
       "True     3589215\n",
       "False    1214979\n",
       "Name: count, dtype: int64"
      ]
     },
     "execution_count": 26,
     "metadata": {},
     "output_type": "execute_result"
    }
   ],
   "source": [
    "sp[\"is_activity\"].value_counts()"
   ]
  },
  {
   "cell_type": "markdown",
   "metadata": {},
   "source": [
    "# Generate trips"
   ]
  },
  {
   "cell_type": "code",
   "execution_count": 27,
   "metadata": {
    "execution": {
     "iopub.execute_input": "2024-06-11T13:59:13.522472Z",
     "iopub.status.busy": "2024-06-11T13:59:13.518482Z",
     "iopub.status.idle": "2024-06-11T14:04:28.498620Z",
     "shell.execute_reply": "2024-06-11T14:04:28.487620Z",
     "shell.execute_reply.started": "2024-06-11T13:59:13.522472Z"
    }
   },
   "outputs": [],
   "source": [
    "# the trackintel trip generation\n",
    "sp, tpls, trips = ti.preprocessing.triplegs.generate_trips(sp, tpls, gap_threshold=25, add_geometry=False)"
   ]
  },
  {
   "cell_type": "code",
   "execution_count": 28,
   "metadata": {
    "execution": {
     "iopub.execute_input": "2024-06-11T14:04:28.519565Z",
     "iopub.status.busy": "2024-06-11T14:04:28.514577Z",
     "iopub.status.idle": "2024-06-11T14:04:28.575437Z",
     "shell.execute_reply": "2024-06-11T14:04:28.567458Z",
     "shell.execute_reply.started": "2024-06-11T14:04:28.519565Z"
    }
   },
   "outputs": [
    {
     "data": {
      "text/plain": [
       "(4804194, 6381957, 3466359)"
      ]
     },
     "execution_count": 28,
     "metadata": {},
     "output_type": "execute_result"
    }
   ],
   "source": [
    "len(sp), len(tpls), len(trips)"
   ]
  },
  {
   "cell_type": "markdown",
   "metadata": {
    "jp-MarkdownHeadingCollapsed": true
   },
   "source": [
    "# Generate user filter"
   ]
  },
  {
   "cell_type": "code",
   "execution_count": 30,
   "metadata": {},
   "outputs": [
    {
     "name": "stdout",
     "output_type": "stream",
     "text": [
      "starting merge (4804194, 13) (3466356, 6)\n",
      "finished merge (8270550, 16)\n",
      "**************************************************\n",
      "5168\n"
     ]
    },
    {
     "name": "stderr",
     "output_type": "stream",
     "text": [
      "C:\\Users\\hong\\AppData\\Local\\Temp\\ipykernel_34516\\1920938679.py:103: FutureWarning: The behavior of DataFrame concatenation with empty or all-NA entries is deprecated. In a future version, this will no longer exclude empty or all-NA columns when determining the result dtypes. To retain the old behavior, exclude the relevant entries before the concat operation.\n",
      "  all_df.groupby(\"user_id\")\n"
     ]
    },
    {
     "name": "stdout",
     "output_type": "stream",
     "text": [
      "final selected user 2113\n"
     ]
    }
   ],
   "source": [
    "def _split_overlaps(source, granularity=\"day\", max_iter=60):\n",
    "    if granularity == \"hour\":\n",
    "        # every split over hour splits also over day\n",
    "        # this way to split of an entry over a month takes 30+24 iterations instead of 30*24.\n",
    "        df = _split_overlaps(source, granularity=\"day\", max_iter=max_iter)\n",
    "    else:\n",
    "        df = source.copy()\n",
    "\n",
    "    change_flag = _get_split_index(df, granularity=granularity)\n",
    "    iter_count = 0\n",
    "\n",
    "    freq = \"D\" if granularity == \"day\" else \"H\"\n",
    "    # Iteratively split one day/hour from multi day/hour entries until no entry spans over multiple days/hours\n",
    "    while change_flag.sum() > 0:\n",
    "        # calculate new finished_at timestamp (00:00 midnight)\n",
    "        new_df = df.loc[change_flag].copy()\n",
    "        # print(change_flag)\n",
    "        # print(new_df)\n",
    "        df.loc[change_flag, \"finished_at\"] = (df.loc[change_flag, \"started_at\"] + pd.Timestamp.resolution).dt.ceil(freq)\n",
    "\n",
    "        # create new entries with remaining timestamp\n",
    "        new_df[\"started_at\"] = df.loc[change_flag, \"finished_at\"]\n",
    "\n",
    "        df = pd.concat((df, new_df), ignore_index=True, sort=True)\n",
    "\n",
    "        change_flag = _get_split_index(df, granularity=granularity)\n",
    "        iter_count += 1\n",
    "        if iter_count >= max_iter:\n",
    "            break\n",
    "\n",
    "    if \"duration\" in df.columns:\n",
    "        df[\"duration\"] = df[\"finished_at\"] - df[\"started_at\"]\n",
    "    return df\n",
    "\n",
    "def _get_split_index(df, granularity=\"day\"):\n",
    "    freq = \"D\" if granularity == \"day\" else \"H\"\n",
    "    cond1 = df[\"started_at\"].dt.floor(freq) != (df[\"finished_at\"] - pd.Timedelta.resolution).dt.floor(freq)\n",
    "    # catch corner case where both on same border and subtracting would lead to error\n",
    "    cond2 = df[\"started_at\"] != df[\"finished_at\"]\n",
    "    return cond1 & cond2\n",
    "    \n",
    "def _filter_user(df, min_thres, mean_thres):\n",
    "    consider = df.loc[df[\"quality\"] != 0]\n",
    "    if (consider[\"quality\"].min() > min_thres) and (consider[\"quality\"].mean() > mean_thres):\n",
    "        return df\n",
    "\n",
    "\n",
    "def _get_tracking_quality(df, window_size):\n",
    "\n",
    "    weeks = (df[\"finished_at\"].max() - df[\"started_at\"].min()).days // 7\n",
    "    start_date = df[\"started_at\"].min().date()\n",
    "\n",
    "    quality_list = []\n",
    "    # construct the sliding week gdf\n",
    "    for i in range(0, weeks - window_size + 1):\n",
    "        curr_start = datetime.datetime.combine(start_date + datetime.timedelta(weeks=i), datetime.time())\n",
    "        curr_end = datetime.datetime.combine(curr_start + datetime.timedelta(weeks=window_size), datetime.time())\n",
    "\n",
    "        # the total df for this time window\n",
    "        cAll_gdf = df.loc[(df[\"started_at\"] >= curr_start) & (df[\"finished_at\"] < curr_end)]\n",
    "        if cAll_gdf.shape[0] == 0:\n",
    "            continue\n",
    "        total_sec = (curr_end - curr_start).total_seconds()\n",
    "\n",
    "        quality_list.append([i, cAll_gdf[\"duration\"].sum() / total_sec])\n",
    "    ret = pd.DataFrame(quality_list, columns=[\"timestep\", \"quality\"])\n",
    "    ret[\"user_id\"] = df[\"user_id\"].unique()[0]\n",
    "    return ret\n",
    "\n",
    "def calculate_user_quality(sp, trips, file_path, quality_filter):\n",
    "\n",
    "    trips[\"started_at\"] = pd.to_datetime(trips[\"started_at\"]).dt.tz_localize(None)\n",
    "    trips[\"finished_at\"] = pd.to_datetime(trips[\"finished_at\"]).dt.tz_localize(None)\n",
    "    sp[\"started_at\"] = pd.to_datetime(sp[\"started_at\"]).dt.tz_localize(None)\n",
    "    sp[\"finished_at\"] = pd.to_datetime(sp[\"finished_at\"]).dt.tz_localize(None)\n",
    "\n",
    "    # merge trips and staypoints\n",
    "    print(\"starting merge\", sp.shape, trips.shape)\n",
    "    sp[\"type\"] = \"sp\"\n",
    "    trips[\"type\"] = \"tpl\"\n",
    "    all_df = pd.concat([sp, trips])\n",
    "    print(\"finished merge\", all_df.shape)\n",
    "    print(\"*\" * 50)\n",
    "    all_df = _split_overlaps(all_df, granularity=\"day\")\n",
    "    all_df[\"duration\"] = (all_df[\"finished_at\"] - all_df[\"started_at\"]).dt.total_seconds()\n",
    "\n",
    "    print(len(all_df[\"user_id\"].unique()))\n",
    "\n",
    "    # get quality\n",
    "    total_quality = temporal_tracking_quality(all_df, granularity=\"all\")\n",
    "    # get tracking days\n",
    "    total_quality[\"days\"] = (\n",
    "        all_df.groupby(\"user_id\").apply(lambda x: (x[\"finished_at\"].max() - x[\"started_at\"].min()).days).values\n",
    "    )\n",
    "    # filter based on days\n",
    "    user_filter_day = (\n",
    "        total_quality.loc[(total_quality[\"days\"] > quality_filter[\"day_filter\"])]\n",
    "        .reset_index(drop=True)[\"user_id\"]\n",
    "        .unique()\n",
    "    )\n",
    "    # filter based on sliding quality\n",
    "    sliding_quality = (\n",
    "        all_df.groupby(\"user_id\")\n",
    "        .apply(_get_tracking_quality, window_size=quality_filter[\"window_size\"])\n",
    "        .reset_index(drop=True)\n",
    "    )\n",
    "\n",
    "    filter_after_day = sliding_quality.loc[sliding_quality[\"user_id\"].isin(user_filter_day)]\n",
    "\n",
    "    if \"min_thres\" in quality_filter:\n",
    "        # filter based on quanlity\n",
    "        filter_after_day = (\n",
    "            filter_after_day.groupby(\"user_id\")\n",
    "            .apply(_filter_user, min_thres=quality_filter[\"min_thres\"], mean_thres=quality_filter[\"mean_thres\"])\n",
    "            .reset_index(drop=True)\n",
    "            .dropna()\n",
    "        )\n",
    "\n",
    "    filter_after_user_quality = filter_after_day.groupby(\"user_id\", as_index=False)[\"quality\"].mean()\n",
    "\n",
    "    print(\"final selected user\", filter_after_user_quality.shape[0])\n",
    "    filter_after_user_quality.to_csv(file_path, index=False)\n",
    "    return filter_after_user_quality[\"user_id\"].values\n",
    "\n",
    "quality_filter = {\"day_filter\": 50, \"window_size\": 5, \"min_thres\": 0.5, \"mean_thres\": 0.6}\n",
    "valid_users = calculate_user_quality(sp.copy().reset_index(), trips.copy().reset_index(), quality_file, quality_filter)"
   ]
  },
  {
   "cell_type": "markdown",
   "metadata": {},
   "source": [
    "# Filter\n",
    "## valid users"
   ]
  },
  {
   "cell_type": "code",
   "execution_count": 29,
   "metadata": {
    "execution": {
     "iopub.execute_input": "2024-06-11T14:04:46.855995Z",
     "iopub.status.busy": "2024-06-11T14:04:46.855995Z",
     "iopub.status.idle": "2024-06-11T14:08:07.133244Z",
     "shell.execute_reply": "2024-06-11T14:08:07.130850Z",
     "shell.execute_reply.started": "2024-06-11T14:04:46.855995Z"
    }
   },
   "outputs": [],
   "source": [
    "sp = sp.loc[sp[\"user_id\"].isin(valid_users)]\n",
    "tpls = tpls.loc[tpls[\"user_id\"].isin(valid_users)]\n",
    "trips = trips.loc[trips[\"user_id\"].isin(valid_users)]"
   ]
  },
  {
   "cell_type": "code",
   "execution_count": 30,
   "metadata": {
    "execution": {
     "iopub.execute_input": "2024-06-11T14:08:07.138193Z",
     "iopub.status.busy": "2024-06-11T14:08:07.137234Z",
     "iopub.status.idle": "2024-06-11T14:08:07.339683Z",
     "shell.execute_reply": "2024-06-11T14:08:07.332702Z",
     "shell.execute_reply.started": "2024-06-11T14:08:07.138193Z"
    }
   },
   "outputs": [
    {
     "data": {
      "text/plain": [
       "(2113, 2113, 2113)"
      ]
     },
     "execution_count": 30,
     "metadata": {},
     "output_type": "execute_result"
    }
   ],
   "source": [
    "len(sp[\"user_id\"].unique()), len(tpls[\"user_id\"].unique()), len(trips[\"user_id\"].unique())"
   ]
  },
  {
   "cell_type": "code",
   "execution_count": 31,
   "metadata": {
    "execution": {
     "iopub.execute_input": "2024-06-11T14:08:07.344669Z",
     "iopub.status.busy": "2024-06-11T14:08:07.343673Z",
     "iopub.status.idle": "2024-06-11T14:08:07.366611Z",
     "shell.execute_reply": "2024-06-11T14:08:07.363620Z",
     "shell.execute_reply.started": "2024-06-11T14:08:07.344669Z"
    }
   },
   "outputs": [
    {
     "data": {
      "text/plain": [
       "(1578245, 2133677, 1124205)"
      ]
     },
     "execution_count": 31,
     "metadata": {},
     "output_type": "execute_result"
    }
   ],
   "source": [
    "len(sp), len(tpls), len(trips)"
   ]
  },
  {
   "cell_type": "markdown",
   "metadata": {},
   "source": [
    "## Switzerland records"
   ]
  },
  {
   "cell_type": "code",
   "execution_count": 111,
   "metadata": {
    "execution": {
     "iopub.execute_input": "2024-06-11T15:08:57.720779Z",
     "iopub.status.busy": "2024-06-11T15:08:57.719782Z",
     "iopub.status.idle": "2024-06-11T15:54:18.256349Z",
     "shell.execute_reply": "2024-06-11T15:54:18.250302Z",
     "shell.execute_reply.started": "2024-06-11T15:08:57.720779Z"
    }
   },
   "outputs": [
    {
     "name": "stdout",
     "output_type": "stream",
     "text": [
      "Before spatial filtering:  1578245\n",
      "After spatial filtering:  1460189\n"
     ]
    }
   ],
   "source": [
    "def _filter_within_swiss(stps, swissBound):\n",
    "    \"\"\"Spatial filtering of staypoints.\"\"\"\n",
    "    # save a copy of the original projection\n",
    "    init_crs = stps.crs\n",
    "    # project to projected system\n",
    "    stps = stps.to_crs(swissBound.crs)\n",
    "\n",
    "    ## parallel for speeding up\n",
    "    stps[\"within\"] = _apply_parallel(stps[\"geometry\"], _apply_extract, swissBound)\n",
    "    sp_swiss = stps[stps[\"within\"] == True].copy()\n",
    "    sp_swiss.drop(columns=[\"within\"], inplace=True)\n",
    "\n",
    "    return sp_swiss.to_crs(init_crs)\n",
    "    \n",
    "def _apply_extract(df, swissBound):\n",
    "    \"\"\"The func for _apply_parallel: judge whether inside a shp.\"\"\"\n",
    "    tqdm.pandas(desc=\"pandas bar\")\n",
    "    shp = swissBound[\"geometry\"].to_numpy()[0]\n",
    "    return df.progress_apply(lambda x: shp.contains(x))\n",
    "\n",
    "\n",
    "def _apply_parallel(df, func, other, n=-1):\n",
    "    \"\"\"parallel apply for spending up.\"\"\"\n",
    "    if n is None:\n",
    "        n = -1\n",
    "    dflength = len(df)\n",
    "    cpunum = multiprocessing.cpu_count()\n",
    "    if dflength < cpunum:\n",
    "        spnum = dflength\n",
    "    if n < 0:\n",
    "        spnum = cpunum + n + 1\n",
    "    else:\n",
    "        spnum = n or 1\n",
    "\n",
    "    sp = list(range(dflength)[:: int(dflength / spnum + 0.5)])\n",
    "    sp.append(dflength)\n",
    "    slice_gen = (slice(*idx) for idx in zip(sp[:-1], sp[1:]))\n",
    "    results = Parallel(n_jobs=n, verbose=0)(delayed(func)(df.iloc[slc], other) for slc in slice_gen)\n",
    "    return pd.concat(results)\n",
    "\n",
    "swissBoundary = gpd.read_file(os.path.join(\"..\", \"data\", \"swiss\", \"swiss.shp\"))\n",
    "\n",
    "print(\"Before spatial filtering: \", sp.shape[0])\n",
    "sp_swiss = _filter_within_swiss(sp, swissBoundary)\n",
    "print(\"After spatial filtering: \", sp_swiss.shape[0])"
   ]
  },
  {
   "cell_type": "code",
   "execution_count": 112,
   "metadata": {
    "execution": {
     "iopub.execute_input": "2024-06-11T16:02:09.638330Z",
     "iopub.status.busy": "2024-06-11T16:02:09.638330Z",
     "iopub.status.idle": "2024-06-11T16:02:09.660275Z",
     "shell.execute_reply": "2024-06-11T16:02:09.654290Z",
     "shell.execute_reply.started": "2024-06-11T16:02:09.638330Z"
    }
   },
   "outputs": [],
   "source": [
    "# sp_swiss = sp"
   ]
  },
  {
   "cell_type": "markdown",
   "metadata": {},
   "source": [
    "## Activity staypoints"
   ]
  },
  {
   "cell_type": "code",
   "execution_count": 113,
   "metadata": {
    "execution": {
     "iopub.execute_input": "2024-06-11T16:02:11.852142Z",
     "iopub.status.busy": "2024-06-11T16:02:11.851145Z",
     "iopub.status.idle": "2024-06-11T16:02:12.070213Z",
     "shell.execute_reply": "2024-06-11T16:02:12.065224Z",
     "shell.execute_reply.started": "2024-06-11T16:02:11.852142Z"
    }
   },
   "outputs": [],
   "source": [
    "sp_swiss_act = sp_swiss.loc[sp_swiss[\"is_activity\"] == True]"
   ]
  },
  {
   "cell_type": "code",
   "execution_count": 114,
   "metadata": {
    "execution": {
     "iopub.execute_input": "2024-06-11T16:02:12.173209Z",
     "iopub.status.busy": "2024-06-11T16:02:12.172212Z",
     "iopub.status.idle": "2024-06-11T16:02:12.210111Z",
     "shell.execute_reply": "2024-06-11T16:02:12.203129Z",
     "shell.execute_reply.started": "2024-06-11T16:02:12.173209Z"
    }
   },
   "outputs": [
    {
     "data": {
      "text/plain": [
       "1094017"
      ]
     },
     "execution_count": 114,
     "metadata": {},
     "output_type": "execute_result"
    }
   ],
   "source": [
    "len(sp_swiss_act)"
   ]
  },
  {
   "cell_type": "markdown",
   "metadata": {},
   "source": [
    "# Assign travel modes"
   ]
  },
  {
   "cell_type": "code",
   "execution_count": 115,
   "metadata": {
    "execution": {
     "iopub.execute_input": "2024-06-11T16:02:15.899325Z",
     "iopub.status.busy": "2024-06-11T16:02:15.898328Z",
     "iopub.status.idle": "2024-06-11T16:05:45.589585Z",
     "shell.execute_reply": "2024-06-11T16:05:45.584664Z",
     "shell.execute_reply.started": "2024-06-11T16:02:15.899325Z"
    }
   },
   "outputs": [],
   "source": [
    "tpls[\"length\"] = tpls.to_crs(\"EPSG:2056\").length"
   ]
  },
  {
   "cell_type": "code",
   "execution_count": 116,
   "metadata": {
    "execution": {
     "iopub.execute_input": "2024-06-11T16:05:45.601515Z",
     "iopub.status.busy": "2024-06-11T16:05:45.601515Z",
     "iopub.status.idle": "2024-06-11T16:05:46.353687Z",
     "shell.execute_reply": "2024-06-11T16:05:46.348153Z",
     "shell.execute_reply.started": "2024-06-11T16:05:45.601515Z"
    }
   },
   "outputs": [],
   "source": [
    "#  get the number of triplegs for each trip\n",
    "groupsize = tpls.groupby(\"trip_id\").size().to_frame(name=\"triplegNum\").reset_index()\n",
    "tpls_num = tpls.merge(groupsize, on=\"trip_id\")"
   ]
  },
  {
   "cell_type": "code",
   "execution_count": 117,
   "metadata": {
    "execution": {
     "iopub.execute_input": "2024-06-11T16:05:46.353687Z",
     "iopub.status.busy": "2024-06-11T16:05:46.353687Z",
     "iopub.status.idle": "2024-06-11T16:05:49.229445Z",
     "shell.execute_reply": "2024-06-11T16:05:49.223530Z",
     "shell.execute_reply.started": "2024-06-11T16:05:46.353687Z"
    }
   },
   "outputs": [],
   "source": [
    "# trips only with 1 triplegs\n",
    "res1 = tpls_num.loc[tpls_num[\"triplegNum\"] == 1][[\"trip_id\", \"length\", \"mode\"]].copy()\n",
    "\n",
    "# get the mode and length of remaining trips\n",
    "remain = tpls_num.loc[tpls_num[\"triplegNum\"] != 1].copy()\n",
    "\n",
    "remain.sort_values(by=\"length\", inplace=True, ascending=False)\n",
    "mode = remain.groupby(\"trip_id\").head(1).reset_index(drop=True)[[\"mode\", \"trip_id\"]]\n",
    "\n",
    "length = remain.groupby(\"trip_id\")[\"length\"].sum().reset_index()\n",
    "res2 = mode.merge(length, on=\"trip_id\")\n",
    "\n",
    "# merge\n",
    "res = pd.concat([res1, res2])\n",
    "\n",
    "# cleaning\n",
    "res.rename(columns={\"trip_id\": \"id\"}, inplace=True)\n",
    "res.set_index(\"id\", inplace=True)"
   ]
  },
  {
   "cell_type": "code",
   "execution_count": 118,
   "metadata": {
    "execution": {
     "iopub.execute_input": "2024-06-11T16:05:49.238383Z",
     "iopub.status.busy": "2024-06-11T16:05:49.238383Z",
     "iopub.status.idle": "2024-06-11T16:05:49.447874Z",
     "shell.execute_reply": "2024-06-11T16:05:49.441964Z",
     "shell.execute_reply.started": "2024-06-11T16:05:49.238383Z"
    }
   },
   "outputs": [],
   "source": [
    "# merge to trip df\n",
    "trips_mode = trips.join(res, how=\"left\")"
   ]
  },
  {
   "cell_type": "code",
   "execution_count": 119,
   "metadata": {
    "execution": {
     "iopub.execute_input": "2024-06-11T16:05:49.450905Z",
     "iopub.status.busy": "2024-06-11T16:05:49.448870Z",
     "iopub.status.idle": "2024-06-11T16:05:49.604448Z",
     "shell.execute_reply": "2024-06-11T16:05:49.598464Z",
     "shell.execute_reply.started": "2024-06-11T16:05:49.450905Z"
    }
   },
   "outputs": [],
   "source": [
    "encode_dict = {\n",
    "    \"Car\": \"Car\",\n",
    "    \"Walk\": \"Walk\",\n",
    "    \"Bicycle\": \"Bicycle\",\n",
    "    \"Bus\": \"Bus\",\n",
    "    \"LightRail\": \"Train\",\n",
    "    \"Train\": \"Train\",\n",
    "    \"Tram\": \"Tram\",\n",
    "    \"RegionalTrain\": \"Train\",\n",
    "    \"Ebicycle\": \"Bicycle\",\n",
    "    \"MotorbikeScooter\": \"Car\",\n",
    "    \"Motorbike\": \"Car\",\n",
    "    \"Subway\": \"Tram\",\n",
    "    \"Airplane\": \"Other\",\n",
    "    \"Boat\": \"Other\",\n",
    "    \"Ski\": \"Other\",\n",
    "    \"TaxiUber\": \"Car\",\n",
    "    \"CarsharingMobility\": \"Car\",\n",
    "    \"Scooter\": \"Bicycle\",\n",
    "    \"Cablecar\": \"Bus\",\n",
    "    \"RidepoolingPikmi\": \"Car\",\n",
    "    \"Etrottinett\": \"Bicycle\",\n",
    "    \"Bikesharing\": \"Bicycle\",\n",
    "    \"Escooter\": \"Bicycle\",\n",
    "    \"Ferry\": \"Other\",   \n",
    "}\n",
    "trips_mode[\"mode\"] = trips_mode[\"mode\"].apply(lambda x: encode_dict[x])"
   ]
  },
  {
   "cell_type": "code",
   "execution_count": 120,
   "metadata": {
    "execution": {
     "iopub.execute_input": "2024-06-11T16:05:49.608438Z",
     "iopub.status.busy": "2024-06-11T16:05:49.608438Z",
     "iopub.status.idle": "2024-06-11T16:05:49.683745Z",
     "shell.execute_reply": "2024-06-11T16:05:49.676763Z",
     "shell.execute_reply.started": "2024-06-11T16:05:49.608438Z"
    }
   },
   "outputs": [
    {
     "data": {
      "text/plain": [
       "mode\n",
       "Car        550068\n",
       "Walk       367637\n",
       "Train       77182\n",
       "Bicycle     60633\n",
       "Bus         44164\n",
       "Tram        19667\n",
       "Other        4854\n",
       "Name: count, dtype: int64"
      ]
     },
     "execution_count": 120,
     "metadata": {},
     "output_type": "execute_result"
    }
   ],
   "source": [
    "trips_mode[\"mode\"].value_counts()"
   ]
  },
  {
   "cell_type": "code",
   "execution_count": 121,
   "metadata": {
    "execution": {
     "iopub.execute_input": "2024-06-11T16:05:49.688732Z",
     "iopub.status.busy": "2024-06-11T16:05:49.686737Z",
     "iopub.status.idle": "2024-06-11T16:05:49.730622Z",
     "shell.execute_reply": "2024-06-11T16:05:49.724635Z",
     "shell.execute_reply.started": "2024-06-11T16:05:49.688732Z"
    }
   },
   "outputs": [
    {
     "data": {
      "text/html": [
       "<div>\n",
       "<style scoped>\n",
       "    .dataframe tbody tr th:only-of-type {\n",
       "        vertical-align: middle;\n",
       "    }\n",
       "\n",
       "    .dataframe tbody tr th {\n",
       "        vertical-align: top;\n",
       "    }\n",
       "\n",
       "    .dataframe thead th {\n",
       "        text-align: right;\n",
       "    }\n",
       "</style>\n",
       "<table border=\"1\" class=\"dataframe\">\n",
       "  <thead>\n",
       "    <tr style=\"text-align: right;\">\n",
       "      <th></th>\n",
       "      <th>user_id</th>\n",
       "      <th>started_at</th>\n",
       "      <th>finished_at</th>\n",
       "      <th>origin_staypoint_id</th>\n",
       "      <th>destination_staypoint_id</th>\n",
       "      <th>length</th>\n",
       "      <th>mode</th>\n",
       "    </tr>\n",
       "    <tr>\n",
       "      <th>id</th>\n",
       "      <th></th>\n",
       "      <th></th>\n",
       "      <th></th>\n",
       "      <th></th>\n",
       "      <th></th>\n",
       "      <th></th>\n",
       "      <th></th>\n",
       "    </tr>\n",
       "  </thead>\n",
       "  <tbody>\n",
       "    <tr>\n",
       "      <th>621</th>\n",
       "      <td>AAGAF</td>\n",
       "      <td>2019-10-10 05:43:17.674999+00:00</td>\n",
       "      <td>2019-10-10 06:14:49.141999+00:00</td>\n",
       "      <td>295826.0</td>\n",
       "      <td>303827.0</td>\n",
       "      <td>11615.408548</td>\n",
       "      <td>Car</td>\n",
       "    </tr>\n",
       "    <tr>\n",
       "      <th>622</th>\n",
       "      <td>AAGAF</td>\n",
       "      <td>2019-10-10 06:53:54.841000+00:00</td>\n",
       "      <td>2019-10-10 07:03:24.426000+00:00</td>\n",
       "      <td>303827.0</td>\n",
       "      <td>304385.0</td>\n",
       "      <td>2104.855858</td>\n",
       "      <td>Car</td>\n",
       "    </tr>\n",
       "    <tr>\n",
       "      <th>623</th>\n",
       "      <td>AAGAF</td>\n",
       "      <td>2019-10-10 08:18:20.864000+00:00</td>\n",
       "      <td>2019-10-10 11:10:24.605999+00:00</td>\n",
       "      <td>304385.0</td>\n",
       "      <td>307381.0</td>\n",
       "      <td>4847.706521</td>\n",
       "      <td>Walk</td>\n",
       "    </tr>\n",
       "    <tr>\n",
       "      <th>624</th>\n",
       "      <td>AAGAF</td>\n",
       "      <td>2019-10-10 13:54:34.799339+00:00</td>\n",
       "      <td>2019-10-10 14:30:45.187999+00:00</td>\n",
       "      <td>307381.0</td>\n",
       "      <td>310069.0</td>\n",
       "      <td>12621.909935</td>\n",
       "      <td>Car</td>\n",
       "    </tr>\n",
       "    <tr>\n",
       "      <th>625</th>\n",
       "      <td>AAGAF</td>\n",
       "      <td>2019-10-10 15:07:07.127239+00:00</td>\n",
       "      <td>2019-10-10 15:30:34.460999+00:00</td>\n",
       "      <td>310069.0</td>\n",
       "      <td>311096.0</td>\n",
       "      <td>10288.796297</td>\n",
       "      <td>Car</td>\n",
       "    </tr>\n",
       "  </tbody>\n",
       "</table>\n",
       "</div>"
      ],
      "text/plain": [
       "    user_id                       started_at                      finished_at  \\\n",
       "id                                                                              \n",
       "621   AAGAF 2019-10-10 05:43:17.674999+00:00 2019-10-10 06:14:49.141999+00:00   \n",
       "622   AAGAF 2019-10-10 06:53:54.841000+00:00 2019-10-10 07:03:24.426000+00:00   \n",
       "623   AAGAF 2019-10-10 08:18:20.864000+00:00 2019-10-10 11:10:24.605999+00:00   \n",
       "624   AAGAF 2019-10-10 13:54:34.799339+00:00 2019-10-10 14:30:45.187999+00:00   \n",
       "625   AAGAF 2019-10-10 15:07:07.127239+00:00 2019-10-10 15:30:34.460999+00:00   \n",
       "\n",
       "     origin_staypoint_id  destination_staypoint_id        length  mode  \n",
       "id                                                                      \n",
       "621             295826.0                  303827.0  11615.408548   Car  \n",
       "622             303827.0                  304385.0   2104.855858   Car  \n",
       "623             304385.0                  307381.0   4847.706521  Walk  \n",
       "624             307381.0                  310069.0  12621.909935   Car  \n",
       "625             310069.0                  311096.0  10288.796297   Car  "
      ]
     },
     "execution_count": 121,
     "metadata": {},
     "output_type": "execute_result"
    }
   ],
   "source": [
    "trips_mode.head()"
   ]
  },
  {
   "cell_type": "code",
   "execution_count": 122,
   "metadata": {
    "execution": {
     "iopub.execute_input": "2024-06-11T16:05:49.735608Z",
     "iopub.status.busy": "2024-06-11T16:05:49.734611Z",
     "iopub.status.idle": "2024-06-11T16:05:51.195154Z",
     "shell.execute_reply": "2024-06-11T16:05:51.190390Z",
     "shell.execute_reply.started": "2024-06-11T16:05:49.735608Z"
    }
   },
   "outputs": [],
   "source": [
    "# combine with sp df\n",
    "with_pre_trip = sp_swiss_act.loc[~sp_swiss_act[\"prev_trip_id\"].isna()].copy()\n",
    "\n",
    "with_pre_res = with_pre_trip.merge(trips_mode.reset_index()[[\"length\", \"mode\", \"id\"]], how=\"left\", left_on=\"prev_trip_id\", right_on=\"id\")\n",
    "\n",
    "no_pre_trip = sp_swiss_act.loc[sp_swiss_act[\"prev_trip_id\"].isna()].copy()\n",
    "no_pre_trip[\"length\"] = 0\n",
    "no_pre_trip[\"mode\"] = \"None\"\n",
    "\n",
    "# concat result\n",
    "sp_trip = pd.concat([with_pre_res, no_pre_trip]).drop(columns=[\"prev_trip_id\", \"next_trip_id\", \"trip_id\", \"id\"])"
   ]
  },
  {
   "cell_type": "code",
   "execution_count": 123,
   "metadata": {
    "execution": {
     "iopub.execute_input": "2024-06-11T16:05:51.197172Z",
     "iopub.status.busy": "2024-06-11T16:05:51.196117Z",
     "iopub.status.idle": "2024-06-11T16:05:51.257471Z",
     "shell.execute_reply": "2024-06-11T16:05:51.252483Z",
     "shell.execute_reply.started": "2024-06-11T16:05:51.197172Z"
    }
   },
   "outputs": [
    {
     "data": {
      "text/plain": [
       "(1094017,\n",
       " 1094017,\n",
       " mode\n",
       " Car        505835\n",
       " Walk       327049\n",
       " Train       72166\n",
       " None        69844\n",
       " Bicycle     57758\n",
       " Bus         41264\n",
       " Tram        17419\n",
       " Other        2682\n",
       " Name: count, dtype: int64)"
      ]
     },
     "execution_count": 123,
     "metadata": {},
     "output_type": "execute_result"
    }
   ],
   "source": [
    "len(sp_swiss_act), len(sp_trip), sp_trip[\"mode\"].value_counts()"
   ]
  },
  {
   "cell_type": "code",
   "execution_count": 169,
   "metadata": {
    "execution": {
     "iopub.execute_input": "2024-06-11T20:36:59.043549Z",
     "iopub.status.busy": "2024-06-11T20:36:59.041553Z",
     "iopub.status.idle": "2024-06-11T20:36:59.489113Z",
     "shell.execute_reply": "2024-06-11T20:36:59.485613Z",
     "shell.execute_reply.started": "2024-06-11T20:36:59.043549Z"
    }
   },
   "outputs": [],
   "source": [
    "sp_trip.sort_values(by=[\"user_id\", \"started_at\"], inplace=True)\n",
    "sp_trip.reset_index(drop=True, inplace=True)\n",
    "sp_trip.index.name = \"id\""
   ]
  },
  {
   "cell_type": "code",
   "execution_count": 170,
   "metadata": {
    "collapsed": true,
    "execution": {
     "iopub.execute_input": "2024-06-11T20:37:00.872906Z",
     "iopub.status.busy": "2024-06-11T20:37:00.872906Z",
     "iopub.status.idle": "2024-06-11T20:37:00.919293Z",
     "shell.execute_reply": "2024-06-11T20:37:00.914307Z",
     "shell.execute_reply.started": "2024-06-11T20:37:00.872906Z"
    },
    "jupyter": {
     "outputs_hidden": true
    }
   },
   "outputs": [
    {
     "data": {
      "text/html": [
       "<div>\n",
       "<style scoped>\n",
       "    .dataframe tbody tr th:only-of-type {\n",
       "        vertical-align: middle;\n",
       "    }\n",
       "\n",
       "    .dataframe tbody tr th {\n",
       "        vertical-align: top;\n",
       "    }\n",
       "\n",
       "    .dataframe thead th {\n",
       "        text-align: right;\n",
       "    }\n",
       "</style>\n",
       "<table border=\"1\" class=\"dataframe\">\n",
       "  <thead>\n",
       "    <tr style=\"text-align: right;\">\n",
       "      <th></th>\n",
       "      <th>detected_purpose</th>\n",
       "      <th>duration</th>\n",
       "      <th>finished_at</th>\n",
       "      <th>geometry</th>\n",
       "      <th>is_activity</th>\n",
       "      <th>overseas</th>\n",
       "      <th>purpose</th>\n",
       "      <th>started_at</th>\n",
       "      <th>user_id</th>\n",
       "      <th>length</th>\n",
       "      <th>mode</th>\n",
       "    </tr>\n",
       "    <tr>\n",
       "      <th>id</th>\n",
       "      <th></th>\n",
       "      <th></th>\n",
       "      <th></th>\n",
       "      <th></th>\n",
       "      <th></th>\n",
       "      <th></th>\n",
       "      <th></th>\n",
       "      <th></th>\n",
       "      <th></th>\n",
       "      <th></th>\n",
       "      <th></th>\n",
       "    </tr>\n",
       "  </thead>\n",
       "  <tbody>\n",
       "    <tr>\n",
       "      <th>0</th>\n",
       "      <td>unknown</td>\n",
       "      <td>65563.533999</td>\n",
       "      <td>2019-10-10 05:43:17.674999+00:00</td>\n",
       "      <td>POINT (7.56522 47.54562)</td>\n",
       "      <td>True</td>\n",
       "      <td>False</td>\n",
       "      <td>unknown</td>\n",
       "      <td>2019-10-09 11:30:34.141000+00:00</td>\n",
       "      <td>AAGAF</td>\n",
       "      <td>0.000000</td>\n",
       "      <td>None</td>\n",
       "    </tr>\n",
       "    <tr>\n",
       "      <th>1</th>\n",
       "      <td>unknown</td>\n",
       "      <td>2345.699001</td>\n",
       "      <td>2019-10-10 06:53:54.841000+00:00</td>\n",
       "      <td>POINT (7.56376 47.54795)</td>\n",
       "      <td>True</td>\n",
       "      <td>False</td>\n",
       "      <td>unknown</td>\n",
       "      <td>2019-10-10 06:14:49.141999+00:00</td>\n",
       "      <td>AAGAF</td>\n",
       "      <td>11615.408548</td>\n",
       "      <td>Car</td>\n",
       "    </tr>\n",
       "    <tr>\n",
       "      <th>2</th>\n",
       "      <td>unknown</td>\n",
       "      <td>4496.438000</td>\n",
       "      <td>2019-10-10 08:18:20.864000+00:00</td>\n",
       "      <td>POINT (7.58173 47.55644)</td>\n",
       "      <td>True</td>\n",
       "      <td>False</td>\n",
       "      <td>unknown</td>\n",
       "      <td>2019-10-10 07:03:24.426000+00:00</td>\n",
       "      <td>AAGAF</td>\n",
       "      <td>2104.855858</td>\n",
       "      <td>Car</td>\n",
       "    </tr>\n",
       "    <tr>\n",
       "      <th>3</th>\n",
       "      <td>unknown</td>\n",
       "      <td>9850.193340</td>\n",
       "      <td>2019-10-10 13:54:34.799339+00:00</td>\n",
       "      <td>POINT (7.58173 47.55641)</td>\n",
       "      <td>True</td>\n",
       "      <td>False</td>\n",
       "      <td>unknown</td>\n",
       "      <td>2019-10-10 11:10:24.605999+00:00</td>\n",
       "      <td>AAGAF</td>\n",
       "      <td>4847.706521</td>\n",
       "      <td>Walk</td>\n",
       "    </tr>\n",
       "    <tr>\n",
       "      <th>4</th>\n",
       "      <td>unknown</td>\n",
       "      <td>19240.168000</td>\n",
       "      <td>2019-10-11 11:36:29.907000+00:00</td>\n",
       "      <td>POINT (7.56513 47.54571)</td>\n",
       "      <td>True</td>\n",
       "      <td>False</td>\n",
       "      <td>unknown</td>\n",
       "      <td>2019-10-11 06:15:49.739000+00:00</td>\n",
       "      <td>AAGAF</td>\n",
       "      <td>8667.529201</td>\n",
       "      <td>Bus</td>\n",
       "    </tr>\n",
       "  </tbody>\n",
       "</table>\n",
       "</div>"
      ],
      "text/plain": [
       "   detected_purpose      duration                      finished_at  \\\n",
       "id                                                                   \n",
       "0           unknown  65563.533999 2019-10-10 05:43:17.674999+00:00   \n",
       "1           unknown   2345.699001 2019-10-10 06:53:54.841000+00:00   \n",
       "2           unknown   4496.438000 2019-10-10 08:18:20.864000+00:00   \n",
       "3           unknown   9850.193340 2019-10-10 13:54:34.799339+00:00   \n",
       "4           unknown  19240.168000 2019-10-11 11:36:29.907000+00:00   \n",
       "\n",
       "                    geometry  is_activity overseas  purpose  \\\n",
       "id                                                            \n",
       "0   POINT (7.56522 47.54562)         True    False  unknown   \n",
       "1   POINT (7.56376 47.54795)         True    False  unknown   \n",
       "2   POINT (7.58173 47.55644)         True    False  unknown   \n",
       "3   POINT (7.58173 47.55641)         True    False  unknown   \n",
       "4   POINT (7.56513 47.54571)         True    False  unknown   \n",
       "\n",
       "                         started_at user_id        length  mode  \n",
       "id                                                               \n",
       "0  2019-10-09 11:30:34.141000+00:00   AAGAF      0.000000  None  \n",
       "1  2019-10-10 06:14:49.141999+00:00   AAGAF  11615.408548   Car  \n",
       "2  2019-10-10 07:03:24.426000+00:00   AAGAF   2104.855858   Car  \n",
       "3  2019-10-10 11:10:24.605999+00:00   AAGAF   4847.706521  Walk  \n",
       "4  2019-10-11 06:15:49.739000+00:00   AAGAF   8667.529201   Bus  "
      ]
     },
     "execution_count": 170,
     "metadata": {},
     "output_type": "execute_result"
    }
   ],
   "source": [
    "sp_trip.head()"
   ]
  },
  {
   "cell_type": "markdown",
   "metadata": {},
   "source": [
    "## Assign unknown travel modes"
   ]
  },
  {
   "cell_type": "code",
   "execution_count": 187,
   "metadata": {
    "execution": {
     "iopub.execute_input": "2024-06-11T20:48:25.827638Z",
     "iopub.status.busy": "2024-06-11T20:48:25.825642Z",
     "iopub.status.idle": "2024-06-11T20:48:31.442145Z",
     "shell.execute_reply": "2024-06-11T20:48:31.436161Z",
     "shell.execute_reply.started": "2024-06-11T20:48:25.827638Z"
    }
   },
   "outputs": [],
   "source": [
    "def assign_unknown_modes(df):\n",
    "    df.loc[df[\"mode\"]==\"None\", \"mode\"] = pd.NA\n",
    "    df[\"mode\"] = df[\"mode\"].ffill(axis=0).bfill(axis=0)\n",
    "    return df\n",
    "\n",
    "sp_trip_fill_mode = sp_trip.groupby(\"user_id\", as_index=False).apply(assign_unknown_modes).reset_index(drop=True)\n",
    "sp_trip_fill_mode.index.name = \"id\""
   ]
  },
  {
   "cell_type": "code",
   "execution_count": 188,
   "metadata": {
    "execution": {
     "iopub.execute_input": "2024-06-11T20:48:43.319084Z",
     "iopub.status.busy": "2024-06-11T20:48:43.317090Z",
     "iopub.status.idle": "2024-06-11T20:48:43.379229Z",
     "shell.execute_reply": "2024-06-11T20:48:43.373940Z",
     "shell.execute_reply.started": "2024-06-11T20:48:43.319084Z"
    }
   },
   "outputs": [
    {
     "data": {
      "text/plain": [
       "(1094017,\n",
       " 1094017,\n",
       " mode\n",
       " Car        536895\n",
       " Walk       352159\n",
       " Train       78154\n",
       " Bicycle     61527\n",
       " Bus         43879\n",
       " Tram        18596\n",
       " Other        2807\n",
       " Name: count, dtype: int64)"
      ]
     },
     "execution_count": 188,
     "metadata": {},
     "output_type": "execute_result"
    }
   ],
   "source": [
    "len(sp_swiss_act), len(sp_trip_fill_mode), sp_trip_fill_mode[\"mode\"].value_counts()"
   ]
  },
  {
   "cell_type": "markdown",
   "metadata": {},
   "source": [
    "# Generate locations"
   ]
  },
  {
   "cell_type": "code",
   "execution_count": 189,
   "metadata": {
    "execution": {
     "iopub.execute_input": "2024-06-11T20:49:18.114986Z",
     "iopub.status.busy": "2024-06-11T20:49:18.114986Z",
     "iopub.status.idle": "2024-06-11T20:50:18.338269Z",
     "shell.execute_reply": "2024-06-11T20:50:18.334900Z",
     "shell.execute_reply.started": "2024-06-11T20:49:18.114986Z"
    }
   },
   "outputs": [],
   "source": [
    "sp_locs, locs = sp_trip_fill_mode.as_staypoints.generate_locations(\n",
    "    epsilon=20, num_samples=1, distance_metric=\"haversine\", agg_level=\"dataset\", n_jobs=-1\n",
    ")"
   ]
  },
  {
   "cell_type": "markdown",
   "metadata": {},
   "source": [
    "## Filter noise staypoints"
   ]
  },
  {
   "cell_type": "code",
   "execution_count": 190,
   "metadata": {
    "execution": {
     "iopub.execute_input": "2024-06-11T20:52:02.762410Z",
     "iopub.status.busy": "2024-06-11T20:52:02.757423Z",
     "iopub.status.idle": "2024-06-11T20:52:03.129231Z",
     "shell.execute_reply": "2024-06-11T20:52:03.122249Z",
     "shell.execute_reply.started": "2024-06-11T20:52:02.762410Z"
    }
   },
   "outputs": [
    {
     "name": "stdout",
     "output_type": "stream",
     "text": [
      "After filter non-location staypoints:  1094017\n"
     ]
    }
   ],
   "source": [
    "sp_filter = sp_locs.loc[~sp_locs[\"location_id\"].isna()].copy()\n",
    "print(\"After filter non-location staypoints: \", sp_filter.shape[0])"
   ]
  },
  {
   "cell_type": "markdown",
   "metadata": {},
   "source": [
    "## Save locations"
   ]
  },
  {
   "cell_type": "code",
   "execution_count": 192,
   "metadata": {
    "execution": {
     "iopub.execute_input": "2024-06-11T20:52:52.398101Z",
     "iopub.status.busy": "2024-06-11T20:52:52.397104Z",
     "iopub.status.idle": "2024-06-11T20:53:17.764986Z",
     "shell.execute_reply": "2024-06-11T20:53:17.743011Z",
     "shell.execute_reply.started": "2024-06-11T20:52:52.398101Z"
    }
   },
   "outputs": [
    {
     "name": "stdout",
     "output_type": "stream",
     "text": [
      "Location size:  162303 162303\n"
     ]
    }
   ],
   "source": [
    "locs = locs[~locs.index.duplicated(keep=\"first\")]\n",
    "filtered_locs = locs.loc[locs.index.isin(sp_filter[\"location_id\"].unique())]\n",
    "\n",
    "# locations without duplication, user_id have no meaning\n",
    "filtered_locs.as_locations.to_csv(os.path.join(\"..\", \"data\", f\"loc.csv\"))\n",
    "print(\"Location size: \", sp_filter[\"location_id\"].unique().shape[0], filtered_locs.shape[0])"
   ]
  },
  {
   "cell_type": "markdown",
   "metadata": {},
   "source": [
    "## merge staypoints"
   ]
  },
  {
   "cell_type": "code",
   "execution_count": 193,
   "metadata": {
    "execution": {
     "iopub.execute_input": "2024-06-11T20:54:10.979037Z",
     "iopub.status.busy": "2024-06-11T20:54:10.979037Z",
     "iopub.status.idle": "2024-06-11T20:55:06.237142Z",
     "shell.execute_reply": "2024-06-11T20:55:06.229168Z",
     "shell.execute_reply.started": "2024-06-11T20:54:10.979037Z"
    }
   },
   "outputs": [
    {
     "name": "stderr",
     "output_type": "stream",
     "text": [
      "C:\\ProgramData\\Anaconda3\\envs\\generation\\lib\\site-packages\\trackintel\\preprocessing\\staypoints.py:286: FutureWarning: The behavior of DataFrame concatenation with empty or all-NA entries is deprecated. In a future version, this will no longer exclude empty or all-NA columns when determining the result dtypes. To retain the old behavior, exclude the relevant entries before the concat operation.\n",
      "  sp_tpls = pd.concat([sp_merge, tpls_merge]).sort_values(by=[\"user_id\", \"started_at\"])\n"
     ]
    },
    {
     "name": "stdout",
     "output_type": "stream",
     "text": [
      "After staypoints merging:  1079922\n"
     ]
    }
   ],
   "source": [
    "sp_filter = sp_filter[[\"user_id\", \"started_at\", \"finished_at\", \"geometry\", \"length\", \"mode\", \"location_id\"]].reset_index(drop=True)\n",
    "sp_filter.index.name = \"id\"\n",
    "\n",
    "sp_merged = sp_filter.as_staypoints.merge_staypoints(\n",
    "    triplegs=pd.DataFrame([]), max_time_gap=\"1min\", agg={\"location_id\": \"first\", \"mode\":\"first\", \"length\":\"sum\", \"geometry\": \"first\"}\n",
    ")\n",
    "print(\"After staypoints merging: \", sp_merged.shape[0])"
   ]
  },
  {
   "cell_type": "code",
   "execution_count": 194,
   "metadata": {
    "execution": {
     "iopub.execute_input": "2024-06-11T20:55:06.250617Z",
     "iopub.status.busy": "2024-06-11T20:55:06.250617Z",
     "iopub.status.idle": "2024-06-11T20:55:06.298487Z",
     "shell.execute_reply": "2024-06-11T20:55:06.291508Z",
     "shell.execute_reply.started": "2024-06-11T20:55:06.250617Z"
    }
   },
   "outputs": [
    {
     "data": {
      "text/html": [
       "<div>\n",
       "<style scoped>\n",
       "    .dataframe tbody tr th:only-of-type {\n",
       "        vertical-align: middle;\n",
       "    }\n",
       "\n",
       "    .dataframe tbody tr th {\n",
       "        vertical-align: top;\n",
       "    }\n",
       "\n",
       "    .dataframe thead th {\n",
       "        text-align: right;\n",
       "    }\n",
       "</style>\n",
       "<table border=\"1\" class=\"dataframe\">\n",
       "  <thead>\n",
       "    <tr style=\"text-align: right;\">\n",
       "      <th></th>\n",
       "      <th>user_id</th>\n",
       "      <th>started_at</th>\n",
       "      <th>finished_at</th>\n",
       "      <th>location_id</th>\n",
       "      <th>mode</th>\n",
       "      <th>length</th>\n",
       "      <th>geometry</th>\n",
       "    </tr>\n",
       "    <tr>\n",
       "      <th>id</th>\n",
       "      <th></th>\n",
       "      <th></th>\n",
       "      <th></th>\n",
       "      <th></th>\n",
       "      <th></th>\n",
       "      <th></th>\n",
       "      <th></th>\n",
       "    </tr>\n",
       "  </thead>\n",
       "  <tbody>\n",
       "    <tr>\n",
       "      <th>0</th>\n",
       "      <td>AAGAF</td>\n",
       "      <td>2019-10-09 11:30:34.141000+00:00</td>\n",
       "      <td>2019-10-10 05:43:17.674999+00:00</td>\n",
       "      <td>0</td>\n",
       "      <td>Car</td>\n",
       "      <td>0.0</td>\n",
       "      <td>POINT (7.56522 47.54562)</td>\n",
       "    </tr>\n",
       "    <tr>\n",
       "      <th>1</th>\n",
       "      <td>AAGAF</td>\n",
       "      <td>2019-10-10 06:14:49.141999+00:00</td>\n",
       "      <td>2019-10-10 06:53:54.841000+00:00</td>\n",
       "      <td>1</td>\n",
       "      <td>Car</td>\n",
       "      <td>11615.408548</td>\n",
       "      <td>POINT (7.56376 47.54795)</td>\n",
       "    </tr>\n",
       "    <tr>\n",
       "      <th>2</th>\n",
       "      <td>AAGAF</td>\n",
       "      <td>2019-10-10 07:03:24.426000+00:00</td>\n",
       "      <td>2019-10-10 08:18:20.864000+00:00</td>\n",
       "      <td>2</td>\n",
       "      <td>Car</td>\n",
       "      <td>2104.855858</td>\n",
       "      <td>POINT (7.58173 47.55644)</td>\n",
       "    </tr>\n",
       "    <tr>\n",
       "      <th>3</th>\n",
       "      <td>AAGAF</td>\n",
       "      <td>2019-10-10 11:10:24.605999+00:00</td>\n",
       "      <td>2019-10-10 13:54:34.799339+00:00</td>\n",
       "      <td>2</td>\n",
       "      <td>Walk</td>\n",
       "      <td>4847.706521</td>\n",
       "      <td>POINT (7.58173 47.55641)</td>\n",
       "    </tr>\n",
       "    <tr>\n",
       "      <th>4</th>\n",
       "      <td>AAGAF</td>\n",
       "      <td>2019-10-11 06:15:49.739000+00:00</td>\n",
       "      <td>2019-10-11 11:36:29.907000+00:00</td>\n",
       "      <td>0</td>\n",
       "      <td>Bus</td>\n",
       "      <td>8667.529201</td>\n",
       "      <td>POINT (7.56513 47.54571)</td>\n",
       "    </tr>\n",
       "  </tbody>\n",
       "</table>\n",
       "</div>"
      ],
      "text/plain": [
       "   user_id                       started_at                      finished_at  \\\n",
       "id                                                                             \n",
       "0    AAGAF 2019-10-09 11:30:34.141000+00:00 2019-10-10 05:43:17.674999+00:00   \n",
       "1    AAGAF 2019-10-10 06:14:49.141999+00:00 2019-10-10 06:53:54.841000+00:00   \n",
       "2    AAGAF 2019-10-10 07:03:24.426000+00:00 2019-10-10 08:18:20.864000+00:00   \n",
       "3    AAGAF 2019-10-10 11:10:24.605999+00:00 2019-10-10 13:54:34.799339+00:00   \n",
       "4    AAGAF 2019-10-11 06:15:49.739000+00:00 2019-10-11 11:36:29.907000+00:00   \n",
       "\n",
       "    location_id  mode        length                  geometry  \n",
       "id                                                             \n",
       "0             0   Car           0.0  POINT (7.56522 47.54562)  \n",
       "1             1   Car  11615.408548  POINT (7.56376 47.54795)  \n",
       "2             2   Car   2104.855858  POINT (7.58173 47.55644)  \n",
       "3             2  Walk   4847.706521  POINT (7.58173 47.55641)  \n",
       "4             0   Bus   8667.529201  POINT (7.56513 47.54571)  "
      ]
     },
     "execution_count": 194,
     "metadata": {},
     "output_type": "execute_result"
    }
   ],
   "source": [
    "sp_merged.head()"
   ]
  },
  {
   "cell_type": "markdown",
   "metadata": {},
   "source": [
    "# Calculate staypoint duration and activity duration"
   ]
  },
  {
   "cell_type": "code",
   "execution_count": 195,
   "metadata": {
    "execution": {
     "iopub.execute_input": "2024-06-11T20:55:33.434030Z",
     "iopub.status.busy": "2024-06-11T20:55:33.430041Z",
     "iopub.status.idle": "2024-06-11T20:55:33.882385Z",
     "shell.execute_reply": "2024-06-11T20:55:33.877456Z",
     "shell.execute_reply.started": "2024-06-11T20:55:33.434030Z"
    }
   },
   "outputs": [],
   "source": [
    "sp_merged.sort_values(by=[\"user_id\", \"started_at\"], inplace=True)\n",
    "\n",
    "sp_merged[\"duration\"] = (sp_merged[\"finished_at\"] - sp_merged[\"started_at\"]).dt.total_seconds() // 60"
   ]
  },
  {
   "cell_type": "code",
   "execution_count": 196,
   "metadata": {
    "execution": {
     "iopub.execute_input": "2024-06-11T20:55:33.889366Z",
     "iopub.status.busy": "2024-06-11T20:55:33.887372Z",
     "iopub.status.idle": "2024-06-11T20:55:36.866009Z",
     "shell.execute_reply": "2024-06-11T20:55:36.857992Z",
     "shell.execute_reply.started": "2024-06-11T20:55:33.889366Z"
    }
   },
   "outputs": [],
   "source": [
    "def get_act_duration(df):\n",
    "    df[\"act_duration\"] = pd.NA\n",
    "    df[\"act_duration\"] = (df[\"finished_at\"].shift(-1) - df[\"finished_at\"]).dt.total_seconds().shift(1)// 60\n",
    "    \n",
    "    df[\"act_duration\"].iloc[0] = df[\"duration\"].iloc[0]\n",
    "\n",
    "    return df[\"act_duration\"]\n",
    "\n",
    "sp_merged[\"act_duration\"] = sp_merged.groupby(\"user_id\").apply(get_act_duration).values"
   ]
  },
  {
   "cell_type": "code",
   "execution_count": 197,
   "metadata": {
    "execution": {
     "iopub.execute_input": "2024-06-11T20:55:36.877939Z",
     "iopub.status.busy": "2024-06-11T20:55:36.875944Z",
     "iopub.status.idle": "2024-06-11T20:55:36.929315Z",
     "shell.execute_reply": "2024-06-11T20:55:36.920339Z",
     "shell.execute_reply.started": "2024-06-11T20:55:36.877939Z"
    }
   },
   "outputs": [
    {
     "data": {
      "text/html": [
       "<div>\n",
       "<style scoped>\n",
       "    .dataframe tbody tr th:only-of-type {\n",
       "        vertical-align: middle;\n",
       "    }\n",
       "\n",
       "    .dataframe tbody tr th {\n",
       "        vertical-align: top;\n",
       "    }\n",
       "\n",
       "    .dataframe thead th {\n",
       "        text-align: right;\n",
       "    }\n",
       "</style>\n",
       "<table border=\"1\" class=\"dataframe\">\n",
       "  <thead>\n",
       "    <tr style=\"text-align: right;\">\n",
       "      <th></th>\n",
       "      <th>user_id</th>\n",
       "      <th>started_at</th>\n",
       "      <th>finished_at</th>\n",
       "      <th>location_id</th>\n",
       "      <th>mode</th>\n",
       "      <th>length</th>\n",
       "      <th>geometry</th>\n",
       "      <th>duration</th>\n",
       "      <th>act_duration</th>\n",
       "    </tr>\n",
       "    <tr>\n",
       "      <th>id</th>\n",
       "      <th></th>\n",
       "      <th></th>\n",
       "      <th></th>\n",
       "      <th></th>\n",
       "      <th></th>\n",
       "      <th></th>\n",
       "      <th></th>\n",
       "      <th></th>\n",
       "      <th></th>\n",
       "    </tr>\n",
       "  </thead>\n",
       "  <tbody>\n",
       "    <tr>\n",
       "      <th>0</th>\n",
       "      <td>AAGAF</td>\n",
       "      <td>2019-10-09 11:30:34.141000+00:00</td>\n",
       "      <td>2019-10-10 05:43:17.674999+00:00</td>\n",
       "      <td>0</td>\n",
       "      <td>Car</td>\n",
       "      <td>0.0</td>\n",
       "      <td>POINT (7.56522 47.54562)</td>\n",
       "      <td>1092.0</td>\n",
       "      <td>1092.0</td>\n",
       "    </tr>\n",
       "    <tr>\n",
       "      <th>1</th>\n",
       "      <td>AAGAF</td>\n",
       "      <td>2019-10-10 06:14:49.141999+00:00</td>\n",
       "      <td>2019-10-10 06:53:54.841000+00:00</td>\n",
       "      <td>1</td>\n",
       "      <td>Car</td>\n",
       "      <td>11615.408548</td>\n",
       "      <td>POINT (7.56376 47.54795)</td>\n",
       "      <td>39.0</td>\n",
       "      <td>70.0</td>\n",
       "    </tr>\n",
       "    <tr>\n",
       "      <th>2</th>\n",
       "      <td>AAGAF</td>\n",
       "      <td>2019-10-10 07:03:24.426000+00:00</td>\n",
       "      <td>2019-10-10 08:18:20.864000+00:00</td>\n",
       "      <td>2</td>\n",
       "      <td>Car</td>\n",
       "      <td>2104.855858</td>\n",
       "      <td>POINT (7.58173 47.55644)</td>\n",
       "      <td>74.0</td>\n",
       "      <td>84.0</td>\n",
       "    </tr>\n",
       "    <tr>\n",
       "      <th>3</th>\n",
       "      <td>AAGAF</td>\n",
       "      <td>2019-10-10 11:10:24.605999+00:00</td>\n",
       "      <td>2019-10-10 13:54:34.799339+00:00</td>\n",
       "      <td>2</td>\n",
       "      <td>Walk</td>\n",
       "      <td>4847.706521</td>\n",
       "      <td>POINT (7.58173 47.55641)</td>\n",
       "      <td>164.0</td>\n",
       "      <td>336.0</td>\n",
       "    </tr>\n",
       "    <tr>\n",
       "      <th>4</th>\n",
       "      <td>AAGAF</td>\n",
       "      <td>2019-10-11 06:15:49.739000+00:00</td>\n",
       "      <td>2019-10-11 11:36:29.907000+00:00</td>\n",
       "      <td>0</td>\n",
       "      <td>Bus</td>\n",
       "      <td>8667.529201</td>\n",
       "      <td>POINT (7.56513 47.54571)</td>\n",
       "      <td>320.0</td>\n",
       "      <td>1301.0</td>\n",
       "    </tr>\n",
       "  </tbody>\n",
       "</table>\n",
       "</div>"
      ],
      "text/plain": [
       "   user_id                       started_at                      finished_at  \\\n",
       "id                                                                             \n",
       "0    AAGAF 2019-10-09 11:30:34.141000+00:00 2019-10-10 05:43:17.674999+00:00   \n",
       "1    AAGAF 2019-10-10 06:14:49.141999+00:00 2019-10-10 06:53:54.841000+00:00   \n",
       "2    AAGAF 2019-10-10 07:03:24.426000+00:00 2019-10-10 08:18:20.864000+00:00   \n",
       "3    AAGAF 2019-10-10 11:10:24.605999+00:00 2019-10-10 13:54:34.799339+00:00   \n",
       "4    AAGAF 2019-10-11 06:15:49.739000+00:00 2019-10-11 11:36:29.907000+00:00   \n",
       "\n",
       "    location_id  mode        length                  geometry  duration  \\\n",
       "id                                                                        \n",
       "0             0   Car           0.0  POINT (7.56522 47.54562)    1092.0   \n",
       "1             1   Car  11615.408548  POINT (7.56376 47.54795)      39.0   \n",
       "2             2   Car   2104.855858  POINT (7.58173 47.55644)      74.0   \n",
       "3             2  Walk   4847.706521  POINT (7.58173 47.55641)     164.0   \n",
       "4             0   Bus   8667.529201  POINT (7.56513 47.54571)     320.0   \n",
       "\n",
       "    act_duration  \n",
       "id                \n",
       "0         1092.0  \n",
       "1           70.0  \n",
       "2           84.0  \n",
       "3          336.0  \n",
       "4         1301.0  "
      ]
     },
     "execution_count": 197,
     "metadata": {},
     "output_type": "execute_result"
    }
   ],
   "source": [
    "sp_merged.head()"
   ]
  },
  {
   "cell_type": "markdown",
   "metadata": {},
   "source": [
    "# Validate and save"
   ]
  },
  {
   "cell_type": "code",
   "execution_count": 198,
   "metadata": {
    "execution": {
     "iopub.execute_input": "2024-06-11T20:55:40.002858Z",
     "iopub.status.busy": "2024-06-11T20:55:40.001860Z",
     "iopub.status.idle": "2024-06-11T20:55:40.075241Z",
     "shell.execute_reply": "2024-06-11T20:55:40.068260Z",
     "shell.execute_reply.started": "2024-06-11T20:55:40.002858Z"
    }
   },
   "outputs": [
    {
     "name": "stdout",
     "output_type": "stream",
     "text": [
      "User size:  2112\n"
     ]
    }
   ],
   "source": [
    "print(\"User size: \", len(sp_merged[\"user_id\"].unique()))"
   ]
  },
  {
   "cell_type": "code",
   "execution_count": 199,
   "metadata": {
    "execution": {
     "iopub.execute_input": "2024-06-11T20:55:40.687083Z",
     "iopub.status.busy": "2024-06-11T20:55:40.685088Z",
     "iopub.status.idle": "2024-06-11T20:56:06.748557Z",
     "shell.execute_reply": "2024-06-11T20:56:06.741575Z",
     "shell.execute_reply.started": "2024-06-11T20:55:40.687083Z"
    }
   },
   "outputs": [],
   "source": [
    "sp_merged.to_csv(os.path.join(\"..\", \"data\", f\"sp_all.csv\"))"
   ]
  },
  {
   "cell_type": "markdown",
   "metadata": {},
   "source": [
    "# Generate small dataset"
   ]
  },
  {
   "cell_type": "code",
   "execution_count": 200,
   "metadata": {
    "execution": {
     "iopub.execute_input": "2024-06-11T20:56:41.062501Z",
     "iopub.status.busy": "2024-06-11T20:56:41.062501Z",
     "iopub.status.idle": "2024-06-11T20:56:48.867694Z",
     "shell.execute_reply": "2024-06-11T20:56:48.859708Z",
     "shell.execute_reply.started": "2024-06-11T20:56:41.062501Z"
    }
   },
   "outputs": [
    {
     "data": {
      "text/html": [
       "<div>\n",
       "<style scoped>\n",
       "    .dataframe tbody tr th:only-of-type {\n",
       "        vertical-align: middle;\n",
       "    }\n",
       "\n",
       "    .dataframe tbody tr th {\n",
       "        vertical-align: top;\n",
       "    }\n",
       "\n",
       "    .dataframe thead th {\n",
       "        text-align: right;\n",
       "    }\n",
       "</style>\n",
       "<table border=\"1\" class=\"dataframe\">\n",
       "  <thead>\n",
       "    <tr style=\"text-align: right;\">\n",
       "      <th></th>\n",
       "      <th>user_id</th>\n",
       "      <th>started_at</th>\n",
       "      <th>finished_at</th>\n",
       "      <th>location_id</th>\n",
       "      <th>mode</th>\n",
       "      <th>length</th>\n",
       "      <th>geometry</th>\n",
       "      <th>duration</th>\n",
       "      <th>act_duration</th>\n",
       "    </tr>\n",
       "    <tr>\n",
       "      <th>id</th>\n",
       "      <th></th>\n",
       "      <th></th>\n",
       "      <th></th>\n",
       "      <th></th>\n",
       "      <th></th>\n",
       "      <th></th>\n",
       "      <th></th>\n",
       "      <th></th>\n",
       "      <th></th>\n",
       "    </tr>\n",
       "  </thead>\n",
       "  <tbody>\n",
       "    <tr>\n",
       "      <th>0</th>\n",
       "      <td>AAGAF</td>\n",
       "      <td>2019-10-09 11:30:34.141000+00:00</td>\n",
       "      <td>2019-10-10 05:43:17.674999+00:00</td>\n",
       "      <td>0</td>\n",
       "      <td>Car</td>\n",
       "      <td>0.000000</td>\n",
       "      <td>POINT (7.565219252705515 47.545616383391014)</td>\n",
       "      <td>1092.0</td>\n",
       "      <td>1092.0</td>\n",
       "    </tr>\n",
       "    <tr>\n",
       "      <th>1</th>\n",
       "      <td>AAGAF</td>\n",
       "      <td>2019-10-10 06:14:49.141999+00:00</td>\n",
       "      <td>2019-10-10 06:53:54.841000+00:00</td>\n",
       "      <td>1</td>\n",
       "      <td>Car</td>\n",
       "      <td>11615.408548</td>\n",
       "      <td>POINT (7.563759803278834 47.54794768304769)</td>\n",
       "      <td>39.0</td>\n",
       "      <td>70.0</td>\n",
       "    </tr>\n",
       "    <tr>\n",
       "      <th>2</th>\n",
       "      <td>AAGAF</td>\n",
       "      <td>2019-10-10 07:03:24.426000+00:00</td>\n",
       "      <td>2019-10-10 08:18:20.864000+00:00</td>\n",
       "      <td>2</td>\n",
       "      <td>Car</td>\n",
       "      <td>2104.855858</td>\n",
       "      <td>POINT (7.581727914351441 47.5564374119498)</td>\n",
       "      <td>74.0</td>\n",
       "      <td>84.0</td>\n",
       "    </tr>\n",
       "    <tr>\n",
       "      <th>3</th>\n",
       "      <td>AAGAF</td>\n",
       "      <td>2019-10-10 11:10:24.605999+00:00</td>\n",
       "      <td>2019-10-10 13:54:34.799339+00:00</td>\n",
       "      <td>2</td>\n",
       "      <td>Walk</td>\n",
       "      <td>4847.706521</td>\n",
       "      <td>POINT (7.581729846308135 47.55641482529889)</td>\n",
       "      <td>164.0</td>\n",
       "      <td>336.0</td>\n",
       "    </tr>\n",
       "    <tr>\n",
       "      <th>4</th>\n",
       "      <td>AAGAF</td>\n",
       "      <td>2019-10-11 06:15:49.739000+00:00</td>\n",
       "      <td>2019-10-11 11:36:29.907000+00:00</td>\n",
       "      <td>0</td>\n",
       "      <td>Bus</td>\n",
       "      <td>8667.529201</td>\n",
       "      <td>POINT (7.565127647736598 47.54571219157556)</td>\n",
       "      <td>320.0</td>\n",
       "      <td>1301.0</td>\n",
       "    </tr>\n",
       "    <tr>\n",
       "      <th>...</th>\n",
       "      <td>...</td>\n",
       "      <td>...</td>\n",
       "      <td>...</td>\n",
       "      <td>...</td>\n",
       "      <td>...</td>\n",
       "      <td>...</td>\n",
       "      <td>...</td>\n",
       "      <td>...</td>\n",
       "      <td>...</td>\n",
       "    </tr>\n",
       "    <tr>\n",
       "      <th>1094012</th>\n",
       "      <td>ZZYIC</td>\n",
       "      <td>2019-10-31 15:26:16.467000+00:00</td>\n",
       "      <td>2019-10-31 17:07:26.619999+00:00</td>\n",
       "      <td>11963</td>\n",
       "      <td>Train</td>\n",
       "      <td>32827.769123</td>\n",
       "      <td>POINT (8.779955508622193 47.37271491009289)</td>\n",
       "      <td>101.0</td>\n",
       "      <td>182.0</td>\n",
       "    </tr>\n",
       "    <tr>\n",
       "      <th>1094013</th>\n",
       "      <td>ZZYIC</td>\n",
       "      <td>2019-10-31 17:10:49.924000+00:00</td>\n",
       "      <td>2019-10-31 19:02:57.200000+00:00</td>\n",
       "      <td>162302</td>\n",
       "      <td>Car</td>\n",
       "      <td>4333.471814</td>\n",
       "      <td>POINT (8.778435090438501 47.37405248736652)</td>\n",
       "      <td>112.0</td>\n",
       "      <td>115.0</td>\n",
       "    </tr>\n",
       "    <tr>\n",
       "      <th>1094014</th>\n",
       "      <td>ZZYIC</td>\n",
       "      <td>2019-10-31 19:22:37.476999+00:00</td>\n",
       "      <td>2019-11-01 07:45:05.378999+00:00</td>\n",
       "      <td>162235</td>\n",
       "      <td>Car</td>\n",
       "      <td>0.000000</td>\n",
       "      <td>POINT (8.777547641952243 47.375817643427915)</td>\n",
       "      <td>742.0</td>\n",
       "      <td>762.0</td>\n",
       "    </tr>\n",
       "    <tr>\n",
       "      <th>1094015</th>\n",
       "      <td>ZZYIC</td>\n",
       "      <td>2019-11-01 07:51:34.239000+00:00</td>\n",
       "      <td>2019-11-01 09:09:36.236000+00:00</td>\n",
       "      <td>162235</td>\n",
       "      <td>Car</td>\n",
       "      <td>4329.292186</td>\n",
       "      <td>POINT (8.77725754861859 47.375938470094724)</td>\n",
       "      <td>78.0</td>\n",
       "      <td>84.0</td>\n",
       "    </tr>\n",
       "    <tr>\n",
       "      <th>1094016</th>\n",
       "      <td>ZZYIC</td>\n",
       "      <td>2019-11-01 11:07:22.954999+00:00</td>\n",
       "      <td>2019-11-01 16:19:51.618999+00:00</td>\n",
       "      <td>162235</td>\n",
       "      <td>Walk</td>\n",
       "      <td>5172.775155</td>\n",
       "      <td>POINT (8.77752030861889 47.37578288152317)</td>\n",
       "      <td>312.0</td>\n",
       "      <td>430.0</td>\n",
       "    </tr>\n",
       "  </tbody>\n",
       "</table>\n",
       "<p>1079922 rows × 9 columns</p>\n",
       "</div>"
      ],
      "text/plain": [
       "        user_id                        started_at  \\\n",
       "id                                                  \n",
       "0         AAGAF  2019-10-09 11:30:34.141000+00:00   \n",
       "1         AAGAF  2019-10-10 06:14:49.141999+00:00   \n",
       "2         AAGAF  2019-10-10 07:03:24.426000+00:00   \n",
       "3         AAGAF  2019-10-10 11:10:24.605999+00:00   \n",
       "4         AAGAF  2019-10-11 06:15:49.739000+00:00   \n",
       "...         ...                               ...   \n",
       "1094012   ZZYIC  2019-10-31 15:26:16.467000+00:00   \n",
       "1094013   ZZYIC  2019-10-31 17:10:49.924000+00:00   \n",
       "1094014   ZZYIC  2019-10-31 19:22:37.476999+00:00   \n",
       "1094015   ZZYIC  2019-11-01 07:51:34.239000+00:00   \n",
       "1094016   ZZYIC  2019-11-01 11:07:22.954999+00:00   \n",
       "\n",
       "                              finished_at  location_id   mode        length  \\\n",
       "id                                                                            \n",
       "0        2019-10-10 05:43:17.674999+00:00            0    Car      0.000000   \n",
       "1        2019-10-10 06:53:54.841000+00:00            1    Car  11615.408548   \n",
       "2        2019-10-10 08:18:20.864000+00:00            2    Car   2104.855858   \n",
       "3        2019-10-10 13:54:34.799339+00:00            2   Walk   4847.706521   \n",
       "4        2019-10-11 11:36:29.907000+00:00            0    Bus   8667.529201   \n",
       "...                                   ...          ...    ...           ...   \n",
       "1094012  2019-10-31 17:07:26.619999+00:00        11963  Train  32827.769123   \n",
       "1094013  2019-10-31 19:02:57.200000+00:00       162302    Car   4333.471814   \n",
       "1094014  2019-11-01 07:45:05.378999+00:00       162235    Car      0.000000   \n",
       "1094015  2019-11-01 09:09:36.236000+00:00       162235    Car   4329.292186   \n",
       "1094016  2019-11-01 16:19:51.618999+00:00       162235   Walk   5172.775155   \n",
       "\n",
       "                                             geometry  duration  act_duration  \n",
       "id                                                                             \n",
       "0        POINT (7.565219252705515 47.545616383391014)    1092.0        1092.0  \n",
       "1         POINT (7.563759803278834 47.54794768304769)      39.0          70.0  \n",
       "2          POINT (7.581727914351441 47.5564374119498)      74.0          84.0  \n",
       "3         POINT (7.581729846308135 47.55641482529889)     164.0         336.0  \n",
       "4         POINT (7.565127647736598 47.54571219157556)     320.0        1301.0  \n",
       "...                                               ...       ...           ...  \n",
       "1094012   POINT (8.779955508622193 47.37271491009289)     101.0         182.0  \n",
       "1094013   POINT (8.778435090438501 47.37405248736652)     112.0         115.0  \n",
       "1094014  POINT (8.777547641952243 47.375817643427915)     742.0         762.0  \n",
       "1094015   POINT (8.77725754861859 47.375938470094724)      78.0          84.0  \n",
       "1094016    POINT (8.77752030861889 47.37578288152317)     312.0         430.0  \n",
       "\n",
       "[1079922 rows x 9 columns]"
      ]
     },
     "execution_count": 200,
     "metadata": {},
     "output_type": "execute_result"
    }
   ],
   "source": [
    "sp = pd.read_csv(os.path.join(\"..\", \"data\", f\"sp_all.csv\"), index_col=\"id\")\n",
    "\n",
    "sp"
   ]
  },
  {
   "cell_type": "code",
   "execution_count": 203,
   "metadata": {
    "execution": {
     "iopub.execute_input": "2024-06-11T20:57:14.763898Z",
     "iopub.status.busy": "2024-06-11T20:57:14.762901Z",
     "iopub.status.idle": "2024-06-11T20:57:14.862452Z",
     "shell.execute_reply": "2024-06-11T20:57:14.852477Z",
     "shell.execute_reply.started": "2024-06-11T20:57:14.763898Z"
    }
   },
   "outputs": [
    {
     "data": {
      "text/plain": [
       "array(['VZZAM', 'NSEWU', 'SDAJB', 'LCGQUCB', 'LZIMGWA', 'IHWEP', 'MPZFJ',\n",
       "       'LVFRPHG', 'HGMAP', 'CLMUT', 'BDVLG', 'HSUHS', 'LITFYCJ',\n",
       "       'LNGQHDJ', 'LNNJEVU', 'PHPOM', 'QKXSO', 'DGSPE', 'GJZXR',\n",
       "       'LMLANBV', 'WOFJG', 'HQZVG', 'DTVCR', 'PVSHL', 'ZWWMG', 'DSPHZ',\n",
       "       'BFCVL', 'RWBCM', 'RYXZB', 'LFJMGHT', 'RKHPL', 'SRYVJ', 'LGFRVXC',\n",
       "       'LQSZMTA', 'NCCNT', 'XIBZX', 'NOSKP', 'LSXGDJC', 'LDHQVGB',\n",
       "       'VMOGN', 'XRZPJ', 'DTTTZ', 'SLCTX', 'MPLLT', 'DBHIN', 'LLUBDNN',\n",
       "       'MUMYH', 'OVAPK', 'UZRPW', 'LPJJH', 'XSQXM', 'GKZHD', 'LABRDMD',\n",
       "       'LPVSTLB', 'GXJHH', 'GITBE', 'JEKZW', 'RWWSJ', 'EIIUK', 'ATCBP',\n",
       "       'CDOZT', 'TCYGL', 'YYYDG', 'HATLY', 'KDGMQ', 'YNHAI', 'UZXDH',\n",
       "       'DJRPT', 'ECMXT', 'VSFMS', 'MEMZJ', 'AHTYK', 'ZGBOE', 'ZTXQQ',\n",
       "       'NWWCA', 'PKDMA', 'SGXSL', 'QDSXL', 'EXBKA', 'ODNKT', 'VLZBZ',\n",
       "       'YPPBV', 'LPTXVGG', 'NQDWC', 'LQUAVKZ', 'LJNXIWU', 'FIYVM',\n",
       "       'TOOWP', 'QOIUS', 'LIDMGKW', 'VRKML', 'FHQZN', 'LEQBLPC', 'RBHKK',\n",
       "       'TGGVY', 'USCFP', 'LEKXEUH', 'LRMIHWY', 'GNAOT', 'MCGZV', 'CZFFX',\n",
       "       'LVFRXGA', 'LJYEJAG', 'NUFKW', 'JTKIS', 'RGZAU', 'XFBIW',\n",
       "       'LXULCFD', 'OUVLX', 'JFUWI', 'LZEGBRM', 'UYKXU', 'AMGZL', 'QOAUV',\n",
       "       'IDEOO', 'NIDBM', 'ZDVZE', 'CAQXK', 'WVWJG', 'LSSOL', 'LXNLNSB',\n",
       "       'CTLVR', 'LXETMBY', 'OBWNL', 'RFQFE', 'UTJQQ', 'DVFVQ', 'PJBTM',\n",
       "       'LIZGXTP', 'XVBLM', 'WEKKM', 'AWWNV', 'LOJBR', 'XGCGZ', 'ALKPX',\n",
       "       'QJYHF', 'IYDIV', 'CIBVW', 'GKMEO', 'CLRWC', 'HRCHD', 'CQGPU',\n",
       "       'TQLXE', 'TAZNE', 'DNCSI', 'LBTTBKR', 'KADTK', 'LZVWL', 'NGHKA',\n",
       "       'PFGJB', 'FZRXZ', 'KHDOX', 'JYTXB', 'UHZHQ', 'LSVBQ', 'ZFJVF',\n",
       "       'ZPGEZ', 'LEEMHYJ', 'MDQLN', 'APKPN', 'HNZFU', 'UQCVW', 'XZUAJ',\n",
       "       'LTFGTMM', 'QDLGX', 'IFPEE', 'FAGQX', 'LBSXASL', 'TDLCA', 'ENYGY',\n",
       "       'FKOQB', 'OZREI', 'ZCJTY', 'LQXQKSQ', 'QOHQH', 'LBUMIUS', 'EADEG',\n",
       "       'HITVX', 'FVUSD', 'SMUOY', 'HCDWS', 'UYPUY', 'HOXFD', 'AGHUY',\n",
       "       'YSKHV', 'SFOIO', 'OUSDQ', 'WQBVJ', 'LXFDIRA', 'IDMXL', 'DRMAK',\n",
       "       'RABPB', 'WHKBK', 'LPSXX', 'KBRDD', 'DOGLN', 'CEDOF', 'SZHUQ',\n",
       "       'IHICN', 'LUFGLDI', 'JHMJJ', 'CYNBO', 'BGONV', 'LJSBKRR', 'GPGYQ',\n",
       "       'MNGKR', 'ZKDPO', 'LAWRMFV', 'HDAVK', 'ZSDXF', 'LXQTANR', 'UPWVU',\n",
       "       'TIPTZ', 'ABENL', 'HIYPQ', 'LGFVETH', 'LEPWBRQ', 'PFOAL', 'DTQQI',\n",
       "       'XENRC', 'LPTKGCF', 'LBSNKZI', 'MTHWG', 'LZJSLGI', 'YGUZM',\n",
       "       'KOFIN', 'LZNXSEJ', 'UFDQV', 'ATBSI', 'LQMWSKU', 'GCNLD', 'PSSSN',\n",
       "       'MLINP', 'ZDMGJ', 'JHBME', 'HQRPU', 'GPWVQ', 'IXLKD', 'UBGKW',\n",
       "       'BQPNE', 'IGODJ', 'XKARO', 'LRZFYUR', 'GNYAY', 'FQPTB', 'LSWPPKV',\n",
       "       'AXXXH', 'HGKTM', 'IDWDT', 'IMSVW', 'LEZEPJC', 'AMYMD', 'QPAQQ',\n",
       "       'OEOXK', 'MHOFH', 'MHUNI', 'LLKNUGY', 'SVFZG', 'EXSUN', 'NCLHX',\n",
       "       'HLFRA', 'EZYBW', 'TKDBQ', 'LQEPLTM', 'LCTLFLQ', 'HAWKN',\n",
       "       'LIXIJNR', 'SBDXI', 'HYRZY', 'LAMMCXS', 'LRBKNIH', 'NITAV',\n",
       "       'TIBHI', 'JWQIS', 'LSSMIRZ', 'LGXITKX', 'TFAKV', 'SAZPJ', 'ZRUMX',\n",
       "       'ACSUF', 'RUKIB', 'BFGRD', 'KRKKX', 'EBOEF', 'OPQFR', 'DPTPW',\n",
       "       'PQQNI', 'LLZMXIY', 'NDGNL', 'XLYKC', 'LLPVK', 'IUSYZ', 'GMDUN',\n",
       "       'ZYBJB', 'NCBSW', 'XJPUZ', 'YHUKT', 'NZNLI', 'WVZCB', 'BIHTZ',\n",
       "       'NUHVP', 'LXEYWKV', 'JYVUB', 'BUAJY', 'AAINS', 'IFNNH', 'JNDEP',\n",
       "       'ZPLEC', 'MYOYF', 'MWWWG', 'LVRCXKV', 'JAPPW', 'LQCBDAA', 'JKYBJ',\n",
       "       'JSWVO', 'LALEG', 'MGDGP', 'URMUO', 'LTKRHVV', 'EJQWR', 'HJQQH',\n",
       "       'FFXKE', 'ZFXAP', 'CVMKG', 'ITTWI', 'BVLZG', 'LSJNUQB', 'LWIDDPT',\n",
       "       'MWZCV', 'MQHHF', 'JSXGQ', 'VHQYF', 'ZRNVM', 'ZWWFE', 'LGIRLVY',\n",
       "       'WRZNI', 'YEJEV', 'KEKUI', 'ZRIOR', 'KXHEP', 'LTYYV', 'IEMQL',\n",
       "       'ZELTQ', 'WYTIM', 'LNLYWCW', 'CDGEG', 'KSAHM', 'LVJZBQM', 'EADUO',\n",
       "       'ETMNB', 'LSTWMNM', 'FKECV', 'LACKRZN', 'JKWZH', 'LZWAVER',\n",
       "       'LKQEINU', 'WSDRH', 'VKMTS', 'LIQEMZX', 'LZOEK', 'YDQTA', 'YSNKO',\n",
       "       'HDJUR', 'QOVCD', 'LVXIVKF', 'LZWHFEM', 'XRROE', 'ZTPHQ',\n",
       "       'LGZXQXL', 'JTMSD', 'VRABS', 'XYFZS', 'LTSSNZV', 'YRQOS', 'ANQHI',\n",
       "       'UDNZW', 'LUXVFUV', 'LDZTSBJ', 'GHFXT', 'MJXJX', 'IJCDN', 'TIXCY',\n",
       "       'LFDMEYP', 'HODFU', 'LJMFGXR', 'JPZBD', 'NWDMN', 'OHACY', 'ZZGJE',\n",
       "       'SDXHG', 'GQNLT', 'KOPUX', 'BTZQW', 'AZLGX', 'IKBOF', 'VHACX',\n",
       "       'ZCLEL', 'DMDFR', 'XEPPS', 'AEWVV', 'HXAVS', 'QJBYY', 'KCLMG',\n",
       "       'LPXYZXM', 'LAHPWKD', 'OIVLG', 'XSVTI', 'LBELJQQ', 'XSGBM',\n",
       "       'PHLDZ', 'LKRBVYK', 'MKHNQ', 'KNQKU', 'PJFWH', 'MTSBO', 'PFEGN',\n",
       "       'PFATR', 'ODQQW', 'ECUOY', 'ZUIJB', 'DKUNO', 'LFPCVGV', 'ZXMDX',\n",
       "       'SLITT', 'JFTSF', 'NJCVK', 'SMCSD', 'TYIDG', 'LTFDSYR', 'LVEPBWG',\n",
       "       'CGGDK', 'GYIGT', 'STJXF', 'SQWUB', 'LPELSSQ', 'TCISD', 'LSJGZKX',\n",
       "       'LMJKKMI', 'LFVMB', 'TQSNX', 'HSBEH', 'AXCGW', 'CCNHW', 'WCPDP',\n",
       "       'JAGQU', 'TJUVZ', 'DBPLX', 'ACWVM', 'FGEPP', 'JIQIT', 'LQADU',\n",
       "       'LJQSHBJ', 'USKAY', 'LRHPV', 'HISGA', 'TZIHV', 'SLDRF', 'MFZPE',\n",
       "       'GCIEY', 'LLUOQ', 'PTGYE', 'YRYMQ', 'LJMLI', 'PXBZC', 'ZJRJC',\n",
       "       'HZPVA', 'NTCHM', 'DIOEV', 'NBLVF', 'WPHHZ', 'PCFXD', 'FRLTX',\n",
       "       'AQFEA', 'MXLCT', 'TTADM', 'NUDLB', 'QQVTT', 'BBWRM', 'NFDNU',\n",
       "       'LFFVLRD', 'OQAXN', 'AFNCT', 'DCTVJ', 'RWQZC', 'XBZLT', 'WFVSI',\n",
       "       'LHMUWZD', 'SRAUR', 'ZLIXB', 'ABECR', 'AXZBM', 'LAIIYSS', 'JPZCQ',\n",
       "       'UFUFN', 'LUPLNNI', 'TEXZZ', 'VQAGD', 'PVQVP', 'NIWYQ', 'KLBJT'],\n",
       "      dtype=object)"
      ]
     },
     "execution_count": 203,
     "metadata": {},
     "output_type": "execute_result"
    }
   ],
   "source": [
    "np.random.seed(0)\n",
    "\n",
    "selected_user = np.random.choice(sp[\"user_id\"].unique(), 500, replace=False)\n",
    "selected_user"
   ]
  },
  {
   "cell_type": "code",
   "execution_count": 204,
   "metadata": {
    "execution": {
     "iopub.execute_input": "2024-06-11T20:57:20.359240Z",
     "iopub.status.busy": "2024-06-11T20:57:20.358242Z",
     "iopub.status.idle": "2024-06-11T20:57:22.243442Z",
     "shell.execute_reply": "2024-06-11T20:57:22.238455Z",
     "shell.execute_reply.started": "2024-06-11T20:57:20.359240Z"
    }
   },
   "outputs": [],
   "source": [
    "sp.loc[sp[\"user_id\"].isin(selected_user)].to_csv(os.path.join(\"..\", \"data\", f\"sp_small.csv\"))"
   ]
  },
  {
   "cell_type": "markdown",
   "metadata": {},
   "source": [
    "# Generate all visited location dataset"
   ]
  },
  {
   "cell_type": "code",
   "execution_count": 154,
   "metadata": {
    "execution": {
     "iopub.execute_input": "2024-06-11T19:09:09.075549Z",
     "iopub.status.busy": "2024-06-11T19:09:09.075549Z",
     "iopub.status.idle": "2024-06-11T19:09:12.110944Z",
     "shell.execute_reply": "2024-06-11T19:09:12.103966Z",
     "shell.execute_reply.started": "2024-06-11T19:09:09.075549Z"
    }
   },
   "outputs": [],
   "source": [
    "import sys\n",
    "sys.path.insert(1, os.path.join(sys.path[0], '..'))\n",
    "\n",
    "from utils.utils import load_data"
   ]
  },
  {
   "cell_type": "code",
   "execution_count": 155,
   "metadata": {
    "execution": {
     "iopub.execute_input": "2024-06-11T19:09:12.646988Z",
     "iopub.status.busy": "2024-06-11T19:09:12.645991Z",
     "iopub.status.idle": "2024-06-11T19:09:24.889640Z",
     "shell.execute_reply": "2024-06-11T19:09:24.883656Z",
     "shell.execute_reply.started": "2024-06-11T19:09:12.646988Z"
    }
   },
   "outputs": [],
   "source": [
    "sp = pd.read_csv(os.path.join(\"..\", \"data\", \"sp_all.csv\"), index_col=\"id\")\n",
    "loc = pd.read_csv(os.path.join(\"..\", \"data\", \"loc_s2_level10_13.csv\"), index_col=\"id\")"
   ]
  },
  {
   "cell_type": "code",
   "execution_count": 158,
   "metadata": {
    "execution": {
     "iopub.execute_input": "2024-06-11T19:09:46.110638Z",
     "iopub.status.busy": "2024-06-11T19:09:46.107645Z",
     "iopub.status.idle": "2024-06-11T19:09:54.196466Z",
     "shell.execute_reply": "2024-06-11T19:09:54.191974Z",
     "shell.execute_reply.started": "2024-06-11T19:09:46.110638Z"
    }
   },
   "outputs": [],
   "source": [
    "sp = load_data(sp, loc)"
   ]
  },
  {
   "cell_type": "code",
   "execution_count": 159,
   "metadata": {
    "execution": {
     "iopub.execute_input": "2024-06-11T19:09:54.205444Z",
     "iopub.status.busy": "2024-06-11T19:09:54.205444Z",
     "iopub.status.idle": "2024-06-11T19:09:54.241348Z",
     "shell.execute_reply": "2024-06-11T19:09:54.238356Z",
     "shell.execute_reply.started": "2024-06-11T19:09:54.205444Z"
    }
   },
   "outputs": [
    {
     "data": {
      "text/html": [
       "<div>\n",
       "<style scoped>\n",
       "    .dataframe tbody tr th:only-of-type {\n",
       "        vertical-align: middle;\n",
       "    }\n",
       "\n",
       "    .dataframe tbody tr th {\n",
       "        vertical-align: top;\n",
       "    }\n",
       "\n",
       "    .dataframe thead th {\n",
       "        text-align: right;\n",
       "    }\n",
       "</style>\n",
       "<table border=\"1\" class=\"dataframe\">\n",
       "  <thead>\n",
       "    <tr style=\"text-align: right;\">\n",
       "      <th></th>\n",
       "      <th>id</th>\n",
       "      <th>user_id</th>\n",
       "      <th>started_at</th>\n",
       "      <th>finished_at</th>\n",
       "      <th>mode</th>\n",
       "      <th>length</th>\n",
       "      <th>geometry</th>\n",
       "      <th>duration</th>\n",
       "      <th>act_duration</th>\n",
       "      <th>location_id</th>\n",
       "      <th>level</th>\n",
       "      <th>start_day</th>\n",
       "      <th>start_min</th>\n",
       "      <th>weekday</th>\n",
       "    </tr>\n",
       "  </thead>\n",
       "  <tbody>\n",
       "    <tr>\n",
       "      <th>0</th>\n",
       "      <td>0</td>\n",
       "      <td>AAGAF</td>\n",
       "      <td>2019-10-09 11:30:34.141000</td>\n",
       "      <td>2019-10-10 05:43:17.674999</td>\n",
       "      <td>NaN</td>\n",
       "      <td>0.000000</td>\n",
       "      <td>POINT (7.565219252705515 47.545616383391014)</td>\n",
       "      <td>1092.0</td>\n",
       "      <td>1092.0</td>\n",
       "      <td>5157106440787197952</td>\n",
       "      <td>13</td>\n",
       "      <td>0</td>\n",
       "      <td>690</td>\n",
       "      <td>2</td>\n",
       "    </tr>\n",
       "    <tr>\n",
       "      <th>1</th>\n",
       "      <td>1</td>\n",
       "      <td>AAGAF</td>\n",
       "      <td>2019-10-10 06:14:49.141999</td>\n",
       "      <td>2019-10-10 06:53:54.841000</td>\n",
       "      <td>Car</td>\n",
       "      <td>11615.408548</td>\n",
       "      <td>POINT (7.563759803278834 47.54794768304769)</td>\n",
       "      <td>39.0</td>\n",
       "      <td>70.0</td>\n",
       "      <td>5157106337707982848</td>\n",
       "      <td>13</td>\n",
       "      <td>1</td>\n",
       "      <td>374</td>\n",
       "      <td>3</td>\n",
       "    </tr>\n",
       "    <tr>\n",
       "      <th>2</th>\n",
       "      <td>2</td>\n",
       "      <td>AAGAF</td>\n",
       "      <td>2019-10-10 07:03:24.426000</td>\n",
       "      <td>2019-10-10 08:18:20.864000</td>\n",
       "      <td>Car</td>\n",
       "      <td>2104.855858</td>\n",
       "      <td>POINT (7.581727914351441 47.5564374119498)</td>\n",
       "      <td>74.0</td>\n",
       "      <td>84.0</td>\n",
       "      <td>5157107196701442048</td>\n",
       "      <td>13</td>\n",
       "      <td>1</td>\n",
       "      <td>423</td>\n",
       "      <td>3</td>\n",
       "    </tr>\n",
       "    <tr>\n",
       "      <th>3</th>\n",
       "      <td>3</td>\n",
       "      <td>AAGAF</td>\n",
       "      <td>2019-10-10 11:10:24.605999</td>\n",
       "      <td>2019-10-10 13:54:34.799339</td>\n",
       "      <td>Walk</td>\n",
       "      <td>4847.706521</td>\n",
       "      <td>POINT (7.581729846308135 47.55641482529889)</td>\n",
       "      <td>164.0</td>\n",
       "      <td>336.0</td>\n",
       "      <td>5157107196701442048</td>\n",
       "      <td>13</td>\n",
       "      <td>1</td>\n",
       "      <td>670</td>\n",
       "      <td>3</td>\n",
       "    </tr>\n",
       "    <tr>\n",
       "      <th>4</th>\n",
       "      <td>4</td>\n",
       "      <td>AAGAF</td>\n",
       "      <td>2019-10-11 06:15:49.739000</td>\n",
       "      <td>2019-10-11 11:36:29.907000</td>\n",
       "      <td>Bus</td>\n",
       "      <td>8667.529201</td>\n",
       "      <td>POINT (7.565127647736598 47.54571219157556)</td>\n",
       "      <td>320.0</td>\n",
       "      <td>1301.0</td>\n",
       "      <td>5157106440787197952</td>\n",
       "      <td>13</td>\n",
       "      <td>2</td>\n",
       "      <td>375</td>\n",
       "      <td>4</td>\n",
       "    </tr>\n",
       "  </tbody>\n",
       "</table>\n",
       "</div>"
      ],
      "text/plain": [
       "   id user_id                 started_at                finished_at  mode  \\\n",
       "0   0   AAGAF 2019-10-09 11:30:34.141000 2019-10-10 05:43:17.674999   NaN   \n",
       "1   1   AAGAF 2019-10-10 06:14:49.141999 2019-10-10 06:53:54.841000   Car   \n",
       "2   2   AAGAF 2019-10-10 07:03:24.426000 2019-10-10 08:18:20.864000   Car   \n",
       "3   3   AAGAF 2019-10-10 11:10:24.605999 2019-10-10 13:54:34.799339  Walk   \n",
       "4   4   AAGAF 2019-10-11 06:15:49.739000 2019-10-11 11:36:29.907000   Bus   \n",
       "\n",
       "         length                                      geometry  duration  \\\n",
       "0      0.000000  POINT (7.565219252705515 47.545616383391014)    1092.0   \n",
       "1  11615.408548   POINT (7.563759803278834 47.54794768304769)      39.0   \n",
       "2   2104.855858    POINT (7.581727914351441 47.5564374119498)      74.0   \n",
       "3   4847.706521   POINT (7.581729846308135 47.55641482529889)     164.0   \n",
       "4   8667.529201   POINT (7.565127647736598 47.54571219157556)     320.0   \n",
       "\n",
       "   act_duration          location_id  level  start_day  start_min  weekday  \n",
       "0        1092.0  5157106440787197952     13          0        690        2  \n",
       "1          70.0  5157106337707982848     13          1        374        3  \n",
       "2          84.0  5157107196701442048     13          1        423        3  \n",
       "3         336.0  5157107196701442048     13          1        670        3  \n",
       "4        1301.0  5157106440787197952     13          2        375        4  "
      ]
     },
     "execution_count": 159,
     "metadata": {},
     "output_type": "execute_result"
    }
   ],
   "source": [
    "sp.head()"
   ]
  },
  {
   "cell_type": "code",
   "execution_count": 160,
   "metadata": {
    "execution": {
     "iopub.execute_input": "2024-06-11T19:10:12.146514Z",
     "iopub.status.busy": "2024-06-11T19:10:12.146514Z",
     "iopub.status.idle": "2024-06-11T19:10:12.186409Z",
     "shell.execute_reply": "2024-06-11T19:10:12.182419Z",
     "shell.execute_reply.started": "2024-06-11T19:10:12.146514Z"
    }
   },
   "outputs": [
    {
     "data": {
      "text/plain": [
       "level\n",
       "13    1078360\n",
       "12       1283\n",
       "11        256\n",
       "10         23\n",
       "Name: count, dtype: int64"
      ]
     },
     "execution_count": 160,
     "metadata": {},
     "output_type": "execute_result"
    }
   ],
   "source": [
    "sp[\"level\"].value_counts()"
   ]
  },
  {
   "cell_type": "code",
   "execution_count": 161,
   "metadata": {
    "execution": {
     "iopub.execute_input": "2024-06-11T19:10:14.496757Z",
     "iopub.status.busy": "2024-06-11T19:10:14.496757Z",
     "iopub.status.idle": "2024-06-11T19:10:14.542186Z",
     "shell.execute_reply": "2024-06-11T19:10:14.538197Z",
     "shell.execute_reply.started": "2024-06-11T19:10:14.496757Z"
    }
   },
   "outputs": [
    {
     "data": {
      "text/plain": [
       "14881"
      ]
     },
     "execution_count": 161,
     "metadata": {},
     "output_type": "execute_result"
    }
   ],
   "source": [
    "len(sp[\"location_id\"].unique())"
   ]
  },
  {
   "cell_type": "code",
   "execution_count": 162,
   "metadata": {
    "execution": {
     "iopub.execute_input": "2024-06-11T19:10:26.513061Z",
     "iopub.status.busy": "2024-06-11T19:10:26.512062Z",
     "iopub.status.idle": "2024-06-11T19:10:26.948026Z",
     "shell.execute_reply": "2024-06-11T19:10:26.944035Z",
     "shell.execute_reply.started": "2024-06-11T19:10:26.513061Z"
    }
   },
   "outputs": [],
   "source": [
    "s2_loc = pd.read_csv(os.path.join(\"..\", \"data\", \"s2_loc_all_level10_13.csv\"), index_col=\"id\")\n",
    "\n",
    "visited_loc = s2_loc.loc[s2_loc[\"loc_id\"].isin(sp[\"location_id\"].unique())].copy()\n",
    "\n",
    "# final clearning\n",
    "visited_loc.index = np.arange(len(visited_loc))\n",
    "visited_loc.index.name = \"id\""
   ]
  },
  {
   "cell_type": "code",
   "execution_count": 163,
   "metadata": {
    "execution": {
     "iopub.execute_input": "2024-06-11T19:10:28.895998Z",
     "iopub.status.busy": "2024-06-11T19:10:28.891012Z",
     "iopub.status.idle": "2024-06-11T19:10:28.920934Z",
     "shell.execute_reply": "2024-06-11T19:10:28.914951Z",
     "shell.execute_reply.started": "2024-06-11T19:10:28.895998Z"
    }
   },
   "outputs": [
    {
     "data": {
      "text/plain": [
       "14881"
      ]
     },
     "execution_count": 163,
     "metadata": {},
     "output_type": "execute_result"
    }
   ],
   "source": [
    "len(visited_loc)"
   ]
  },
  {
   "cell_type": "code",
   "execution_count": 164,
   "metadata": {
    "execution": {
     "iopub.execute_input": "2024-06-11T19:10:34.395234Z",
     "iopub.status.busy": "2024-06-11T19:10:34.393239Z",
     "iopub.status.idle": "2024-06-11T19:10:34.439532Z",
     "shell.execute_reply": "2024-06-11T19:10:34.430142Z",
     "shell.execute_reply.started": "2024-06-11T19:10:34.395234Z"
    }
   },
   "outputs": [
    {
     "data": {
      "text/html": [
       "<div>\n",
       "<style scoped>\n",
       "    .dataframe tbody tr th:only-of-type {\n",
       "        vertical-align: middle;\n",
       "    }\n",
       "\n",
       "    .dataframe tbody tr th {\n",
       "        vertical-align: top;\n",
       "    }\n",
       "\n",
       "    .dataframe thead th {\n",
       "        text-align: right;\n",
       "    }\n",
       "</style>\n",
       "<table border=\"1\" class=\"dataframe\">\n",
       "  <thead>\n",
       "    <tr style=\"text-align: right;\">\n",
       "      <th></th>\n",
       "      <th>loc_id</th>\n",
       "      <th>level</th>\n",
       "      <th>geometry</th>\n",
       "      <th>freq</th>\n",
       "      <th>area</th>\n",
       "    </tr>\n",
       "    <tr>\n",
       "      <th>id</th>\n",
       "      <th></th>\n",
       "      <th></th>\n",
       "      <th></th>\n",
       "      <th></th>\n",
       "      <th></th>\n",
       "    </tr>\n",
       "  </thead>\n",
       "  <tbody>\n",
       "    <tr>\n",
       "      <th>0</th>\n",
       "      <td>5152981090339651584</td>\n",
       "      <td>10</td>\n",
       "      <td>POINT (10.371321613430059 46.54838775051633)</td>\n",
       "      <td>1</td>\n",
       "      <td>POLYGON ((10.405097146225662 46.50637570678295...</td>\n",
       "    </tr>\n",
       "    <tr>\n",
       "      <th>1</th>\n",
       "      <td>5152984577853095936</td>\n",
       "      <td>13</td>\n",
       "      <td>POINT (10.343581795559412 46.62397697413108)</td>\n",
       "      <td>38</td>\n",
       "      <td>POLYGON ((10.347820052132302 46.61871685680636...</td>\n",
       "    </tr>\n",
       "    <tr>\n",
       "      <th>2</th>\n",
       "      <td>5152985265047863296</td>\n",
       "      <td>13</td>\n",
       "      <td>POINT (10.256708153859828 46.62211103049422)</td>\n",
       "      <td>1</td>\n",
       "      <td>POLYGON ((10.260953592346382 46.61685460820135...</td>\n",
       "    </tr>\n",
       "    <tr>\n",
       "      <th>3</th>\n",
       "      <td>5152985299407601664</td>\n",
       "      <td>13</td>\n",
       "      <td>POINT (10.260129868678595 46.63154902483473)</td>\n",
       "      <td>1</td>\n",
       "      <td>POLYGON ((10.264376293749178 46.62629143145975...</td>\n",
       "    </tr>\n",
       "    <tr>\n",
       "      <th>4</th>\n",
       "      <td>5152985505566031872</td>\n",
       "      <td>13</td>\n",
       "      <td>POINT (10.299321120965867 46.63774991883432)</td>\n",
       "      <td>1</td>\n",
       "      <td>POLYGON ((10.303565033130825 46.63249007077394...</td>\n",
       "    </tr>\n",
       "  </tbody>\n",
       "</table>\n",
       "</div>"
      ],
      "text/plain": [
       "                 loc_id  level                                      geometry  \\\n",
       "id                                                                             \n",
       "0   5152981090339651584     10  POINT (10.371321613430059 46.54838775051633)   \n",
       "1   5152984577853095936     13  POINT (10.343581795559412 46.62397697413108)   \n",
       "2   5152985265047863296     13  POINT (10.256708153859828 46.62211103049422)   \n",
       "3   5152985299407601664     13  POINT (10.260129868678595 46.63154902483473)   \n",
       "4   5152985505566031872     13  POINT (10.299321120965867 46.63774991883432)   \n",
       "\n",
       "    freq                                               area  \n",
       "id                                                           \n",
       "0      1  POLYGON ((10.405097146225662 46.50637570678295...  \n",
       "1     38  POLYGON ((10.347820052132302 46.61871685680636...  \n",
       "2      1  POLYGON ((10.260953592346382 46.61685460820135...  \n",
       "3      1  POLYGON ((10.264376293749178 46.62629143145975...  \n",
       "4      1  POLYGON ((10.303565033130825 46.63249007077394...  "
      ]
     },
     "execution_count": 164,
     "metadata": {},
     "output_type": "execute_result"
    }
   ],
   "source": [
    "visited_loc.head()"
   ]
  },
  {
   "cell_type": "code",
   "execution_count": 165,
   "metadata": {
    "execution": {
     "iopub.execute_input": "2024-06-11T19:10:49.141100Z",
     "iopub.status.busy": "2024-06-11T19:10:49.140103Z",
     "iopub.status.idle": "2024-06-11T19:10:49.282716Z",
     "shell.execute_reply": "2024-06-11T19:10:49.278721Z",
     "shell.execute_reply.started": "2024-06-11T19:10:49.141100Z"
    }
   },
   "outputs": [],
   "source": [
    "visited_loc.to_csv(os.path.join(\"..\", \"data\", \"s2_loc_visited_level10_13.csv\"))"
   ]
  },
  {
   "cell_type": "code",
   "execution_count": null,
   "metadata": {},
   "outputs": [],
   "source": []
  }
 ],
 "metadata": {
  "kernelspec": {
   "display_name": "Python 3 (ipykernel)",
   "language": "python",
   "name": "python3"
  },
  "language_info": {
   "codemirror_mode": {
    "name": "ipython",
    "version": 3
   },
   "file_extension": ".py",
   "mimetype": "text/x-python",
   "name": "python",
   "nbconvert_exporter": "python",
   "pygments_lexer": "ipython3",
   "version": "3.9.17"
  },
  "vscode": {
   "interpreter": {
    "hash": "659ffd3ea00dbbc52f857660b8dafea05f804bc55dd91047cefb31e38b5505f6"
   }
  }
 },
 "nbformat": 4,
 "nbformat_minor": 4
}
