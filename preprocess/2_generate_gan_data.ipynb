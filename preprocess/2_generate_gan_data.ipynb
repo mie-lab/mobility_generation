{
 "cells": [
  {
   "cell_type": "code",
   "execution_count": 2,
   "metadata": {
    "execution": {
     "iopub.execute_input": "2024-09-11T21:09:46.915509Z",
     "iopub.status.busy": "2024-09-11T21:09:46.915509Z",
     "iopub.status.idle": "2024-09-11T21:09:52.733823Z",
     "shell.execute_reply": "2024-09-11T21:09:52.733823Z",
     "shell.execute_reply.started": "2024-09-11T21:09:46.915509Z"
    }
   },
   "outputs": [],
   "source": [
    "import torch \n",
    "import numpy as np\n",
    "\n",
    "import math\n",
    "\n",
    "import os\n",
    "import pandas as pd\n",
    "import geopandas as gpd\n",
    "import pickle as pickle\n",
    "\n",
    "import shapely\n",
    "from shapely import wkt\n",
    "from tqdm import tqdm\n",
    "\n",
    "from gensim.corpora import Dictionary\n",
    "from gensim.models import TfidfModel, LdaModel\n",
    "import gensim\n",
    "\n",
    "from scipy.spatial.distance import pdist, squareform\n",
    "from sklearn.metrics import pairwise_distances\n",
    "\n",
    "import trackintel as ti\n",
    "from trackintel.geogr.distances import calculate_distance_matrix"
   ]
  },
  {
   "cell_type": "code",
   "execution_count": 3,
   "metadata": {
    "execution": {
     "iopub.execute_input": "2024-09-11T21:09:52.734827Z",
     "iopub.status.busy": "2024-09-11T21:09:52.734827Z",
     "iopub.status.idle": "2024-09-11T21:09:52.740807Z",
     "shell.execute_reply": "2024-09-11T21:09:52.740807Z",
     "shell.execute_reply.started": "2024-09-11T21:09:52.734827Z"
    }
   },
   "outputs": [
    {
     "data": {
      "text/plain": [
       "'1.3.1'"
      ]
     },
     "execution_count": 3,
     "metadata": {},
     "output_type": "execute_result"
    }
   ],
   "source": [
    "ti.__version__"
   ]
  },
  {
   "cell_type": "code",
   "execution_count": 4,
   "metadata": {
    "execution": {
     "iopub.execute_input": "2024-09-11T21:09:52.741814Z",
     "iopub.status.busy": "2024-09-11T21:09:52.741814Z",
     "iopub.status.idle": "2024-09-11T21:09:53.913423Z",
     "shell.execute_reply": "2024-09-11T21:09:53.913423Z",
     "shell.execute_reply.started": "2024-09-11T21:09:52.741814Z"
    }
   },
   "outputs": [
    {
     "name": "stderr",
     "output_type": "stream",
     "text": [
      "C:\\ProgramData\\Anaconda3\\envs\\gene\\Lib\\site-packages\\tqdm\\auto.py:21: TqdmWarning: IProgress not found. Please update jupyter and ipywidgets. See https://ipywidgets.readthedocs.io/en/stable/user_install.html\n",
      "  from .autonotebook import tqdm as notebook_tqdm\n"
     ]
    }
   ],
   "source": [
    "import sys\n",
    "sys.path.insert(1, os.path.join(sys.path[0], '..'))\n",
    "\n",
    "from loc_predict.models.markov import markov_transition_prob\n",
    "from utils.utils import load_data\n",
    "# from utils.dataloader import get_train_test\n",
    "\n",
    "def save_pk_file(save_path, data):\n",
    "    \"\"\"Function to save data to pickle format given data and path.\"\"\"\n",
    "    with open(save_path, \"wb\") as handle:\n",
    "        pickle.dump(data, handle, protocol=pickle.HIGHEST_PROTOCOL)"
   ]
  },
  {
   "cell_type": "markdown",
   "metadata": {},
   "source": [
    "# Pairwise distance matrix"
   ]
  },
  {
   "cell_type": "code",
   "execution_count": 14,
   "metadata": {
    "execution": {
     "iopub.execute_input": "2024-03-18T21:09:13.157321Z",
     "iopub.status.busy": "2024-03-18T21:09:13.156324Z",
     "iopub.status.idle": "2024-03-18T21:09:13.439965Z",
     "shell.execute_reply": "2024-03-18T21:09:13.439965Z",
     "shell.execute_reply.started": "2024-03-18T21:09:13.156324Z"
    }
   },
   "outputs": [],
   "source": [
    "visited_locs = pd.read_csv(\"../data/s2_loc_visited_level10_13.csv\", index_col=\"id\").sort_values(by=\"loc_id\")\n",
    "visited_locs[\"geometry\"] = visited_locs[\"geometry\"].apply(wkt.loads)\n",
    "visited_locs = gpd.GeoDataFrame(visited_locs, geometry=\"geometry\", crs=\"EPSG:4326\")\n",
    "\n",
    "visited_locs = visited_locs.to_crs(\"EPSG:2056\")"
   ]
  },
  {
   "cell_type": "code",
   "execution_count": 15,
   "metadata": {
    "execution": {
     "iopub.execute_input": "2024-03-18T21:09:14.671015Z",
     "iopub.status.busy": "2024-03-18T21:09:14.671015Z",
     "iopub.status.idle": "2024-03-18T21:09:14.690172Z",
     "shell.execute_reply": "2024-03-18T21:09:14.689173Z",
     "shell.execute_reply.started": "2024-03-18T21:09:14.671015Z"
    }
   },
   "outputs": [
    {
     "data": {
      "text/html": [
       "<div>\n",
       "<style scoped>\n",
       "    .dataframe tbody tr th:only-of-type {\n",
       "        vertical-align: middle;\n",
       "    }\n",
       "\n",
       "    .dataframe tbody tr th {\n",
       "        vertical-align: top;\n",
       "    }\n",
       "\n",
       "    .dataframe thead th {\n",
       "        text-align: right;\n",
       "    }\n",
       "</style>\n",
       "<table border=\"1\" class=\"dataframe\">\n",
       "  <thead>\n",
       "    <tr style=\"text-align: right;\">\n",
       "      <th></th>\n",
       "      <th>loc_id</th>\n",
       "      <th>level</th>\n",
       "      <th>geometry</th>\n",
       "      <th>freq</th>\n",
       "      <th>area</th>\n",
       "    </tr>\n",
       "    <tr>\n",
       "      <th>id</th>\n",
       "      <th></th>\n",
       "      <th></th>\n",
       "      <th></th>\n",
       "      <th></th>\n",
       "      <th></th>\n",
       "    </tr>\n",
       "  </thead>\n",
       "  <tbody>\n",
       "    <tr>\n",
       "      <th>0</th>\n",
       "      <td>5152981090339651584</td>\n",
       "      <td>10</td>\n",
       "      <td>POINT (2824875.045 1159436.528)</td>\n",
       "      <td>1</td>\n",
       "      <td>POLYGON ((10.405097146225662 46.50637570678295...</td>\n",
       "    </tr>\n",
       "    <tr>\n",
       "      <th>1</th>\n",
       "      <td>5152984577853095936</td>\n",
       "      <td>13</td>\n",
       "      <td>POINT (2822437.857 1167754.527)</td>\n",
       "      <td>38</td>\n",
       "      <td>POLYGON ((10.347820052132302 46.61871685680636...</td>\n",
       "    </tr>\n",
       "    <tr>\n",
       "      <th>2</th>\n",
       "      <td>5152985265047863296</td>\n",
       "      <td>13</td>\n",
       "      <td>POINT (2815796.126 1167304.569)</td>\n",
       "      <td>1</td>\n",
       "      <td>POLYGON ((10.260953592346382 46.61685460820135...</td>\n",
       "    </tr>\n",
       "    <tr>\n",
       "      <th>3</th>\n",
       "      <td>5152985299407601664</td>\n",
       "      <td>13</td>\n",
       "      <td>POINT (2816020.303 1168362.492)</td>\n",
       "      <td>1</td>\n",
       "      <td>POLYGON ((10.264376293749178 46.62629143145975...</td>\n",
       "    </tr>\n",
       "    <tr>\n",
       "      <th>4</th>\n",
       "      <td>5152985505566031872</td>\n",
       "      <td>13</td>\n",
       "      <td>POINT (2818994.419 1169160.037)</td>\n",
       "      <td>1</td>\n",
       "      <td>POLYGON ((10.303565033130825 46.63249007077394...</td>\n",
       "    </tr>\n",
       "  </tbody>\n",
       "</table>\n",
       "</div>"
      ],
      "text/plain": [
       "                 loc_id  level                         geometry  freq  \\\n",
       "id                                                                      \n",
       "0   5152981090339651584     10  POINT (2824875.045 1159436.528)     1   \n",
       "1   5152984577853095936     13  POINT (2822437.857 1167754.527)    38   \n",
       "2   5152985265047863296     13  POINT (2815796.126 1167304.569)     1   \n",
       "3   5152985299407601664     13  POINT (2816020.303 1168362.492)     1   \n",
       "4   5152985505566031872     13  POINT (2818994.419 1169160.037)     1   \n",
       "\n",
       "                                                 area  \n",
       "id                                                     \n",
       "0   POLYGON ((10.405097146225662 46.50637570678295...  \n",
       "1   POLYGON ((10.347820052132302 46.61871685680636...  \n",
       "2   POLYGON ((10.260953592346382 46.61685460820135...  \n",
       "3   POLYGON ((10.264376293749178 46.62629143145975...  \n",
       "4   POLYGON ((10.303565033130825 46.63249007077394...  "
      ]
     },
     "execution_count": 15,
     "metadata": {},
     "output_type": "execute_result"
    }
   ],
   "source": [
    "visited_locs.head()"
   ]
  },
  {
   "cell_type": "code",
   "execution_count": 16,
   "metadata": {
    "execution": {
     "iopub.execute_input": "2024-03-18T21:09:28.151178Z",
     "iopub.status.busy": "2024-03-18T21:09:28.151178Z",
     "iopub.status.idle": "2024-03-18T21:09:29.807341Z",
     "shell.execute_reply": "2024-03-18T21:09:29.807341Z",
     "shell.execute_reply.started": "2024-03-18T21:09:28.151178Z"
    }
   },
   "outputs": [],
   "source": [
    "def calculate_distance_matrix(X):\n",
    "    X = shapely.get_coordinates(X.geometry)\n",
    "\n",
    "    distance = pdist(X, 'euclidean')\n",
    "    dist_matrix = squareform(distance)\n",
    "    return dist_matrix\n",
    "    \n",
    "dist_matrix = calculate_distance_matrix(visited_locs)"
   ]
  },
  {
   "cell_type": "code",
   "execution_count": 17,
   "metadata": {
    "execution": {
     "iopub.execute_input": "2024-03-18T21:09:30.754344Z",
     "iopub.status.busy": "2024-03-18T21:09:30.753345Z",
     "iopub.status.idle": "2024-03-18T21:09:30.759833Z",
     "shell.execute_reply": "2024-03-18T21:09:30.759833Z",
     "shell.execute_reply.started": "2024-03-18T21:09:30.754344Z"
    }
   },
   "outputs": [
    {
     "data": {
      "text/plain": [
       "(14881, 14881)"
      ]
     },
     "execution_count": 17,
     "metadata": {},
     "output_type": "execute_result"
    }
   ],
   "source": [
    "dist_matrix.shape"
   ]
  },
  {
   "cell_type": "code",
   "execution_count": 18,
   "metadata": {
    "execution": {
     "iopub.execute_input": "2024-03-18T21:09:39.889545Z",
     "iopub.status.busy": "2024-03-18T21:09:39.889545Z",
     "iopub.status.idle": "2024-03-18T21:09:49.131245Z",
     "shell.execute_reply": "2024-03-18T21:09:49.131245Z",
     "shell.execute_reply.started": "2024-03-18T21:09:39.889545Z"
    }
   },
   "outputs": [],
   "source": [
    "save_pk_file(\"../data/matrix/distance_13.pk\", dist_matrix)"
   ]
  },
  {
   "cell_type": "markdown",
   "metadata": {},
   "source": [
    "# Empirical visit matrix"
   ]
  },
  {
   "cell_type": "code",
   "execution_count": 19,
   "metadata": {
    "execution": {
     "iopub.execute_input": "2024-03-18T21:09:49.952337Z",
     "iopub.status.busy": "2024-03-18T21:09:49.952337Z",
     "iopub.status.idle": "2024-03-18T21:10:04.064673Z",
     "shell.execute_reply": "2024-03-18T21:10:04.064673Z",
     "shell.execute_reply.started": "2024-03-18T21:09:49.952337Z"
    }
   },
   "outputs": [],
   "source": [
    "sp = pd.read_csv(os.path.join(\"..\", \"data\", \"sp_all.csv\"), index_col=\"id\")\n",
    "loc = pd.read_csv(os.path.join(\"..\", \"data\", \"loc_s2_level10_13.csv\"), index_col=\"id\")\n",
    "\n",
    "sp = load_data(sp, loc)\n",
    "\n",
    "all_locs = pd.read_csv(os.path.join(\"..\", \"data\", \"s2_loc_visited_level10_13.csv\"))\n",
    "all_locs[\"geometry\"] = all_locs[\"geometry\"].apply(wkt.loads)\n",
    "all_locs = gpd.GeoDataFrame(all_locs, geometry=\"geometry\", crs=\"EPSG:4326\")"
   ]
  },
  {
   "cell_type": "code",
   "execution_count": 20,
   "metadata": {
    "execution": {
     "iopub.execute_input": "2024-03-18T21:10:04.066670Z",
     "iopub.status.busy": "2024-03-18T21:10:04.066670Z",
     "iopub.status.idle": "2024-03-18T21:10:06.951484Z",
     "shell.execute_reply": "2024-03-18T21:10:06.951484Z",
     "shell.execute_reply.started": "2024-03-18T21:10:04.066670Z"
    }
   },
   "outputs": [],
   "source": [
    "train_data, vali_data, test_data, all_locs = get_train_test(sp, all_locs=all_locs)"
   ]
  },
  {
   "cell_type": "code",
   "execution_count": 21,
   "metadata": {
    "execution": {
     "iopub.execute_input": "2024-03-18T21:10:06.952480Z",
     "iopub.status.busy": "2024-03-18T21:10:06.952480Z",
     "iopub.status.idle": "2024-03-18T21:10:11.487724Z",
     "shell.execute_reply": "2024-03-18T21:10:11.487724Z",
     "shell.execute_reply.started": "2024-03-18T21:10:06.952480Z"
    }
   },
   "outputs": [],
   "source": [
    "transit_df = train_data.groupby(\"user_id\").apply(markov_transition_prob, n=1).reset_index().drop(columns=\"level_1\")"
   ]
  },
  {
   "cell_type": "code",
   "execution_count": 22,
   "metadata": {
    "execution": {
     "iopub.execute_input": "2024-03-18T21:10:11.489717Z",
     "iopub.status.busy": "2024-03-18T21:10:11.489717Z",
     "iopub.status.idle": "2024-03-18T21:10:11.705624Z",
     "shell.execute_reply": "2024-03-18T21:10:11.705624Z",
     "shell.execute_reply.started": "2024-03-18T21:10:11.489717Z"
    }
   },
   "outputs": [
    {
     "name": "stderr",
     "output_type": "stream",
     "text": [
      "100%|██████████████████████████████████████████████████████████████████████| 179486/179486 [00:00<00:00, 873595.12it/s]\n"
     ]
    }
   ],
   "source": [
    "emp_matrix = np.zeros((len(all_locs), len(all_locs)))\n",
    "\n",
    "for pair in tqdm(transit_df[[\"loc_1\", \"toLoc\"]].values):\n",
    "    emp_matrix[pair[0], pair[1]] += 1"
   ]
  },
  {
   "cell_type": "code",
   "execution_count": 23,
   "metadata": {
    "execution": {
     "iopub.execute_input": "2024-03-18T21:10:11.706622Z",
     "iopub.status.busy": "2024-03-18T21:10:11.706622Z",
     "iopub.status.idle": "2024-03-18T21:10:11.721350Z",
     "shell.execute_reply": "2024-03-18T21:10:11.721350Z",
     "shell.execute_reply.started": "2024-03-18T21:10:11.706622Z"
    }
   },
   "outputs": [
    {
     "data": {
      "text/plain": [
       "(14881, 14881)"
      ]
     },
     "execution_count": 23,
     "metadata": {},
     "output_type": "execute_result"
    }
   ],
   "source": [
    "emp_matrix.shape"
   ]
  },
  {
   "cell_type": "code",
   "execution_count": 24,
   "metadata": {
    "execution": {
     "iopub.execute_input": "2024-03-18T21:10:11.722348Z",
     "iopub.status.busy": "2024-03-18T21:10:11.722348Z",
     "iopub.status.idle": "2024-03-18T21:10:20.927531Z",
     "shell.execute_reply": "2024-03-18T21:10:20.927531Z",
     "shell.execute_reply.started": "2024-03-18T21:10:11.722348Z"
    }
   },
   "outputs": [],
   "source": [
    "save_pk_file(\"../data/matrix/visits_13.pk\", emp_matrix)\n"
   ]
  },
  {
   "cell_type": "markdown",
   "metadata": {},
   "source": [
    "# POI distribution\n",
    "## Read location file"
   ]
  },
  {
   "cell_type": "code",
   "execution_count": 5,
   "metadata": {
    "execution": {
     "iopub.execute_input": "2024-09-11T21:10:01.645821Z",
     "iopub.status.busy": "2024-09-11T21:10:01.645821Z",
     "iopub.status.idle": "2024-09-11T21:10:04.716311Z",
     "shell.execute_reply": "2024-09-11T21:10:04.716311Z",
     "shell.execute_reply.started": "2024-09-11T21:10:01.645821Z"
    }
   },
   "outputs": [],
   "source": [
    "level = 14\n",
    "\n",
    "s2_loc = pd.read_csv(os.path.join(\"..\", \"data\", f\"s2_loc_all_level10_{level}.csv\"), index_col=\"id\")\n",
    "\n",
    "s2_loc = s2_loc.drop(columns=\"geometry\").rename(columns={\"area\":\"geometry\"})\n",
    "s2_loc[\"geometry\"] = s2_loc[\"geometry\"].apply(wkt.loads)\n",
    "\n",
    "loc = gpd.GeoDataFrame(s2_loc, geometry=\"geometry\", crs=\"EPSG:4326\")\n",
    "loc = loc.to_crs(\"EPSG:2056\")"
   ]
  },
  {
   "cell_type": "code",
   "execution_count": 6,
   "metadata": {
    "execution": {
     "iopub.execute_input": "2024-09-11T21:10:04.717316Z",
     "iopub.status.busy": "2024-09-11T21:10:04.717316Z",
     "iopub.status.idle": "2024-09-11T21:10:04.728335Z",
     "shell.execute_reply": "2024-09-11T21:10:04.728335Z",
     "shell.execute_reply.started": "2024-09-11T21:10:04.717316Z"
    }
   },
   "outputs": [
    {
     "data": {
      "text/html": [
       "<div>\n",
       "<style scoped>\n",
       "    .dataframe tbody tr th:only-of-type {\n",
       "        vertical-align: middle;\n",
       "    }\n",
       "\n",
       "    .dataframe tbody tr th {\n",
       "        vertical-align: top;\n",
       "    }\n",
       "\n",
       "    .dataframe thead th {\n",
       "        text-align: right;\n",
       "    }\n",
       "</style>\n",
       "<table border=\"1\" class=\"dataframe\">\n",
       "  <thead>\n",
       "    <tr style=\"text-align: right;\">\n",
       "      <th></th>\n",
       "      <th>loc_id</th>\n",
       "      <th>level</th>\n",
       "      <th>freq</th>\n",
       "      <th>geometry</th>\n",
       "    </tr>\n",
       "    <tr>\n",
       "      <th>id</th>\n",
       "      <th></th>\n",
       "      <th></th>\n",
       "      <th></th>\n",
       "      <th></th>\n",
       "    </tr>\n",
       "  </thead>\n",
       "  <tbody>\n",
       "    <tr>\n",
       "      <th>0</th>\n",
       "      <td>5152981090339651584</td>\n",
       "      <td>10</td>\n",
       "      <td>1</td>\n",
       "      <td>POLYGON ((2827640.256 1154866.983, 2829448.495...</td>\n",
       "    </tr>\n",
       "    <tr>\n",
       "      <th>1</th>\n",
       "      <td>5152983289362907136</td>\n",
       "      <td>10</td>\n",
       "      <td>0</td>\n",
       "      <td>POLYGON ((2820309.073 1155559.663, 2822108.462...</td>\n",
       "    </tr>\n",
       "    <tr>\n",
       "      <th>2</th>\n",
       "      <td>5152984393169502208</td>\n",
       "      <td>14</td>\n",
       "      <td>0</td>\n",
       "      <td>POLYGON ((2822108.462 1164010.057, 2822221.013...</td>\n",
       "    </tr>\n",
       "    <tr>\n",
       "      <th>3</th>\n",
       "      <td>5152984401759436800</td>\n",
       "      <td>14</td>\n",
       "      <td>0</td>\n",
       "      <td>POLYGON ((2822221.013 1164538.626, 2822333.574...</td>\n",
       "    </tr>\n",
       "    <tr>\n",
       "      <th>4</th>\n",
       "      <td>5152984410349371392</td>\n",
       "      <td>14</td>\n",
       "      <td>0</td>\n",
       "      <td>POLYGON ((2821762.543 1164582.028, 2821875.069...</td>\n",
       "    </tr>\n",
       "    <tr>\n",
       "      <th>...</th>\n",
       "      <td>...</td>\n",
       "      <td>...</td>\n",
       "      <td>...</td>\n",
       "      <td>...</td>\n",
       "    </tr>\n",
       "    <tr>\n",
       "      <th>142570</th>\n",
       "      <td>5160199354111229952</td>\n",
       "      <td>14</td>\n",
       "      <td>0</td>\n",
       "      <td>POLYGON ((2825351.144 1214617.359, 2825464.119...</td>\n",
       "    </tr>\n",
       "    <tr>\n",
       "      <th>142571</th>\n",
       "      <td>5160199362701164544</td>\n",
       "      <td>14</td>\n",
       "      <td>0</td>\n",
       "      <td>POLYGON ((2824890.046 1214661.465, 2825002.986...</td>\n",
       "    </tr>\n",
       "    <tr>\n",
       "      <th>142572</th>\n",
       "      <td>5160199371291099136</td>\n",
       "      <td>14</td>\n",
       "      <td>0</td>\n",
       "      <td>POLYGON ((2825002.986 1215194.812, 2825115.937...</td>\n",
       "    </tr>\n",
       "    <tr>\n",
       "      <th>142573</th>\n",
       "      <td>5160199379881033728</td>\n",
       "      <td>14</td>\n",
       "      <td>0</td>\n",
       "      <td>POLYGON ((2825464.119 1215150.697, 2825577.105...</td>\n",
       "    </tr>\n",
       "    <tr>\n",
       "      <th>142574</th>\n",
       "      <td>5160222473920184320</td>\n",
       "      <td>10</td>\n",
       "      <td>0</td>\n",
       "      <td>POLYGON ((2831145.460 1206451.480, 2832960.889...</td>\n",
       "    </tr>\n",
       "  </tbody>\n",
       "</table>\n",
       "<p>142575 rows × 4 columns</p>\n",
       "</div>"
      ],
      "text/plain": [
       "                     loc_id  level  freq  \\\n",
       "id                                         \n",
       "0       5152981090339651584     10     1   \n",
       "1       5152983289362907136     10     0   \n",
       "2       5152984393169502208     14     0   \n",
       "3       5152984401759436800     14     0   \n",
       "4       5152984410349371392     14     0   \n",
       "...                     ...    ...   ...   \n",
       "142570  5160199354111229952     14     0   \n",
       "142571  5160199362701164544     14     0   \n",
       "142572  5160199371291099136     14     0   \n",
       "142573  5160199379881033728     14     0   \n",
       "142574  5160222473920184320     10     0   \n",
       "\n",
       "                                                 geometry  \n",
       "id                                                         \n",
       "0       POLYGON ((2827640.256 1154866.983, 2829448.495...  \n",
       "1       POLYGON ((2820309.073 1155559.663, 2822108.462...  \n",
       "2       POLYGON ((2822108.462 1164010.057, 2822221.013...  \n",
       "3       POLYGON ((2822221.013 1164538.626, 2822333.574...  \n",
       "4       POLYGON ((2821762.543 1164582.028, 2821875.069...  \n",
       "...                                                   ...  \n",
       "142570  POLYGON ((2825351.144 1214617.359, 2825464.119...  \n",
       "142571  POLYGON ((2824890.046 1214661.465, 2825002.986...  \n",
       "142572  POLYGON ((2825002.986 1215194.812, 2825115.937...  \n",
       "142573  POLYGON ((2825464.119 1215150.697, 2825577.105...  \n",
       "142574  POLYGON ((2831145.460 1206451.480, 2832960.889...  \n",
       "\n",
       "[142575 rows x 4 columns]"
      ]
     },
     "execution_count": 6,
     "metadata": {},
     "output_type": "execute_result"
    }
   ],
   "source": [
    "loc"
   ]
  },
  {
   "cell_type": "markdown",
   "metadata": {},
   "source": [
    "## Read POI file and preprocess\n",
    "### Places of Worship"
   ]
  },
  {
   "cell_type": "code",
   "execution_count": 7,
   "metadata": {
    "execution": {
     "iopub.execute_input": "2024-09-11T21:10:06.449900Z",
     "iopub.status.busy": "2024-09-11T21:10:06.449900Z",
     "iopub.status.idle": "2024-09-11T21:10:07.594540Z",
     "shell.execute_reply": "2024-09-11T21:10:07.594540Z",
     "shell.execute_reply.started": "2024-09-11T21:10:06.449900Z"
    }
   },
   "outputs": [],
   "source": [
    "# get all the pofws, 1\n",
    "pofw = gpd.read_file(os.path.join(\"..\", \"data\", \"poi\", \"ori\", \"gis_osm_pofw_free_1.shp\"))\n",
    "\n",
    "# area pofw transformed into points\n",
    "pofw_a = gpd.read_file(os.path.join(\"..\",\"data\", \"poi\", \"ori\", \"gis_osm_pofw_a_free_1.shp\"))\n",
    "pofw_a[\"geometry\"] = pofw_a.to_crs(\"EPSG:2056\").geometry.centroid.to_crs(\"EPSG:4326\")\n",
    "\n",
    "pofw = pd.concat([pofw, pofw_a])\n",
    "pofw = pofw.drop_duplicates(subset=\"osm_id\")"
   ]
  },
  {
   "cell_type": "markdown",
   "metadata": {},
   "source": [
    "### Transport Infrastructure"
   ]
  },
  {
   "cell_type": "code",
   "execution_count": 8,
   "metadata": {
    "execution": {
     "iopub.execute_input": "2024-09-11T21:10:10.052210Z",
     "iopub.status.busy": "2024-09-11T21:10:10.052210Z",
     "iopub.status.idle": "2024-09-11T21:10:14.168917Z",
     "shell.execute_reply": "2024-09-11T21:10:14.168413Z",
     "shell.execute_reply.started": "2024-09-11T21:10:10.052210Z"
    }
   },
   "outputs": [],
   "source": [
    "# get all the transport\n",
    "transport = gpd.read_file(os.path.join(\"..\", \"data\", \"poi\", \"ori\", \"gis_osm_transport_free_1.shp\"))\n",
    "\n",
    "# area transport transformed into points\n",
    "transport_a = gpd.read_file(os.path.join(\"..\", \"data\", \"poi\", \"ori\", \"gis_osm_transport_a_free_1.shp\"))\n",
    "transport_a[\"geometry\"] = transport_a.to_crs(\"EPSG:2056\").geometry.centroid.to_crs(\"EPSG:4326\")\n",
    "\n",
    "transport = pd.concat([transport, transport_a])\n",
    "transport = transport.drop_duplicates(subset=\"osm_id\")"
   ]
  },
  {
   "cell_type": "markdown",
   "metadata": {},
   "source": [
    "### Natural Features "
   ]
  },
  {
   "cell_type": "code",
   "execution_count": 9,
   "metadata": {
    "execution": {
     "iopub.execute_input": "2024-09-11T21:10:14.169923Z",
     "iopub.status.busy": "2024-09-11T21:10:14.169923Z",
     "iopub.status.idle": "2024-09-11T21:11:33.616993Z",
     "shell.execute_reply": "2024-09-11T21:11:33.616442Z",
     "shell.execute_reply.started": "2024-09-11T21:10:14.169923Z"
    }
   },
   "outputs": [],
   "source": [
    "# \n",
    "natural = gpd.read_file(os.path.join(\"..\", \"data\", \"poi\", \"ori\", \"gis_osm_natural_free_1.shp\"))\n",
    "\n",
    "# drop the trees: code = 4121\n",
    "natural = natural.loc[natural[\"code\"] != 4121]\n",
    "\n",
    "# area natural transformed into points\n",
    "natural_a = gpd.read_file(os.path.join(\"..\", \"data\", \"poi\", \"ori\", \"gis_osm_natural_a_free_1.shp\"))\n",
    "natural_a = natural_a.loc[natural_a[\"code\"] != 4121]\n",
    "natural_a[\"geometry\"] = natural_a.to_crs(\"EPSG:2056\").geometry.centroid.to_crs(\"EPSG:4326\")\n",
    "\n",
    "natural = pd.concat([natural, natural_a])\n",
    "natural = natural.drop_duplicates(subset=\"osm_id\")"
   ]
  },
  {
   "cell_type": "code",
   "execution_count": 10,
   "metadata": {
    "execution": {
     "iopub.execute_input": "2024-09-11T21:11:33.617995Z",
     "iopub.status.busy": "2024-09-11T21:11:33.616993Z",
     "iopub.status.idle": "2024-09-11T21:11:33.622548Z",
     "shell.execute_reply": "2024-09-11T21:11:33.622548Z",
     "shell.execute_reply.started": "2024-09-11T21:11:33.617995Z"
    }
   },
   "outputs": [
    {
     "data": {
      "text/plain": [
       "code\n",
       "4111    7098\n",
       "4103    1041\n",
       "4141     539\n",
       "4132     477\n",
       "4101     421\n",
       "4112     297\n",
       "Name: count, dtype: int64"
      ]
     },
     "execution_count": 10,
     "metadata": {},
     "output_type": "execute_result"
    }
   ],
   "source": [
    "natural[\"code\"].value_counts()"
   ]
  },
  {
   "cell_type": "markdown",
   "metadata": {},
   "source": [
    "### POIs"
   ]
  },
  {
   "cell_type": "code",
   "execution_count": 11,
   "metadata": {
    "execution": {
     "iopub.execute_input": "2024-09-11T21:11:33.624553Z",
     "iopub.status.busy": "2024-09-11T21:11:33.624553Z",
     "iopub.status.idle": "2024-09-11T21:12:15.405834Z",
     "shell.execute_reply": "2024-09-11T21:12:15.405834Z",
     "shell.execute_reply.started": "2024-09-11T21:11:33.624553Z"
    }
   },
   "outputs": [],
   "source": [
    "# \n",
    "poi = gpd.read_file(os.path.join(\"..\", \"data\", \"poi\", \"ori\", \"gis_osm_pois_free_1.shp\"))\n",
    "\n",
    "# area poi transformed into points\n",
    "poi_a = gpd.read_file(os.path.join(\"..\", \"data\", \"poi\", \"ori\", \"gis_osm_pois_a_free_1.shp\"))\n",
    "poi_a[\"geometry\"] = poi_a.to_crs(\"EPSG:2056\").geometry.centroid.to_crs(\"EPSG:4326\")\n",
    "\n",
    "poi = pd.concat([poi, poi_a])\n",
    "poi = poi.drop_duplicates(subset=\"osm_id\")"
   ]
  },
  {
   "cell_type": "code",
   "execution_count": 12,
   "metadata": {
    "execution": {
     "iopub.execute_input": "2024-09-11T21:12:15.406842Z",
     "iopub.status.busy": "2024-09-11T21:12:15.406842Z",
     "iopub.status.idle": "2024-09-11T21:12:15.415136Z",
     "shell.execute_reply": "2024-09-11T21:12:15.415136Z",
     "shell.execute_reply.started": "2024-09-11T21:12:15.406842Z"
    }
   },
   "outputs": [
    {
     "data": {
      "text/plain": [
       "code\n",
       "2902    68205\n",
       "2701    43136\n",
       "2252    23546\n",
       "2253    22747\n",
       "2301    17357\n",
       "        ...  \n",
       "2530       14\n",
       "2955       10\n",
       "2736        9\n",
       "2737        8\n",
       "2954        3\n",
       "Name: count, Length: 139, dtype: int64"
      ]
     },
     "execution_count": 12,
     "metadata": {},
     "output_type": "execute_result"
    }
   ],
   "source": [
    "poi[\"code\"].value_counts()"
   ]
  },
  {
   "cell_type": "markdown",
   "metadata": {},
   "source": [
    "### Traffic"
   ]
  },
  {
   "cell_type": "code",
   "execution_count": 13,
   "metadata": {
    "execution": {
     "iopub.execute_input": "2024-09-11T21:12:15.417141Z",
     "iopub.status.busy": "2024-09-11T21:12:15.416143Z",
     "iopub.status.idle": "2024-09-11T21:12:39.093254Z",
     "shell.execute_reply": "2024-09-11T21:12:39.093254Z",
     "shell.execute_reply.started": "2024-09-11T21:12:15.416143Z"
    }
   },
   "outputs": [],
   "source": [
    "# get the parking slots of traffic point file\n",
    "traffic = gpd.read_file(os.path.join(\"..\",\"data\", \"poi\", \"ori\", \"gis_osm_traffic_free_1.shp\"))\n",
    "\n",
    "# drop the crossing, turning_circle, street_lamp: code = 5204, 5207, 5209\n",
    "traffic = traffic.loc[~traffic[\"code\"].isin([5204, 5207, 5209])]\n",
    "\n",
    "# area traffic transformed into points\n",
    "traffic_a = gpd.read_file(os.path.join(\"..\", \"data\", \"poi\", \"ori\", \"gis_osm_traffic_a_free_1.shp\"))\n",
    "traffic_a[\"geometry\"] = traffic_a.to_crs(\"EPSG:2056\").geometry.centroid.to_crs(\"EPSG:4326\")\n",
    "\n",
    "traffic = pd.concat([traffic, traffic_a])\n",
    "traffic = traffic.drop_duplicates(subset=\"osm_id\")"
   ]
  },
  {
   "cell_type": "code",
   "execution_count": 14,
   "metadata": {
    "execution": {
     "iopub.execute_input": "2024-09-11T21:12:39.094260Z",
     "iopub.status.busy": "2024-09-11T21:12:39.094260Z",
     "iopub.status.idle": "2024-09-11T21:12:39.100402Z",
     "shell.execute_reply": "2024-09-11T21:12:39.100402Z",
     "shell.execute_reply.started": "2024-09-11T21:12:39.094260Z"
    }
   },
   "outputs": [
    {
     "data": {
      "text/plain": [
       "code\n",
       "5260    60568\n",
       "5270    10432\n",
       "5201     6064\n",
       "5250     3621\n",
       "5203     3029\n",
       "5263     2436\n",
       "5303     1234\n",
       "5321     1138\n",
       "5206      994\n",
       "5332      582\n",
       "5208      547\n",
       "5302      462\n",
       "5262      396\n",
       "5301      318\n",
       "5202      300\n",
       "5311      166\n",
       "5251       64\n",
       "5331        9\n",
       "Name: count, dtype: int64"
      ]
     },
     "execution_count": 14,
     "metadata": {},
     "output_type": "execute_result"
    }
   ],
   "source": [
    "traffic[\"code\"].value_counts()"
   ]
  },
  {
   "cell_type": "markdown",
   "metadata": {},
   "source": [
    "### Building"
   ]
  },
  {
   "cell_type": "code",
   "execution_count": 15,
   "metadata": {
    "execution": {
     "iopub.execute_input": "2024-09-11T21:12:39.101408Z",
     "iopub.status.busy": "2024-09-11T21:12:39.101408Z",
     "iopub.status.idle": "2024-09-11T21:20:06.416990Z",
     "shell.execute_reply": "2024-09-11T21:20:06.416990Z",
     "shell.execute_reply.started": "2024-09-11T21:12:39.101408Z"
    }
   },
   "outputs": [],
   "source": [
    "buildings = gpd.read_file(os.path.join(\"..\", \"data\", \"poi\", \"ori\", \"gis_osm_buildings_a_free_1.shp\"))\n",
    "\n",
    "# all building get the same code 1500\n",
    "buildings[\"geometry\"] = buildings.to_crs(\"EPSG:2056\").geometry.centroid.to_crs(\"EPSG:4326\")"
   ]
  },
  {
   "cell_type": "code",
   "execution_count": 16,
   "metadata": {
    "execution": {
     "iopub.execute_input": "2024-09-11T21:20:06.418498Z",
     "iopub.status.busy": "2024-09-11T21:20:06.418498Z",
     "iopub.status.idle": "2024-09-11T21:20:06.439147Z",
     "shell.execute_reply": "2024-09-11T21:20:06.439147Z",
     "shell.execute_reply.started": "2024-09-11T21:20:06.418498Z"
    }
   },
   "outputs": [
    {
     "data": {
      "text/plain": [
       "code\n",
       "1500    2584180\n",
       "Name: count, dtype: int64"
      ]
     },
     "execution_count": 16,
     "metadata": {},
     "output_type": "execute_result"
    }
   ],
   "source": [
    "buildings[\"code\"].value_counts()"
   ]
  },
  {
   "cell_type": "markdown",
   "metadata": {},
   "source": [
    "### Combine all types of POIs"
   ]
  },
  {
   "cell_type": "code",
   "execution_count": 17,
   "metadata": {
    "execution": {
     "iopub.execute_input": "2024-09-11T21:20:06.442151Z",
     "iopub.status.busy": "2024-09-11T21:20:06.441151Z",
     "iopub.status.idle": "2024-09-11T21:20:07.058552Z",
     "shell.execute_reply": "2024-09-11T21:20:07.058552Z",
     "shell.execute_reply.started": "2024-09-11T21:20:06.442151Z"
    }
   },
   "outputs": [],
   "source": [
    "# concat all the pois\n",
    "poi_gdf = pd.concat([pofw, transport, natural, poi, traffic, buildings])\n",
    "poi_gdf.drop(columns={\"type\"}, inplace=True)"
   ]
  },
  {
   "cell_type": "code",
   "execution_count": 23,
   "metadata": {
    "execution": {
     "iopub.execute_input": "2024-09-10T08:33:21.239233Z",
     "iopub.status.busy": "2024-09-10T08:33:21.238234Z",
     "iopub.status.idle": "2024-09-10T08:33:21.260887Z",
     "shell.execute_reply": "2024-09-10T08:33:21.260887Z",
     "shell.execute_reply.started": "2024-09-10T08:33:21.239233Z"
    }
   },
   "outputs": [
    {
     "data": {
      "text/plain": [
       "(19,)"
      ]
     },
     "execution_count": 23,
     "metadata": {},
     "output_type": "execute_result"
    }
   ],
   "source": [
    "np.unique(poi_gdf[\"code\"].value_counts().index // 100).shape, np.unique(poi_gdf[\"code\"].value_counts().index).shape"
   ]
  },
  {
   "cell_type": "code",
   "execution_count": 24,
   "metadata": {
    "execution": {
     "iopub.execute_input": "2024-09-10T08:33:32.357567Z",
     "iopub.status.busy": "2024-09-10T08:33:32.357567Z",
     "iopub.status.idle": "2024-09-10T08:33:32.379918Z",
     "shell.execute_reply": "2024-09-10T08:33:32.379918Z",
     "shell.execute_reply.started": "2024-09-10T08:33:32.357567Z"
    }
   },
   "outputs": [
    {
     "data": {
      "text/plain": [
       "code\n",
       "1500    2584180\n",
       "2902      68205\n",
       "5260      60568\n",
       "2701      43136\n",
       "5621      34700\n",
       "         ...   \n",
       "3301          7\n",
       "3500          7\n",
       "3106          6\n",
       "2954          3\n",
       "5652          2\n",
       "Name: count, Length: 188, dtype: int64"
      ]
     },
     "execution_count": 24,
     "metadata": {},
     "output_type": "execute_result"
    }
   ],
   "source": [
    "poi_gdf[\"code\"].value_counts()"
   ]
  },
  {
   "cell_type": "markdown",
   "metadata": {},
   "source": [
    "## Assign to poi category"
   ]
  },
  {
   "cell_type": "code",
   "execution_count": 18,
   "metadata": {
    "execution": {
     "iopub.execute_input": "2024-05-23T11:13:19.110492Z",
     "iopub.status.busy": "2024-05-23T11:13:19.110492Z",
     "iopub.status.idle": "2024-05-23T11:13:19.388014Z",
     "shell.execute_reply": "2024-05-23T11:13:19.388014Z",
     "shell.execute_reply.started": "2024-05-23T11:13:19.110492Z"
    }
   },
   "outputs": [
    {
     "name": "stdout",
     "output_type": "stream",
     "text": [
      "category\n",
      "Others            2699673\n",
      "Entertainment      149791\n",
      "Transportation     131733\n",
      "Residential         50254\n",
      "Shopping            47979\n",
      "Services             9554\n",
      "Schools              9142\n",
      "Civic                6464\n",
      "Name: count, dtype: int64\n"
     ]
    }
   ],
   "source": [
    "def _assign_category(df):\n",
    "    # 2018 Hong: Life services, Office building/space, Other facilities, Medical/Education, Entertainment, Government, Residence communities, Financial services\n",
    "    # 2021 Yin : Residential, Hotel/resort, Mixed-use, K–12 schools, University/college, Office/workplace, Services, Civic/religious, Shopping/retail, Recreation/entertainment, Transportation, Others\n",
    "\n",
    "    ### osm code -> 2018 Hong -> 2021 Yin\n",
    "    # public 20xx  -> Residence communities ->  Residential\n",
    "    #    university + school + kindergarten + college (208x) -> Medical/Education -> K–12 schools/University/college\n",
    "    # health 21xx -> Medical/Education -> Services\n",
    "    # leisure 22xx -> Entertainment -> Recreation/entertainment\n",
    "    # catering 23xx -> Life services -> Residential\n",
    "    # accommodation 24xx -> Entertainment -> Hotel/resort\n",
    "    # shopping 25xx -> Life services -> Shopping/retail\n",
    "    # money 26xx -> Financial services -> Services\n",
    "    # tourism 27xx -> Entertainment -> Recreation/entertainment\n",
    "    # pofw 3xxx -> Life services -> Civic/religious\n",
    "    # natural 41xx -> Entertainment -> Recreation/entertainment\n",
    "    # transport 56xx -> Other facilities -> Transportation\n",
    "    # miscpoi 29xx -> Other facilities -> Others\n",
    "\n",
    "    # note: miscpoi contains \"bench\" or \"drinking_water\" that might not reveal any landuse info\n",
    "\n",
    "    # init\n",
    "    df[\"category\"] = \"Unknown\"\n",
    "\n",
    "    # public 20xx  -> Residence communities ->  Residential\n",
    "    #    university + school + kindergarten + college (208x) -> Medical/Education -> K–12 schools/University/college\n",
    "    df.loc[(df[\"code\"] > 2000) & (df[\"code\"] < 2100), \"category\"] = \"Residential\"\n",
    "    df.loc[(df[\"code\"] > 2080) & (df[\"code\"] < 2090), \"category\"] = \"Schools\"\n",
    "\n",
    "    # health 21xx -> Medical/Education -> Services\n",
    "    df.loc[(df[\"code\"] > 2100) & (df[\"code\"] < 2200), \"category\"] = \"Services\"\n",
    "\n",
    "    # leisure 22xx -> Entertainment -> Recreation/entertainment\n",
    "    df.loc[(df[\"code\"] > 2200) & (df[\"code\"] < 2300), \"category\"] = \"Entertainment\"\n",
    "\n",
    "    # catering 23xx -> Life services -> Residential\n",
    "    df.loc[(df[\"code\"] > 2300) & (df[\"code\"] < 2400), \"category\"] = \"Residential\"\n",
    "\n",
    "    # accommodation 24xx -> Entertainment -> Hotel/resort\n",
    "    df.loc[(df[\"code\"] > 2400) & (df[\"code\"] < 2500), \"category\"] = \"Entertainment\"\n",
    "\n",
    "    # shopping 25xx -> Life services -> Shopping/retail\n",
    "    df.loc[(df[\"code\"] > 2500) & (df[\"code\"] < 2600), \"category\"] = \"Shopping\"\n",
    "\n",
    "    # money 26xx -> Financial services -> Services\n",
    "    df.loc[(df[\"code\"] > 2600) & (df[\"code\"] < 2700), \"category\"] = \"Services\"\n",
    "\n",
    "    # tourism 27xx -> Entertainment -> Recreation/entertainment\n",
    "    df.loc[(df[\"code\"] > 2700) & (df[\"code\"] < 2800), \"category\"] = \"Entertainment\"\n",
    "\n",
    "    # miscpoi 29xx -> Other facilities -> Others\n",
    "    df.loc[(df[\"code\"] > 2900) & (df[\"code\"] < 3000), \"category\"] = \"Others\"\n",
    "    df.loc[(df[\"code\"] == 1500), \"category\"] = \"Others\"\n",
    "\n",
    "    # pofw 3xxx -> Life services -> Civic/religious\n",
    "    df.loc[(df[\"code\"] > 3000) & (df[\"code\"] < 4000), \"category\"] = \"Civic\"\n",
    "\n",
    "    # natural 41xx -> Entertainment -> Recreation/entertainment\n",
    "    df.loc[(df[\"code\"] > 4000) & (df[\"code\"] < 5000), \"category\"] = \"Entertainment\"\n",
    "\n",
    "    # transport 56xx -> Other facilities -> Transportation\n",
    "    df.loc[(df[\"code\"] > 5600) & (df[\"code\"] < 5700), \"category\"] = \"Transportation\"\n",
    "    # traffic 54xx -> Other facilities -> Transportation\n",
    "    df.loc[(df[\"code\"] > 5200) & (df[\"code\"] < 5400), \"category\"] = \"Transportation\"\n",
    "\n",
    "    # Unknown           2737932\n",
    "    # Others             127119\n",
    "    # Entertainment       93521\n",
    "    # Shopping            48116\n",
    "    # Residential         42271\n",
    "    # Transportation      39290\n",
    "    # Services             9010\n",
    "    # Schools              2850\n",
    "    # Civic                 765\n",
    "\n",
    "    print(df[\"category\"].value_counts())\n",
    "    return df\n",
    "\n",
    "poi_category_gdf = _assign_category(poi_gdf)"
   ]
  },
  {
   "cell_type": "code",
   "execution_count": 19,
   "metadata": {
    "execution": {
     "iopub.execute_input": "2024-05-23T11:13:19.389012Z",
     "iopub.status.busy": "2024-05-23T11:13:19.389012Z",
     "iopub.status.idle": "2024-05-23T11:13:19.418943Z",
     "shell.execute_reply": "2024-05-23T11:13:19.418943Z",
     "shell.execute_reply.started": "2024-05-23T11:13:19.389012Z"
    }
   },
   "outputs": [
    {
     "data": {
      "text/plain": [
       "(3104590, 3104590)"
      ]
     },
     "execution_count": 19,
     "metadata": {},
     "output_type": "execute_result"
    }
   ],
   "source": [
    "len(poi_category_gdf), poi_category_gdf[\"code\"].value_counts().sum()"
   ]
  },
  {
   "cell_type": "markdown",
   "metadata": {
    "execution": {
     "iopub.execute_input": "2024-03-16T22:54:01.098277Z",
     "iopub.status.busy": "2024-03-16T22:54:01.097281Z",
     "iopub.status.idle": "2024-03-16T22:54:01.113366Z",
     "shell.execute_reply": "2024-03-16T22:54:01.113366Z",
     "shell.execute_reply.started": "2024-03-16T22:54:01.098277Z"
    }
   },
   "source": [
    "## Final cleaning and safe"
   ]
  },
  {
   "cell_type": "code",
   "execution_count": 20,
   "metadata": {
    "execution": {
     "iopub.execute_input": "2024-05-23T11:13:19.419941Z",
     "iopub.status.busy": "2024-05-23T11:13:19.419941Z",
     "iopub.status.idle": "2024-05-23T11:17:25.918718Z",
     "shell.execute_reply": "2024-05-23T11:17:25.917726Z",
     "shell.execute_reply.started": "2024-05-23T11:13:19.419941Z"
    }
   },
   "outputs": [],
   "source": [
    "# final cleaning\n",
    "poi_category_gdf.drop(columns=[\"osm_id\", \"fclass\"], inplace=True)\n",
    "# reindex\n",
    "poi_category_gdf.reset_index(drop=True, inplace=True)\n",
    "poi_category_gdf.index.name = \"id\"\n",
    "poi_category_gdf.reset_index(inplace=True)\n",
    "\n",
    "# change the projection and save\n",
    "poi_category_gdf =poi_category_gdf.to_crs(\"EPSG:2056\")\n",
    "poi_category_gdf.to_file(os.path.join(\"..\", \"data\", \"poi\", \"final_pois.shp\"))"
   ]
  },
  {
   "cell_type": "markdown",
   "metadata": {},
   "source": [
    "## Get location poi pair"
   ]
  },
  {
   "cell_type": "code",
   "execution_count": 21,
   "metadata": {
    "execution": {
     "iopub.execute_input": "2024-05-23T11:17:25.919716Z",
     "iopub.status.busy": "2024-05-23T11:17:25.918718Z",
     "iopub.status.idle": "2024-05-23T11:23:12.905087Z",
     "shell.execute_reply": "2024-05-23T11:23:12.904064Z",
     "shell.execute_reply.started": "2024-05-23T11:17:25.919716Z"
    }
   },
   "outputs": [],
   "source": [
    "# read poi file\n",
    "poi = gpd.read_file(os.path.join(\"..\", \"data\", \"poi\", \"final_pois.shp\"))\n",
    "spatial_index = poi.sindex"
   ]
  },
  {
   "cell_type": "code",
   "execution_count": 22,
   "metadata": {
    "execution": {
     "iopub.execute_input": "2024-05-23T11:24:33.636031Z",
     "iopub.status.busy": "2024-05-23T11:24:33.635033Z",
     "iopub.status.idle": "2024-05-23T11:24:33.659111Z",
     "shell.execute_reply": "2024-05-23T11:24:33.659111Z",
     "shell.execute_reply.started": "2024-05-23T11:24:33.636031Z"
    }
   },
   "outputs": [
    {
     "data": {
      "text/plain": [
       "(3104590, 3104590)"
      ]
     },
     "execution_count": 22,
     "metadata": {},
     "output_type": "execute_result"
    }
   ],
   "source": [
    "len(poi), poi[\"code\"].value_counts().sum()"
   ]
  },
  {
   "cell_type": "code",
   "execution_count": 23,
   "metadata": {
    "execution": {
     "iopub.execute_input": "2024-05-23T11:24:40.946676Z",
     "iopub.status.busy": "2024-05-23T11:24:40.946676Z",
     "iopub.status.idle": "2024-05-23T11:29:12.729346Z",
     "shell.execute_reply": "2024-05-23T11:29:12.729346Z",
     "shell.execute_reply.started": "2024-05-23T11:24:40.946676Z"
    }
   },
   "outputs": [
    {
     "name": "stderr",
     "output_type": "stream",
     "text": [
      "Generating poi within: 100%|██████████████████████████████████████████████████| 142575/142575 [04:31<00:00, 524.63it/s]\n"
     ]
    }
   ],
   "source": [
    "def _get_inside_pois(df, poi, spatial_index):\n",
    "    \"\"\"\n",
    "    Given one extent (df), return the poi within this extent.\n",
    "    spatial_index is obtained from poi.sindex to speed up the process.\n",
    "    \"\"\"\n",
    "    possible_matches_index = list(spatial_index.intersection(df.bounds))\n",
    "    possible_matches = poi.iloc[possible_matches_index]\n",
    "    precise_matches = possible_matches[possible_matches.within(df)][\"id\"].values\n",
    "\n",
    "    return precise_matches\n",
    "\n",
    "# get the inside poi within each location\n",
    "tqdm.pandas(desc=\"Generating poi within\")\n",
    "loc[\"poi_within\"] = loc[\"geometry\"].progress_apply(\n",
    "    _get_inside_pois, poi=poi, spatial_index=spatial_index\n",
    ")"
   ]
  },
  {
   "cell_type": "code",
   "execution_count": 24,
   "metadata": {
    "execution": {
     "iopub.execute_input": "2024-05-23T11:29:20.778896Z",
     "iopub.status.busy": "2024-05-23T11:29:20.777899Z",
     "iopub.status.idle": "2024-05-23T11:29:20.803343Z",
     "shell.execute_reply": "2024-05-23T11:29:20.803343Z",
     "shell.execute_reply.started": "2024-05-23T11:29:20.778896Z"
    }
   },
   "outputs": [
    {
     "data": {
      "text/html": [
       "<div>\n",
       "<style scoped>\n",
       "    .dataframe tbody tr th:only-of-type {\n",
       "        vertical-align: middle;\n",
       "    }\n",
       "\n",
       "    .dataframe tbody tr th {\n",
       "        vertical-align: top;\n",
       "    }\n",
       "\n",
       "    .dataframe thead th {\n",
       "        text-align: right;\n",
       "    }\n",
       "</style>\n",
       "<table border=\"1\" class=\"dataframe\">\n",
       "  <thead>\n",
       "    <tr style=\"text-align: right;\">\n",
       "      <th></th>\n",
       "      <th>loc_id</th>\n",
       "      <th>level</th>\n",
       "      <th>freq</th>\n",
       "      <th>geometry</th>\n",
       "      <th>poi_within</th>\n",
       "    </tr>\n",
       "    <tr>\n",
       "      <th>id</th>\n",
       "      <th></th>\n",
       "      <th></th>\n",
       "      <th></th>\n",
       "      <th></th>\n",
       "      <th></th>\n",
       "    </tr>\n",
       "  </thead>\n",
       "  <tbody>\n",
       "    <tr>\n",
       "      <th>0</th>\n",
       "      <td>5152981090339651584</td>\n",
       "      <td>10</td>\n",
       "      <td>1</td>\n",
       "      <td>POLYGON ((2827640.256 1154866.983, 2829448.495...</td>\n",
       "      <td>[46461, 46466, 46467, 47482, 46465, 47487, 144...</td>\n",
       "    </tr>\n",
       "    <tr>\n",
       "      <th>1</th>\n",
       "      <td>5152983289362907136</td>\n",
       "      <td>10</td>\n",
       "      <td>0</td>\n",
       "      <td>POLYGON ((2820309.073 1155559.663, 2822108.462...</td>\n",
       "      <td>[46462, 46460, 45903, 46464, 47479, 47481, 464...</td>\n",
       "    </tr>\n",
       "    <tr>\n",
       "      <th>2</th>\n",
       "      <td>5152984393169502208</td>\n",
       "      <td>14</td>\n",
       "      <td>0</td>\n",
       "      <td>POLYGON ((2822108.462 1164010.057, 2822221.013...</td>\n",
       "      <td>[]</td>\n",
       "    </tr>\n",
       "    <tr>\n",
       "      <th>3</th>\n",
       "      <td>5152984401759436800</td>\n",
       "      <td>14</td>\n",
       "      <td>0</td>\n",
       "      <td>POLYGON ((2822221.013 1164538.626, 2822333.574...</td>\n",
       "      <td>[]</td>\n",
       "    </tr>\n",
       "    <tr>\n",
       "      <th>4</th>\n",
       "      <td>5152984410349371392</td>\n",
       "      <td>14</td>\n",
       "      <td>0</td>\n",
       "      <td>POLYGON ((2821762.543 1164582.028, 2821875.069...</td>\n",
       "      <td>[]</td>\n",
       "    </tr>\n",
       "    <tr>\n",
       "      <th>...</th>\n",
       "      <td>...</td>\n",
       "      <td>...</td>\n",
       "      <td>...</td>\n",
       "      <td>...</td>\n",
       "      <td>...</td>\n",
       "    </tr>\n",
       "    <tr>\n",
       "      <th>142570</th>\n",
       "      <td>5160199354111229952</td>\n",
       "      <td>14</td>\n",
       "      <td>0</td>\n",
       "      <td>POLYGON ((2825351.144 1214617.359, 2825464.119...</td>\n",
       "      <td>[]</td>\n",
       "    </tr>\n",
       "    <tr>\n",
       "      <th>142571</th>\n",
       "      <td>5160199362701164544</td>\n",
       "      <td>14</td>\n",
       "      <td>0</td>\n",
       "      <td>POLYGON ((2824890.046 1214661.465, 2825002.986...</td>\n",
       "      <td>[]</td>\n",
       "    </tr>\n",
       "    <tr>\n",
       "      <th>142572</th>\n",
       "      <td>5160199371291099136</td>\n",
       "      <td>14</td>\n",
       "      <td>0</td>\n",
       "      <td>POLYGON ((2825002.986 1215194.812, 2825115.937...</td>\n",
       "      <td>[]</td>\n",
       "    </tr>\n",
       "    <tr>\n",
       "      <th>142573</th>\n",
       "      <td>5160199379881033728</td>\n",
       "      <td>14</td>\n",
       "      <td>0</td>\n",
       "      <td>POLYGON ((2825464.119 1215150.697, 2825577.105...</td>\n",
       "      <td>[]</td>\n",
       "    </tr>\n",
       "    <tr>\n",
       "      <th>142574</th>\n",
       "      <td>5160222473920184320</td>\n",
       "      <td>10</td>\n",
       "      <td>0</td>\n",
       "      <td>POLYGON ((2831145.460 1206451.480, 2832960.889...</td>\n",
       "      <td>[232832, 232831, 2287463, 49945, 978529, 35510...</td>\n",
       "    </tr>\n",
       "  </tbody>\n",
       "</table>\n",
       "<p>142575 rows × 5 columns</p>\n",
       "</div>"
      ],
      "text/plain": [
       "                     loc_id  level  freq  \\\n",
       "id                                         \n",
       "0       5152981090339651584     10     1   \n",
       "1       5152983289362907136     10     0   \n",
       "2       5152984393169502208     14     0   \n",
       "3       5152984401759436800     14     0   \n",
       "4       5152984410349371392     14     0   \n",
       "...                     ...    ...   ...   \n",
       "142570  5160199354111229952     14     0   \n",
       "142571  5160199362701164544     14     0   \n",
       "142572  5160199371291099136     14     0   \n",
       "142573  5160199379881033728     14     0   \n",
       "142574  5160222473920184320     10     0   \n",
       "\n",
       "                                                 geometry  \\\n",
       "id                                                          \n",
       "0       POLYGON ((2827640.256 1154866.983, 2829448.495...   \n",
       "1       POLYGON ((2820309.073 1155559.663, 2822108.462...   \n",
       "2       POLYGON ((2822108.462 1164010.057, 2822221.013...   \n",
       "3       POLYGON ((2822221.013 1164538.626, 2822333.574...   \n",
       "4       POLYGON ((2821762.543 1164582.028, 2821875.069...   \n",
       "...                                                   ...   \n",
       "142570  POLYGON ((2825351.144 1214617.359, 2825464.119...   \n",
       "142571  POLYGON ((2824890.046 1214661.465, 2825002.986...   \n",
       "142572  POLYGON ((2825002.986 1215194.812, 2825115.937...   \n",
       "142573  POLYGON ((2825464.119 1215150.697, 2825577.105...   \n",
       "142574  POLYGON ((2831145.460 1206451.480, 2832960.889...   \n",
       "\n",
       "                                               poi_within  \n",
       "id                                                         \n",
       "0       [46461, 46466, 46467, 47482, 46465, 47487, 144...  \n",
       "1       [46462, 46460, 45903, 46464, 47479, 47481, 464...  \n",
       "2                                                      []  \n",
       "3                                                      []  \n",
       "4                                                      []  \n",
       "...                                                   ...  \n",
       "142570                                                 []  \n",
       "142571                                                 []  \n",
       "142572                                                 []  \n",
       "142573                                                 []  \n",
       "142574  [232832, 232831, 2287463, 49945, 978529, 35510...  \n",
       "\n",
       "[142575 rows x 5 columns]"
      ]
     },
     "execution_count": 24,
     "metadata": {},
     "output_type": "execute_result"
    }
   ],
   "source": [
    "loc"
   ]
  },
  {
   "cell_type": "code",
   "execution_count": 25,
   "metadata": {
    "execution": {
     "iopub.execute_input": "2024-05-23T11:29:32.722356Z",
     "iopub.status.busy": "2024-05-23T11:29:32.722356Z",
     "iopub.status.idle": "2024-05-23T11:29:33.084051Z",
     "shell.execute_reply": "2024-05-23T11:29:33.084051Z",
     "shell.execute_reply.started": "2024-05-23T11:29:32.722356Z"
    }
   },
   "outputs": [],
   "source": [
    "# cleaning and expanding to location_id-poi_id pair\n",
    "loc_no_geo = loc.drop(columns=\"geometry\")\n",
    "\n",
    "# explode preserves nan - preserves locs with no poi\n",
    "locs_poi = loc_no_geo.explode(column=\"poi_within\")"
   ]
  },
  {
   "cell_type": "code",
   "execution_count": 26,
   "metadata": {
    "execution": {
     "iopub.execute_input": "2024-05-23T11:29:34.817518Z",
     "iopub.status.busy": "2024-05-23T11:29:34.817518Z",
     "iopub.status.idle": "2024-05-23T11:29:37.165418Z",
     "shell.execute_reply": "2024-05-23T11:29:37.165418Z",
     "shell.execute_reply.started": "2024-05-23T11:29:34.817518Z"
    }
   },
   "outputs": [],
   "source": [
    "# get the poi info from original poi df\n",
    "locs_poi = locs_poi.merge(poi[[\"id\", \"category\", \"code\"]], left_on=\"poi_within\", right_on=\"id\", how=\"left\")\n",
    "locs_poi.drop(columns=[\"id\"], inplace=True)"
   ]
  },
  {
   "cell_type": "code",
   "execution_count": 27,
   "metadata": {
    "execution": {
     "iopub.execute_input": "2024-05-23T11:29:37.167413Z",
     "iopub.status.busy": "2024-05-23T11:29:37.166416Z",
     "iopub.status.idle": "2024-05-23T11:29:37.212386Z",
     "shell.execute_reply": "2024-05-23T11:29:37.212386Z",
     "shell.execute_reply.started": "2024-05-23T11:29:37.167413Z"
    }
   },
   "outputs": [
    {
     "data": {
      "text/plain": [
       "code\n",
       "1500.0    2584175\n",
       "2902.0      68205\n",
       "5260.0      60568\n",
       "2701.0      43132\n",
       "5621.0      34700\n",
       "           ...   \n",
       "3500.0          7\n",
       "3301.0          7\n",
       "3106.0          6\n",
       "2954.0          3\n",
       "5652.0          2\n",
       "Name: count, Length: 188, dtype: int64"
      ]
     },
     "execution_count": 27,
     "metadata": {},
     "output_type": "execute_result"
    }
   ],
   "source": [
    "locs_poi[\"code\"].value_counts()"
   ]
  },
  {
   "cell_type": "code",
   "execution_count": 28,
   "metadata": {
    "execution": {
     "iopub.execute_input": "2024-05-23T11:29:41.320805Z",
     "iopub.status.busy": "2024-05-23T11:29:41.320805Z",
     "iopub.status.idle": "2024-05-23T11:29:42.949108Z",
     "shell.execute_reply": "2024-05-23T11:29:42.948142Z",
     "shell.execute_reply.started": "2024-05-23T11:29:41.320805Z"
    }
   },
   "outputs": [],
   "source": [
    "# final cleaning\n",
    "valid_pairs = locs_poi.dropna(subset=[\"poi_within\"]).copy()\n",
    "valid_pairs[\"code\"] = valid_pairs[\"code\"].astype(int).astype(str)"
   ]
  },
  {
   "cell_type": "code",
   "execution_count": 29,
   "metadata": {
    "execution": {
     "iopub.execute_input": "2024-05-23T11:29:42.950106Z",
     "iopub.status.busy": "2024-05-23T11:29:42.950106Z",
     "iopub.status.idle": "2024-05-23T11:29:42.978031Z",
     "shell.execute_reply": "2024-05-23T11:29:42.978031Z",
     "shell.execute_reply.started": "2024-05-23T11:29:42.950106Z"
    }
   },
   "outputs": [
    {
     "data": {
      "text/plain": [
       "83947"
      ]
     },
     "execution_count": 29,
     "metadata": {},
     "output_type": "execute_result"
    }
   ],
   "source": [
    "# some location does not have pois inside\n",
    "len(valid_pairs[\"loc_id\"].unique())"
   ]
  },
  {
   "cell_type": "markdown",
   "metadata": {},
   "source": [
    "## Get lda vector for locations"
   ]
  },
  {
   "cell_type": "code",
   "execution_count": 30,
   "metadata": {
    "execution": {
     "iopub.execute_input": "2024-05-23T11:29:51.357877Z",
     "iopub.status.busy": "2024-05-23T11:29:51.356919Z",
     "iopub.status.idle": "2024-05-23T11:30:26.200181Z",
     "shell.execute_reply": "2024-05-23T11:30:26.200181Z",
     "shell.execute_reply.started": "2024-05-23T11:29:51.357877Z"
    }
   },
   "outputs": [],
   "source": [
    "def _lda(df, categories=16):\n",
    "    \"\"\"Note: deal with the osm assigned \"code\" field.\"\"\"\n",
    "    texts = df.groupby(\"loc_id\")[\"code\"].apply(list).to_list()\n",
    "\n",
    "    dct = Dictionary(texts)\n",
    "    corpus = [dct.doc2bow(line) for line in texts]\n",
    "\n",
    "    lda = LdaModel(corpus, num_topics=categories)\n",
    "    vector = lda[corpus]\n",
    "\n",
    "    # the lda array\n",
    "    dense_ldavector = gensim.matutils.corpus2dense(vector, num_terms=categories).T\n",
    "    # the index arr\n",
    "    index_arr = df.groupby(\"loc_id\", as_index=False).count()[\"loc_id\"].values\n",
    "\n",
    "    poiValues = pd.Series(list(dense_ldavector))\n",
    "    poiValues.index = index_arr\n",
    "\n",
    "    poiValues.name = \"poiValues\"\n",
    "    poiValues.index.name = \"loc_id\"\n",
    "\n",
    "    return poiValues.reset_index()\n",
    "\n",
    "categories = 32\n",
    "poiValues = _lda(valid_pairs, categories=categories)"
   ]
  },
  {
   "cell_type": "code",
   "execution_count": 31,
   "metadata": {
    "execution": {
     "iopub.execute_input": "2024-05-23T11:30:26.201221Z",
     "iopub.status.busy": "2024-05-23T11:30:26.201221Z",
     "iopub.status.idle": "2024-05-23T11:30:26.323419Z",
     "shell.execute_reply": "2024-05-23T11:30:26.323419Z",
     "shell.execute_reply.started": "2024-05-23T11:30:26.201221Z"
    }
   },
   "outputs": [],
   "source": [
    "locs_poi = loc.merge(poiValues, on=\"loc_id\", how=\"left\")"
   ]
  },
  {
   "cell_type": "code",
   "execution_count": 32,
   "metadata": {
    "execution": {
     "iopub.execute_input": "2024-05-23T11:31:23.545824Z",
     "iopub.status.busy": "2024-05-23T11:31:23.545824Z",
     "iopub.status.idle": "2024-05-23T11:31:23.584758Z",
     "shell.execute_reply": "2024-05-23T11:31:23.584758Z",
     "shell.execute_reply.started": "2024-05-23T11:31:23.545824Z"
    }
   },
   "outputs": [],
   "source": [
    "# assign all 0's to non-poi locations\n",
    "locs_poi.loc[locs_poi[\"poiValues\"].isna(), \"poiValues\"] = locs_poi.loc[locs_poi[\"poiValues\"].isna(), \"poiValues\"].apply(lambda x: np.zeros(categories))"
   ]
  },
  {
   "cell_type": "code",
   "execution_count": 33,
   "metadata": {
    "execution": {
     "iopub.execute_input": "2024-05-23T11:31:24.489096Z",
     "iopub.status.busy": "2024-05-23T11:31:24.489096Z",
     "iopub.status.idle": "2024-05-23T11:31:24.606056Z",
     "shell.execute_reply": "2024-05-23T11:31:24.605058Z",
     "shell.execute_reply.started": "2024-05-23T11:31:24.489096Z"
    }
   },
   "outputs": [],
   "source": [
    "locs_poi[\"poiValues\"] = locs_poi[\"poiValues\"].apply(lambda x: np.array(x, dtype=np.float32))"
   ]
  },
  {
   "cell_type": "code",
   "execution_count": 34,
   "metadata": {
    "execution": {
     "iopub.execute_input": "2024-05-23T11:31:25.738054Z",
     "iopub.status.busy": "2024-05-23T11:31:25.737055Z",
     "iopub.status.idle": "2024-05-23T11:31:25.751019Z",
     "shell.execute_reply": "2024-05-23T11:31:25.750021Z",
     "shell.execute_reply.started": "2024-05-23T11:31:25.738054Z"
    }
   },
   "outputs": [],
   "source": [
    "locs_poi.drop(columns=[\"poi_within\", \"geometry\"], inplace=True)"
   ]
  },
  {
   "cell_type": "code",
   "execution_count": 35,
   "metadata": {
    "execution": {
     "iopub.execute_input": "2024-05-23T11:31:26.945189Z",
     "iopub.status.busy": "2024-05-23T11:31:26.945189Z",
     "iopub.status.idle": "2024-05-23T11:31:27.079318Z",
     "shell.execute_reply": "2024-05-23T11:31:27.078359Z",
     "shell.execute_reply.started": "2024-05-23T11:31:26.945189Z"
    }
   },
   "outputs": [],
   "source": [
    "# [0]\n",
    "\n",
    "data = {}\n",
    "\n",
    "data[\"poiValues\"] = np.vstack(locs_poi[\"poiValues\"].values)\n",
    "data[\"loc_id\"] = locs_poi[\"loc_id\"].values"
   ]
  },
  {
   "cell_type": "code",
   "execution_count": 36,
   "metadata": {
    "execution": {
     "iopub.execute_input": "2024-05-23T11:31:27.753755Z",
     "iopub.status.busy": "2024-05-23T11:31:27.752790Z",
     "iopub.status.idle": "2024-05-23T11:31:27.771706Z",
     "shell.execute_reply": "2024-05-23T11:31:27.770708Z",
     "shell.execute_reply.started": "2024-05-23T11:31:27.753755Z"
    }
   },
   "outputs": [
    {
     "data": {
      "text/plain": [
       "0         [0.1451003, 0.0, 0.0, 0.0, 0.0, 0.0, 0.0, 0.0,...\n",
       "1         [0.0, 0.0, 0.0, 0.0, 0.0, 0.0, 0.0, 0.0, 0.0, ...\n",
       "2         [0.0, 0.0, 0.0, 0.0, 0.0, 0.0, 0.0, 0.0, 0.0, ...\n",
       "3         [0.0, 0.0, 0.0, 0.0, 0.0, 0.0, 0.0, 0.0, 0.0, ...\n",
       "4         [0.0, 0.0, 0.0, 0.0, 0.0, 0.0, 0.0, 0.0, 0.0, ...\n",
       "                                ...                        \n",
       "142570    [0.0, 0.0, 0.0, 0.0, 0.0, 0.0, 0.0, 0.0, 0.0, ...\n",
       "142571    [0.0, 0.0, 0.0, 0.0, 0.0, 0.0, 0.0, 0.0, 0.0, ...\n",
       "142572    [0.0, 0.0, 0.0, 0.0, 0.0, 0.0, 0.0, 0.0, 0.0, ...\n",
       "142573    [0.0, 0.0, 0.0, 0.0, 0.0, 0.0, 0.0, 0.0, 0.0, ...\n",
       "142574    [0.24264887, 0.0, 0.0, 0.0, 0.0, 0.0, 0.0, 0.0...\n",
       "Name: poiValues, Length: 142575, dtype: object"
      ]
     },
     "execution_count": 36,
     "metadata": {},
     "output_type": "execute_result"
    }
   ],
   "source": [
    "locs_poi['poiValues']"
   ]
  },
  {
   "cell_type": "markdown",
   "metadata": {},
   "source": [
    "## Save loc poi file"
   ]
  },
  {
   "cell_type": "code",
   "execution_count": 37,
   "metadata": {
    "execution": {
     "iopub.execute_input": "2024-05-23T11:32:13.689984Z",
     "iopub.status.busy": "2024-05-23T11:32:13.689984Z",
     "iopub.status.idle": "2024-05-23T11:32:34.551871Z",
     "shell.execute_reply": "2024-05-23T11:32:34.551871Z",
     "shell.execute_reply.started": "2024-05-23T11:32:13.689984Z"
    }
   },
   "outputs": [],
   "source": [
    "locs_poi.to_csv(os.path.join(\"..\", \"data\", f\"s2_loc_poi_level10_{level}.csv\"), index=False)"
   ]
  },
  {
   "cell_type": "code",
   "execution_count": 38,
   "metadata": {
    "execution": {
     "iopub.execute_input": "2024-05-23T11:32:34.553866Z",
     "iopub.status.busy": "2024-05-23T11:32:34.552868Z",
     "iopub.status.idle": "2024-05-23T11:32:34.583807Z",
     "shell.execute_reply": "2024-05-23T11:32:34.582814Z",
     "shell.execute_reply.started": "2024-05-23T11:32:34.553866Z"
    }
   },
   "outputs": [],
   "source": [
    "with open(os.path.join(\"..\", \"data\", f\"s2_loc_poi_level10_{level}.pk\"), \"wb\") as handle:\n",
    "    pickle.dump(data, handle, protocol=pickle.HIGHEST_PROTOCOL)"
   ]
  },
  {
   "cell_type": "code",
   "execution_count": 39,
   "metadata": {
    "execution": {
     "iopub.execute_input": "2024-05-23T11:32:34.584804Z",
     "iopub.status.busy": "2024-05-23T11:32:34.583807Z",
     "iopub.status.idle": "2024-05-23T11:32:34.613751Z",
     "shell.execute_reply": "2024-05-23T11:32:34.613751Z",
     "shell.execute_reply.started": "2024-05-23T11:32:34.584804Z"
    }
   },
   "outputs": [],
   "source": [
    "np.save(os.path.join(\"..\", \"data\", f\"s2_loc_poi_level10_{level}.npy\"),data)"
   ]
  },
  {
   "cell_type": "markdown",
   "metadata": {},
   "source": [
    "## Calculate distance"
   ]
  },
  {
   "cell_type": "code",
   "execution_count": 23,
   "metadata": {
    "execution": {
     "iopub.execute_input": "2024-03-18T21:41:28.255481Z",
     "iopub.status.busy": "2024-03-18T21:41:28.255481Z",
     "iopub.status.idle": "2024-03-18T21:41:28.299862Z",
     "shell.execute_reply": "2024-03-18T21:41:28.299862Z",
     "shell.execute_reply.started": "2024-03-18T21:41:28.255481Z"
    }
   },
   "outputs": [],
   "source": [
    "visited_loc = pd.read_csv(os.path.join(\"..\", \"data\", \"s2_loc_visited_level10_13.csv\"), index_col=\"id\")"
   ]
  },
  {
   "cell_type": "code",
   "execution_count": 24,
   "metadata": {
    "execution": {
     "iopub.execute_input": "2024-03-18T21:41:28.301435Z",
     "iopub.status.busy": "2024-03-18T21:41:28.301435Z",
     "iopub.status.idle": "2024-03-18T21:41:28.331609Z",
     "shell.execute_reply": "2024-03-18T21:41:28.331609Z",
     "shell.execute_reply.started": "2024-03-18T21:41:28.301435Z"
    }
   },
   "outputs": [],
   "source": [
    "visited_poiValues = locs_poi.loc[locs_poi[\"loc_id\"].isin(visited_loc[\"loc_id\"].values)].sort_values(by=\"loc_id\")[\"poiValues\"].values\n",
    "\n",
    "visited_poiValues = np.array([np.array(xi) for xi in visited_poiValues])"
   ]
  },
  {
   "cell_type": "code",
   "execution_count": 25,
   "metadata": {
    "execution": {
     "iopub.execute_input": "2024-03-18T21:41:30.678730Z",
     "iopub.status.busy": "2024-03-18T21:41:30.678730Z",
     "iopub.status.idle": "2024-03-18T21:41:30.689209Z",
     "shell.execute_reply": "2024-03-18T21:41:30.689209Z",
     "shell.execute_reply.started": "2024-03-18T21:41:30.678730Z"
    }
   },
   "outputs": [
    {
     "data": {
      "text/plain": [
       "(14881, 16)"
      ]
     },
     "execution_count": 25,
     "metadata": {},
     "output_type": "execute_result"
    }
   ],
   "source": [
    "visited_poiValues.shape"
   ]
  },
  {
   "cell_type": "code",
   "execution_count": 26,
   "metadata": {
    "execution": {
     "iopub.execute_input": "2024-03-18T21:41:34.606725Z",
     "iopub.status.busy": "2024-03-18T21:41:34.606725Z",
     "iopub.status.idle": "2024-03-18T21:41:37.157294Z",
     "shell.execute_reply": "2024-03-18T21:41:37.157294Z",
     "shell.execute_reply.started": "2024-03-18T21:41:34.606725Z"
    }
   },
   "outputs": [],
   "source": [
    "corr_distance = pdist(visited_poiValues, 'correlation')\n",
    "corr_distance = squareform(corr_distance)\n",
    "# nan values receive the highest distance\n",
    "corr_distance[np.isnan(corr_distance)] = np.nanmax(corr_distance)"
   ]
  },
  {
   "cell_type": "code",
   "execution_count": 29,
   "metadata": {
    "execution": {
     "iopub.execute_input": "2024-03-19T13:23:29.263541Z",
     "iopub.status.busy": "2024-03-19T13:23:29.262543Z",
     "iopub.status.idle": "2024-03-19T13:23:29.284487Z",
     "shell.execute_reply": "2024-03-19T13:23:29.283488Z",
     "shell.execute_reply.started": "2024-03-19T13:23:29.263541Z"
    }
   },
   "outputs": [
    {
     "data": {
      "text/plain": [
       "(14881, 14881)"
      ]
     },
     "execution_count": 29,
     "metadata": {},
     "output_type": "execute_result"
    }
   ],
   "source": [
    "corr_distance.shape"
   ]
  },
  {
   "cell_type": "code",
   "execution_count": 30,
   "metadata": {
    "execution": {
     "iopub.execute_input": "2024-03-19T13:23:37.923530Z",
     "iopub.status.busy": "2024-03-19T13:23:37.923530Z",
     "iopub.status.idle": "2024-03-19T13:23:37.934500Z",
     "shell.execute_reply": "2024-03-19T13:23:37.933503Z",
     "shell.execute_reply.started": "2024-03-19T13:23:37.923530Z"
    }
   },
   "outputs": [
    {
     "data": {
      "text/plain": [
       "dtype('float64')"
      ]
     },
     "execution_count": 30,
     "metadata": {},
     "output_type": "execute_result"
    }
   ],
   "source": [
    "corr_distance.dtype"
   ]
  },
  {
   "cell_type": "markdown",
   "metadata": {},
   "source": [
    "## Save"
   ]
  },
  {
   "cell_type": "code",
   "execution_count": 28,
   "metadata": {
    "execution": {
     "iopub.execute_input": "2024-03-18T21:41:41.121607Z",
     "iopub.status.busy": "2024-03-18T21:41:41.121607Z",
     "iopub.status.idle": "2024-03-18T21:41:50.518211Z",
     "shell.execute_reply": "2024-03-18T21:41:50.518211Z",
     "shell.execute_reply.started": "2024-03-18T21:41:41.121607Z"
    }
   },
   "outputs": [],
   "source": [
    "save_pk_file(\"../data/matrix/function_13.pk\", corr_distance)"
   ]
  },
  {
   "cell_type": "code",
   "execution_count": null,
   "metadata": {},
   "outputs": [],
   "source": []
  }
 ],
 "metadata": {
  "kernelspec": {
   "display_name": "Python 3 (ipykernel)",
   "language": "python",
   "name": "python3"
  },
  "language_info": {
   "codemirror_mode": {
    "name": "ipython",
    "version": 3
   },
   "file_extension": ".py",
   "mimetype": "text/x-python",
   "name": "python",
   "nbconvert_exporter": "python",
   "pygments_lexer": "ipython3",
   "version": "3.11.9"
  },
  "vscode": {
   "interpreter": {
    "hash": "659ffd3ea00dbbc52f857660b8dafea05f804bc55dd91047cefb31e38b5505f6"
   }
  }
 },
 "nbformat": 4,
 "nbformat_minor": 4
}
