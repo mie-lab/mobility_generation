{
 "cells": [
  {
   "cell_type": "code",
   "execution_count": 58,
   "metadata": {
    "execution": {
     "iopub.execute_input": "2024-06-12T08:39:23.157515Z",
     "iopub.status.busy": "2024-06-12T08:39:23.157515Z",
     "iopub.status.idle": "2024-06-12T08:39:23.163498Z",
     "shell.execute_reply": "2024-06-12T08:39:23.163498Z",
     "shell.execute_reply.started": "2024-06-12T08:39:23.157515Z"
    }
   },
   "outputs": [],
   "source": [
    "import torch \n",
    "import numpy as np\n",
    "\n",
    "import math\n",
    "\n",
    "import os\n",
    "import pandas as pd\n",
    "import geopandas as gpd\n",
    "import pickle as pickle\n",
    "\n",
    "import shapely\n",
    "from shapely import wkt\n",
    "from tqdm import tqdm\n",
    "\n",
    "from joblib import Parallel, delayed\n",
    "\n",
    "import trackintel as ti\n",
    "from trackintel.geogr.distances import calculate_distance_matrix\n",
    "from sklearn.preprocessing import OrdinalEncoder"
   ]
  },
  {
   "cell_type": "code",
   "execution_count": 59,
   "metadata": {
    "execution": {
     "iopub.execute_input": "2024-06-12T08:39:23.408973Z",
     "iopub.status.busy": "2024-06-12T08:39:23.408973Z",
     "iopub.status.idle": "2024-06-12T08:39:23.428798Z",
     "shell.execute_reply": "2024-06-12T08:39:23.427801Z",
     "shell.execute_reply.started": "2024-06-12T08:39:23.408973Z"
    }
   },
   "outputs": [
    {
     "data": {
      "text/plain": [
       "'1.2.4'"
      ]
     },
     "execution_count": 59,
     "metadata": {},
     "output_type": "execute_result"
    }
   ],
   "source": [
    "ti.__version__"
   ]
  },
  {
   "cell_type": "code",
   "execution_count": 60,
   "metadata": {
    "execution": {
     "iopub.execute_input": "2024-06-12T08:39:23.733694Z",
     "iopub.status.busy": "2024-06-12T08:39:23.732697Z",
     "iopub.status.idle": "2024-06-12T08:39:23.741232Z",
     "shell.execute_reply": "2024-06-12T08:39:23.741232Z",
     "shell.execute_reply.started": "2024-06-12T08:39:23.733694Z"
    }
   },
   "outputs": [],
   "source": [
    "import sys\n",
    "sys.path.insert(1, os.path.join(sys.path[0], '..'))\n",
    "\n",
    "from loc_predict.models.markov import markov_transition_prob\n",
    "from utils.utils import load_data\n",
    "\n",
    "def save_pk_file(save_path, data):\n",
    "    \"\"\"Function to save data to pickle format given data and path.\"\"\"\n",
    "    with open(save_path, \"wb\") as handle:\n",
    "        pickle.dump(data, handle, protocol=pickle.HIGHEST_PROTOCOL)"
   ]
  },
  {
   "cell_type": "markdown",
   "metadata": {},
   "source": [
    "# Generate datasets"
   ]
  },
  {
   "cell_type": "code",
   "execution_count": 61,
   "metadata": {
    "execution": {
     "iopub.execute_input": "2024-06-12T08:39:27.439522Z",
     "iopub.status.busy": "2024-06-12T08:39:27.439522Z",
     "iopub.status.idle": "2024-06-12T08:39:27.444509Z",
     "shell.execute_reply": "2024-06-12T08:39:27.444509Z",
     "shell.execute_reply.started": "2024-06-12T08:39:27.439522Z"
    }
   },
   "outputs": [],
   "source": [
    "src_min_days = 7 * 2\n",
    "src_max_days = 7 * 3\n",
    "\n",
    "tgt_min_days = 7 * 1\n",
    "# tgt_max_days = 7 * 2\n",
    "\n",
    "data_type = \"all\"\n",
    "level = 14"
   ]
  },
  {
   "cell_type": "markdown",
   "metadata": {},
   "source": [
    "## Read staypoints and load with location id"
   ]
  },
  {
   "cell_type": "code",
   "execution_count": 62,
   "metadata": {
    "execution": {
     "iopub.execute_input": "2024-06-12T08:39:28.123898Z",
     "iopub.status.busy": "2024-06-12T08:39:28.123898Z",
     "iopub.status.idle": "2024-06-12T08:39:41.688928Z",
     "shell.execute_reply": "2024-06-12T08:39:41.687931Z",
     "shell.execute_reply.started": "2024-06-12T08:39:28.123898Z"
    }
   },
   "outputs": [],
   "source": [
    "sp = pd.read_csv(os.path.join(f\"../data/sp_{data_type}.csv\"), index_col=\"id\")\n",
    "loc = pd.read_csv(os.path.join(f\"../data/loc_s2_level10_{level}.csv\"), index_col=\"id\")\n",
    "\n",
    "sp = load_data(sp, loc)\n",
    "sp[\"length\"] = sp[\"length\"]/1000"
   ]
  },
  {
   "cell_type": "code",
   "execution_count": 63,
   "metadata": {
    "execution": {
     "iopub.execute_input": "2024-06-12T08:39:41.689889Z",
     "iopub.status.busy": "2024-06-12T08:39:41.689889Z",
     "iopub.status.idle": "2024-06-12T08:39:41.703375Z",
     "shell.execute_reply": "2024-06-12T08:39:41.703375Z",
     "shell.execute_reply.started": "2024-06-12T08:39:41.689889Z"
    }
   },
   "outputs": [
    {
     "data": {
      "text/plain": [
       "1079922"
      ]
     },
     "execution_count": 63,
     "metadata": {},
     "output_type": "execute_result"
    }
   ],
   "source": [
    "len(sp)"
   ]
  },
  {
   "cell_type": "code",
   "execution_count": 64,
   "metadata": {
    "execution": {
     "iopub.execute_input": "2024-06-12T08:39:41.704374Z",
     "iopub.status.busy": "2024-06-12T08:39:41.704374Z",
     "iopub.status.idle": "2024-06-12T08:39:41.719367Z",
     "shell.execute_reply": "2024-06-12T08:39:41.719367Z",
     "shell.execute_reply.started": "2024-06-12T08:39:41.704374Z"
    }
   },
   "outputs": [
    {
     "data": {
      "text/html": [
       "<div>\n",
       "<style scoped>\n",
       "    .dataframe tbody tr th:only-of-type {\n",
       "        vertical-align: middle;\n",
       "    }\n",
       "\n",
       "    .dataframe tbody tr th {\n",
       "        vertical-align: top;\n",
       "    }\n",
       "\n",
       "    .dataframe thead th {\n",
       "        text-align: right;\n",
       "    }\n",
       "</style>\n",
       "<table border=\"1\" class=\"dataframe\">\n",
       "  <thead>\n",
       "    <tr style=\"text-align: right;\">\n",
       "      <th></th>\n",
       "      <th>id</th>\n",
       "      <th>user_id</th>\n",
       "      <th>started_at</th>\n",
       "      <th>finished_at</th>\n",
       "      <th>mode</th>\n",
       "      <th>length</th>\n",
       "      <th>geometry</th>\n",
       "      <th>duration</th>\n",
       "      <th>act_duration</th>\n",
       "      <th>location_id</th>\n",
       "      <th>level</th>\n",
       "      <th>start_day</th>\n",
       "      <th>start_min</th>\n",
       "      <th>weekday</th>\n",
       "    </tr>\n",
       "  </thead>\n",
       "  <tbody>\n",
       "    <tr>\n",
       "      <th>0</th>\n",
       "      <td>0</td>\n",
       "      <td>AAGAF</td>\n",
       "      <td>2019-10-09 11:30:34.141000</td>\n",
       "      <td>2019-10-10 05:43:17.674999</td>\n",
       "      <td>Car</td>\n",
       "      <td>0.000000</td>\n",
       "      <td>POINT (7.565219252705515 47.545616383391014)</td>\n",
       "      <td>1092.0</td>\n",
       "      <td>1092.0</td>\n",
       "      <td>5157106436492230656</td>\n",
       "      <td>14</td>\n",
       "      <td>0</td>\n",
       "      <td>690</td>\n",
       "      <td>2</td>\n",
       "    </tr>\n",
       "    <tr>\n",
       "      <th>1</th>\n",
       "      <td>1</td>\n",
       "      <td>AAGAF</td>\n",
       "      <td>2019-10-10 06:14:49.141999</td>\n",
       "      <td>2019-10-10 06:53:54.841000</td>\n",
       "      <td>Car</td>\n",
       "      <td>11.615409</td>\n",
       "      <td>POINT (7.563759803278834 47.54794768304769)</td>\n",
       "      <td>39.0</td>\n",
       "      <td>70.0</td>\n",
       "      <td>5157106342002950144</td>\n",
       "      <td>14</td>\n",
       "      <td>1</td>\n",
       "      <td>374</td>\n",
       "      <td>3</td>\n",
       "    </tr>\n",
       "    <tr>\n",
       "      <th>2</th>\n",
       "      <td>2</td>\n",
       "      <td>AAGAF</td>\n",
       "      <td>2019-10-10 07:03:24.426000</td>\n",
       "      <td>2019-10-10 08:18:20.864000</td>\n",
       "      <td>Car</td>\n",
       "      <td>2.104856</td>\n",
       "      <td>POINT (7.581727914351441 47.5564374119498)</td>\n",
       "      <td>74.0</td>\n",
       "      <td>84.0</td>\n",
       "      <td>5157107192406474752</td>\n",
       "      <td>14</td>\n",
       "      <td>1</td>\n",
       "      <td>423</td>\n",
       "      <td>3</td>\n",
       "    </tr>\n",
       "    <tr>\n",
       "      <th>3</th>\n",
       "      <td>3</td>\n",
       "      <td>AAGAF</td>\n",
       "      <td>2019-10-10 11:10:24.605999</td>\n",
       "      <td>2019-10-10 13:54:34.799339</td>\n",
       "      <td>Walk</td>\n",
       "      <td>4.847707</td>\n",
       "      <td>POINT (7.581729846308135 47.55641482529889)</td>\n",
       "      <td>164.0</td>\n",
       "      <td>336.0</td>\n",
       "      <td>5157107192406474752</td>\n",
       "      <td>14</td>\n",
       "      <td>1</td>\n",
       "      <td>670</td>\n",
       "      <td>3</td>\n",
       "    </tr>\n",
       "    <tr>\n",
       "      <th>4</th>\n",
       "      <td>4</td>\n",
       "      <td>AAGAF</td>\n",
       "      <td>2019-10-11 06:15:49.739000</td>\n",
       "      <td>2019-10-11 11:36:29.907000</td>\n",
       "      <td>Bus</td>\n",
       "      <td>8.667529</td>\n",
       "      <td>POINT (7.565127647736598 47.54571219157556)</td>\n",
       "      <td>320.0</td>\n",
       "      <td>1301.0</td>\n",
       "      <td>5157106436492230656</td>\n",
       "      <td>14</td>\n",
       "      <td>2</td>\n",
       "      <td>375</td>\n",
       "      <td>4</td>\n",
       "    </tr>\n",
       "  </tbody>\n",
       "</table>\n",
       "</div>"
      ],
      "text/plain": [
       "   id user_id                 started_at                finished_at  mode  \\\n",
       "0   0   AAGAF 2019-10-09 11:30:34.141000 2019-10-10 05:43:17.674999   Car   \n",
       "1   1   AAGAF 2019-10-10 06:14:49.141999 2019-10-10 06:53:54.841000   Car   \n",
       "2   2   AAGAF 2019-10-10 07:03:24.426000 2019-10-10 08:18:20.864000   Car   \n",
       "3   3   AAGAF 2019-10-10 11:10:24.605999 2019-10-10 13:54:34.799339  Walk   \n",
       "4   4   AAGAF 2019-10-11 06:15:49.739000 2019-10-11 11:36:29.907000   Bus   \n",
       "\n",
       "      length                                      geometry  duration  \\\n",
       "0   0.000000  POINT (7.565219252705515 47.545616383391014)    1092.0   \n",
       "1  11.615409   POINT (7.563759803278834 47.54794768304769)      39.0   \n",
       "2   2.104856    POINT (7.581727914351441 47.5564374119498)      74.0   \n",
       "3   4.847707   POINT (7.581729846308135 47.55641482529889)     164.0   \n",
       "4   8.667529   POINT (7.565127647736598 47.54571219157556)     320.0   \n",
       "\n",
       "   act_duration          location_id  level  start_day  start_min  weekday  \n",
       "0        1092.0  5157106436492230656     14          0        690        2  \n",
       "1          70.0  5157106342002950144     14          1        374        3  \n",
       "2          84.0  5157107192406474752     14          1        423        3  \n",
       "3         336.0  5157107192406474752     14          1        670        3  \n",
       "4        1301.0  5157106436492230656     14          2        375        4  "
      ]
     },
     "execution_count": 64,
     "metadata": {},
     "output_type": "execute_result"
    }
   ],
   "source": [
    "sp.head()"
   ]
  },
  {
   "cell_type": "code",
   "execution_count": 65,
   "metadata": {
    "execution": {
     "iopub.execute_input": "2024-06-12T08:39:41.721363Z",
     "iopub.status.busy": "2024-06-12T08:39:41.721363Z",
     "iopub.status.idle": "2024-06-12T08:39:41.783943Z",
     "shell.execute_reply": "2024-06-12T08:39:41.782945Z",
     "shell.execute_reply.started": "2024-06-12T08:39:41.721363Z"
    }
   },
   "outputs": [
    {
     "data": {
      "text/plain": [
       "mode\n",
       "Car        535944\n",
       "Walk       339446\n",
       "Train       78036\n",
       "Bicycle     61334\n",
       "Bus         43784\n",
       "Tram        18575\n",
       "Other        2803\n",
       "Name: count, dtype: int64"
      ]
     },
     "execution_count": 65,
     "metadata": {},
     "output_type": "execute_result"
    }
   ],
   "source": [
    "sp[\"mode\"].value_counts()"
   ]
  },
  {
   "cell_type": "markdown",
   "metadata": {},
   "source": [
    "## Read all locations"
   ]
  },
  {
   "cell_type": "code",
   "execution_count": 66,
   "metadata": {
    "execution": {
     "iopub.execute_input": "2024-06-12T08:39:44.083687Z",
     "iopub.status.busy": "2024-06-12T08:39:44.082690Z",
     "iopub.status.idle": "2024-06-12T08:39:44.475887Z",
     "shell.execute_reply": "2024-06-12T08:39:44.474391Z",
     "shell.execute_reply.started": "2024-06-12T08:39:44.083687Z"
    }
   },
   "outputs": [],
   "source": [
    "all_locs = pd.read_csv(f\"../data/s2_loc_visited_level10_{level}.csv\", index_col=\"id\")\n",
    "\n",
    "# geometry\n",
    "all_locs[\"geometry\"] = all_locs[\"geometry\"].apply(wkt.loads)\n",
    "all_locs = gpd.GeoDataFrame(all_locs, geometry=\"geometry\", crs=\"EPSG:4326\")\n",
    "# transform to projected coordinate systems\n",
    "all_locs = all_locs.to_crs(\"EPSG:2056\")\n",
    "\n",
    "# coordinate information\n",
    "x = all_locs[\"geometry\"].x.values\n",
    "y = all_locs[\"geometry\"].y.values\n",
    "\n",
    "all_locs[\"x\"] = (x - x.min())/1000\n",
    "all_locs[\"y\"] = (y - y.min())/1000"
   ]
  },
  {
   "cell_type": "code",
   "execution_count": 67,
   "metadata": {
    "execution": {
     "iopub.execute_input": "2024-06-12T08:39:44.477005Z",
     "iopub.status.busy": "2024-06-12T08:39:44.477005Z",
     "iopub.status.idle": "2024-06-12T08:39:44.489495Z",
     "shell.execute_reply": "2024-06-12T08:39:44.489495Z",
     "shell.execute_reply.started": "2024-06-12T08:39:44.477005Z"
    }
   },
   "outputs": [
    {
     "data": {
      "text/plain": [
       "28742"
      ]
     },
     "execution_count": 67,
     "metadata": {},
     "output_type": "execute_result"
    }
   ],
   "source": [
    "len(all_locs)"
   ]
  },
  {
   "cell_type": "code",
   "execution_count": 68,
   "metadata": {
    "execution": {
     "iopub.execute_input": "2024-06-12T08:39:44.578261Z",
     "iopub.status.busy": "2024-06-12T08:39:44.577261Z",
     "iopub.status.idle": "2024-06-12T08:39:44.599073Z",
     "shell.execute_reply": "2024-06-12T08:39:44.598077Z",
     "shell.execute_reply.started": "2024-06-12T08:39:44.578261Z"
    }
   },
   "outputs": [
    {
     "data": {
      "text/html": [
       "<div>\n",
       "<style scoped>\n",
       "    .dataframe tbody tr th:only-of-type {\n",
       "        vertical-align: middle;\n",
       "    }\n",
       "\n",
       "    .dataframe tbody tr th {\n",
       "        vertical-align: top;\n",
       "    }\n",
       "\n",
       "    .dataframe thead th {\n",
       "        text-align: right;\n",
       "    }\n",
       "</style>\n",
       "<table border=\"1\" class=\"dataframe\">\n",
       "  <thead>\n",
       "    <tr style=\"text-align: right;\">\n",
       "      <th></th>\n",
       "      <th>loc_id</th>\n",
       "      <th>level</th>\n",
       "      <th>geometry</th>\n",
       "      <th>x</th>\n",
       "      <th>y</th>\n",
       "    </tr>\n",
       "    <tr>\n",
       "      <th>id</th>\n",
       "      <th></th>\n",
       "      <th></th>\n",
       "      <th></th>\n",
       "      <th></th>\n",
       "      <th></th>\n",
       "    </tr>\n",
       "  </thead>\n",
       "  <tbody>\n",
       "    <tr>\n",
       "      <th>0</th>\n",
       "      <td>5152981090339651584</td>\n",
       "      <td>10</td>\n",
       "      <td>POINT (2824875.045 1159436.528)</td>\n",
       "      <td>340.828583</td>\n",
       "      <td>83.506855</td>\n",
       "    </tr>\n",
       "    <tr>\n",
       "      <th>1</th>\n",
       "      <td>5152984582148063232</td>\n",
       "      <td>14</td>\n",
       "      <td>POINT (2822264.816 1168040.708)</td>\n",
       "      <td>338.218355</td>\n",
       "      <td>92.111035</td>\n",
       "    </tr>\n",
       "    <tr>\n",
       "      <th>2</th>\n",
       "      <td>5152984590737997824</td>\n",
       "      <td>14</td>\n",
       "      <td>POINT (2822152.250 1167511.806)</td>\n",
       "      <td>338.105789</td>\n",
       "      <td>91.582133</td>\n",
       "    </tr>\n",
       "    <tr>\n",
       "      <th>3</th>\n",
       "      <td>5152985265047863296</td>\n",
       "      <td>13</td>\n",
       "      <td>POINT (2815796.126 1167304.569)</td>\n",
       "      <td>331.749664</td>\n",
       "      <td>91.374896</td>\n",
       "    </tr>\n",
       "    <tr>\n",
       "      <th>4</th>\n",
       "      <td>5152985299407601664</td>\n",
       "      <td>13</td>\n",
       "      <td>POINT (2816020.303 1168362.492)</td>\n",
       "      <td>331.973842</td>\n",
       "      <td>92.432819</td>\n",
       "    </tr>\n",
       "  </tbody>\n",
       "</table>\n",
       "</div>"
      ],
      "text/plain": [
       "                 loc_id  level                         geometry           x  \\\n",
       "id                                                                            \n",
       "0   5152981090339651584     10  POINT (2824875.045 1159436.528)  340.828583   \n",
       "1   5152984582148063232     14  POINT (2822264.816 1168040.708)  338.218355   \n",
       "2   5152984590737997824     14  POINT (2822152.250 1167511.806)  338.105789   \n",
       "3   5152985265047863296     13  POINT (2815796.126 1167304.569)  331.749664   \n",
       "4   5152985299407601664     13  POINT (2816020.303 1168362.492)  331.973842   \n",
       "\n",
       "            y  \n",
       "id             \n",
       "0   83.506855  \n",
       "1   92.111035  \n",
       "2   91.582133  \n",
       "3   91.374896  \n",
       "4   92.432819  "
      ]
     },
     "execution_count": 68,
     "metadata": {},
     "output_type": "execute_result"
    }
   ],
   "source": [
    "all_locs.head()"
   ]
  },
  {
   "cell_type": "markdown",
   "metadata": {},
   "source": [
    "## Read POIs"
   ]
  },
  {
   "cell_type": "code",
   "execution_count": 69,
   "metadata": {
    "execution": {
     "iopub.execute_input": "2024-06-12T08:39:45.530978Z",
     "iopub.status.busy": "2024-06-12T08:39:45.530978Z",
     "iopub.status.idle": "2024-06-12T08:39:45.705447Z",
     "shell.execute_reply": "2024-06-12T08:39:45.705447Z",
     "shell.execute_reply.started": "2024-06-12T08:39:45.530978Z"
    }
   },
   "outputs": [],
   "source": [
    "poi_file_path = f\"../data/s2_loc_poi_level10_{level}.npy\"\n",
    "poi_file = np.load(poi_file_path, allow_pickle=True)\n",
    "\n",
    "poi_df = pd.DataFrame(columns=[\"loc_id\", \"poiValues\"])\n",
    "\n",
    "poi_df[\"loc_id\"] = poi_file[()]['loc_id']\n",
    "poi_df[\"poiValues\"] = poi_file[()]['poiValues'].tolist()"
   ]
  },
  {
   "cell_type": "code",
   "execution_count": 70,
   "metadata": {
    "execution": {
     "iopub.execute_input": "2024-06-12T08:39:45.851389Z",
     "iopub.status.busy": "2024-06-12T08:39:45.850426Z",
     "iopub.status.idle": "2024-06-12T08:39:45.859487Z",
     "shell.execute_reply": "2024-06-12T08:39:45.859487Z",
     "shell.execute_reply.started": "2024-06-12T08:39:45.851389Z"
    }
   },
   "outputs": [
    {
     "data": {
      "text/plain": [
       "142575"
      ]
     },
     "execution_count": 70,
     "metadata": {},
     "output_type": "execute_result"
    }
   ],
   "source": [
    "len(poi_df)"
   ]
  },
  {
   "cell_type": "code",
   "execution_count": 71,
   "metadata": {
    "execution": {
     "iopub.execute_input": "2024-06-12T08:39:46.196397Z",
     "iopub.status.busy": "2024-06-12T08:39:46.196397Z",
     "iopub.status.idle": "2024-06-12T08:39:46.206875Z",
     "shell.execute_reply": "2024-06-12T08:39:46.206875Z",
     "shell.execute_reply.started": "2024-06-12T08:39:46.196397Z"
    }
   },
   "outputs": [
    {
     "data": {
      "text/html": [
       "<div>\n",
       "<style scoped>\n",
       "    .dataframe tbody tr th:only-of-type {\n",
       "        vertical-align: middle;\n",
       "    }\n",
       "\n",
       "    .dataframe tbody tr th {\n",
       "        vertical-align: top;\n",
       "    }\n",
       "\n",
       "    .dataframe thead th {\n",
       "        text-align: right;\n",
       "    }\n",
       "</style>\n",
       "<table border=\"1\" class=\"dataframe\">\n",
       "  <thead>\n",
       "    <tr style=\"text-align: right;\">\n",
       "      <th></th>\n",
       "      <th>loc_id</th>\n",
       "      <th>poiValues</th>\n",
       "    </tr>\n",
       "  </thead>\n",
       "  <tbody>\n",
       "    <tr>\n",
       "      <th>0</th>\n",
       "      <td>5152981090339651584</td>\n",
       "      <td>[0.14510029554367065, 0.0, 0.0, 0.0, 0.0, 0.0,...</td>\n",
       "    </tr>\n",
       "    <tr>\n",
       "      <th>1</th>\n",
       "      <td>5152983289362907136</td>\n",
       "      <td>[0.0, 0.0, 0.0, 0.0, 0.0, 0.0, 0.0, 0.0, 0.0, ...</td>\n",
       "    </tr>\n",
       "    <tr>\n",
       "      <th>2</th>\n",
       "      <td>5152984393169502208</td>\n",
       "      <td>[0.0, 0.0, 0.0, 0.0, 0.0, 0.0, 0.0, 0.0, 0.0, ...</td>\n",
       "    </tr>\n",
       "    <tr>\n",
       "      <th>3</th>\n",
       "      <td>5152984401759436800</td>\n",
       "      <td>[0.0, 0.0, 0.0, 0.0, 0.0, 0.0, 0.0, 0.0, 0.0, ...</td>\n",
       "    </tr>\n",
       "    <tr>\n",
       "      <th>4</th>\n",
       "      <td>5152984410349371392</td>\n",
       "      <td>[0.0, 0.0, 0.0, 0.0, 0.0, 0.0, 0.0, 0.0, 0.0, ...</td>\n",
       "    </tr>\n",
       "  </tbody>\n",
       "</table>\n",
       "</div>"
      ],
      "text/plain": [
       "                loc_id                                          poiValues\n",
       "0  5152981090339651584  [0.14510029554367065, 0.0, 0.0, 0.0, 0.0, 0.0,...\n",
       "1  5152983289362907136  [0.0, 0.0, 0.0, 0.0, 0.0, 0.0, 0.0, 0.0, 0.0, ...\n",
       "2  5152984393169502208  [0.0, 0.0, 0.0, 0.0, 0.0, 0.0, 0.0, 0.0, 0.0, ...\n",
       "3  5152984401759436800  [0.0, 0.0, 0.0, 0.0, 0.0, 0.0, 0.0, 0.0, 0.0, ...\n",
       "4  5152984410349371392  [0.0, 0.0, 0.0, 0.0, 0.0, 0.0, 0.0, 0.0, 0.0, ..."
      ]
     },
     "execution_count": 71,
     "metadata": {},
     "output_type": "execute_result"
    }
   ],
   "source": [
    "poi_df.head()"
   ]
  },
  {
   "cell_type": "markdown",
   "metadata": {},
   "source": [
    "## Split into train, validation and test"
   ]
  },
  {
   "cell_type": "code",
   "execution_count": 72,
   "metadata": {
    "execution": {
     "iopub.execute_input": "2024-06-12T08:39:46.863083Z",
     "iopub.status.busy": "2024-06-12T08:39:46.863083Z",
     "iopub.status.idle": "2024-06-12T08:39:49.810453Z",
     "shell.execute_reply": "2024-06-12T08:39:49.809460Z",
     "shell.execute_reply.started": "2024-06-12T08:39:46.863083Z"
    }
   },
   "outputs": [],
   "source": [
    "def get_train_test(sp, all_locs, poi_df):\n",
    "    sp.sort_values(by=[\"user_id\", \"start_day\", \"start_min\"], inplace=True)\n",
    "    sp.drop(columns={\"started_at\", \"finished_at\"}, inplace=True)\n",
    "    sp[\"idx\"] = sp.groupby(\"user_id\").cumcount().add(1)\n",
    "\n",
    "\n",
    "    # encoder user, 0 reserved for padding\n",
    "    enc = OrdinalEncoder(dtype=np.int64)\n",
    "    sp[\"user_id\"] = enc.fit_transform(sp[\"user_id\"].values.reshape(-1, 1)) + 1\n",
    "\n",
    "    # encode mode\n",
    "    enc = OrdinalEncoder(dtype=np.int64)\n",
    "    sp[\"mode\"] = enc.fit_transform(sp[\"mode\"].values.reshape(-1, 1)) + 1\n",
    "\n",
    "    # truncate too long duration, >2 days to 2 days\n",
    "    sp.loc[sp[\"act_duration\"] > 60 * 24 * 2 - 1, \"act_duration\"] = 60 * 24 * 2 - 1\n",
    "\n",
    "    # split the datasets, user dependent 0.7, 0.2, 0.1\n",
    "    train_data, vali_data, test_data = _split_dataset(sp)\n",
    "\n",
    "    # encode unseen locations in validation and test into 0\n",
    "    enc = OrdinalEncoder(dtype=np.int64, handle_unknown=\"use_encoded_value\", unknown_value=-1).fit(\n",
    "        all_locs[\"loc_id\"].values.reshape(-1, 1)\n",
    "    )\n",
    "    # add 1 to account for 0 padding\n",
    "    all_locs[\"loc_id\"] = enc.transform(all_locs[\"loc_id\"].values.reshape(-1, 1)) + 1\n",
    "    poi_df[\"loc_id\"] = enc.transform(poi_df[\"loc_id\"].values.reshape(-1, 1)) + 1\n",
    "    # \n",
    "    train_data[\"location_id\"] = enc.transform(train_data[\"location_id\"].values.reshape(-1, 1)) + 1\n",
    "    vali_data[\"location_id\"] = enc.transform(vali_data[\"location_id\"].values.reshape(-1, 1)) + 1\n",
    "    test_data[\"location_id\"] = enc.transform(test_data[\"location_id\"].values.reshape(-1, 1)) + 1\n",
    "\n",
    "    return train_data, vali_data, test_data, all_locs, poi_df\n",
    "\n",
    "\n",
    "def _split_dataset(totalData):\n",
    "    \"\"\"Split dataset into train, vali and test.\"\"\"\n",
    "\n",
    "    def getSplitDaysUser(df):\n",
    "        \"\"\"Split the dataset according to the tracked day of each user.\"\"\"\n",
    "        maxDay = df[\"start_day\"].max()\n",
    "        train_split = maxDay * 0.7\n",
    "        vali_split = maxDay * 0.9\n",
    "\n",
    "        df[\"Dataset\"] = \"test\"\n",
    "        df.loc[df[\"start_day\"] < train_split, \"Dataset\"] = \"train\"\n",
    "        df.loc[\n",
    "            (df[\"start_day\"] >= train_split) & (df[\"start_day\"] < vali_split),\n",
    "            \"Dataset\",\n",
    "        ] = \"vali\"\n",
    "\n",
    "        return df\n",
    "\n",
    "    totalData = totalData.groupby(\"user_id\", group_keys=False).apply(getSplitDaysUser)\n",
    "\n",
    "    train_data = totalData.loc[totalData[\"Dataset\"] == \"train\"].copy()\n",
    "    vali_data = totalData.loc[totalData[\"Dataset\"] == \"vali\"].copy()\n",
    "    test_data = totalData.loc[totalData[\"Dataset\"] == \"test\"].copy()\n",
    "\n",
    "    # final cleaning\n",
    "    train_data.drop(columns={\"Dataset\"}, inplace=True)\n",
    "    vali_data.drop(columns={\"Dataset\"}, inplace=True)\n",
    "    test_data.drop(columns={\"Dataset\"}, inplace=True)\n",
    "\n",
    "    return train_data, vali_data, test_data\n",
    "\n",
    "train_data, vali_data, test_data, all_locs, poi_df = get_train_test(sp, all_locs=all_locs, poi_df=poi_df)"
   ]
  },
  {
   "cell_type": "markdown",
   "metadata": {},
   "source": [
    "### Data cleaning"
   ]
  },
  {
   "cell_type": "code",
   "execution_count": 73,
   "metadata": {
    "execution": {
     "iopub.execute_input": "2024-06-12T08:39:49.811450Z",
     "iopub.status.busy": "2024-06-12T08:39:49.811450Z",
     "iopub.status.idle": "2024-06-12T08:39:50.417688Z",
     "shell.execute_reply": "2024-06-12T08:39:50.416632Z",
     "shell.execute_reply.started": "2024-06-12T08:39:49.811450Z"
    }
   },
   "outputs": [],
   "source": [
    "train_data = train_data.merge(all_locs[[\"loc_id\", \"x\", \"y\"]], left_on=\"location_id\", right_on=\"loc_id\")\n",
    "vali_data = vali_data.merge(all_locs[[\"loc_id\", \"x\", \"y\"]], left_on=\"location_id\", right_on=\"loc_id\")\n",
    "test_data = test_data.merge(all_locs[[\"loc_id\", \"x\", \"y\"]], left_on=\"location_id\", right_on=\"loc_id\")\n",
    "\n",
    "train_data.sort_values(by=[\"user_id\", \"start_day\", \"start_min\"], inplace=True)\n",
    "vali_data.sort_values(by=[\"user_id\", \"start_day\", \"start_min\"], inplace=True)\n",
    "test_data.sort_values(by=[\"user_id\", \"start_day\", \"start_min\"], inplace=True)\n",
    "\n",
    "# drop unvisited locations\n",
    "poi_df = poi_df.loc[poi_df[\"loc_id\"]!=0]\n",
    "poi_df = poi_df.sort_values(by=\"loc_id\")\n",
    "poi_df = poi_df.reset_index(drop=True)"
   ]
  },
  {
   "cell_type": "markdown",
   "metadata": {},
   "source": [
    "### Consistency check"
   ]
  },
  {
   "cell_type": "code",
   "execution_count": 74,
   "metadata": {
    "execution": {
     "iopub.execute_input": "2024-06-12T08:39:50.418628Z",
     "iopub.status.busy": "2024-06-12T08:39:50.418628Z",
     "iopub.status.idle": "2024-06-12T08:39:50.431403Z",
     "shell.execute_reply": "2024-06-12T08:39:50.431403Z",
     "shell.execute_reply.started": "2024-06-12T08:39:50.418628Z"
    }
   },
   "outputs": [
    {
     "data": {
      "text/html": [
       "<div>\n",
       "<style scoped>\n",
       "    .dataframe tbody tr th:only-of-type {\n",
       "        vertical-align: middle;\n",
       "    }\n",
       "\n",
       "    .dataframe tbody tr th {\n",
       "        vertical-align: top;\n",
       "    }\n",
       "\n",
       "    .dataframe thead th {\n",
       "        text-align: right;\n",
       "    }\n",
       "</style>\n",
       "<table border=\"1\" class=\"dataframe\">\n",
       "  <thead>\n",
       "    <tr style=\"text-align: right;\">\n",
       "      <th></th>\n",
       "      <th>loc_id</th>\n",
       "      <th>poiValues</th>\n",
       "    </tr>\n",
       "  </thead>\n",
       "  <tbody>\n",
       "    <tr>\n",
       "      <th>0</th>\n",
       "      <td>1</td>\n",
       "      <td>[0.14510029554367065, 0.0, 0.0, 0.0, 0.0, 0.0,...</td>\n",
       "    </tr>\n",
       "    <tr>\n",
       "      <th>1</th>\n",
       "      <td>2</td>\n",
       "      <td>[0.5964587926864624, 0.0, 0.021682066842913628...</td>\n",
       "    </tr>\n",
       "    <tr>\n",
       "      <th>2</th>\n",
       "      <td>3</td>\n",
       "      <td>[0.6770832538604736, 0.0104166679084301, 0.010...</td>\n",
       "    </tr>\n",
       "    <tr>\n",
       "      <th>3</th>\n",
       "      <td>4</td>\n",
       "      <td>[0.0, 0.0, 0.0, 0.0, 0.0, 0.0, 0.0, 0.0, 0.0, ...</td>\n",
       "    </tr>\n",
       "    <tr>\n",
       "      <th>4</th>\n",
       "      <td>5</td>\n",
       "      <td>[0.0, 0.0, 0.0, 0.278827428817749, 0.0, 0.0, 0...</td>\n",
       "    </tr>\n",
       "    <tr>\n",
       "      <th>...</th>\n",
       "      <td>...</td>\n",
       "      <td>...</td>\n",
       "    </tr>\n",
       "    <tr>\n",
       "      <th>28737</th>\n",
       "      <td>28738</td>\n",
       "      <td>[0.0, 0.0, 0.0, 0.0, 0.0, 0.0, 0.0, 0.0, 0.0, ...</td>\n",
       "    </tr>\n",
       "    <tr>\n",
       "      <th>28738</th>\n",
       "      <td>28739</td>\n",
       "      <td>[0.8062499761581421, 0.0, 0.0, 0.0, 0.0, 0.0, ...</td>\n",
       "    </tr>\n",
       "    <tr>\n",
       "      <th>28739</th>\n",
       "      <td>28740</td>\n",
       "      <td>[0.8551950454711914, 0.0, 0.0, 0.0, 0.0, 0.0, ...</td>\n",
       "    </tr>\n",
       "    <tr>\n",
       "      <th>28740</th>\n",
       "      <td>28741</td>\n",
       "      <td>[0.7271366119384766, 0.0, 0.0, 0.0, 0.0, 0.0, ...</td>\n",
       "    </tr>\n",
       "    <tr>\n",
       "      <th>28741</th>\n",
       "      <td>28742</td>\n",
       "      <td>[0.46911028027534485, 0.0, 0.0, 0.0, 0.0, 0.0,...</td>\n",
       "    </tr>\n",
       "  </tbody>\n",
       "</table>\n",
       "<p>28742 rows × 2 columns</p>\n",
       "</div>"
      ],
      "text/plain": [
       "       loc_id                                          poiValues\n",
       "0           1  [0.14510029554367065, 0.0, 0.0, 0.0, 0.0, 0.0,...\n",
       "1           2  [0.5964587926864624, 0.0, 0.021682066842913628...\n",
       "2           3  [0.6770832538604736, 0.0104166679084301, 0.010...\n",
       "3           4  [0.0, 0.0, 0.0, 0.0, 0.0, 0.0, 0.0, 0.0, 0.0, ...\n",
       "4           5  [0.0, 0.0, 0.0, 0.278827428817749, 0.0, 0.0, 0...\n",
       "...       ...                                                ...\n",
       "28737   28738  [0.0, 0.0, 0.0, 0.0, 0.0, 0.0, 0.0, 0.0, 0.0, ...\n",
       "28738   28739  [0.8062499761581421, 0.0, 0.0, 0.0, 0.0, 0.0, ...\n",
       "28739   28740  [0.8551950454711914, 0.0, 0.0, 0.0, 0.0, 0.0, ...\n",
       "28740   28741  [0.7271366119384766, 0.0, 0.0, 0.0, 0.0, 0.0, ...\n",
       "28741   28742  [0.46911028027534485, 0.0, 0.0, 0.0, 0.0, 0.0,...\n",
       "\n",
       "[28742 rows x 2 columns]"
      ]
     },
     "execution_count": 74,
     "metadata": {},
     "output_type": "execute_result"
    }
   ],
   "source": [
    "poi_df"
   ]
  },
  {
   "cell_type": "code",
   "execution_count": 75,
   "metadata": {
    "execution": {
     "iopub.execute_input": "2024-06-12T08:39:50.433397Z",
     "iopub.status.busy": "2024-06-12T08:39:50.433397Z",
     "iopub.status.idle": "2024-06-12T08:39:50.446644Z",
     "shell.execute_reply": "2024-06-12T08:39:50.446644Z",
     "shell.execute_reply.started": "2024-06-12T08:39:50.433397Z"
    }
   },
   "outputs": [
    {
     "data": {
      "text/plain": [
       "'Max loc id 28742, min loc id 1, unique loc id:28742'"
      ]
     },
     "execution_count": 75,
     "metadata": {},
     "output_type": "execute_result"
    }
   ],
   "source": [
    "f\"Max loc id {all_locs.loc_id.max()}, min loc id {all_locs.loc_id.min()}, unique loc id:{all_locs.loc_id.unique().shape[0]}\""
   ]
  },
  {
   "cell_type": "code",
   "execution_count": 76,
   "metadata": {
    "execution": {
     "iopub.execute_input": "2024-06-12T08:39:50.448641Z",
     "iopub.status.busy": "2024-06-12T08:39:50.447643Z",
     "iopub.status.idle": "2024-06-12T08:39:50.461637Z",
     "shell.execute_reply": "2024-06-12T08:39:50.461637Z",
     "shell.execute_reply.started": "2024-06-12T08:39:50.448641Z"
    }
   },
   "outputs": [
    {
     "data": {
      "text/plain": [
       "'Max loc id 28742, min loc id 1, unique loc id:28742'"
      ]
     },
     "execution_count": 76,
     "metadata": {},
     "output_type": "execute_result"
    }
   ],
   "source": [
    "f\"Max loc id {poi_df.loc_id.max()}, min loc id {poi_df.loc_id.min()}, unique loc id:{poi_df.loc_id.unique().shape[0]}\""
   ]
  },
  {
   "cell_type": "code",
   "execution_count": 77,
   "metadata": {
    "execution": {
     "iopub.execute_input": "2024-06-12T08:39:50.463633Z",
     "iopub.status.busy": "2024-06-12T08:39:50.462635Z",
     "iopub.status.idle": "2024-06-12T08:39:50.476988Z",
     "shell.execute_reply": "2024-06-12T08:39:50.476988Z",
     "shell.execute_reply.started": "2024-06-12T08:39:50.463633Z"
    }
   },
   "outputs": [
    {
     "data": {
      "text/plain": [
       "'Max loc id 28741, min loc id 1, unique loc id:24668'"
      ]
     },
     "execution_count": 77,
     "metadata": {},
     "output_type": "execute_result"
    }
   ],
   "source": [
    "f\"Max loc id {train_data.loc_id.max()}, min loc id {train_data.loc_id.min()}, unique loc id:{train_data.loc_id.unique().shape[0]}\""
   ]
  },
  {
   "cell_type": "code",
   "execution_count": 78,
   "metadata": {
    "execution": {
     "iopub.execute_input": "2024-06-12T08:39:50.478985Z",
     "iopub.status.busy": "2024-06-12T08:39:50.477988Z",
     "iopub.status.idle": "2024-06-12T08:39:50.492476Z",
     "shell.execute_reply": "2024-06-12T08:39:50.492476Z",
     "shell.execute_reply.started": "2024-06-12T08:39:50.478985Z"
    }
   },
   "outputs": [
    {
     "data": {
      "text/plain": [
       "'Max loc id 28742, min loc id 2, unique loc id:14703'"
      ]
     },
     "execution_count": 78,
     "metadata": {},
     "output_type": "execute_result"
    }
   ],
   "source": [
    "f\"Max loc id {vali_data.loc_id.max()}, min loc id {vali_data.loc_id.min()}, unique loc id:{vali_data.loc_id.unique().shape[0]}\""
   ]
  },
  {
   "cell_type": "code",
   "execution_count": 79,
   "metadata": {
    "execution": {
     "iopub.execute_input": "2024-06-12T08:39:50.494471Z",
     "iopub.status.busy": "2024-06-12T08:39:50.494471Z",
     "iopub.status.idle": "2024-06-12T08:39:50.507518Z",
     "shell.execute_reply": "2024-06-12T08:39:50.507518Z",
     "shell.execute_reply.started": "2024-06-12T08:39:50.494471Z"
    }
   },
   "outputs": [
    {
     "data": {
      "text/plain": [
       "'Max loc id 28742, min loc id 2, unique loc id:10527'"
      ]
     },
     "execution_count": 79,
     "metadata": {},
     "output_type": "execute_result"
    }
   ],
   "source": [
    "f\"Max loc id {test_data.loc_id.max()}, min loc id {test_data.loc_id.min()}, unique loc id:{test_data.loc_id.unique().shape[0]}\""
   ]
  },
  {
   "cell_type": "code",
   "execution_count": 80,
   "metadata": {
    "execution": {
     "iopub.execute_input": "2024-06-12T08:39:50.509512Z",
     "iopub.status.busy": "2024-06-12T08:39:50.508515Z",
     "iopub.status.idle": "2024-06-12T08:39:50.523439Z",
     "shell.execute_reply": "2024-06-12T08:39:50.523439Z",
     "shell.execute_reply.started": "2024-06-12T08:39:50.509512Z"
    }
   },
   "outputs": [
    {
     "data": {
      "text/plain": [
       "2879.0"
      ]
     },
     "execution_count": 80,
     "metadata": {},
     "output_type": "execute_result"
    }
   ],
   "source": [
    "train_data[\"act_duration\"].max()"
   ]
  },
  {
   "cell_type": "code",
   "execution_count": 81,
   "metadata": {
    "execution": {
     "iopub.execute_input": "2024-06-12T08:39:51.044257Z",
     "iopub.status.busy": "2024-06-12T08:39:51.044257Z",
     "iopub.status.idle": "2024-06-12T08:39:51.068267Z",
     "shell.execute_reply": "2024-06-12T08:39:51.067267Z",
     "shell.execute_reply.started": "2024-06-12T08:39:51.044257Z"
    }
   },
   "outputs": [
    {
     "data": {
      "text/html": [
       "<div>\n",
       "<style scoped>\n",
       "    .dataframe tbody tr th:only-of-type {\n",
       "        vertical-align: middle;\n",
       "    }\n",
       "\n",
       "    .dataframe tbody tr th {\n",
       "        vertical-align: top;\n",
       "    }\n",
       "\n",
       "    .dataframe thead th {\n",
       "        text-align: right;\n",
       "    }\n",
       "</style>\n",
       "<table border=\"1\" class=\"dataframe\">\n",
       "  <thead>\n",
       "    <tr style=\"text-align: right;\">\n",
       "      <th></th>\n",
       "      <th>id</th>\n",
       "      <th>user_id</th>\n",
       "      <th>mode</th>\n",
       "      <th>length</th>\n",
       "      <th>geometry</th>\n",
       "      <th>duration</th>\n",
       "      <th>act_duration</th>\n",
       "      <th>location_id</th>\n",
       "      <th>level</th>\n",
       "      <th>start_day</th>\n",
       "      <th>start_min</th>\n",
       "      <th>weekday</th>\n",
       "      <th>idx</th>\n",
       "      <th>loc_id</th>\n",
       "      <th>x</th>\n",
       "      <th>y</th>\n",
       "    </tr>\n",
       "  </thead>\n",
       "  <tbody>\n",
       "    <tr>\n",
       "      <th>0</th>\n",
       "      <td>0</td>\n",
       "      <td>1</td>\n",
       "      <td>3</td>\n",
       "      <td>0.000000</td>\n",
       "      <td>POINT (7.565219252705515 47.545616383391014)</td>\n",
       "      <td>1092.0</td>\n",
       "      <td>1092.0</td>\n",
       "      <td>21195</td>\n",
       "      <td>14</td>\n",
       "      <td>0</td>\n",
       "      <td>690</td>\n",
       "      <td>2</td>\n",
       "      <td>1</td>\n",
       "      <td>21195</td>\n",
       "      <td>125.662245</td>\n",
       "      <td>190.254046</td>\n",
       "    </tr>\n",
       "    <tr>\n",
       "      <th>336</th>\n",
       "      <td>1</td>\n",
       "      <td>1</td>\n",
       "      <td>3</td>\n",
       "      <td>11.615409</td>\n",
       "      <td>POINT (7.563759803278834 47.54794768304769)</td>\n",
       "      <td>39.0</td>\n",
       "      <td>70.0</td>\n",
       "      <td>21184</td>\n",
       "      <td>14</td>\n",
       "      <td>1</td>\n",
       "      <td>374</td>\n",
       "      <td>3</td>\n",
       "      <td>2</td>\n",
       "      <td>21184</td>\n",
       "      <td>125.218398</td>\n",
       "      <td>190.296688</td>\n",
       "    </tr>\n",
       "    <tr>\n",
       "      <th>414</th>\n",
       "      <td>2</td>\n",
       "      <td>1</td>\n",
       "      <td>3</td>\n",
       "      <td>2.104856</td>\n",
       "      <td>POINT (7.581727914351441 47.5564374119498)</td>\n",
       "      <td>74.0</td>\n",
       "      <td>84.0</td>\n",
       "      <td>21244</td>\n",
       "      <td>14</td>\n",
       "      <td>1</td>\n",
       "      <td>423</td>\n",
       "      <td>3</td>\n",
       "      <td>3</td>\n",
       "      <td>21244</td>\n",
       "      <td>126.743392</td>\n",
       "      <td>191.248445</td>\n",
       "    </tr>\n",
       "    <tr>\n",
       "      <th>415</th>\n",
       "      <td>3</td>\n",
       "      <td>1</td>\n",
       "      <td>7</td>\n",
       "      <td>4.847707</td>\n",
       "      <td>POINT (7.581729846308135 47.55641482529889)</td>\n",
       "      <td>164.0</td>\n",
       "      <td>336.0</td>\n",
       "      <td>21244</td>\n",
       "      <td>14</td>\n",
       "      <td>1</td>\n",
       "      <td>670</td>\n",
       "      <td>3</td>\n",
       "      <td>4</td>\n",
       "      <td>21244</td>\n",
       "      <td>126.743392</td>\n",
       "      <td>191.248445</td>\n",
       "    </tr>\n",
       "    <tr>\n",
       "      <th>1</th>\n",
       "      <td>4</td>\n",
       "      <td>1</td>\n",
       "      <td>2</td>\n",
       "      <td>8.667529</td>\n",
       "      <td>POINT (7.565127647736598 47.54571219157556)</td>\n",
       "      <td>320.0</td>\n",
       "      <td>1301.0</td>\n",
       "      <td>21195</td>\n",
       "      <td>14</td>\n",
       "      <td>2</td>\n",
       "      <td>375</td>\n",
       "      <td>4</td>\n",
       "      <td>5</td>\n",
       "      <td>21195</td>\n",
       "      <td>125.662245</td>\n",
       "      <td>190.254046</td>\n",
       "    </tr>\n",
       "  </tbody>\n",
       "</table>\n",
       "</div>"
      ],
      "text/plain": [
       "     id  user_id  mode     length  \\\n",
       "0     0        1     3   0.000000   \n",
       "336   1        1     3  11.615409   \n",
       "414   2        1     3   2.104856   \n",
       "415   3        1     7   4.847707   \n",
       "1     4        1     2   8.667529   \n",
       "\n",
       "                                         geometry  duration  act_duration  \\\n",
       "0    POINT (7.565219252705515 47.545616383391014)    1092.0        1092.0   \n",
       "336   POINT (7.563759803278834 47.54794768304769)      39.0          70.0   \n",
       "414    POINT (7.581727914351441 47.5564374119498)      74.0          84.0   \n",
       "415   POINT (7.581729846308135 47.55641482529889)     164.0         336.0   \n",
       "1     POINT (7.565127647736598 47.54571219157556)     320.0        1301.0   \n",
       "\n",
       "     location_id  level  start_day  start_min  weekday  idx  loc_id  \\\n",
       "0          21195     14          0        690        2    1   21195   \n",
       "336        21184     14          1        374        3    2   21184   \n",
       "414        21244     14          1        423        3    3   21244   \n",
       "415        21244     14          1        670        3    4   21244   \n",
       "1          21195     14          2        375        4    5   21195   \n",
       "\n",
       "              x           y  \n",
       "0    125.662245  190.254046  \n",
       "336  125.218398  190.296688  \n",
       "414  126.743392  191.248445  \n",
       "415  126.743392  191.248445  \n",
       "1    125.662245  190.254046  "
      ]
     },
     "execution_count": 81,
     "metadata": {},
     "output_type": "execute_result"
    }
   ],
   "source": [
    "train_data.head()"
   ]
  },
  {
   "cell_type": "markdown",
   "metadata": {},
   "source": [
    "## Construct sequence pairs for training"
   ]
  },
  {
   "cell_type": "code",
   "execution_count": 82,
   "metadata": {
    "execution": {
     "iopub.execute_input": "2024-06-12T08:39:52.007771Z",
     "iopub.status.busy": "2024-06-12T08:39:52.006774Z",
     "iopub.status.idle": "2024-06-12T08:39:52.028742Z",
     "shell.execute_reply": "2024-06-12T08:39:52.028742Z",
     "shell.execute_reply.started": "2024-06-12T08:39:52.007771Z"
    }
   },
   "outputs": [],
   "source": [
    "def getValidSequenceUser(df):\n",
    "\n",
    "    data_ls = []\n",
    "    df = df.reset_index(drop=True).copy()\n",
    "\n",
    "    min_days = df[\"start_day\"].min()\n",
    "    df[\"diff_day\"] = df[\"start_day\"] - min_days\n",
    "\n",
    "    for index, row in df.iterrows():\n",
    "        # exclude the first records\n",
    "        if row[\"diff_day\"] < src_min_days:\n",
    "            continue\n",
    "\n",
    "        src_trace = df.iloc[: index + 1]\n",
    "        src_trace = src_trace.loc[(src_trace[\"start_day\"] >= (row[\"start_day\"] - src_max_days))]\n",
    "        if len(src_trace) < 5:\n",
    "            continue\n",
    "\n",
    "        tgt_trace = df.iloc[index + 1: ]\n",
    "        # tgt_trace = tgt_trace.loc[(tgt_trace[\"start_day\"] <= (row[\"start_day\"] + tgt_max_days))]\n",
    "\n",
    "        if ((tgt_trace[\"start_day\"].max() - tgt_trace[\"start_day\"].min()) < tgt_min_days) or len(tgt_trace) <2:\n",
    "            continue\n",
    "        if len(tgt_trace) > 256:\n",
    "            tgt_trace = tgt_trace.head(256)\n",
    "\n",
    "        curr_dict = {}\n",
    "        curr_dict[\"src\"] = src_trace[\"location_id\"].values\n",
    "        curr_dict[\"src_xy\"] = src_trace[[\"x\", \"y\"]].values\n",
    "        curr_dict[\"src_duration\"] = src_trace[\"act_duration\"].values.astype(int)\n",
    "        curr_dict[\"src_mode\"] = src_trace[\"mode\"].values\n",
    "        curr_dict[\"src_user\"] = src_trace[\"user_id\"].values[0]\n",
    "        curr_dict[\"src_weekday\"] = src_trace[\"weekday\"].values\n",
    "        curr_dict[\"src_startmin\"] = src_trace[\"start_min\"].values\n",
    "        # for mechanistic models\n",
    "        curr_dict[\"src_idx\"] = src_trace[\"idx\"].values[-1]\n",
    "\n",
    "\n",
    "        curr_dict[\"tgt\"] = tgt_trace[\"location_id\"].values\n",
    "        curr_dict[\"tgt_xy\"] = tgt_trace[[\"x\", \"y\"]].values\n",
    "        curr_dict[\"tgt_duration\"] = tgt_trace[\"act_duration\"].values.astype(int)\n",
    "        curr_dict[\"tgt_mode\"] = tgt_trace[\"mode\"].values\n",
    "        curr_dict[\"tgt_weekday\"] = tgt_trace[\"weekday\"].values\n",
    "        curr_dict[\"tgt_startmin\"] = tgt_trace[\"start_min\"].values\n",
    "\n",
    "        data_ls.append(curr_dict)\n",
    "\n",
    "    return data_ls\n",
    "\n",
    "def applyParallel(dfGrouped, func, n_jobs, print_progress=True, **kwargs):\n",
    "    return Parallel(n_jobs=n_jobs)(\n",
    "        delayed(func)(group, **kwargs) for _, group in tqdm(dfGrouped, disable=not print_progress)\n",
    "    )\n",
    "\n",
    "def get_valid_data(df):\n",
    "    valid_data = applyParallel(df.groupby(\"user_id\"),getValidSequenceUser, n_jobs=-1)\n",
    "    return [item for sublist in valid_data for item in sublist]"
   ]
  },
  {
   "cell_type": "code",
   "execution_count": 83,
   "metadata": {
    "execution": {
     "iopub.execute_input": "2024-06-12T08:39:52.361121Z",
     "iopub.status.busy": "2024-06-12T08:39:52.360618Z",
     "iopub.status.idle": "2024-06-12T08:42:15.504395Z",
     "shell.execute_reply": "2024-06-12T08:42:15.503402Z",
     "shell.execute_reply.started": "2024-06-12T08:39:52.361121Z"
    }
   },
   "outputs": [
    {
     "name": "stderr",
     "output_type": "stream",
     "text": [
      "100%|██████████████████████████████████████████████████████████████████████████████| 2112/2112 [01:47<00:00, 19.63it/s]\n",
      "100%|█████████████████████████████████████████████████████████████████████████████| 2109/2109 [00:17<00:00, 121.57it/s]\n",
      "100%|█████████████████████████████████████████████████████████████████████████████| 2112/2112 [00:04<00:00, 462.88it/s]\n"
     ]
    }
   ],
   "source": [
    "valid_train_data = get_valid_data(train_data)\n",
    "valid_validation_data = get_valid_data(vali_data)\n",
    "valid_test_data = get_valid_data(test_data)"
   ]
  },
  {
   "cell_type": "markdown",
   "metadata": {},
   "source": [
    "### Sequence statistics"
   ]
  },
  {
   "cell_type": "code",
   "execution_count": 84,
   "metadata": {
    "execution": {
     "iopub.execute_input": "2024-06-12T08:42:15.506389Z",
     "iopub.status.busy": "2024-06-12T08:42:15.506389Z",
     "iopub.status.idle": "2024-06-12T08:42:15.519785Z",
     "shell.execute_reply": "2024-06-12T08:42:15.518390Z",
     "shell.execute_reply.started": "2024-06-12T08:42:15.506389Z"
    }
   },
   "outputs": [
    {
     "data": {
      "text/plain": [
       "{'src': array([21195, 21184, 21244, 21244, 21195, 21195, 21195, 21101, 21195,\n",
       "        21198, 21205, 21184, 21237, 21195, 21258, 21195, 21230],\n",
       "       dtype=int64),\n",
       " 'src_xy': array([[125.66224509, 190.25404551],\n",
       "        [125.21839772, 190.29668751],\n",
       "        [126.74339223, 191.24844466],\n",
       "        [126.74339223, 191.24844466],\n",
       "        [125.66224509, 190.25404551],\n",
       "        [125.66224509, 190.25404551],\n",
       "        [125.66224509, 190.25404551],\n",
       "        [129.31135959, 190.45254222],\n",
       "        [125.66224509, 190.25404551],\n",
       "        [126.2993946 , 191.29110853],\n",
       "        [126.04866683, 192.41369271],\n",
       "        [125.21839772, 190.29668751],\n",
       "        [127.22687613, 193.94856596],\n",
       "        [125.66224509, 190.25404551],\n",
       "        [128.71343171, 192.15759052],\n",
       "        [125.66224509, 190.25404551],\n",
       "        [128.21212976, 194.40331961]]),\n",
       " 'src_duration': array([1092,   70,   84,  336, 1301, 2879, 1302,   84, 1118,  112,  216,\n",
       "        1000,  154,  206,  165, 2879,  275]),\n",
       " 'src_mode': array([3, 3, 3, 7, 2, 2, 7, 6, 3, 7, 2, 3, 6, 6, 3, 2, 6], dtype=int64),\n",
       " 'src_user': 1,\n",
       " 'src_weekday': array([2, 3, 3, 3, 4, 1, 1, 2, 2, 3, 3, 3, 4, 4, 4, 1, 2]),\n",
       " 'src_startmin': array([690, 374, 423, 670, 375, 742, 846, 695, 793, 443, 733, 909, 365,\n",
       "        522, 718, 579, 395]),\n",
       " 'src_idx': 17,\n",
       " 'tgt': array([21246, 21195, 21209, 21244, 21195, 21195, 21245, 21200, 21104,\n",
       "        21195, 21254, 21195, 20481, 20999, 21206, 21195, 21195, 21248,\n",
       "        21204, 21195, 21185, 21183, 21195, 21195, 21204, 21195, 21101,\n",
       "        21195, 21248, 21195, 21195, 21195, 20966, 21120, 21248, 21195,\n",
       "        21195, 21195, 21195, 21195, 21195, 21109, 21011, 21195, 21195,\n",
       "        21254, 21107, 21195, 21195, 21242, 21195, 21120, 21184, 21195,\n",
       "        21195, 21195, 21195, 21195, 21195, 21248, 21184, 21109, 21011,\n",
       "        21195, 21245, 21195, 21101, 21195, 21101, 21195, 21101, 21101],\n",
       "       dtype=int64),\n",
       " 'tgt_xy': array([[127.2841436 , 191.74569326],\n",
       "        [125.66224509, 190.25404551],\n",
       "        [125.16073847, 192.49902688],\n",
       "        [126.74339223, 191.24844466],\n",
       "        [125.66224509, 190.25404551],\n",
       "        [125.66224509, 190.25404551],\n",
       "        [127.18743068, 191.20577664],\n",
       "        [125.95204777, 191.87370527],\n",
       "        [128.86715146, 190.49522414],\n",
       "        [125.66224509, 190.25404551],\n",
       "        [128.36600194, 192.74028843],\n",
       "        [125.66224509, 190.25404551],\n",
       "        [200.74211338, 180.29619082],\n",
       "        [131.67081282, 193.52135837],\n",
       "        [125.60468223, 192.45636187],\n",
       "        [125.66224509, 190.25404551],\n",
       "        [125.66224509, 190.25404551],\n",
       "        [127.63150995, 191.16310447],\n",
       "        [126.14529497, 192.95373057],\n",
       "        [125.66224509, 190.25404551],\n",
       "        [124.77459118, 190.33932537],\n",
       "        [125.31495522, 190.83653046],\n",
       "        [125.66224509, 190.25404551],\n",
       "        [125.66224509, 190.25404551],\n",
       "        [126.14529497, 192.95373057],\n",
       "        [125.66224509, 190.25404551],\n",
       "        [129.31135959, 190.45254222],\n",
       "        [125.66224509, 190.25404551],\n",
       "        [127.63150995, 191.16310447],\n",
       "        [125.66224509, 190.25404551],\n",
       "        [125.66224509, 190.25404551],\n",
       "        [125.66224509, 190.25404551],\n",
       "        [134.79786379, 188.27837339],\n",
       "        [127.09072686, 190.66591044],\n",
       "        [127.63150995, 191.16310447],\n",
       "        [125.66224509, 190.25404551],\n",
       "        [125.66224509, 190.25404551],\n",
       "        [125.66224509, 190.25404551],\n",
       "        [125.66224509, 190.25404551],\n",
       "        [125.66224509, 190.25404551],\n",
       "        [125.66224509, 190.25404551],\n",
       "        [128.57668283, 188.87600969],\n",
       "        [131.12921165, 193.02403413],\n",
       "        [125.66224509, 190.25404551],\n",
       "        [125.66224509, 190.25404551],\n",
       "        [128.36600194, 192.74028843],\n",
       "        [128.22939789, 189.4583616 ],\n",
       "        [125.66224509, 190.25404551],\n",
       "        [125.66224509, 190.25404551],\n",
       "        [126.93675852, 192.32834192],\n",
       "        [125.66224509, 190.25404551],\n",
       "        [127.09072686, 190.66591044],\n",
       "        [125.21839772, 190.29668751],\n",
       "        [125.66224509, 190.25404551],\n",
       "        [125.66224509, 190.25404551],\n",
       "        [125.66224509, 190.25404551],\n",
       "        [125.66224509, 190.25404551],\n",
       "        [125.66224509, 190.25404551],\n",
       "        [125.66224509, 190.25404551],\n",
       "        [127.63150995, 191.16310447],\n",
       "        [125.21839772, 190.29668751],\n",
       "        [128.57668283, 188.87600969],\n",
       "        [131.12921165, 193.02403413],\n",
       "        [125.66224509, 190.25404551],\n",
       "        [127.18743068, 191.20577664],\n",
       "        [125.66224509, 190.25404551],\n",
       "        [129.31135959, 190.45254222],\n",
       "        [125.66224509, 190.25404551],\n",
       "        [129.31135959, 190.45254222],\n",
       "        [125.66224509, 190.25404551],\n",
       "        [129.31135959, 190.45254222],\n",
       "        [129.31135959, 190.45254222]]),\n",
       " 'tgt_duration': array([  66,  401,  889,   69,  205, 1088,  161,  119,   84,  362, 2879,\n",
       "         263, 1531, 1809,  794,   85,  201,  119,   44,  193,   37, 1336,\n",
       "        2879, 2643,  310,  980,  145,  214,  159, 2879,  970, 1546,  169,\n",
       "        1204,  324, 1341, 2879, 1481,   86,  980,  275,   80,   90, 1091,\n",
       "        1098, 2879, 1010,  467,  850,  673,  889,   65,  317, 1549,  209,\n",
       "        2879,  406, 1063,  332,  264, 1104,  144,  132, 1045,  130,  984,\n",
       "          95,  348,  635, 2041,  270, 1063]),\n",
       " 'tgt_mode': array([7, 3, 3, 6, 7, 2, 6, 6, 3, 2, 3, 2, 4, 3, 3, 3, 6, 6, 6, 3, 7, 1,\n",
       "        3, 3, 6, 5, 6, 7, 6, 3, 3, 3, 3, 3, 6, 2, 6, 7, 7, 3, 7, 2, 5, 3,\n",
       "        2, 3, 3, 6, 7, 2, 3, 7, 5, 3, 7, 3, 6, 3, 7, 6, 7, 5, 2, 3, 6, 2,\n",
       "        5, 6, 3, 6, 6, 7], dtype=int64),\n",
       " 'tgt_weekday': array([2, 2, 3, 3, 3, 3, 4, 4, 4, 4, 6, 0, 1, 2, 3, 3, 3, 3, 3, 3, 3, 3,\n",
       "        1, 3, 3, 3, 4, 4, 4, 0, 1, 1, 2, 3, 3, 3, 0, 0, 1, 2, 2, 2, 2, 3,\n",
       "        3, 0, 1, 1, 1, 2, 2, 3, 3, 4, 4, 0, 0, 1, 1, 1, 2, 2, 2, 3, 3, 3,\n",
       "        4, 4, 4, 6, 6, 6]),\n",
       " 'tgt_startmin': array([ 542,  593,  365,  442,  595,  903,  362,  549,  676,  859, 1192,\n",
       "         438,  712, 1059,  411,  487,  628,  821,  897,  962, 1124, 1163,\n",
       "         426,  470,  906,  963,  503,  671,  847,  498,  429,  608,  706,\n",
       "         446,  844,  967,  630, 1034, 1069,  414,  706,  961, 1064,  422,\n",
       "         962,  430,  486,  556,  989,  981, 1098,  533,  831,  424, 1021,\n",
       "         437,  859,  431,  634,  971,  656,  955, 1085,  422,  838,  958,\n",
       "         473,  587, 1393,  653,  853,  992])}"
      ]
     },
     "execution_count": 84,
     "metadata": {},
     "output_type": "execute_result"
    }
   ],
   "source": [
    "valid_train_data[0]"
   ]
  },
  {
   "cell_type": "code",
   "execution_count": 85,
   "metadata": {
    "execution": {
     "iopub.execute_input": "2024-06-12T12:00:04.357087Z",
     "iopub.status.busy": "2024-06-12T12:00:04.356090Z",
     "iopub.status.idle": "2024-06-12T12:00:04.372847Z",
     "shell.execute_reply": "2024-06-12T12:00:04.371850Z",
     "shell.execute_reply.started": "2024-06-12T12:00:04.357087Z"
    }
   },
   "outputs": [
    {
     "data": {
      "text/plain": [
       "(590959, 104103, 36320)"
      ]
     },
     "execution_count": 85,
     "metadata": {},
     "output_type": "execute_result"
    }
   ],
   "source": [
    "len(valid_train_data), len(valid_validation_data), len(valid_test_data)"
   ]
  },
  {
   "cell_type": "code",
   "execution_count": 86,
   "metadata": {
    "execution": {
     "iopub.execute_input": "2024-06-12T12:00:05.855329Z",
     "iopub.status.busy": "2024-06-12T12:00:05.855329Z",
     "iopub.status.idle": "2024-06-12T12:00:06.688458Z",
     "shell.execute_reply": "2024-06-12T12:00:06.687460Z",
     "shell.execute_reply.started": "2024-06-12T12:00:05.855329Z"
    }
   },
   "outputs": [
    {
     "data": {
      "text/plain": [
       "((448, 256), (302, 256), (231, 256))"
      ]
     },
     "execution_count": 86,
     "metadata": {},
     "output_type": "execute_result"
    }
   ],
   "source": [
    "def get_max_len(ls):\n",
    "\n",
    "    max_src_len = 0\n",
    "    max_tgt_len = 0\n",
    "    for seq in ls:\n",
    "        seq_len = len(seq[\"src\"])\n",
    "        tgt_len = len(seq[\"tgt\"])\n",
    "\n",
    "        if seq_len > max_src_len:\n",
    "            max_src_len = seq_len\n",
    "        if tgt_len > max_tgt_len:\n",
    "            max_tgt_len = tgt_len\n",
    "\n",
    "    return max_src_len, max_tgt_len\n",
    "\n",
    "get_max_len(valid_train_data), get_max_len(valid_validation_data), get_max_len(valid_test_data)"
   ]
  },
  {
   "cell_type": "markdown",
   "metadata": {},
   "source": [
    "## Saving"
   ]
  },
  {
   "cell_type": "code",
   "execution_count": 87,
   "metadata": {
    "execution": {
     "iopub.execute_input": "2024-06-12T12:00:15.182551Z",
     "iopub.status.busy": "2024-06-12T12:00:15.182551Z",
     "iopub.status.idle": "2024-06-12T12:02:45.713053Z",
     "shell.execute_reply": "2024-06-12T12:02:45.712056Z",
     "shell.execute_reply.started": "2024-06-12T12:00:15.182551Z"
    }
   },
   "outputs": [],
   "source": [
    "# sequences\n",
    "save_pk_file(os.path.join(\"..\", \"data\", \"diff\", f\"train_level{level}_{src_min_days}_{tgt_min_days}_{data_type}.pk\"), valid_train_data)\n",
    "\n",
    "save_pk_file(os.path.join(\"..\", \"data\", \"diff\", f\"valid_level{level}_{src_min_days}_{tgt_min_days}_{data_type}.pk\"), valid_validation_data)\n",
    "\n",
    "save_pk_file(os.path.join(\"..\", \"data\", \"diff\", f\"test_level{level}_{src_min_days}_{tgt_min_days}_{data_type}.pk\"), valid_test_data)\n"
   ]
  },
  {
   "cell_type": "code",
   "execution_count": 125,
   "metadata": {
    "execution": {
     "iopub.execute_input": "2024-06-06T11:44:48.856082Z",
     "iopub.status.busy": "2024-06-06T11:44:48.855085Z",
     "iopub.status.idle": "2024-06-06T11:44:49.211589Z",
     "shell.execute_reply": "2024-06-06T11:44:49.209595Z",
     "shell.execute_reply.started": "2024-06-06T11:44:48.856082Z"
    }
   },
   "outputs": [],
   "source": [
    "# POI\n",
    "\n",
    "data = {}\n",
    "\n",
    "data[\"poiValues\"] = np.vstack(poi_df[\"poiValues\"].values)\n",
    "data[\"loc_id\"] = poi_df[\"loc_id\"].values\n",
    "\n",
    "np.save(os.path.join(\"..\", \"data\", \"diff\", f\"poi_level{level}.npy\"),data)\n"
   ]
  },
  {
   "cell_type": "markdown",
   "metadata": {},
   "source": [
    "## Test reading"
   ]
  },
  {
   "cell_type": "code",
   "execution_count": 16,
   "metadata": {},
   "outputs": [
    {
     "data": {
      "text/plain": [
       "{'src': array([10700, 10700, 10516, 10516, 10516, 10700, 11214, 10700, 10700,\n",
       "        10516, 10700, 10516, 10700, 10700, 10700, 10516, 10700, 11208,\n",
       "        10516, 11208, 10516, 10517, 10700, 10516, 10700, 10516, 10700,\n",
       "        10700, 10516], dtype=int64),\n",
       " 'src_duration': array([ 692,   74,   69,  100,   39,  517,  665, 2324,  455,  626,  823,\n",
       "         599, 2603,  216,  891,  624,  215,  548,  603,  837,  411,  169,\n",
       "         918,  616,  811,  626,  910, 1436,  680]),\n",
       " 'src_user': 1,\n",
       " 'src_weekday': array([3, 4, 4, 4, 4, 4, 4, 5, 6, 0, 0, 1, 1, 3, 3, 4, 4, 4, 5, 5, 6, 6,\n",
       "        6, 0, 0, 1, 1, 2, 3]),\n",
       " 'src_startmin': array([1147,  411,  519,  563,  647,  728, 1224,  448, 1329,  400, 1016,\n",
       "         403, 1016,  817, 1184,  402, 1017, 1189,  324,  920,  319,  693,\n",
       "         924,  403, 1015,  405, 1015,  757,  525]),\n",
       " 'tgt': array([10700, 10516, 10686, 10700, 11208, 10700, 10516, 10516, 10700,\n",
       "        10700, 12615, 10700, 10516, 10516, 10700, 10516, 10700, 11208,\n",
       "        10516, 11541, 11208, 10516, 10681, 10700, 10516, 10700, 10700,\n",
       "        10700, 11208, 11208, 11208, 10700, 10700, 11318, 10700, 10516,\n",
       "        10700, 11208], dtype=int64),\n",
       " 'tgt_duration': array([ 784,  653,   89, 1373, 1307,  835,  501,  212, 1057, 1051,  251,\n",
       "        1256,  435,  266,  617,  678,  226,  537,  600,  170,  729,  597,\n",
       "         269,  730,  663,  876,  184,  497,  656,  100,  154,   46,  162,\n",
       "         197,  558,  737,  200,  504]),\n",
       " 'tgt_weekday': array([3, 4, 4, 4, 5, 6, 0, 0, 0, 1, 2, 2, 3, 3, 3, 4, 4, 4, 5, 5, 5, 6,\n",
       "        6, 6, 0, 0, 1, 1, 1, 2, 2, 2, 2, 2, 2, 3, 3, 3]),\n",
       " 'tgt_startmin': array([1151,  522, 1156, 1198, 1155, 1089,  465,  890, 1165,  814,  417,\n",
       "         644,  472,  835, 1151,  342, 1014, 1204,  325,  919, 1069,  385,\n",
       "         966, 1213,  541, 1206,  687,  864, 1296,  498,  639,  771,  897,\n",
       "        1028, 1251,  339, 1078, 1237])}"
      ]
     },
     "execution_count": 16,
     "metadata": {},
     "output_type": "execute_result"
    }
   ],
   "source": [
    "loaded = pickle.load(open(os.path.join(\"..\", \"data\", \"diff\", f\"train_level10_13_{src_min_days}_{tgt_min_days}_tiny.pk\"), \"rb\"))\n",
    "loaded[0]"
   ]
  },
  {
   "cell_type": "markdown",
   "metadata": {},
   "source": [
    "# Pairwise distance matrix"
   ]
  },
  {
   "cell_type": "code",
   "execution_count": 14,
   "metadata": {
    "execution": {
     "iopub.execute_input": "2024-03-18T21:09:13.157321Z",
     "iopub.status.busy": "2024-03-18T21:09:13.156324Z",
     "iopub.status.idle": "2024-03-18T21:09:13.439965Z",
     "shell.execute_reply": "2024-03-18T21:09:13.439965Z",
     "shell.execute_reply.started": "2024-03-18T21:09:13.156324Z"
    }
   },
   "outputs": [],
   "source": [
    "visited_locs = pd.read_csv(\"../data/s2_loc_visited_level10_13.csv\", index_col=\"id\").sort_values(by=\"loc_id\")\n",
    "visited_locs[\"geometry\"] = visited_locs[\"geometry\"].apply(wkt.loads)\n",
    "visited_locs = gpd.GeoDataFrame(visited_locs, geometry=\"geometry\", crs=\"EPSG:4326\")\n",
    "\n",
    "visited_locs = visited_locs.to_crs(\"EPSG:2056\")"
   ]
  },
  {
   "cell_type": "code",
   "execution_count": 15,
   "metadata": {
    "execution": {
     "iopub.execute_input": "2024-03-18T21:09:14.671015Z",
     "iopub.status.busy": "2024-03-18T21:09:14.671015Z",
     "iopub.status.idle": "2024-03-18T21:09:14.690172Z",
     "shell.execute_reply": "2024-03-18T21:09:14.689173Z",
     "shell.execute_reply.started": "2024-03-18T21:09:14.671015Z"
    }
   },
   "outputs": [
    {
     "data": {
      "text/html": [
       "<div>\n",
       "<style scoped>\n",
       "    .dataframe tbody tr th:only-of-type {\n",
       "        vertical-align: middle;\n",
       "    }\n",
       "\n",
       "    .dataframe tbody tr th {\n",
       "        vertical-align: top;\n",
       "    }\n",
       "\n",
       "    .dataframe thead th {\n",
       "        text-align: right;\n",
       "    }\n",
       "</style>\n",
       "<table border=\"1\" class=\"dataframe\">\n",
       "  <thead>\n",
       "    <tr style=\"text-align: right;\">\n",
       "      <th></th>\n",
       "      <th>loc_id</th>\n",
       "      <th>level</th>\n",
       "      <th>geometry</th>\n",
       "      <th>freq</th>\n",
       "      <th>area</th>\n",
       "    </tr>\n",
       "    <tr>\n",
       "      <th>id</th>\n",
       "      <th></th>\n",
       "      <th></th>\n",
       "      <th></th>\n",
       "      <th></th>\n",
       "      <th></th>\n",
       "    </tr>\n",
       "  </thead>\n",
       "  <tbody>\n",
       "    <tr>\n",
       "      <th>0</th>\n",
       "      <td>5152981090339651584</td>\n",
       "      <td>10</td>\n",
       "      <td>POINT (2824875.045 1159436.528)</td>\n",
       "      <td>1</td>\n",
       "      <td>POLYGON ((10.405097146225662 46.50637570678295...</td>\n",
       "    </tr>\n",
       "    <tr>\n",
       "      <th>1</th>\n",
       "      <td>5152984577853095936</td>\n",
       "      <td>13</td>\n",
       "      <td>POINT (2822437.857 1167754.527)</td>\n",
       "      <td>38</td>\n",
       "      <td>POLYGON ((10.347820052132302 46.61871685680636...</td>\n",
       "    </tr>\n",
       "    <tr>\n",
       "      <th>2</th>\n",
       "      <td>5152985265047863296</td>\n",
       "      <td>13</td>\n",
       "      <td>POINT (2815796.126 1167304.569)</td>\n",
       "      <td>1</td>\n",
       "      <td>POLYGON ((10.260953592346382 46.61685460820135...</td>\n",
       "    </tr>\n",
       "    <tr>\n",
       "      <th>3</th>\n",
       "      <td>5152985299407601664</td>\n",
       "      <td>13</td>\n",
       "      <td>POINT (2816020.303 1168362.492)</td>\n",
       "      <td>1</td>\n",
       "      <td>POLYGON ((10.264376293749178 46.62629143145975...</td>\n",
       "    </tr>\n",
       "    <tr>\n",
       "      <th>4</th>\n",
       "      <td>5152985505566031872</td>\n",
       "      <td>13</td>\n",
       "      <td>POINT (2818994.419 1169160.037)</td>\n",
       "      <td>1</td>\n",
       "      <td>POLYGON ((10.303565033130825 46.63249007077394...</td>\n",
       "    </tr>\n",
       "  </tbody>\n",
       "</table>\n",
       "</div>"
      ],
      "text/plain": [
       "                 loc_id  level                         geometry  freq  \\\n",
       "id                                                                      \n",
       "0   5152981090339651584     10  POINT (2824875.045 1159436.528)     1   \n",
       "1   5152984577853095936     13  POINT (2822437.857 1167754.527)    38   \n",
       "2   5152985265047863296     13  POINT (2815796.126 1167304.569)     1   \n",
       "3   5152985299407601664     13  POINT (2816020.303 1168362.492)     1   \n",
       "4   5152985505566031872     13  POINT (2818994.419 1169160.037)     1   \n",
       "\n",
       "                                                 area  \n",
       "id                                                     \n",
       "0   POLYGON ((10.405097146225662 46.50637570678295...  \n",
       "1   POLYGON ((10.347820052132302 46.61871685680636...  \n",
       "2   POLYGON ((10.260953592346382 46.61685460820135...  \n",
       "3   POLYGON ((10.264376293749178 46.62629143145975...  \n",
       "4   POLYGON ((10.303565033130825 46.63249007077394...  "
      ]
     },
     "execution_count": 15,
     "metadata": {},
     "output_type": "execute_result"
    }
   ],
   "source": [
    "visited_locs.head()"
   ]
  },
  {
   "cell_type": "code",
   "execution_count": 16,
   "metadata": {
    "execution": {
     "iopub.execute_input": "2024-03-18T21:09:28.151178Z",
     "iopub.status.busy": "2024-03-18T21:09:28.151178Z",
     "iopub.status.idle": "2024-03-18T21:09:29.807341Z",
     "shell.execute_reply": "2024-03-18T21:09:29.807341Z",
     "shell.execute_reply.started": "2024-03-18T21:09:28.151178Z"
    }
   },
   "outputs": [],
   "source": [
    "def calculate_distance_matrix(X):\n",
    "    X = shapely.get_coordinates(X.geometry)\n",
    "\n",
    "    distance = pdist(X, 'euclidean')\n",
    "    dist_matrix = squareform(distance)\n",
    "    return dist_matrix\n",
    "    \n",
    "dist_matrix = calculate_distance_matrix(visited_locs)"
   ]
  },
  {
   "cell_type": "code",
   "execution_count": 17,
   "metadata": {
    "execution": {
     "iopub.execute_input": "2024-03-18T21:09:30.754344Z",
     "iopub.status.busy": "2024-03-18T21:09:30.753345Z",
     "iopub.status.idle": "2024-03-18T21:09:30.759833Z",
     "shell.execute_reply": "2024-03-18T21:09:30.759833Z",
     "shell.execute_reply.started": "2024-03-18T21:09:30.754344Z"
    }
   },
   "outputs": [
    {
     "data": {
      "text/plain": [
       "(14881, 14881)"
      ]
     },
     "execution_count": 17,
     "metadata": {},
     "output_type": "execute_result"
    }
   ],
   "source": [
    "dist_matrix.shape"
   ]
  },
  {
   "cell_type": "code",
   "execution_count": 18,
   "metadata": {
    "execution": {
     "iopub.execute_input": "2024-03-18T21:09:39.889545Z",
     "iopub.status.busy": "2024-03-18T21:09:39.889545Z",
     "iopub.status.idle": "2024-03-18T21:09:49.131245Z",
     "shell.execute_reply": "2024-03-18T21:09:49.131245Z",
     "shell.execute_reply.started": "2024-03-18T21:09:39.889545Z"
    }
   },
   "outputs": [],
   "source": [
    "save_pk_file(\"../data/matrix/distance_13.pk\", dist_matrix)"
   ]
  }
 ],
 "metadata": {
  "kernelspec": {
   "display_name": "Python 3 (ipykernel)",
   "language": "python",
   "name": "python3"
  },
  "language_info": {
   "codemirror_mode": {
    "name": "ipython",
    "version": 3
   },
   "file_extension": ".py",
   "mimetype": "text/x-python",
   "name": "python",
   "nbconvert_exporter": "python",
   "pygments_lexer": "ipython3",
   "version": "3.11.9"
  },
  "vscode": {
   "interpreter": {
    "hash": "659ffd3ea00dbbc52f857660b8dafea05f804bc55dd91047cefb31e38b5505f6"
   }
  }
 },
 "nbformat": 4,
 "nbformat_minor": 4
}
