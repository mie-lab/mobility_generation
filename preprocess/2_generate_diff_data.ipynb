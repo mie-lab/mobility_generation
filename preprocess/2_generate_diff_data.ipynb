{
 "cells": [
  {
   "cell_type": "code",
   "execution_count": 1,
   "metadata": {
    "execution": {
     "iopub.execute_input": "2024-08-05T09:37:24.848002Z",
     "iopub.status.busy": "2024-08-05T09:37:24.848002Z",
     "iopub.status.idle": "2024-08-05T09:37:28.914176Z",
     "shell.execute_reply": "2024-08-05T09:37:28.914176Z",
     "shell.execute_reply.started": "2024-08-05T09:37:24.848002Z"
    }
   },
   "outputs": [],
   "source": [
    "import torch \n",
    "import numpy as np\n",
    "\n",
    "import math\n",
    "\n",
    "import os\n",
    "import pandas as pd\n",
    "import geopandas as gpd\n",
    "import pickle as pickle\n",
    "\n",
    "import shapely\n",
    "from shapely import wkt\n",
    "from tqdm import tqdm\n",
    "\n",
    "from joblib import Parallel, delayed\n",
    "\n",
    "import trackintel as ti\n",
    "from trackintel.geogr.distances import calculate_distance_matrix\n",
    "from sklearn.preprocessing import OrdinalEncoder"
   ]
  },
  {
   "cell_type": "code",
   "execution_count": 2,
   "metadata": {
    "execution": {
     "iopub.execute_input": "2024-08-05T09:37:28.919183Z",
     "iopub.status.busy": "2024-08-05T09:37:28.919183Z",
     "iopub.status.idle": "2024-08-05T09:37:28.924295Z",
     "shell.execute_reply": "2024-08-05T09:37:28.924295Z",
     "shell.execute_reply.started": "2024-08-05T09:37:28.919183Z"
    }
   },
   "outputs": [
    {
     "data": {
      "text/plain": [
       "'1.3.1'"
      ]
     },
     "execution_count": 2,
     "metadata": {},
     "output_type": "execute_result"
    }
   ],
   "source": [
    "ti.__version__"
   ]
  },
  {
   "cell_type": "code",
   "execution_count": 3,
   "metadata": {
    "execution": {
     "iopub.execute_input": "2024-08-05T09:37:28.926299Z",
     "iopub.status.busy": "2024-08-05T09:37:28.925299Z",
     "iopub.status.idle": "2024-08-05T09:37:29.898386Z",
     "shell.execute_reply": "2024-08-05T09:37:29.898386Z",
     "shell.execute_reply.started": "2024-08-05T09:37:28.926299Z"
    }
   },
   "outputs": [
    {
     "name": "stderr",
     "output_type": "stream",
     "text": [
      "C:\\ProgramData\\Anaconda3\\envs\\gene\\Lib\\site-packages\\tqdm\\auto.py:21: TqdmWarning: IProgress not found. Please update jupyter and ipywidgets. See https://ipywidgets.readthedocs.io/en/stable/user_install.html\n",
      "  from .autonotebook import tqdm as notebook_tqdm\n"
     ]
    }
   ],
   "source": [
    "from loc_predict.models.markov import markov_transition_prob\n",
    "from utils.utils import load_data\n",
    "\n",
    "def save_pk_file(save_path, data):\n",
    "    \"\"\"Function to save data to pickle format given data and path.\"\"\"\n",
    "    with open(save_path, \"wb\") as handle:\n",
    "        pickle.dump(data, handle, protocol=pickle.HIGHEST_PROTOCOL)"
   ]
  },
  {
   "cell_type": "markdown",
   "metadata": {},
   "source": [
    "# Generate datasets"
   ]
  },
  {
   "cell_type": "code",
   "execution_count": 4,
   "metadata": {
    "execution": {
     "iopub.execute_input": "2024-08-05T09:37:29.899390Z",
     "iopub.status.busy": "2024-08-05T09:37:29.899390Z",
     "iopub.status.idle": "2024-08-05T09:37:29.902605Z",
     "shell.execute_reply": "2024-08-05T09:37:29.902605Z",
     "shell.execute_reply.started": "2024-08-05T09:37:29.899390Z"
    }
   },
   "outputs": [],
   "source": [
    "src_min_days = 7 * 2\n",
    "src_max_days = 7 * 3\n",
    "\n",
    "tgt_min_days = 7 * 1\n",
    "# tgt_max_days = 7 * 2\n",
    "\n",
    "data_type = \"tiny\"\n",
    "level = 14"
   ]
  },
  {
   "cell_type": "markdown",
   "metadata": {},
   "source": [
    "## Read staypoints and load with location id"
   ]
  },
  {
   "cell_type": "code",
   "execution_count": 5,
   "metadata": {
    "execution": {
     "iopub.execute_input": "2024-08-05T09:37:29.904611Z",
     "iopub.status.busy": "2024-08-05T09:37:29.903612Z",
     "iopub.status.idle": "2024-08-05T09:37:32.581055Z",
     "shell.execute_reply": "2024-08-05T09:37:32.581055Z",
     "shell.execute_reply.started": "2024-08-05T09:37:29.904611Z"
    }
   },
   "outputs": [],
   "source": [
    "sp = pd.read_csv(os.path.join(f\"../data/sp_{data_type}.csv\"), index_col=\"id\")\n",
    "loc = pd.read_csv(os.path.join(f\"../data/loc_s2_level10_{level}.csv\"), index_col=\"id\")\n",
    "\n",
    "sp = load_data(sp, loc)\n",
    "sp[\"length\"] = sp[\"length\"]/1000"
   ]
  },
  {
   "cell_type": "code",
   "execution_count": 6,
   "metadata": {
    "execution": {
     "iopub.execute_input": "2024-08-05T09:37:32.582059Z",
     "iopub.status.busy": "2024-08-05T09:37:32.582059Z",
     "iopub.status.idle": "2024-08-05T09:37:32.586571Z",
     "shell.execute_reply": "2024-08-05T09:37:32.586571Z",
     "shell.execute_reply.started": "2024-08-05T09:37:32.582059Z"
    }
   },
   "outputs": [
    {
     "data": {
      "text/plain": [
       "32044"
      ]
     },
     "execution_count": 6,
     "metadata": {},
     "output_type": "execute_result"
    }
   ],
   "source": [
    "len(sp)"
   ]
  },
  {
   "cell_type": "code",
   "execution_count": 7,
   "metadata": {
    "execution": {
     "iopub.execute_input": "2024-08-05T09:37:32.588577Z",
     "iopub.status.busy": "2024-08-05T09:37:32.587577Z",
     "iopub.status.idle": "2024-08-05T09:37:32.598418Z",
     "shell.execute_reply": "2024-08-05T09:37:32.598418Z",
     "shell.execute_reply.started": "2024-08-05T09:37:32.588577Z"
    }
   },
   "outputs": [],
   "source": [
    "sp.sort_values(by=[\"user_id\", \"start_day\", \"start_min\"], inplace=True)"
   ]
  },
  {
   "cell_type": "code",
   "execution_count": 8,
   "metadata": {
    "execution": {
     "iopub.execute_input": "2024-08-05T09:37:33.260891Z",
     "iopub.status.busy": "2024-08-05T09:37:33.259888Z",
     "iopub.status.idle": "2024-08-05T09:37:33.272394Z",
     "shell.execute_reply": "2024-08-05T09:37:33.272394Z",
     "shell.execute_reply.started": "2024-08-05T09:37:33.260891Z"
    }
   },
   "outputs": [
    {
     "data": {
      "text/html": [
       "<div>\n",
       "<style scoped>\n",
       "    .dataframe tbody tr th:only-of-type {\n",
       "        vertical-align: middle;\n",
       "    }\n",
       "\n",
       "    .dataframe tbody tr th {\n",
       "        vertical-align: top;\n",
       "    }\n",
       "\n",
       "    .dataframe thead th {\n",
       "        text-align: right;\n",
       "    }\n",
       "</style>\n",
       "<table border=\"1\" class=\"dataframe\">\n",
       "  <thead>\n",
       "    <tr style=\"text-align: right;\">\n",
       "      <th></th>\n",
       "      <th>id</th>\n",
       "      <th>user_id</th>\n",
       "      <th>started_at</th>\n",
       "      <th>finished_at</th>\n",
       "      <th>mode</th>\n",
       "      <th>length</th>\n",
       "      <th>geometry</th>\n",
       "      <th>duration</th>\n",
       "      <th>act_duration</th>\n",
       "      <th>location_id</th>\n",
       "      <th>level</th>\n",
       "      <th>start_day</th>\n",
       "      <th>start_min</th>\n",
       "      <th>weekday</th>\n",
       "    </tr>\n",
       "  </thead>\n",
       "  <tbody>\n",
       "    <tr>\n",
       "      <th>0</th>\n",
       "      <td>0</td>\n",
       "      <td>BDVLG</td>\n",
       "      <td>2019-10-03 19:07:44.055999</td>\n",
       "      <td>2019-10-04 06:40:09.447</td>\n",
       "      <td>Car</td>\n",
       "      <td>27.452783</td>\n",
       "      <td>POINT (7.920717282726765 47.5429800853892)</td>\n",
       "      <td>692.0</td>\n",
       "      <td>692.0</td>\n",
       "      <td>5156702271479742464</td>\n",
       "      <td>14</td>\n",
       "      <td>0</td>\n",
       "      <td>1147</td>\n",
       "      <td>3</td>\n",
       "    </tr>\n",
       "    <tr>\n",
       "      <th>1</th>\n",
       "      <td>1</td>\n",
       "      <td>BDVLG</td>\n",
       "      <td>2019-10-04 06:51:04.049999</td>\n",
       "      <td>2019-10-04 07:55:07.296</td>\n",
       "      <td>Car</td>\n",
       "      <td>0.000000</td>\n",
       "      <td>POINT (7.9208388077268905 47.54296951038919)</td>\n",
       "      <td>64.0</td>\n",
       "      <td>74.0</td>\n",
       "      <td>5156702271479742464</td>\n",
       "      <td>14</td>\n",
       "      <td>1</td>\n",
       "      <td>400</td>\n",
       "      <td>4</td>\n",
       "    </tr>\n",
       "    <tr>\n",
       "      <th>2</th>\n",
       "      <td>2</td>\n",
       "      <td>BDVLG</td>\n",
       "      <td>2019-10-04 08:39:14.592000</td>\n",
       "      <td>2019-10-04 09:04:21.355</td>\n",
       "      <td>Car</td>\n",
       "      <td>26.177499</td>\n",
       "      <td>POINT (8.044077507894814 47.39226191030855)</td>\n",
       "      <td>25.0</td>\n",
       "      <td>69.0</td>\n",
       "      <td>5156687471022440448</td>\n",
       "      <td>14</td>\n",
       "      <td>1</td>\n",
       "      <td>475</td>\n",
       "      <td>4</td>\n",
       "    </tr>\n",
       "    <tr>\n",
       "      <th>3</th>\n",
       "      <td>3</td>\n",
       "      <td>BDVLG</td>\n",
       "      <td>2019-10-04 09:23:41.648000</td>\n",
       "      <td>2019-10-04 10:44:50.147</td>\n",
       "      <td>Walk</td>\n",
       "      <td>0.586496</td>\n",
       "      <td>POINT (8.044651757895464 47.39201188530833)</td>\n",
       "      <td>81.0</td>\n",
       "      <td>100.0</td>\n",
       "      <td>5156687471022440448</td>\n",
       "      <td>14</td>\n",
       "      <td>1</td>\n",
       "      <td>544</td>\n",
       "      <td>4</td>\n",
       "    </tr>\n",
       "    <tr>\n",
       "      <th>4</th>\n",
       "      <td>4</td>\n",
       "      <td>BDVLG</td>\n",
       "      <td>2019-10-04 10:47:57.526000</td>\n",
       "      <td>2019-10-04 11:24:08.161</td>\n",
       "      <td>Walk</td>\n",
       "      <td>0.337419</td>\n",
       "      <td>POINT (8.04458620789537 47.39212161030836)</td>\n",
       "      <td>36.0</td>\n",
       "      <td>39.0</td>\n",
       "      <td>5156687471022440448</td>\n",
       "      <td>14</td>\n",
       "      <td>1</td>\n",
       "      <td>644</td>\n",
       "      <td>4</td>\n",
       "    </tr>\n",
       "  </tbody>\n",
       "</table>\n",
       "</div>"
      ],
      "text/plain": [
       "   id user_id                 started_at             finished_at  mode  \\\n",
       "0   0   BDVLG 2019-10-03 19:07:44.055999 2019-10-04 06:40:09.447   Car   \n",
       "1   1   BDVLG 2019-10-04 06:51:04.049999 2019-10-04 07:55:07.296   Car   \n",
       "2   2   BDVLG 2019-10-04 08:39:14.592000 2019-10-04 09:04:21.355   Car   \n",
       "3   3   BDVLG 2019-10-04 09:23:41.648000 2019-10-04 10:44:50.147  Walk   \n",
       "4   4   BDVLG 2019-10-04 10:47:57.526000 2019-10-04 11:24:08.161  Walk   \n",
       "\n",
       "      length                                      geometry  duration  \\\n",
       "0  27.452783    POINT (7.920717282726765 47.5429800853892)     692.0   \n",
       "1   0.000000  POINT (7.9208388077268905 47.54296951038919)      64.0   \n",
       "2  26.177499   POINT (8.044077507894814 47.39226191030855)      25.0   \n",
       "3   0.586496   POINT (8.044651757895464 47.39201188530833)      81.0   \n",
       "4   0.337419    POINT (8.04458620789537 47.39212161030836)      36.0   \n",
       "\n",
       "   act_duration          location_id  level  start_day  start_min  weekday  \n",
       "0         692.0  5156702271479742464     14          0       1147        3  \n",
       "1          74.0  5156702271479742464     14          1        400        4  \n",
       "2          69.0  5156687471022440448     14          1        475        4  \n",
       "3         100.0  5156687471022440448     14          1        544        4  \n",
       "4          39.0  5156687471022440448     14          1        644        4  "
      ]
     },
     "execution_count": 8,
     "metadata": {},
     "output_type": "execute_result"
    }
   ],
   "source": [
    "sp.head()"
   ]
  },
  {
   "cell_type": "code",
   "execution_count": 9,
   "metadata": {
    "execution": {
     "iopub.execute_input": "2024-08-05T09:37:34.051282Z",
     "iopub.status.busy": "2024-08-05T09:37:34.051282Z",
     "iopub.status.idle": "2024-08-05T09:37:34.057791Z",
     "shell.execute_reply": "2024-08-05T09:37:34.057791Z",
     "shell.execute_reply.started": "2024-08-05T09:37:34.051282Z"
    }
   },
   "outputs": [
    {
     "data": {
      "text/plain": [
       "mode\n",
       "Car        13703\n",
       "Walk       11720\n",
       "Train       2475\n",
       "Bicycle     2264\n",
       "Bus         1156\n",
       "Tram         596\n",
       "Other        130\n",
       "Name: count, dtype: int64"
      ]
     },
     "execution_count": 9,
     "metadata": {},
     "output_type": "execute_result"
    }
   ],
   "source": [
    "sp[\"mode\"].value_counts()"
   ]
  },
  {
   "cell_type": "markdown",
   "metadata": {},
   "source": [
    "## Read all locations"
   ]
  },
  {
   "cell_type": "code",
   "execution_count": 10,
   "metadata": {
    "execution": {
     "iopub.execute_input": "2024-08-05T09:37:35.138312Z",
     "iopub.status.busy": "2024-08-05T09:37:35.138312Z",
     "iopub.status.idle": "2024-08-05T09:37:35.555718Z",
     "shell.execute_reply": "2024-08-05T09:37:35.555718Z",
     "shell.execute_reply.started": "2024-08-05T09:37:35.138312Z"
    }
   },
   "outputs": [],
   "source": [
    "all_locs = pd.read_csv(f\"../data/s2_loc_visited_level10_{level}.csv\", index_col=\"id\")\n",
    "\n",
    "# geometry\n",
    "all_locs[\"geometry\"] = all_locs[\"geometry\"].apply(wkt.loads)\n",
    "all_locs = gpd.GeoDataFrame(all_locs, geometry=\"geometry\", crs=\"EPSG:4326\")\n",
    "# transform to projected coordinate systems\n",
    "all_locs = all_locs.to_crs(\"EPSG:2056\")\n",
    "\n",
    "# coordinate information\n",
    "x = all_locs[\"geometry\"].x.values\n",
    "y = all_locs[\"geometry\"].y.values\n",
    "\n",
    "all_locs[\"x\"] = (x - x.min())/1000\n",
    "all_locs[\"y\"] = (y - y.min())/1000"
   ]
  },
  {
   "cell_type": "code",
   "execution_count": 11,
   "metadata": {
    "execution": {
     "iopub.execute_input": "2024-08-05T09:37:35.722684Z",
     "iopub.status.busy": "2024-08-05T09:37:35.721678Z",
     "iopub.status.idle": "2024-08-05T09:37:35.726157Z",
     "shell.execute_reply": "2024-08-05T09:37:35.726157Z",
     "shell.execute_reply.started": "2024-08-05T09:37:35.722684Z"
    }
   },
   "outputs": [
    {
     "data": {
      "text/plain": [
       "28742"
      ]
     },
     "execution_count": 11,
     "metadata": {},
     "output_type": "execute_result"
    }
   ],
   "source": [
    "len(all_locs)"
   ]
  },
  {
   "cell_type": "code",
   "execution_count": 12,
   "metadata": {
    "execution": {
     "iopub.execute_input": "2024-08-05T09:37:36.637229Z",
     "iopub.status.busy": "2024-08-05T09:37:36.636229Z",
     "iopub.status.idle": "2024-08-05T09:37:36.645316Z",
     "shell.execute_reply": "2024-08-05T09:37:36.645316Z",
     "shell.execute_reply.started": "2024-08-05T09:37:36.637229Z"
    }
   },
   "outputs": [
    {
     "data": {
      "text/html": [
       "<div>\n",
       "<style scoped>\n",
       "    .dataframe tbody tr th:only-of-type {\n",
       "        vertical-align: middle;\n",
       "    }\n",
       "\n",
       "    .dataframe tbody tr th {\n",
       "        vertical-align: top;\n",
       "    }\n",
       "\n",
       "    .dataframe thead th {\n",
       "        text-align: right;\n",
       "    }\n",
       "</style>\n",
       "<table border=\"1\" class=\"dataframe\">\n",
       "  <thead>\n",
       "    <tr style=\"text-align: right;\">\n",
       "      <th></th>\n",
       "      <th>loc_id</th>\n",
       "      <th>level</th>\n",
       "      <th>geometry</th>\n",
       "      <th>x</th>\n",
       "      <th>y</th>\n",
       "    </tr>\n",
       "    <tr>\n",
       "      <th>id</th>\n",
       "      <th></th>\n",
       "      <th></th>\n",
       "      <th></th>\n",
       "      <th></th>\n",
       "      <th></th>\n",
       "    </tr>\n",
       "  </thead>\n",
       "  <tbody>\n",
       "    <tr>\n",
       "      <th>0</th>\n",
       "      <td>5152981090339651584</td>\n",
       "      <td>10</td>\n",
       "      <td>POINT (2824875.045 1159436.528)</td>\n",
       "      <td>340.828583</td>\n",
       "      <td>83.506855</td>\n",
       "    </tr>\n",
       "    <tr>\n",
       "      <th>1</th>\n",
       "      <td>5152984582148063232</td>\n",
       "      <td>14</td>\n",
       "      <td>POINT (2822264.816 1168040.708)</td>\n",
       "      <td>338.218355</td>\n",
       "      <td>92.111035</td>\n",
       "    </tr>\n",
       "    <tr>\n",
       "      <th>2</th>\n",
       "      <td>5152984590737997824</td>\n",
       "      <td>14</td>\n",
       "      <td>POINT (2822152.250 1167511.806)</td>\n",
       "      <td>338.105789</td>\n",
       "      <td>91.582133</td>\n",
       "    </tr>\n",
       "    <tr>\n",
       "      <th>3</th>\n",
       "      <td>5152985265047863296</td>\n",
       "      <td>13</td>\n",
       "      <td>POINT (2815796.126 1167304.569)</td>\n",
       "      <td>331.749664</td>\n",
       "      <td>91.374896</td>\n",
       "    </tr>\n",
       "    <tr>\n",
       "      <th>4</th>\n",
       "      <td>5152985299407601664</td>\n",
       "      <td>13</td>\n",
       "      <td>POINT (2816020.303 1168362.492)</td>\n",
       "      <td>331.973842</td>\n",
       "      <td>92.432819</td>\n",
       "    </tr>\n",
       "  </tbody>\n",
       "</table>\n",
       "</div>"
      ],
      "text/plain": [
       "                 loc_id  level                         geometry           x  \\\n",
       "id                                                                            \n",
       "0   5152981090339651584     10  POINT (2824875.045 1159436.528)  340.828583   \n",
       "1   5152984582148063232     14  POINT (2822264.816 1168040.708)  338.218355   \n",
       "2   5152984590737997824     14  POINT (2822152.250 1167511.806)  338.105789   \n",
       "3   5152985265047863296     13  POINT (2815796.126 1167304.569)  331.749664   \n",
       "4   5152985299407601664     13  POINT (2816020.303 1168362.492)  331.973842   \n",
       "\n",
       "            y  \n",
       "id             \n",
       "0   83.506855  \n",
       "1   92.111035  \n",
       "2   91.582133  \n",
       "3   91.374896  \n",
       "4   92.432819  "
      ]
     },
     "execution_count": 12,
     "metadata": {},
     "output_type": "execute_result"
    }
   ],
   "source": [
    "all_locs.head()"
   ]
  },
  {
   "cell_type": "markdown",
   "metadata": {},
   "source": [
    "## Read POIs"
   ]
  },
  {
   "cell_type": "code",
   "execution_count": 13,
   "metadata": {
    "execution": {
     "iopub.execute_input": "2024-08-05T09:37:37.537275Z",
     "iopub.status.busy": "2024-08-05T09:37:37.536275Z",
     "iopub.status.idle": "2024-08-05T09:37:37.836858Z",
     "shell.execute_reply": "2024-08-05T09:37:37.836397Z",
     "shell.execute_reply.started": "2024-08-05T09:37:37.537275Z"
    }
   },
   "outputs": [],
   "source": [
    "poi_file_path = f\"../data/s2_loc_poi_level10_{level}.npy\"\n",
    "poi_file = np.load(poi_file_path, allow_pickle=True)\n",
    "\n",
    "poi_df = pd.DataFrame(columns=[\"loc_id\", \"poiValues\"])\n",
    "\n",
    "poi_df[\"loc_id\"] = poi_file[()]['loc_id']\n",
    "poi_df[\"poiValues\"] = poi_file[()]['poiValues'].tolist()"
   ]
  },
  {
   "cell_type": "code",
   "execution_count": 14,
   "metadata": {
    "execution": {
     "iopub.execute_input": "2024-08-05T09:37:37.960740Z",
     "iopub.status.busy": "2024-08-05T09:37:37.960740Z",
     "iopub.status.idle": "2024-08-05T09:37:37.964909Z",
     "shell.execute_reply": "2024-08-05T09:37:37.964909Z",
     "shell.execute_reply.started": "2024-08-05T09:37:37.960740Z"
    }
   },
   "outputs": [
    {
     "data": {
      "text/plain": [
       "142575"
      ]
     },
     "execution_count": 14,
     "metadata": {},
     "output_type": "execute_result"
    }
   ],
   "source": [
    "len(poi_df)"
   ]
  },
  {
   "cell_type": "code",
   "execution_count": 15,
   "metadata": {
    "execution": {
     "iopub.execute_input": "2024-08-05T09:37:38.466971Z",
     "iopub.status.busy": "2024-08-05T09:37:38.466971Z",
     "iopub.status.idle": "2024-08-05T09:37:38.474478Z",
     "shell.execute_reply": "2024-08-05T09:37:38.474478Z",
     "shell.execute_reply.started": "2024-08-05T09:37:38.466971Z"
    }
   },
   "outputs": [
    {
     "data": {
      "text/html": [
       "<div>\n",
       "<style scoped>\n",
       "    .dataframe tbody tr th:only-of-type {\n",
       "        vertical-align: middle;\n",
       "    }\n",
       "\n",
       "    .dataframe tbody tr th {\n",
       "        vertical-align: top;\n",
       "    }\n",
       "\n",
       "    .dataframe thead th {\n",
       "        text-align: right;\n",
       "    }\n",
       "</style>\n",
       "<table border=\"1\" class=\"dataframe\">\n",
       "  <thead>\n",
       "    <tr style=\"text-align: right;\">\n",
       "      <th></th>\n",
       "      <th>loc_id</th>\n",
       "      <th>poiValues</th>\n",
       "    </tr>\n",
       "  </thead>\n",
       "  <tbody>\n",
       "    <tr>\n",
       "      <th>0</th>\n",
       "      <td>5152981090339651584</td>\n",
       "      <td>[0.14510029554367065, 0.0, 0.0, 0.0, 0.0, 0.0,...</td>\n",
       "    </tr>\n",
       "    <tr>\n",
       "      <th>1</th>\n",
       "      <td>5152983289362907136</td>\n",
       "      <td>[0.0, 0.0, 0.0, 0.0, 0.0, 0.0, 0.0, 0.0, 0.0, ...</td>\n",
       "    </tr>\n",
       "    <tr>\n",
       "      <th>2</th>\n",
       "      <td>5152984393169502208</td>\n",
       "      <td>[0.0, 0.0, 0.0, 0.0, 0.0, 0.0, 0.0, 0.0, 0.0, ...</td>\n",
       "    </tr>\n",
       "    <tr>\n",
       "      <th>3</th>\n",
       "      <td>5152984401759436800</td>\n",
       "      <td>[0.0, 0.0, 0.0, 0.0, 0.0, 0.0, 0.0, 0.0, 0.0, ...</td>\n",
       "    </tr>\n",
       "    <tr>\n",
       "      <th>4</th>\n",
       "      <td>5152984410349371392</td>\n",
       "      <td>[0.0, 0.0, 0.0, 0.0, 0.0, 0.0, 0.0, 0.0, 0.0, ...</td>\n",
       "    </tr>\n",
       "  </tbody>\n",
       "</table>\n",
       "</div>"
      ],
      "text/plain": [
       "                loc_id                                          poiValues\n",
       "0  5152981090339651584  [0.14510029554367065, 0.0, 0.0, 0.0, 0.0, 0.0,...\n",
       "1  5152983289362907136  [0.0, 0.0, 0.0, 0.0, 0.0, 0.0, 0.0, 0.0, 0.0, ...\n",
       "2  5152984393169502208  [0.0, 0.0, 0.0, 0.0, 0.0, 0.0, 0.0, 0.0, 0.0, ...\n",
       "3  5152984401759436800  [0.0, 0.0, 0.0, 0.0, 0.0, 0.0, 0.0, 0.0, 0.0, ...\n",
       "4  5152984410349371392  [0.0, 0.0, 0.0, 0.0, 0.0, 0.0, 0.0, 0.0, 0.0, ..."
      ]
     },
     "execution_count": 15,
     "metadata": {},
     "output_type": "execute_result"
    }
   ],
   "source": [
    "poi_df.head()"
   ]
  },
  {
   "cell_type": "markdown",
   "metadata": {},
   "source": [
    "## Split into train, validation and test"
   ]
  },
  {
   "cell_type": "code",
   "execution_count": 16,
   "metadata": {
    "execution": {
     "iopub.execute_input": "2024-08-05T09:37:39.513612Z",
     "iopub.status.busy": "2024-08-05T09:37:39.512613Z",
     "iopub.status.idle": "2024-08-05T09:37:39.633114Z",
     "shell.execute_reply": "2024-08-05T09:37:39.633114Z",
     "shell.execute_reply.started": "2024-08-05T09:37:39.513612Z"
    }
   },
   "outputs": [
    {
     "name": "stdout",
     "output_type": "stream",
     "text": [
      "[array(['Bicycle', 'Bus', 'Car', 'Other', 'Train', 'Tram', 'Walk'],\n",
      "      dtype=object)]\n"
     ]
    },
    {
     "name": "stderr",
     "output_type": "stream",
     "text": [
      "C:\\Users\\hong\\AppData\\Local\\Temp\\ipykernel_25352\\906571877.py:56: DeprecationWarning: DataFrameGroupBy.apply operated on the grouping columns. This behavior is deprecated, and in a future version of pandas the grouping columns will be excluded from the operation. Either pass `include_groups=False` to exclude the groupings or explicitly select the grouping columns after groupby to silence this warning.\n",
      "  totalData = totalData.groupby(\"user_id\", as_index=False).apply(getSplitDaysUser)\n"
     ]
    }
   ],
   "source": [
    "def get_train_test(sp, all_locs, poi_df):\n",
    "    sp = sp.copy()\n",
    "    sp.sort_values(by=[\"user_id\", \"start_day\", \"start_min\"], inplace=True)\n",
    "    sp.drop(columns={\"started_at\", \"finished_at\"}, inplace=True)\n",
    "    sp[\"idx\"] = sp.groupby(\"user_id\").cumcount().add(1)\n",
    "\n",
    "\n",
    "    # encoder user, 0 reserved for padding\n",
    "    enc = OrdinalEncoder(dtype=np.int64)\n",
    "    sp[\"user_id\"] = enc.fit_transform(sp[\"user_id\"].values.reshape(-1, 1)) + 1\n",
    "\n",
    "    # encode mode\n",
    "    enc = OrdinalEncoder(dtype=np.int64)\n",
    "    sp[\"mode\"] = enc.fit_transform(sp[\"mode\"].values.reshape(-1, 1)) + 1\n",
    "    print(enc.categories_)\n",
    "\n",
    "    # truncate too long duration, >2 days to 2 days\n",
    "    sp.loc[sp[\"act_duration\"] > 60 * 24 * 2, \"act_duration\"] = 60 * 24 * 2\n",
    "\n",
    "    # split the datasets, user dependent 0.7, 0.2, 0.1\n",
    "    train_data, vali_data, test_data = _split_dataset(sp)\n",
    "\n",
    "    # encode unseen locations in validation and test into 0\n",
    "    enc = OrdinalEncoder(dtype=np.int64, handle_unknown=\"use_encoded_value\", unknown_value=-1).fit(\n",
    "        all_locs[\"loc_id\"].values.reshape(-1, 1)\n",
    "    )\n",
    "    # add 1 to account for 0 padding\n",
    "    all_locs[\"loc_id\"] = enc.transform(all_locs[\"loc_id\"].values.reshape(-1, 1)) + 1\n",
    "    poi_df[\"loc_id\"] = enc.transform(poi_df[\"loc_id\"].values.reshape(-1, 1)) + 1\n",
    "    # \n",
    "    train_data[\"location_id\"] = enc.transform(train_data[\"location_id\"].values.reshape(-1, 1)) + 1\n",
    "    vali_data[\"location_id\"] = enc.transform(vali_data[\"location_id\"].values.reshape(-1, 1)) + 1\n",
    "    test_data[\"location_id\"] = enc.transform(test_data[\"location_id\"].values.reshape(-1, 1)) + 1\n",
    "\n",
    "    return train_data, vali_data, test_data, all_locs, poi_df\n",
    "\n",
    "\n",
    "def _split_dataset(totalData):\n",
    "    \"\"\"Split dataset into train, vali and test.\"\"\"\n",
    "\n",
    "    def getSplitDaysUser(df):\n",
    "        \"\"\"Split the dataset according to the tracked day of each user.\"\"\"\n",
    "        maxDay = df[\"start_day\"].max()\n",
    "        train_split = maxDay * 0.7\n",
    "        vali_split = maxDay * 0.9\n",
    "\n",
    "        df[\"Dataset\"] = \"test\"\n",
    "        df.loc[df[\"start_day\"] < train_split, \"Dataset\"] = \"train\"\n",
    "        df.loc[\n",
    "            (df[\"start_day\"] >= train_split) & (df[\"start_day\"] < vali_split),\n",
    "            \"Dataset\",\n",
    "        ] = \"vali\"\n",
    "\n",
    "        return df\n",
    "\n",
    "    totalData = totalData.groupby(\"user_id\", as_index=False).apply(getSplitDaysUser)\n",
    "\n",
    "    train_data = totalData.loc[totalData[\"Dataset\"] == \"train\"].copy()\n",
    "    vali_data = totalData.loc[totalData[\"Dataset\"] == \"vali\"].copy()\n",
    "    test_data = totalData.loc[totalData[\"Dataset\"] == \"test\"].copy()\n",
    "\n",
    "    # final cleaning\n",
    "    train_data.drop(columns={\"Dataset\"}, inplace=True)\n",
    "    vali_data.drop(columns={\"Dataset\"}, inplace=True)\n",
    "    test_data.drop(columns={\"Dataset\"}, inplace=True)\n",
    "\n",
    "    return train_data, vali_data, test_data\n",
    "\n",
    "train_data, vali_data, test_data, all_locs, poi_df = get_train_test(sp, all_locs=all_locs, poi_df=poi_df)"
   ]
  },
  {
   "cell_type": "markdown",
   "metadata": {},
   "source": [
    "### Data cleaning"
   ]
  },
  {
   "cell_type": "code",
   "execution_count": 17,
   "metadata": {
    "execution": {
     "iopub.execute_input": "2024-08-05T09:37:40.539196Z",
     "iopub.status.busy": "2024-08-05T09:37:40.539196Z",
     "iopub.status.idle": "2024-08-05T09:37:40.562119Z",
     "shell.execute_reply": "2024-08-05T09:37:40.562119Z",
     "shell.execute_reply.started": "2024-08-05T09:37:40.539196Z"
    }
   },
   "outputs": [],
   "source": [
    "train_data = train_data.merge(all_locs[[\"loc_id\", \"x\", \"y\"]], left_on=\"location_id\", right_on=\"loc_id\")\n",
    "vali_data = vali_data.merge(all_locs[[\"loc_id\", \"x\", \"y\"]], left_on=\"location_id\", right_on=\"loc_id\")\n",
    "test_data = test_data.merge(all_locs[[\"loc_id\", \"x\", \"y\"]], left_on=\"location_id\", right_on=\"loc_id\")\n",
    "\n",
    "train_data.sort_values(by=[\"user_id\", \"start_day\", \"start_min\"], inplace=True)\n",
    "vali_data.sort_values(by=[\"user_id\", \"start_day\", \"start_min\"], inplace=True)\n",
    "test_data.sort_values(by=[\"user_id\", \"start_day\", \"start_min\"], inplace=True)\n",
    "\n",
    "# drop unvisited locations\n",
    "poi_df = poi_df.loc[poi_df[\"loc_id\"]!=0]\n",
    "poi_df = poi_df.sort_values(by=\"loc_id\")\n",
    "poi_df = poi_df.reset_index(drop=True)"
   ]
  },
  {
   "cell_type": "markdown",
   "metadata": {},
   "source": [
    "### Consistency check"
   ]
  },
  {
   "cell_type": "code",
   "execution_count": 18,
   "metadata": {
    "execution": {
     "iopub.execute_input": "2024-08-05T09:37:41.412045Z",
     "iopub.status.busy": "2024-08-05T09:37:41.411044Z",
     "iopub.status.idle": "2024-08-05T09:37:41.419971Z",
     "shell.execute_reply": "2024-08-05T09:37:41.419971Z",
     "shell.execute_reply.started": "2024-08-05T09:37:41.412045Z"
    }
   },
   "outputs": [
    {
     "data": {
      "text/html": [
       "<div>\n",
       "<style scoped>\n",
       "    .dataframe tbody tr th:only-of-type {\n",
       "        vertical-align: middle;\n",
       "    }\n",
       "\n",
       "    .dataframe tbody tr th {\n",
       "        vertical-align: top;\n",
       "    }\n",
       "\n",
       "    .dataframe thead th {\n",
       "        text-align: right;\n",
       "    }\n",
       "</style>\n",
       "<table border=\"1\" class=\"dataframe\">\n",
       "  <thead>\n",
       "    <tr style=\"text-align: right;\">\n",
       "      <th></th>\n",
       "      <th>loc_id</th>\n",
       "      <th>poiValues</th>\n",
       "    </tr>\n",
       "  </thead>\n",
       "  <tbody>\n",
       "    <tr>\n",
       "      <th>0</th>\n",
       "      <td>1</td>\n",
       "      <td>[0.14510029554367065, 0.0, 0.0, 0.0, 0.0, 0.0,...</td>\n",
       "    </tr>\n",
       "    <tr>\n",
       "      <th>1</th>\n",
       "      <td>2</td>\n",
       "      <td>[0.5964587926864624, 0.0, 0.021682066842913628...</td>\n",
       "    </tr>\n",
       "    <tr>\n",
       "      <th>2</th>\n",
       "      <td>3</td>\n",
       "      <td>[0.6770832538604736, 0.0104166679084301, 0.010...</td>\n",
       "    </tr>\n",
       "    <tr>\n",
       "      <th>3</th>\n",
       "      <td>4</td>\n",
       "      <td>[0.0, 0.0, 0.0, 0.0, 0.0, 0.0, 0.0, 0.0, 0.0, ...</td>\n",
       "    </tr>\n",
       "    <tr>\n",
       "      <th>4</th>\n",
       "      <td>5</td>\n",
       "      <td>[0.0, 0.0, 0.0, 0.278827428817749, 0.0, 0.0, 0...</td>\n",
       "    </tr>\n",
       "    <tr>\n",
       "      <th>...</th>\n",
       "      <td>...</td>\n",
       "      <td>...</td>\n",
       "    </tr>\n",
       "    <tr>\n",
       "      <th>28737</th>\n",
       "      <td>28738</td>\n",
       "      <td>[0.0, 0.0, 0.0, 0.0, 0.0, 0.0, 0.0, 0.0, 0.0, ...</td>\n",
       "    </tr>\n",
       "    <tr>\n",
       "      <th>28738</th>\n",
       "      <td>28739</td>\n",
       "      <td>[0.8062499761581421, 0.0, 0.0, 0.0, 0.0, 0.0, ...</td>\n",
       "    </tr>\n",
       "    <tr>\n",
       "      <th>28739</th>\n",
       "      <td>28740</td>\n",
       "      <td>[0.8551950454711914, 0.0, 0.0, 0.0, 0.0, 0.0, ...</td>\n",
       "    </tr>\n",
       "    <tr>\n",
       "      <th>28740</th>\n",
       "      <td>28741</td>\n",
       "      <td>[0.7271366119384766, 0.0, 0.0, 0.0, 0.0, 0.0, ...</td>\n",
       "    </tr>\n",
       "    <tr>\n",
       "      <th>28741</th>\n",
       "      <td>28742</td>\n",
       "      <td>[0.46911028027534485, 0.0, 0.0, 0.0, 0.0, 0.0,...</td>\n",
       "    </tr>\n",
       "  </tbody>\n",
       "</table>\n",
       "<p>28742 rows × 2 columns</p>\n",
       "</div>"
      ],
      "text/plain": [
       "       loc_id                                          poiValues\n",
       "0           1  [0.14510029554367065, 0.0, 0.0, 0.0, 0.0, 0.0,...\n",
       "1           2  [0.5964587926864624, 0.0, 0.021682066842913628...\n",
       "2           3  [0.6770832538604736, 0.0104166679084301, 0.010...\n",
       "3           4  [0.0, 0.0, 0.0, 0.0, 0.0, 0.0, 0.0, 0.0, 0.0, ...\n",
       "4           5  [0.0, 0.0, 0.0, 0.278827428817749, 0.0, 0.0, 0...\n",
       "...       ...                                                ...\n",
       "28737   28738  [0.0, 0.0, 0.0, 0.0, 0.0, 0.0, 0.0, 0.0, 0.0, ...\n",
       "28738   28739  [0.8062499761581421, 0.0, 0.0, 0.0, 0.0, 0.0, ...\n",
       "28739   28740  [0.8551950454711914, 0.0, 0.0, 0.0, 0.0, 0.0, ...\n",
       "28740   28741  [0.7271366119384766, 0.0, 0.0, 0.0, 0.0, 0.0, ...\n",
       "28741   28742  [0.46911028027534485, 0.0, 0.0, 0.0, 0.0, 0.0,...\n",
       "\n",
       "[28742 rows x 2 columns]"
      ]
     },
     "execution_count": 18,
     "metadata": {},
     "output_type": "execute_result"
    }
   ],
   "source": [
    "poi_df"
   ]
  },
  {
   "cell_type": "code",
   "execution_count": 19,
   "metadata": {
    "execution": {
     "iopub.execute_input": "2024-08-05T09:37:41.969932Z",
     "iopub.status.busy": "2024-08-05T09:37:41.969932Z",
     "iopub.status.idle": "2024-08-05T09:37:41.974946Z",
     "shell.execute_reply": "2024-08-05T09:37:41.974946Z",
     "shell.execute_reply.started": "2024-08-05T09:37:41.969932Z"
    }
   },
   "outputs": [
    {
     "data": {
      "text/plain": [
       "'Max loc id 28742, min loc id 1, unique loc id:28742'"
      ]
     },
     "execution_count": 19,
     "metadata": {},
     "output_type": "execute_result"
    }
   ],
   "source": [
    "f\"Max loc id {all_locs.loc_id.max()}, min loc id {all_locs.loc_id.min()}, unique loc id:{all_locs.loc_id.unique().shape[0]}\""
   ]
  },
  {
   "cell_type": "code",
   "execution_count": 20,
   "metadata": {
    "execution": {
     "iopub.execute_input": "2024-08-05T09:37:42.369690Z",
     "iopub.status.busy": "2024-08-05T09:37:42.369690Z",
     "iopub.status.idle": "2024-08-05T09:37:42.374717Z",
     "shell.execute_reply": "2024-08-05T09:37:42.374717Z",
     "shell.execute_reply.started": "2024-08-05T09:37:42.369690Z"
    }
   },
   "outputs": [
    {
     "data": {
      "text/plain": [
       "'Max loc id 28742, min loc id 1, unique loc id:28742'"
      ]
     },
     "execution_count": 20,
     "metadata": {},
     "output_type": "execute_result"
    }
   ],
   "source": [
    "f\"Max loc id {poi_df.loc_id.max()}, min loc id {poi_df.loc_id.min()}, unique loc id:{poi_df.loc_id.unique().shape[0]}\""
   ]
  },
  {
   "cell_type": "code",
   "execution_count": 21,
   "metadata": {
    "execution": {
     "iopub.execute_input": "2024-08-05T09:37:43.178303Z",
     "iopub.status.busy": "2024-08-05T09:37:43.178303Z",
     "iopub.status.idle": "2024-08-05T09:37:43.182573Z",
     "shell.execute_reply": "2024-08-05T09:37:43.182573Z",
     "shell.execute_reply.started": "2024-08-05T09:37:43.178303Z"
    }
   },
   "outputs": [
    {
     "data": {
      "text/plain": [
       "'Max loc id 28722, min loc id 149, unique loc id:2224'"
      ]
     },
     "execution_count": 21,
     "metadata": {},
     "output_type": "execute_result"
    }
   ],
   "source": [
    "f\"Max loc id {train_data.loc_id.max()}, min loc id {train_data.loc_id.min()}, unique loc id:{train_data.loc_id.unique().shape[0]}\""
   ]
  },
  {
   "cell_type": "code",
   "execution_count": 22,
   "metadata": {
    "execution": {
     "iopub.execute_input": "2024-08-05T09:37:43.987323Z",
     "iopub.status.busy": "2024-08-05T09:37:43.986325Z",
     "iopub.status.idle": "2024-08-05T09:37:43.991323Z",
     "shell.execute_reply": "2024-08-05T09:37:43.991323Z",
     "shell.execute_reply.started": "2024-08-05T09:37:43.987323Z"
    }
   },
   "outputs": [
    {
     "data": {
      "text/plain": [
       "'Max loc id 28615, min loc id 30, unique loc id:1093'"
      ]
     },
     "execution_count": 22,
     "metadata": {},
     "output_type": "execute_result"
    }
   ],
   "source": [
    "f\"Max loc id {vali_data.loc_id.max()}, min loc id {vali_data.loc_id.min()}, unique loc id:{vali_data.loc_id.unique().shape[0]}\""
   ]
  },
  {
   "cell_type": "code",
   "execution_count": 23,
   "metadata": {
    "execution": {
     "iopub.execute_input": "2024-08-05T09:37:45.092498Z",
     "iopub.status.busy": "2024-08-05T09:37:45.092498Z",
     "iopub.status.idle": "2024-08-05T09:37:45.097005Z",
     "shell.execute_reply": "2024-08-05T09:37:45.097005Z",
     "shell.execute_reply.started": "2024-08-05T09:37:45.092498Z"
    }
   },
   "outputs": [
    {
     "data": {
      "text/plain": [
       "'Max loc id 28650, min loc id 584, unique loc id:698'"
      ]
     },
     "execution_count": 23,
     "metadata": {},
     "output_type": "execute_result"
    }
   ],
   "source": [
    "f\"Max loc id {test_data.loc_id.max()}, min loc id {test_data.loc_id.min()}, unique loc id:{test_data.loc_id.unique().shape[0]}\""
   ]
  },
  {
   "cell_type": "code",
   "execution_count": 24,
   "metadata": {
    "execution": {
     "iopub.execute_input": "2024-08-05T09:37:45.513568Z",
     "iopub.status.busy": "2024-08-05T09:37:45.512462Z",
     "iopub.status.idle": "2024-08-05T09:37:45.517457Z",
     "shell.execute_reply": "2024-08-05T09:37:45.517457Z",
     "shell.execute_reply.started": "2024-08-05T09:37:45.513568Z"
    }
   },
   "outputs": [
    {
     "data": {
      "text/plain": [
       "2880.0"
      ]
     },
     "execution_count": 24,
     "metadata": {},
     "output_type": "execute_result"
    }
   ],
   "source": [
    "train_data[\"act_duration\"].max()"
   ]
  },
  {
   "cell_type": "markdown",
   "metadata": {},
   "source": [
    "## Construct sequence pairs for training"
   ]
  },
  {
   "cell_type": "code",
   "execution_count": 25,
   "metadata": {
    "execution": {
     "iopub.execute_input": "2024-08-05T09:37:46.305464Z",
     "iopub.status.busy": "2024-08-05T09:37:46.305464Z",
     "iopub.status.idle": "2024-08-05T09:37:46.313588Z",
     "shell.execute_reply": "2024-08-05T09:37:46.313588Z",
     "shell.execute_reply.started": "2024-08-05T09:37:46.305464Z"
    }
   },
   "outputs": [],
   "source": [
    "def getValidSequenceUser(df):\n",
    "\n",
    "    data_ls = []\n",
    "    df = df.reset_index(drop=True).copy()\n",
    "\n",
    "    min_days = df[\"start_day\"].min()\n",
    "    df[\"diff_day\"] = df[\"start_day\"] - min_days\n",
    "\n",
    "    for index, row in df.iterrows():\n",
    "        # exclude the first records\n",
    "        if row[\"diff_day\"] < src_min_days:\n",
    "            continue\n",
    "\n",
    "        src_trace = df.iloc[: index + 1]\n",
    "        src_trace = src_trace.loc[(src_trace[\"start_day\"] >= (row[\"start_day\"] - src_max_days))]\n",
    "        if len(src_trace) < 5:\n",
    "            continue\n",
    "\n",
    "        tgt_trace = df.iloc[index + 1: ]\n",
    "        # tgt_trace = tgt_trace.loc[(tgt_trace[\"start_day\"] <= (row[\"start_day\"] + tgt_max_days))]\n",
    "\n",
    "        if ((tgt_trace[\"start_day\"].max() - tgt_trace[\"start_day\"].min()) < tgt_min_days) or len(tgt_trace) <2:\n",
    "            continue\n",
    "        if len(tgt_trace) > 256:\n",
    "            tgt_trace = tgt_trace.head(256)\n",
    "\n",
    "        curr_dict = {}\n",
    "        curr_dict[\"src\"] = src_trace[\"location_id\"].values\n",
    "        curr_dict[\"src_xy\"] = src_trace[[\"x\", \"y\"]].values\n",
    "        curr_dict[\"src_duration\"] = src_trace[\"act_duration\"].values.astype(int)\n",
    "        curr_dict[\"src_mode\"] = src_trace[\"mode\"].values\n",
    "        curr_dict[\"src_user\"] = src_trace[\"user_id\"].values[0]\n",
    "        curr_dict[\"src_weekday\"] = src_trace[\"weekday\"].values\n",
    "        curr_dict[\"src_startmin\"] = src_trace[\"start_min\"].values\n",
    "        # for mechanistic models\n",
    "        curr_dict[\"src_idx\"] = src_trace[\"idx\"].values[-1]\n",
    "\n",
    "\n",
    "        curr_dict[\"tgt\"] = tgt_trace[\"location_id\"].values\n",
    "        curr_dict[\"tgt_xy\"] = tgt_trace[[\"x\", \"y\"]].values\n",
    "        curr_dict[\"tgt_duration\"] = tgt_trace[\"act_duration\"].values.astype(int)\n",
    "        curr_dict[\"tgt_mode\"] = tgt_trace[\"mode\"].values\n",
    "        curr_dict[\"tgt_weekday\"] = tgt_trace[\"weekday\"].values\n",
    "        curr_dict[\"tgt_startmin\"] = tgt_trace[\"start_min\"].values\n",
    "\n",
    "        data_ls.append(curr_dict)\n",
    "\n",
    "    return data_ls\n",
    "\n",
    "def applyParallel(dfGrouped, func, n_jobs, print_progress=True, **kwargs):\n",
    "    return Parallel(n_jobs=n_jobs)(\n",
    "        delayed(func)(group, **kwargs) for _, group in tqdm(dfGrouped, disable=not print_progress)\n",
    "    )\n",
    "\n",
    "def get_valid_data(df):\n",
    "    valid_data = applyParallel(df.groupby(\"user_id\"),getValidSequenceUser, n_jobs=-1)\n",
    "    return [item for sublist in valid_data for item in sublist]"
   ]
  },
  {
   "cell_type": "code",
   "execution_count": 26,
   "metadata": {
    "execution": {
     "iopub.execute_input": "2024-08-05T09:37:46.746907Z",
     "iopub.status.busy": "2024-08-05T09:37:46.746907Z",
     "iopub.status.idle": "2024-08-05T09:37:55.246216Z",
     "shell.execute_reply": "2024-08-05T09:37:55.246216Z",
     "shell.execute_reply.started": "2024-08-05T09:37:46.746907Z"
    }
   },
   "outputs": [
    {
     "name": "stderr",
     "output_type": "stream",
     "text": [
      "100%|██████████████████████████████████████████████████████████████████████████████████| 50/50 [00:01<00:00, 39.21it/s]\n",
      "100%|████████████████████████████████████████████████████████████████████████████████| 50/50 [00:00<00:00, 4545.78it/s]\n",
      "100%|████████████████████████████████████████████████████████████████████████████████| 50/50 [00:00<00:00, 4542.44it/s]\n"
     ]
    }
   ],
   "source": [
    "valid_train_data = get_valid_data(train_data)\n",
    "valid_validation_data = get_valid_data(vali_data)\n",
    "valid_test_data = get_valid_data(test_data)"
   ]
  },
  {
   "cell_type": "markdown",
   "metadata": {},
   "source": [
    "### Sequence statistics"
   ]
  },
  {
   "cell_type": "code",
   "execution_count": 27,
   "metadata": {
    "execution": {
     "iopub.execute_input": "2024-08-05T09:37:55.248222Z",
     "iopub.status.busy": "2024-08-05T09:37:55.247220Z",
     "iopub.status.idle": "2024-08-05T09:37:55.255642Z",
     "shell.execute_reply": "2024-08-05T09:37:55.255642Z",
     "shell.execute_reply.started": "2024-08-05T09:37:55.248222Z"
    }
   },
   "outputs": [
    {
     "data": {
      "text/plain": [
       "{'src': array([19745, 19745, 19410, 19410, 19410, 19745, 20901, 19745, 19745,\n",
       "        19410, 19745, 19410, 19745, 19745, 19745, 19410, 19745, 20892,\n",
       "        19410, 20892, 19410, 19411, 19745, 19410, 19745, 19410, 19745,\n",
       "        19745, 19410], dtype=int64),\n",
       " 'src_xy': array([[152.31582743, 189.88888508],\n",
       "        [152.31582743, 189.88888508],\n",
       "        [161.94605088, 173.06391475],\n",
       "        [161.94605088, 173.06391475],\n",
       "        [161.94605088, 173.06391475],\n",
       "        [152.31582743, 189.88888508],\n",
       "        [141.54818065, 186.80662903],\n",
       "        [152.31582743, 189.88888508],\n",
       "        [152.31582743, 189.88888508],\n",
       "        [161.94605088, 173.06391475],\n",
       "        [152.31582743, 189.88888508],\n",
       "        [161.94605088, 173.06391475],\n",
       "        [152.31582743, 189.88888508],\n",
       "        [152.31582743, 189.88888508],\n",
       "        [152.31582743, 189.88888508],\n",
       "        [161.94605088, 173.06391475],\n",
       "        [152.31582743, 189.88888508],\n",
       "        [141.91755114, 187.59437196],\n",
       "        [161.94605088, 173.06391475],\n",
       "        [141.91755114, 187.59437196],\n",
       "        [161.94605088, 173.06391475],\n",
       "        [162.39260745, 173.02108717],\n",
       "        [152.31582743, 189.88888508],\n",
       "        [161.94605088, 173.06391475],\n",
       "        [152.31582743, 189.88888508],\n",
       "        [161.94605088, 173.06391475],\n",
       "        [152.31582743, 189.88888508],\n",
       "        [152.31582743, 189.88888508],\n",
       "        [161.94605088, 173.06391475]]),\n",
       " 'src_duration': array([ 692,   74,   69,  100,   39,  517,  665, 2324,  455,  626,  823,\n",
       "         599, 2603,  216,  891,  624,  215,  548,  603,  837,  411,  169,\n",
       "         918,  616,  811,  626,  910, 1436,  680]),\n",
       " 'src_mode': array([3, 3, 3, 7, 7, 3, 3, 3, 3, 3, 3, 3, 3, 3, 3, 3, 3, 3, 5, 5, 5, 7,\n",
       "        3, 3, 3, 3, 3, 3, 3], dtype=int64),\n",
       " 'src_user': 1,\n",
       " 'src_weekday': array([3, 4, 4, 4, 4, 4, 4, 5, 6, 0, 0, 1, 1, 3, 3, 4, 4, 4, 5, 5, 6, 6,\n",
       "        6, 0, 0, 1, 1, 2, 3]),\n",
       " 'src_startmin': array([1147,  400,  475,  544,  644,  684, 1202,  427, 1312,  327,  953,\n",
       "         337,  937,  660,  877,  329,  953, 1168,  277,  880,  278,  690,\n",
       "         860,  338,  955,  326,  953,  424,  420]),\n",
       " 'src_idx': 29,\n",
       " 'tgt': array([19745, 19410, 19717, 19745, 20892, 19745, 19410, 19410, 19745,\n",
       "        19745, 23872, 19745, 19410, 19410, 19745, 19410, 19745, 20892,\n",
       "        19410, 21779, 20892, 19410, 19708, 19745, 19410, 19745, 19745,\n",
       "        19745, 20892, 20891, 20892, 19745, 19745, 21247, 19745, 19410,\n",
       "        19745, 20892, 19410, 17223, 19745, 19410, 19745, 19410, 19745,\n",
       "        19410, 19745, 19410, 19745, 20880, 20892, 21779, 20892, 21251,\n",
       "        20892, 19745, 19410, 19410, 19745, 19410, 19745, 23872, 17922,\n",
       "        19183, 20892, 19745], dtype=int64),\n",
       " 'tgt_xy': array([[152.31582743, 189.88888508],\n",
       "        [161.94605088, 173.06391475],\n",
       "        [157.57652479, 188.83411195],\n",
       "        [152.31582743, 189.88888508],\n",
       "        [141.91755114, 187.59437196],\n",
       "        [152.31582743, 189.88888508],\n",
       "        [161.94605088, 173.06391475],\n",
       "        [161.94605088, 173.06391475],\n",
       "        [152.31582743, 189.88888508],\n",
       "        [152.31582743, 189.88888508],\n",
       "        [200.10783766, 172.13992479],\n",
       "        [152.31582743, 189.88888508],\n",
       "        [161.94605088, 173.06391475],\n",
       "        [161.94605088, 173.06391475],\n",
       "        [152.31582743, 189.88888508],\n",
       "        [161.94605088, 173.06391475],\n",
       "        [152.31582743, 189.88888508],\n",
       "        [141.91755114, 187.59437196],\n",
       "        [161.94605088, 173.06391475],\n",
       "        [138.81289523, 182.95485276],\n",
       "        [141.91755114, 187.59437196],\n",
       "        [161.94605088, 173.06391475],\n",
       "        [154.84845898, 186.35194128],\n",
       "        [152.31582743, 189.88888508],\n",
       "        [161.94605088, 173.06391475],\n",
       "        [152.31582743, 189.88888508],\n",
       "        [152.31582743, 189.88888508],\n",
       "        [152.31582743, 189.88888508],\n",
       "        [141.91755114, 187.59437196],\n",
       "        [141.57007543, 188.17664188],\n",
       "        [141.91755114, 187.59437196],\n",
       "        [152.31582743, 189.88888508],\n",
       "        [152.31582743, 189.88888508],\n",
       "        [127.72825717, 191.70301429],\n",
       "        [152.31582743, 189.88888508],\n",
       "        [161.94605088, 173.06391475],\n",
       "        [152.31582743, 189.88888508],\n",
       "        [141.91755114, 187.59437196],\n",
       "        [161.94605088, 173.06391475],\n",
       "        [199.92353437, 175.99085057],\n",
       "        [152.31582743, 189.88888508],\n",
       "        [161.94605088, 173.06391475],\n",
       "        [152.31582743, 189.88888508],\n",
       "        [161.94605088, 173.06391475],\n",
       "        [152.31582743, 189.88888508],\n",
       "        [161.94605088, 173.06391475],\n",
       "        [152.31582743, 189.88888508],\n",
       "        [161.94605088, 173.06391475],\n",
       "        [152.31582743, 189.88888508],\n",
       "        [142.50475219, 190.8320198 ],\n",
       "        [141.91755114, 187.59437196],\n",
       "        [138.81289523, 182.95485276],\n",
       "        [141.91755114, 187.59437196],\n",
       "        [128.2692022 , 192.2002846 ],\n",
       "        [141.91755114, 187.59437196],\n",
       "        [152.31582743, 189.88888508],\n",
       "        [161.94605088, 173.06391475],\n",
       "        [161.94605088, 173.06391475],\n",
       "        [152.31582743, 189.88888508],\n",
       "        [161.94605088, 173.06391475],\n",
       "        [152.31582743, 189.88888508],\n",
       "        [200.10783766, 172.13992479],\n",
       "        [180.10649915, 180.08610739],\n",
       "        [143.95736285, 181.3643422 ],\n",
       "        [141.91755114, 187.59437196],\n",
       "        [152.31582743, 189.88888508]]),\n",
       " 'tgt_duration': array([ 784,  653,   89, 1373, 1307,  835,  501,  212, 1057, 1051,  251,\n",
       "        1256,  435,  266,  617,  678,  226,  537,  600,  170,  729,  597,\n",
       "         269,  730,  663,  876,  184,  497,  656,  100,  154,   46,  162,\n",
       "         197,  558,  737,  200,  504,  697,  337,  581,  643,  765,  662,\n",
       "        2880,  688,  880,  703, 1029,   52,  122,  177, 1433,   94, 1166,\n",
       "         973,  416,  294,  737,  705,  681,  268,   82,  135,  156,  933]),\n",
       " 'tgt_mode': array([3, 3, 3, 3, 3, 3, 3, 7, 3, 3, 3, 3, 3, 7, 3, 3, 3, 3, 5, 5, 3, 5,\n",
       "        3, 3, 3, 3, 5, 3, 3, 7, 3, 3, 3, 5, 3, 3, 3, 3, 5, 3, 3, 3, 3, 3,\n",
       "        3, 3, 3, 3, 3, 5, 3, 3, 3, 3, 3, 3, 3, 7, 3, 3, 3, 3, 3, 3, 3, 3],\n",
       "       dtype=int64),\n",
       " 'tgt_weekday': array([3, 4, 4, 4, 5, 6, 0, 0, 0, 1, 2, 2, 3, 3, 3, 4, 4, 4, 5, 5, 5, 6,\n",
       "        6, 6, 0, 0, 1, 1, 1, 2, 2, 2, 2, 2, 2, 3, 3, 3, 4, 4, 4, 5, 5, 6,\n",
       "        6, 2, 2, 3, 3, 4, 4, 4, 4, 5, 5, 6, 0, 0, 0, 1, 1, 2, 2, 2, 2, 2]),\n",
       " 'tgt_startmin': array([1101,  445, 1099, 1189, 1122,  989,  385,  886, 1099,  716,  328,\n",
       "         579,  396,  832, 1099,  276,  955, 1181,  279,  879, 1050,  339,\n",
       "         936, 1205,  495, 1159,  596,  780, 1278,  495,  596,  750,  797,\n",
       "         959, 1157,  275, 1013, 1213,  278,  976, 1313,  455, 1098,  424,\n",
       "        1087,  326, 1015,  455, 1159,  748,  800,  922, 1100, 1093, 1187,\n",
       "         914,  447,  864, 1159,  456, 1161,  403,  672,  754,  889, 1045])}"
      ]
     },
     "execution_count": 27,
     "metadata": {},
     "output_type": "execute_result"
    }
   ],
   "source": [
    "valid_train_data[0]"
   ]
  },
  {
   "cell_type": "code",
   "execution_count": 28,
   "metadata": {
    "execution": {
     "iopub.execute_input": "2024-08-05T09:37:55.257649Z",
     "iopub.status.busy": "2024-08-05T09:37:55.256648Z",
     "iopub.status.idle": "2024-08-05T09:37:55.273223Z",
     "shell.execute_reply": "2024-08-05T09:37:55.273223Z",
     "shell.execute_reply.started": "2024-08-05T09:37:55.257649Z"
    }
   },
   "outputs": [
    {
     "data": {
      "text/plain": [
       "(18179, 4204, 1558)"
      ]
     },
     "execution_count": 28,
     "metadata": {},
     "output_type": "execute_result"
    }
   ],
   "source": [
    "len(valid_train_data), len(valid_validation_data), len(valid_test_data)"
   ]
  },
  {
   "cell_type": "code",
   "execution_count": 29,
   "metadata": {
    "execution": {
     "iopub.execute_input": "2024-08-05T09:37:55.275695Z",
     "iopub.status.busy": "2024-08-05T09:37:55.275695Z",
     "iopub.status.idle": "2024-08-05T09:37:55.298537Z",
     "shell.execute_reply": "2024-08-05T09:37:55.298537Z",
     "shell.execute_reply.started": "2024-08-05T09:37:55.275695Z"
    }
   },
   "outputs": [
    {
     "data": {
      "text/plain": [
       "((189, 256), (215, 256), (141, 256))"
      ]
     },
     "execution_count": 29,
     "metadata": {},
     "output_type": "execute_result"
    }
   ],
   "source": [
    "def get_max_len(ls):\n",
    "\n",
    "    max_src_len = 0\n",
    "    max_tgt_len = 0\n",
    "    for seq in ls:\n",
    "        seq_len = len(seq[\"src\"])\n",
    "        tgt_len = len(seq[\"tgt\"])\n",
    "\n",
    "        if seq_len > max_src_len:\n",
    "            max_src_len = seq_len\n",
    "        if tgt_len > max_tgt_len:\n",
    "            max_tgt_len = tgt_len\n",
    "\n",
    "    return max_src_len, max_tgt_len\n",
    "\n",
    "get_max_len(valid_train_data), get_max_len(valid_validation_data), get_max_len(valid_test_data)"
   ]
  },
  {
   "cell_type": "markdown",
   "metadata": {},
   "source": [
    "## Saving"
   ]
  },
  {
   "cell_type": "code",
   "execution_count": 30,
   "metadata": {
    "execution": {
     "iopub.execute_input": "2024-08-05T09:38:00.329368Z",
     "iopub.status.busy": "2024-08-05T09:38:00.329368Z",
     "iopub.status.idle": "2024-08-05T09:38:03.064778Z",
     "shell.execute_reply": "2024-08-05T09:38:03.064778Z",
     "shell.execute_reply.started": "2024-08-05T09:38:00.329368Z"
    }
   },
   "outputs": [],
   "source": [
    "# sequences\n",
    "save_pk_file(os.path.join(\"..\", \"data\", \"diff\", f\"train_level{level}_{src_min_days}_{tgt_min_days}_{data_type}.pk\"), valid_train_data)\n",
    "\n",
    "save_pk_file(os.path.join(\"..\", \"data\", \"diff\", f\"valid_level{level}_{src_min_days}_{tgt_min_days}_{data_type}.pk\"), valid_validation_data)\n",
    "\n",
    "save_pk_file(os.path.join(\"..\", \"data\", \"diff\", f\"test_level{level}_{src_min_days}_{tgt_min_days}_{data_type}.pk\"), valid_test_data)\n"
   ]
  },
  {
   "cell_type": "code",
   "execution_count": 125,
   "metadata": {
    "execution": {
     "iopub.execute_input": "2024-06-06T11:44:48.856082Z",
     "iopub.status.busy": "2024-06-06T11:44:48.855085Z",
     "iopub.status.idle": "2024-06-06T11:44:49.211589Z",
     "shell.execute_reply": "2024-06-06T11:44:49.209595Z",
     "shell.execute_reply.started": "2024-06-06T11:44:48.856082Z"
    }
   },
   "outputs": [],
   "source": [
    "# POI\n",
    "\n",
    "data = {}\n",
    "\n",
    "data[\"poiValues\"] = np.vstack(poi_df[\"poiValues\"].values)\n",
    "data[\"loc_id\"] = poi_df[\"loc_id\"].values\n",
    "\n",
    "np.save(os.path.join(\"..\", \"data\", \"diff\", f\"poi_level{level}.npy\"),data)\n"
   ]
  },
  {
   "cell_type": "markdown",
   "metadata": {},
   "source": [
    "## Test reading"
   ]
  },
  {
   "cell_type": "code",
   "execution_count": 16,
   "metadata": {},
   "outputs": [
    {
     "data": {
      "text/plain": [
       "{'src': array([10700, 10700, 10516, 10516, 10516, 10700, 11214, 10700, 10700,\n",
       "        10516, 10700, 10516, 10700, 10700, 10700, 10516, 10700, 11208,\n",
       "        10516, 11208, 10516, 10517, 10700, 10516, 10700, 10516, 10700,\n",
       "        10700, 10516], dtype=int64),\n",
       " 'src_duration': array([ 692,   74,   69,  100,   39,  517,  665, 2324,  455,  626,  823,\n",
       "         599, 2603,  216,  891,  624,  215,  548,  603,  837,  411,  169,\n",
       "         918,  616,  811,  626,  910, 1436,  680]),\n",
       " 'src_user': 1,\n",
       " 'src_weekday': array([3, 4, 4, 4, 4, 4, 4, 5, 6, 0, 0, 1, 1, 3, 3, 4, 4, 4, 5, 5, 6, 6,\n",
       "        6, 0, 0, 1, 1, 2, 3]),\n",
       " 'src_startmin': array([1147,  411,  519,  563,  647,  728, 1224,  448, 1329,  400, 1016,\n",
       "         403, 1016,  817, 1184,  402, 1017, 1189,  324,  920,  319,  693,\n",
       "         924,  403, 1015,  405, 1015,  757,  525]),\n",
       " 'tgt': array([10700, 10516, 10686, 10700, 11208, 10700, 10516, 10516, 10700,\n",
       "        10700, 12615, 10700, 10516, 10516, 10700, 10516, 10700, 11208,\n",
       "        10516, 11541, 11208, 10516, 10681, 10700, 10516, 10700, 10700,\n",
       "        10700, 11208, 11208, 11208, 10700, 10700, 11318, 10700, 10516,\n",
       "        10700, 11208], dtype=int64),\n",
       " 'tgt_duration': array([ 784,  653,   89, 1373, 1307,  835,  501,  212, 1057, 1051,  251,\n",
       "        1256,  435,  266,  617,  678,  226,  537,  600,  170,  729,  597,\n",
       "         269,  730,  663,  876,  184,  497,  656,  100,  154,   46,  162,\n",
       "         197,  558,  737,  200,  504]),\n",
       " 'tgt_weekday': array([3, 4, 4, 4, 5, 6, 0, 0, 0, 1, 2, 2, 3, 3, 3, 4, 4, 4, 5, 5, 5, 6,\n",
       "        6, 6, 0, 0, 1, 1, 1, 2, 2, 2, 2, 2, 2, 3, 3, 3]),\n",
       " 'tgt_startmin': array([1151,  522, 1156, 1198, 1155, 1089,  465,  890, 1165,  814,  417,\n",
       "         644,  472,  835, 1151,  342, 1014, 1204,  325,  919, 1069,  385,\n",
       "         966, 1213,  541, 1206,  687,  864, 1296,  498,  639,  771,  897,\n",
       "        1028, 1251,  339, 1078, 1237])}"
      ]
     },
     "execution_count": 16,
     "metadata": {},
     "output_type": "execute_result"
    }
   ],
   "source": [
    "loaded = pickle.load(open(os.path.join(\"..\", \"data\", \"diff\", f\"train_level10_13_{src_min_days}_{tgt_min_days}_tiny.pk\"), \"rb\"))\n",
    "loaded[0]"
   ]
  },
  {
   "cell_type": "markdown",
   "metadata": {},
   "source": [
    "# Pairwise distance matrix"
   ]
  },
  {
   "cell_type": "code",
   "execution_count": 14,
   "metadata": {
    "execution": {
     "iopub.execute_input": "2024-03-18T21:09:13.157321Z",
     "iopub.status.busy": "2024-03-18T21:09:13.156324Z",
     "iopub.status.idle": "2024-03-18T21:09:13.439965Z",
     "shell.execute_reply": "2024-03-18T21:09:13.439965Z",
     "shell.execute_reply.started": "2024-03-18T21:09:13.156324Z"
    }
   },
   "outputs": [],
   "source": [
    "visited_locs = pd.read_csv(\"../data/s2_loc_visited_level10_13.csv\", index_col=\"id\").sort_values(by=\"loc_id\")\n",
    "visited_locs[\"geometry\"] = visited_locs[\"geometry\"].apply(wkt.loads)\n",
    "visited_locs = gpd.GeoDataFrame(visited_locs, geometry=\"geometry\", crs=\"EPSG:4326\")\n",
    "\n",
    "visited_locs = visited_locs.to_crs(\"EPSG:2056\")"
   ]
  },
  {
   "cell_type": "code",
   "execution_count": 15,
   "metadata": {
    "execution": {
     "iopub.execute_input": "2024-03-18T21:09:14.671015Z",
     "iopub.status.busy": "2024-03-18T21:09:14.671015Z",
     "iopub.status.idle": "2024-03-18T21:09:14.690172Z",
     "shell.execute_reply": "2024-03-18T21:09:14.689173Z",
     "shell.execute_reply.started": "2024-03-18T21:09:14.671015Z"
    }
   },
   "outputs": [
    {
     "data": {
      "text/html": [
       "<div>\n",
       "<style scoped>\n",
       "    .dataframe tbody tr th:only-of-type {\n",
       "        vertical-align: middle;\n",
       "    }\n",
       "\n",
       "    .dataframe tbody tr th {\n",
       "        vertical-align: top;\n",
       "    }\n",
       "\n",
       "    .dataframe thead th {\n",
       "        text-align: right;\n",
       "    }\n",
       "</style>\n",
       "<table border=\"1\" class=\"dataframe\">\n",
       "  <thead>\n",
       "    <tr style=\"text-align: right;\">\n",
       "      <th></th>\n",
       "      <th>loc_id</th>\n",
       "      <th>level</th>\n",
       "      <th>geometry</th>\n",
       "      <th>freq</th>\n",
       "      <th>area</th>\n",
       "    </tr>\n",
       "    <tr>\n",
       "      <th>id</th>\n",
       "      <th></th>\n",
       "      <th></th>\n",
       "      <th></th>\n",
       "      <th></th>\n",
       "      <th></th>\n",
       "    </tr>\n",
       "  </thead>\n",
       "  <tbody>\n",
       "    <tr>\n",
       "      <th>0</th>\n",
       "      <td>5152981090339651584</td>\n",
       "      <td>10</td>\n",
       "      <td>POINT (2824875.045 1159436.528)</td>\n",
       "      <td>1</td>\n",
       "      <td>POLYGON ((10.405097146225662 46.50637570678295...</td>\n",
       "    </tr>\n",
       "    <tr>\n",
       "      <th>1</th>\n",
       "      <td>5152984577853095936</td>\n",
       "      <td>13</td>\n",
       "      <td>POINT (2822437.857 1167754.527)</td>\n",
       "      <td>38</td>\n",
       "      <td>POLYGON ((10.347820052132302 46.61871685680636...</td>\n",
       "    </tr>\n",
       "    <tr>\n",
       "      <th>2</th>\n",
       "      <td>5152985265047863296</td>\n",
       "      <td>13</td>\n",
       "      <td>POINT (2815796.126 1167304.569)</td>\n",
       "      <td>1</td>\n",
       "      <td>POLYGON ((10.260953592346382 46.61685460820135...</td>\n",
       "    </tr>\n",
       "    <tr>\n",
       "      <th>3</th>\n",
       "      <td>5152985299407601664</td>\n",
       "      <td>13</td>\n",
       "      <td>POINT (2816020.303 1168362.492)</td>\n",
       "      <td>1</td>\n",
       "      <td>POLYGON ((10.264376293749178 46.62629143145975...</td>\n",
       "    </tr>\n",
       "    <tr>\n",
       "      <th>4</th>\n",
       "      <td>5152985505566031872</td>\n",
       "      <td>13</td>\n",
       "      <td>POINT (2818994.419 1169160.037)</td>\n",
       "      <td>1</td>\n",
       "      <td>POLYGON ((10.303565033130825 46.63249007077394...</td>\n",
       "    </tr>\n",
       "  </tbody>\n",
       "</table>\n",
       "</div>"
      ],
      "text/plain": [
       "                 loc_id  level                         geometry  freq  \\\n",
       "id                                                                      \n",
       "0   5152981090339651584     10  POINT (2824875.045 1159436.528)     1   \n",
       "1   5152984577853095936     13  POINT (2822437.857 1167754.527)    38   \n",
       "2   5152985265047863296     13  POINT (2815796.126 1167304.569)     1   \n",
       "3   5152985299407601664     13  POINT (2816020.303 1168362.492)     1   \n",
       "4   5152985505566031872     13  POINT (2818994.419 1169160.037)     1   \n",
       "\n",
       "                                                 area  \n",
       "id                                                     \n",
       "0   POLYGON ((10.405097146225662 46.50637570678295...  \n",
       "1   POLYGON ((10.347820052132302 46.61871685680636...  \n",
       "2   POLYGON ((10.260953592346382 46.61685460820135...  \n",
       "3   POLYGON ((10.264376293749178 46.62629143145975...  \n",
       "4   POLYGON ((10.303565033130825 46.63249007077394...  "
      ]
     },
     "execution_count": 15,
     "metadata": {},
     "output_type": "execute_result"
    }
   ],
   "source": [
    "visited_locs.head()"
   ]
  },
  {
   "cell_type": "code",
   "execution_count": 16,
   "metadata": {
    "execution": {
     "iopub.execute_input": "2024-03-18T21:09:28.151178Z",
     "iopub.status.busy": "2024-03-18T21:09:28.151178Z",
     "iopub.status.idle": "2024-03-18T21:09:29.807341Z",
     "shell.execute_reply": "2024-03-18T21:09:29.807341Z",
     "shell.execute_reply.started": "2024-03-18T21:09:28.151178Z"
    }
   },
   "outputs": [],
   "source": [
    "def calculate_distance_matrix(X):\n",
    "    X = shapely.get_coordinates(X.geometry)\n",
    "\n",
    "    distance = pdist(X, 'euclidean')\n",
    "    dist_matrix = squareform(distance)\n",
    "    return dist_matrix\n",
    "    \n",
    "dist_matrix = calculate_distance_matrix(visited_locs)"
   ]
  },
  {
   "cell_type": "code",
   "execution_count": 17,
   "metadata": {
    "execution": {
     "iopub.execute_input": "2024-03-18T21:09:30.754344Z",
     "iopub.status.busy": "2024-03-18T21:09:30.753345Z",
     "iopub.status.idle": "2024-03-18T21:09:30.759833Z",
     "shell.execute_reply": "2024-03-18T21:09:30.759833Z",
     "shell.execute_reply.started": "2024-03-18T21:09:30.754344Z"
    }
   },
   "outputs": [
    {
     "data": {
      "text/plain": [
       "(14881, 14881)"
      ]
     },
     "execution_count": 17,
     "metadata": {},
     "output_type": "execute_result"
    }
   ],
   "source": [
    "dist_matrix.shape"
   ]
  },
  {
   "cell_type": "code",
   "execution_count": 18,
   "metadata": {
    "execution": {
     "iopub.execute_input": "2024-03-18T21:09:39.889545Z",
     "iopub.status.busy": "2024-03-18T21:09:39.889545Z",
     "iopub.status.idle": "2024-03-18T21:09:49.131245Z",
     "shell.execute_reply": "2024-03-18T21:09:49.131245Z",
     "shell.execute_reply.started": "2024-03-18T21:09:39.889545Z"
    }
   },
   "outputs": [],
   "source": [
    "save_pk_file(\"../data/matrix/distance_13.pk\", dist_matrix)"
   ]
  }
 ],
 "metadata": {
  "kernelspec": {
   "display_name": "Python 3 (ipykernel)",
   "language": "python",
   "name": "python3"
  },
  "language_info": {
   "codemirror_mode": {
    "name": "ipython",
    "version": 3
   },
   "file_extension": ".py",
   "mimetype": "text/x-python",
   "name": "python",
   "nbconvert_exporter": "python",
   "pygments_lexer": "ipython3",
   "version": "3.11.9"
  },
  "vscode": {
   "interpreter": {
    "hash": "49b33cb1d40561f6b5efae5453f41e3a1df95dafc5e6a9cc6fee048c2b9381af"
   }
  }
 },
 "nbformat": 4,
 "nbformat_minor": 4
}
