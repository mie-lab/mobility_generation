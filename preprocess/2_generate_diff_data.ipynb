{
 "cells": [
  {
   "cell_type": "code",
   "execution_count": 1,
   "metadata": {
    "execution": {
     "iopub.execute_input": "2024-09-19T21:16:43.384957Z",
     "iopub.status.busy": "2024-09-19T21:16:43.383954Z",
     "iopub.status.idle": "2024-09-19T21:16:47.860630Z",
     "shell.execute_reply": "2024-09-19T21:16:47.860630Z",
     "shell.execute_reply.started": "2024-09-19T21:16:43.384957Z"
    }
   },
   "outputs": [],
   "source": [
    "import torch \n",
    "import numpy as np\n",
    "\n",
    "import math\n",
    "\n",
    "import os\n",
    "import pandas as pd\n",
    "import geopandas as gpd\n",
    "import pickle as pickle\n",
    "\n",
    "import shapely\n",
    "from shapely import wkt\n",
    "from tqdm import tqdm\n",
    "\n",
    "from joblib import Parallel, delayed\n",
    "\n",
    "import trackintel as ti\n",
    "from trackintel.geogr.distances import calculate_distance_matrix\n",
    "from sklearn.preprocessing import OrdinalEncoder\n",
    "\n",
    "import powerlaw"
   ]
  },
  {
   "cell_type": "code",
   "execution_count": 2,
   "metadata": {
    "execution": {
     "iopub.execute_input": "2024-09-19T21:16:47.861635Z",
     "iopub.status.busy": "2024-09-19T21:16:47.861635Z",
     "iopub.status.idle": "2024-09-19T21:16:47.865190Z",
     "shell.execute_reply": "2024-09-19T21:16:47.865190Z",
     "shell.execute_reply.started": "2024-09-19T21:16:47.861635Z"
    }
   },
   "outputs": [],
   "source": [
    "import matplotlib.pyplot as plt\n",
    "\n",
    "colors = plt.rcParams[\"axes.prop_cycle\"].by_key()[\"color\"]"
   ]
  },
  {
   "cell_type": "code",
   "execution_count": 3,
   "metadata": {
    "execution": {
     "iopub.execute_input": "2024-09-19T21:16:47.867195Z",
     "iopub.status.busy": "2024-09-19T21:16:47.866196Z",
     "iopub.status.idle": "2024-09-19T21:16:47.878580Z",
     "shell.execute_reply": "2024-09-19T21:16:47.878580Z",
     "shell.execute_reply.started": "2024-09-19T21:16:47.867195Z"
    }
   },
   "outputs": [
    {
     "data": {
      "text/plain": [
       "'1.3.1'"
      ]
     },
     "execution_count": 3,
     "metadata": {},
     "output_type": "execute_result"
    }
   ],
   "source": [
    "ti.__version__"
   ]
  },
  {
   "cell_type": "code",
   "execution_count": 4,
   "metadata": {
    "execution": {
     "iopub.execute_input": "2024-09-19T21:16:47.881585Z",
     "iopub.status.busy": "2024-09-19T21:16:47.880587Z",
     "iopub.status.idle": "2024-09-19T21:16:49.080067Z",
     "shell.execute_reply": "2024-09-19T21:16:49.080067Z",
     "shell.execute_reply.started": "2024-09-19T21:16:47.881585Z"
    }
   },
   "outputs": [
    {
     "name": "stderr",
     "output_type": "stream",
     "text": [
      "C:\\ProgramData\\Anaconda3\\envs\\gene\\Lib\\site-packages\\tqdm\\auto.py:21: TqdmWarning: IProgress not found. Please update jupyter and ipywidgets. See https://ipywidgets.readthedocs.io/en/stable/user_install.html\n",
      "  from .autonotebook import tqdm as notebook_tqdm\n"
     ]
    }
   ],
   "source": [
    "from loc_predict.models.markov import markov_transition_prob\n",
    "from utils.utils import load_data\n",
    "\n",
    "def save_pk_file(save_path, data):\n",
    "    \"\"\"Function to save data to pickle format given data and path.\"\"\"\n",
    "    with open(save_path, \"wb\") as handle:\n",
    "        pickle.dump(data, handle, protocol=pickle.HIGHEST_PROTOCOL)"
   ]
  },
  {
   "cell_type": "markdown",
   "metadata": {},
   "source": [
    "# Generate datasets"
   ]
  },
  {
   "cell_type": "code",
   "execution_count": 83,
   "metadata": {
    "execution": {
     "iopub.execute_input": "2024-09-13T09:59:23.503384Z",
     "iopub.status.busy": "2024-09-13T09:59:23.503384Z",
     "iopub.status.idle": "2024-09-13T09:59:23.506134Z",
     "shell.execute_reply": "2024-09-13T09:59:23.506134Z",
     "shell.execute_reply.started": "2024-09-13T09:59:23.503384Z"
    }
   },
   "outputs": [],
   "source": [
    "src_min_days = 7 * 2\n",
    "src_max_days = 7 * 3\n",
    "\n",
    "tgt_min_days = 7 * 1\n",
    "# tgt_max_days = 7 * 2\n",
    "\n",
    "data_type = \"small\"\n",
    "level = 14"
   ]
  },
  {
   "cell_type": "markdown",
   "metadata": {},
   "source": [
    "## Read staypoints and load with location id"
   ]
  },
  {
   "cell_type": "code",
   "execution_count": 84,
   "metadata": {
    "execution": {
     "iopub.execute_input": "2024-09-13T09:59:24.288172Z",
     "iopub.status.busy": "2024-09-13T09:59:24.288172Z",
     "iopub.status.idle": "2024-09-13T09:59:30.165854Z",
     "shell.execute_reply": "2024-09-13T09:59:30.165854Z",
     "shell.execute_reply.started": "2024-09-13T09:59:24.288172Z"
    }
   },
   "outputs": [],
   "source": [
    "sp = pd.read_csv(os.path.join(f\"../data/sp_{data_type}.csv\"), index_col=\"id\")\n",
    "loc = pd.read_csv(os.path.join(f\"../data/loc_s2_level10_{level}.csv\"), index_col=\"id\")\n",
    "\n",
    "sp = load_data(sp, loc)\n",
    "sp[\"length\"] = sp[\"length\"]/1000"
   ]
  },
  {
   "cell_type": "code",
   "execution_count": 85,
   "metadata": {
    "execution": {
     "iopub.execute_input": "2024-09-13T09:59:30.167860Z",
     "iopub.status.busy": "2024-09-13T09:59:30.167860Z",
     "iopub.status.idle": "2024-09-13T09:59:30.171777Z",
     "shell.execute_reply": "2024-09-13T09:59:30.171777Z",
     "shell.execute_reply.started": "2024-09-13T09:59:30.167860Z"
    }
   },
   "outputs": [
    {
     "data": {
      "text/plain": [
       "278935"
      ]
     },
     "execution_count": 85,
     "metadata": {},
     "output_type": "execute_result"
    }
   ],
   "source": [
    "len(sp)"
   ]
  },
  {
   "cell_type": "code",
   "execution_count": 86,
   "metadata": {
    "execution": {
     "iopub.execute_input": "2024-09-13T09:59:30.172781Z",
     "iopub.status.busy": "2024-09-13T09:59:30.172781Z",
     "iopub.status.idle": "2024-09-13T09:59:30.213295Z",
     "shell.execute_reply": "2024-09-13T09:59:30.213295Z",
     "shell.execute_reply.started": "2024-09-13T09:59:30.172781Z"
    }
   },
   "outputs": [],
   "source": [
    "sp.sort_values(by=[\"user_id\", \"start_day\", \"start_min\"], inplace=True)"
   ]
  },
  {
   "cell_type": "code",
   "execution_count": 87,
   "metadata": {
    "execution": {
     "iopub.execute_input": "2024-09-13T09:59:30.215301Z",
     "iopub.status.busy": "2024-09-13T09:59:30.215301Z",
     "iopub.status.idle": "2024-09-13T09:59:30.224776Z",
     "shell.execute_reply": "2024-09-13T09:59:30.224776Z",
     "shell.execute_reply.started": "2024-09-13T09:59:30.215301Z"
    }
   },
   "outputs": [
    {
     "data": {
      "text/html": [
       "<div>\n",
       "<style scoped>\n",
       "    .dataframe tbody tr th:only-of-type {\n",
       "        vertical-align: middle;\n",
       "    }\n",
       "\n",
       "    .dataframe tbody tr th {\n",
       "        vertical-align: top;\n",
       "    }\n",
       "\n",
       "    .dataframe thead th {\n",
       "        text-align: right;\n",
       "    }\n",
       "</style>\n",
       "<table border=\"1\" class=\"dataframe\">\n",
       "  <thead>\n",
       "    <tr style=\"text-align: right;\">\n",
       "      <th></th>\n",
       "      <th>id</th>\n",
       "      <th>user_id</th>\n",
       "      <th>started_at</th>\n",
       "      <th>finished_at</th>\n",
       "      <th>mode</th>\n",
       "      <th>length</th>\n",
       "      <th>geometry</th>\n",
       "      <th>duration</th>\n",
       "      <th>act_duration</th>\n",
       "      <th>location_id</th>\n",
       "      <th>level</th>\n",
       "      <th>start_day</th>\n",
       "      <th>start_min</th>\n",
       "      <th>weekday</th>\n",
       "    </tr>\n",
       "  </thead>\n",
       "  <tbody>\n",
       "    <tr>\n",
       "      <th>0</th>\n",
       "      <td>0</td>\n",
       "      <td>AAINS</td>\n",
       "      <td>2019-10-01 17:32:30.411000</td>\n",
       "      <td>2019-10-02 16:02:33.509000</td>\n",
       "      <td>Walk</td>\n",
       "      <td>0.034725</td>\n",
       "      <td>POINT (8.723708908587902 47.31112121008959)</td>\n",
       "      <td>1350.0</td>\n",
       "      <td>1350.0</td>\n",
       "      <td>5159641747097124864</td>\n",
       "      <td>14</td>\n",
       "      <td>0</td>\n",
       "      <td>1052</td>\n",
       "      <td>1</td>\n",
       "    </tr>\n",
       "    <tr>\n",
       "      <th>1</th>\n",
       "      <td>1</td>\n",
       "      <td>AAINS</td>\n",
       "      <td>2019-10-02 16:04:33.977999</td>\n",
       "      <td>2019-10-02 16:45:47.398999</td>\n",
       "      <td>Walk</td>\n",
       "      <td>0.191850</td>\n",
       "      <td>POINT (8.721851808585924 47.311723210090356)</td>\n",
       "      <td>41.0</td>\n",
       "      <td>43.0</td>\n",
       "      <td>5159641747097124864</td>\n",
       "      <td>14</td>\n",
       "      <td>1</td>\n",
       "      <td>962</td>\n",
       "      <td>2</td>\n",
       "    </tr>\n",
       "    <tr>\n",
       "      <th>2</th>\n",
       "      <td>2</td>\n",
       "      <td>AAINS</td>\n",
       "      <td>2019-10-02 16:46:30.263000</td>\n",
       "      <td>2019-10-03 04:35:13.747999</td>\n",
       "      <td>Walk</td>\n",
       "      <td>0.232044</td>\n",
       "      <td>POINT (8.724605828588786 47.31102185008928)</td>\n",
       "      <td>709.0</td>\n",
       "      <td>709.0</td>\n",
       "      <td>5159641755687059456</td>\n",
       "      <td>14</td>\n",
       "      <td>1</td>\n",
       "      <td>1005</td>\n",
       "      <td>2</td>\n",
       "    </tr>\n",
       "    <tr>\n",
       "      <th>3</th>\n",
       "      <td>3</td>\n",
       "      <td>AAINS</td>\n",
       "      <td>2019-10-03 05:37:25.756000</td>\n",
       "      <td>2019-10-03 15:39:27.894000</td>\n",
       "      <td>Train</td>\n",
       "      <td>37.296016</td>\n",
       "      <td>POINT (8.398657368246022 47.39651753021146)</td>\n",
       "      <td>602.0</td>\n",
       "      <td>664.0</td>\n",
       "      <td>5156636738868740096</td>\n",
       "      <td>14</td>\n",
       "      <td>2</td>\n",
       "      <td>275</td>\n",
       "      <td>3</td>\n",
       "    </tr>\n",
       "    <tr>\n",
       "      <th>4</th>\n",
       "      <td>4</td>\n",
       "      <td>AAINS</td>\n",
       "      <td>2019-10-03 16:43:48.631000</td>\n",
       "      <td>2019-10-04 04:46:53.947000</td>\n",
       "      <td>Train</td>\n",
       "      <td>36.596971</td>\n",
       "      <td>POINT (8.724550408588719 47.31108511008933)</td>\n",
       "      <td>723.0</td>\n",
       "      <td>787.0</td>\n",
       "      <td>5159641755687059456</td>\n",
       "      <td>14</td>\n",
       "      <td>2</td>\n",
       "      <td>939</td>\n",
       "      <td>3</td>\n",
       "    </tr>\n",
       "  </tbody>\n",
       "</table>\n",
       "</div>"
      ],
      "text/plain": [
       "   id user_id                 started_at                finished_at   mode  \\\n",
       "0   0   AAINS 2019-10-01 17:32:30.411000 2019-10-02 16:02:33.509000   Walk   \n",
       "1   1   AAINS 2019-10-02 16:04:33.977999 2019-10-02 16:45:47.398999   Walk   \n",
       "2   2   AAINS 2019-10-02 16:46:30.263000 2019-10-03 04:35:13.747999   Walk   \n",
       "3   3   AAINS 2019-10-03 05:37:25.756000 2019-10-03 15:39:27.894000  Train   \n",
       "4   4   AAINS 2019-10-03 16:43:48.631000 2019-10-04 04:46:53.947000  Train   \n",
       "\n",
       "      length                                      geometry  duration  \\\n",
       "0   0.034725   POINT (8.723708908587902 47.31112121008959)    1350.0   \n",
       "1   0.191850  POINT (8.721851808585924 47.311723210090356)      41.0   \n",
       "2   0.232044   POINT (8.724605828588786 47.31102185008928)     709.0   \n",
       "3  37.296016   POINT (8.398657368246022 47.39651753021146)     602.0   \n",
       "4  36.596971   POINT (8.724550408588719 47.31108511008933)     723.0   \n",
       "\n",
       "   act_duration          location_id  level  start_day  start_min  weekday  \n",
       "0        1350.0  5159641747097124864     14          0       1052        1  \n",
       "1          43.0  5159641747097124864     14          1        962        2  \n",
       "2         709.0  5159641755687059456     14          1       1005        2  \n",
       "3         664.0  5156636738868740096     14          2        275        3  \n",
       "4         787.0  5159641755687059456     14          2        939        3  "
      ]
     },
     "execution_count": 87,
     "metadata": {},
     "output_type": "execute_result"
    }
   ],
   "source": [
    "sp.head()"
   ]
  },
  {
   "cell_type": "code",
   "execution_count": 88,
   "metadata": {
    "execution": {
     "iopub.execute_input": "2024-09-13T09:59:30.225779Z",
     "iopub.status.busy": "2024-09-13T09:59:30.225779Z",
     "iopub.status.idle": "2024-09-13T09:59:30.236136Z",
     "shell.execute_reply": "2024-09-13T09:59:30.236136Z",
     "shell.execute_reply.started": "2024-09-13T09:59:30.225779Z"
    }
   },
   "outputs": [
    {
     "data": {
      "text/plain": [
       "array([ 962, 1005,  275,  939,  286,  337,  385,  623,  665])"
      ]
     },
     "execution_count": 88,
     "metadata": {},
     "output_type": "execute_result"
    }
   ],
   "source": [
    "sp.head(10)[\"start_min\"].values[1:]"
   ]
  },
  {
   "cell_type": "code",
   "execution_count": 89,
   "metadata": {
    "execution": {
     "iopub.execute_input": "2024-09-13T09:59:30.237141Z",
     "iopub.status.busy": "2024-09-13T09:59:30.237141Z",
     "iopub.status.idle": "2024-09-13T09:59:30.246769Z",
     "shell.execute_reply": "2024-09-13T09:59:30.246769Z",
     "shell.execute_reply.started": "2024-09-13T09:59:30.237141Z"
    }
   },
   "outputs": [
    {
     "data": {
      "text/plain": [
       "array([ 962., 1005.,  274.,  939.,  286.,  337.,  384.,  624.,  664.])"
      ]
     },
     "execution_count": 89,
     "metadata": {},
     "output_type": "execute_result"
    }
   ],
   "source": [
    "((sp.head(10)[\"start_min\"] + sp.head(10)[\"act_duration\"]) % 1440).values[:-1]"
   ]
  },
  {
   "cell_type": "code",
   "execution_count": 90,
   "metadata": {
    "execution": {
     "iopub.execute_input": "2024-09-13T09:59:30.247775Z",
     "iopub.status.busy": "2024-09-13T09:59:30.247775Z",
     "iopub.status.idle": "2024-09-13T09:59:30.257629Z",
     "shell.execute_reply": "2024-09-13T09:59:30.257629Z",
     "shell.execute_reply.started": "2024-09-13T09:59:30.247775Z"
    }
   },
   "outputs": [
    {
     "data": {
      "text/plain": [
       "array([ 962., 1005.,  274.,  938.,  285.,  336.,  383.,  622.,  663.,\n",
       "        925.])"
      ]
     },
     "execution_count": 90,
     "metadata": {},
     "output_type": "execute_result"
    }
   ],
   "source": [
    "((sp[\"start_min\"].values[0] + sp.head(10)[\"act_duration\"].cumsum()) % 1440).values"
   ]
  },
  {
   "cell_type": "code",
   "execution_count": 91,
   "metadata": {
    "execution": {
     "iopub.execute_input": "2024-09-13T09:59:30.259635Z",
     "iopub.status.busy": "2024-09-13T09:59:30.258633Z",
     "iopub.status.idle": "2024-09-13T09:59:30.269144Z",
     "shell.execute_reply": "2024-09-13T09:59:30.269144Z",
     "shell.execute_reply.started": "2024-09-13T09:59:30.259635Z"
    }
   },
   "outputs": [
    {
     "data": {
      "text/plain": [
       "(1439, 0)"
      ]
     },
     "execution_count": 91,
     "metadata": {},
     "output_type": "execute_result"
    }
   ],
   "source": [
    "sp[\"start_min\"].max(), sp[\"start_min\"].min()"
   ]
  },
  {
   "cell_type": "code",
   "execution_count": 92,
   "metadata": {
    "execution": {
     "iopub.execute_input": "2024-09-13T09:59:30.270151Z",
     "iopub.status.busy": "2024-09-13T09:59:30.270151Z",
     "iopub.status.idle": "2024-09-13T09:59:30.291281Z",
     "shell.execute_reply": "2024-09-13T09:59:30.291281Z",
     "shell.execute_reply.started": "2024-09-13T09:59:30.270151Z"
    }
   },
   "outputs": [
    {
     "data": {
      "text/plain": [
       "mode\n",
       "Car        135542\n",
       "Walk        89266\n",
       "Train       21826\n",
       "Bicycle     13750\n",
       "Bus         12468\n",
       "Tram         5175\n",
       "Other         908\n",
       "Name: count, dtype: int64"
      ]
     },
     "execution_count": 92,
     "metadata": {},
     "output_type": "execute_result"
    }
   ],
   "source": [
    "sp[\"mode\"].value_counts()"
   ]
  },
  {
   "cell_type": "markdown",
   "metadata": {},
   "source": [
    "## Read all locations"
   ]
  },
  {
   "cell_type": "code",
   "execution_count": 93,
   "metadata": {
    "execution": {
     "iopub.execute_input": "2024-09-13T09:59:30.293329Z",
     "iopub.status.busy": "2024-09-13T09:59:30.293329Z",
     "iopub.status.idle": "2024-09-13T09:59:30.761844Z",
     "shell.execute_reply": "2024-09-13T09:59:30.761844Z",
     "shell.execute_reply.started": "2024-09-13T09:59:30.293329Z"
    }
   },
   "outputs": [],
   "source": [
    "all_locs = pd.read_csv(f\"../data/s2_loc_visited_level10_{level}.csv\", index_col=\"id\")\n",
    "\n",
    "# geometry\n",
    "all_locs[\"geometry\"] = all_locs[\"geometry\"].apply(wkt.loads)\n",
    "all_locs = gpd.GeoDataFrame(all_locs, geometry=\"geometry\", crs=\"EPSG:4326\")\n",
    "# transform to projected coordinate systems\n",
    "all_locs = all_locs.to_crs(\"EPSG:2056\")\n",
    "\n",
    "# coordinate information\n",
    "x = all_locs[\"geometry\"].x.values\n",
    "y = all_locs[\"geometry\"].y.values\n",
    "\n",
    "all_locs[\"x\"] = (x - x.min())/1000\n",
    "all_locs[\"y\"] = (y - y.min())/1000"
   ]
  },
  {
   "cell_type": "code",
   "execution_count": 94,
   "metadata": {
    "execution": {
     "iopub.execute_input": "2024-09-13T09:59:30.762850Z",
     "iopub.status.busy": "2024-09-13T09:59:30.762850Z",
     "iopub.status.idle": "2024-09-13T09:59:30.767146Z",
     "shell.execute_reply": "2024-09-13T09:59:30.767146Z",
     "shell.execute_reply.started": "2024-09-13T09:59:30.762850Z"
    }
   },
   "outputs": [
    {
     "data": {
      "text/plain": [
       "28741"
      ]
     },
     "execution_count": 94,
     "metadata": {},
     "output_type": "execute_result"
    }
   ],
   "source": [
    "len(all_locs)"
   ]
  },
  {
   "cell_type": "code",
   "execution_count": 95,
   "metadata": {
    "execution": {
     "iopub.execute_input": "2024-09-13T09:59:30.769151Z",
     "iopub.status.busy": "2024-09-13T09:59:30.768152Z",
     "iopub.status.idle": "2024-09-13T09:59:30.781237Z",
     "shell.execute_reply": "2024-09-13T09:59:30.781237Z",
     "shell.execute_reply.started": "2024-09-13T09:59:30.768152Z"
    }
   },
   "outputs": [
    {
     "data": {
      "text/html": [
       "<div>\n",
       "<style scoped>\n",
       "    .dataframe tbody tr th:only-of-type {\n",
       "        vertical-align: middle;\n",
       "    }\n",
       "\n",
       "    .dataframe tbody tr th {\n",
       "        vertical-align: top;\n",
       "    }\n",
       "\n",
       "    .dataframe thead th {\n",
       "        text-align: right;\n",
       "    }\n",
       "</style>\n",
       "<table border=\"1\" class=\"dataframe\">\n",
       "  <thead>\n",
       "    <tr style=\"text-align: right;\">\n",
       "      <th></th>\n",
       "      <th>loc_id</th>\n",
       "      <th>level</th>\n",
       "      <th>geometry</th>\n",
       "      <th>freq</th>\n",
       "      <th>area</th>\n",
       "      <th>x</th>\n",
       "      <th>y</th>\n",
       "    </tr>\n",
       "    <tr>\n",
       "      <th>id</th>\n",
       "      <th></th>\n",
       "      <th></th>\n",
       "      <th></th>\n",
       "      <th></th>\n",
       "      <th></th>\n",
       "      <th></th>\n",
       "      <th></th>\n",
       "    </tr>\n",
       "  </thead>\n",
       "  <tbody>\n",
       "    <tr>\n",
       "      <th>0</th>\n",
       "      <td>5152981090339651584</td>\n",
       "      <td>10</td>\n",
       "      <td>POINT (2824875.045 1159436.528)</td>\n",
       "      <td>1</td>\n",
       "      <td>POLYGON ((10.405097146225662 46.50637570678295...</td>\n",
       "      <td>340.828583</td>\n",
       "      <td>83.506855</td>\n",
       "    </tr>\n",
       "    <tr>\n",
       "      <th>1</th>\n",
       "      <td>5152984582148063232</td>\n",
       "      <td>14</td>\n",
       "      <td>POINT (2822264.816 1168040.708)</td>\n",
       "      <td>37</td>\n",
       "      <td>POLYGON ((10.343581795559412 46.62397697413108...</td>\n",
       "      <td>338.218355</td>\n",
       "      <td>92.111035</td>\n",
       "    </tr>\n",
       "    <tr>\n",
       "      <th>2</th>\n",
       "      <td>5152984590737997824</td>\n",
       "      <td>14</td>\n",
       "      <td>POINT (2822152.250 1167511.806)</td>\n",
       "      <td>1</td>\n",
       "      <td>POLYGON ((10.341857399540116 46.61926019734832...</td>\n",
       "      <td>338.105789</td>\n",
       "      <td>91.582133</td>\n",
       "    </tr>\n",
       "    <tr>\n",
       "      <th>3</th>\n",
       "      <td>5152985265047863296</td>\n",
       "      <td>13</td>\n",
       "      <td>POINT (2815796.126 1167304.569)</td>\n",
       "      <td>1</td>\n",
       "      <td>POLYGON ((10.260953592346382 46.61685460820135...</td>\n",
       "      <td>331.749664</td>\n",
       "      <td>91.374896</td>\n",
       "    </tr>\n",
       "    <tr>\n",
       "      <th>4</th>\n",
       "      <td>5152985299407601664</td>\n",
       "      <td>13</td>\n",
       "      <td>POINT (2816020.303 1168362.492)</td>\n",
       "      <td>1</td>\n",
       "      <td>POLYGON ((10.264376293749178 46.62629143145975...</td>\n",
       "      <td>331.973842</td>\n",
       "      <td>92.432819</td>\n",
       "    </tr>\n",
       "  </tbody>\n",
       "</table>\n",
       "</div>"
      ],
      "text/plain": [
       "                 loc_id  level                         geometry  freq  \\\n",
       "id                                                                      \n",
       "0   5152981090339651584     10  POINT (2824875.045 1159436.528)     1   \n",
       "1   5152984582148063232     14  POINT (2822264.816 1168040.708)    37   \n",
       "2   5152984590737997824     14  POINT (2822152.250 1167511.806)     1   \n",
       "3   5152985265047863296     13  POINT (2815796.126 1167304.569)     1   \n",
       "4   5152985299407601664     13  POINT (2816020.303 1168362.492)     1   \n",
       "\n",
       "                                                 area           x          y  \n",
       "id                                                                            \n",
       "0   POLYGON ((10.405097146225662 46.50637570678295...  340.828583  83.506855  \n",
       "1   POLYGON ((10.343581795559412 46.62397697413108...  338.218355  92.111035  \n",
       "2   POLYGON ((10.341857399540116 46.61926019734832...  338.105789  91.582133  \n",
       "3   POLYGON ((10.260953592346382 46.61685460820135...  331.749664  91.374896  \n",
       "4   POLYGON ((10.264376293749178 46.62629143145975...  331.973842  92.432819  "
      ]
     },
     "execution_count": 95,
     "metadata": {},
     "output_type": "execute_result"
    }
   ],
   "source": [
    "all_locs.head()"
   ]
  },
  {
   "cell_type": "markdown",
   "metadata": {},
   "source": [
    "## Read POIs"
   ]
  },
  {
   "cell_type": "code",
   "execution_count": 96,
   "metadata": {
    "execution": {
     "iopub.execute_input": "2024-09-13T09:59:31.686934Z",
     "iopub.status.busy": "2024-09-13T09:59:31.686934Z",
     "iopub.status.idle": "2024-09-13T09:59:31.903281Z",
     "shell.execute_reply": "2024-09-13T09:59:31.903281Z",
     "shell.execute_reply.started": "2024-09-13T09:59:31.686934Z"
    }
   },
   "outputs": [],
   "source": [
    "poi_file_path = f\"../data/s2_loc_poi_level10_{level}.npy\"\n",
    "poi_file = np.load(poi_file_path, allow_pickle=True)\n",
    "\n",
    "poi_df = pd.DataFrame(columns=[\"loc_id\", \"poiValues\"])\n",
    "\n",
    "poi_df[\"loc_id\"] = poi_file[()]['loc_id']\n",
    "poi_df[\"poiValues\"] = poi_file[()]['poiValues'].tolist()"
   ]
  },
  {
   "cell_type": "code",
   "execution_count": 97,
   "metadata": {
    "execution": {
     "iopub.execute_input": "2024-09-13T09:59:32.441024Z",
     "iopub.status.busy": "2024-09-13T09:59:32.440026Z",
     "iopub.status.idle": "2024-09-13T09:59:32.444163Z",
     "shell.execute_reply": "2024-09-13T09:59:32.444163Z",
     "shell.execute_reply.started": "2024-09-13T09:59:32.441024Z"
    }
   },
   "outputs": [
    {
     "data": {
      "text/plain": [
       "142575"
      ]
     },
     "execution_count": 97,
     "metadata": {},
     "output_type": "execute_result"
    }
   ],
   "source": [
    "len(poi_df)"
   ]
  },
  {
   "cell_type": "code",
   "execution_count": 98,
   "metadata": {
    "execution": {
     "iopub.execute_input": "2024-09-13T09:59:32.899536Z",
     "iopub.status.busy": "2024-09-13T09:59:32.898534Z",
     "iopub.status.idle": "2024-09-13T09:59:32.906241Z",
     "shell.execute_reply": "2024-09-13T09:59:32.906241Z",
     "shell.execute_reply.started": "2024-09-13T09:59:32.899536Z"
    }
   },
   "outputs": [
    {
     "data": {
      "text/html": [
       "<div>\n",
       "<style scoped>\n",
       "    .dataframe tbody tr th:only-of-type {\n",
       "        vertical-align: middle;\n",
       "    }\n",
       "\n",
       "    .dataframe tbody tr th {\n",
       "        vertical-align: top;\n",
       "    }\n",
       "\n",
       "    .dataframe thead th {\n",
       "        text-align: right;\n",
       "    }\n",
       "</style>\n",
       "<table border=\"1\" class=\"dataframe\">\n",
       "  <thead>\n",
       "    <tr style=\"text-align: right;\">\n",
       "      <th></th>\n",
       "      <th>loc_id</th>\n",
       "      <th>poiValues</th>\n",
       "    </tr>\n",
       "  </thead>\n",
       "  <tbody>\n",
       "    <tr>\n",
       "      <th>0</th>\n",
       "      <td>5152981090339651584</td>\n",
       "      <td>[0.14510029554367065, 0.0, 0.0, 0.0, 0.0, 0.0,...</td>\n",
       "    </tr>\n",
       "    <tr>\n",
       "      <th>1</th>\n",
       "      <td>5152983289362907136</td>\n",
       "      <td>[0.0, 0.0, 0.0, 0.0, 0.0, 0.0, 0.0, 0.0, 0.0, ...</td>\n",
       "    </tr>\n",
       "    <tr>\n",
       "      <th>2</th>\n",
       "      <td>5152984393169502208</td>\n",
       "      <td>[0.0, 0.0, 0.0, 0.0, 0.0, 0.0, 0.0, 0.0, 0.0, ...</td>\n",
       "    </tr>\n",
       "    <tr>\n",
       "      <th>3</th>\n",
       "      <td>5152984401759436800</td>\n",
       "      <td>[0.0, 0.0, 0.0, 0.0, 0.0, 0.0, 0.0, 0.0, 0.0, ...</td>\n",
       "    </tr>\n",
       "    <tr>\n",
       "      <th>4</th>\n",
       "      <td>5152984410349371392</td>\n",
       "      <td>[0.0, 0.0, 0.0, 0.0, 0.0, 0.0, 0.0, 0.0, 0.0, ...</td>\n",
       "    </tr>\n",
       "  </tbody>\n",
       "</table>\n",
       "</div>"
      ],
      "text/plain": [
       "                loc_id                                          poiValues\n",
       "0  5152981090339651584  [0.14510029554367065, 0.0, 0.0, 0.0, 0.0, 0.0,...\n",
       "1  5152983289362907136  [0.0, 0.0, 0.0, 0.0, 0.0, 0.0, 0.0, 0.0, 0.0, ...\n",
       "2  5152984393169502208  [0.0, 0.0, 0.0, 0.0, 0.0, 0.0, 0.0, 0.0, 0.0, ...\n",
       "3  5152984401759436800  [0.0, 0.0, 0.0, 0.0, 0.0, 0.0, 0.0, 0.0, 0.0, ...\n",
       "4  5152984410349371392  [0.0, 0.0, 0.0, 0.0, 0.0, 0.0, 0.0, 0.0, 0.0, ..."
      ]
     },
     "execution_count": 98,
     "metadata": {},
     "output_type": "execute_result"
    }
   ],
   "source": [
    "poi_df.head()"
   ]
  },
  {
   "cell_type": "markdown",
   "metadata": {},
   "source": [
    "## Split into train, validation and test"
   ]
  },
  {
   "cell_type": "code",
   "execution_count": 99,
   "metadata": {
    "execution": {
     "iopub.execute_input": "2024-09-13T09:59:33.823312Z",
     "iopub.status.busy": "2024-09-13T09:59:33.823312Z",
     "iopub.status.idle": "2024-09-13T09:59:34.682846Z",
     "shell.execute_reply": "2024-09-13T09:59:34.682846Z",
     "shell.execute_reply.started": "2024-09-13T09:59:33.823312Z"
    }
   },
   "outputs": [
    {
     "name": "stdout",
     "output_type": "stream",
     "text": [
      "[array(['Bicycle', 'Bus', 'Car', 'Other', 'Train', 'Tram', 'Walk'],\n",
      "      dtype=object)]\n"
     ]
    },
    {
     "name": "stderr",
     "output_type": "stream",
     "text": [
      "C:\\Users\\hong\\AppData\\Local\\Temp\\ipykernel_21364\\906571877.py:56: DeprecationWarning: DataFrameGroupBy.apply operated on the grouping columns. This behavior is deprecated, and in a future version of pandas the grouping columns will be excluded from the operation. Either pass `include_groups=False` to exclude the groupings or explicitly select the grouping columns after groupby to silence this warning.\n",
      "  totalData = totalData.groupby(\"user_id\", as_index=False).apply(getSplitDaysUser)\n"
     ]
    }
   ],
   "source": [
    "def get_train_test(sp, all_locs, poi_df):\n",
    "    sp = sp.copy()\n",
    "    sp.sort_values(by=[\"user_id\", \"start_day\", \"start_min\"], inplace=True)\n",
    "    sp.drop(columns={\"started_at\", \"finished_at\"}, inplace=True)\n",
    "    sp[\"idx\"] = sp.groupby(\"user_id\").cumcount().add(1)\n",
    "\n",
    "\n",
    "    # encoder user, 0 reserved for padding\n",
    "    enc = OrdinalEncoder(dtype=np.int64)\n",
    "    sp[\"user_id\"] = enc.fit_transform(sp[\"user_id\"].values.reshape(-1, 1)) + 1\n",
    "\n",
    "    # encode mode\n",
    "    enc = OrdinalEncoder(dtype=np.int64)\n",
    "    sp[\"mode\"] = enc.fit_transform(sp[\"mode\"].values.reshape(-1, 1)) + 1\n",
    "    print(enc.categories_)\n",
    "\n",
    "    # truncate too long duration, >2 days to 2 days\n",
    "    sp.loc[sp[\"act_duration\"] > 60 * 24 * 2, \"act_duration\"] = 60 * 24 * 2\n",
    "\n",
    "    # split the datasets, user dependent 0.7, 0.2, 0.1\n",
    "    train_data, vali_data, test_data = _split_dataset(sp)\n",
    "\n",
    "    # encode unseen locations in validation and test into 0\n",
    "    enc = OrdinalEncoder(dtype=np.int64, handle_unknown=\"use_encoded_value\", unknown_value=-1).fit(\n",
    "        all_locs[\"loc_id\"].values.reshape(-1, 1)\n",
    "    )\n",
    "    # add 1 to account for 0 padding\n",
    "    all_locs[\"loc_id\"] = enc.transform(all_locs[\"loc_id\"].values.reshape(-1, 1)) + 1\n",
    "    poi_df[\"loc_id\"] = enc.transform(poi_df[\"loc_id\"].values.reshape(-1, 1)) + 1\n",
    "    # \n",
    "    train_data[\"location_id\"] = enc.transform(train_data[\"location_id\"].values.reshape(-1, 1)) + 1\n",
    "    vali_data[\"location_id\"] = enc.transform(vali_data[\"location_id\"].values.reshape(-1, 1)) + 1\n",
    "    test_data[\"location_id\"] = enc.transform(test_data[\"location_id\"].values.reshape(-1, 1)) + 1\n",
    "\n",
    "    return train_data, vali_data, test_data, all_locs, poi_df\n",
    "\n",
    "\n",
    "def _split_dataset(totalData):\n",
    "    \"\"\"Split dataset into train, vali and test.\"\"\"\n",
    "\n",
    "    def getSplitDaysUser(df):\n",
    "        \"\"\"Split the dataset according to the tracked day of each user.\"\"\"\n",
    "        maxDay = df[\"start_day\"].max()\n",
    "        train_split = maxDay * 0.7\n",
    "        vali_split = maxDay * 0.9\n",
    "\n",
    "        df[\"Dataset\"] = \"test\"\n",
    "        df.loc[df[\"start_day\"] < train_split, \"Dataset\"] = \"train\"\n",
    "        df.loc[\n",
    "            (df[\"start_day\"] >= train_split) & (df[\"start_day\"] < vali_split),\n",
    "            \"Dataset\",\n",
    "        ] = \"vali\"\n",
    "\n",
    "        return df\n",
    "\n",
    "    totalData = totalData.groupby(\"user_id\", as_index=False).apply(getSplitDaysUser)\n",
    "\n",
    "    train_data = totalData.loc[totalData[\"Dataset\"] == \"train\"].copy()\n",
    "    vali_data = totalData.loc[totalData[\"Dataset\"] == \"vali\"].copy()\n",
    "    test_data = totalData.loc[totalData[\"Dataset\"] == \"test\"].copy()\n",
    "\n",
    "    # final cleaning\n",
    "    train_data.drop(columns={\"Dataset\"}, inplace=True)\n",
    "    vali_data.drop(columns={\"Dataset\"}, inplace=True)\n",
    "    test_data.drop(columns={\"Dataset\"}, inplace=True)\n",
    "\n",
    "    return train_data, vali_data, test_data\n",
    "\n",
    "train_data, vali_data, test_data, all_locs, poi_df = get_train_test(sp, all_locs=all_locs, poi_df=poi_df)"
   ]
  },
  {
   "cell_type": "markdown",
   "metadata": {},
   "source": [
    "### Data cleaning"
   ]
  },
  {
   "cell_type": "code",
   "execution_count": 100,
   "metadata": {
    "execution": {
     "iopub.execute_input": "2024-09-13T09:59:34.847683Z",
     "iopub.status.busy": "2024-09-13T09:59:34.847683Z",
     "iopub.status.idle": "2024-09-13T09:59:34.934589Z",
     "shell.execute_reply": "2024-09-13T09:59:34.934589Z",
     "shell.execute_reply.started": "2024-09-13T09:59:34.847683Z"
    }
   },
   "outputs": [],
   "source": [
    "train_data = train_data.merge(all_locs[[\"loc_id\", \"x\", \"y\"]], left_on=\"location_id\", right_on=\"loc_id\")\n",
    "vali_data = vali_data.merge(all_locs[[\"loc_id\", \"x\", \"y\"]], left_on=\"location_id\", right_on=\"loc_id\")\n",
    "test_data = test_data.merge(all_locs[[\"loc_id\", \"x\", \"y\"]], left_on=\"location_id\", right_on=\"loc_id\")\n",
    "\n",
    "train_data.sort_values(by=[\"user_id\", \"start_day\", \"start_min\"], inplace=True)\n",
    "vali_data.sort_values(by=[\"user_id\", \"start_day\", \"start_min\"], inplace=True)\n",
    "test_data.sort_values(by=[\"user_id\", \"start_day\", \"start_min\"], inplace=True)\n",
    "\n",
    "# drop unvisited locations\n",
    "poi_df = poi_df.loc[poi_df[\"loc_id\"]!=0]\n",
    "poi_df = poi_df.sort_values(by=\"loc_id\")\n",
    "poi_df = poi_df.reset_index(drop=True)"
   ]
  },
  {
   "cell_type": "markdown",
   "metadata": {},
   "source": [
    "### Consistency check"
   ]
  },
  {
   "cell_type": "code",
   "execution_count": 101,
   "metadata": {
    "execution": {
     "iopub.execute_input": "2024-09-13T09:59:35.962709Z",
     "iopub.status.busy": "2024-09-13T09:59:35.962709Z",
     "iopub.status.idle": "2024-09-13T09:59:35.971642Z",
     "shell.execute_reply": "2024-09-13T09:59:35.971642Z",
     "shell.execute_reply.started": "2024-09-13T09:59:35.962709Z"
    }
   },
   "outputs": [
    {
     "data": {
      "text/html": [
       "<div>\n",
       "<style scoped>\n",
       "    .dataframe tbody tr th:only-of-type {\n",
       "        vertical-align: middle;\n",
       "    }\n",
       "\n",
       "    .dataframe tbody tr th {\n",
       "        vertical-align: top;\n",
       "    }\n",
       "\n",
       "    .dataframe thead th {\n",
       "        text-align: right;\n",
       "    }\n",
       "</style>\n",
       "<table border=\"1\" class=\"dataframe\">\n",
       "  <thead>\n",
       "    <tr style=\"text-align: right;\">\n",
       "      <th></th>\n",
       "      <th>loc_id</th>\n",
       "      <th>poiValues</th>\n",
       "    </tr>\n",
       "  </thead>\n",
       "  <tbody>\n",
       "    <tr>\n",
       "      <th>0</th>\n",
       "      <td>1</td>\n",
       "      <td>[0.14510029554367065, 0.0, 0.0, 0.0, 0.0, 0.0,...</td>\n",
       "    </tr>\n",
       "    <tr>\n",
       "      <th>1</th>\n",
       "      <td>2</td>\n",
       "      <td>[0.5964587926864624, 0.0, 0.021682066842913628...</td>\n",
       "    </tr>\n",
       "    <tr>\n",
       "      <th>2</th>\n",
       "      <td>3</td>\n",
       "      <td>[0.6770832538604736, 0.0104166679084301, 0.010...</td>\n",
       "    </tr>\n",
       "    <tr>\n",
       "      <th>3</th>\n",
       "      <td>4</td>\n",
       "      <td>[0.0, 0.0, 0.0, 0.0, 0.0, 0.0, 0.0, 0.0, 0.0, ...</td>\n",
       "    </tr>\n",
       "    <tr>\n",
       "      <th>4</th>\n",
       "      <td>5</td>\n",
       "      <td>[0.0, 0.0, 0.0, 0.278827428817749, 0.0, 0.0, 0...</td>\n",
       "    </tr>\n",
       "    <tr>\n",
       "      <th>...</th>\n",
       "      <td>...</td>\n",
       "      <td>...</td>\n",
       "    </tr>\n",
       "    <tr>\n",
       "      <th>28736</th>\n",
       "      <td>28737</td>\n",
       "      <td>[0.0, 0.0, 0.0, 0.0, 0.0, 0.0, 0.0, 0.0, 0.0, ...</td>\n",
       "    </tr>\n",
       "    <tr>\n",
       "      <th>28737</th>\n",
       "      <td>28738</td>\n",
       "      <td>[0.8062499761581421, 0.0, 0.0, 0.0, 0.0, 0.0, ...</td>\n",
       "    </tr>\n",
       "    <tr>\n",
       "      <th>28738</th>\n",
       "      <td>28739</td>\n",
       "      <td>[0.8551950454711914, 0.0, 0.0, 0.0, 0.0, 0.0, ...</td>\n",
       "    </tr>\n",
       "    <tr>\n",
       "      <th>28739</th>\n",
       "      <td>28740</td>\n",
       "      <td>[0.7271366119384766, 0.0, 0.0, 0.0, 0.0, 0.0, ...</td>\n",
       "    </tr>\n",
       "    <tr>\n",
       "      <th>28740</th>\n",
       "      <td>28741</td>\n",
       "      <td>[0.46911028027534485, 0.0, 0.0, 0.0, 0.0, 0.0,...</td>\n",
       "    </tr>\n",
       "  </tbody>\n",
       "</table>\n",
       "<p>28741 rows × 2 columns</p>\n",
       "</div>"
      ],
      "text/plain": [
       "       loc_id                                          poiValues\n",
       "0           1  [0.14510029554367065, 0.0, 0.0, 0.0, 0.0, 0.0,...\n",
       "1           2  [0.5964587926864624, 0.0, 0.021682066842913628...\n",
       "2           3  [0.6770832538604736, 0.0104166679084301, 0.010...\n",
       "3           4  [0.0, 0.0, 0.0, 0.0, 0.0, 0.0, 0.0, 0.0, 0.0, ...\n",
       "4           5  [0.0, 0.0, 0.0, 0.278827428817749, 0.0, 0.0, 0...\n",
       "...       ...                                                ...\n",
       "28736   28737  [0.0, 0.0, 0.0, 0.0, 0.0, 0.0, 0.0, 0.0, 0.0, ...\n",
       "28737   28738  [0.8062499761581421, 0.0, 0.0, 0.0, 0.0, 0.0, ...\n",
       "28738   28739  [0.8551950454711914, 0.0, 0.0, 0.0, 0.0, 0.0, ...\n",
       "28739   28740  [0.7271366119384766, 0.0, 0.0, 0.0, 0.0, 0.0, ...\n",
       "28740   28741  [0.46911028027534485, 0.0, 0.0, 0.0, 0.0, 0.0,...\n",
       "\n",
       "[28741 rows x 2 columns]"
      ]
     },
     "execution_count": 101,
     "metadata": {},
     "output_type": "execute_result"
    }
   ],
   "source": [
    "poi_df"
   ]
  },
  {
   "cell_type": "code",
   "execution_count": 102,
   "metadata": {
    "execution": {
     "iopub.execute_input": "2024-09-13T09:59:36.362321Z",
     "iopub.status.busy": "2024-09-13T09:59:36.362321Z",
     "iopub.status.idle": "2024-09-13T09:59:36.367452Z",
     "shell.execute_reply": "2024-09-13T09:59:36.367452Z",
     "shell.execute_reply.started": "2024-09-13T09:59:36.362321Z"
    }
   },
   "outputs": [
    {
     "data": {
      "text/plain": [
       "'Max loc id 28741, min loc id 1, unique loc id:28741'"
      ]
     },
     "execution_count": 102,
     "metadata": {},
     "output_type": "execute_result"
    }
   ],
   "source": [
    "f\"Max loc id {all_locs.loc_id.max()}, min loc id {all_locs.loc_id.min()}, unique loc id:{all_locs.loc_id.unique().shape[0]}\""
   ]
  },
  {
   "cell_type": "code",
   "execution_count": 103,
   "metadata": {
    "execution": {
     "iopub.execute_input": "2024-09-13T09:59:36.703857Z",
     "iopub.status.busy": "2024-09-13T09:59:36.702857Z",
     "iopub.status.idle": "2024-09-13T09:59:36.709279Z",
     "shell.execute_reply": "2024-09-13T09:59:36.709279Z",
     "shell.execute_reply.started": "2024-09-13T09:59:36.703857Z"
    }
   },
   "outputs": [
    {
     "data": {
      "text/plain": [
       "'Max loc id 28741, min loc id 1, unique loc id:28741'"
      ]
     },
     "execution_count": 103,
     "metadata": {},
     "output_type": "execute_result"
    }
   ],
   "source": [
    "f\"Max loc id {poi_df.loc_id.max()}, min loc id {poi_df.loc_id.min()}, unique loc id:{poi_df.loc_id.unique().shape[0]}\""
   ]
  },
  {
   "cell_type": "code",
   "execution_count": 104,
   "metadata": {
    "execution": {
     "iopub.execute_input": "2024-09-13T09:59:37.008711Z",
     "iopub.status.busy": "2024-09-13T09:59:37.008711Z",
     "iopub.status.idle": "2024-09-13T09:59:37.015668Z",
     "shell.execute_reply": "2024-09-13T09:59:37.015668Z",
     "shell.execute_reply.started": "2024-09-13T09:59:37.008711Z"
    }
   },
   "outputs": [
    {
     "data": {
      "text/plain": [
       "'Max loc id 28729, min loc id 4, unique loc id:10863'"
      ]
     },
     "execution_count": 104,
     "metadata": {},
     "output_type": "execute_result"
    }
   ],
   "source": [
    "f\"Max loc id {train_data.loc_id.max()}, min loc id {train_data.loc_id.min()}, unique loc id:{train_data.loc_id.unique().shape[0]}\""
   ]
  },
  {
   "cell_type": "code",
   "execution_count": 105,
   "metadata": {
    "execution": {
     "iopub.execute_input": "2024-09-13T09:59:37.251878Z",
     "iopub.status.busy": "2024-09-13T09:59:37.251878Z",
     "iopub.status.idle": "2024-09-13T09:59:37.257776Z",
     "shell.execute_reply": "2024-09-13T09:59:37.257776Z",
     "shell.execute_reply.started": "2024-09-13T09:59:37.251878Z"
    }
   },
   "outputs": [
    {
     "data": {
      "text/plain": [
       "'Max loc id 28729, min loc id 30, unique loc id:5836'"
      ]
     },
     "execution_count": 105,
     "metadata": {},
     "output_type": "execute_result"
    }
   ],
   "source": [
    "f\"Max loc id {vali_data.loc_id.max()}, min loc id {vali_data.loc_id.min()}, unique loc id:{vali_data.loc_id.unique().shape[0]}\""
   ]
  },
  {
   "cell_type": "code",
   "execution_count": 106,
   "metadata": {
    "execution": {
     "iopub.execute_input": "2024-09-13T09:59:37.488755Z",
     "iopub.status.busy": "2024-09-13T09:59:37.488755Z",
     "iopub.status.idle": "2024-09-13T09:59:37.494761Z",
     "shell.execute_reply": "2024-09-13T09:59:37.494761Z",
     "shell.execute_reply.started": "2024-09-13T09:59:37.488755Z"
    }
   },
   "outputs": [
    {
     "data": {
      "text/plain": [
       "'Max loc id 28741, min loc id 341, unique loc id:4050'"
      ]
     },
     "execution_count": 106,
     "metadata": {},
     "output_type": "execute_result"
    }
   ],
   "source": [
    "f\"Max loc id {test_data.loc_id.max()}, min loc id {test_data.loc_id.min()}, unique loc id:{test_data.loc_id.unique().shape[0]}\""
   ]
  },
  {
   "cell_type": "code",
   "execution_count": 107,
   "metadata": {
    "execution": {
     "iopub.execute_input": "2024-09-13T09:59:37.711289Z",
     "iopub.status.busy": "2024-09-13T09:59:37.711289Z",
     "iopub.status.idle": "2024-09-13T09:59:37.716289Z",
     "shell.execute_reply": "2024-09-13T09:59:37.716289Z",
     "shell.execute_reply.started": "2024-09-13T09:59:37.711289Z"
    }
   },
   "outputs": [
    {
     "data": {
      "text/plain": [
       "(2880.0, 1.0)"
      ]
     },
     "execution_count": 107,
     "metadata": {},
     "output_type": "execute_result"
    }
   ],
   "source": [
    "train_data[\"act_duration\"].max(), train_data[\"act_duration\"].min()"
   ]
  },
  {
   "cell_type": "markdown",
   "metadata": {},
   "source": [
    "## Construct sequence pairs for training"
   ]
  },
  {
   "cell_type": "code",
   "execution_count": 108,
   "metadata": {
    "execution": {
     "iopub.execute_input": "2024-09-13T09:59:38.376796Z",
     "iopub.status.busy": "2024-09-13T09:59:38.376796Z",
     "iopub.status.idle": "2024-09-13T09:59:38.384630Z",
     "shell.execute_reply": "2024-09-13T09:59:38.384630Z",
     "shell.execute_reply.started": "2024-09-13T09:59:38.376796Z"
    }
   },
   "outputs": [],
   "source": [
    "def getValidSequenceUser(df):\n",
    "\n",
    "    data_ls = []\n",
    "    df = df.reset_index(drop=True).copy()\n",
    "\n",
    "    min_days = df[\"start_day\"].min()\n",
    "    df[\"diff_day\"] = df[\"start_day\"] - min_days\n",
    "\n",
    "    for index, row in df.iterrows():\n",
    "        # exclude the first records\n",
    "        if row[\"diff_day\"] < src_min_days:\n",
    "            continue\n",
    "\n",
    "        src_trace = df.iloc[: index + 1]\n",
    "        src_trace = src_trace.loc[(src_trace[\"start_day\"] >= (row[\"start_day\"] - src_max_days))]\n",
    "        if len(src_trace) < 5:\n",
    "            continue\n",
    "\n",
    "        tgt_trace = df.iloc[index + 1: ]\n",
    "        # tgt_trace = tgt_trace.loc[(tgt_trace[\"start_day\"] <= (row[\"start_day\"] + tgt_max_days))]\n",
    "\n",
    "        if ((tgt_trace[\"start_day\"].max() - tgt_trace[\"start_day\"].min()) < tgt_min_days) or len(tgt_trace) <2:\n",
    "            continue\n",
    "        if len(tgt_trace) > 256:\n",
    "            tgt_trace = tgt_trace.head(256)\n",
    "\n",
    "        curr_dict = {}\n",
    "        curr_dict[\"src\"] = src_trace[\"location_id\"].values\n",
    "        curr_dict[\"src_xy\"] = src_trace[[\"x\", \"y\"]].values\n",
    "        curr_dict[\"src_duration\"] = src_trace[\"act_duration\"].values.astype(int)\n",
    "        curr_dict[\"src_mode\"] = src_trace[\"mode\"].values\n",
    "        curr_dict[\"src_user\"] = src_trace[\"user_id\"].values[0]\n",
    "        curr_dict[\"src_weekday\"] = src_trace[\"weekday\"].values\n",
    "        curr_dict[\"src_startmin\"] = src_trace[\"start_min\"].values\n",
    "        # for mechanistic models\n",
    "        curr_dict[\"src_idx\"] = src_trace[\"idx\"].values[-1]\n",
    "\n",
    "\n",
    "        curr_dict[\"tgt\"] = tgt_trace[\"location_id\"].values\n",
    "        curr_dict[\"tgt_xy\"] = tgt_trace[[\"x\", \"y\"]].values\n",
    "        curr_dict[\"tgt_duration\"] = tgt_trace[\"act_duration\"].values.astype(int)\n",
    "        curr_dict[\"tgt_mode\"] = tgt_trace[\"mode\"].values\n",
    "        curr_dict[\"tgt_weekday\"] = tgt_trace[\"weekday\"].values\n",
    "        curr_dict[\"tgt_startmin\"] = tgt_trace[\"start_min\"].values\n",
    "\n",
    "        data_ls.append(curr_dict)\n",
    "\n",
    "    return data_ls\n",
    "\n",
    "def applyParallel(dfGrouped, func, n_jobs, print_progress=True, **kwargs):\n",
    "    return Parallel(n_jobs=n_jobs)(\n",
    "        delayed(func)(group, **kwargs) for _, group in tqdm(dfGrouped, disable=not print_progress)\n",
    "    )\n",
    "\n",
    "def get_valid_data(df):\n",
    "    valid_data = applyParallel(df.groupby(\"user_id\"),getValidSequenceUser, n_jobs=-1)\n",
    "    return [item for sublist in valid_data for item in sublist]"
   ]
  },
  {
   "cell_type": "code",
   "execution_count": 109,
   "metadata": {
    "execution": {
     "iopub.execute_input": "2024-09-13T09:59:38.760695Z",
     "iopub.status.busy": "2024-09-13T09:59:38.759695Z",
     "iopub.status.idle": "2024-09-13T10:00:13.380323Z",
     "shell.execute_reply": "2024-09-13T10:00:13.379316Z",
     "shell.execute_reply.started": "2024-09-13T09:59:38.760695Z"
    }
   },
   "outputs": [
    {
     "name": "stderr",
     "output_type": "stream",
     "text": [
      "100%|████████████████████████████████████████████████████████████████████████████████| 500/500 [00:21<00:00, 22.82it/s]\n",
      "100%|███████████████████████████████████████████████████████████████████████████████| 500/500 [00:02<00:00, 208.09it/s]\n",
      "100%|███████████████████████████████████████████████████████████████████████████████| 500/500 [00:01<00:00, 474.43it/s]\n"
     ]
    }
   ],
   "source": [
    "valid_train_data = get_valid_data(train_data)\n",
    "valid_validation_data = get_valid_data(vali_data)\n",
    "valid_test_data = get_valid_data(test_data)"
   ]
  },
  {
   "cell_type": "markdown",
   "metadata": {},
   "source": [
    "### Sequence statistics"
   ]
  },
  {
   "cell_type": "code",
   "execution_count": 110,
   "metadata": {
    "execution": {
     "iopub.execute_input": "2024-09-13T10:00:26.951777Z",
     "iopub.status.busy": "2024-09-13T10:00:26.951777Z",
     "iopub.status.idle": "2024-09-13T10:00:26.958513Z",
     "shell.execute_reply": "2024-09-13T10:00:26.957507Z",
     "shell.execute_reply.started": "2024-09-13T10:00:26.951777Z"
    }
   },
   "outputs": [
    {
     "data": {
      "text/plain": [
       "(155593, 29279, 10852)"
      ]
     },
     "execution_count": 110,
     "metadata": {},
     "output_type": "execute_result"
    }
   ],
   "source": [
    "len(valid_train_data), len(valid_validation_data), len(valid_test_data)"
   ]
  },
  {
   "cell_type": "code",
   "execution_count": 111,
   "metadata": {
    "execution": {
     "iopub.execute_input": "2024-09-13T10:00:27.642141Z",
     "iopub.status.busy": "2024-09-13T10:00:27.641141Z",
     "iopub.status.idle": "2024-09-13T10:00:27.747877Z",
     "shell.execute_reply": "2024-09-13T10:00:27.746872Z",
     "shell.execute_reply.started": "2024-09-13T10:00:27.642141Z"
    }
   },
   "outputs": [
    {
     "data": {
      "text/plain": [
       "((207, 256), (215, 256), (183, 256))"
      ]
     },
     "execution_count": 111,
     "metadata": {},
     "output_type": "execute_result"
    }
   ],
   "source": [
    "def get_max_len(ls):\n",
    "\n",
    "    max_src_len = 0\n",
    "    max_tgt_len = 0\n",
    "    for seq in ls:\n",
    "        seq_len = len(seq[\"src\"])\n",
    "        tgt_len = len(seq[\"tgt\"])\n",
    "\n",
    "        if seq_len > max_src_len:\n",
    "            max_src_len = seq_len\n",
    "        if tgt_len > max_tgt_len:\n",
    "            max_tgt_len = tgt_len\n",
    "\n",
    "    return max_src_len, max_tgt_len\n",
    "\n",
    "get_max_len(valid_train_data), get_max_len(valid_validation_data), get_max_len(valid_test_data)"
   ]
  },
  {
   "cell_type": "code",
   "execution_count": 112,
   "metadata": {
    "execution": {
     "iopub.execute_input": "2024-09-13T10:00:28.185951Z",
     "iopub.status.busy": "2024-09-13T10:00:28.184919Z",
     "iopub.status.idle": "2024-09-13T10:00:29.042310Z",
     "shell.execute_reply": "2024-09-13T10:00:29.041304Z",
     "shell.execute_reply.started": "2024-09-13T10:00:28.185951Z"
    }
   },
   "outputs": [
    {
     "name": "stderr",
     "output_type": "stream",
     "text": [
      "100%|██████████████████████████████████████████████████████████████████████| 155593/155593 [00:00<00:00, 369781.23it/s]\n",
      "100%|████████████████████████████████████████████████████████████████████████| 29279/29279 [00:00<00:00, 358262.98it/s]\n",
      "100%|█████████████████████████████████████████████████████████████████████████| 10852/10852 [00:00<00:00, 51823.33it/s]\n"
     ]
    }
   ],
   "source": [
    "MAX_LEN = 512\n",
    "GENERATE_LEN = 50\n",
    "\n",
    "def trim_data(ls, max_len = 512, split=\"train\", generate_len = 50):\n",
    "    return_ls = []\n",
    "    for record in tqdm(ls):\n",
    "        len_src = len(record[\"src\"])\n",
    "        len_tgt = len(record[\"tgt\"])\n",
    "        \n",
    "        for key, value in record.items():\n",
    "            if key == \"src_user\" or key == \"src_idx\":\n",
    "                continue\n",
    "\n",
    "            # for every set: trim too long src\n",
    "            if (\"src\" in key) and (len_src > MAX_LEN):\n",
    "                record[key] = value[(len_src - MAX_LEN) :]\n",
    "                \n",
    "            if split == \"train\": # for train and validation set\n",
    "                if (\"tgt\" in key) and (len_tgt > MAX_LEN):\n",
    "                    record[key] = value[:MAX_LEN]\n",
    "            else: # for test set\n",
    "                if \"tgt\" in key:\n",
    "                    if len_tgt < GENERATE_LEN:  # pad with 0s to GENERATE_LEN\n",
    "                        record[key] = np.pad(value, (0, generate_len - len_tgt), constant_values=0)\n",
    "                    else: # trim to GENERATE_LEN\n",
    "                        record[key] = value[:generate_len]\n",
    "        return_ls.append(record)\n",
    "    return return_ls\n",
    "\n",
    "valid_train_data_trim = trim_data(valid_train_data, max_len = MAX_LEN)\n",
    "valid_validation_data_trim = trim_data(valid_validation_data, max_len = MAX_LEN)\n",
    "valid_test_data_trim = trim_data(valid_test_data, max_len = MAX_LEN, split=\"test\", generate_len=GENERATE_LEN)"
   ]
  },
  {
   "cell_type": "code",
   "execution_count": 113,
   "metadata": {
    "execution": {
     "iopub.execute_input": "2024-09-13T10:00:29.838866Z",
     "iopub.status.busy": "2024-09-13T10:00:29.838866Z",
     "iopub.status.idle": "2024-09-13T10:00:29.942683Z",
     "shell.execute_reply": "2024-09-13T10:00:29.941679Z",
     "shell.execute_reply.started": "2024-09-13T10:00:29.838866Z"
    }
   },
   "outputs": [
    {
     "data": {
      "text/plain": [
       "((207, 256), (215, 256), (183, 50))"
      ]
     },
     "execution_count": 113,
     "metadata": {},
     "output_type": "execute_result"
    }
   ],
   "source": [
    "get_max_len(valid_train_data), get_max_len(valid_validation_data), get_max_len(valid_test_data)"
   ]
  },
  {
   "cell_type": "code",
   "execution_count": 114,
   "metadata": {
    "execution": {
     "iopub.execute_input": "2024-09-13T10:00:31.065441Z",
     "iopub.status.busy": "2024-09-13T10:00:31.065441Z",
     "iopub.status.idle": "2024-09-13T10:00:31.231947Z",
     "shell.execute_reply": "2024-09-13T10:00:31.231001Z",
     "shell.execute_reply.started": "2024-09-13T10:00:31.065441Z"
    }
   },
   "outputs": [
    {
     "name": "stderr",
     "output_type": "stream",
     "text": [
      "100%|████████████████████████████████████████████████████████████████████████| 10852/10852 [00:00<00:00, 127511.37it/s]\n"
     ]
    }
   ],
   "source": [
    "long_src_dur = []\n",
    "long_tgt_dur = []\n",
    "for record in tqdm(valid_test_data):\n",
    "    long_src_dur.extend(record[\"src_duration\"])\n",
    "    long_tgt_dur.extend(record[\"tgt_duration\"])\n",
    "\n",
    "long_src_dur = np.array(long_src_dur)\n",
    "long_tgt_dur = np.array(long_tgt_dur)"
   ]
  },
  {
   "cell_type": "code",
   "execution_count": 115,
   "metadata": {
    "execution": {
     "iopub.execute_input": "2024-09-13T10:00:31.688023Z",
     "iopub.status.busy": "2024-09-13T10:00:31.688023Z",
     "iopub.status.idle": "2024-09-13T10:00:31.692671Z",
     "shell.execute_reply": "2024-09-13T10:00:31.692671Z",
     "shell.execute_reply.started": "2024-09-13T10:00:31.688023Z"
    }
   },
   "outputs": [
    {
     "data": {
      "text/plain": [
       "(1044385, 542600)"
      ]
     },
     "execution_count": 115,
     "metadata": {},
     "output_type": "execute_result"
    }
   ],
   "source": [
    "len(long_src_dur), len(long_tgt_dur)"
   ]
  },
  {
   "cell_type": "code",
   "execution_count": 116,
   "metadata": {
    "execution": {
     "iopub.execute_input": "2024-09-13T10:00:32.191962Z",
     "iopub.status.busy": "2024-09-13T10:00:32.191962Z",
     "iopub.status.idle": "2024-09-13T10:00:32.707513Z",
     "shell.execute_reply": "2024-09-13T10:00:32.707513Z",
     "shell.execute_reply.started": "2024-09-13T10:00:32.191962Z"
    }
   },
   "outputs": [
    {
     "data": {
      "image/png": "[encoded data removed]",
      "text/plain": [
       "<Figure size 800x300 with 1 Axes>"
      ]
     },
     "metadata": {},
     "output_type": "display_data"
    }
   ],
   "source": [
    "fig, ax = plt.subplots(1, 1, figsize=(8, 3))\n",
    "\n",
    "x = np.linspace(0, np.max(long_src_dur), 500)\n",
    "\n",
    "# ax.plot(x, density(x), label=\"true\")\n",
    "\n",
    "powerlaw.plot_pdf((long_src_dur+1)/60, label=\"SRC\", color=colors[0], linewidth=2)\n",
    "powerlaw.plot_pdf((long_tgt_dur+1)/60, label=\"TGT\", color=colors[1], linewidth=2)\n",
    "\n",
    "plt.legend()\n",
    "\n",
    "plt.show()"
   ]
  },
  {
   "cell_type": "markdown",
   "metadata": {},
   "source": [
    "## Saving"
   ]
  },
  {
   "cell_type": "code",
   "execution_count": 117,
   "metadata": {
    "execution": {
     "iopub.execute_input": "2024-09-13T10:00:35.617615Z",
     "iopub.status.busy": "2024-09-13T10:00:35.616615Z",
     "iopub.status.idle": "2024-09-13T10:01:01.882786Z",
     "shell.execute_reply": "2024-09-13T10:01:01.881782Z",
     "shell.execute_reply.started": "2024-09-13T10:00:35.617615Z"
    }
   },
   "outputs": [],
   "source": [
    "# sequences\n",
    "save_pk_file(os.path.join(\"..\", \"data\", \"diff\", f\"train_level{level}_{src_min_days}_{tgt_min_days}_{data_type}.pk\"), valid_train_data)\n",
    "\n",
    "save_pk_file(os.path.join(\"..\", \"data\", \"diff\", f\"valid_level{level}_{src_min_days}_{tgt_min_days}_{data_type}.pk\"), valid_validation_data)\n",
    "\n",
    "save_pk_file(os.path.join(\"..\", \"data\", \"diff\", f\"test_level{level}_{src_min_days}_{tgt_min_days}_{data_type}.pk\"), valid_test_data)\n"
   ]
  },
  {
   "cell_type": "code",
   "execution_count": 39,
   "metadata": {
    "execution": {
     "iopub.execute_input": "2024-09-12T07:59:05.659006Z",
     "iopub.status.busy": "2024-09-12T07:59:05.659006Z",
     "iopub.status.idle": "2024-09-12T07:59:05.795045Z",
     "shell.execute_reply": "2024-09-12T07:59:05.794042Z",
     "shell.execute_reply.started": "2024-09-12T07:59:05.659006Z"
    }
   },
   "outputs": [],
   "source": [
    "# POI\n",
    "\n",
    "data = {}\n",
    "\n",
    "data[\"poiValues\"] = np.vstack(poi_df[\"poiValues\"].values)\n",
    "data[\"loc_id\"] = poi_df[\"loc_id\"].values\n",
    "\n",
    "np.save(os.path.join(\"..\", \"data\", \"diff\", f\"poi_level{level}.npy\"),data)\n"
   ]
  },
  {
   "cell_type": "markdown",
   "metadata": {},
   "source": [
    "## Test reading"
   ]
  },
  {
   "cell_type": "code",
   "execution_count": 16,
   "metadata": {},
   "outputs": [
    {
     "data": {
      "text/plain": [
       "{'src': array([10700, 10700, 10516, 10516, 10516, 10700, 11214, 10700, 10700,\n",
       "        10516, 10700, 10516, 10700, 10700, 10700, 10516, 10700, 11208,\n",
       "        10516, 11208, 10516, 10517, 10700, 10516, 10700, 10516, 10700,\n",
       "        10700, 10516], dtype=int64),\n",
       " 'src_duration': array([ 692,   74,   69,  100,   39,  517,  665, 2324,  455,  626,  823,\n",
       "         599, 2603,  216,  891,  624,  215,  548,  603,  837,  411,  169,\n",
       "         918,  616,  811,  626,  910, 1436,  680]),\n",
       " 'src_user': 1,\n",
       " 'src_weekday': array([3, 4, 4, 4, 4, 4, 4, 5, 6, 0, 0, 1, 1, 3, 3, 4, 4, 4, 5, 5, 6, 6,\n",
       "        6, 0, 0, 1, 1, 2, 3]),\n",
       " 'src_startmin': array([1147,  411,  519,  563,  647,  728, 1224,  448, 1329,  400, 1016,\n",
       "         403, 1016,  817, 1184,  402, 1017, 1189,  324,  920,  319,  693,\n",
       "         924,  403, 1015,  405, 1015,  757,  525]),\n",
       " 'tgt': array([10700, 10516, 10686, 10700, 11208, 10700, 10516, 10516, 10700,\n",
       "        10700, 12615, 10700, 10516, 10516, 10700, 10516, 10700, 11208,\n",
       "        10516, 11541, 11208, 10516, 10681, 10700, 10516, 10700, 10700,\n",
       "        10700, 11208, 11208, 11208, 10700, 10700, 11318, 10700, 10516,\n",
       "        10700, 11208], dtype=int64),\n",
       " 'tgt_duration': array([ 784,  653,   89, 1373, 1307,  835,  501,  212, 1057, 1051,  251,\n",
       "        1256,  435,  266,  617,  678,  226,  537,  600,  170,  729,  597,\n",
       "         269,  730,  663,  876,  184,  497,  656,  100,  154,   46,  162,\n",
       "         197,  558,  737,  200,  504]),\n",
       " 'tgt_weekday': array([3, 4, 4, 4, 5, 6, 0, 0, 0, 1, 2, 2, 3, 3, 3, 4, 4, 4, 5, 5, 5, 6,\n",
       "        6, 6, 0, 0, 1, 1, 1, 2, 2, 2, 2, 2, 2, 3, 3, 3]),\n",
       " 'tgt_startmin': array([1151,  522, 1156, 1198, 1155, 1089,  465,  890, 1165,  814,  417,\n",
       "         644,  472,  835, 1151,  342, 1014, 1204,  325,  919, 1069,  385,\n",
       "         966, 1213,  541, 1206,  687,  864, 1296,  498,  639,  771,  897,\n",
       "        1028, 1251,  339, 1078, 1237])}"
      ]
     },
     "execution_count": 16,
     "metadata": {},
     "output_type": "execute_result"
    }
   ],
   "source": [
    "loaded = pickle.load(open(os.path.join(\"..\", \"data\", \"diff\", f\"train_level10_13_{src_min_days}_{tgt_min_days}_tiny.pk\"), \"rb\"))\n",
    "loaded[0]"
   ]
  },
  {
   "cell_type": "markdown",
   "metadata": {},
   "source": [
    "# Pairwise distance matrix"
   ]
  },
  {
   "cell_type": "code",
   "execution_count": 14,
   "metadata": {
    "execution": {
     "iopub.execute_input": "2024-03-18T21:09:13.157321Z",
     "iopub.status.busy": "2024-03-18T21:09:13.156324Z",
     "iopub.status.idle": "2024-03-18T21:09:13.439965Z",
     "shell.execute_reply": "2024-03-18T21:09:13.439965Z",
     "shell.execute_reply.started": "2024-03-18T21:09:13.156324Z"
    }
   },
   "outputs": [],
   "source": [
    "visited_locs = pd.read_csv(\"../data/s2_loc_visited_level10_13.csv\", index_col=\"id\").sort_values(by=\"loc_id\")\n",
    "visited_locs[\"geometry\"] = visited_locs[\"geometry\"].apply(wkt.loads)\n",
    "visited_locs = gpd.GeoDataFrame(visited_locs, geometry=\"geometry\", crs=\"EPSG:4326\")\n",
    "\n",
    "visited_locs = visited_locs.to_crs(\"EPSG:2056\")"
   ]
  },
  {
   "cell_type": "code",
   "execution_count": 15,
   "metadata": {
    "execution": {
     "iopub.execute_input": "2024-03-18T21:09:14.671015Z",
     "iopub.status.busy": "2024-03-18T21:09:14.671015Z",
     "iopub.status.idle": "2024-03-18T21:09:14.690172Z",
     "shell.execute_reply": "2024-03-18T21:09:14.689173Z",
     "shell.execute_reply.started": "2024-03-18T21:09:14.671015Z"
    }
   },
   "outputs": [
    {
     "data": {
      "text/html": [
       "<div>\n",
       "<style scoped>\n",
       "    .dataframe tbody tr th:only-of-type {\n",
       "        vertical-align: middle;\n",
       "    }\n",
       "\n",
       "    .dataframe tbody tr th {\n",
       "        vertical-align: top;\n",
       "    }\n",
       "\n",
       "    .dataframe thead th {\n",
       "        text-align: right;\n",
       "    }\n",
       "</style>\n",
       "<table border=\"1\" class=\"dataframe\">\n",
       "  <thead>\n",
       "    <tr style=\"text-align: right;\">\n",
       "      <th></th>\n",
       "      <th>loc_id</th>\n",
       "      <th>level</th>\n",
       "      <th>geometry</th>\n",
       "      <th>freq</th>\n",
       "      <th>area</th>\n",
       "    </tr>\n",
       "    <tr>\n",
       "      <th>id</th>\n",
       "      <th></th>\n",
       "      <th></th>\n",
       "      <th></th>\n",
       "      <th></th>\n",
       "      <th></th>\n",
       "    </tr>\n",
       "  </thead>\n",
       "  <tbody>\n",
       "    <tr>\n",
       "      <th>0</th>\n",
       "      <td>5152981090339651584</td>\n",
       "      <td>10</td>\n",
       "      <td>POINT (2824875.045 1159436.528)</td>\n",
       "      <td>1</td>\n",
       "      <td>POLYGON ((10.405097146225662 46.50637570678295...</td>\n",
       "    </tr>\n",
       "    <tr>\n",
       "      <th>1</th>\n",
       "      <td>5152984577853095936</td>\n",
       "      <td>13</td>\n",
       "      <td>POINT (2822437.857 1167754.527)</td>\n",
       "      <td>38</td>\n",
       "      <td>POLYGON ((10.347820052132302 46.61871685680636...</td>\n",
       "    </tr>\n",
       "    <tr>\n",
       "      <th>2</th>\n",
       "      <td>5152985265047863296</td>\n",
       "      <td>13</td>\n",
       "      <td>POINT (2815796.126 1167304.569)</td>\n",
       "      <td>1</td>\n",
       "      <td>POLYGON ((10.260953592346382 46.61685460820135...</td>\n",
       "    </tr>\n",
       "    <tr>\n",
       "      <th>3</th>\n",
       "      <td>5152985299407601664</td>\n",
       "      <td>13</td>\n",
       "      <td>POINT (2816020.303 1168362.492)</td>\n",
       "      <td>1</td>\n",
       "      <td>POLYGON ((10.264376293749178 46.62629143145975...</td>\n",
       "    </tr>\n",
       "    <tr>\n",
       "      <th>4</th>\n",
       "      <td>5152985505566031872</td>\n",
       "      <td>13</td>\n",
       "      <td>POINT (2818994.419 1169160.037)</td>\n",
       "      <td>1</td>\n",
       "      <td>POLYGON ((10.303565033130825 46.63249007077394...</td>\n",
       "    </tr>\n",
       "  </tbody>\n",
       "</table>\n",
       "</div>"
      ],
      "text/plain": [
       "                 loc_id  level                         geometry  freq  \\\n",
       "id                                                                      \n",
       "0   5152981090339651584     10  POINT (2824875.045 1159436.528)     1   \n",
       "1   5152984577853095936     13  POINT (2822437.857 1167754.527)    38   \n",
       "2   5152985265047863296     13  POINT (2815796.126 1167304.569)     1   \n",
       "3   5152985299407601664     13  POINT (2816020.303 1168362.492)     1   \n",
       "4   5152985505566031872     13  POINT (2818994.419 1169160.037)     1   \n",
       "\n",
       "                                                 area  \n",
       "id                                                     \n",
       "0   POLYGON ((10.405097146225662 46.50637570678295...  \n",
       "1   POLYGON ((10.347820052132302 46.61871685680636...  \n",
       "2   POLYGON ((10.260953592346382 46.61685460820135...  \n",
       "3   POLYGON ((10.264376293749178 46.62629143145975...  \n",
       "4   POLYGON ((10.303565033130825 46.63249007077394...  "
      ]
     },
     "execution_count": 15,
     "metadata": {},
     "output_type": "execute_result"
    }
   ],
   "source": [
    "visited_locs.head()"
   ]
  },
  {
   "cell_type": "code",
   "execution_count": 16,
   "metadata": {
    "execution": {
     "iopub.execute_input": "2024-03-18T21:09:28.151178Z",
     "iopub.status.busy": "2024-03-18T21:09:28.151178Z",
     "iopub.status.idle": "2024-03-18T21:09:29.807341Z",
     "shell.execute_reply": "2024-03-18T21:09:29.807341Z",
     "shell.execute_reply.started": "2024-03-18T21:09:28.151178Z"
    }
   },
   "outputs": [],
   "source": [
    "def calculate_distance_matrix(X):\n",
    "    X = shapely.get_coordinates(X.geometry)\n",
    "\n",
    "    distance = pdist(X, 'euclidean')\n",
    "    dist_matrix = squareform(distance)\n",
    "    return dist_matrix\n",
    "    \n",
    "dist_matrix = calculate_distance_matrix(visited_locs)"
   ]
  },
  {
   "cell_type": "code",
   "execution_count": 17,
   "metadata": {
    "execution": {
     "iopub.execute_input": "2024-03-18T21:09:30.754344Z",
     "iopub.status.busy": "2024-03-18T21:09:30.753345Z",
     "iopub.status.idle": "2024-03-18T21:09:30.759833Z",
     "shell.execute_reply": "2024-03-18T21:09:30.759833Z",
     "shell.execute_reply.started": "2024-03-18T21:09:30.754344Z"
    }
   },
   "outputs": [
    {
     "data": {
      "text/plain": [
       "(14881, 14881)"
      ]
     },
     "execution_count": 17,
     "metadata": {},
     "output_type": "execute_result"
    }
   ],
   "source": [
    "dist_matrix.shape"
   ]
  },
  {
   "cell_type": "code",
   "execution_count": 18,
   "metadata": {
    "execution": {
     "iopub.execute_input": "2024-03-18T21:09:39.889545Z",
     "iopub.status.busy": "2024-03-18T21:09:39.889545Z",
     "iopub.status.idle": "2024-03-18T21:09:49.131245Z",
     "shell.execute_reply": "2024-03-18T21:09:49.131245Z",
     "shell.execute_reply.started": "2024-03-18T21:09:39.889545Z"
    }
   },
   "outputs": [],
   "source": [
    "save_pk_file(\"../data/matrix/distance_13.pk\", dist_matrix)"
   ]
  }
 ],
 "metadata": {
  "kernelspec": {
   "display_name": "Python 3 (ipykernel)",
   "language": "python",
   "name": "python3"
  },
  "language_info": {
   "codemirror_mode": {
    "name": "ipython",
    "version": 3
   },
   "file_extension": ".py",
   "mimetype": "text/x-python",
   "name": "python",
   "nbconvert_exporter": "python",
   "pygments_lexer": "ipython3",
   "version": "3.11.9"
  },
  "vscode": {
   "interpreter": {
    "hash": "49b33cb1d40561f6b5efae5453f41e3a1df95dafc5e6a9cc6fee048c2b9381af"
   }
  }
 },
 "nbformat": 4,
 "nbformat_minor": 4
}
