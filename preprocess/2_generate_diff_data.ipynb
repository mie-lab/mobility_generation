{
 "cells": [
  {
   "cell_type": "code",
   "execution_count": 1,
   "metadata": {
    "execution": {
     "iopub.execute_input": "2024-06-06T09:09:48.163037Z",
     "iopub.status.busy": "2024-06-06T09:09:48.163037Z",
     "iopub.status.idle": "2024-06-06T09:09:51.662917Z",
     "shell.execute_reply": "2024-06-06T09:09:51.662414Z",
     "shell.execute_reply.started": "2024-06-06T09:09:48.163037Z"
    }
   },
   "outputs": [],
   "source": [
    "import torch \n",
    "import numpy as np\n",
    "\n",
    "import math\n",
    "\n",
    "import os\n",
    "import pandas as pd\n",
    "import geopandas as gpd\n",
    "import pickle as pickle\n",
    "\n",
    "import shapely\n",
    "from shapely import wkt\n",
    "from tqdm import tqdm\n",
    "\n",
    "from joblib import Parallel, delayed\n",
    "\n",
    "import trackintel as ti\n",
    "from trackintel.geogr.distances import calculate_distance_matrix\n",
    "from sklearn.preprocessing import OrdinalEncoder"
   ]
  },
  {
   "cell_type": "code",
   "execution_count": 2,
   "metadata": {
    "execution": {
     "iopub.execute_input": "2024-06-06T09:09:51.663917Z",
     "iopub.status.busy": "2024-06-06T09:09:51.663917Z",
     "iopub.status.idle": "2024-06-06T09:09:51.677953Z",
     "shell.execute_reply": "2024-06-06T09:09:51.677953Z",
     "shell.execute_reply.started": "2024-06-06T09:09:51.663917Z"
    }
   },
   "outputs": [
    {
     "data": {
      "text/plain": [
       "'1.2.4'"
      ]
     },
     "execution_count": 2,
     "metadata": {},
     "output_type": "execute_result"
    }
   ],
   "source": [
    "ti.__version__"
   ]
  },
  {
   "cell_type": "code",
   "execution_count": 3,
   "metadata": {
    "execution": {
     "iopub.execute_input": "2024-06-06T09:09:51.679950Z",
     "iopub.status.busy": "2024-06-06T09:09:51.678952Z",
     "iopub.status.idle": "2024-06-06T09:09:52.124333Z",
     "shell.execute_reply": "2024-06-06T09:09:52.124333Z",
     "shell.execute_reply.started": "2024-06-06T09:09:51.679950Z"
    }
   },
   "outputs": [
    {
     "name": "stderr",
     "output_type": "stream",
     "text": [
      "C:\\ProgramData\\Anaconda3\\envs\\generation\\lib\\site-packages\\tqdm\\auto.py:21: TqdmWarning: IProgress not found. Please update jupyter and ipywidgets. See https://ipywidgets.readthedocs.io/en/stable/user_install.html\n",
      "  from .autonotebook import tqdm as notebook_tqdm\n"
     ]
    }
   ],
   "source": [
    "import sys\n",
    "sys.path.insert(1, os.path.join(sys.path[0], '..'))\n",
    "\n",
    "from loc_predict.models.markov import markov_transition_prob\n",
    "from utils.utils import load_data\n",
    "\n",
    "def save_pk_file(save_path, data):\n",
    "    \"\"\"Function to save data to pickle format given data and path.\"\"\"\n",
    "    with open(save_path, \"wb\") as handle:\n",
    "        pickle.dump(data, handle, protocol=pickle.HIGHEST_PROTOCOL)"
   ]
  },
  {
   "cell_type": "markdown",
   "metadata": {},
   "source": [
    "# Generate datasets"
   ]
  },
  {
   "cell_type": "code",
   "execution_count": 53,
   "metadata": {
    "execution": {
     "iopub.execute_input": "2024-06-06T09:18:03.305167Z",
     "iopub.status.busy": "2024-06-06T09:18:03.305167Z",
     "iopub.status.idle": "2024-06-06T09:18:03.316137Z",
     "shell.execute_reply": "2024-06-06T09:18:03.316137Z",
     "shell.execute_reply.started": "2024-06-06T09:18:03.305167Z"
    }
   },
   "outputs": [],
   "source": [
    "src_min_days = 7 * 2\n",
    "src_max_days = 7 * 3\n",
    "\n",
    "tgt_min_days = 7 * 1\n",
    "# tgt_max_days = 7 * 2\n",
    "\n",
    "data_type = \"tiny\"\n",
    "level = 13"
   ]
  },
  {
   "cell_type": "markdown",
   "metadata": {},
   "source": [
    "## Read staypoints and load with location id"
   ]
  },
  {
   "cell_type": "code",
   "execution_count": 54,
   "metadata": {
    "execution": {
     "iopub.execute_input": "2024-06-06T09:18:04.257486Z",
     "iopub.status.busy": "2024-06-06T09:18:04.256490Z",
     "iopub.status.idle": "2024-06-06T09:18:06.975069Z",
     "shell.execute_reply": "2024-06-06T09:18:06.974073Z",
     "shell.execute_reply.started": "2024-06-06T09:18:04.257486Z"
    }
   },
   "outputs": [],
   "source": [
    "sp = pd.read_csv(os.path.join(f\"../data/sp_{data_type}.csv\"), index_col=\"id\")\n",
    "loc = pd.read_csv(os.path.join(f\"../data/loc_s2_level10_{level}.csv\"), index_col=\"id\")\n",
    "\n",
    "sp = load_data(sp, loc)"
   ]
  },
  {
   "cell_type": "code",
   "execution_count": 55,
   "metadata": {
    "execution": {
     "iopub.execute_input": "2024-06-06T09:18:06.976067Z",
     "iopub.status.busy": "2024-06-06T09:18:06.976067Z",
     "iopub.status.idle": "2024-06-06T09:18:06.991029Z",
     "shell.execute_reply": "2024-06-06T09:18:06.990031Z",
     "shell.execute_reply.started": "2024-06-06T09:18:06.976067Z"
    }
   },
   "outputs": [
    {
     "data": {
      "text/plain": [
       "32044"
      ]
     },
     "execution_count": 55,
     "metadata": {},
     "output_type": "execute_result"
    }
   ],
   "source": [
    "len(sp)"
   ]
  },
  {
   "cell_type": "code",
   "execution_count": 56,
   "metadata": {
    "execution": {
     "iopub.execute_input": "2024-06-06T09:18:06.991029Z",
     "iopub.status.busy": "2024-06-06T09:18:06.991029Z",
     "iopub.status.idle": "2024-06-06T09:18:07.005532Z",
     "shell.execute_reply": "2024-06-06T09:18:07.005532Z",
     "shell.execute_reply.started": "2024-06-06T09:18:06.991029Z"
    }
   },
   "outputs": [
    {
     "data": {
      "text/html": [
       "<div>\n",
       "<style scoped>\n",
       "    .dataframe tbody tr th:only-of-type {\n",
       "        vertical-align: middle;\n",
       "    }\n",
       "\n",
       "    .dataframe tbody tr th {\n",
       "        vertical-align: top;\n",
       "    }\n",
       "\n",
       "    .dataframe thead th {\n",
       "        text-align: right;\n",
       "    }\n",
       "</style>\n",
       "<table border=\"1\" class=\"dataframe\">\n",
       "  <thead>\n",
       "    <tr style=\"text-align: right;\">\n",
       "      <th></th>\n",
       "      <th>id</th>\n",
       "      <th>user_id</th>\n",
       "      <th>started_at</th>\n",
       "      <th>finished_at</th>\n",
       "      <th>geometry</th>\n",
       "      <th>duration</th>\n",
       "      <th>act_duration</th>\n",
       "      <th>location_id</th>\n",
       "      <th>level</th>\n",
       "      <th>start_day</th>\n",
       "      <th>start_min</th>\n",
       "      <th>weekday</th>\n",
       "    </tr>\n",
       "  </thead>\n",
       "  <tbody>\n",
       "    <tr>\n",
       "      <th>0</th>\n",
       "      <td>0</td>\n",
       "      <td>BDVLG</td>\n",
       "      <td>2019-10-03 19:07:44.055999</td>\n",
       "      <td>2019-10-04 06:40:09.447</td>\n",
       "      <td>POINT (7.920717282726765 47.5429800853892)</td>\n",
       "      <td>692.0</td>\n",
       "      <td>692.0</td>\n",
       "      <td>5156702267184775168</td>\n",
       "      <td>13</td>\n",
       "      <td>0</td>\n",
       "      <td>1147</td>\n",
       "      <td>3</td>\n",
       "    </tr>\n",
       "    <tr>\n",
       "      <th>1</th>\n",
       "      <td>1</td>\n",
       "      <td>BDVLG</td>\n",
       "      <td>2019-10-04 06:51:04.049999</td>\n",
       "      <td>2019-10-04 07:55:07.296</td>\n",
       "      <td>POINT (7.9208388077268905 47.54296951038919)</td>\n",
       "      <td>64.0</td>\n",
       "      <td>74.0</td>\n",
       "      <td>5156702267184775168</td>\n",
       "      <td>13</td>\n",
       "      <td>1</td>\n",
       "      <td>411</td>\n",
       "      <td>4</td>\n",
       "    </tr>\n",
       "    <tr>\n",
       "      <th>2</th>\n",
       "      <td>2</td>\n",
       "      <td>BDVLG</td>\n",
       "      <td>2019-10-04 08:39:14.592000</td>\n",
       "      <td>2019-10-04 09:04:21.355</td>\n",
       "      <td>POINT (8.044077507894814 47.39226191030855)</td>\n",
       "      <td>25.0</td>\n",
       "      <td>69.0</td>\n",
       "      <td>5156687458137538560</td>\n",
       "      <td>13</td>\n",
       "      <td>1</td>\n",
       "      <td>519</td>\n",
       "      <td>4</td>\n",
       "    </tr>\n",
       "    <tr>\n",
       "      <th>3</th>\n",
       "      <td>3</td>\n",
       "      <td>BDVLG</td>\n",
       "      <td>2019-10-04 09:23:41.648000</td>\n",
       "      <td>2019-10-04 10:44:50.147</td>\n",
       "      <td>POINT (8.044651757895464 47.39201188530833)</td>\n",
       "      <td>81.0</td>\n",
       "      <td>100.0</td>\n",
       "      <td>5156687458137538560</td>\n",
       "      <td>13</td>\n",
       "      <td>1</td>\n",
       "      <td>563</td>\n",
       "      <td>4</td>\n",
       "    </tr>\n",
       "    <tr>\n",
       "      <th>4</th>\n",
       "      <td>4</td>\n",
       "      <td>BDVLG</td>\n",
       "      <td>2019-10-04 10:47:57.526000</td>\n",
       "      <td>2019-10-04 11:24:08.161</td>\n",
       "      <td>POINT (8.04458620789537 47.39212161030836)</td>\n",
       "      <td>36.0</td>\n",
       "      <td>39.0</td>\n",
       "      <td>5156687458137538560</td>\n",
       "      <td>13</td>\n",
       "      <td>1</td>\n",
       "      <td>647</td>\n",
       "      <td>4</td>\n",
       "    </tr>\n",
       "  </tbody>\n",
       "</table>\n",
       "</div>"
      ],
      "text/plain": [
       "   id user_id                 started_at             finished_at  \\\n",
       "0   0   BDVLG 2019-10-03 19:07:44.055999 2019-10-04 06:40:09.447   \n",
       "1   1   BDVLG 2019-10-04 06:51:04.049999 2019-10-04 07:55:07.296   \n",
       "2   2   BDVLG 2019-10-04 08:39:14.592000 2019-10-04 09:04:21.355   \n",
       "3   3   BDVLG 2019-10-04 09:23:41.648000 2019-10-04 10:44:50.147   \n",
       "4   4   BDVLG 2019-10-04 10:47:57.526000 2019-10-04 11:24:08.161   \n",
       "\n",
       "                                       geometry  duration  act_duration  \\\n",
       "0    POINT (7.920717282726765 47.5429800853892)     692.0         692.0   \n",
       "1  POINT (7.9208388077268905 47.54296951038919)      64.0          74.0   \n",
       "2   POINT (8.044077507894814 47.39226191030855)      25.0          69.0   \n",
       "3   POINT (8.044651757895464 47.39201188530833)      81.0         100.0   \n",
       "4    POINT (8.04458620789537 47.39212161030836)      36.0          39.0   \n",
       "\n",
       "           location_id  level  start_day  start_min  weekday  \n",
       "0  5156702267184775168     13          0       1147        3  \n",
       "1  5156702267184775168     13          1        411        4  \n",
       "2  5156687458137538560     13          1        519        4  \n",
       "3  5156687458137538560     13          1        563        4  \n",
       "4  5156687458137538560     13          1        647        4  "
      ]
     },
     "execution_count": 56,
     "metadata": {},
     "output_type": "execute_result"
    }
   ],
   "source": [
    "sp.head()"
   ]
  },
  {
   "cell_type": "markdown",
   "metadata": {},
   "source": [
    "## Read all locations"
   ]
  },
  {
   "cell_type": "code",
   "execution_count": 57,
   "metadata": {
    "execution": {
     "iopub.execute_input": "2024-06-06T09:18:07.007871Z",
     "iopub.status.busy": "2024-06-06T09:18:07.007871Z",
     "iopub.status.idle": "2024-06-06T09:18:07.268671Z",
     "shell.execute_reply": "2024-06-06T09:18:07.267674Z",
     "shell.execute_reply.started": "2024-06-06T09:18:07.007871Z"
    }
   },
   "outputs": [],
   "source": [
    "all_locs = pd.read_csv(f\"../data/s2_loc_visited_level10_{level}.csv\", index_col=\"id\")\n",
    "\n",
    "# geometry\n",
    "all_locs[\"geometry\"] = all_locs[\"geometry\"].apply(wkt.loads)\n",
    "all_locs = gpd.GeoDataFrame(all_locs, geometry=\"geometry\", crs=\"EPSG:4326\")\n",
    "# transform to projected coordinate systems\n",
    "all_locs = all_locs.to_crs(\"EPSG:2056\")\n",
    "\n",
    "# coordinate information\n",
    "x = all_locs[\"geometry\"].x.values\n",
    "y = all_locs[\"geometry\"].y.values\n",
    "\n",
    "all_locs[\"x\"] = (x - x.min())/1000\n",
    "all_locs[\"y\"] = (y - y.min())/1000"
   ]
  },
  {
   "cell_type": "code",
   "execution_count": 58,
   "metadata": {
    "execution": {
     "iopub.execute_input": "2024-06-06T09:18:07.269668Z",
     "iopub.status.busy": "2024-06-06T09:18:07.268671Z",
     "iopub.status.idle": "2024-06-06T09:18:07.283264Z",
     "shell.execute_reply": "2024-06-06T09:18:07.283264Z",
     "shell.execute_reply.started": "2024-06-06T09:18:07.269668Z"
    }
   },
   "outputs": [
    {
     "data": {
      "text/plain": [
       "14881"
      ]
     },
     "execution_count": 58,
     "metadata": {},
     "output_type": "execute_result"
    }
   ],
   "source": [
    "len(all_locs)"
   ]
  },
  {
   "cell_type": "code",
   "execution_count": 59,
   "metadata": {
    "execution": {
     "iopub.execute_input": "2024-06-06T09:18:07.284262Z",
     "iopub.status.busy": "2024-06-06T09:18:07.284262Z",
     "iopub.status.idle": "2024-06-06T09:18:07.299254Z",
     "shell.execute_reply": "2024-06-06T09:18:07.298256Z",
     "shell.execute_reply.started": "2024-06-06T09:18:07.284262Z"
    }
   },
   "outputs": [
    {
     "data": {
      "text/html": [
       "<div>\n",
       "<style scoped>\n",
       "    .dataframe tbody tr th:only-of-type {\n",
       "        vertical-align: middle;\n",
       "    }\n",
       "\n",
       "    .dataframe tbody tr th {\n",
       "        vertical-align: top;\n",
       "    }\n",
       "\n",
       "    .dataframe thead th {\n",
       "        text-align: right;\n",
       "    }\n",
       "</style>\n",
       "<table border=\"1\" class=\"dataframe\">\n",
       "  <thead>\n",
       "    <tr style=\"text-align: right;\">\n",
       "      <th></th>\n",
       "      <th>loc_id</th>\n",
       "      <th>level</th>\n",
       "      <th>geometry</th>\n",
       "      <th>freq</th>\n",
       "      <th>area</th>\n",
       "      <th>x</th>\n",
       "      <th>y</th>\n",
       "    </tr>\n",
       "    <tr>\n",
       "      <th>id</th>\n",
       "      <th></th>\n",
       "      <th></th>\n",
       "      <th></th>\n",
       "      <th></th>\n",
       "      <th></th>\n",
       "      <th></th>\n",
       "      <th></th>\n",
       "    </tr>\n",
       "  </thead>\n",
       "  <tbody>\n",
       "    <tr>\n",
       "      <th>0</th>\n",
       "      <td>5152981090339651584</td>\n",
       "      <td>10</td>\n",
       "      <td>POINT (2824875.045 1159436.528)</td>\n",
       "      <td>1</td>\n",
       "      <td>POLYGON ((10.405097146225662 46.50637570678295...</td>\n",
       "      <td>340.828583</td>\n",
       "      <td>83.506855</td>\n",
       "    </tr>\n",
       "    <tr>\n",
       "      <th>1</th>\n",
       "      <td>5152984577853095936</td>\n",
       "      <td>13</td>\n",
       "      <td>POINT (2822437.857 1167754.527)</td>\n",
       "      <td>38</td>\n",
       "      <td>POLYGON ((10.347820052132302 46.61871685680636...</td>\n",
       "      <td>338.391395</td>\n",
       "      <td>91.824854</td>\n",
       "    </tr>\n",
       "    <tr>\n",
       "      <th>2</th>\n",
       "      <td>5152985265047863296</td>\n",
       "      <td>13</td>\n",
       "      <td>POINT (2815796.126 1167304.569)</td>\n",
       "      <td>1</td>\n",
       "      <td>POLYGON ((10.260953592346382 46.61685460820135...</td>\n",
       "      <td>331.749664</td>\n",
       "      <td>91.374896</td>\n",
       "    </tr>\n",
       "    <tr>\n",
       "      <th>3</th>\n",
       "      <td>5152985299407601664</td>\n",
       "      <td>13</td>\n",
       "      <td>POINT (2816020.303 1168362.492)</td>\n",
       "      <td>1</td>\n",
       "      <td>POLYGON ((10.264376293749178 46.62629143145975...</td>\n",
       "      <td>331.973842</td>\n",
       "      <td>92.432819</td>\n",
       "    </tr>\n",
       "    <tr>\n",
       "      <th>4</th>\n",
       "      <td>5152985505566031872</td>\n",
       "      <td>13</td>\n",
       "      <td>POINT (2818994.419 1169160.037)</td>\n",
       "      <td>1</td>\n",
       "      <td>POLYGON ((10.303565033130825 46.63249007077394...</td>\n",
       "      <td>334.947958</td>\n",
       "      <td>93.230364</td>\n",
       "    </tr>\n",
       "  </tbody>\n",
       "</table>\n",
       "</div>"
      ],
      "text/plain": [
       "                 loc_id  level                         geometry  freq  \\\n",
       "id                                                                      \n",
       "0   5152981090339651584     10  POINT (2824875.045 1159436.528)     1   \n",
       "1   5152984577853095936     13  POINT (2822437.857 1167754.527)    38   \n",
       "2   5152985265047863296     13  POINT (2815796.126 1167304.569)     1   \n",
       "3   5152985299407601664     13  POINT (2816020.303 1168362.492)     1   \n",
       "4   5152985505566031872     13  POINT (2818994.419 1169160.037)     1   \n",
       "\n",
       "                                                 area           x          y  \n",
       "id                                                                            \n",
       "0   POLYGON ((10.405097146225662 46.50637570678295...  340.828583  83.506855  \n",
       "1   POLYGON ((10.347820052132302 46.61871685680636...  338.391395  91.824854  \n",
       "2   POLYGON ((10.260953592346382 46.61685460820135...  331.749664  91.374896  \n",
       "3   POLYGON ((10.264376293749178 46.62629143145975...  331.973842  92.432819  \n",
       "4   POLYGON ((10.303565033130825 46.63249007077394...  334.947958  93.230364  "
      ]
     },
     "execution_count": 59,
     "metadata": {},
     "output_type": "execute_result"
    }
   ],
   "source": [
    "all_locs.head()"
   ]
  },
  {
   "cell_type": "markdown",
   "metadata": {},
   "source": [
    "## Read POIs"
   ]
  },
  {
   "cell_type": "code",
   "execution_count": 60,
   "metadata": {
    "execution": {
     "iopub.execute_input": "2024-06-06T09:18:07.638603Z",
     "iopub.status.busy": "2024-06-06T09:18:07.638603Z",
     "iopub.status.idle": "2024-06-06T09:18:07.700310Z",
     "shell.execute_reply": "2024-06-06T09:18:07.700310Z",
     "shell.execute_reply.started": "2024-06-06T09:18:07.638603Z"
    }
   },
   "outputs": [],
   "source": [
    "poi_file_path = f\"../data/s2_loc_poi_level10_{level}.npy\"\n",
    "poi_file = np.load(poi_file_path, allow_pickle=True)\n",
    "\n",
    "poi_df = pd.DataFrame(columns=[\"loc_id\", \"poiValues\"])\n",
    "\n",
    "poi_df[\"loc_id\"] = poi_file[()]['loc_id']\n",
    "poi_df[\"poiValues\"] = poi_file[()]['poiValues'].tolist()"
   ]
  },
  {
   "cell_type": "code",
   "execution_count": 61,
   "metadata": {
    "execution": {
     "iopub.execute_input": "2024-06-06T09:18:08.119443Z",
     "iopub.status.busy": "2024-06-06T09:18:08.119443Z",
     "iopub.status.idle": "2024-06-06T09:18:08.133814Z",
     "shell.execute_reply": "2024-06-06T09:18:08.132816Z",
     "shell.execute_reply.started": "2024-06-06T09:18:08.119443Z"
    }
   },
   "outputs": [
    {
     "data": {
      "text/plain": [
       "39177"
      ]
     },
     "execution_count": 61,
     "metadata": {},
     "output_type": "execute_result"
    }
   ],
   "source": [
    "len(poi_df)"
   ]
  },
  {
   "cell_type": "code",
   "execution_count": 62,
   "metadata": {
    "execution": {
     "iopub.execute_input": "2024-06-06T09:18:08.510113Z",
     "iopub.status.busy": "2024-06-06T09:18:08.509114Z",
     "iopub.status.idle": "2024-06-06T09:18:08.520414Z",
     "shell.execute_reply": "2024-06-06T09:18:08.520414Z",
     "shell.execute_reply.started": "2024-06-06T09:18:08.510113Z"
    }
   },
   "outputs": [
    {
     "data": {
      "text/html": [
       "<div>\n",
       "<style scoped>\n",
       "    .dataframe tbody tr th:only-of-type {\n",
       "        vertical-align: middle;\n",
       "    }\n",
       "\n",
       "    .dataframe tbody tr th {\n",
       "        vertical-align: top;\n",
       "    }\n",
       "\n",
       "    .dataframe thead th {\n",
       "        text-align: right;\n",
       "    }\n",
       "</style>\n",
       "<table border=\"1\" class=\"dataframe\">\n",
       "  <thead>\n",
       "    <tr style=\"text-align: right;\">\n",
       "      <th></th>\n",
       "      <th>loc_id</th>\n",
       "      <th>poiValues</th>\n",
       "    </tr>\n",
       "  </thead>\n",
       "  <tbody>\n",
       "    <tr>\n",
       "      <th>0</th>\n",
       "      <td>5152981090339651584</td>\n",
       "      <td>[0.0, 0.0, 0.05307001248002052, 0.0, 0.0, 0.0,...</td>\n",
       "    </tr>\n",
       "    <tr>\n",
       "      <th>1</th>\n",
       "      <td>5152983289362907136</td>\n",
       "      <td>[0.0, 0.0, 0.0, 0.0, 0.0, 0.0, 0.0, 0.0, 0.0, ...</td>\n",
       "    </tr>\n",
       "    <tr>\n",
       "      <th>2</th>\n",
       "      <td>5152984406054404096</td>\n",
       "      <td>[0.0, 0.0, 0.0, 0.0, 0.0, 0.0, 0.0, 0.0, 0.0, ...</td>\n",
       "    </tr>\n",
       "    <tr>\n",
       "      <th>3</th>\n",
       "      <td>5152984440414142464</td>\n",
       "      <td>[0.010416706092655659, 0.010416706092655659, 0...</td>\n",
       "    </tr>\n",
       "    <tr>\n",
       "      <th>4</th>\n",
       "      <td>5152984474773880832</td>\n",
       "      <td>[0.01562500186264515, 0.01562500186264515, 0.0...</td>\n",
       "    </tr>\n",
       "  </tbody>\n",
       "</table>\n",
       "</div>"
      ],
      "text/plain": [
       "                loc_id                                          poiValues\n",
       "0  5152981090339651584  [0.0, 0.0, 0.05307001248002052, 0.0, 0.0, 0.0,...\n",
       "1  5152983289362907136  [0.0, 0.0, 0.0, 0.0, 0.0, 0.0, 0.0, 0.0, 0.0, ...\n",
       "2  5152984406054404096  [0.0, 0.0, 0.0, 0.0, 0.0, 0.0, 0.0, 0.0, 0.0, ...\n",
       "3  5152984440414142464  [0.010416706092655659, 0.010416706092655659, 0...\n",
       "4  5152984474773880832  [0.01562500186264515, 0.01562500186264515, 0.0..."
      ]
     },
     "execution_count": 62,
     "metadata": {},
     "output_type": "execute_result"
    }
   ],
   "source": [
    "poi_df.head()"
   ]
  },
  {
   "cell_type": "markdown",
   "metadata": {},
   "source": [
    "## Split into train, validation and test"
   ]
  },
  {
   "cell_type": "code",
   "execution_count": 63,
   "metadata": {
    "execution": {
     "iopub.execute_input": "2024-06-06T09:18:09.534938Z",
     "iopub.status.busy": "2024-06-06T09:18:09.534938Z",
     "iopub.status.idle": "2024-06-06T09:18:09.674081Z",
     "shell.execute_reply": "2024-06-06T09:18:09.671180Z",
     "shell.execute_reply.started": "2024-06-06T09:18:09.534938Z"
    }
   },
   "outputs": [],
   "source": [
    "def get_train_test(sp, all_locs, poi_df):\n",
    "    sp.sort_values(by=[\"user_id\", \"start_day\", \"start_min\"], inplace=True)\n",
    "    sp.drop(columns={\"started_at\", \"finished_at\"}, inplace=True)\n",
    "    sp[\"idx\"] = sp.groupby(\"user_id\").cumcount().add(1)\n",
    "\n",
    "\n",
    "    # encoder user, 0 reserved for padding\n",
    "    enc = OrdinalEncoder(dtype=np.int64)\n",
    "    sp[\"user_id\"] = enc.fit_transform(sp[\"user_id\"].values.reshape(-1, 1)) + 1\n",
    "\n",
    "    # truncate too long duration, >2 days to 2 days\n",
    "    sp.loc[sp[\"act_duration\"] > 60 * 24 * 2 - 1, \"act_duration\"] = 60 * 24 * 2 - 1\n",
    "\n",
    "    # split the datasets, user dependent 0.7, 0.2, 0.1\n",
    "    train_data, vali_data, test_data = _split_dataset(sp)\n",
    "\n",
    "    # encode unseen locations in validation and test into 0\n",
    "    enc = OrdinalEncoder(dtype=np.int64, handle_unknown=\"use_encoded_value\", unknown_value=-1).fit(\n",
    "        all_locs[\"loc_id\"].values.reshape(-1, 1)\n",
    "    )\n",
    "    # add 1 to account for 0 padding\n",
    "    all_locs[\"loc_id\"] = enc.transform(all_locs[\"loc_id\"].values.reshape(-1, 1)) + 1\n",
    "    poi_df[\"loc_id\"] = enc.transform(poi_df[\"loc_id\"].values.reshape(-1, 1)) + 1\n",
    "\n",
    "    train_data[\"location_id\"] = enc.transform(train_data[\"location_id\"].values.reshape(-1, 1)) + 1\n",
    "    vali_data[\"location_id\"] = enc.transform(vali_data[\"location_id\"].values.reshape(-1, 1)) + 1\n",
    "    test_data[\"location_id\"] = enc.transform(test_data[\"location_id\"].values.reshape(-1, 1)) + 1\n",
    "\n",
    "    return train_data, vali_data, test_data, all_locs, poi_df\n",
    "\n",
    "\n",
    "def _split_dataset(totalData):\n",
    "    \"\"\"Split dataset into train, vali and test.\"\"\"\n",
    "\n",
    "    def getSplitDaysUser(df):\n",
    "        \"\"\"Split the dataset according to the tracked day of each user.\"\"\"\n",
    "        maxDay = df[\"start_day\"].max()\n",
    "        train_split = maxDay * 0.7\n",
    "        vali_split = maxDay * 0.9\n",
    "\n",
    "        df[\"Dataset\"] = \"test\"\n",
    "        df.loc[df[\"start_day\"] < train_split, \"Dataset\"] = \"train\"\n",
    "        df.loc[\n",
    "            (df[\"start_day\"] >= train_split) & (df[\"start_day\"] < vali_split),\n",
    "            \"Dataset\",\n",
    "        ] = \"vali\"\n",
    "\n",
    "        return df\n",
    "\n",
    "    totalData = totalData.groupby(\"user_id\", group_keys=False).apply(getSplitDaysUser)\n",
    "\n",
    "    train_data = totalData.loc[totalData[\"Dataset\"] == \"train\"].copy()\n",
    "    vali_data = totalData.loc[totalData[\"Dataset\"] == \"vali\"].copy()\n",
    "    test_data = totalData.loc[totalData[\"Dataset\"] == \"test\"].copy()\n",
    "\n",
    "    # final cleaning\n",
    "    train_data.drop(columns={\"Dataset\"}, inplace=True)\n",
    "    vali_data.drop(columns={\"Dataset\"}, inplace=True)\n",
    "    test_data.drop(columns={\"Dataset\"}, inplace=True)\n",
    "\n",
    "    return train_data, vali_data, test_data\n",
    "\n",
    "train_data, vali_data, test_data, all_locs, poi_df = get_train_test(sp, all_locs=all_locs, poi_df=poi_df)"
   ]
  },
  {
   "cell_type": "markdown",
   "metadata": {},
   "source": [
    "### Data cleaning"
   ]
  },
  {
   "cell_type": "code",
   "execution_count": 64,
   "metadata": {
    "execution": {
     "iopub.execute_input": "2024-06-06T09:18:10.440805Z",
     "iopub.status.busy": "2024-06-06T09:18:10.440805Z",
     "iopub.status.idle": "2024-06-06T09:18:10.492114Z",
     "shell.execute_reply": "2024-06-06T09:18:10.492114Z",
     "shell.execute_reply.started": "2024-06-06T09:18:10.440805Z"
    }
   },
   "outputs": [],
   "source": [
    "train_data = train_data.merge(all_locs[[\"loc_id\", \"x\", \"y\"]], left_on=\"location_id\", right_on=\"loc_id\")\n",
    "vali_data = vali_data.merge(all_locs[[\"loc_id\", \"x\", \"y\"]], left_on=\"location_id\", right_on=\"loc_id\")\n",
    "test_data = test_data.merge(all_locs[[\"loc_id\", \"x\", \"y\"]], left_on=\"location_id\", right_on=\"loc_id\")\n",
    "\n",
    "train_data.sort_values(by=[\"user_id\", \"start_day\", \"start_min\"], inplace=True)\n",
    "vali_data.sort_values(by=[\"user_id\", \"start_day\", \"start_min\"], inplace=True)\n",
    "test_data.sort_values(by=[\"user_id\", \"start_day\", \"start_min\"], inplace=True)\n",
    "\n",
    "# drop unvisited locations\n",
    "poi_df = poi_df.loc[poi_df[\"loc_id\"]!=0]\n",
    "poi_df = poi_df.sort_values(by=\"loc_id\")\n",
    "poi_df = poi_df.reset_index(drop=True)"
   ]
  },
  {
   "cell_type": "markdown",
   "metadata": {},
   "source": [
    "### Consistency check"
   ]
  },
  {
   "cell_type": "code",
   "execution_count": 65,
   "metadata": {
    "execution": {
     "iopub.execute_input": "2024-06-06T09:18:11.352279Z",
     "iopub.status.busy": "2024-06-06T09:18:11.351281Z",
     "iopub.status.idle": "2024-06-06T09:18:11.375226Z",
     "shell.execute_reply": "2024-06-06T09:18:11.374228Z",
     "shell.execute_reply.started": "2024-06-06T09:18:11.352279Z"
    }
   },
   "outputs": [
    {
     "data": {
      "text/html": [
       "<div>\n",
       "<style scoped>\n",
       "    .dataframe tbody tr th:only-of-type {\n",
       "        vertical-align: middle;\n",
       "    }\n",
       "\n",
       "    .dataframe tbody tr th {\n",
       "        vertical-align: top;\n",
       "    }\n",
       "\n",
       "    .dataframe thead th {\n",
       "        text-align: right;\n",
       "    }\n",
       "</style>\n",
       "<table border=\"1\" class=\"dataframe\">\n",
       "  <thead>\n",
       "    <tr style=\"text-align: right;\">\n",
       "      <th></th>\n",
       "      <th>loc_id</th>\n",
       "      <th>poiValues</th>\n",
       "    </tr>\n",
       "  </thead>\n",
       "  <tbody>\n",
       "    <tr>\n",
       "      <th>0</th>\n",
       "      <td>1</td>\n",
       "      <td>[0.0, 0.0, 0.05307001248002052, 0.0, 0.0, 0.0,...</td>\n",
       "    </tr>\n",
       "    <tr>\n",
       "      <th>1</th>\n",
       "      <td>2</td>\n",
       "      <td>[0.04467805102467537, 0.0, 0.0, 0.053231064230...</td>\n",
       "    </tr>\n",
       "    <tr>\n",
       "      <th>2</th>\n",
       "      <td>3</td>\n",
       "      <td>[0.0, 0.0, 0.0, 0.0, 0.0, 0.0, 0.0, 0.0, 0.0, ...</td>\n",
       "    </tr>\n",
       "    <tr>\n",
       "      <th>3</th>\n",
       "      <td>4</td>\n",
       "      <td>[0.0, 0.0, 0.0, 0.0, 0.0, 0.0, 0.2531988024711...</td>\n",
       "    </tr>\n",
       "    <tr>\n",
       "      <th>4</th>\n",
       "      <td>5</td>\n",
       "      <td>[0.0156250037252903, 0.0156250037252903, 0.015...</td>\n",
       "    </tr>\n",
       "    <tr>\n",
       "      <th>...</th>\n",
       "      <td>...</td>\n",
       "      <td>...</td>\n",
       "    </tr>\n",
       "    <tr>\n",
       "      <th>14876</th>\n",
       "      <td>14877</td>\n",
       "      <td>[0.0, 0.0, 0.0, 0.0, 0.0, 0.0, 0.0, 0.0, 0.0, ...</td>\n",
       "    </tr>\n",
       "    <tr>\n",
       "      <th>14877</th>\n",
       "      <td>14878</td>\n",
       "      <td>[0.0, 0.0, 0.0, 0.0, 0.0, 0.0, 0.0, 0.0, 0.0, ...</td>\n",
       "    </tr>\n",
       "    <tr>\n",
       "      <th>14878</th>\n",
       "      <td>14879</td>\n",
       "      <td>[0.0, 0.0, 0.0, 0.0, 0.0, 0.0, 0.0, 0.0, 0.0, ...</td>\n",
       "    </tr>\n",
       "    <tr>\n",
       "      <th>14879</th>\n",
       "      <td>14880</td>\n",
       "      <td>[0.0, 0.0, 0.0, 0.0, 0.0, 0.0, 0.0, 0.0, 0.0, ...</td>\n",
       "    </tr>\n",
       "    <tr>\n",
       "      <th>14880</th>\n",
       "      <td>14881</td>\n",
       "      <td>[0.0, 0.0, 0.0, 0.0, 0.09507143497467041, 0.0,...</td>\n",
       "    </tr>\n",
       "  </tbody>\n",
       "</table>\n",
       "<p>14881 rows × 2 columns</p>\n",
       "</div>"
      ],
      "text/plain": [
       "       loc_id                                          poiValues\n",
       "0           1  [0.0, 0.0, 0.05307001248002052, 0.0, 0.0, 0.0,...\n",
       "1           2  [0.04467805102467537, 0.0, 0.0, 0.053231064230...\n",
       "2           3  [0.0, 0.0, 0.0, 0.0, 0.0, 0.0, 0.0, 0.0, 0.0, ...\n",
       "3           4  [0.0, 0.0, 0.0, 0.0, 0.0, 0.0, 0.2531988024711...\n",
       "4           5  [0.0156250037252903, 0.0156250037252903, 0.015...\n",
       "...       ...                                                ...\n",
       "14876   14877  [0.0, 0.0, 0.0, 0.0, 0.0, 0.0, 0.0, 0.0, 0.0, ...\n",
       "14877   14878  [0.0, 0.0, 0.0, 0.0, 0.0, 0.0, 0.0, 0.0, 0.0, ...\n",
       "14878   14879  [0.0, 0.0, 0.0, 0.0, 0.0, 0.0, 0.0, 0.0, 0.0, ...\n",
       "14879   14880  [0.0, 0.0, 0.0, 0.0, 0.0, 0.0, 0.0, 0.0, 0.0, ...\n",
       "14880   14881  [0.0, 0.0, 0.0, 0.0, 0.09507143497467041, 0.0,...\n",
       "\n",
       "[14881 rows x 2 columns]"
      ]
     },
     "execution_count": 65,
     "metadata": {},
     "output_type": "execute_result"
    }
   ],
   "source": [
    "poi_df"
   ]
  },
  {
   "cell_type": "code",
   "execution_count": 66,
   "metadata": {
    "execution": {
     "iopub.execute_input": "2024-06-06T09:18:12.256700Z",
     "iopub.status.busy": "2024-06-06T09:18:12.255702Z",
     "iopub.status.idle": "2024-06-06T09:18:12.272173Z",
     "shell.execute_reply": "2024-06-06T09:18:12.272173Z",
     "shell.execute_reply.started": "2024-06-06T09:18:12.256700Z"
    }
   },
   "outputs": [
    {
     "data": {
      "text/plain": [
       "'Max loc id 14881, min loc id 1, unique loc id:14881'"
      ]
     },
     "execution_count": 66,
     "metadata": {},
     "output_type": "execute_result"
    }
   ],
   "source": [
    "f\"Max loc id {all_locs.loc_id.max()}, min loc id {all_locs.loc_id.min()}, unique loc id:{all_locs.loc_id.unique().shape[0]}\""
   ]
  },
  {
   "cell_type": "code",
   "execution_count": 67,
   "metadata": {
    "execution": {
     "iopub.execute_input": "2024-06-06T09:18:12.880908Z",
     "iopub.status.busy": "2024-06-06T09:18:12.880908Z",
     "iopub.status.idle": "2024-06-06T09:18:12.896917Z",
     "shell.execute_reply": "2024-06-06T09:18:12.896379Z",
     "shell.execute_reply.started": "2024-06-06T09:18:12.880908Z"
    }
   },
   "outputs": [
    {
     "data": {
      "text/plain": [
       "'Max loc id 14881, min loc id 1, unique loc id:14881'"
      ]
     },
     "execution_count": 67,
     "metadata": {},
     "output_type": "execute_result"
    }
   ],
   "source": [
    "f\"Max loc id {poi_df.loc_id.max()}, min loc id {poi_df.loc_id.min()}, unique loc id:{poi_df.loc_id.unique().shape[0]}\""
   ]
  },
  {
   "cell_type": "code",
   "execution_count": 68,
   "metadata": {
    "execution": {
     "iopub.execute_input": "2024-06-06T09:18:13.265331Z",
     "iopub.status.busy": "2024-06-06T09:18:13.264333Z",
     "iopub.status.idle": "2024-06-06T09:18:13.283284Z",
     "shell.execute_reply": "2024-06-06T09:18:13.282287Z",
     "shell.execute_reply.started": "2024-06-06T09:18:13.265331Z"
    }
   },
   "outputs": [
    {
     "data": {
      "text/plain": [
       "'Max loc id 14863, min loc id 109, unique loc id:1539'"
      ]
     },
     "execution_count": 68,
     "metadata": {},
     "output_type": "execute_result"
    }
   ],
   "source": [
    "f\"Max loc id {train_data.loc_id.max()}, min loc id {train_data.loc_id.min()}, unique loc id:{train_data.loc_id.unique().shape[0]}\""
   ]
  },
  {
   "cell_type": "code",
   "execution_count": 69,
   "metadata": {
    "execution": {
     "iopub.execute_input": "2024-06-06T09:18:13.686986Z",
     "iopub.status.busy": "2024-06-06T09:18:13.686986Z",
     "iopub.status.idle": "2024-06-06T09:18:13.700977Z",
     "shell.execute_reply": "2024-06-06T09:18:13.699980Z",
     "shell.execute_reply.started": "2024-06-06T09:18:13.686986Z"
    }
   },
   "outputs": [
    {
     "data": {
      "text/plain": [
       "'Max loc id 14797, min loc id 23, unique loc id:809'"
      ]
     },
     "execution_count": 69,
     "metadata": {},
     "output_type": "execute_result"
    }
   ],
   "source": [
    "f\"Max loc id {vali_data.loc_id.max()}, min loc id {vali_data.loc_id.min()}, unique loc id:{vali_data.loc_id.unique().shape[0]}\""
   ]
  },
  {
   "cell_type": "code",
   "execution_count": 70,
   "metadata": {
    "execution": {
     "iopub.execute_input": "2024-06-06T09:18:14.248427Z",
     "iopub.status.busy": "2024-06-06T09:18:14.248427Z",
     "iopub.status.idle": "2024-06-06T09:18:14.257402Z",
     "shell.execute_reply": "2024-06-06T09:18:14.257402Z",
     "shell.execute_reply.started": "2024-06-06T09:18:14.248427Z"
    }
   },
   "outputs": [
    {
     "data": {
      "text/plain": [
       "'Max loc id 14817, min loc id 383, unique loc id:527'"
      ]
     },
     "execution_count": 70,
     "metadata": {},
     "output_type": "execute_result"
    }
   ],
   "source": [
    "f\"Max loc id {test_data.loc_id.max()}, min loc id {test_data.loc_id.min()}, unique loc id:{test_data.loc_id.unique().shape[0]}\""
   ]
  },
  {
   "cell_type": "code",
   "execution_count": 76,
   "metadata": {
    "execution": {
     "iopub.execute_input": "2024-06-06T09:22:55.976695Z",
     "iopub.status.busy": "2024-06-06T09:22:55.976695Z",
     "iopub.status.idle": "2024-06-06T09:22:55.984814Z",
     "shell.execute_reply": "2024-06-06T09:22:55.984814Z",
     "shell.execute_reply.started": "2024-06-06T09:22:55.976695Z"
    }
   },
   "outputs": [
    {
     "data": {
      "text/plain": [
       "2879.0"
      ]
     },
     "execution_count": 76,
     "metadata": {},
     "output_type": "execute_result"
    }
   ],
   "source": [
    "train_data[\"act_duration\"].max()"
   ]
  },
  {
   "cell_type": "markdown",
   "metadata": {},
   "source": [
    "## Construct sequence pairs for training"
   ]
  },
  {
   "cell_type": "code",
   "execution_count": 71,
   "metadata": {
    "execution": {
     "iopub.execute_input": "2024-06-06T09:18:15.823144Z",
     "iopub.status.busy": "2024-06-06T09:18:15.823144Z",
     "iopub.status.idle": "2024-06-06T09:18:15.841097Z",
     "shell.execute_reply": "2024-06-06T09:18:15.840138Z",
     "shell.execute_reply.started": "2024-06-06T09:18:15.823144Z"
    }
   },
   "outputs": [],
   "source": [
    "def getValidSequenceUser(df):\n",
    "\n",
    "    data_ls = []\n",
    "    df = df.reset_index(drop=True).copy()\n",
    "\n",
    "    min_days = df[\"start_day\"].min()\n",
    "    df[\"diff_day\"] = df[\"start_day\"] - min_days\n",
    "\n",
    "    for index, row in df.iterrows():\n",
    "        # exclude the first records\n",
    "        if row[\"diff_day\"] < src_min_days:\n",
    "            continue\n",
    "\n",
    "        src_trace = df.iloc[: index + 1]\n",
    "        src_trace = src_trace.loc[(src_trace[\"start_day\"] >= (row[\"start_day\"] - src_max_days))]\n",
    "        if len(src_trace) < 5:\n",
    "            continue\n",
    "\n",
    "        tgt_trace = df.iloc[index + 1: ]\n",
    "        # tgt_trace = tgt_trace.loc[(tgt_trace[\"start_day\"] <= (row[\"start_day\"] + tgt_max_days))]\n",
    "\n",
    "        if ((tgt_trace[\"start_day\"].max() - tgt_trace[\"start_day\"].min()) < tgt_min_days) or len(tgt_trace) <2:\n",
    "            continue\n",
    "        if len(tgt_trace) > 256:\n",
    "            tgt_trace = tgt_trace.head(256)\n",
    "\n",
    "        curr_dict = {}\n",
    "        curr_dict[\"src\"] = src_trace[\"location_id\"].values\n",
    "        curr_dict[\"src_xy\"] = src_trace[[\"x\", \"y\"]].values\n",
    "        curr_dict[\"src_duration\"] = src_trace[\"act_duration\"].values.astype(int)\n",
    "        curr_dict[\"src_user\"] = src_trace[\"user_id\"].values[0]\n",
    "        curr_dict[\"src_weekday\"] = src_trace[\"weekday\"].values\n",
    "        curr_dict[\"src_startmin\"] = src_trace[\"start_min\"].values\n",
    "        # for mechanistic models\n",
    "        curr_dict[\"src_idx\"] = src_trace[\"idx\"].values[-1]\n",
    "\n",
    "\n",
    "        curr_dict[\"tgt\"] = tgt_trace[\"location_id\"].values\n",
    "        curr_dict[\"tgt_xy\"] = tgt_trace[[\"x\", \"y\"]].values\n",
    "        curr_dict[\"tgt_duration\"] = tgt_trace[\"act_duration\"].values.astype(int)\n",
    "        curr_dict[\"tgt_weekday\"] = tgt_trace[\"weekday\"].values\n",
    "        curr_dict[\"tgt_startmin\"] = tgt_trace[\"start_min\"].values\n",
    "\n",
    "        data_ls.append(curr_dict)\n",
    "\n",
    "    return data_ls\n",
    "\n",
    "def applyParallel(dfGrouped, func, n_jobs, print_progress=True, **kwargs):\n",
    "    return Parallel(n_jobs=n_jobs)(\n",
    "        delayed(func)(group, **kwargs) for _, group in tqdm(dfGrouped, disable=not print_progress)\n",
    "    )\n",
    "\n",
    "def get_valid_data(df):\n",
    "    valid_data = applyParallel(df.groupby(\"user_id\"),getValidSequenceUser, n_jobs=-1)\n",
    "    return [item for sublist in valid_data for item in sublist]"
   ]
  },
  {
   "cell_type": "code",
   "execution_count": 72,
   "metadata": {
    "execution": {
     "iopub.execute_input": "2024-06-06T09:18:17.256317Z",
     "iopub.status.busy": "2024-06-06T09:18:17.256317Z",
     "iopub.status.idle": "2024-06-06T09:18:26.892429Z",
     "shell.execute_reply": "2024-06-06T09:18:26.892429Z",
     "shell.execute_reply.started": "2024-06-06T09:18:17.256317Z"
    }
   },
   "outputs": [
    {
     "name": "stderr",
     "output_type": "stream",
     "text": [
      "100%|█████████████████████████████████████████████████████████████████████████████████| 50/50 [00:00<00:00, 587.77it/s]\n",
      "100%|████████████████████████████████████████████████████████████████████████████████| 50/50 [00:00<00:00, 3590.89it/s]\n",
      "100%|████████████████████████████████████████████████████████████████████████████████| 50/50 [00:00<00:00, 4177.68it/s]\n"
     ]
    }
   ],
   "source": [
    "valid_train_data = get_valid_data(train_data)\n",
    "valid_validation_data = get_valid_data(vali_data)\n",
    "valid_test_data = get_valid_data(test_data)"
   ]
  },
  {
   "cell_type": "markdown",
   "metadata": {},
   "source": [
    "### Sequence statistics"
   ]
  },
  {
   "cell_type": "code",
   "execution_count": 73,
   "metadata": {
    "execution": {
     "iopub.execute_input": "2024-06-06T09:18:27.751741Z",
     "iopub.status.busy": "2024-06-06T09:18:27.751741Z",
     "iopub.status.idle": "2024-06-06T09:18:27.756767Z",
     "shell.execute_reply": "2024-06-06T09:18:27.756767Z",
     "shell.execute_reply.started": "2024-06-06T09:18:27.751741Z"
    }
   },
   "outputs": [
    {
     "data": {
      "text/plain": [
       "(18176, 4212, 1559)"
      ]
     },
     "execution_count": 73,
     "metadata": {},
     "output_type": "execute_result"
    }
   ],
   "source": [
    "len(valid_train_data), len(valid_validation_data), len(valid_test_data)"
   ]
  },
  {
   "cell_type": "code",
   "execution_count": 74,
   "metadata": {
    "execution": {
     "iopub.execute_input": "2024-06-06T09:18:29.305162Z",
     "iopub.status.busy": "2024-06-06T09:18:29.305162Z",
     "iopub.status.idle": "2024-06-06T09:18:29.335417Z",
     "shell.execute_reply": "2024-06-06T09:18:29.335417Z",
     "shell.execute_reply.started": "2024-06-06T09:18:29.305162Z"
    }
   },
   "outputs": [
    {
     "data": {
      "text/plain": [
       "((189, 256), (215, 256), (142, 256))"
      ]
     },
     "execution_count": 74,
     "metadata": {},
     "output_type": "execute_result"
    }
   ],
   "source": [
    "def get_max_len(ls):\n",
    "\n",
    "    max_src_len = 0\n",
    "    max_tgt_len = 0\n",
    "    for seq in ls:\n",
    "        seq_len = len(seq[\"src\"])\n",
    "        tgt_len = len(seq[\"tgt\"])\n",
    "\n",
    "        if seq_len > max_src_len:\n",
    "            max_src_len = seq_len\n",
    "        if tgt_len > max_tgt_len:\n",
    "            max_tgt_len = tgt_len\n",
    "\n",
    "    return max_src_len, max_tgt_len\n",
    "\n",
    "get_max_len(valid_train_data), get_max_len(valid_validation_data), get_max_len(valid_test_data)"
   ]
  },
  {
   "cell_type": "markdown",
   "metadata": {},
   "source": [
    "## Saving"
   ]
  },
  {
   "cell_type": "code",
   "execution_count": 75,
   "metadata": {
    "execution": {
     "iopub.execute_input": "2024-06-06T09:18:32.735259Z",
     "iopub.status.busy": "2024-06-06T09:18:32.735259Z",
     "iopub.status.idle": "2024-06-06T09:18:34.509365Z",
     "shell.execute_reply": "2024-06-06T09:18:34.508374Z",
     "shell.execute_reply.started": "2024-06-06T09:18:32.735259Z"
    }
   },
   "outputs": [],
   "source": [
    "# sequences\n",
    "save_pk_file(os.path.join(\"..\", \"data\", \"diff\", f\"train_level{level}_{src_min_days}_{tgt_min_days}_{data_type}.pk\"), valid_train_data)\n",
    "\n",
    "save_pk_file(os.path.join(\"..\", \"data\", \"diff\", f\"valid_level{level}_{src_min_days}_{tgt_min_days}_{data_type}.pk\"), valid_validation_data)\n",
    "\n",
    "save_pk_file(os.path.join(\"..\", \"data\", \"diff\", f\"test_level{level}_{src_min_days}_{tgt_min_days}_{data_type}.pk\"), valid_test_data)\n"
   ]
  },
  {
   "cell_type": "code",
   "execution_count": 29,
   "metadata": {
    "execution": {
     "iopub.execute_input": "2024-06-06T09:15:35.607371Z",
     "iopub.status.busy": "2024-06-06T09:15:35.607371Z",
     "iopub.status.idle": "2024-06-06T09:15:35.664249Z",
     "shell.execute_reply": "2024-06-06T09:15:35.663183Z",
     "shell.execute_reply.started": "2024-06-06T09:15:35.607371Z"
    }
   },
   "outputs": [],
   "source": [
    "# POI\n",
    "\n",
    "data = {}\n",
    "\n",
    "data[\"poiValues\"] = np.vstack(poi_df[\"poiValues\"].values)\n",
    "data[\"loc_id\"] = poi_df[\"loc_id\"].values\n",
    "\n",
    "np.save(os.path.join(\"..\", \"data\", \"diff\", f\"poi_level{level}.npy\"),data)\n"
   ]
  },
  {
   "cell_type": "markdown",
   "metadata": {},
   "source": [
    "## Test reading"
   ]
  },
  {
   "cell_type": "code",
   "execution_count": 16,
   "metadata": {},
   "outputs": [
    {
     "data": {
      "text/plain": [
       "{'src': array([10700, 10700, 10516, 10516, 10516, 10700, 11214, 10700, 10700,\n",
       "        10516, 10700, 10516, 10700, 10700, 10700, 10516, 10700, 11208,\n",
       "        10516, 11208, 10516, 10517, 10700, 10516, 10700, 10516, 10700,\n",
       "        10700, 10516], dtype=int64),\n",
       " 'src_duration': array([ 692,   74,   69,  100,   39,  517,  665, 2324,  455,  626,  823,\n",
       "         599, 2603,  216,  891,  624,  215,  548,  603,  837,  411,  169,\n",
       "         918,  616,  811,  626,  910, 1436,  680]),\n",
       " 'src_user': 1,\n",
       " 'src_weekday': array([3, 4, 4, 4, 4, 4, 4, 5, 6, 0, 0, 1, 1, 3, 3, 4, 4, 4, 5, 5, 6, 6,\n",
       "        6, 0, 0, 1, 1, 2, 3]),\n",
       " 'src_startmin': array([1147,  411,  519,  563,  647,  728, 1224,  448, 1329,  400, 1016,\n",
       "         403, 1016,  817, 1184,  402, 1017, 1189,  324,  920,  319,  693,\n",
       "         924,  403, 1015,  405, 1015,  757,  525]),\n",
       " 'tgt': array([10700, 10516, 10686, 10700, 11208, 10700, 10516, 10516, 10700,\n",
       "        10700, 12615, 10700, 10516, 10516, 10700, 10516, 10700, 11208,\n",
       "        10516, 11541, 11208, 10516, 10681, 10700, 10516, 10700, 10700,\n",
       "        10700, 11208, 11208, 11208, 10700, 10700, 11318, 10700, 10516,\n",
       "        10700, 11208], dtype=int64),\n",
       " 'tgt_duration': array([ 784,  653,   89, 1373, 1307,  835,  501,  212, 1057, 1051,  251,\n",
       "        1256,  435,  266,  617,  678,  226,  537,  600,  170,  729,  597,\n",
       "         269,  730,  663,  876,  184,  497,  656,  100,  154,   46,  162,\n",
       "         197,  558,  737,  200,  504]),\n",
       " 'tgt_weekday': array([3, 4, 4, 4, 5, 6, 0, 0, 0, 1, 2, 2, 3, 3, 3, 4, 4, 4, 5, 5, 5, 6,\n",
       "        6, 6, 0, 0, 1, 1, 1, 2, 2, 2, 2, 2, 2, 3, 3, 3]),\n",
       " 'tgt_startmin': array([1151,  522, 1156, 1198, 1155, 1089,  465,  890, 1165,  814,  417,\n",
       "         644,  472,  835, 1151,  342, 1014, 1204,  325,  919, 1069,  385,\n",
       "         966, 1213,  541, 1206,  687,  864, 1296,  498,  639,  771,  897,\n",
       "        1028, 1251,  339, 1078, 1237])}"
      ]
     },
     "execution_count": 16,
     "metadata": {},
     "output_type": "execute_result"
    }
   ],
   "source": [
    "loaded = pickle.load(open(os.path.join(\"..\", \"data\", \"diff\", f\"train_level10_13_{src_min_days}_{tgt_min_days}_tiny.pk\"), \"rb\"))\n",
    "loaded[0]"
   ]
  },
  {
   "cell_type": "markdown",
   "metadata": {},
   "source": [
    "# Pairwise distance matrix"
   ]
  },
  {
   "cell_type": "code",
   "execution_count": 14,
   "metadata": {
    "execution": {
     "iopub.execute_input": "2024-03-18T21:09:13.157321Z",
     "iopub.status.busy": "2024-03-18T21:09:13.156324Z",
     "iopub.status.idle": "2024-03-18T21:09:13.439965Z",
     "shell.execute_reply": "2024-03-18T21:09:13.439965Z",
     "shell.execute_reply.started": "2024-03-18T21:09:13.156324Z"
    }
   },
   "outputs": [],
   "source": [
    "visited_locs = pd.read_csv(\"../data/s2_loc_visited_level10_13.csv\", index_col=\"id\").sort_values(by=\"loc_id\")\n",
    "visited_locs[\"geometry\"] = visited_locs[\"geometry\"].apply(wkt.loads)\n",
    "visited_locs = gpd.GeoDataFrame(visited_locs, geometry=\"geometry\", crs=\"EPSG:4326\")\n",
    "\n",
    "visited_locs = visited_locs.to_crs(\"EPSG:2056\")"
   ]
  },
  {
   "cell_type": "code",
   "execution_count": 15,
   "metadata": {
    "execution": {
     "iopub.execute_input": "2024-03-18T21:09:14.671015Z",
     "iopub.status.busy": "2024-03-18T21:09:14.671015Z",
     "iopub.status.idle": "2024-03-18T21:09:14.690172Z",
     "shell.execute_reply": "2024-03-18T21:09:14.689173Z",
     "shell.execute_reply.started": "2024-03-18T21:09:14.671015Z"
    }
   },
   "outputs": [
    {
     "data": {
      "text/html": [
       "<div>\n",
       "<style scoped>\n",
       "    .dataframe tbody tr th:only-of-type {\n",
       "        vertical-align: middle;\n",
       "    }\n",
       "\n",
       "    .dataframe tbody tr th {\n",
       "        vertical-align: top;\n",
       "    }\n",
       "\n",
       "    .dataframe thead th {\n",
       "        text-align: right;\n",
       "    }\n",
       "</style>\n",
       "<table border=\"1\" class=\"dataframe\">\n",
       "  <thead>\n",
       "    <tr style=\"text-align: right;\">\n",
       "      <th></th>\n",
       "      <th>loc_id</th>\n",
       "      <th>level</th>\n",
       "      <th>geometry</th>\n",
       "      <th>freq</th>\n",
       "      <th>area</th>\n",
       "    </tr>\n",
       "    <tr>\n",
       "      <th>id</th>\n",
       "      <th></th>\n",
       "      <th></th>\n",
       "      <th></th>\n",
       "      <th></th>\n",
       "      <th></th>\n",
       "    </tr>\n",
       "  </thead>\n",
       "  <tbody>\n",
       "    <tr>\n",
       "      <th>0</th>\n",
       "      <td>5152981090339651584</td>\n",
       "      <td>10</td>\n",
       "      <td>POINT (2824875.045 1159436.528)</td>\n",
       "      <td>1</td>\n",
       "      <td>POLYGON ((10.405097146225662 46.50637570678295...</td>\n",
       "    </tr>\n",
       "    <tr>\n",
       "      <th>1</th>\n",
       "      <td>5152984577853095936</td>\n",
       "      <td>13</td>\n",
       "      <td>POINT (2822437.857 1167754.527)</td>\n",
       "      <td>38</td>\n",
       "      <td>POLYGON ((10.347820052132302 46.61871685680636...</td>\n",
       "    </tr>\n",
       "    <tr>\n",
       "      <th>2</th>\n",
       "      <td>5152985265047863296</td>\n",
       "      <td>13</td>\n",
       "      <td>POINT (2815796.126 1167304.569)</td>\n",
       "      <td>1</td>\n",
       "      <td>POLYGON ((10.260953592346382 46.61685460820135...</td>\n",
       "    </tr>\n",
       "    <tr>\n",
       "      <th>3</th>\n",
       "      <td>5152985299407601664</td>\n",
       "      <td>13</td>\n",
       "      <td>POINT (2816020.303 1168362.492)</td>\n",
       "      <td>1</td>\n",
       "      <td>POLYGON ((10.264376293749178 46.62629143145975...</td>\n",
       "    </tr>\n",
       "    <tr>\n",
       "      <th>4</th>\n",
       "      <td>5152985505566031872</td>\n",
       "      <td>13</td>\n",
       "      <td>POINT (2818994.419 1169160.037)</td>\n",
       "      <td>1</td>\n",
       "      <td>POLYGON ((10.303565033130825 46.63249007077394...</td>\n",
       "    </tr>\n",
       "  </tbody>\n",
       "</table>\n",
       "</div>"
      ],
      "text/plain": [
       "                 loc_id  level                         geometry  freq  \\\n",
       "id                                                                      \n",
       "0   5152981090339651584     10  POINT (2824875.045 1159436.528)     1   \n",
       "1   5152984577853095936     13  POINT (2822437.857 1167754.527)    38   \n",
       "2   5152985265047863296     13  POINT (2815796.126 1167304.569)     1   \n",
       "3   5152985299407601664     13  POINT (2816020.303 1168362.492)     1   \n",
       "4   5152985505566031872     13  POINT (2818994.419 1169160.037)     1   \n",
       "\n",
       "                                                 area  \n",
       "id                                                     \n",
       "0   POLYGON ((10.405097146225662 46.50637570678295...  \n",
       "1   POLYGON ((10.347820052132302 46.61871685680636...  \n",
       "2   POLYGON ((10.260953592346382 46.61685460820135...  \n",
       "3   POLYGON ((10.264376293749178 46.62629143145975...  \n",
       "4   POLYGON ((10.303565033130825 46.63249007077394...  "
      ]
     },
     "execution_count": 15,
     "metadata": {},
     "output_type": "execute_result"
    }
   ],
   "source": [
    "visited_locs.head()"
   ]
  },
  {
   "cell_type": "code",
   "execution_count": 16,
   "metadata": {
    "execution": {
     "iopub.execute_input": "2024-03-18T21:09:28.151178Z",
     "iopub.status.busy": "2024-03-18T21:09:28.151178Z",
     "iopub.status.idle": "2024-03-18T21:09:29.807341Z",
     "shell.execute_reply": "2024-03-18T21:09:29.807341Z",
     "shell.execute_reply.started": "2024-03-18T21:09:28.151178Z"
    }
   },
   "outputs": [],
   "source": [
    "def calculate_distance_matrix(X):\n",
    "    X = shapely.get_coordinates(X.geometry)\n",
    "\n",
    "    distance = pdist(X, 'euclidean')\n",
    "    dist_matrix = squareform(distance)\n",
    "    return dist_matrix\n",
    "    \n",
    "dist_matrix = calculate_distance_matrix(visited_locs)"
   ]
  },
  {
   "cell_type": "code",
   "execution_count": 17,
   "metadata": {
    "execution": {
     "iopub.execute_input": "2024-03-18T21:09:30.754344Z",
     "iopub.status.busy": "2024-03-18T21:09:30.753345Z",
     "iopub.status.idle": "2024-03-18T21:09:30.759833Z",
     "shell.execute_reply": "2024-03-18T21:09:30.759833Z",
     "shell.execute_reply.started": "2024-03-18T21:09:30.754344Z"
    }
   },
   "outputs": [
    {
     "data": {
      "text/plain": [
       "(14881, 14881)"
      ]
     },
     "execution_count": 17,
     "metadata": {},
     "output_type": "execute_result"
    }
   ],
   "source": [
    "dist_matrix.shape"
   ]
  },
  {
   "cell_type": "code",
   "execution_count": 18,
   "metadata": {
    "execution": {
     "iopub.execute_input": "2024-03-18T21:09:39.889545Z",
     "iopub.status.busy": "2024-03-18T21:09:39.889545Z",
     "iopub.status.idle": "2024-03-18T21:09:49.131245Z",
     "shell.execute_reply": "2024-03-18T21:09:49.131245Z",
     "shell.execute_reply.started": "2024-03-18T21:09:39.889545Z"
    }
   },
   "outputs": [],
   "source": [
    "save_pk_file(\"../data/matrix/distance_13.pk\", dist_matrix)"
   ]
  }
 ],
 "metadata": {
  "kernelspec": {
   "display_name": "Python 3 (ipykernel)",
   "language": "python",
   "name": "python3"
  },
  "language_info": {
   "codemirror_mode": {
    "name": "ipython",
    "version": 3
   },
   "file_extension": ".py",
   "mimetype": "text/x-python",
   "name": "python",
   "nbconvert_exporter": "python",
   "pygments_lexer": "ipython3",
   "version": "3.9.17"
  },
  "vscode": {
   "interpreter": {
    "hash": "659ffd3ea00dbbc52f857660b8dafea05f804bc55dd91047cefb31e38b5505f6"
   }
  }
 },
 "nbformat": 4,
 "nbformat_minor": 4
}
