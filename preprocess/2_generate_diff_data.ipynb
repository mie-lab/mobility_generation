{
 "cells": [
  {
   "cell_type": "code",
   "execution_count": 28,
   "metadata": {
    "execution": {
     "iopub.execute_input": "2024-06-11T21:18:10.109458Z",
     "iopub.status.busy": "2024-06-11T21:18:10.109458Z",
     "iopub.status.idle": "2024-06-11T21:18:10.115950Z",
     "shell.execute_reply": "2024-06-11T21:18:10.115950Z",
     "shell.execute_reply.started": "2024-06-11T21:18:10.109458Z"
    }
   },
   "outputs": [],
   "source": [
    "import torch \n",
    "import numpy as np\n",
    "\n",
    "import math\n",
    "\n",
    "import os\n",
    "import pandas as pd\n",
    "import geopandas as gpd\n",
    "import pickle as pickle\n",
    "\n",
    "import shapely\n",
    "from shapely import wkt\n",
    "from tqdm import tqdm\n",
    "\n",
    "from joblib import Parallel, delayed\n",
    "\n",
    "import trackintel as ti\n",
    "from trackintel.geogr.distances import calculate_distance_matrix\n",
    "from sklearn.preprocessing import OrdinalEncoder"
   ]
  },
  {
   "cell_type": "code",
   "execution_count": 29,
   "metadata": {
    "execution": {
     "iopub.execute_input": "2024-06-11T21:18:10.400708Z",
     "iopub.status.busy": "2024-06-11T21:18:10.399747Z",
     "iopub.status.idle": "2024-06-11T21:18:10.412676Z",
     "shell.execute_reply": "2024-06-11T21:18:10.412676Z",
     "shell.execute_reply.started": "2024-06-11T21:18:10.400708Z"
    }
   },
   "outputs": [
    {
     "data": {
      "text/plain": [
       "'1.2.4'"
      ]
     },
     "execution_count": 29,
     "metadata": {},
     "output_type": "execute_result"
    }
   ],
   "source": [
    "ti.__version__"
   ]
  },
  {
   "cell_type": "code",
   "execution_count": 30,
   "metadata": {
    "execution": {
     "iopub.execute_input": "2024-06-11T21:18:10.643067Z",
     "iopub.status.busy": "2024-06-11T21:18:10.642070Z",
     "iopub.status.idle": "2024-06-11T21:18:10.648054Z",
     "shell.execute_reply": "2024-06-11T21:18:10.648054Z",
     "shell.execute_reply.started": "2024-06-11T21:18:10.643067Z"
    }
   },
   "outputs": [],
   "source": [
    "import sys\n",
    "sys.path.insert(1, os.path.join(sys.path[0], '..'))\n",
    "\n",
    "from loc_predict.models.markov import markov_transition_prob\n",
    "from utils.utils import load_data\n",
    "\n",
    "def save_pk_file(save_path, data):\n",
    "    \"\"\"Function to save data to pickle format given data and path.\"\"\"\n",
    "    with open(save_path, \"wb\") as handle:\n",
    "        pickle.dump(data, handle, protocol=pickle.HIGHEST_PROTOCOL)"
   ]
  },
  {
   "cell_type": "markdown",
   "metadata": {},
   "source": [
    "# Generate datasets"
   ]
  },
  {
   "cell_type": "code",
   "execution_count": 107,
   "metadata": {
    "execution": {
     "iopub.execute_input": "2024-06-11T21:38:59.198985Z",
     "iopub.status.busy": "2024-06-11T21:38:59.197988Z",
     "iopub.status.idle": "2024-06-11T21:38:59.213980Z",
     "shell.execute_reply": "2024-06-11T21:38:59.212980Z",
     "shell.execute_reply.started": "2024-06-11T21:38:59.198985Z"
    }
   },
   "outputs": [],
   "source": [
    "src_min_days = 7 * 2\n",
    "src_max_days = 7 * 3\n",
    "\n",
    "tgt_min_days = 7 * 1\n",
    "# tgt_max_days = 7 * 2\n",
    "\n",
    "data_type = \"all\"\n",
    "level = 13"
   ]
  },
  {
   "cell_type": "markdown",
   "metadata": {},
   "source": [
    "## Read staypoints and load with location id"
   ]
  },
  {
   "cell_type": "code",
   "execution_count": 108,
   "metadata": {
    "execution": {
     "iopub.execute_input": "2024-06-11T21:38:59.874251Z",
     "iopub.status.busy": "2024-06-11T21:38:59.874251Z",
     "iopub.status.idle": "2024-06-11T21:39:12.920393Z",
     "shell.execute_reply": "2024-06-11T21:39:12.919445Z",
     "shell.execute_reply.started": "2024-06-11T21:38:59.874251Z"
    }
   },
   "outputs": [],
   "source": [
    "sp = pd.read_csv(os.path.join(f\"../data/sp_{data_type}.csv\"), index_col=\"id\")\n",
    "loc = pd.read_csv(os.path.join(f\"../data/loc_s2_level10_{level}.csv\"), index_col=\"id\")\n",
    "\n",
    "sp = load_data(sp, loc)\n",
    "sp[\"length\"] = sp[\"length\"]/1000"
   ]
  },
  {
   "cell_type": "code",
   "execution_count": 109,
   "metadata": {
    "execution": {
     "iopub.execute_input": "2024-06-11T21:39:12.922403Z",
     "iopub.status.busy": "2024-06-11T21:39:12.921371Z",
     "iopub.status.idle": "2024-06-11T21:39:12.934336Z",
     "shell.execute_reply": "2024-06-11T21:39:12.934336Z",
     "shell.execute_reply.started": "2024-06-11T21:39:12.922403Z"
    }
   },
   "outputs": [
    {
     "data": {
      "text/plain": [
       "1079922"
      ]
     },
     "execution_count": 109,
     "metadata": {},
     "output_type": "execute_result"
    }
   ],
   "source": [
    "len(sp)"
   ]
  },
  {
   "cell_type": "code",
   "execution_count": 110,
   "metadata": {
    "execution": {
     "iopub.execute_input": "2024-06-11T21:39:12.935333Z",
     "iopub.status.busy": "2024-06-11T21:39:12.935333Z",
     "iopub.status.idle": "2024-06-11T21:39:12.949296Z",
     "shell.execute_reply": "2024-06-11T21:39:12.949296Z",
     "shell.execute_reply.started": "2024-06-11T21:39:12.935333Z"
    }
   },
   "outputs": [
    {
     "data": {
      "text/html": [
       "<div>\n",
       "<style scoped>\n",
       "    .dataframe tbody tr th:only-of-type {\n",
       "        vertical-align: middle;\n",
       "    }\n",
       "\n",
       "    .dataframe tbody tr th {\n",
       "        vertical-align: top;\n",
       "    }\n",
       "\n",
       "    .dataframe thead th {\n",
       "        text-align: right;\n",
       "    }\n",
       "</style>\n",
       "<table border=\"1\" class=\"dataframe\">\n",
       "  <thead>\n",
       "    <tr style=\"text-align: right;\">\n",
       "      <th></th>\n",
       "      <th>id</th>\n",
       "      <th>user_id</th>\n",
       "      <th>started_at</th>\n",
       "      <th>finished_at</th>\n",
       "      <th>mode</th>\n",
       "      <th>length</th>\n",
       "      <th>geometry</th>\n",
       "      <th>duration</th>\n",
       "      <th>act_duration</th>\n",
       "      <th>location_id</th>\n",
       "      <th>level</th>\n",
       "      <th>start_day</th>\n",
       "      <th>start_min</th>\n",
       "      <th>weekday</th>\n",
       "    </tr>\n",
       "  </thead>\n",
       "  <tbody>\n",
       "    <tr>\n",
       "      <th>0</th>\n",
       "      <td>0</td>\n",
       "      <td>AAGAF</td>\n",
       "      <td>2019-10-09 11:30:34.141000</td>\n",
       "      <td>2019-10-10 05:43:17.674999</td>\n",
       "      <td>Car</td>\n",
       "      <td>0.000000</td>\n",
       "      <td>POINT (7.565219252705515 47.545616383391014)</td>\n",
       "      <td>1092.0</td>\n",
       "      <td>1092.0</td>\n",
       "      <td>5157106440787197952</td>\n",
       "      <td>13</td>\n",
       "      <td>0</td>\n",
       "      <td>690</td>\n",
       "      <td>2</td>\n",
       "    </tr>\n",
       "    <tr>\n",
       "      <th>1</th>\n",
       "      <td>1</td>\n",
       "      <td>AAGAF</td>\n",
       "      <td>2019-10-10 06:14:49.141999</td>\n",
       "      <td>2019-10-10 06:53:54.841000</td>\n",
       "      <td>Car</td>\n",
       "      <td>11.615409</td>\n",
       "      <td>POINT (7.563759803278834 47.54794768304769)</td>\n",
       "      <td>39.0</td>\n",
       "      <td>70.0</td>\n",
       "      <td>5157106337707982848</td>\n",
       "      <td>13</td>\n",
       "      <td>1</td>\n",
       "      <td>374</td>\n",
       "      <td>3</td>\n",
       "    </tr>\n",
       "    <tr>\n",
       "      <th>2</th>\n",
       "      <td>2</td>\n",
       "      <td>AAGAF</td>\n",
       "      <td>2019-10-10 07:03:24.426000</td>\n",
       "      <td>2019-10-10 08:18:20.864000</td>\n",
       "      <td>Car</td>\n",
       "      <td>2.104856</td>\n",
       "      <td>POINT (7.581727914351441 47.5564374119498)</td>\n",
       "      <td>74.0</td>\n",
       "      <td>84.0</td>\n",
       "      <td>5157107196701442048</td>\n",
       "      <td>13</td>\n",
       "      <td>1</td>\n",
       "      <td>423</td>\n",
       "      <td>3</td>\n",
       "    </tr>\n",
       "    <tr>\n",
       "      <th>3</th>\n",
       "      <td>3</td>\n",
       "      <td>AAGAF</td>\n",
       "      <td>2019-10-10 11:10:24.605999</td>\n",
       "      <td>2019-10-10 13:54:34.799339</td>\n",
       "      <td>Walk</td>\n",
       "      <td>4.847707</td>\n",
       "      <td>POINT (7.581729846308135 47.55641482529889)</td>\n",
       "      <td>164.0</td>\n",
       "      <td>336.0</td>\n",
       "      <td>5157107196701442048</td>\n",
       "      <td>13</td>\n",
       "      <td>1</td>\n",
       "      <td>670</td>\n",
       "      <td>3</td>\n",
       "    </tr>\n",
       "    <tr>\n",
       "      <th>4</th>\n",
       "      <td>4</td>\n",
       "      <td>AAGAF</td>\n",
       "      <td>2019-10-11 06:15:49.739000</td>\n",
       "      <td>2019-10-11 11:36:29.907000</td>\n",
       "      <td>Bus</td>\n",
       "      <td>8.667529</td>\n",
       "      <td>POINT (7.565127647736598 47.54571219157556)</td>\n",
       "      <td>320.0</td>\n",
       "      <td>1301.0</td>\n",
       "      <td>5157106440787197952</td>\n",
       "      <td>13</td>\n",
       "      <td>2</td>\n",
       "      <td>375</td>\n",
       "      <td>4</td>\n",
       "    </tr>\n",
       "  </tbody>\n",
       "</table>\n",
       "</div>"
      ],
      "text/plain": [
       "   id user_id                 started_at                finished_at  mode  \\\n",
       "0   0   AAGAF 2019-10-09 11:30:34.141000 2019-10-10 05:43:17.674999   Car   \n",
       "1   1   AAGAF 2019-10-10 06:14:49.141999 2019-10-10 06:53:54.841000   Car   \n",
       "2   2   AAGAF 2019-10-10 07:03:24.426000 2019-10-10 08:18:20.864000   Car   \n",
       "3   3   AAGAF 2019-10-10 11:10:24.605999 2019-10-10 13:54:34.799339  Walk   \n",
       "4   4   AAGAF 2019-10-11 06:15:49.739000 2019-10-11 11:36:29.907000   Bus   \n",
       "\n",
       "      length                                      geometry  duration  \\\n",
       "0   0.000000  POINT (7.565219252705515 47.545616383391014)    1092.0   \n",
       "1  11.615409   POINT (7.563759803278834 47.54794768304769)      39.0   \n",
       "2   2.104856    POINT (7.581727914351441 47.5564374119498)      74.0   \n",
       "3   4.847707   POINT (7.581729846308135 47.55641482529889)     164.0   \n",
       "4   8.667529   POINT (7.565127647736598 47.54571219157556)     320.0   \n",
       "\n",
       "   act_duration          location_id  level  start_day  start_min  weekday  \n",
       "0        1092.0  5157106440787197952     13          0        690        2  \n",
       "1          70.0  5157106337707982848     13          1        374        3  \n",
       "2          84.0  5157107196701442048     13          1        423        3  \n",
       "3         336.0  5157107196701442048     13          1        670        3  \n",
       "4        1301.0  5157106440787197952     13          2        375        4  "
      ]
     },
     "execution_count": 110,
     "metadata": {},
     "output_type": "execute_result"
    }
   ],
   "source": [
    "sp.head()"
   ]
  },
  {
   "cell_type": "code",
   "execution_count": 111,
   "metadata": {
    "execution": {
     "iopub.execute_input": "2024-06-11T21:39:12.951290Z",
     "iopub.status.busy": "2024-06-11T21:39:12.951290Z",
     "iopub.status.idle": "2024-06-11T21:39:13.011537Z",
     "shell.execute_reply": "2024-06-11T21:39:13.011537Z",
     "shell.execute_reply.started": "2024-06-11T21:39:12.951290Z"
    }
   },
   "outputs": [
    {
     "data": {
      "text/plain": [
       "mode\n",
       "Car        535944\n",
       "Walk       339446\n",
       "Train       78036\n",
       "Bicycle     61334\n",
       "Bus         43784\n",
       "Tram        18575\n",
       "Other        2803\n",
       "Name: count, dtype: int64"
      ]
     },
     "execution_count": 111,
     "metadata": {},
     "output_type": "execute_result"
    }
   ],
   "source": [
    "sp[\"mode\"].value_counts()"
   ]
  },
  {
   "cell_type": "markdown",
   "metadata": {},
   "source": [
    "## Read all locations"
   ]
  },
  {
   "cell_type": "code",
   "execution_count": 112,
   "metadata": {
    "execution": {
     "iopub.execute_input": "2024-06-11T21:39:24.722869Z",
     "iopub.status.busy": "2024-06-11T21:39:24.721873Z",
     "iopub.status.idle": "2024-06-11T21:39:24.970792Z",
     "shell.execute_reply": "2024-06-11T21:39:24.969830Z",
     "shell.execute_reply.started": "2024-06-11T21:39:24.722869Z"
    }
   },
   "outputs": [],
   "source": [
    "all_locs = pd.read_csv(f\"../data/s2_loc_visited_level10_{level}.csv\", index_col=\"id\")\n",
    "\n",
    "# geometry\n",
    "all_locs[\"geometry\"] = all_locs[\"geometry\"].apply(wkt.loads)\n",
    "all_locs = gpd.GeoDataFrame(all_locs, geometry=\"geometry\", crs=\"EPSG:4326\")\n",
    "# transform to projected coordinate systems\n",
    "all_locs = all_locs.to_crs(\"EPSG:2056\")\n",
    "\n",
    "# coordinate information\n",
    "x = all_locs[\"geometry\"].x.values\n",
    "y = all_locs[\"geometry\"].y.values\n",
    "\n",
    "all_locs[\"x\"] = (x - x.min())/1000\n",
    "all_locs[\"y\"] = (y - y.min())/1000"
   ]
  },
  {
   "cell_type": "code",
   "execution_count": 113,
   "metadata": {
    "execution": {
     "iopub.execute_input": "2024-06-11T21:39:26.204931Z",
     "iopub.status.busy": "2024-06-11T21:39:26.203934Z",
     "iopub.status.idle": "2024-06-11T21:39:26.211914Z",
     "shell.execute_reply": "2024-06-11T21:39:26.211914Z",
     "shell.execute_reply.started": "2024-06-11T21:39:26.204931Z"
    }
   },
   "outputs": [
    {
     "data": {
      "text/plain": [
       "14881"
      ]
     },
     "execution_count": 113,
     "metadata": {},
     "output_type": "execute_result"
    }
   ],
   "source": [
    "len(all_locs)"
   ]
  },
  {
   "cell_type": "code",
   "execution_count": 114,
   "metadata": {
    "execution": {
     "iopub.execute_input": "2024-06-11T21:39:28.015753Z",
     "iopub.status.busy": "2024-06-11T21:39:28.015753Z",
     "iopub.status.idle": "2024-06-11T21:39:28.036171Z",
     "shell.execute_reply": "2024-06-11T21:39:28.035174Z",
     "shell.execute_reply.started": "2024-06-11T21:39:28.015753Z"
    }
   },
   "outputs": [
    {
     "data": {
      "text/html": [
       "<div>\n",
       "<style scoped>\n",
       "    .dataframe tbody tr th:only-of-type {\n",
       "        vertical-align: middle;\n",
       "    }\n",
       "\n",
       "    .dataframe tbody tr th {\n",
       "        vertical-align: top;\n",
       "    }\n",
       "\n",
       "    .dataframe thead th {\n",
       "        text-align: right;\n",
       "    }\n",
       "</style>\n",
       "<table border=\"1\" class=\"dataframe\">\n",
       "  <thead>\n",
       "    <tr style=\"text-align: right;\">\n",
       "      <th></th>\n",
       "      <th>loc_id</th>\n",
       "      <th>level</th>\n",
       "      <th>geometry</th>\n",
       "      <th>freq</th>\n",
       "      <th>area</th>\n",
       "      <th>x</th>\n",
       "      <th>y</th>\n",
       "    </tr>\n",
       "    <tr>\n",
       "      <th>id</th>\n",
       "      <th></th>\n",
       "      <th></th>\n",
       "      <th></th>\n",
       "      <th></th>\n",
       "      <th></th>\n",
       "      <th></th>\n",
       "      <th></th>\n",
       "    </tr>\n",
       "  </thead>\n",
       "  <tbody>\n",
       "    <tr>\n",
       "      <th>0</th>\n",
       "      <td>5152981090339651584</td>\n",
       "      <td>10</td>\n",
       "      <td>POINT (2824875.045 1159436.528)</td>\n",
       "      <td>1</td>\n",
       "      <td>POLYGON ((10.405097146225662 46.50637570678295...</td>\n",
       "      <td>340.828583</td>\n",
       "      <td>83.506855</td>\n",
       "    </tr>\n",
       "    <tr>\n",
       "      <th>1</th>\n",
       "      <td>5152984577853095936</td>\n",
       "      <td>13</td>\n",
       "      <td>POINT (2822437.857 1167754.527)</td>\n",
       "      <td>38</td>\n",
       "      <td>POLYGON ((10.347820052132302 46.61871685680636...</td>\n",
       "      <td>338.391395</td>\n",
       "      <td>91.824854</td>\n",
       "    </tr>\n",
       "    <tr>\n",
       "      <th>2</th>\n",
       "      <td>5152985265047863296</td>\n",
       "      <td>13</td>\n",
       "      <td>POINT (2815796.126 1167304.569)</td>\n",
       "      <td>1</td>\n",
       "      <td>POLYGON ((10.260953592346382 46.61685460820135...</td>\n",
       "      <td>331.749664</td>\n",
       "      <td>91.374896</td>\n",
       "    </tr>\n",
       "    <tr>\n",
       "      <th>3</th>\n",
       "      <td>5152985299407601664</td>\n",
       "      <td>13</td>\n",
       "      <td>POINT (2816020.303 1168362.492)</td>\n",
       "      <td>1</td>\n",
       "      <td>POLYGON ((10.264376293749178 46.62629143145975...</td>\n",
       "      <td>331.973842</td>\n",
       "      <td>92.432819</td>\n",
       "    </tr>\n",
       "    <tr>\n",
       "      <th>4</th>\n",
       "      <td>5152985505566031872</td>\n",
       "      <td>13</td>\n",
       "      <td>POINT (2818994.419 1169160.037)</td>\n",
       "      <td>1</td>\n",
       "      <td>POLYGON ((10.303565033130825 46.63249007077394...</td>\n",
       "      <td>334.947958</td>\n",
       "      <td>93.230364</td>\n",
       "    </tr>\n",
       "  </tbody>\n",
       "</table>\n",
       "</div>"
      ],
      "text/plain": [
       "                 loc_id  level                         geometry  freq  \\\n",
       "id                                                                      \n",
       "0   5152981090339651584     10  POINT (2824875.045 1159436.528)     1   \n",
       "1   5152984577853095936     13  POINT (2822437.857 1167754.527)    38   \n",
       "2   5152985265047863296     13  POINT (2815796.126 1167304.569)     1   \n",
       "3   5152985299407601664     13  POINT (2816020.303 1168362.492)     1   \n",
       "4   5152985505566031872     13  POINT (2818994.419 1169160.037)     1   \n",
       "\n",
       "                                                 area           x          y  \n",
       "id                                                                            \n",
       "0   POLYGON ((10.405097146225662 46.50637570678295...  340.828583  83.506855  \n",
       "1   POLYGON ((10.347820052132302 46.61871685680636...  338.391395  91.824854  \n",
       "2   POLYGON ((10.260953592346382 46.61685460820135...  331.749664  91.374896  \n",
       "3   POLYGON ((10.264376293749178 46.62629143145975...  331.973842  92.432819  \n",
       "4   POLYGON ((10.303565033130825 46.63249007077394...  334.947958  93.230364  "
      ]
     },
     "execution_count": 114,
     "metadata": {},
     "output_type": "execute_result"
    }
   ],
   "source": [
    "all_locs.head()"
   ]
  },
  {
   "cell_type": "markdown",
   "metadata": {},
   "source": [
    "## Read POIs"
   ]
  },
  {
   "cell_type": "code",
   "execution_count": 115,
   "metadata": {
    "execution": {
     "iopub.execute_input": "2024-06-11T21:39:56.035071Z",
     "iopub.status.busy": "2024-06-11T21:39:56.035071Z",
     "iopub.status.idle": "2024-06-11T21:39:56.102407Z",
     "shell.execute_reply": "2024-06-11T21:39:56.101409Z",
     "shell.execute_reply.started": "2024-06-11T21:39:56.035071Z"
    }
   },
   "outputs": [],
   "source": [
    "poi_file_path = f\"../data/s2_loc_poi_level10_{level}.npy\"\n",
    "poi_file = np.load(poi_file_path, allow_pickle=True)\n",
    "\n",
    "poi_df = pd.DataFrame(columns=[\"loc_id\", \"poiValues\"])\n",
    "\n",
    "poi_df[\"loc_id\"] = poi_file[()]['loc_id']\n",
    "poi_df[\"poiValues\"] = poi_file[()]['poiValues'].tolist()"
   ]
  },
  {
   "cell_type": "code",
   "execution_count": 116,
   "metadata": {
    "execution": {
     "iopub.execute_input": "2024-06-11T21:39:56.615603Z",
     "iopub.status.busy": "2024-06-11T21:39:56.615603Z",
     "iopub.status.idle": "2024-06-11T21:39:56.634552Z",
     "shell.execute_reply": "2024-06-11T21:39:56.633555Z",
     "shell.execute_reply.started": "2024-06-11T21:39:56.615603Z"
    }
   },
   "outputs": [
    {
     "data": {
      "text/plain": [
       "39177"
      ]
     },
     "execution_count": 116,
     "metadata": {},
     "output_type": "execute_result"
    }
   ],
   "source": [
    "len(poi_df)"
   ]
  },
  {
   "cell_type": "code",
   "execution_count": 117,
   "metadata": {
    "execution": {
     "iopub.execute_input": "2024-06-11T21:39:57.020237Z",
     "iopub.status.busy": "2024-06-11T21:39:57.020237Z",
     "iopub.status.idle": "2024-06-11T21:39:57.041183Z",
     "shell.execute_reply": "2024-06-11T21:39:57.040184Z",
     "shell.execute_reply.started": "2024-06-11T21:39:57.020237Z"
    }
   },
   "outputs": [
    {
     "data": {
      "text/html": [
       "<div>\n",
       "<style scoped>\n",
       "    .dataframe tbody tr th:only-of-type {\n",
       "        vertical-align: middle;\n",
       "    }\n",
       "\n",
       "    .dataframe tbody tr th {\n",
       "        vertical-align: top;\n",
       "    }\n",
       "\n",
       "    .dataframe thead th {\n",
       "        text-align: right;\n",
       "    }\n",
       "</style>\n",
       "<table border=\"1\" class=\"dataframe\">\n",
       "  <thead>\n",
       "    <tr style=\"text-align: right;\">\n",
       "      <th></th>\n",
       "      <th>loc_id</th>\n",
       "      <th>poiValues</th>\n",
       "    </tr>\n",
       "  </thead>\n",
       "  <tbody>\n",
       "    <tr>\n",
       "      <th>0</th>\n",
       "      <td>5152981090339651584</td>\n",
       "      <td>[0.0, 0.0, 0.05307001248002052, 0.0, 0.0, 0.0,...</td>\n",
       "    </tr>\n",
       "    <tr>\n",
       "      <th>1</th>\n",
       "      <td>5152983289362907136</td>\n",
       "      <td>[0.0, 0.0, 0.0, 0.0, 0.0, 0.0, 0.0, 0.0, 0.0, ...</td>\n",
       "    </tr>\n",
       "    <tr>\n",
       "      <th>2</th>\n",
       "      <td>5152984406054404096</td>\n",
       "      <td>[0.0, 0.0, 0.0, 0.0, 0.0, 0.0, 0.0, 0.0, 0.0, ...</td>\n",
       "    </tr>\n",
       "    <tr>\n",
       "      <th>3</th>\n",
       "      <td>5152984440414142464</td>\n",
       "      <td>[0.010416706092655659, 0.010416706092655659, 0...</td>\n",
       "    </tr>\n",
       "    <tr>\n",
       "      <th>4</th>\n",
       "      <td>5152984474773880832</td>\n",
       "      <td>[0.01562500186264515, 0.01562500186264515, 0.0...</td>\n",
       "    </tr>\n",
       "  </tbody>\n",
       "</table>\n",
       "</div>"
      ],
      "text/plain": [
       "                loc_id                                          poiValues\n",
       "0  5152981090339651584  [0.0, 0.0, 0.05307001248002052, 0.0, 0.0, 0.0,...\n",
       "1  5152983289362907136  [0.0, 0.0, 0.0, 0.0, 0.0, 0.0, 0.0, 0.0, 0.0, ...\n",
       "2  5152984406054404096  [0.0, 0.0, 0.0, 0.0, 0.0, 0.0, 0.0, 0.0, 0.0, ...\n",
       "3  5152984440414142464  [0.010416706092655659, 0.010416706092655659, 0...\n",
       "4  5152984474773880832  [0.01562500186264515, 0.01562500186264515, 0.0..."
      ]
     },
     "execution_count": 117,
     "metadata": {},
     "output_type": "execute_result"
    }
   ],
   "source": [
    "poi_df.head()"
   ]
  },
  {
   "cell_type": "markdown",
   "metadata": {},
   "source": [
    "## Split into train, validation and test"
   ]
  },
  {
   "cell_type": "code",
   "execution_count": 118,
   "metadata": {
    "execution": {
     "iopub.execute_input": "2024-06-11T21:39:58.776541Z",
     "iopub.status.busy": "2024-06-11T21:39:58.775544Z",
     "iopub.status.idle": "2024-06-11T21:40:01.713167Z",
     "shell.execute_reply": "2024-06-11T21:40:01.711137Z",
     "shell.execute_reply.started": "2024-06-11T21:39:58.776541Z"
    }
   },
   "outputs": [],
   "source": [
    "def get_train_test(sp, all_locs, poi_df):\n",
    "    sp.sort_values(by=[\"user_id\", \"start_day\", \"start_min\"], inplace=True)\n",
    "    sp.drop(columns={\"started_at\", \"finished_at\"}, inplace=True)\n",
    "    sp[\"idx\"] = sp.groupby(\"user_id\").cumcount().add(1)\n",
    "\n",
    "\n",
    "    # encoder user, 0 reserved for padding\n",
    "    enc = OrdinalEncoder(dtype=np.int64)\n",
    "    sp[\"user_id\"] = enc.fit_transform(sp[\"user_id\"].values.reshape(-1, 1)) + 1\n",
    "\n",
    "    # encode mode\n",
    "    enc = OrdinalEncoder(dtype=np.int64)\n",
    "    sp[\"mode\"] = enc.fit_transform(sp[\"mode\"].values.reshape(-1, 1)) + 1\n",
    "\n",
    "    # truncate too long duration, >2 days to 2 days\n",
    "    sp.loc[sp[\"act_duration\"] > 60 * 24 * 2 - 1, \"act_duration\"] = 60 * 24 * 2 - 1\n",
    "\n",
    "    # split the datasets, user dependent 0.7, 0.2, 0.1\n",
    "    train_data, vali_data, test_data = _split_dataset(sp)\n",
    "\n",
    "    # encode unseen locations in validation and test into 0\n",
    "    enc = OrdinalEncoder(dtype=np.int64, handle_unknown=\"use_encoded_value\", unknown_value=-1).fit(\n",
    "        all_locs[\"loc_id\"].values.reshape(-1, 1)\n",
    "    )\n",
    "    # add 1 to account for 0 padding\n",
    "    all_locs[\"loc_id\"] = enc.transform(all_locs[\"loc_id\"].values.reshape(-1, 1)) + 1\n",
    "    poi_df[\"loc_id\"] = enc.transform(poi_df[\"loc_id\"].values.reshape(-1, 1)) + 1\n",
    "    # \n",
    "    train_data[\"location_id\"] = enc.transform(train_data[\"location_id\"].values.reshape(-1, 1)) + 1\n",
    "    vali_data[\"location_id\"] = enc.transform(vali_data[\"location_id\"].values.reshape(-1, 1)) + 1\n",
    "    test_data[\"location_id\"] = enc.transform(test_data[\"location_id\"].values.reshape(-1, 1)) + 1\n",
    "\n",
    "    return train_data, vali_data, test_data, all_locs, poi_df\n",
    "\n",
    "\n",
    "def _split_dataset(totalData):\n",
    "    \"\"\"Split dataset into train, vali and test.\"\"\"\n",
    "\n",
    "    def getSplitDaysUser(df):\n",
    "        \"\"\"Split the dataset according to the tracked day of each user.\"\"\"\n",
    "        maxDay = df[\"start_day\"].max()\n",
    "        train_split = maxDay * 0.7\n",
    "        vali_split = maxDay * 0.9\n",
    "\n",
    "        df[\"Dataset\"] = \"test\"\n",
    "        df.loc[df[\"start_day\"] < train_split, \"Dataset\"] = \"train\"\n",
    "        df.loc[\n",
    "            (df[\"start_day\"] >= train_split) & (df[\"start_day\"] < vali_split),\n",
    "            \"Dataset\",\n",
    "        ] = \"vali\"\n",
    "\n",
    "        return df\n",
    "\n",
    "    totalData = totalData.groupby(\"user_id\", group_keys=False).apply(getSplitDaysUser)\n",
    "\n",
    "    train_data = totalData.loc[totalData[\"Dataset\"] == \"train\"].copy()\n",
    "    vali_data = totalData.loc[totalData[\"Dataset\"] == \"vali\"].copy()\n",
    "    test_data = totalData.loc[totalData[\"Dataset\"] == \"test\"].copy()\n",
    "\n",
    "    # final cleaning\n",
    "    train_data.drop(columns={\"Dataset\"}, inplace=True)\n",
    "    vali_data.drop(columns={\"Dataset\"}, inplace=True)\n",
    "    test_data.drop(columns={\"Dataset\"}, inplace=True)\n",
    "\n",
    "    return train_data, vali_data, test_data\n",
    "\n",
    "train_data, vali_data, test_data, all_locs, poi_df = get_train_test(sp, all_locs=all_locs, poi_df=poi_df)"
   ]
  },
  {
   "cell_type": "markdown",
   "metadata": {},
   "source": [
    "### Data cleaning"
   ]
  },
  {
   "cell_type": "code",
   "execution_count": 119,
   "metadata": {
    "execution": {
     "iopub.execute_input": "2024-06-11T21:40:01.714134Z",
     "iopub.status.busy": "2024-06-11T21:40:01.714134Z",
     "iopub.status.idle": "2024-06-11T21:40:02.288337Z",
     "shell.execute_reply": "2024-06-11T21:40:02.288337Z",
     "shell.execute_reply.started": "2024-06-11T21:40:01.714134Z"
    }
   },
   "outputs": [],
   "source": [
    "train_data = train_data.merge(all_locs[[\"loc_id\", \"x\", \"y\"]], left_on=\"location_id\", right_on=\"loc_id\")\n",
    "vali_data = vali_data.merge(all_locs[[\"loc_id\", \"x\", \"y\"]], left_on=\"location_id\", right_on=\"loc_id\")\n",
    "test_data = test_data.merge(all_locs[[\"loc_id\", \"x\", \"y\"]], left_on=\"location_id\", right_on=\"loc_id\")\n",
    "\n",
    "train_data.sort_values(by=[\"user_id\", \"start_day\", \"start_min\"], inplace=True)\n",
    "vali_data.sort_values(by=[\"user_id\", \"start_day\", \"start_min\"], inplace=True)\n",
    "test_data.sort_values(by=[\"user_id\", \"start_day\", \"start_min\"], inplace=True)\n",
    "\n",
    "# drop unvisited locations\n",
    "poi_df = poi_df.loc[poi_df[\"loc_id\"]!=0]\n",
    "poi_df = poi_df.sort_values(by=\"loc_id\")\n",
    "poi_df = poi_df.reset_index(drop=True)"
   ]
  },
  {
   "cell_type": "markdown",
   "metadata": {},
   "source": [
    "### Consistency check"
   ]
  },
  {
   "cell_type": "code",
   "execution_count": 120,
   "metadata": {
    "execution": {
     "iopub.execute_input": "2024-06-11T21:40:02.289340Z",
     "iopub.status.busy": "2024-06-11T21:40:02.289340Z",
     "iopub.status.idle": "2024-06-11T21:40:02.304241Z",
     "shell.execute_reply": "2024-06-11T21:40:02.304241Z",
     "shell.execute_reply.started": "2024-06-11T21:40:02.289340Z"
    }
   },
   "outputs": [
    {
     "data": {
      "text/html": [
       "<div>\n",
       "<style scoped>\n",
       "    .dataframe tbody tr th:only-of-type {\n",
       "        vertical-align: middle;\n",
       "    }\n",
       "\n",
       "    .dataframe tbody tr th {\n",
       "        vertical-align: top;\n",
       "    }\n",
       "\n",
       "    .dataframe thead th {\n",
       "        text-align: right;\n",
       "    }\n",
       "</style>\n",
       "<table border=\"1\" class=\"dataframe\">\n",
       "  <thead>\n",
       "    <tr style=\"text-align: right;\">\n",
       "      <th></th>\n",
       "      <th>loc_id</th>\n",
       "      <th>poiValues</th>\n",
       "    </tr>\n",
       "  </thead>\n",
       "  <tbody>\n",
       "    <tr>\n",
       "      <th>0</th>\n",
       "      <td>1</td>\n",
       "      <td>[0.0, 0.0, 0.05307001248002052, 0.0, 0.0, 0.0,...</td>\n",
       "    </tr>\n",
       "    <tr>\n",
       "      <th>1</th>\n",
       "      <td>2</td>\n",
       "      <td>[0.04467805102467537, 0.0, 0.0, 0.053231064230...</td>\n",
       "    </tr>\n",
       "    <tr>\n",
       "      <th>2</th>\n",
       "      <td>3</td>\n",
       "      <td>[0.0, 0.0, 0.0, 0.0, 0.0, 0.0, 0.0, 0.0, 0.0, ...</td>\n",
       "    </tr>\n",
       "    <tr>\n",
       "      <th>3</th>\n",
       "      <td>4</td>\n",
       "      <td>[0.0, 0.0, 0.0, 0.0, 0.0, 0.0, 0.2531988024711...</td>\n",
       "    </tr>\n",
       "    <tr>\n",
       "      <th>4</th>\n",
       "      <td>5</td>\n",
       "      <td>[0.0156250037252903, 0.0156250037252903, 0.015...</td>\n",
       "    </tr>\n",
       "    <tr>\n",
       "      <th>...</th>\n",
       "      <td>...</td>\n",
       "      <td>...</td>\n",
       "    </tr>\n",
       "    <tr>\n",
       "      <th>14876</th>\n",
       "      <td>14877</td>\n",
       "      <td>[0.0, 0.0, 0.0, 0.0, 0.0, 0.0, 0.0, 0.0, 0.0, ...</td>\n",
       "    </tr>\n",
       "    <tr>\n",
       "      <th>14877</th>\n",
       "      <td>14878</td>\n",
       "      <td>[0.0, 0.0, 0.0, 0.0, 0.0, 0.0, 0.0, 0.0, 0.0, ...</td>\n",
       "    </tr>\n",
       "    <tr>\n",
       "      <th>14878</th>\n",
       "      <td>14879</td>\n",
       "      <td>[0.0, 0.0, 0.0, 0.0, 0.0, 0.0, 0.0, 0.0, 0.0, ...</td>\n",
       "    </tr>\n",
       "    <tr>\n",
       "      <th>14879</th>\n",
       "      <td>14880</td>\n",
       "      <td>[0.0, 0.0, 0.0, 0.0, 0.0, 0.0, 0.0, 0.0, 0.0, ...</td>\n",
       "    </tr>\n",
       "    <tr>\n",
       "      <th>14880</th>\n",
       "      <td>14881</td>\n",
       "      <td>[0.0, 0.0, 0.0, 0.0, 0.09507143497467041, 0.0,...</td>\n",
       "    </tr>\n",
       "  </tbody>\n",
       "</table>\n",
       "<p>14881 rows × 2 columns</p>\n",
       "</div>"
      ],
      "text/plain": [
       "       loc_id                                          poiValues\n",
       "0           1  [0.0, 0.0, 0.05307001248002052, 0.0, 0.0, 0.0,...\n",
       "1           2  [0.04467805102467537, 0.0, 0.0, 0.053231064230...\n",
       "2           3  [0.0, 0.0, 0.0, 0.0, 0.0, 0.0, 0.0, 0.0, 0.0, ...\n",
       "3           4  [0.0, 0.0, 0.0, 0.0, 0.0, 0.0, 0.2531988024711...\n",
       "4           5  [0.0156250037252903, 0.0156250037252903, 0.015...\n",
       "...       ...                                                ...\n",
       "14876   14877  [0.0, 0.0, 0.0, 0.0, 0.0, 0.0, 0.0, 0.0, 0.0, ...\n",
       "14877   14878  [0.0, 0.0, 0.0, 0.0, 0.0, 0.0, 0.0, 0.0, 0.0, ...\n",
       "14878   14879  [0.0, 0.0, 0.0, 0.0, 0.0, 0.0, 0.0, 0.0, 0.0, ...\n",
       "14879   14880  [0.0, 0.0, 0.0, 0.0, 0.0, 0.0, 0.0, 0.0, 0.0, ...\n",
       "14880   14881  [0.0, 0.0, 0.0, 0.0, 0.09507143497467041, 0.0,...\n",
       "\n",
       "[14881 rows x 2 columns]"
      ]
     },
     "execution_count": 120,
     "metadata": {},
     "output_type": "execute_result"
    }
   ],
   "source": [
    "poi_df"
   ]
  },
  {
   "cell_type": "code",
   "execution_count": 121,
   "metadata": {
    "execution": {
     "iopub.execute_input": "2024-06-11T21:40:02.306236Z",
     "iopub.status.busy": "2024-06-11T21:40:02.306236Z",
     "iopub.status.idle": "2024-06-11T21:40:02.320198Z",
     "shell.execute_reply": "2024-06-11T21:40:02.319200Z",
     "shell.execute_reply.started": "2024-06-11T21:40:02.306236Z"
    }
   },
   "outputs": [
    {
     "data": {
      "text/plain": [
       "'Max loc id 14881, min loc id 1, unique loc id:14881'"
      ]
     },
     "execution_count": 121,
     "metadata": {},
     "output_type": "execute_result"
    }
   ],
   "source": [
    "f\"Max loc id {all_locs.loc_id.max()}, min loc id {all_locs.loc_id.min()}, unique loc id:{all_locs.loc_id.unique().shape[0]}\""
   ]
  },
  {
   "cell_type": "code",
   "execution_count": 122,
   "metadata": {
    "execution": {
     "iopub.execute_input": "2024-06-11T21:40:02.321196Z",
     "iopub.status.busy": "2024-06-11T21:40:02.320198Z",
     "iopub.status.idle": "2024-06-11T21:40:02.335157Z",
     "shell.execute_reply": "2024-06-11T21:40:02.334161Z",
     "shell.execute_reply.started": "2024-06-11T21:40:02.321196Z"
    }
   },
   "outputs": [
    {
     "data": {
      "text/plain": [
       "'Max loc id 14881, min loc id 1, unique loc id:14881'"
      ]
     },
     "execution_count": 122,
     "metadata": {},
     "output_type": "execute_result"
    }
   ],
   "source": [
    "f\"Max loc id {poi_df.loc_id.max()}, min loc id {poi_df.loc_id.min()}, unique loc id:{poi_df.loc_id.unique().shape[0]}\""
   ]
  },
  {
   "cell_type": "code",
   "execution_count": 123,
   "metadata": {
    "execution": {
     "iopub.execute_input": "2024-06-11T21:40:03.140992Z",
     "iopub.status.busy": "2024-06-11T21:40:03.140992Z",
     "iopub.status.idle": "2024-06-11T21:40:03.156951Z",
     "shell.execute_reply": "2024-06-11T21:40:03.156951Z",
     "shell.execute_reply.started": "2024-06-11T21:40:03.140992Z"
    }
   },
   "outputs": [
    {
     "data": {
      "text/plain": [
       "'Max loc id 14880, min loc id 1, unique loc id:13105'"
      ]
     },
     "execution_count": 123,
     "metadata": {},
     "output_type": "execute_result"
    }
   ],
   "source": [
    "f\"Max loc id {train_data.loc_id.max()}, min loc id {train_data.loc_id.min()}, unique loc id:{train_data.loc_id.unique().shape[0]}\""
   ]
  },
  {
   "cell_type": "code",
   "execution_count": 124,
   "metadata": {
    "execution": {
     "iopub.execute_input": "2024-06-11T21:40:03.739838Z",
     "iopub.status.busy": "2024-06-11T21:40:03.739838Z",
     "iopub.status.idle": "2024-06-11T21:40:03.762743Z",
     "shell.execute_reply": "2024-06-11T21:40:03.761746Z",
     "shell.execute_reply.started": "2024-06-11T21:40:03.739838Z"
    }
   },
   "outputs": [
    {
     "data": {
      "text/plain": [
       "'Max loc id 14881, min loc id 2, unique loc id:8486'"
      ]
     },
     "execution_count": 124,
     "metadata": {},
     "output_type": "execute_result"
    }
   ],
   "source": [
    "f\"Max loc id {vali_data.loc_id.max()}, min loc id {vali_data.loc_id.min()}, unique loc id:{vali_data.loc_id.unique().shape[0]}\""
   ]
  },
  {
   "cell_type": "code",
   "execution_count": 125,
   "metadata": {
    "execution": {
     "iopub.execute_input": "2024-06-11T21:40:04.286499Z",
     "iopub.status.busy": "2024-06-11T21:40:04.285501Z",
     "iopub.status.idle": "2024-06-11T21:40:04.305448Z",
     "shell.execute_reply": "2024-06-11T21:40:04.304450Z",
     "shell.execute_reply.started": "2024-06-11T21:40:04.286499Z"
    }
   },
   "outputs": [
    {
     "data": {
      "text/plain": [
       "'Max loc id 14881, min loc id 2, unique loc id:6248'"
      ]
     },
     "execution_count": 125,
     "metadata": {},
     "output_type": "execute_result"
    }
   ],
   "source": [
    "f\"Max loc id {test_data.loc_id.max()}, min loc id {test_data.loc_id.min()}, unique loc id:{test_data.loc_id.unique().shape[0]}\""
   ]
  },
  {
   "cell_type": "code",
   "execution_count": 126,
   "metadata": {
    "execution": {
     "iopub.execute_input": "2024-06-11T21:40:08.093970Z",
     "iopub.status.busy": "2024-06-11T21:40:08.093970Z",
     "iopub.status.idle": "2024-06-11T21:40:08.115873Z",
     "shell.execute_reply": "2024-06-11T21:40:08.114914Z",
     "shell.execute_reply.started": "2024-06-11T21:40:08.093970Z"
    }
   },
   "outputs": [
    {
     "data": {
      "text/plain": [
       "2879.0"
      ]
     },
     "execution_count": 126,
     "metadata": {},
     "output_type": "execute_result"
    }
   ],
   "source": [
    "train_data[\"act_duration\"].max()"
   ]
  },
  {
   "cell_type": "code",
   "execution_count": 127,
   "metadata": {
    "execution": {
     "iopub.execute_input": "2024-06-11T21:40:31.302906Z",
     "iopub.status.busy": "2024-06-11T21:40:31.302906Z",
     "iopub.status.idle": "2024-06-11T21:40:31.314874Z",
     "shell.execute_reply": "2024-06-11T21:40:31.314874Z",
     "shell.execute_reply.started": "2024-06-11T21:40:31.302906Z"
    }
   },
   "outputs": [
    {
     "data": {
      "text/html": [
       "<div>\n",
       "<style scoped>\n",
       "    .dataframe tbody tr th:only-of-type {\n",
       "        vertical-align: middle;\n",
       "    }\n",
       "\n",
       "    .dataframe tbody tr th {\n",
       "        vertical-align: top;\n",
       "    }\n",
       "\n",
       "    .dataframe thead th {\n",
       "        text-align: right;\n",
       "    }\n",
       "</style>\n",
       "<table border=\"1\" class=\"dataframe\">\n",
       "  <thead>\n",
       "    <tr style=\"text-align: right;\">\n",
       "      <th></th>\n",
       "      <th>id</th>\n",
       "      <th>user_id</th>\n",
       "      <th>mode</th>\n",
       "      <th>length</th>\n",
       "      <th>geometry</th>\n",
       "      <th>duration</th>\n",
       "      <th>act_duration</th>\n",
       "      <th>location_id</th>\n",
       "      <th>level</th>\n",
       "      <th>start_day</th>\n",
       "      <th>start_min</th>\n",
       "      <th>weekday</th>\n",
       "      <th>idx</th>\n",
       "      <th>loc_id</th>\n",
       "      <th>x</th>\n",
       "      <th>y</th>\n",
       "    </tr>\n",
       "  </thead>\n",
       "  <tbody>\n",
       "    <tr>\n",
       "      <th>0</th>\n",
       "      <td>0</td>\n",
       "      <td>1</td>\n",
       "      <td>3</td>\n",
       "      <td>0.000000</td>\n",
       "      <td>POINT (7.565219252705515 47.545616383391014)</td>\n",
       "      <td>1092.0</td>\n",
       "      <td>1092.0</td>\n",
       "      <td>11301</td>\n",
       "      <td>13</td>\n",
       "      <td>0</td>\n",
       "      <td>690</td>\n",
       "      <td>2</td>\n",
       "      <td>1</td>\n",
       "      <td>11301</td>\n",
       "      <td>125.932487</td>\n",
       "      <td>190.502633</td>\n",
       "    </tr>\n",
       "    <tr>\n",
       "      <th>632</th>\n",
       "      <td>1</td>\n",
       "      <td>1</td>\n",
       "      <td>3</td>\n",
       "      <td>11.615409</td>\n",
       "      <td>POINT (7.563759803278834 47.54794768304769)</td>\n",
       "      <td>39.0</td>\n",
       "      <td>70.0</td>\n",
       "      <td>11298</td>\n",
       "      <td>13</td>\n",
       "      <td>1</td>\n",
       "      <td>374</td>\n",
       "      <td>3</td>\n",
       "      <td>2</td>\n",
       "      <td>11298</td>\n",
       "      <td>125.044758</td>\n",
       "      <td>190.587924</td>\n",
       "    </tr>\n",
       "    <tr>\n",
       "      <th>1182</th>\n",
       "      <td>2</td>\n",
       "      <td>1</td>\n",
       "      <td>3</td>\n",
       "      <td>2.104856</td>\n",
       "      <td>POINT (7.581727914351441 47.5564374119498)</td>\n",
       "      <td>74.0</td>\n",
       "      <td>84.0</td>\n",
       "      <td>11316</td>\n",
       "      <td>13</td>\n",
       "      <td>1</td>\n",
       "      <td>423</td>\n",
       "      <td>3</td>\n",
       "      <td>3</td>\n",
       "      <td>11316</td>\n",
       "      <td>127.013753</td>\n",
       "      <td>191.497065</td>\n",
       "    </tr>\n",
       "    <tr>\n",
       "      <th>1183</th>\n",
       "      <td>3</td>\n",
       "      <td>1</td>\n",
       "      <td>7</td>\n",
       "      <td>4.847707</td>\n",
       "      <td>POINT (7.581729846308135 47.55641482529889)</td>\n",
       "      <td>164.0</td>\n",
       "      <td>336.0</td>\n",
       "      <td>11316</td>\n",
       "      <td>13</td>\n",
       "      <td>1</td>\n",
       "      <td>670</td>\n",
       "      <td>3</td>\n",
       "      <td>4</td>\n",
       "      <td>11316</td>\n",
       "      <td>127.013753</td>\n",
       "      <td>191.497065</td>\n",
       "    </tr>\n",
       "    <tr>\n",
       "      <th>1</th>\n",
       "      <td>4</td>\n",
       "      <td>1</td>\n",
       "      <td>2</td>\n",
       "      <td>8.667529</td>\n",
       "      <td>POINT (7.565127647736598 47.54571219157556)</td>\n",
       "      <td>320.0</td>\n",
       "      <td>1301.0</td>\n",
       "      <td>11301</td>\n",
       "      <td>13</td>\n",
       "      <td>2</td>\n",
       "      <td>375</td>\n",
       "      <td>4</td>\n",
       "      <td>5</td>\n",
       "      <td>11301</td>\n",
       "      <td>125.932487</td>\n",
       "      <td>190.502633</td>\n",
       "    </tr>\n",
       "  </tbody>\n",
       "</table>\n",
       "</div>"
      ],
      "text/plain": [
       "      id  user_id  mode     length  \\\n",
       "0      0        1     3   0.000000   \n",
       "632    1        1     3  11.615409   \n",
       "1182   2        1     3   2.104856   \n",
       "1183   3        1     7   4.847707   \n",
       "1      4        1     2   8.667529   \n",
       "\n",
       "                                          geometry  duration  act_duration  \\\n",
       "0     POINT (7.565219252705515 47.545616383391014)    1092.0        1092.0   \n",
       "632    POINT (7.563759803278834 47.54794768304769)      39.0          70.0   \n",
       "1182    POINT (7.581727914351441 47.5564374119498)      74.0          84.0   \n",
       "1183   POINT (7.581729846308135 47.55641482529889)     164.0         336.0   \n",
       "1      POINT (7.565127647736598 47.54571219157556)     320.0        1301.0   \n",
       "\n",
       "      location_id  level  start_day  start_min  weekday  idx  loc_id  \\\n",
       "0           11301     13          0        690        2    1   11301   \n",
       "632         11298     13          1        374        3    2   11298   \n",
       "1182        11316     13          1        423        3    3   11316   \n",
       "1183        11316     13          1        670        3    4   11316   \n",
       "1           11301     13          2        375        4    5   11301   \n",
       "\n",
       "               x           y  \n",
       "0     125.932487  190.502633  \n",
       "632   125.044758  190.587924  \n",
       "1182  127.013753  191.497065  \n",
       "1183  127.013753  191.497065  \n",
       "1     125.932487  190.502633  "
      ]
     },
     "execution_count": 127,
     "metadata": {},
     "output_type": "execute_result"
    }
   ],
   "source": [
    "train_data.head()"
   ]
  },
  {
   "cell_type": "markdown",
   "metadata": {},
   "source": [
    "## Construct sequence pairs for training"
   ]
  },
  {
   "cell_type": "code",
   "execution_count": 128,
   "metadata": {
    "execution": {
     "iopub.execute_input": "2024-06-11T21:40:51.658717Z",
     "iopub.status.busy": "2024-06-11T21:40:51.658717Z",
     "iopub.status.idle": "2024-06-11T21:40:51.674189Z",
     "shell.execute_reply": "2024-06-11T21:40:51.673192Z",
     "shell.execute_reply.started": "2024-06-11T21:40:51.658717Z"
    }
   },
   "outputs": [],
   "source": [
    "def getValidSequenceUser(df):\n",
    "\n",
    "    data_ls = []\n",
    "    df = df.reset_index(drop=True).copy()\n",
    "\n",
    "    min_days = df[\"start_day\"].min()\n",
    "    df[\"diff_day\"] = df[\"start_day\"] - min_days\n",
    "\n",
    "    for index, row in df.iterrows():\n",
    "        # exclude the first records\n",
    "        if row[\"diff_day\"] < src_min_days:\n",
    "            continue\n",
    "\n",
    "        src_trace = df.iloc[: index + 1]\n",
    "        src_trace = src_trace.loc[(src_trace[\"start_day\"] >= (row[\"start_day\"] - src_max_days))]\n",
    "        if len(src_trace) < 5:\n",
    "            continue\n",
    "\n",
    "        tgt_trace = df.iloc[index + 1: ]\n",
    "        # tgt_trace = tgt_trace.loc[(tgt_trace[\"start_day\"] <= (row[\"start_day\"] + tgt_max_days))]\n",
    "\n",
    "        if ((tgt_trace[\"start_day\"].max() - tgt_trace[\"start_day\"].min()) < tgt_min_days) or len(tgt_trace) <2:\n",
    "            continue\n",
    "        if len(tgt_trace) > 256:\n",
    "            tgt_trace = tgt_trace.head(256)\n",
    "\n",
    "        curr_dict = {}\n",
    "        curr_dict[\"src\"] = src_trace[\"location_id\"].values\n",
    "        curr_dict[\"src_xy\"] = src_trace[[\"x\", \"y\"]].values\n",
    "        curr_dict[\"src_duration\"] = src_trace[\"act_duration\"].values.astype(int)\n",
    "        curr_dict[\"src_mode\"] = src_trace[\"mode\"].values\n",
    "        curr_dict[\"src_user\"] = src_trace[\"user_id\"].values[0]\n",
    "        curr_dict[\"src_weekday\"] = src_trace[\"weekday\"].values\n",
    "        curr_dict[\"src_startmin\"] = src_trace[\"start_min\"].values\n",
    "        # for mechanistic models\n",
    "        curr_dict[\"src_idx\"] = src_trace[\"idx\"].values[-1]\n",
    "\n",
    "\n",
    "        curr_dict[\"tgt\"] = tgt_trace[\"location_id\"].values\n",
    "        curr_dict[\"tgt_xy\"] = tgt_trace[[\"x\", \"y\"]].values\n",
    "        curr_dict[\"tgt_duration\"] = tgt_trace[\"act_duration\"].values.astype(int)\n",
    "        curr_dict[\"tgt_mode\"] = tgt_trace[\"mode\"].values\n",
    "        curr_dict[\"tgt_weekday\"] = tgt_trace[\"weekday\"].values\n",
    "        curr_dict[\"tgt_startmin\"] = tgt_trace[\"start_min\"].values\n",
    "\n",
    "        data_ls.append(curr_dict)\n",
    "\n",
    "    return data_ls\n",
    "\n",
    "def applyParallel(dfGrouped, func, n_jobs, print_progress=True, **kwargs):\n",
    "    return Parallel(n_jobs=n_jobs)(\n",
    "        delayed(func)(group, **kwargs) for _, group in tqdm(dfGrouped, disable=not print_progress)\n",
    "    )\n",
    "\n",
    "def get_valid_data(df):\n",
    "    valid_data = applyParallel(df.groupby(\"user_id\"),getValidSequenceUser, n_jobs=-1)\n",
    "    return [item for sublist in valid_data for item in sublist]"
   ]
  },
  {
   "cell_type": "code",
   "execution_count": 129,
   "metadata": {
    "execution": {
     "iopub.execute_input": "2024-06-11T21:40:52.147084Z",
     "iopub.status.busy": "2024-06-11T21:40:52.147084Z",
     "iopub.status.idle": "2024-06-11T21:43:07.554174Z",
     "shell.execute_reply": "2024-06-11T21:43:07.553768Z",
     "shell.execute_reply.started": "2024-06-11T21:40:52.147084Z"
    }
   },
   "outputs": [
    {
     "name": "stderr",
     "output_type": "stream",
     "text": [
      "100%|██████████████████████████████████████████████████████████████████████████████| 2112/2112 [01:43<00:00, 20.38it/s]\n",
      "100%|█████████████████████████████████████████████████████████████████████████████| 2109/2109 [00:17<00:00, 122.16it/s]\n",
      "100%|█████████████████████████████████████████████████████████████████████████████| 2112/2112 [00:06<00:00, 316.12it/s]\n"
     ]
    }
   ],
   "source": [
    "valid_train_data = get_valid_data(train_data)\n",
    "valid_validation_data = get_valid_data(vali_data)\n",
    "valid_test_data = get_valid_data(test_data)"
   ]
  },
  {
   "cell_type": "markdown",
   "metadata": {},
   "source": [
    "### Sequence statistics"
   ]
  },
  {
   "cell_type": "code",
   "execution_count": 131,
   "metadata": {
    "execution": {
     "iopub.execute_input": "2024-06-11T21:43:45.607676Z",
     "iopub.status.busy": "2024-06-11T21:43:45.607676Z",
     "iopub.status.idle": "2024-06-11T21:43:45.632611Z",
     "shell.execute_reply": "2024-06-11T21:43:45.631613Z",
     "shell.execute_reply.started": "2024-06-11T21:43:45.607676Z"
    }
   },
   "outputs": [
    {
     "data": {
      "text/plain": [
       "{'src': array([11301, 11298, 11316, 11316, 11301, 11301, 11301, 11275, 11301,\n",
       "        11302, 11303, 11298, 11314, 11301, 11319, 11301, 11312],\n",
       "       dtype=int64),\n",
       " 'src_xy': array([[125.93248743, 190.50263303],\n",
       "        [125.04475839, 190.58792383],\n",
       "        [127.0137531 , 191.49706487],\n",
       "        [127.0137531 , 191.49706487],\n",
       "        [125.93248743, 190.50263303],\n",
       "        [125.93248743, 190.50263303],\n",
       "        [125.93248743, 190.50263303],\n",
       "        [129.48503608, 190.16130424],\n",
       "        [125.93248743, 190.50263303],\n",
       "        [126.12572352, 191.58239942],\n",
       "        [126.31899595, 192.6623675 ],\n",
       "        [125.04475839, 190.58792383],\n",
       "        [127.40060885, 193.65714831],\n",
       "        [125.93248743, 190.50263303],\n",
       "        [128.98398624, 192.40623243],\n",
       "        [125.93248743, 190.50263303],\n",
       "        [128.48269602, 194.65205969]]),\n",
       " 'src_duration': array([1092,   70,   84,  336, 1301, 2879, 1302,   84, 1118,  112,  216,\n",
       "        1000,  154,  206,  165, 2879,  275]),\n",
       " 'src_mode': array([3, 3, 3, 7, 2, 2, 7, 6, 3, 7, 2, 3, 6, 6, 3, 2, 6], dtype=int64),\n",
       " 'src_user': 1,\n",
       " 'src_weekday': array([2, 3, 3, 3, 4, 1, 1, 2, 2, 3, 3, 3, 4, 4, 4, 1, 2]),\n",
       " 'src_startmin': array([690, 374, 423, 670, 375, 742, 846, 695, 793, 443, 733, 909, 365,\n",
       "        522, 718, 579, 395]),\n",
       " 'src_idx': 17,\n",
       " 'tgt': array([11316, 11301, 11304, 11316, 11301, 11301, 11316, 11302, 11276,\n",
       "        11301, 11318, 11301, 11024, 11246, 11304, 11301, 11301, 11317,\n",
       "        11303, 11301, 11298, 11298, 11301, 11301, 11303, 11301, 11275,\n",
       "        11301, 11317, 11301, 11301, 11301, 11235, 11280, 11317, 11301,\n",
       "        11301, 11301, 11301, 11301, 11301, 11277, 11249, 11301, 11301,\n",
       "        11318, 11277, 11301, 11301, 11315, 11301, 11280, 11298, 11301,\n",
       "        11301, 11301, 11301, 11301, 11301, 11317, 11298, 11277, 11249,\n",
       "        11301, 11316, 11301, 11275, 11301, 11275, 11301, 11275, 11275],\n",
       "       dtype=int64),\n",
       " 'tgt_xy': array([[127.0137531 , 191.49706487],\n",
       "        [125.93248743, 190.50263303],\n",
       "        [125.43099244, 192.74771262],\n",
       "        [127.0137531 , 191.49706487],\n",
       "        [125.93248743, 190.50263303],\n",
       "        [125.93248743, 190.50263303],\n",
       "        [127.0137531 , 191.49706487],\n",
       "        [126.12572352, 191.58239942],\n",
       "        [128.59665414, 190.24666127],\n",
       "        [125.93248743, 190.50263303],\n",
       "        [128.0954929 , 192.4916274 ],\n",
       "        [125.93248743, 190.50263303],\n",
       "        [200.46569419, 180.04865917],\n",
       "        [131.84457785, 193.22995406],\n",
       "        [125.43099244, 192.74771262],\n",
       "        [125.93248743, 190.50263303],\n",
       "        [125.93248743, 190.50263303],\n",
       "        [127.90194594, 191.41171374],\n",
       "        [126.31899595, 192.6623675 ],\n",
       "        [125.93248743, 190.50263303],\n",
       "        [125.04475839, 190.58792383],\n",
       "        [125.04475839, 190.58792383],\n",
       "        [125.93248743, 190.50263303],\n",
       "        [125.93248743, 190.50263303],\n",
       "        [126.31899595, 192.6623675 ],\n",
       "        [125.93248743, 190.50263303],\n",
       "        [129.48503608, 190.16130424],\n",
       "        [125.93248743, 190.50263303],\n",
       "        [127.90194594, 191.41171374],\n",
       "        [125.93248743, 190.50263303],\n",
       "        [125.93248743, 190.50263303],\n",
       "        [125.93248743, 190.50263303],\n",
       "        [134.62417872, 188.56952293],\n",
       "        [126.82037977, 190.41732567],\n",
       "        [127.90194594, 191.41171374],\n",
       "        [125.93248743, 190.50263303],\n",
       "        [125.93248743, 190.50263303],\n",
       "        [125.93248743, 190.50263303],\n",
       "        [125.93248743, 190.50263303],\n",
       "        [125.93248743, 190.50263303],\n",
       "        [125.93248743, 190.50263303],\n",
       "        [128.4030427 , 189.16717816],\n",
       "        [130.95545775, 193.31542615],\n",
       "        [125.93248743, 190.50263303],\n",
       "        [125.93248743, 190.50263303],\n",
       "        [128.0954929 , 192.4916274 ],\n",
       "        [128.4030427 , 189.16717816],\n",
       "        [125.93248743, 190.50263303],\n",
       "        [125.93248743, 190.50263303],\n",
       "        [127.20716279, 192.57700575],\n",
       "        [125.93248743, 190.50263303],\n",
       "        [126.82037977, 190.41732567],\n",
       "        [125.04475839, 190.58792383],\n",
       "        [125.93248743, 190.50263303],\n",
       "        [125.93248743, 190.50263303],\n",
       "        [125.93248743, 190.50263303],\n",
       "        [125.93248743, 190.50263303],\n",
       "        [125.93248743, 190.50263303],\n",
       "        [125.93248743, 190.50263303],\n",
       "        [127.90194594, 191.41171374],\n",
       "        [125.04475839, 190.58792383],\n",
       "        [128.4030427 , 189.16717816],\n",
       "        [130.95545775, 193.31542615],\n",
       "        [125.93248743, 190.50263303],\n",
       "        [127.0137531 , 191.49706487],\n",
       "        [125.93248743, 190.50263303],\n",
       "        [129.48503608, 190.16130424],\n",
       "        [125.93248743, 190.50263303],\n",
       "        [129.48503608, 190.16130424],\n",
       "        [125.93248743, 190.50263303],\n",
       "        [129.48503608, 190.16130424],\n",
       "        [129.48503608, 190.16130424]]),\n",
       " 'tgt_duration': array([  66,  401,  889,   69,  205, 1088,  161,  119,   84,  362, 2879,\n",
       "         263, 1531, 1809,  794,   85,  201,  119,   44,  193,   37, 1336,\n",
       "        2879, 2643,  310,  980,  145,  214,  159, 2879,  970, 1546,  169,\n",
       "        1204,  324, 1341, 2879, 1481,   86,  980,  275,   80,   90, 1091,\n",
       "        1098, 2879, 1010,  467,  850,  673,  889,   65,  317, 1549,  209,\n",
       "        2879,  406, 1063,  332,  264, 1104,  144,  132, 1045,  130,  984,\n",
       "          95,  348,  635, 2041,  270, 1063]),\n",
       " 'tgt_mode': array([7, 3, 3, 6, 7, 2, 6, 6, 3, 2, 3, 2, 4, 3, 3, 3, 6, 6, 6, 3, 7, 1,\n",
       "        3, 3, 6, 5, 6, 7, 6, 3, 3, 3, 3, 3, 6, 2, 6, 7, 7, 3, 7, 2, 5, 3,\n",
       "        2, 3, 3, 6, 7, 2, 3, 7, 5, 3, 7, 3, 6, 3, 7, 6, 7, 5, 2, 3, 6, 2,\n",
       "        5, 6, 3, 6, 6, 7], dtype=int64),\n",
       " 'tgt_weekday': array([2, 2, 3, 3, 3, 3, 4, 4, 4, 4, 6, 0, 1, 2, 3, 3, 3, 3, 3, 3, 3, 3,\n",
       "        1, 3, 3, 3, 4, 4, 4, 0, 1, 1, 2, 3, 3, 3, 0, 0, 1, 2, 2, 2, 2, 3,\n",
       "        3, 0, 1, 1, 1, 2, 2, 3, 3, 4, 4, 0, 0, 1, 1, 1, 2, 2, 2, 3, 3, 3,\n",
       "        4, 4, 4, 6, 6, 6]),\n",
       " 'tgt_startmin': array([ 542,  593,  365,  442,  595,  903,  362,  549,  676,  859, 1192,\n",
       "         438,  712, 1059,  411,  487,  628,  821,  897,  962, 1124, 1163,\n",
       "         426,  470,  906,  963,  503,  671,  847,  498,  429,  608,  706,\n",
       "         446,  844,  967,  630, 1034, 1069,  414,  706,  961, 1064,  422,\n",
       "         962,  430,  486,  556,  989,  981, 1098,  533,  831,  424, 1021,\n",
       "         437,  859,  431,  634,  971,  656,  955, 1085,  422,  838,  958,\n",
       "         473,  587, 1393,  653,  853,  992])}"
      ]
     },
     "execution_count": 131,
     "metadata": {},
     "output_type": "execute_result"
    }
   ],
   "source": [
    "valid_train_data[0]"
   ]
  },
  {
   "cell_type": "code",
   "execution_count": 132,
   "metadata": {
    "execution": {
     "iopub.execute_input": "2024-06-11T21:43:51.598317Z",
     "iopub.status.busy": "2024-06-11T21:43:51.598317Z",
     "iopub.status.idle": "2024-06-11T21:43:51.613277Z",
     "shell.execute_reply": "2024-06-11T21:43:51.612279Z",
     "shell.execute_reply.started": "2024-06-11T21:43:51.598317Z"
    }
   },
   "outputs": [
    {
     "data": {
      "text/plain": [
       "(590959, 104103, 36320)"
      ]
     },
     "execution_count": 132,
     "metadata": {},
     "output_type": "execute_result"
    }
   ],
   "source": [
    "len(valid_train_data), len(valid_validation_data), len(valid_test_data)"
   ]
  },
  {
   "cell_type": "code",
   "execution_count": 133,
   "metadata": {
    "execution": {
     "iopub.execute_input": "2024-06-11T21:43:53.151350Z",
     "iopub.status.busy": "2024-06-11T21:43:53.151350Z",
     "iopub.status.idle": "2024-06-11T21:43:53.652212Z",
     "shell.execute_reply": "2024-06-11T21:43:53.651162Z",
     "shell.execute_reply.started": "2024-06-11T21:43:53.151350Z"
    }
   },
   "outputs": [
    {
     "data": {
      "text/plain": [
       "((448, 256), (302, 256), (231, 256))"
      ]
     },
     "execution_count": 133,
     "metadata": {},
     "output_type": "execute_result"
    }
   ],
   "source": [
    "def get_max_len(ls):\n",
    "\n",
    "    max_src_len = 0\n",
    "    max_tgt_len = 0\n",
    "    for seq in ls:\n",
    "        seq_len = len(seq[\"src\"])\n",
    "        tgt_len = len(seq[\"tgt\"])\n",
    "\n",
    "        if seq_len > max_src_len:\n",
    "            max_src_len = seq_len\n",
    "        if tgt_len > max_tgt_len:\n",
    "            max_tgt_len = tgt_len\n",
    "\n",
    "    return max_src_len, max_tgt_len\n",
    "\n",
    "get_max_len(valid_train_data), get_max_len(valid_validation_data), get_max_len(valid_test_data)"
   ]
  },
  {
   "cell_type": "markdown",
   "metadata": {},
   "source": [
    "## Saving"
   ]
  },
  {
   "cell_type": "code",
   "execution_count": 134,
   "metadata": {
    "execution": {
     "iopub.execute_input": "2024-06-11T21:43:56.953608Z",
     "iopub.status.busy": "2024-06-11T21:43:56.952611Z",
     "iopub.status.idle": "2024-06-11T21:45:48.595942Z",
     "shell.execute_reply": "2024-06-11T21:45:48.594946Z",
     "shell.execute_reply.started": "2024-06-11T21:43:56.953608Z"
    }
   },
   "outputs": [],
   "source": [
    "# sequences\n",
    "save_pk_file(os.path.join(\"..\", \"data\", \"diff\", f\"train_level{level}_{src_min_days}_{tgt_min_days}_{data_type}.pk\"), valid_train_data)\n",
    "\n",
    "save_pk_file(os.path.join(\"..\", \"data\", \"diff\", f\"valid_level{level}_{src_min_days}_{tgt_min_days}_{data_type}.pk\"), valid_validation_data)\n",
    "\n",
    "save_pk_file(os.path.join(\"..\", \"data\", \"diff\", f\"test_level{level}_{src_min_days}_{tgt_min_days}_{data_type}.pk\"), valid_test_data)\n"
   ]
  },
  {
   "cell_type": "code",
   "execution_count": 125,
   "metadata": {
    "execution": {
     "iopub.execute_input": "2024-06-06T11:44:48.856082Z",
     "iopub.status.busy": "2024-06-06T11:44:48.855085Z",
     "iopub.status.idle": "2024-06-06T11:44:49.211589Z",
     "shell.execute_reply": "2024-06-06T11:44:49.209595Z",
     "shell.execute_reply.started": "2024-06-06T11:44:48.856082Z"
    }
   },
   "outputs": [],
   "source": [
    "# POI\n",
    "\n",
    "data = {}\n",
    "\n",
    "data[\"poiValues\"] = np.vstack(poi_df[\"poiValues\"].values)\n",
    "data[\"loc_id\"] = poi_df[\"loc_id\"].values\n",
    "\n",
    "np.save(os.path.join(\"..\", \"data\", \"diff\", f\"poi_level{level}.npy\"),data)\n"
   ]
  },
  {
   "cell_type": "markdown",
   "metadata": {},
   "source": [
    "## Test reading"
   ]
  },
  {
   "cell_type": "code",
   "execution_count": 16,
   "metadata": {},
   "outputs": [
    {
     "data": {
      "text/plain": [
       "{'src': array([10700, 10700, 10516, 10516, 10516, 10700, 11214, 10700, 10700,\n",
       "        10516, 10700, 10516, 10700, 10700, 10700, 10516, 10700, 11208,\n",
       "        10516, 11208, 10516, 10517, 10700, 10516, 10700, 10516, 10700,\n",
       "        10700, 10516], dtype=int64),\n",
       " 'src_duration': array([ 692,   74,   69,  100,   39,  517,  665, 2324,  455,  626,  823,\n",
       "         599, 2603,  216,  891,  624,  215,  548,  603,  837,  411,  169,\n",
       "         918,  616,  811,  626,  910, 1436,  680]),\n",
       " 'src_user': 1,\n",
       " 'src_weekday': array([3, 4, 4, 4, 4, 4, 4, 5, 6, 0, 0, 1, 1, 3, 3, 4, 4, 4, 5, 5, 6, 6,\n",
       "        6, 0, 0, 1, 1, 2, 3]),\n",
       " 'src_startmin': array([1147,  411,  519,  563,  647,  728, 1224,  448, 1329,  400, 1016,\n",
       "         403, 1016,  817, 1184,  402, 1017, 1189,  324,  920,  319,  693,\n",
       "         924,  403, 1015,  405, 1015,  757,  525]),\n",
       " 'tgt': array([10700, 10516, 10686, 10700, 11208, 10700, 10516, 10516, 10700,\n",
       "        10700, 12615, 10700, 10516, 10516, 10700, 10516, 10700, 11208,\n",
       "        10516, 11541, 11208, 10516, 10681, 10700, 10516, 10700, 10700,\n",
       "        10700, 11208, 11208, 11208, 10700, 10700, 11318, 10700, 10516,\n",
       "        10700, 11208], dtype=int64),\n",
       " 'tgt_duration': array([ 784,  653,   89, 1373, 1307,  835,  501,  212, 1057, 1051,  251,\n",
       "        1256,  435,  266,  617,  678,  226,  537,  600,  170,  729,  597,\n",
       "         269,  730,  663,  876,  184,  497,  656,  100,  154,   46,  162,\n",
       "         197,  558,  737,  200,  504]),\n",
       " 'tgt_weekday': array([3, 4, 4, 4, 5, 6, 0, 0, 0, 1, 2, 2, 3, 3, 3, 4, 4, 4, 5, 5, 5, 6,\n",
       "        6, 6, 0, 0, 1, 1, 1, 2, 2, 2, 2, 2, 2, 3, 3, 3]),\n",
       " 'tgt_startmin': array([1151,  522, 1156, 1198, 1155, 1089,  465,  890, 1165,  814,  417,\n",
       "         644,  472,  835, 1151,  342, 1014, 1204,  325,  919, 1069,  385,\n",
       "         966, 1213,  541, 1206,  687,  864, 1296,  498,  639,  771,  897,\n",
       "        1028, 1251,  339, 1078, 1237])}"
      ]
     },
     "execution_count": 16,
     "metadata": {},
     "output_type": "execute_result"
    }
   ],
   "source": [
    "loaded = pickle.load(open(os.path.join(\"..\", \"data\", \"diff\", f\"train_level10_13_{src_min_days}_{tgt_min_days}_tiny.pk\"), \"rb\"))\n",
    "loaded[0]"
   ]
  },
  {
   "cell_type": "markdown",
   "metadata": {},
   "source": [
    "# Pairwise distance matrix"
   ]
  },
  {
   "cell_type": "code",
   "execution_count": 14,
   "metadata": {
    "execution": {
     "iopub.execute_input": "2024-03-18T21:09:13.157321Z",
     "iopub.status.busy": "2024-03-18T21:09:13.156324Z",
     "iopub.status.idle": "2024-03-18T21:09:13.439965Z",
     "shell.execute_reply": "2024-03-18T21:09:13.439965Z",
     "shell.execute_reply.started": "2024-03-18T21:09:13.156324Z"
    }
   },
   "outputs": [],
   "source": [
    "visited_locs = pd.read_csv(\"../data/s2_loc_visited_level10_13.csv\", index_col=\"id\").sort_values(by=\"loc_id\")\n",
    "visited_locs[\"geometry\"] = visited_locs[\"geometry\"].apply(wkt.loads)\n",
    "visited_locs = gpd.GeoDataFrame(visited_locs, geometry=\"geometry\", crs=\"EPSG:4326\")\n",
    "\n",
    "visited_locs = visited_locs.to_crs(\"EPSG:2056\")"
   ]
  },
  {
   "cell_type": "code",
   "execution_count": 15,
   "metadata": {
    "execution": {
     "iopub.execute_input": "2024-03-18T21:09:14.671015Z",
     "iopub.status.busy": "2024-03-18T21:09:14.671015Z",
     "iopub.status.idle": "2024-03-18T21:09:14.690172Z",
     "shell.execute_reply": "2024-03-18T21:09:14.689173Z",
     "shell.execute_reply.started": "2024-03-18T21:09:14.671015Z"
    }
   },
   "outputs": [
    {
     "data": {
      "text/html": [
       "<div>\n",
       "<style scoped>\n",
       "    .dataframe tbody tr th:only-of-type {\n",
       "        vertical-align: middle;\n",
       "    }\n",
       "\n",
       "    .dataframe tbody tr th {\n",
       "        vertical-align: top;\n",
       "    }\n",
       "\n",
       "    .dataframe thead th {\n",
       "        text-align: right;\n",
       "    }\n",
       "</style>\n",
       "<table border=\"1\" class=\"dataframe\">\n",
       "  <thead>\n",
       "    <tr style=\"text-align: right;\">\n",
       "      <th></th>\n",
       "      <th>loc_id</th>\n",
       "      <th>level</th>\n",
       "      <th>geometry</th>\n",
       "      <th>freq</th>\n",
       "      <th>area</th>\n",
       "    </tr>\n",
       "    <tr>\n",
       "      <th>id</th>\n",
       "      <th></th>\n",
       "      <th></th>\n",
       "      <th></th>\n",
       "      <th></th>\n",
       "      <th></th>\n",
       "    </tr>\n",
       "  </thead>\n",
       "  <tbody>\n",
       "    <tr>\n",
       "      <th>0</th>\n",
       "      <td>5152981090339651584</td>\n",
       "      <td>10</td>\n",
       "      <td>POINT (2824875.045 1159436.528)</td>\n",
       "      <td>1</td>\n",
       "      <td>POLYGON ((10.405097146225662 46.50637570678295...</td>\n",
       "    </tr>\n",
       "    <tr>\n",
       "      <th>1</th>\n",
       "      <td>5152984577853095936</td>\n",
       "      <td>13</td>\n",
       "      <td>POINT (2822437.857 1167754.527)</td>\n",
       "      <td>38</td>\n",
       "      <td>POLYGON ((10.347820052132302 46.61871685680636...</td>\n",
       "    </tr>\n",
       "    <tr>\n",
       "      <th>2</th>\n",
       "      <td>5152985265047863296</td>\n",
       "      <td>13</td>\n",
       "      <td>POINT (2815796.126 1167304.569)</td>\n",
       "      <td>1</td>\n",
       "      <td>POLYGON ((10.260953592346382 46.61685460820135...</td>\n",
       "    </tr>\n",
       "    <tr>\n",
       "      <th>3</th>\n",
       "      <td>5152985299407601664</td>\n",
       "      <td>13</td>\n",
       "      <td>POINT (2816020.303 1168362.492)</td>\n",
       "      <td>1</td>\n",
       "      <td>POLYGON ((10.264376293749178 46.62629143145975...</td>\n",
       "    </tr>\n",
       "    <tr>\n",
       "      <th>4</th>\n",
       "      <td>5152985505566031872</td>\n",
       "      <td>13</td>\n",
       "      <td>POINT (2818994.419 1169160.037)</td>\n",
       "      <td>1</td>\n",
       "      <td>POLYGON ((10.303565033130825 46.63249007077394...</td>\n",
       "    </tr>\n",
       "  </tbody>\n",
       "</table>\n",
       "</div>"
      ],
      "text/plain": [
       "                 loc_id  level                         geometry  freq  \\\n",
       "id                                                                      \n",
       "0   5152981090339651584     10  POINT (2824875.045 1159436.528)     1   \n",
       "1   5152984577853095936     13  POINT (2822437.857 1167754.527)    38   \n",
       "2   5152985265047863296     13  POINT (2815796.126 1167304.569)     1   \n",
       "3   5152985299407601664     13  POINT (2816020.303 1168362.492)     1   \n",
       "4   5152985505566031872     13  POINT (2818994.419 1169160.037)     1   \n",
       "\n",
       "                                                 area  \n",
       "id                                                     \n",
       "0   POLYGON ((10.405097146225662 46.50637570678295...  \n",
       "1   POLYGON ((10.347820052132302 46.61871685680636...  \n",
       "2   POLYGON ((10.260953592346382 46.61685460820135...  \n",
       "3   POLYGON ((10.264376293749178 46.62629143145975...  \n",
       "4   POLYGON ((10.303565033130825 46.63249007077394...  "
      ]
     },
     "execution_count": 15,
     "metadata": {},
     "output_type": "execute_result"
    }
   ],
   "source": [
    "visited_locs.head()"
   ]
  },
  {
   "cell_type": "code",
   "execution_count": 16,
   "metadata": {
    "execution": {
     "iopub.execute_input": "2024-03-18T21:09:28.151178Z",
     "iopub.status.busy": "2024-03-18T21:09:28.151178Z",
     "iopub.status.idle": "2024-03-18T21:09:29.807341Z",
     "shell.execute_reply": "2024-03-18T21:09:29.807341Z",
     "shell.execute_reply.started": "2024-03-18T21:09:28.151178Z"
    }
   },
   "outputs": [],
   "source": [
    "def calculate_distance_matrix(X):\n",
    "    X = shapely.get_coordinates(X.geometry)\n",
    "\n",
    "    distance = pdist(X, 'euclidean')\n",
    "    dist_matrix = squareform(distance)\n",
    "    return dist_matrix\n",
    "    \n",
    "dist_matrix = calculate_distance_matrix(visited_locs)"
   ]
  },
  {
   "cell_type": "code",
   "execution_count": 17,
   "metadata": {
    "execution": {
     "iopub.execute_input": "2024-03-18T21:09:30.754344Z",
     "iopub.status.busy": "2024-03-18T21:09:30.753345Z",
     "iopub.status.idle": "2024-03-18T21:09:30.759833Z",
     "shell.execute_reply": "2024-03-18T21:09:30.759833Z",
     "shell.execute_reply.started": "2024-03-18T21:09:30.754344Z"
    }
   },
   "outputs": [
    {
     "data": {
      "text/plain": [
       "(14881, 14881)"
      ]
     },
     "execution_count": 17,
     "metadata": {},
     "output_type": "execute_result"
    }
   ],
   "source": [
    "dist_matrix.shape"
   ]
  },
  {
   "cell_type": "code",
   "execution_count": 18,
   "metadata": {
    "execution": {
     "iopub.execute_input": "2024-03-18T21:09:39.889545Z",
     "iopub.status.busy": "2024-03-18T21:09:39.889545Z",
     "iopub.status.idle": "2024-03-18T21:09:49.131245Z",
     "shell.execute_reply": "2024-03-18T21:09:49.131245Z",
     "shell.execute_reply.started": "2024-03-18T21:09:39.889545Z"
    }
   },
   "outputs": [],
   "source": [
    "save_pk_file(\"../data/matrix/distance_13.pk\", dist_matrix)"
   ]
  }
 ],
 "metadata": {
  "kernelspec": {
   "display_name": "Python 3 (ipykernel)",
   "language": "python",
   "name": "python3"
  },
  "language_info": {
   "codemirror_mode": {
    "name": "ipython",
    "version": 3
   },
   "file_extension": ".py",
   "mimetype": "text/x-python",
   "name": "python",
   "nbconvert_exporter": "python",
   "pygments_lexer": "ipython3",
   "version": "3.9.17"
  },
  "vscode": {
   "interpreter": {
    "hash": "659ffd3ea00dbbc52f857660b8dafea05f804bc55dd91047cefb31e38b5505f6"
   }
  }
 },
 "nbformat": 4,
 "nbformat_minor": 4
}
