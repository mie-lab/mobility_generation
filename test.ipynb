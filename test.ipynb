{
 "cells": [
  {
   "cell_type": "code",
   "execution_count": 1,
   "metadata": {},
   "outputs": [],
   "source": [
    "import torch "
   ]
  },
  {
   "cell_type": "code",
   "execution_count": 4,
   "metadata": {},
   "outputs": [],
   "source": [
    "x = torch.tensor([[12.9382, 11.2081, 11.0942],\n",
    "        [12.9211, 11.1199, 11.0261],\n",
    "        [14.3441, 13.3287, 12.6234],\n",
    "        [13.7739, 13.2769, 12.5926]], device='cuda:0')"
   ]
  },
  {
   "cell_type": "code",
   "execution_count": 20,
   "metadata": {},
   "outputs": [],
   "source": [
    "p = torch.cumsum(x / x.sum(dim=-1, keepdim=True), dim=-1)"
   ]
  },
  {
   "cell_type": "code",
   "execution_count": 51,
   "metadata": {},
   "outputs": [],
   "source": [
    "idx = torch.searchsorted(p, torch.rand([p.shape[0], 1]).to(\"cuda:0\"))"
   ]
  },
  {
   "cell_type": "code",
   "execution_count": 52,
   "metadata": {},
   "outputs": [
    {
     "data": {
      "text/plain": [
       "tensor([[2],\n",
       "        [0],\n",
       "        [1],\n",
       "        [1]], device='cuda:0')"
      ]
     },
     "execution_count": 52,
     "metadata": {},
     "output_type": "execute_result"
    }
   ],
   "source": [
    "idx"
   ]
  },
  {
   "cell_type": "code",
   "execution_count": 53,
   "metadata": {},
   "outputs": [
    {
     "data": {
      "text/plain": [
       "torch.Size([4, 1])"
      ]
     },
     "execution_count": 53,
     "metadata": {},
     "output_type": "execute_result"
    }
   ],
   "source": [
    "idx.shape"
   ]
  },
  {
   "cell_type": "code",
   "execution_count": 54,
   "metadata": {},
   "outputs": [
    {
     "data": {
      "text/plain": [
       "torch.Size([4, 3])"
      ]
     },
     "execution_count": 54,
     "metadata": {},
     "output_type": "execute_result"
    }
   ],
   "source": [
    "x.shape"
   ]
  },
  {
   "cell_type": "code",
   "execution_count": 56,
   "metadata": {},
   "outputs": [
    {
     "data": {
      "text/plain": [
       "tensor([[11.0942],\n",
       "        [12.9211],\n",
       "        [13.3287],\n",
       "        [13.2769]], device='cuda:0')"
      ]
     },
     "execution_count": 56,
     "metadata": {},
     "output_type": "execute_result"
    }
   ],
   "source": [
    "x.gather(dim=1, index=idx)"
   ]
  },
  {
   "cell_type": "code",
   "execution_count": null,
   "metadata": {},
   "outputs": [],
   "source": [
    "torch.stack([torch.cat([xi[:bpi], e, xi[bpi:]]) for xi, bpi in zip(x, bp)])"
   ]
  },
  {
   "cell_type": "code",
   "execution_count": 65,
   "metadata": {},
   "outputs": [],
   "source": [
    "x= torch.tensor([[6031, 6031, 6031, 6047],\n",
    "        [6031, 6031, 6031, 6046],\n",
    "        [6047, 6047, 6047, 6046],\n",
    "        [6046, 6046, 6046, 6012],\n",
    "        [6046, 6046, 6046, 6013],\n",
    "        [6012, 6012, 6012, 6008],\n",
    "        [6013, 6013, 6013, 6031],\n",
    "        [6008, 6008, 6008, 6031],\n",
    "        [6031, 6031, 6031, 6031],\n",
    "        [6031, 6031, 6031, 6046],\n",
    "        [   0, 6031, 6031, 6046],\n",
    "        [   0,    0, 6046,    0]], device='cuda:0')\n",
    "\n",
    "pred_loc= torch.tensor([[6031],\n",
    "        [6033],\n",
    "        [6031],\n",
    "        [6031]], device='cuda:0')"
   ]
  },
  {
   "cell_type": "code",
   "execution_count": 63,
   "metadata": {},
   "outputs": [
    {
     "data": {
      "text/plain": [
       "torch.Size([12, 4])"
      ]
     },
     "execution_count": 63,
     "metadata": {},
     "output_type": "execute_result"
    }
   ],
   "source": [
    "x.shape"
   ]
  },
  {
   "cell_type": "code",
   "execution_count": 80,
   "metadata": {},
   "outputs": [],
   "source": [
    "x_after = torch.tensor([[6031, 6031, 6031, 6047],\n",
    "        [6031, 6031, 6031, 6046],\n",
    "        [6047, 6047, 6047, 6046],\n",
    "        [6046, 6046, 6046, 6012],\n",
    "        [6046, 6046, 6046, 6013],\n",
    "        [6012, 6012, 6012, 6008],\n",
    "        [6013, 6013, 6013, 6031],\n",
    "        [6008, 6008, 6008, 6031],\n",
    "        [6031, 6031, 6031, 6031],\n",
    "        [6031, 6031, 6031, 6046],\n",
    "        [6031, 6031, 6031, 6046],\n",
    "        [   0, 6033, 6046, 6031],\n",
    "        [   0,    0, 6031,    0]], device='cuda:0')\n",
    "x_len_before = torch.tensor([9, 10, 11, 10], device='cuda:0')\n",
    "x_len_after = torch.tensor([11, 12, 13, 12], device='cuda:0')"
   ]
  },
  {
   "cell_type": "code",
   "execution_count": 85,
   "metadata": {},
   "outputs": [
    {
     "data": {
      "text/plain": [
       "tensor([[6031, 6031, 6031, 6047],\n",
       "        [6031, 6031, 6031, 6046],\n",
       "        [6047, 6047, 6047, 6046],\n",
       "        [6046, 6046, 6046, 6012],\n",
       "        [6046, 6046, 6046, 6013],\n",
       "        [6012, 6012, 6012, 6008],\n",
       "        [6013, 6013, 6013, 6031],\n",
       "        [6008, 6008, 6008, 6031],\n",
       "        [6031, 6031, 6031, 6031],\n",
       "        [6031, 6031, 6031, 6046],\n",
       "        [6031, 6031, 6031, 6046],\n",
       "        [   0, 6033, 6046, 6031],\n",
       "        [   0,    0, 6031,    0]], device='cuda:0')"
      ]
     },
     "execution_count": 85,
     "metadata": {},
     "output_type": "execute_result"
    }
   ],
   "source": [
    "x_after"
   ]
  },
  {
   "cell_type": "code",
   "execution_count": 98,
   "metadata": {},
   "outputs": [],
   "source": [
    "gen = torch.stack([xi[x_len_beforei:x_len_afteri] for xi, x_len_beforei, x_len_afteri in zip(x_after.transpose(1, 0), x_len_before, x_len_after)])"
   ]
  },
  {
   "cell_type": "code",
   "execution_count": 99,
   "metadata": {},
   "outputs": [
    {
     "data": {
      "text/plain": [
       "tensor([[6031, 6031],\n",
       "        [6031, 6033],\n",
       "        [6046, 6031],\n",
       "        [6046, 6031]], device='cuda:0')"
      ]
     },
     "execution_count": 99,
     "metadata": {},
     "output_type": "execute_result"
    }
   ],
   "source": [
    "gen"
   ]
  },
  {
   "cell_type": "code",
   "execution_count": 101,
   "metadata": {},
   "outputs": [
    {
     "data": {
      "text/plain": [
       "tensor([[6031, 6031],\n",
       "        [6031, 6033],\n",
       "        [6046, 6031],\n",
       "        [6046, 6031],\n",
       "        [6031, 6031],\n",
       "        [6031, 6033],\n",
       "        [6046, 6031],\n",
       "        [6046, 6031]], device='cuda:0')"
      ]
     },
     "execution_count": 101,
     "metadata": {},
     "output_type": "execute_result"
    }
   ],
   "source": [
    "torch.cat([gen, gen], dim=0)"
   ]
  },
  {
   "cell_type": "code",
   "execution_count": 86,
   "metadata": {},
   "outputs": [
    {
     "name": "stdout",
     "output_type": "stream",
     "text": [
      "tensor([6031, 6031, 6047, 6046, 6046, 6012, 6013, 6008, 6031, 6031, 6031,    0,\n",
      "           0], device='cuda:0') tensor(9, device='cuda:0') tensor(11, device='cuda:0')\n",
      "tensor([6031, 6031], device='cuda:0')\n"
     ]
    }
   ],
   "source": [
    "for xi, x_len_beforei, x_len_afteri in zip(x_after.transpose(1, 0), x_len_before, x_len_after):\n",
    "    print(xi, x_len_beforei, x_len_afteri)\n",
    "    print(xi[x_len_beforei:x_len_afteri])\n",
    "    break"
   ]
  },
  {
   "cell_type": "markdown",
   "metadata": {},
   "source": [
    "## Validation\n"
   ]
  },
  {
   "cell_type": "code",
   "execution_count": 28,
   "metadata": {},
   "outputs": [],
   "source": [
    "import os\n",
    "import pandas as pd\n",
    "import geopandas as gpd\n",
    "\n",
    "from loc_predict.processing import _split_train_test\n",
    "from utils.utils import load_data\n",
    "from shapely import wkt\n",
    "\n",
    "import powerlaw\n",
    "import matplotlib.pyplot as plt\n",
    "\n",
    "from metrics.metrics import radius_gyration, jump_length, location_frquency, wait_time"
   ]
  },
  {
   "cell_type": "code",
   "execution_count": 29,
   "metadata": {},
   "outputs": [],
   "source": [
    "data_dir = os.path.join(\"data\", \"validation\")\n",
    "# read and preprocess\n",
    "sp = pd.read_csv(os.path.join(data_dir, \"sp.csv\"), index_col=\"id\")\n",
    "loc = pd.read_csv(os.path.join(data_dir, \"locs_s2.csv\"), index_col=\"id\")\n",
    "sp = load_data(sp, loc)\n",
    "\n",
    "train_data, vali_data, test_data = _split_train_test(sp)\n",
    "\n",
    "test_data = test_data.merge(\n",
    "    loc.reset_index()[[\"id\", \"center\"]].rename(columns={\"id\": \"location_id\"}), how=\"left\", on=\"location_id\"\n",
    ")\n",
    "test_data.rename(columns={\"center\": \"geometry\"}, inplace=True)\n",
    "test_data[\"geometry\"] = test_data[\"geometry\"].apply(wkt.loads)\n",
    "test_data = gpd.GeoDataFrame(test_data, geometry=\"geometry\", crs=\"EPSG:4326\")\n"
   ]
  },
  {
   "cell_type": "code",
   "execution_count": 30,
   "metadata": {},
   "outputs": [
    {
     "data": {
      "text/html": [
       "<div>\n",
       "<style scoped>\n",
       "    .dataframe tbody tr th:only-of-type {\n",
       "        vertical-align: middle;\n",
       "    }\n",
       "\n",
       "    .dataframe tbody tr th {\n",
       "        vertical-align: top;\n",
       "    }\n",
       "\n",
       "    .dataframe thead th {\n",
       "        text-align: right;\n",
       "    }\n",
       "</style>\n",
       "<table border=\"1\" class=\"dataframe\">\n",
       "  <thead>\n",
       "    <tr style=\"text-align: right;\">\n",
       "      <th></th>\n",
       "      <th>id</th>\n",
       "      <th>user_id</th>\n",
       "      <th>started_at</th>\n",
       "      <th>finished_at</th>\n",
       "      <th>duration</th>\n",
       "      <th>location_id</th>\n",
       "      <th>start_day</th>\n",
       "      <th>start_min</th>\n",
       "      <th>weekday</th>\n",
       "      <th>geometry</th>\n",
       "    </tr>\n",
       "  </thead>\n",
       "  <tbody>\n",
       "    <tr>\n",
       "      <th>0</th>\n",
       "      <td>195</td>\n",
       "      <td>1</td>\n",
       "      <td>2019-12-17 07:10:07.921999</td>\n",
       "      <td>2019-12-17 07:17:54.010999</td>\n",
       "      <td>420.0</td>\n",
       "      <td>6031</td>\n",
       "      <td>69</td>\n",
       "      <td>430</td>\n",
       "      <td>1</td>\n",
       "      <td>POINT (6.83931 46.85233)</td>\n",
       "    </tr>\n",
       "    <tr>\n",
       "      <th>1</th>\n",
       "      <td>196</td>\n",
       "      <td>1</td>\n",
       "      <td>2019-12-19 06:54:48.288000</td>\n",
       "      <td>2019-12-19 07:29:01.704999</td>\n",
       "      <td>2040.0</td>\n",
       "      <td>6031</td>\n",
       "      <td>71</td>\n",
       "      <td>414</td>\n",
       "      <td>3</td>\n",
       "      <td>POINT (6.83931 46.85233)</td>\n",
       "    </tr>\n",
       "    <tr>\n",
       "      <th>2</th>\n",
       "      <td>197</td>\n",
       "      <td>1</td>\n",
       "      <td>2019-12-19 07:38:43.802999</td>\n",
       "      <td>2019-12-19 10:19:20.016999</td>\n",
       "      <td>2879.0</td>\n",
       "      <td>6031</td>\n",
       "      <td>71</td>\n",
       "      <td>458</td>\n",
       "      <td>3</td>\n",
       "      <td>POINT (6.83931 46.85233)</td>\n",
       "    </tr>\n",
       "    <tr>\n",
       "      <th>3</th>\n",
       "      <td>198</td>\n",
       "      <td>1</td>\n",
       "      <td>2019-12-19 10:33:50.572999</td>\n",
       "      <td>2019-12-19 10:49:12.854000</td>\n",
       "      <td>900.0</td>\n",
       "      <td>6046</td>\n",
       "      <td>71</td>\n",
       "      <td>633</td>\n",
       "      <td>3</td>\n",
       "      <td>POINT (7.50002 47.42270)</td>\n",
       "    </tr>\n",
       "    <tr>\n",
       "      <th>4</th>\n",
       "      <td>199</td>\n",
       "      <td>1</td>\n",
       "      <td>2019-12-19 10:59:08.976999</td>\n",
       "      <td>2019-12-19 11:59:07.772000</td>\n",
       "      <td>2879.0</td>\n",
       "      <td>6046</td>\n",
       "      <td>71</td>\n",
       "      <td>659</td>\n",
       "      <td>3</td>\n",
       "      <td>POINT (7.50002 47.42270)</td>\n",
       "    </tr>\n",
       "    <tr>\n",
       "      <th>...</th>\n",
       "      <td>...</td>\n",
       "      <td>...</td>\n",
       "      <td>...</td>\n",
       "      <td>...</td>\n",
       "      <td>...</td>\n",
       "      <td>...</td>\n",
       "      <td>...</td>\n",
       "      <td>...</td>\n",
       "      <td>...</td>\n",
       "      <td>...</td>\n",
       "    </tr>\n",
       "    <tr>\n",
       "      <th>246048</th>\n",
       "      <td>1197148</td>\n",
       "      <td>2094</td>\n",
       "      <td>2019-10-31 12:56:17.243000</td>\n",
       "      <td>2019-10-31 14:05:07.789000</td>\n",
       "      <td>2879.0</td>\n",
       "      <td>4834</td>\n",
       "      <td>55</td>\n",
       "      <td>776</td>\n",
       "      <td>3</td>\n",
       "      <td>POINT (8.54356 47.40027)</td>\n",
       "    </tr>\n",
       "    <tr>\n",
       "      <th>246049</th>\n",
       "      <td>1197149</td>\n",
       "      <td>2094</td>\n",
       "      <td>2019-10-31 15:26:16.467000</td>\n",
       "      <td>2019-10-31 17:07:26.619999</td>\n",
       "      <td>2879.0</td>\n",
       "      <td>7402</td>\n",
       "      <td>55</td>\n",
       "      <td>926</td>\n",
       "      <td>3</td>\n",
       "      <td>POINT (8.57121 47.40375)</td>\n",
       "    </tr>\n",
       "    <tr>\n",
       "      <th>246050</th>\n",
       "      <td>1197150</td>\n",
       "      <td>2094</td>\n",
       "      <td>2019-10-31 19:22:37.476999</td>\n",
       "      <td>2019-11-01 07:45:05.378999</td>\n",
       "      <td>2879.0</td>\n",
       "      <td>7402</td>\n",
       "      <td>55</td>\n",
       "      <td>1162</td>\n",
       "      <td>3</td>\n",
       "      <td>POINT (8.57121 47.40375)</td>\n",
       "    </tr>\n",
       "    <tr>\n",
       "      <th>246051</th>\n",
       "      <td>1197151</td>\n",
       "      <td>2094</td>\n",
       "      <td>2019-11-01 07:51:34.239000</td>\n",
       "      <td>2019-11-01 09:09:36.236000</td>\n",
       "      <td>2879.0</td>\n",
       "      <td>7402</td>\n",
       "      <td>56</td>\n",
       "      <td>471</td>\n",
       "      <td>4</td>\n",
       "      <td>POINT (8.57121 47.40375)</td>\n",
       "    </tr>\n",
       "    <tr>\n",
       "      <th>246052</th>\n",
       "      <td>1197152</td>\n",
       "      <td>2094</td>\n",
       "      <td>2019-11-01 11:07:22.954999</td>\n",
       "      <td>2019-11-01 16:19:51.618999</td>\n",
       "      <td>2879.0</td>\n",
       "      <td>7402</td>\n",
       "      <td>56</td>\n",
       "      <td>667</td>\n",
       "      <td>4</td>\n",
       "      <td>POINT (8.57121 47.40375)</td>\n",
       "    </tr>\n",
       "  </tbody>\n",
       "</table>\n",
       "<p>246053 rows × 10 columns</p>\n",
       "</div>"
      ],
      "text/plain": [
       "             id  user_id                 started_at  \\\n",
       "0           195        1 2019-12-17 07:10:07.921999   \n",
       "1           196        1 2019-12-19 06:54:48.288000   \n",
       "2           197        1 2019-12-19 07:38:43.802999   \n",
       "3           198        1 2019-12-19 10:33:50.572999   \n",
       "4           199        1 2019-12-19 10:59:08.976999   \n",
       "...         ...      ...                        ...   \n",
       "246048  1197148     2094 2019-10-31 12:56:17.243000   \n",
       "246049  1197149     2094 2019-10-31 15:26:16.467000   \n",
       "246050  1197150     2094 2019-10-31 19:22:37.476999   \n",
       "246051  1197151     2094 2019-11-01 07:51:34.239000   \n",
       "246052  1197152     2094 2019-11-01 11:07:22.954999   \n",
       "\n",
       "                      finished_at  duration  location_id  start_day  \\\n",
       "0      2019-12-17 07:17:54.010999     420.0         6031         69   \n",
       "1      2019-12-19 07:29:01.704999    2040.0         6031         71   \n",
       "2      2019-12-19 10:19:20.016999    2879.0         6031         71   \n",
       "3      2019-12-19 10:49:12.854000     900.0         6046         71   \n",
       "4      2019-12-19 11:59:07.772000    2879.0         6046         71   \n",
       "...                           ...       ...          ...        ...   \n",
       "246048 2019-10-31 14:05:07.789000    2879.0         4834         55   \n",
       "246049 2019-10-31 17:07:26.619999    2879.0         7402         55   \n",
       "246050 2019-11-01 07:45:05.378999    2879.0         7402         55   \n",
       "246051 2019-11-01 09:09:36.236000    2879.0         7402         56   \n",
       "246052 2019-11-01 16:19:51.618999    2879.0         7402         56   \n",
       "\n",
       "        start_min  weekday                  geometry  \n",
       "0             430        1  POINT (6.83931 46.85233)  \n",
       "1             414        3  POINT (6.83931 46.85233)  \n",
       "2             458        3  POINT (6.83931 46.85233)  \n",
       "3             633        3  POINT (7.50002 47.42270)  \n",
       "4             659        3  POINT (7.50002 47.42270)  \n",
       "...           ...      ...                       ...  \n",
       "246048        776        3  POINT (8.54356 47.40027)  \n",
       "246049        926        3  POINT (8.57121 47.40375)  \n",
       "246050       1162        3  POINT (8.57121 47.40375)  \n",
       "246051        471        4  POINT (8.57121 47.40375)  \n",
       "246052        667        4  POINT (8.57121 47.40375)  \n",
       "\n",
       "[246053 rows x 10 columns]"
      ]
     },
     "execution_count": 30,
     "metadata": {},
     "output_type": "execute_result"
    }
   ],
   "source": [
    "test_data"
   ]
  },
  {
   "cell_type": "code",
   "execution_count": 31,
   "metadata": {},
   "outputs": [],
   "source": [
    "metric = jump_length(test_data)"
   ]
  },
  {
   "cell_type": "code",
   "execution_count": 32,
   "metadata": {},
   "outputs": [],
   "source": [
    "xlabel = \"$\\Delta r\\,(m)$\"\n",
    "ylabel = \"$P(\\Delta r)$\"\n",
    "xmin = 1"
   ]
  },
  {
   "cell_type": "code",
   "execution_count": 33,
   "metadata": {},
   "outputs": [],
   "source": [
    "metric = metric[metric>xmin]"
   ]
  },
  {
   "cell_type": "code",
   "execution_count": 34,
   "metadata": {},
   "outputs": [
    {
     "data": {
      "image/png": "[encoded data removed]",
      "text/plain": [
       "<Figure size 640x480 with 1 Axes>"
      ]
     },
     "metadata": {},
     "output_type": "display_data"
    }
   ],
   "source": [
    "# fit power law\n",
    "fit = powerlaw.Fit(metric, xmin=xmin)\n",
    "\n",
    "# plotting\n",
    "powerlaw.plot_pdf(metric, label=\"data\")\n",
    "fit.power_law.plot_pdf(linestyle=\"--\", label=\"powerlaw fit\")\n",
    "fit.truncated_power_law.plot_pdf(linestyle=\"--\", label=\"truncated power law\")\n",
    "fit.lognormal.plot_pdf(linestyle=\"--\", label=\"lognormal fit\")\n",
    "\n",
    "plt.legend(prop={\"size\": 13})\n",
    "plt.xlabel(xlabel, fontsize=16)\n",
    "plt.ylabel(ylabel, fontsize=16)\n",
    "\n",
    "plt.show()"
   ]
  },
  {
   "cell_type": "code",
   "execution_count": 46,
   "metadata": {},
   "outputs": [
    {
     "data": {
      "text/html": [
       "<div>\n",
       "<style scoped>\n",
       "    .dataframe tbody tr th:only-of-type {\n",
       "        vertical-align: middle;\n",
       "    }\n",
       "\n",
       "    .dataframe tbody tr th {\n",
       "        vertical-align: top;\n",
       "    }\n",
       "\n",
       "    .dataframe thead th {\n",
       "        text-align: right;\n",
       "    }\n",
       "</style>\n",
       "<table border=\"1\" class=\"dataframe\">\n",
       "  <thead>\n",
       "    <tr style=\"text-align: right;\">\n",
       "      <th></th>\n",
       "      <th>seq_id</th>\n",
       "      <th>user_id</th>\n",
       "      <th>generated_ls</th>\n",
       "    </tr>\n",
       "  </thead>\n",
       "  <tbody>\n",
       "    <tr>\n",
       "      <th>0</th>\n",
       "      <td>0</td>\n",
       "      <td>1</td>\n",
       "      <td>10302</td>\n",
       "    </tr>\n",
       "    <tr>\n",
       "      <th>1</th>\n",
       "      <td>0</td>\n",
       "      <td>1</td>\n",
       "      <td>10311</td>\n",
       "    </tr>\n",
       "    <tr>\n",
       "      <th>2</th>\n",
       "      <td>0</td>\n",
       "      <td>1</td>\n",
       "      <td>10301</td>\n",
       "    </tr>\n",
       "    <tr>\n",
       "      <th>3</th>\n",
       "      <td>0</td>\n",
       "      <td>1</td>\n",
       "      <td>10350</td>\n",
       "    </tr>\n",
       "    <tr>\n",
       "      <th>4</th>\n",
       "      <td>0</td>\n",
       "      <td>1</td>\n",
       "      <td>10350</td>\n",
       "    </tr>\n",
       "    <tr>\n",
       "      <th>...</th>\n",
       "      <td>...</td>\n",
       "      <td>...</td>\n",
       "      <td>...</td>\n",
       "    </tr>\n",
       "    <tr>\n",
       "      <th>9241645</th>\n",
       "      <td>184832</td>\n",
       "      <td>2094</td>\n",
       "      <td>7912</td>\n",
       "    </tr>\n",
       "    <tr>\n",
       "      <th>9241646</th>\n",
       "      <td>184832</td>\n",
       "      <td>2094</td>\n",
       "      <td>13156</td>\n",
       "    </tr>\n",
       "    <tr>\n",
       "      <th>9241647</th>\n",
       "      <td>184832</td>\n",
       "      <td>2094</td>\n",
       "      <td>13154</td>\n",
       "    </tr>\n",
       "    <tr>\n",
       "      <th>9241648</th>\n",
       "      <td>184832</td>\n",
       "      <td>2094</td>\n",
       "      <td>13153</td>\n",
       "    </tr>\n",
       "    <tr>\n",
       "      <th>9241649</th>\n",
       "      <td>184832</td>\n",
       "      <td>2094</td>\n",
       "      <td>13137</td>\n",
       "    </tr>\n",
       "  </tbody>\n",
       "</table>\n",
       "<p>9241650 rows × 3 columns</p>\n",
       "</div>"
      ],
      "text/plain": [
       "         seq_id  user_id  generated_ls\n",
       "0             0        1         10302\n",
       "1             0        1         10311\n",
       "2             0        1         10301\n",
       "3             0        1         10350\n",
       "4             0        1         10350\n",
       "...         ...      ...           ...\n",
       "9241645  184832     2094          7912\n",
       "9241646  184832     2094         13156\n",
       "9241647  184832     2094         13154\n",
       "9241648  184832     2094         13153\n",
       "9241649  184832     2094         13137\n",
       "\n",
       "[9241650 rows x 3 columns]"
      ]
     },
     "execution_count": 46,
     "metadata": {},
     "output_type": "execute_result"
    }
   ],
   "source": [
    "simulated_sp = pd.read_csv(os.path.join(data_dir, \"mobis_mhsa_generation.csv\"))\n",
    "simulated_sp"
   ]
  },
  {
   "cell_type": "code",
   "execution_count": 47,
   "metadata": {},
   "outputs": [],
   "source": [
    "simulated_sp = simulated_sp.merge(\n",
    "    loc.reset_index()[[\"id\", \"center\"]].rename(columns={\"id\": \"location_id\"}), how=\"left\", left_on=\"generated_ls\", right_on=\"location_id\"\n",
    ")"
   ]
  },
  {
   "cell_type": "code",
   "execution_count": 48,
   "metadata": {},
   "outputs": [],
   "source": [
    "simulated_sp.rename(columns={\"center\": \"geometry\"}, inplace=True)\n",
    "simulated_sp[\"geometry\"] = simulated_sp[\"geometry\"].apply(wkt.loads)\n",
    "simulated_sp = gpd.GeoDataFrame(simulated_sp, geometry=\"geometry\", crs=\"EPSG:4326\")"
   ]
  },
  {
   "cell_type": "code",
   "execution_count": null,
   "metadata": {},
   "outputs": [],
   "source": [
    "simulated_sp.drop(columns={\"user_id\", \"generated_ls\"}, inplace=True)\n",
    "simulated_sp.rename(columns={\"seq_id\": \"user_id\"}, inplace=True)"
   ]
  },
  {
   "cell_type": "code",
   "execution_count": null,
   "metadata": {},
   "outputs": [],
   "source": [
    "simulated_jl = jump_length(simulated_sp)"
   ]
  },
  {
   "cell_type": "code",
   "execution_count": 44,
   "metadata": {},
   "outputs": [],
   "source": [
    "xlabel = \"$\\Delta r\\,(m)$\"\n",
    "ylabel = \"$P(\\Delta r)$\"\n",
    "xmin = 1\n",
    "simulated_jl = simulated_jl[simulated_jl>xmin]"
   ]
  },
  {
   "cell_type": "code",
   "execution_count": 45,
   "metadata": {},
   "outputs": [
    {
     "data": {
      "image/png": "[encoded data removed]",
      "text/plain": [
       "<Figure size 640x480 with 1 Axes>"
      ]
     },
     "metadata": {},
     "output_type": "display_data"
    }
   ],
   "source": [
    "# fit power law\n",
    "# fit = powerlaw.Fit(simulated_jl, xmin=xmin)\n",
    "\n",
    "# plotting\n",
    "powerlaw.plot_pdf(metric, label=\"data\")\n",
    "powerlaw.plot_pdf(simulated_jl, label=\"simulated\")\n",
    "\n",
    "# fit.power_law.plot_pdf(linestyle=\"--\", label=\"powerlaw fit\")\n",
    "# fit.truncated_power_law.plot_pdf(linestyle=\"--\", label=\"truncated power law\")\n",
    "# fit.lognormal.plot_pdf(linestyle=\"--\", label=\"lognormal fit\")\n",
    "\n",
    "plt.legend(prop={\"size\": 13})\n",
    "plt.xlabel(xlabel, fontsize=16)\n",
    "plt.ylabel(ylabel, fontsize=16)\n",
    "\n",
    "plt.show()"
   ]
  },
  {
   "cell_type": "code",
   "execution_count": null,
   "metadata": {},
   "outputs": [],
   "source": []
  }
 ],
 "metadata": {
  "kernelspec": {
   "display_name": "Python 3.9.17 ('generation')",
   "language": "python",
   "name": "python3"
  },
  "language_info": {
   "codemirror_mode": {
    "name": "ipython",
    "version": 3
   },
   "file_extension": ".py",
   "mimetype": "text/x-python",
   "name": "python",
   "nbconvert_exporter": "python",
   "pygments_lexer": "ipython3",
   "version": "3.9.17"
  },
  "orig_nbformat": 4,
  "vscode": {
   "interpreter": {
    "hash": "659ffd3ea00dbbc52f857660b8dafea05f804bc55dd91047cefb31e38b5505f6"
   }
  }
 },
 "nbformat": 4,
 "nbformat_minor": 2
}
