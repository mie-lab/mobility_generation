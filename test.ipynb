{
 "cells": [
  {
   "cell_type": "code",
   "execution_count": 1,
   "metadata": {},
   "outputs": [],
   "source": [
    "import torch \n",
    "import numpy as np\n",
    "\n",
    "import os\n",
    "import pandas as pd\n",
    "import geopandas as gpd\n",
    "import pickle as pickle\n",
    "\n",
    "# from loc_predict.processing import _split_train_test\n",
    "\n",
    "from shapely import wkt\n",
    "\n",
    "import powerlaw\n",
    "import matplotlib.pyplot as plt\n",
    "\n",
    "# from metrics.metrics import radius_gyration, jump_length, location_frquency, wait_time\n",
    "from utils.utils import load_data\n",
    "\n",
    "data_dir = os.path.join(\"data\", \"validation\")\n",
    "\n",
    "def save_pk_file(save_path, data):\n",
    "    \"\"\"Function to save data to pickle format given data and path.\"\"\"\n",
    "    with open(save_path, \"wb\") as handle:\n",
    "        pickle.dump(data, handle, protocol=pickle.HIGHEST_PROTOCOL)\n"
   ]
  },
  {
   "cell_type": "markdown",
   "metadata": {},
   "source": [
    "# Validation\n"
   ]
  },
  {
   "cell_type": "code",
   "execution_count": null,
   "metadata": {},
   "outputs": [],
   "source": [
    "simulated_sp = pd.read_csv(os.path.join(data_dir, \"mobis_mhsa_generation.csv\"))\n",
    "simulated_sp"
   ]
  },
  {
   "cell_type": "code",
   "execution_count": null,
   "metadata": {},
   "outputs": [],
   "source": [
    "simulated_sp = simulated_sp.merge(\n",
    "    loc.reset_index()[[\"id\", \"center\"]].rename(columns={\"id\": \"location_id\"}), how=\"left\", left_on=\"generated_ls\", right_on=\"location_id\"\n",
    ")"
   ]
  },
  {
   "cell_type": "code",
   "execution_count": null,
   "metadata": {},
   "outputs": [],
   "source": [
    "simulated_sp.rename(columns={\"center\": \"geometry\"}, inplace=True)\n",
    "simulated_sp[\"geometry\"] = simulated_sp[\"geometry\"].apply(wkt.loads)\n",
    "simulated_sp = gpd.GeoDataFrame(simulated_sp, geometry=\"geometry\", crs=\"EPSG:4326\")"
   ]
  },
  {
   "cell_type": "code",
   "execution_count": null,
   "metadata": {},
   "outputs": [],
   "source": [
    "simulated_sp.drop(columns={\"user_id\", \"generated_ls\"}, inplace=True)\n",
    "simulated_sp.rename(columns={\"seq_id\": \"user_id\"}, inplace=True)"
   ]
  },
  {
   "cell_type": "markdown",
   "metadata": {},
   "source": [
    "# Validate metric calculation"
   ]
  },
  {
   "cell_type": "code",
   "execution_count": 2,
   "metadata": {},
   "outputs": [],
   "source": [
    "from metrics.evaluations import Metric\n",
    "from utils.utils import load_data, setup_seed, load_config\n",
    "from easydict import EasyDict as edict\n",
    "# from utils.dataloader import get_train_test, _get_valid_sequence\n",
    "\n",
    "import pandas as pd\n",
    "import numpy as np\n",
    "import os\n",
    "import geopandas as gpd\n",
    "from shapely import wkt"
   ]
  },
  {
   "cell_type": "code",
   "execution_count": 52,
   "metadata": {},
   "outputs": [],
   "source": [
    "# initialization\n",
    "config = load_config(\"./config/movesim.yml\")\n",
    "config = edict(config)\n",
    "\n",
    "# read and preprocess\n",
    "sp = pd.read_csv(os.path.join(config.temp_save_root, \"sp.csv\"), index_col=\"id\")\n",
    "loc = pd.read_csv(os.path.join(config.temp_save_root, \"locs_s2.csv\"), index_col=\"id\")\n",
    "sp = load_data(sp, loc)\n",
    "\n",
    "all_locs = pd.read_csv(os.path.join(config.temp_save_root, \"all_locations.csv\"), index_col=\"id\")\n",
    "all_locs[\"geometry\"] = all_locs[\"geometry\"].apply(wkt.loads)\n",
    "all_locs = gpd.GeoDataFrame(all_locs, geometry=\"geometry\", crs=\"EPSG:4326\")\n",
    "# transform to projected coordinate systems\n",
    "all_locs = all_locs.to_crs(\"EPSG:2056\")\n",
    "\n",
    "train_data, vali_data, test_data, all_locs = get_train_test(sp, all_locs=all_locs)\n",
    "\n",
    "config[\"total_loc_num\"] = int(all_locs.loc_id.max() + 1)\n",
    "config[\"total_user_num\"] = int(train_data.user_id.max() + 1)"
   ]
  },
  {
   "cell_type": "code",
   "execution_count": 53,
   "metadata": {},
   "outputs": [
    {
     "name": "stderr",
     "output_type": "stream",
     "text": [
      "100%|██████████| 2094/2094 [00:41<00:00, 50.11it/s]\n",
      "100%|██████████| 2088/2088 [00:11<00:00, 188.71it/s]\n",
      "100%|██████████| 2094/2094 [00:10<00:00, 199.15it/s]\n"
     ]
    }
   ],
   "source": [
    "train_data[\"id\"] = np.arange(len(train_data))\n",
    "vali_data[\"id\"] = np.arange(len(vali_data))\n",
    "test_data[\"id\"] = np.arange(len(test_data))\n",
    "\n",
    "train_idx = _get_valid_sequence(train_data, print_progress=config.verbose, previous_day=config.previous_day)\n",
    "vali_idx = _get_valid_sequence(vali_data, print_progress=config.verbose, previous_day=config.previous_day)\n",
    "test_idx = _get_valid_sequence(test_data, print_progress=config.verbose, previous_day=config.previous_day)\n"
   ]
  },
  {
   "cell_type": "code",
   "execution_count": 5,
   "metadata": {},
   "outputs": [],
   "source": [
    "temp_data = train_data.copy()\n",
    "temp_data.set_index(\"id\", inplace=True)\n",
    "\n",
    "train_seq = [temp_data.iloc[idx[0] : idx[1]][\"location_id\"].values for idx in train_idx]"
   ]
  },
  {
   "cell_type": "code",
   "execution_count": 6,
   "metadata": {},
   "outputs": [],
   "source": [
    "temp_data = test_data.copy()\n",
    "temp_data.set_index(\"id\", inplace=True)\n",
    "\n",
    "test_seq = [temp_data.iloc[idx[0] : idx[1]][\"location_id\"].values for idx in test_idx]"
   ]
  },
  {
   "cell_type": "code",
   "execution_count": 7,
   "metadata": {},
   "outputs": [],
   "source": [
    "metrics = Metric(config, locations=all_locs, input_data=vali_data, valid_start_end_idx=vali_idx)"
   ]
  },
  {
   "cell_type": "code",
   "execution_count": 8,
   "metadata": {},
   "outputs": [
    {
     "name": "stdout",
     "output_type": "stream",
     "text": [
      "Metric: distance 0.091, rg 0.081, period 0.024, topk all 0.005, topk 0.000\n"
     ]
    }
   ],
   "source": [
    "jsds = metrics.get_individual_jsds(gene_data=test_seq)\n",
    "print(\n",
    "    \"Metric: distance {:.3f}, rg {:.3f}, period {:.3f}, topk all {:.3f}, topk {:.3f}\".format(\n",
    "        jsds[0], jsds[1], jsds[2], jsds[3], jsds[4]\n",
    "    )\n",
    ")"
   ]
  },
  {
   "cell_type": "code",
   "execution_count": 9,
   "metadata": {},
   "outputs": [
    {
     "name": "stdout",
     "output_type": "stream",
     "text": [
      "Metric: distance 0.092, rg 0.071, period 0.021, topk all 0.000, topk 0.288\n"
     ]
    }
   ],
   "source": [
    "jsds = metrics.get_individual_jsds(gene_data=train_seq)\n",
    "print(\n",
    "    \"Metric: distance {:.3f}, rg {:.3f}, period {:.3f}, topk all {:.3f}, topk {:.3f}\".format(\n",
    "        jsds[0], jsds[1], jsds[2], jsds[3], jsds[4]\n",
    "    )\n",
    ")"
   ]
  },
  {
   "cell_type": "markdown",
   "metadata": {},
   "source": [
    "## Diffusion sequence"
   ]
  },
  {
   "cell_type": "code",
   "execution_count": 3,
   "metadata": {},
   "outputs": [],
   "source": [
    "from sklearn.preprocessing import OrdinalEncoder\n",
    "from metrics.evaluations import Metric"
   ]
  },
  {
   "cell_type": "code",
   "execution_count": 4,
   "metadata": {},
   "outputs": [],
   "source": [
    "# initialization\n",
    "config = load_config(\"./config/diff.yml\")\n",
    "config = edict(config)"
   ]
  },
  {
   "cell_type": "code",
   "execution_count": 12,
   "metadata": {},
   "outputs": [],
   "source": [
    "path = f\"{config.data_dir}/test_level{config.level}_{config.src_min_days}_{config.tgt_min_days}_tiny.pk\"\n",
    "sequence_ls = pickle.load(open(path, \"rb\"))\n",
    "\n",
    "tgt_tiny = []\n",
    "src_tiny = []\n",
    "for record in sequence_ls:\n",
    "    tgt_tiny.append(record[\"tgt\"])\n",
    "    src_tiny.append(record[\"src\"])"
   ]
  },
  {
   "cell_type": "code",
   "execution_count": 6,
   "metadata": {},
   "outputs": [],
   "source": [
    "path = f\"{config.data_dir}/train_level{config.level}_{config.src_min_days}_{config.tgt_min_days}_tiny.pk\"\n",
    "sequence_ls = pickle.load(open(path, \"rb\"))\n",
    "\n",
    "train_tiny = []\n",
    "for record in sequence_ls:\n",
    "    train_tiny.append(record[\"tgt\"])"
   ]
  },
  {
   "cell_type": "code",
   "execution_count": 7,
   "metadata": {},
   "outputs": [],
   "source": [
    "all_locs = pd.read_csv(os.path.join(\"data\", \"s2_loc_visited_level10_13.csv\"), index_col=\"id\")\n",
    "all_locs[\"geometry\"] = all_locs[\"geometry\"].apply(wkt.loads)\n",
    "all_locs = gpd.GeoDataFrame(all_locs, geometry=\"geometry\", crs=\"EPSG:4326\")\n",
    "# transform to projected coordinate systems\n",
    "all_locs = all_locs.to_crs(\"EPSG:2056\")"
   ]
  },
  {
   "cell_type": "code",
   "execution_count": 8,
   "metadata": {},
   "outputs": [],
   "source": [
    "enc = OrdinalEncoder(dtype=np.int64, handle_unknown=\"use_encoded_value\", unknown_value=-1).fit(\n",
    "    all_locs[\"loc_id\"].values.reshape(-1, 1)\n",
    ")\n",
    "all_locs[\"loc_id\"] = enc.transform(all_locs[\"loc_id\"].values.reshape(-1, 1)) + 2"
   ]
  },
  {
   "cell_type": "code",
   "execution_count": 9,
   "metadata": {},
   "outputs": [
    {
     "data": {
      "text/html": [
       "<div>\n",
       "<style scoped>\n",
       "    .dataframe tbody tr th:only-of-type {\n",
       "        vertical-align: middle;\n",
       "    }\n",
       "\n",
       "    .dataframe tbody tr th {\n",
       "        vertical-align: top;\n",
       "    }\n",
       "\n",
       "    .dataframe thead th {\n",
       "        text-align: right;\n",
       "    }\n",
       "</style>\n",
       "<table border=\"1\" class=\"dataframe\">\n",
       "  <thead>\n",
       "    <tr style=\"text-align: right;\">\n",
       "      <th></th>\n",
       "      <th>loc_id</th>\n",
       "      <th>level</th>\n",
       "      <th>geometry</th>\n",
       "      <th>freq</th>\n",
       "      <th>area</th>\n",
       "    </tr>\n",
       "    <tr>\n",
       "      <th>id</th>\n",
       "      <th></th>\n",
       "      <th></th>\n",
       "      <th></th>\n",
       "      <th></th>\n",
       "      <th></th>\n",
       "    </tr>\n",
       "  </thead>\n",
       "  <tbody>\n",
       "    <tr>\n",
       "      <th>0</th>\n",
       "      <td>2</td>\n",
       "      <td>10</td>\n",
       "      <td>POINT (2824875.045 1159436.528)</td>\n",
       "      <td>1</td>\n",
       "      <td>POLYGON ((10.405097146225662 46.50637570678295...</td>\n",
       "    </tr>\n",
       "    <tr>\n",
       "      <th>1</th>\n",
       "      <td>3</td>\n",
       "      <td>13</td>\n",
       "      <td>POINT (2822437.857 1167754.527)</td>\n",
       "      <td>38</td>\n",
       "      <td>POLYGON ((10.347820052132302 46.61871685680636...</td>\n",
       "    </tr>\n",
       "    <tr>\n",
       "      <th>2</th>\n",
       "      <td>4</td>\n",
       "      <td>13</td>\n",
       "      <td>POINT (2815796.126 1167304.569)</td>\n",
       "      <td>1</td>\n",
       "      <td>POLYGON ((10.260953592346382 46.61685460820135...</td>\n",
       "    </tr>\n",
       "    <tr>\n",
       "      <th>3</th>\n",
       "      <td>5</td>\n",
       "      <td>13</td>\n",
       "      <td>POINT (2816020.303 1168362.492)</td>\n",
       "      <td>1</td>\n",
       "      <td>POLYGON ((10.264376293749178 46.62629143145975...</td>\n",
       "    </tr>\n",
       "    <tr>\n",
       "      <th>4</th>\n",
       "      <td>6</td>\n",
       "      <td>13</td>\n",
       "      <td>POINT (2818994.419 1169160.037)</td>\n",
       "      <td>1</td>\n",
       "      <td>POLYGON ((10.303565033130825 46.63249007077394...</td>\n",
       "    </tr>\n",
       "    <tr>\n",
       "      <th>...</th>\n",
       "      <td>...</td>\n",
       "      <td>...</td>\n",
       "      <td>...</td>\n",
       "      <td>...</td>\n",
       "      <td>...</td>\n",
       "    </tr>\n",
       "    <tr>\n",
       "      <th>14876</th>\n",
       "      <td>14878</td>\n",
       "      <td>13</td>\n",
       "      <td>POINT (2767507.842 1213073.682)</td>\n",
       "      <td>1</td>\n",
       "      <td>POLYGON ((9.64763962539829 47.042237657717536,...</td>\n",
       "    </tr>\n",
       "    <tr>\n",
       "      <th>14877</th>\n",
       "      <td>14879</td>\n",
       "      <td>13</td>\n",
       "      <td>POINT (2768419.907 1212986.551)</td>\n",
       "      <td>1</td>\n",
       "      <td>POLYGON ((9.65960383635977 47.04122268391671, ...</td>\n",
       "    </tr>\n",
       "    <tr>\n",
       "      <th>14878</th>\n",
       "      <td>14880</td>\n",
       "      <td>13</td>\n",
       "      <td>POINT (2769332.126 1212899.406)</td>\n",
       "      <td>1</td>\n",
       "      <td>POLYGON ((9.671569607102107 47.04020629289218,...</td>\n",
       "    </tr>\n",
       "    <tr>\n",
       "      <th>14879</th>\n",
       "      <td>14881</td>\n",
       "      <td>13</td>\n",
       "      <td>POINT (2770244.499 1212812.246)</td>\n",
       "      <td>1</td>\n",
       "      <td>POLYGON ((9.68353693615797 47.039188484166594,...</td>\n",
       "    </tr>\n",
       "    <tr>\n",
       "      <th>14880</th>\n",
       "      <td>14882</td>\n",
       "      <td>13</td>\n",
       "      <td>POINT (2823422.772 1207732.455)</td>\n",
       "      <td>8</td>\n",
       "      <td>POLYGON ((10.380257658858904 46.97771378506055...</td>\n",
       "    </tr>\n",
       "  </tbody>\n",
       "</table>\n",
       "<p>14881 rows × 5 columns</p>\n",
       "</div>"
      ],
      "text/plain": [
       "       loc_id  level                         geometry  freq  \\\n",
       "id                                                            \n",
       "0           2     10  POINT (2824875.045 1159436.528)     1   \n",
       "1           3     13  POINT (2822437.857 1167754.527)    38   \n",
       "2           4     13  POINT (2815796.126 1167304.569)     1   \n",
       "3           5     13  POINT (2816020.303 1168362.492)     1   \n",
       "4           6     13  POINT (2818994.419 1169160.037)     1   \n",
       "...       ...    ...                              ...   ...   \n",
       "14876   14878     13  POINT (2767507.842 1213073.682)     1   \n",
       "14877   14879     13  POINT (2768419.907 1212986.551)     1   \n",
       "14878   14880     13  POINT (2769332.126 1212899.406)     1   \n",
       "14879   14881     13  POINT (2770244.499 1212812.246)     1   \n",
       "14880   14882     13  POINT (2823422.772 1207732.455)     8   \n",
       "\n",
       "                                                    area  \n",
       "id                                                        \n",
       "0      POLYGON ((10.405097146225662 46.50637570678295...  \n",
       "1      POLYGON ((10.347820052132302 46.61871685680636...  \n",
       "2      POLYGON ((10.260953592346382 46.61685460820135...  \n",
       "3      POLYGON ((10.264376293749178 46.62629143145975...  \n",
       "4      POLYGON ((10.303565033130825 46.63249007077394...  \n",
       "...                                                  ...  \n",
       "14876  POLYGON ((9.64763962539829 47.042237657717536,...  \n",
       "14877  POLYGON ((9.65960383635977 47.04122268391671, ...  \n",
       "14878  POLYGON ((9.671569607102107 47.04020629289218,...  \n",
       "14879  POLYGON ((9.68353693615797 47.039188484166594,...  \n",
       "14880  POLYGON ((10.380257658858904 46.97771378506055...  \n",
       "\n",
       "[14881 rows x 5 columns]"
      ]
     },
     "execution_count": 9,
     "metadata": {},
     "output_type": "execute_result"
    }
   ],
   "source": [
    "all_locs"
   ]
  },
  {
   "cell_type": "code",
   "execution_count": 10,
   "metadata": {},
   "outputs": [],
   "source": [
    "metrics = Metric(max_locs=config.max_location, locations=all_locs, reference_data=train_tiny)"
   ]
  },
  {
   "cell_type": "code",
   "execution_count": 11,
   "metadata": {},
   "outputs": [
    {
     "name": "stdout",
     "output_type": "stream",
     "text": [
      "Metric: distance 0.252, rg 0.237, period 0.227, topk all 0.023, topk 0.790\n"
     ]
    }
   ],
   "source": [
    "jsds = metrics.get_individual_jsds(gene_data=tgt_tiny)\n",
    "print(\n",
    "    \"Metric: distance {:.3f}, rg {:.3f}, period {:.3f}, topk all {:.3f}, topk {:.3f}\".format(\n",
    "        jsds[0], jsds[1], jsds[2], jsds[3], jsds[4]\n",
    "    )\n",
    ")"
   ]
  },
  {
   "cell_type": "code",
   "execution_count": 13,
   "metadata": {},
   "outputs": [
    {
     "name": "stdout",
     "output_type": "stream",
     "text": [
      "Metric: distance 0.246, rg 0.283, period 0.333, topk all 0.027, topk 0.833\n"
     ]
    }
   ],
   "source": [
    "jsds = metrics.get_individual_jsds(gene_data=src_tiny)\n",
    "print(\n",
    "    \"Metric: distance {:.3f}, rg {:.3f}, period {:.3f}, topk all {:.3f}, topk {:.3f}\".format(\n",
    "        jsds[0], jsds[1], jsds[2], jsds[3], jsds[4]\n",
    "    )\n",
    ")"
   ]
  },
  {
   "cell_type": "code",
   "execution_count": 14,
   "metadata": {},
   "outputs": [],
   "source": [
    "metrics = Metric(max_locs=config.max_location, locations=all_locs, reference_data=src_tiny)"
   ]
  },
  {
   "cell_type": "code",
   "execution_count": 15,
   "metadata": {},
   "outputs": [
    {
     "name": "stdout",
     "output_type": "stream",
     "text": [
      "Metric: distance 0.069, rg 0.294, period 0.300, topk all 0.018, topk 0.745\n"
     ]
    }
   ],
   "source": [
    "jsds = metrics.get_individual_jsds(gene_data=tgt_tiny)\n",
    "print(\n",
    "    \"Metric: distance {:.3f}, rg {:.3f}, period {:.3f}, topk all {:.3f}, topk {:.3f}\".format(\n",
    "        jsds[0], jsds[1], jsds[2], jsds[3], jsds[4]\n",
    "    )\n",
    ")"
   ]
  },
  {
   "cell_type": "code",
   "execution_count": 81,
   "metadata": {},
   "outputs": [
    {
     "name": "stdout",
     "output_type": "stream",
     "text": [
      "18\n",
      "44\n",
      "41\n",
      "47\n",
      "46\n"
     ]
    }
   ],
   "source": [
    "import json\n",
    "\n",
    "predict_ls = []\n",
    "true_ls = []\n",
    "src_ls = []\n",
    "with open(\".\\\\runs\\mobis_diffseq_evaluate\\seed101_step500.json\", \"r\") as f_reader:\n",
    "    for row in f_reader:\n",
    "        content = json.loads(row)\n",
    "\n",
    "        src_ls.append((np.array(content[\"source\"])[:-1]))\n",
    "\n",
    "        reference_arr = np.array(content[\"reference\"])\n",
    "        try:\n",
    "            reference_arr = reference_arr[:np.where(reference_arr == 0)[0][0]]\n",
    "        except IndexError:\n",
    "            reference_arr = reference_arr\n",
    "        true_ls.append(reference_arr)\n",
    "\n",
    "        if len(content[\"recover\"]) >= 50:\n",
    "            predict_ls.append(np.array(content[\"recover\"][:50]).squeeze())\n",
    "        else:\n",
    "            print(len(content[\"recover\"]))\n",
    "        "
   ]
  },
  {
   "cell_type": "code",
   "execution_count": 83,
   "metadata": {},
   "outputs": [],
   "source": [
    "metrics = Metric(max_locs=config.max_location, locations=all_locs, reference_data=src_ls)"
   ]
  },
  {
   "cell_type": "code",
   "execution_count": 85,
   "metadata": {},
   "outputs": [
    {
     "name": "stdout",
     "output_type": "stream",
     "text": [
      "Metric: distance 0.046, rg 0.203, period 0.281, topk all 0.016, topk 0.745\n"
     ]
    }
   ],
   "source": [
    "jsds = metrics.get_individual_jsds(gene_data=true_ls)\n",
    "print(\n",
    "    \"Metric: distance {:.3f}, rg {:.3f}, period {:.3f}, topk all {:.3f}, topk {:.3f}\".format(\n",
    "        jsds[0], jsds[1], jsds[2], jsds[3], jsds[4]\n",
    "    )\n",
    ")"
   ]
  },
  {
   "cell_type": "code",
   "execution_count": 86,
   "metadata": {},
   "outputs": [
    {
     "name": "stdout",
     "output_type": "stream",
     "text": [
      "Metric: distance 0.394, rg 0.462, period 0.804, topk all 0.030, topk 0.833\n"
     ]
    }
   ],
   "source": [
    "jsds = metrics.get_individual_jsds(gene_data=predict_ls)\n",
    "print(\n",
    "    \"Metric: distance {:.3f}, rg {:.3f}, period {:.3f}, topk all {:.3f}, topk {:.3f}\".format(\n",
    "        jsds[0], jsds[1], jsds[2], jsds[3], jsds[4]\n",
    "    )\n",
    ")"
   ]
  }
 ],
 "metadata": {
  "kernelspec": {
   "display_name": "Python 3 (ipykernel)",
   "language": "python",
   "name": "python3"
  },
  "language_info": {
   "codemirror_mode": {
    "name": "ipython",
    "version": 3
   },
   "file_extension": ".py",
   "mimetype": "text/x-python",
   "name": "python",
   "nbconvert_exporter": "python",
   "pygments_lexer": "ipython3",
   "version": "3.9.17"
  },
  "vscode": {
   "interpreter": {
    "hash": "659ffd3ea00dbbc52f857660b8dafea05f804bc55dd91047cefb31e38b5505f6"
   }
  }
 },
 "nbformat": 4,
 "nbformat_minor": 4
}
