{
 "cells": [
  {
   "cell_type": "code",
   "execution_count": 1,
   "metadata": {},
   "outputs": [],
   "source": [
    "import torch \n",
    "import numpy as np\n",
    "\n",
    "import os\n",
    "import pandas as pd\n",
    "import geopandas as gpd\n",
    "import pickle as pickle\n",
    "\n",
    "# from loc_predict.processing import _split_train_test\n",
    "\n",
    "from shapely import wkt\n",
    "\n",
    "import powerlaw\n",
    "import matplotlib.pyplot as plt\n",
    "\n",
    "from metrics.metrics import radius_gyration, jump_length, location_frquency, wait_time\n",
    "from utils.utils import load_data\n",
    "\n",
    "data_dir = os.path.join(\"data\", \"validation\")\n",
    "\n",
    "def save_pk_file(save_path, data):\n",
    "    \"\"\"Function to save data to pickle format given data and path.\"\"\"\n",
    "    with open(save_path, \"wb\") as handle:\n",
    "        pickle.dump(data, handle, protocol=pickle.HIGHEST_PROTOCOL)\n"
   ]
  },
  {
   "cell_type": "markdown",
   "metadata": {},
   "source": [
    "# Validation\n"
   ]
  },
  {
   "cell_type": "code",
   "execution_count": null,
   "metadata": {},
   "outputs": [],
   "source": [
    "simulated_sp = pd.read_csv(os.path.join(data_dir, \"mobis_mhsa_generation.csv\"))\n",
    "simulated_sp"
   ]
  },
  {
   "cell_type": "code",
   "execution_count": null,
   "metadata": {},
   "outputs": [],
   "source": [
    "simulated_sp = simulated_sp.merge(\n",
    "    loc.reset_index()[[\"id\", \"center\"]].rename(columns={\"id\": \"location_id\"}), how=\"left\", left_on=\"generated_ls\", right_on=\"location_id\"\n",
    ")"
   ]
  },
  {
   "cell_type": "code",
   "execution_count": null,
   "metadata": {},
   "outputs": [],
   "source": [
    "simulated_sp.rename(columns={\"center\": \"geometry\"}, inplace=True)\n",
    "simulated_sp[\"geometry\"] = simulated_sp[\"geometry\"].apply(wkt.loads)\n",
    "simulated_sp = gpd.GeoDataFrame(simulated_sp, geometry=\"geometry\", crs=\"EPSG:4326\")"
   ]
  },
  {
   "cell_type": "code",
   "execution_count": null,
   "metadata": {},
   "outputs": [],
   "source": [
    "simulated_sp.drop(columns={\"user_id\", \"generated_ls\"}, inplace=True)\n",
    "simulated_sp.rename(columns={\"seq_id\": \"user_id\"}, inplace=True)"
   ]
  },
  {
   "cell_type": "markdown",
   "metadata": {},
   "source": [
    "# Validate metric calculation"
   ]
  },
  {
   "cell_type": "code",
   "execution_count": 51,
   "metadata": {},
   "outputs": [],
   "source": [
    "from metrics.evaluations import Metric\n",
    "from utils.utils import load_data, setup_seed, load_config\n",
    "from easydict import EasyDict as edict\n",
    "from utils.dataloader import get_train_test, _get_valid_sequence\n",
    "\n",
    "import pandas as pd\n",
    "import numpy as np\n",
    "import os\n",
    "import geopandas as gpd\n",
    "from shapely import wkt"
   ]
  },
  {
   "cell_type": "code",
   "execution_count": 52,
   "metadata": {},
   "outputs": [],
   "source": [
    "# initialization\n",
    "config = load_config(\"./config/movesim.yml\")\n",
    "config = edict(config)\n",
    "\n",
    "# read and preprocess\n",
    "sp = pd.read_csv(os.path.join(config.temp_save_root, \"sp.csv\"), index_col=\"id\")\n",
    "loc = pd.read_csv(os.path.join(config.temp_save_root, \"locs_s2.csv\"), index_col=\"id\")\n",
    "sp = load_data(sp, loc)\n",
    "\n",
    "all_locs = pd.read_csv(os.path.join(config.temp_save_root, \"all_locations.csv\"), index_col=\"id\")\n",
    "all_locs[\"geometry\"] = all_locs[\"geometry\"].apply(wkt.loads)\n",
    "all_locs = gpd.GeoDataFrame(all_locs, geometry=\"geometry\", crs=\"EPSG:4326\")\n",
    "# transform to projected coordinate systems\n",
    "all_locs = all_locs.to_crs(\"EPSG:2056\")\n",
    "\n",
    "train_data, vali_data, test_data, all_locs = get_train_test(sp, all_locs=all_locs)\n",
    "\n",
    "config[\"total_loc_num\"] = int(all_locs.loc_id.max() + 1)\n",
    "config[\"total_user_num\"] = int(train_data.user_id.max() + 1)"
   ]
  },
  {
   "cell_type": "code",
   "execution_count": 53,
   "metadata": {},
   "outputs": [
    {
     "name": "stderr",
     "output_type": "stream",
     "text": [
      "100%|██████████| 2094/2094 [00:41<00:00, 50.11it/s]\n",
      "100%|██████████| 2088/2088 [00:11<00:00, 188.71it/s]\n",
      "100%|██████████| 2094/2094 [00:10<00:00, 199.15it/s]\n"
     ]
    }
   ],
   "source": [
    "train_data[\"id\"] = np.arange(len(train_data))\n",
    "vali_data[\"id\"] = np.arange(len(vali_data))\n",
    "test_data[\"id\"] = np.arange(len(test_data))\n",
    "\n",
    "train_idx = _get_valid_sequence(train_data, print_progress=config.verbose, previous_day=config.previous_day)\n",
    "vali_idx = _get_valid_sequence(vali_data, print_progress=config.verbose, previous_day=config.previous_day)\n",
    "test_idx = _get_valid_sequence(test_data, print_progress=config.verbose, previous_day=config.previous_day)\n"
   ]
  },
  {
   "cell_type": "code",
   "execution_count": 5,
   "metadata": {},
   "outputs": [],
   "source": [
    "temp_data = train_data.copy()\n",
    "temp_data.set_index(\"id\", inplace=True)\n",
    "\n",
    "train_seq = [temp_data.iloc[idx[0] : idx[1]][\"location_id\"].values for idx in train_idx]"
   ]
  },
  {
   "cell_type": "code",
   "execution_count": 6,
   "metadata": {},
   "outputs": [],
   "source": [
    "temp_data = test_data.copy()\n",
    "temp_data.set_index(\"id\", inplace=True)\n",
    "\n",
    "test_seq = [temp_data.iloc[idx[0] : idx[1]][\"location_id\"].values for idx in test_idx]"
   ]
  },
  {
   "cell_type": "code",
   "execution_count": 7,
   "metadata": {},
   "outputs": [],
   "source": [
    "metrics = Metric(config, locations=all_locs, input_data=vali_data, valid_start_end_idx=vali_idx)"
   ]
  },
  {
   "cell_type": "code",
   "execution_count": 8,
   "metadata": {},
   "outputs": [
    {
     "name": "stdout",
     "output_type": "stream",
     "text": [
      "Metric: distance 0.091, rg 0.081, period 0.024, topk all 0.005, topk 0.000\n"
     ]
    }
   ],
   "source": [
    "jsds = metrics.get_individual_jsds(gene_data=test_seq)\n",
    "print(\n",
    "    \"Metric: distance {:.3f}, rg {:.3f}, period {:.3f}, topk all {:.3f}, topk {:.3f}\".format(\n",
    "        jsds[0], jsds[1], jsds[2], jsds[3], jsds[4]\n",
    "    )\n",
    ")"
   ]
  },
  {
   "cell_type": "code",
   "execution_count": 9,
   "metadata": {},
   "outputs": [
    {
     "name": "stdout",
     "output_type": "stream",
     "text": [
      "Metric: distance 0.092, rg 0.071, period 0.021, topk all 0.000, topk 0.288\n"
     ]
    }
   ],
   "source": [
    "jsds = metrics.get_individual_jsds(gene_data=train_seq)\n",
    "print(\n",
    "    \"Metric: distance {:.3f}, rg {:.3f}, period {:.3f}, topk all {:.3f}, topk {:.3f}\".format(\n",
    "        jsds[0], jsds[1], jsds[2], jsds[3], jsds[4]\n",
    "    )\n",
    ")"
   ]
  }
 ],
 "metadata": {
  "kernelspec": {
   "display_name": "Python 3 (ipykernel)",
   "language": "python",
   "name": "python3"
  },
  "language_info": {
   "codemirror_mode": {
    "name": "ipython",
    "version": 3
   },
   "file_extension": ".py",
   "mimetype": "text/x-python",
   "name": "python",
   "nbconvert_exporter": "python",
   "pygments_lexer": "ipython3",
   "version": "3.9.17"
  },
  "vscode": {
   "interpreter": {
    "hash": "659ffd3ea00dbbc52f857660b8dafea05f804bc55dd91047cefb31e38b5505f6"
   }
  }
 },
 "nbformat": 4,
 "nbformat_minor": 4
}
