{
 "cells": [
  {
   "cell_type": "code",
   "execution_count": 1,
   "metadata": {},
   "outputs": [],
   "source": [
    "import torch "
   ]
  },
  {
   "cell_type": "code",
   "execution_count": 4,
   "metadata": {},
   "outputs": [],
   "source": [
    "x = torch.tensor([[12.9382, 11.2081, 11.0942],\n",
    "        [12.9211, 11.1199, 11.0261],\n",
    "        [14.3441, 13.3287, 12.6234],\n",
    "        [13.7739, 13.2769, 12.5926]], device='cuda:0')"
   ]
  },
  {
   "cell_type": "code",
   "execution_count": 20,
   "metadata": {},
   "outputs": [],
   "source": [
    "p = torch.cumsum(x / x.sum(dim=-1, keepdim=True), dim=-1)"
   ]
  },
  {
   "cell_type": "code",
   "execution_count": 51,
   "metadata": {},
   "outputs": [],
   "source": [
    "idx = torch.searchsorted(p, torch.rand([p.shape[0], 1]).to(\"cuda:0\"))"
   ]
  },
  {
   "cell_type": "code",
   "execution_count": 52,
   "metadata": {},
   "outputs": [
    {
     "data": {
      "text/plain": [
       "tensor([[2],\n",
       "        [0],\n",
       "        [1],\n",
       "        [1]], device='cuda:0')"
      ]
     },
     "execution_count": 52,
     "metadata": {},
     "output_type": "execute_result"
    }
   ],
   "source": [
    "idx"
   ]
  },
  {
   "cell_type": "code",
   "execution_count": 53,
   "metadata": {},
   "outputs": [
    {
     "data": {
      "text/plain": [
       "torch.Size([4, 1])"
      ]
     },
     "execution_count": 53,
     "metadata": {},
     "output_type": "execute_result"
    }
   ],
   "source": [
    "idx.shape"
   ]
  },
  {
   "cell_type": "code",
   "execution_count": 54,
   "metadata": {},
   "outputs": [
    {
     "data": {
      "text/plain": [
       "torch.Size([4, 3])"
      ]
     },
     "execution_count": 54,
     "metadata": {},
     "output_type": "execute_result"
    }
   ],
   "source": [
    "x.shape"
   ]
  },
  {
   "cell_type": "code",
   "execution_count": 56,
   "metadata": {},
   "outputs": [
    {
     "data": {
      "text/plain": [
       "tensor([[11.0942],\n",
       "        [12.9211],\n",
       "        [13.3287],\n",
       "        [13.2769]], device='cuda:0')"
      ]
     },
     "execution_count": 56,
     "metadata": {},
     "output_type": "execute_result"
    }
   ],
   "source": [
    "x.gather(dim=1, index=idx)"
   ]
  },
  {
   "cell_type": "code",
   "execution_count": null,
   "metadata": {},
   "outputs": [],
   "source": [
    "torch.stack([torch.cat([xi[:bpi], e, xi[bpi:]]) for xi, bpi in zip(x, bp)])"
   ]
  },
  {
   "cell_type": "code",
   "execution_count": 65,
   "metadata": {},
   "outputs": [],
   "source": [
    "x= torch.tensor([[6031, 6031, 6031, 6047],\n",
    "        [6031, 6031, 6031, 6046],\n",
    "        [6047, 6047, 6047, 6046],\n",
    "        [6046, 6046, 6046, 6012],\n",
    "        [6046, 6046, 6046, 6013],\n",
    "        [6012, 6012, 6012, 6008],\n",
    "        [6013, 6013, 6013, 6031],\n",
    "        [6008, 6008, 6008, 6031],\n",
    "        [6031, 6031, 6031, 6031],\n",
    "        [6031, 6031, 6031, 6046],\n",
    "        [   0, 6031, 6031, 6046],\n",
    "        [   0,    0, 6046,    0]], device='cuda:0')\n",
    "\n",
    "pred_loc= torch.tensor([[6031],\n",
    "        [6033],\n",
    "        [6031],\n",
    "        [6031]], device='cuda:0')"
   ]
  },
  {
   "cell_type": "code",
   "execution_count": 63,
   "metadata": {},
   "outputs": [
    {
     "data": {
      "text/plain": [
       "torch.Size([12, 4])"
      ]
     },
     "execution_count": 63,
     "metadata": {},
     "output_type": "execute_result"
    }
   ],
   "source": [
    "x.shape"
   ]
  },
  {
   "cell_type": "code",
   "execution_count": 80,
   "metadata": {},
   "outputs": [],
   "source": [
    "x_after = torch.tensor([[6031, 6031, 6031, 6047],\n",
    "        [6031, 6031, 6031, 6046],\n",
    "        [6047, 6047, 6047, 6046],\n",
    "        [6046, 6046, 6046, 6012],\n",
    "        [6046, 6046, 6046, 6013],\n",
    "        [6012, 6012, 6012, 6008],\n",
    "        [6013, 6013, 6013, 6031],\n",
    "        [6008, 6008, 6008, 6031],\n",
    "        [6031, 6031, 6031, 6031],\n",
    "        [6031, 6031, 6031, 6046],\n",
    "        [6031, 6031, 6031, 6046],\n",
    "        [   0, 6033, 6046, 6031],\n",
    "        [   0,    0, 6031,    0]], device='cuda:0')\n",
    "x_len_before = torch.tensor([9, 10, 11, 10], device='cuda:0')\n",
    "x_len_after = torch.tensor([11, 12, 13, 12], device='cuda:0')"
   ]
  },
  {
   "cell_type": "code",
   "execution_count": 85,
   "metadata": {},
   "outputs": [
    {
     "data": {
      "text/plain": [
       "tensor([[6031, 6031, 6031, 6047],\n",
       "        [6031, 6031, 6031, 6046],\n",
       "        [6047, 6047, 6047, 6046],\n",
       "        [6046, 6046, 6046, 6012],\n",
       "        [6046, 6046, 6046, 6013],\n",
       "        [6012, 6012, 6012, 6008],\n",
       "        [6013, 6013, 6013, 6031],\n",
       "        [6008, 6008, 6008, 6031],\n",
       "        [6031, 6031, 6031, 6031],\n",
       "        [6031, 6031, 6031, 6046],\n",
       "        [6031, 6031, 6031, 6046],\n",
       "        [   0, 6033, 6046, 6031],\n",
       "        [   0,    0, 6031,    0]], device='cuda:0')"
      ]
     },
     "execution_count": 85,
     "metadata": {},
     "output_type": "execute_result"
    }
   ],
   "source": [
    "x_after"
   ]
  },
  {
   "cell_type": "code",
   "execution_count": 98,
   "metadata": {},
   "outputs": [],
   "source": [
    "gen = torch.stack([xi[x_len_beforei:x_len_afteri] for xi, x_len_beforei, x_len_afteri in zip(x_after.transpose(1, 0), x_len_before, x_len_after)])"
   ]
  },
  {
   "cell_type": "code",
   "execution_count": 99,
   "metadata": {},
   "outputs": [
    {
     "data": {
      "text/plain": [
       "tensor([[6031, 6031],\n",
       "        [6031, 6033],\n",
       "        [6046, 6031],\n",
       "        [6046, 6031]], device='cuda:0')"
      ]
     },
     "execution_count": 99,
     "metadata": {},
     "output_type": "execute_result"
    }
   ],
   "source": [
    "gen"
   ]
  },
  {
   "cell_type": "code",
   "execution_count": 101,
   "metadata": {},
   "outputs": [
    {
     "data": {
      "text/plain": [
       "tensor([[6031, 6031],\n",
       "        [6031, 6033],\n",
       "        [6046, 6031],\n",
       "        [6046, 6031],\n",
       "        [6031, 6031],\n",
       "        [6031, 6033],\n",
       "        [6046, 6031],\n",
       "        [6046, 6031]], device='cuda:0')"
      ]
     },
     "execution_count": 101,
     "metadata": {},
     "output_type": "execute_result"
    }
   ],
   "source": [
    "torch.cat([gen, gen], dim=0)"
   ]
  },
  {
   "cell_type": "code",
   "execution_count": 86,
   "metadata": {},
   "outputs": [
    {
     "name": "stdout",
     "output_type": "stream",
     "text": [
      "tensor([6031, 6031, 6047, 6046, 6046, 6012, 6013, 6008, 6031, 6031, 6031,    0,\n",
      "           0], device='cuda:0') tensor(9, device='cuda:0') tensor(11, device='cuda:0')\n",
      "tensor([6031, 6031], device='cuda:0')\n"
     ]
    }
   ],
   "source": [
    "for xi, x_len_beforei, x_len_afteri in zip(x_after.transpose(1, 0), x_len_before, x_len_after):\n",
    "    print(xi, x_len_beforei, x_len_afteri)\n",
    "    print(xi[x_len_beforei:x_len_afteri])\n",
    "    break"
   ]
  }
 ],
 "metadata": {
  "kernelspec": {
   "display_name": "Python 3.9.17 ('generation')",
   "language": "python",
   "name": "python3"
  },
  "language_info": {
   "codemirror_mode": {
    "name": "ipython",
    "version": 3
   },
   "file_extension": ".py",
   "mimetype": "text/x-python",
   "name": "python",
   "nbconvert_exporter": "python",
   "pygments_lexer": "ipython3",
   "version": "3.9.17"
  },
  "orig_nbformat": 4,
  "vscode": {
   "interpreter": {
    "hash": "659ffd3ea00dbbc52f857660b8dafea05f804bc55dd91047cefb31e38b5505f6"
   }
  }
 },
 "nbformat": 4,
 "nbformat_minor": 2
}
