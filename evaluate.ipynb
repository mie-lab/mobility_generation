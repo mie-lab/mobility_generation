{
 "cells": [
  {
   "cell_type": "code",
   "execution_count": 1,
   "metadata": {
    "execution": {
     "iopub.execute_input": "2024-05-30T11:38:07.358103Z",
     "iopub.status.busy": "2024-05-30T11:38:07.358103Z",
     "iopub.status.idle": "2024-05-30T11:38:08.704724Z",
     "shell.execute_reply": "2024-05-30T11:38:08.704724Z",
     "shell.execute_reply.started": "2024-05-30T11:38:07.358103Z"
    }
   },
   "outputs": [],
   "source": [
    "import os\n",
    "import numpy as np\n",
    "import pandas as pd\n",
    "import geopandas as gpd\n",
    "import pickle as pickle\n",
    "import json\n",
    "\n",
    "from shapely import wkt\n",
    "\n",
    "from joblib import Parallel, delayed\n",
    "import multiprocessing\n",
    "\n",
    "import scipy.stats as stats\n",
    "from scipy.spatial import distance\n",
    "from sklearn.preprocessing import OrdinalEncoder\n",
    "from easydict import EasyDict as edict\n",
    "from tqdm import tqdm\n",
    "\n",
    "from nltk.translate.bleu_score import sentence_bleu, SmoothingFunction\n",
    "import nltk\n",
    "\n",
    "import powerlaw"
   ]
  },
  {
   "cell_type": "code",
   "execution_count": 2,
   "metadata": {
    "execution": {
     "iopub.execute_input": "2024-05-30T11:38:08.706719Z",
     "iopub.status.busy": "2024-05-30T11:38:08.705722Z",
     "iopub.status.idle": "2024-05-30T11:38:10.212063Z",
     "shell.execute_reply": "2024-05-30T11:38:10.212063Z",
     "shell.execute_reply.started": "2024-05-30T11:38:08.706719Z"
    }
   },
   "outputs": [],
   "source": [
    "# import sys\n",
    "# sys.path.insert(1, os.path.join(sys.path[0], '..'))\n",
    "from utils.utils import setup_seed, load_config"
   ]
  },
  {
   "cell_type": "code",
   "execution_count": 3,
   "metadata": {
    "execution": {
     "iopub.execute_input": "2024-05-30T11:38:10.213060Z",
     "iopub.status.busy": "2024-05-30T11:38:10.213060Z",
     "iopub.status.idle": "2024-05-30T11:38:10.616671Z",
     "shell.execute_reply": "2024-05-30T11:38:10.616671Z",
     "shell.execute_reply.started": "2024-05-30T11:38:10.213060Z"
    }
   },
   "outputs": [],
   "source": [
    "import matplotlib.pyplot as plt\n",
    "\n",
    "np.set_printoptions(precision=4)\n",
    "np.set_printoptions(suppress=True)\n",
    "\n",
    "colors = plt.rcParams[\"axes.prop_cycle\"].by_key()[\"color\"]"
   ]
  },
  {
   "cell_type": "code",
   "execution_count": 4,
   "metadata": {
    "execution": {
     "iopub.execute_input": "2024-05-30T11:38:10.618666Z",
     "iopub.status.busy": "2024-05-30T11:38:10.617669Z",
     "iopub.status.idle": "2024-05-30T11:38:10.632629Z",
     "shell.execute_reply": "2024-05-30T11:38:10.632629Z",
     "shell.execute_reply.started": "2024-05-30T11:38:10.618666Z"
    }
   },
   "outputs": [],
   "source": [
    "def _apply_parallel(ls, func, n=-1, **kwargs):\n",
    "    \"\"\"parallel apply for spending up.\"\"\"\n",
    "    length = len(ls)\n",
    "    cpunum = multiprocessing.cpu_count()\n",
    "    if length < cpunum:\n",
    "        spnum = length\n",
    "    if n < 0:\n",
    "        spnum = cpunum + n + 1\n",
    "    else:\n",
    "        spnum = n or 1\n",
    "\n",
    "    return Parallel(n_jobs=n, verbose=0)(delayed(func)(seq, **kwargs) for seq in ls)"
   ]
  },
  {
   "cell_type": "markdown",
   "metadata": {},
   "source": [
    "# Read \n",
    "\n",
    "## Read sequences"
   ]
  },
  {
   "cell_type": "code",
   "execution_count": 1219,
   "metadata": {
    "execution": {
     "iopub.execute_input": "2024-06-01T21:27:02.502144Z",
     "iopub.status.busy": "2024-06-01T21:27:02.501146Z",
     "iopub.status.idle": "2024-06-01T21:27:04.587611Z",
     "shell.execute_reply": "2024-06-01T21:27:04.587611Z",
     "shell.execute_reply.started": "2024-06-01T21:27:02.502144Z"
    }
   },
   "outputs": [],
   "source": [
    "# file_name = \".\\\\runs\\mobis_diffseq_evaluate_v2_b\\seed101_solverstep10.json\"\n",
    "file_dir = [ \n",
    "              # \".\\\\data\\\\validation\\\\mobis_diffseq_v2_2_normal_1.json\",\n",
    "              # \".\\\\data\\\\validation\\\\mobis_diffseq_v2_2_normal_2.json\",\n",
    "              # \".\\\\data\\\\validation\\\\mobis_diffseq_v2_2_pretrain.json\",\n",
    "    # \".\\\\data\\\\validation\\\\mobis_diffseq_baseline_2_residual.json\",\n",
    "    # \".\\\\data\\\\validation\\\\mobis_diffseq_baseline_2.json\",\n",
    "    # \".\\\\data\\\\validation\\\\mobis_diffseq_baseline_2_2.json\",\n",
    "    # \".\\\\data\\\\validation\\\\mobis_diffseq_xy_2_encode.json\",\n",
    "    # \".\\\\data\\\\validation\\\\mobis_diffseq_xy_2_encode_update_1.json\",\n",
    "    # \".\\\\data\\\\validation\\\\mobis_diffseq_xy_2_encode_up.json\",\n",
    "    # \".\\\\data\\\\validation\\\\mobis_diffseq_xy_2_encode_up_v2.json\",\n",
    "    # \".\\\\data\\\\validation\\\\mobis_diffseq_xy_2_encode_add_ori_v2_1.json\",\n",
    "    # \".\\\\data\\\\validation\\\\mobis_diffseq_xy_2_encode_add_10.json\",\n",
    "    # \".\\\\data\\\\validation\\\\mobis_diffseq_xy_2_encode_add_15.json\",\n",
    "    # \".\\\\data\\\\validation\\\\mobis_diffseq_xy_2_encode_add_20.json\",\n",
    "    # \".\\\\data\\\\validation\\\\mobis_diffseq_xy_2_encode_add_24.json\",\n",
    "    # \".\\\\data\\\\validation\\\\mobis_diffseq_xy_2_encode_add_30.json\",\n",
    "    # \".\\\\data\\\\validation\\\\mobis_diffseq_xy_2_encode_add_37.json\",\n",
    "    # \".\\\\data\\\\validation\\\\mobis_diffseq_xy_2_encode_add_42.json\",\n",
    "    # \".\\\\data\\\\validation\\\\mobis_diffseq_xy_2_encode_concat_11.json\",\n",
    "    # \".\\\\data\\\\validation\\\\mobis_diffseq_xy_2_encode_concat_15.json\",\n",
    "    # \".\\\\data\\\\validation\\\\mobis_diffseq_xy_2_encode_concat_32.json\",\n",
    "    # \".\\\\data\\\\validation\\\\mobis_diffseq_xy_2_encode_concat_up_8.json\",\n",
    "    # \".\\\\data\\\\validation\\\\mobis_diffseq_xy_2_encode_concat_up_13.json\",\n",
    "    # \".\\\\data\\\\validation\\\\mobis_diffseq_xy_2_encode_concat_up_15.json\",\n",
    "    # \".\\\\data\\\\validation\\\\mobis_diffseq_xy_2_encode_concat_up_24.json\",\n",
    "    # \".\\\\data\\\\validation\\\\mobis_diffseq_xy_2_encode_concat_up_29.json\",\n",
    "    # \".\\\\data\\\\validation\\\\mobis_diffseq_xy_2_encode_add.json\",\n",
    "    # \".\\\\data\\\\validation\\\\mobis_diffseq_xy_2_encode_add_ori_1.json\",\n",
    "    # \".\\\\data\\\\validation\\\\mobis_diffseq_xy_2_encode_add_v2.json\",\n",
    "    # \".\\\\data\\\\validation\\\\mobis_diffseq_xy_2_encode_add_up.json\",\n",
    "    # \".\\\\data\\\\validation\\\\mobis_diffseq_xy_2_encode_add_v2_1.json\",\n",
    "    # \".\\\\data\\\\validation\\\\mobis_diffseq_xy_2_encode_add_v2_2.json\",\n",
    "    # \".\\\\data\\\\validation\\\\mobis_diffseq_xy_2_encode_add_up_v2.json\",\n",
    "    # \".\\\\data\\\\validation\\\\mobis_diffseq_xy_2_encode_add_up_v3.json\",\n",
    "    # \".\\\\data\\\\validation\\\\mobis_diffseq_xy_2_encode_add_up_v4.json\",\n",
    "    # \".\\\\data\\\\validation\\\\mobis_diffseq_baseline_encode_seed101.json\",\n",
    "    # \".\\\\data\\\\validation\\\\mobis_diffseq_baseline_encode_seed101_clamp.json\",\n",
    "    # \".\\\\data\\\\validation\\\\mobis_diffseq_baseline_encode_seed103.json\",\n",
    "    # \".\\\\data\\\\validation\\\\mobis_diffseq_baseline_encode_seed103_clamp.json\",\n",
    "    # \".\\\\data\\\\validation\\\\mobis_diffseq_baseline_encode_seed110.json\",\n",
    "    # \".\\\\data\\\\validation\\\\mobis_diffseq_baseline_encode_seed110_clamp.json\",\n",
    "    # \".\\\\data\\\\validation\\\\mobis_diffseq_baseline_encode_loss_seed110_29.json\",\n",
    "    # \".\\\\data\\\\validation\\\\mobis_diffseq_baseline_encode_loss_seed110_34.json\",\n",
    "    # \".\\\\data\\\\validation\\\\mobis_diffseq_baseline_encode_loss_seed110_51.json\",\n",
    "    # \".\\\\data\\\\validation\\\\mobis_diffseq_baseline_encode_loss_seed110_51_clamp.json\",\n",
    "    # \".\\\\data\\\\validation\\\\mobis_diffseq_baseline_encode_loss_seed103_47.json\",\n",
    "    # \".\\\\data\\\\validation\\\\mobis_diffseq_baseline_encode_loss_seed103_47_clamp.json\",\n",
    "    # \".\\\\data\\\\validation\\\\mobis_diffseq_baseline_encode_loss_seed101_56.json\",\n",
    "    # \".\\\\data\\\\validation\\\\mobis_diffseq_baseline_encode_long_seed110_60.json\",\n",
    "    # \".\\\\data\\\\validation\\\\mobis_diffseq_baseline_encode_long_seed110_85.json\",\n",
    "    # \".\\\\data\\\\validation\\\\mobis_diffseq_baseline_encode_long_seed110_105.json\",\n",
    "    # \".\\\\data\\\\validation\\\\mobis_diffseq_poi_seed103_130.json\",\n",
    "    # \".\\\\data\\\\validation\\\\mobis_diffseq_base_loss_110_35.json\",\n",
    "    # \".\\\\data\\\\validation\\\\mobis_diffseq_base_loss_110_45.json\",\n",
    "    # \".\\\\data\\\\validation\\\\mobis_diffseq_xy_seed103_130.json\",\n",
    "    # \".\\\\data\\\\validation\\\\mobis_diffseq_baseline_encode_long_seed103_90.json\",\n",
    "    # \".\\\\data\\\\validation\\\\mobis_na_base_80_clamp.json\",\n",
    "    # \".\\\\data\\\\validation\\\\mobis_na_base_80_4_200.json\",\n",
    "    # \".\\\\data\\\\validation\\\\mobis_na_base_95_4_200.json\",\n",
    "    # \".\\\\data\\\\validation\\\\mobis_na_base_105_4_200.json\",\n",
    "    # \".\\\\data\\\\validation\\\\mobis_na_base_120_4_1000.json\",\n",
    "    # \".\\\\data\\\\validation\\\\mobis_na_base_120_4_200_no_small.json\",\n",
    "    # \".\\\\data\\\\validation\\\\mobis_na_ls_50_4_20.json\",\n",
    "    # \".\\\\data\\\\validation\\\\mobis_na_50_4_20.json\",\n",
    "    \n",
    "    # \".\\\\data\\\\validation\\\\mobis_na_ls_150_4_200.json\",\n",
    "    # \".\\\\data\\\\validation\\\\mobis_na_150_4_200_clamp.json\",\n",
    "    # \".\\\\data\\\\validation\\\\mobis_na_layer4_150_4_200.json\",\n",
    "    # \".\\\\data\\\\validation\\\\mobis_na_half_150_4_200_clamp.json\",\n",
    "    \".\\\\data\\\\validation\\\\mobis_na_diffseq_150_1_200.json\",\n",
    "    \".\\\\data\\\\validation\\\\mobis_na_diffseq_v2_150_1_200.json\",\n",
    "    # \".\\\\data\\\\validation\\\\mobis_na_diffseq_4_150_4_200.json\",\n",
    "    \n",
    "    \n",
    "    # \".\\\\data\\\\validation\\\\mobis_diffseq_baseline_encode_seed110_42.json\",\n",
    "    # \".\\\\data\\\\validation\\\\mobis_diffseq_xy_seed103_31.json\",\n",
    "    # \".\\\\data\\\\validation\\\\mobis_diffseq_xy_seed103_52.json\",\n",
    "    # \".\\\\data\\\\validation\\\\mobis_diffseq_xy_seed103_52_clamp.json\",\n",
    "    # \".\\\\data\\\\validation\\\\mobis_diffseq_xy_seed105_29.json\",\n",
    "    # \".\\\\data\\\\validation\\\\mobis_diffseq_xy_seed105_54.json\",\n",
    "    # \".\\\\data\\\\validation\\\\mobis_diffseq_xy_seed105_54_clamp.json\",\n",
    "    # \".\\\\data\\\\validation\\\\mobis_diffseq_xy_seed110_30.json\",\n",
    "    # \".\\\\data\\\\validation\\\\mobis_diffseq_xy_seed110_62.json\",\n",
    "    # \".\\\\data\\\\validation\\\\mobis_diffseq_xy_seed110_62_clamp.json\",\n",
    "    # \".\\\\data\\\\validation\\\\mobis_diffseq_xy_loss_layer6_27.json\",\n",
    "    # \".\\\\data\\\\validation\\\\mobis_diffseq_xypoi_loss_seed110_42.json\",\n",
    "    # \".\\\\data\\\\validation\\\\mobis_diffseq_xypoi_loss_seed110_42_clamp.json\",\n",
    "    # \".\\\\data\\\\validation\\\\mobis_diffseq_xy_loss_seed110_30.json\",\n",
    "    # \".\\\\data\\\\validation\\\\mobis_diffseq_baseline_encode_49.json\",\n",
    "    # \".\\\\data\\\\validation\\\\mobis_diffseq_baseline_encode_53.json\",\n",
    "]\n",
    "\n",
    "predict_ls = []\n",
    "true_ls = []\n",
    "src_ls = []\n",
    "\n",
    "for i, file in enumerate(file_dir):\n",
    "    predict_curr = []\n",
    "    with open(file, \"r\") as f_reader:\n",
    "        for row in f_reader:\n",
    "            content = json.loads(row)\n",
    "\n",
    "            if i == 0:\n",
    "                src_ls.append((np.array(content[\"source\"])[:-1]))\n",
    "    \n",
    "                reference_arr = np.array(content[\"reference\"])\n",
    "                try:\n",
    "                    reference_arr = reference_arr[:np.where(reference_arr == 0)[0][0]]\n",
    "                except IndexError:\n",
    "                    reference_arr = reference_arr\n",
    "                true_ls.append(reference_arr)\n",
    "\n",
    "            if len(content[\"recover\"]) >= 50:\n",
    "                predict_curr.append(np.array(content[\"recover\"][:50]).squeeze())\n",
    "            else:\n",
    "                print(len(content[\"recover\"]))\n",
    "    predict_ls.append(predict_curr)\n"
   ]
  },
  {
   "cell_type": "code",
   "execution_count": 1220,
   "metadata": {
    "execution": {
     "iopub.execute_input": "2024-06-01T21:27:04.589644Z",
     "iopub.status.busy": "2024-06-01T21:27:04.588650Z",
     "iopub.status.idle": "2024-06-01T21:27:04.603570Z",
     "shell.execute_reply": "2024-06-01T21:27:04.603570Z",
     "shell.execute_reply.started": "2024-06-01T21:27:04.589644Z"
    }
   },
   "outputs": [
    {
     "data": {
      "text/plain": [
       "(2, 29971, 29971, 29971)"
      ]
     },
     "execution_count": 1220,
     "metadata": {},
     "output_type": "execute_result"
    }
   ],
   "source": [
    "len(predict_ls), len(predict_ls[0]), len(true_ls), len(src_ls)"
   ]
  },
  {
   "cell_type": "code",
   "execution_count": 1221,
   "metadata": {
    "execution": {
     "iopub.execute_input": "2024-06-01T21:27:04.604568Z",
     "iopub.status.busy": "2024-06-01T21:27:04.604568Z",
     "iopub.status.idle": "2024-06-01T21:27:04.619527Z",
     "shell.execute_reply": "2024-06-01T21:27:04.619527Z",
     "shell.execute_reply.started": "2024-06-01T21:27:04.604568Z"
    }
   },
   "outputs": [
    {
     "data": {
      "text/plain": [
       "['na_diffseq_150_1_200', 'na_diffseq_v2_150_1_200']"
      ]
     },
     "execution_count": 1221,
     "metadata": {},
     "output_type": "execute_result"
    }
   ],
   "source": [
    "diff_file_name = [name.split(\"\\\\\")[-1].split(\".\")[0][6:] for name in file_dir]\n",
    "# diff_file_name = [\"Diffusion (Ours)\"]\n",
    "diff_file_name"
   ]
  },
  {
   "cell_type": "markdown",
   "metadata": {},
   "source": [
    "## Read all locations"
   ]
  },
  {
   "cell_type": "code",
   "execution_count": 8,
   "metadata": {
    "execution": {
     "iopub.execute_input": "2024-05-30T11:40:21.403823Z",
     "iopub.status.busy": "2024-05-30T11:40:21.402825Z",
     "iopub.status.idle": "2024-05-30T11:40:21.417071Z",
     "shell.execute_reply": "2024-05-30T11:40:21.417071Z",
     "shell.execute_reply.started": "2024-05-30T11:40:21.403823Z"
    }
   },
   "outputs": [],
   "source": [
    "# initialization\n",
    "config = load_config(\"./config/diff.yml\")\n",
    "config = edict(config)"
   ]
  },
  {
   "cell_type": "code",
   "execution_count": 9,
   "metadata": {
    "execution": {
     "iopub.execute_input": "2024-05-30T11:40:21.418068Z",
     "iopub.status.busy": "2024-05-30T11:40:21.418068Z",
     "iopub.status.idle": "2024-05-30T11:40:21.747050Z",
     "shell.execute_reply": "2024-05-30T11:40:21.746050Z",
     "shell.execute_reply.started": "2024-05-30T11:40:21.418068Z"
    }
   },
   "outputs": [],
   "source": [
    "all_locs = pd.read_csv(os.path.join(\"data\", \"s2_loc_visited_level10_13.csv\"), index_col=\"id\")\n",
    "all_locs[\"geometry\"] = all_locs[\"geometry\"].apply(wkt.loads)\n",
    "all_locs = gpd.GeoDataFrame(all_locs, geometry=\"geometry\", crs=\"EPSG:4326\")\n",
    "# transform to projected coordinate systems\n",
    "all_locs = all_locs.to_crs(\"EPSG:2056\")"
   ]
  },
  {
   "cell_type": "code",
   "execution_count": 10,
   "metadata": {
    "execution": {
     "iopub.execute_input": "2024-05-30T11:40:21.748202Z",
     "iopub.status.busy": "2024-05-30T11:40:21.747050Z",
     "iopub.status.idle": "2024-05-30T11:40:21.776228Z",
     "shell.execute_reply": "2024-05-30T11:40:21.776228Z",
     "shell.execute_reply.started": "2024-05-30T11:40:21.748202Z"
    }
   },
   "outputs": [],
   "source": [
    "enc = OrdinalEncoder(dtype=np.int64, handle_unknown=\"use_encoded_value\", unknown_value=-1).fit(\n",
    "    all_locs[\"loc_id\"].values.reshape(-1, 1)\n",
    ")\n",
    "all_locs[\"loc_id\"] = enc.transform(all_locs[\"loc_id\"].values.reshape(-1, 1)) + 2"
   ]
  },
  {
   "cell_type": "code",
   "execution_count": 11,
   "metadata": {
    "execution": {
     "iopub.execute_input": "2024-05-30T11:40:21.777227Z",
     "iopub.status.busy": "2024-05-30T11:40:21.777227Z",
     "iopub.status.idle": "2024-05-30T11:40:21.807084Z",
     "shell.execute_reply": "2024-05-30T11:40:21.807084Z",
     "shell.execute_reply.started": "2024-05-30T11:40:21.777227Z"
    }
   },
   "outputs": [
    {
     "data": {
      "text/html": [
       "<div>\n",
       "<style scoped>\n",
       "    .dataframe tbody tr th:only-of-type {\n",
       "        vertical-align: middle;\n",
       "    }\n",
       "\n",
       "    .dataframe tbody tr th {\n",
       "        vertical-align: top;\n",
       "    }\n",
       "\n",
       "    .dataframe thead th {\n",
       "        text-align: right;\n",
       "    }\n",
       "</style>\n",
       "<table border=\"1\" class=\"dataframe\">\n",
       "  <thead>\n",
       "    <tr style=\"text-align: right;\">\n",
       "      <th></th>\n",
       "      <th>loc_id</th>\n",
       "      <th>level</th>\n",
       "      <th>geometry</th>\n",
       "      <th>freq</th>\n",
       "      <th>area</th>\n",
       "    </tr>\n",
       "    <tr>\n",
       "      <th>id</th>\n",
       "      <th></th>\n",
       "      <th></th>\n",
       "      <th></th>\n",
       "      <th></th>\n",
       "      <th></th>\n",
       "    </tr>\n",
       "  </thead>\n",
       "  <tbody>\n",
       "    <tr>\n",
       "      <th>0</th>\n",
       "      <td>2</td>\n",
       "      <td>10</td>\n",
       "      <td>POINT (2824875.045 1159436.528)</td>\n",
       "      <td>1</td>\n",
       "      <td>POLYGON ((10.405097146225662 46.50637570678295...</td>\n",
       "    </tr>\n",
       "    <tr>\n",
       "      <th>1</th>\n",
       "      <td>3</td>\n",
       "      <td>13</td>\n",
       "      <td>POINT (2822437.857 1167754.527)</td>\n",
       "      <td>38</td>\n",
       "      <td>POLYGON ((10.347820052132302 46.61871685680636...</td>\n",
       "    </tr>\n",
       "    <tr>\n",
       "      <th>2</th>\n",
       "      <td>4</td>\n",
       "      <td>13</td>\n",
       "      <td>POINT (2815796.126 1167304.569)</td>\n",
       "      <td>1</td>\n",
       "      <td>POLYGON ((10.260953592346382 46.61685460820135...</td>\n",
       "    </tr>\n",
       "    <tr>\n",
       "      <th>3</th>\n",
       "      <td>5</td>\n",
       "      <td>13</td>\n",
       "      <td>POINT (2816020.303 1168362.492)</td>\n",
       "      <td>1</td>\n",
       "      <td>POLYGON ((10.264376293749178 46.62629143145975...</td>\n",
       "    </tr>\n",
       "    <tr>\n",
       "      <th>4</th>\n",
       "      <td>6</td>\n",
       "      <td>13</td>\n",
       "      <td>POINT (2818994.419 1169160.037)</td>\n",
       "      <td>1</td>\n",
       "      <td>POLYGON ((10.303565033130825 46.63249007077394...</td>\n",
       "    </tr>\n",
       "    <tr>\n",
       "      <th>...</th>\n",
       "      <td>...</td>\n",
       "      <td>...</td>\n",
       "      <td>...</td>\n",
       "      <td>...</td>\n",
       "      <td>...</td>\n",
       "    </tr>\n",
       "    <tr>\n",
       "      <th>14876</th>\n",
       "      <td>14878</td>\n",
       "      <td>13</td>\n",
       "      <td>POINT (2767507.842 1213073.682)</td>\n",
       "      <td>1</td>\n",
       "      <td>POLYGON ((9.64763962539829 47.042237657717536,...</td>\n",
       "    </tr>\n",
       "    <tr>\n",
       "      <th>14877</th>\n",
       "      <td>14879</td>\n",
       "      <td>13</td>\n",
       "      <td>POINT (2768419.907 1212986.551)</td>\n",
       "      <td>1</td>\n",
       "      <td>POLYGON ((9.65960383635977 47.04122268391671, ...</td>\n",
       "    </tr>\n",
       "    <tr>\n",
       "      <th>14878</th>\n",
       "      <td>14880</td>\n",
       "      <td>13</td>\n",
       "      <td>POINT (2769332.126 1212899.406)</td>\n",
       "      <td>1</td>\n",
       "      <td>POLYGON ((9.671569607102107 47.04020629289218,...</td>\n",
       "    </tr>\n",
       "    <tr>\n",
       "      <th>14879</th>\n",
       "      <td>14881</td>\n",
       "      <td>13</td>\n",
       "      <td>POINT (2770244.499 1212812.246)</td>\n",
       "      <td>1</td>\n",
       "      <td>POLYGON ((9.68353693615797 47.039188484166594,...</td>\n",
       "    </tr>\n",
       "    <tr>\n",
       "      <th>14880</th>\n",
       "      <td>14882</td>\n",
       "      <td>13</td>\n",
       "      <td>POINT (2823422.772 1207732.455)</td>\n",
       "      <td>8</td>\n",
       "      <td>POLYGON ((10.380257658858904 46.97771378506055...</td>\n",
       "    </tr>\n",
       "  </tbody>\n",
       "</table>\n",
       "<p>14881 rows × 5 columns</p>\n",
       "</div>"
      ],
      "text/plain": [
       "       loc_id  level                         geometry  freq  \\\n",
       "id                                                            \n",
       "0           2     10  POINT (2824875.045 1159436.528)     1   \n",
       "1           3     13  POINT (2822437.857 1167754.527)    38   \n",
       "2           4     13  POINT (2815796.126 1167304.569)     1   \n",
       "3           5     13  POINT (2816020.303 1168362.492)     1   \n",
       "4           6     13  POINT (2818994.419 1169160.037)     1   \n",
       "...       ...    ...                              ...   ...   \n",
       "14876   14878     13  POINT (2767507.842 1213073.682)     1   \n",
       "14877   14879     13  POINT (2768419.907 1212986.551)     1   \n",
       "14878   14880     13  POINT (2769332.126 1212899.406)     1   \n",
       "14879   14881     13  POINT (2770244.499 1212812.246)     1   \n",
       "14880   14882     13  POINT (2823422.772 1207732.455)     8   \n",
       "\n",
       "                                                    area  \n",
       "id                                                        \n",
       "0      POLYGON ((10.405097146225662 46.50637570678295...  \n",
       "1      POLYGON ((10.347820052132302 46.61871685680636...  \n",
       "2      POLYGON ((10.260953592346382 46.61685460820135...  \n",
       "3      POLYGON ((10.264376293749178 46.62629143145975...  \n",
       "4      POLYGON ((10.303565033130825 46.63249007077394...  \n",
       "...                                                  ...  \n",
       "14876  POLYGON ((9.64763962539829 47.042237657717536,...  \n",
       "14877  POLYGON ((9.65960383635977 47.04122268391671, ...  \n",
       "14878  POLYGON ((9.671569607102107 47.04020629289218,...  \n",
       "14879  POLYGON ((9.68353693615797 47.039188484166594,...  \n",
       "14880  POLYGON ((10.380257658858904 46.97771378506055...  \n",
       "\n",
       "[14881 rows x 5 columns]"
      ]
     },
     "execution_count": 11,
     "metadata": {},
     "output_type": "execute_result"
    }
   ],
   "source": [
    "all_locs"
   ]
  },
  {
   "cell_type": "markdown",
   "metadata": {},
   "source": [
    "## Read Markov generation"
   ]
  },
  {
   "cell_type": "code",
   "execution_count": 12,
   "metadata": {
    "execution": {
     "iopub.execute_input": "2024-05-30T11:40:21.809079Z",
     "iopub.status.busy": "2024-05-30T11:40:21.809079Z",
     "iopub.status.idle": "2024-05-30T11:40:22.192729Z",
     "shell.execute_reply": "2024-05-30T11:40:22.192729Z",
     "shell.execute_reply.started": "2024-05-30T11:40:21.809079Z"
    }
   },
   "outputs": [],
   "source": [
    "file_name = \".\\\\data\\\\validation\\\\mobis_markov_generation_small.json\"\n",
    "\n",
    "markov_ls = []\n",
    "with open(file_name, \"r\") as f_reader:\n",
    "    for row in f_reader:\n",
    "        content = json.loads(row)\n",
    "\n",
    "\n",
    "        markov_ls.append(np.array(content[\"recover\"]).squeeze())\n"
   ]
  },
  {
   "cell_type": "markdown",
   "metadata": {},
   "source": [
    "## Read MHSA generation"
   ]
  },
  {
   "cell_type": "code",
   "execution_count": 13,
   "metadata": {
    "execution": {
     "iopub.execute_input": "2024-05-30T11:40:22.193726Z",
     "iopub.status.busy": "2024-05-30T11:40:22.193726Z",
     "iopub.status.idle": "2024-05-30T11:40:22.562820Z",
     "shell.execute_reply": "2024-05-30T11:40:22.561822Z",
     "shell.execute_reply.started": "2024-05-30T11:40:22.193726Z"
    }
   },
   "outputs": [],
   "source": [
    "file_name = \".\\\\data\\\\validation\\\\mobis_mhsa_k0_p099_small.json\"\n",
    "\n",
    "ar_ls = []\n",
    "with open(file_name, \"r\") as f_reader:\n",
    "    for row in f_reader:\n",
    "        content = json.loads(row)\n",
    "\n",
    "\n",
    "        ar_ls.append(np.array(content[\"recover\"]).squeeze())\n"
   ]
  },
  {
   "cell_type": "markdown",
   "metadata": {},
   "source": [
    "## Read GAN generation"
   ]
  },
  {
   "cell_type": "code",
   "execution_count": 14,
   "metadata": {
    "execution": {
     "iopub.execute_input": "2024-05-30T11:40:23.177919Z",
     "iopub.status.busy": "2024-05-30T11:40:23.176923Z",
     "iopub.status.idle": "2024-05-30T11:40:23.256652Z",
     "shell.execute_reply": "2024-05-30T11:40:23.256652Z",
     "shell.execute_reply.started": "2024-05-30T11:40:23.177919Z"
    }
   },
   "outputs": [],
   "source": [
    "file_name = \".\\\\runs\\\\temp\\\\generated_samples_95.pk\"\n",
    "gan_locs = pickle.load(open(file_name, \"rb\"))[\"locs\"]\n",
    "\n",
    "gan_ls = [locs[:-1] for locs in gan_locs]"
   ]
  },
  {
   "cell_type": "markdown",
   "metadata": {},
   "source": [
    "## Read EPR generation"
   ]
  },
  {
   "cell_type": "code",
   "execution_count": 15,
   "metadata": {
    "execution": {
     "iopub.execute_input": "2024-05-30T11:40:23.787333Z",
     "iopub.status.busy": "2024-05-30T11:40:23.787333Z",
     "iopub.status.idle": "2024-05-30T11:40:24.168022Z",
     "shell.execute_reply": "2024-05-30T11:40:24.168022Z",
     "shell.execute_reply.started": "2024-05-30T11:40:23.787333Z"
    }
   },
   "outputs": [],
   "source": [
    "file_name = \".\\\\data\\\\validation\\\\mobis_epr_generation_1713347336.json\"\n",
    "\n",
    "epr_ls = []\n",
    "with open(file_name, \"r\") as f_reader:\n",
    "    for row in f_reader:\n",
    "        content = json.loads(row)\n",
    "        epr_ls.append(np.array(content[\"recover\"]).squeeze())\n",
    "\n",
    "        # if len(np.array(content[\"recover\"]).squeeze()) != 50:\n",
    "        #     print(\"error\")"
   ]
  },
  {
   "cell_type": "markdown",
   "metadata": {},
   "source": [
    "# Jump length"
   ]
  },
  {
   "cell_type": "code",
   "execution_count": 1133,
   "metadata": {
    "execution": {
     "iopub.execute_input": "2024-06-01T20:43:08.297289Z",
     "iopub.status.busy": "2024-06-01T20:43:08.297289Z",
     "iopub.status.idle": "2024-06-01T20:43:08.321733Z",
     "shell.execute_reply": "2024-06-01T20:43:08.321733Z",
     "shell.execute_reply.started": "2024-06-01T20:43:08.297289Z"
    }
   },
   "outputs": [],
   "source": [
    "def get_jumplength(seq, geo_x, geo_y):\n",
    "    locs = seq - 2 # padding and seperator\n",
    "\n",
    "    return np.array([np.sqrt((geo_x[locs][i] - geo_x[locs][i - 1])**2 + (geo_y[locs][i] - geo_y[locs][i - 1])**2) for i in range(1, len(locs))])\n",
    "\n",
    "geo_x = all_locs[\"geometry\"].x.values\n",
    "geo_y = all_locs[\"geometry\"].y.values"
   ]
  },
  {
   "cell_type": "code",
   "execution_count": 1222,
   "metadata": {
    "execution": {
     "iopub.execute_input": "2024-06-01T21:27:07.535870Z",
     "iopub.status.busy": "2024-06-01T21:27:07.534873Z",
     "iopub.status.idle": "2024-06-01T21:27:11.019967Z",
     "shell.execute_reply": "2024-06-01T21:27:11.019967Z",
     "shell.execute_reply.started": "2024-06-01T21:27:07.535870Z"
    }
   },
   "outputs": [],
   "source": [
    "predict_jp = [np.hstack(_apply_parallel(predict, get_jumplength, n=-1, geo_x=geo_x, geo_y=geo_y)) for predict in predict_ls]\n",
    "\n",
    "predict_jp = [predict[predict>1] for predict in predict_jp]"
   ]
  },
  {
   "cell_type": "code",
   "execution_count": 1223,
   "metadata": {
    "execution": {
     "iopub.execute_input": "2024-06-01T21:27:11.021960Z",
     "iopub.status.busy": "2024-06-01T21:27:11.020961Z",
     "iopub.status.idle": "2024-06-01T21:27:15.111939Z",
     "shell.execute_reply": "2024-06-01T21:27:15.111038Z",
     "shell.execute_reply.started": "2024-06-01T21:27:11.021960Z"
    }
   },
   "outputs": [],
   "source": [
    "true_jp = np.hstack(_apply_parallel(true_ls, get_jumplength, n=-1, geo_x=geo_x, geo_y=geo_y))\n",
    "source_jp = np.hstack(_apply_parallel(src_ls, get_jumplength, n=-1, geo_x=geo_x, geo_y=geo_y))\n",
    "\n",
    "true_jp = true_jp[true_jp>1]\n",
    "source_jp = source_jp[source_jp>1]"
   ]
  },
  {
   "cell_type": "code",
   "execution_count": 690,
   "metadata": {
    "execution": {
     "iopub.execute_input": "2024-05-30T20:38:36.900096Z",
     "iopub.status.busy": "2024-05-30T20:38:36.899098Z",
     "iopub.status.idle": "2024-05-30T20:38:40.806921Z",
     "shell.execute_reply": "2024-05-30T20:38:40.806921Z",
     "shell.execute_reply.started": "2024-05-30T20:38:36.900096Z"
    }
   },
   "outputs": [],
   "source": [
    "markov_jp = np.hstack(_apply_parallel(markov_ls, get_jumplength, n=-1, geo_x=geo_x, geo_y=geo_y))\n",
    "ar_jp = np.hstack(_apply_parallel(ar_ls, get_jumplength, n=-1, geo_x=geo_x, geo_y=geo_y))\n",
    "gan_jp = np.hstack(_apply_parallel(gan_ls, get_jumplength, n=-1, geo_x=geo_x, geo_y=geo_y))\n",
    "\n",
    "ar_jp = ar_jp[ar_jp>1]\n",
    "markov_jp = markov_jp[markov_jp>1]\n",
    "gan_jp = gan_jp[gan_jp>1]"
   ]
  },
  {
   "cell_type": "code",
   "execution_count": 691,
   "metadata": {
    "execution": {
     "iopub.execute_input": "2024-05-30T20:38:40.808874Z",
     "iopub.status.busy": "2024-05-30T20:38:40.808874Z",
     "iopub.status.idle": "2024-05-30T20:38:42.475200Z",
     "shell.execute_reply": "2024-05-30T20:38:42.475200Z",
     "shell.execute_reply.started": "2024-05-30T20:38:40.808874Z"
    }
   },
   "outputs": [],
   "source": [
    "epr_jp = np.hstack(_apply_parallel(epr_ls, get_jumplength, n=-1, geo_x=geo_x, geo_y=geo_y))\n",
    "\n",
    "epr_jp = epr_jp[epr_jp>1]"
   ]
  },
  {
   "cell_type": "code",
   "execution_count": 1224,
   "metadata": {
    "execution": {
     "iopub.execute_input": "2024-06-01T21:27:15.112877Z",
     "iopub.status.busy": "2024-06-01T21:27:15.112877Z",
     "iopub.status.idle": "2024-06-01T21:27:15.846135Z",
     "shell.execute_reply": "2024-06-01T21:27:15.846135Z",
     "shell.execute_reply.started": "2024-06-01T21:27:15.112877Z"
    }
   },
   "outputs": [
    {
     "data": {
      "image/png": "[encoded data removed]",
      "text/plain": [
       "<Figure size 800x300 with 1 Axes>"
      ]
     },
     "metadata": {},
     "output_type": "display_data"
    }
   ],
   "source": [
    "plt.figure(figsize=(8, 3))\n",
    "\n",
    "# plotting\n",
    "powerlaw.plot_pdf(true_jp, label=\"Data\")\n",
    "# powerlaw.plot_pdf(source_jp, label=\"source\")\n",
    "for predict, label in zip(predict_jp, diff_file_name):\n",
    "    powerlaw.plot_pdf(predict, label=label)\n",
    "\n",
    "# powerlaw.plot_pdf(ar_jp, label=\"MHSA decode (Ours)\")\n",
    "\n",
    "# powerlaw.plot_pdf(markov_jp, label=\"Markov\", alpha=0.5)\n",
    "# powerlaw.plot_pdf(gan_jp, label=\"MovSim\", alpha=0.5)\n",
    "# powerlaw.plot_pdf(epr_jp, label=\"EPR\", alpha=0.5)\n",
    "\n",
    "# fit power law\n",
    "# fit = powerlaw.Fit(true_jp, xmin=1)\n",
    "# fit.power_law.plot_pdf(linestyle=\"--\", label=\"powerlaw fit\")\n",
    "# fit.truncated_power_law.plot_pdf(linestyle=\"--\", label=\"truncated power law\")\n",
    "# fit.lognormal.plot_pdf(linestyle=\"--\", label=\"lognormal fit\")\n",
    "\n",
    "plt.legend(prop={\"size\": 12})\n",
    "plt.xlabel(\"displacement (m)\", fontsize=16)\n",
    "plt.ylabel(\"probability\", fontsize=16)\n",
    "\n",
    "# plt.savefig(r'.\\metrics\\figures\\jump.png', bbox_inches='tight', dpi=600)\n",
    "\n",
    "plt.show()"
   ]
  },
  {
   "cell_type": "code",
   "execution_count": 357,
   "metadata": {
    "execution": {
     "iopub.execute_input": "2024-05-29T13:01:09.463109Z",
     "iopub.status.busy": "2024-05-29T13:01:09.462111Z",
     "iopub.status.idle": "2024-05-29T13:01:09.474591Z",
     "shell.execute_reply": "2024-05-29T13:01:09.474591Z",
     "shell.execute_reply.started": "2024-05-29T13:01:09.463109Z"
    }
   },
   "outputs": [],
   "source": [
    "predict = np.log(predict_jp[0])\n",
    "true = np.log(true_jp)\n",
    "source = np.log(source_jp)\n",
    "\n",
    "min = predict.min()\n",
    "max = predict.max()"
   ]
  },
  {
   "cell_type": "code",
   "execution_count": 358,
   "metadata": {
    "execution": {
     "iopub.execute_input": "2024-05-29T13:01:11.796904Z",
     "iopub.status.busy": "2024-05-29T13:01:11.795906Z",
     "iopub.status.idle": "2024-05-29T13:01:11.826824Z",
     "shell.execute_reply": "2024-05-29T13:01:11.826824Z",
     "shell.execute_reply.started": "2024-05-29T13:01:11.796904Z"
    }
   },
   "outputs": [
    {
     "name": "stdout",
     "output_type": "stream",
     "text": [
      "Prediction and True: 0.433\t Source and True: 0.130\n"
     ]
    }
   ],
   "source": [
    "pred_dist_p, _ = np.histogram(predict, bins=1000, range=(min, max))\n",
    "true_dist_p, _ =  np.histogram(true, bins=1000, range=(min, max))\n",
    "source_dist_p, _ =  np.histogram(source, bins=1000, range=(min, max))\n",
    "\n",
    "pred_true_js = distance.jensenshannon(pred_dist_p, true_dist_p)\n",
    "source_true_js = distance.jensenshannon(source_dist_p, true_dist_p)\n",
    "\n",
    "print(f\"Prediction and True: {pred_true_js:.3f}\\t Source and True: {source_true_js:.3f}\")"
   ]
  },
  {
   "cell_type": "code",
   "execution_count": 359,
   "metadata": {
    "execution": {
     "iopub.execute_input": "2024-05-29T13:01:12.609008Z",
     "iopub.status.busy": "2024-05-29T13:01:12.609008Z",
     "iopub.status.idle": "2024-05-29T13:01:12.632943Z",
     "shell.execute_reply": "2024-05-29T13:01:12.632943Z",
     "shell.execute_reply.started": "2024-05-29T13:01:12.609008Z"
    }
   },
   "outputs": [],
   "source": [
    "markov = np.log(markov_jp)\n",
    "ar = np.log(ar_jp)\n",
    "gan = np.log(gan_jp)\n",
    "epr =  np.log(epr_jp)"
   ]
  },
  {
   "cell_type": "code",
   "execution_count": 360,
   "metadata": {
    "execution": {
     "iopub.execute_input": "2024-05-29T13:01:13.004826Z",
     "iopub.status.busy": "2024-05-29T13:01:13.004826Z",
     "iopub.status.idle": "2024-05-29T13:01:13.048710Z",
     "shell.execute_reply": "2024-05-29T13:01:13.048710Z",
     "shell.execute_reply.started": "2024-05-29T13:01:13.004826Z"
    }
   },
   "outputs": [
    {
     "name": "stdout",
     "output_type": "stream",
     "text": [
      "Markov and True: 0.570\t AR and True: 0.481\t GAN and True: 0.488\n",
      "EPR and True: 0.533\n"
     ]
    }
   ],
   "source": [
    "markov_dist_p, _ =  np.histogram(markov, bins=1000, range=(min, max))\n",
    "markov_true_js = distance.jensenshannon(markov_dist_p, true_dist_p)\n",
    "\n",
    "ar_dist_p, _ =  np.histogram(ar, bins=1000, range=(min, max))\n",
    "ar_true_js = distance.jensenshannon(ar_dist_p, true_dist_p)\n",
    "\n",
    "gan_dist_p, _ =  np.histogram(gan, bins=1000, range=(min, max))\n",
    "gan_true_js = distance.jensenshannon(gan_dist_p, true_dist_p)\n",
    "\n",
    "print(f\"Markov and True: {markov_true_js:.3f}\\t AR and True: {ar_true_js:.3f}\\t GAN and True: {gan_true_js:.3f}\")\n",
    "\n",
    "epr_dist_p, _ =  np.histogram(epr, bins=1000, range=(min, max))\n",
    "epr_true_js = distance.jensenshannon(epr_dist_p, true_dist_p)\n",
    "\n",
    "print(f\"EPR and True: {epr_true_js:.3f}\")"
   ]
  },
  {
   "cell_type": "markdown",
   "metadata": {},
   "source": [
    "# Visit frequency - dataset location"
   ]
  },
  {
   "cell_type": "code",
   "execution_count": 1069,
   "metadata": {
    "execution": {
     "iopub.execute_input": "2024-06-01T20:29:10.652764Z",
     "iopub.status.busy": "2024-06-01T20:29:10.651767Z",
     "iopub.status.idle": "2024-06-01T20:29:10.659746Z",
     "shell.execute_reply": "2024-06-01T20:29:10.659746Z",
     "shell.execute_reply.started": "2024-06-01T20:29:10.651767Z"
    }
   },
   "outputs": [],
   "source": [
    "def get_loc_p(ls):\n",
    "    visits = np.zeros(shape=(len(all_locs)), dtype=float)\n",
    "    for seq in ls:\n",
    "        locs = seq - 2 # padding and seperator\n",
    "\n",
    "        visits[locs] += 1\n",
    "    visits.sort()\n",
    "    visits = visits[::-1]\n",
    "    return visits"
   ]
  },
  {
   "cell_type": "code",
   "execution_count": 1225,
   "metadata": {
    "execution": {
     "iopub.execute_input": "2024-06-01T21:27:22.835560Z",
     "iopub.status.busy": "2024-06-01T21:27:22.835560Z",
     "iopub.status.idle": "2024-06-01T21:27:23.157365Z",
     "shell.execute_reply": "2024-06-01T21:27:23.157365Z",
     "shell.execute_reply.started": "2024-06-01T21:27:22.835560Z"
    }
   },
   "outputs": [
    {
     "data": {
      "text/plain": [
       "[array([4344., 2360., 1991., ...,    0.,    0.,    0.]),\n",
       " array([5176., 3239., 1955., ...,    0.,    0.,    0.])]"
      ]
     },
     "execution_count": 1225,
     "metadata": {},
     "output_type": "execute_result"
    }
   ],
   "source": [
    "predict_p = [get_loc_p(predict) for predict in predict_ls]\n",
    "\n",
    "predict_p"
   ]
  },
  {
   "cell_type": "code",
   "execution_count": 1226,
   "metadata": {
    "execution": {
     "iopub.execute_input": "2024-06-01T21:27:23.232301Z",
     "iopub.status.busy": "2024-06-01T21:27:23.231302Z",
     "iopub.status.idle": "2024-06-01T21:27:23.249255Z",
     "shell.execute_reply": "2024-06-01T21:27:23.249255Z",
     "shell.execute_reply.started": "2024-06-01T21:27:23.232301Z"
    }
   },
   "outputs": [],
   "source": [
    "predict = [ p[p>0] / p.sum() for p in predict_p ]"
   ]
  },
  {
   "cell_type": "code",
   "execution_count": 1098,
   "metadata": {
    "execution": {
     "iopub.execute_input": "2024-06-01T20:35:36.198166Z",
     "iopub.status.busy": "2024-06-01T20:35:36.197168Z",
     "iopub.status.idle": "2024-06-01T20:35:37.016453Z",
     "shell.execute_reply": "2024-06-01T20:35:37.016453Z",
     "shell.execute_reply.started": "2024-06-01T20:35:36.197168Z"
    }
   },
   "outputs": [],
   "source": [
    "true_p = get_loc_p(true_ls)\n",
    "source_p = get_loc_p(src_ls)\n",
    "\n",
    "markov_p = get_loc_p(markov_ls)\n",
    "ar_p = get_loc_p(ar_ls)\n",
    "gan_p = get_loc_p(gan_ls)\n",
    "epr_p = get_loc_p(epr_ls)"
   ]
  },
  {
   "cell_type": "code",
   "execution_count": 1099,
   "metadata": {
    "execution": {
     "iopub.execute_input": "2024-06-01T20:35:37.017451Z",
     "iopub.status.busy": "2024-06-01T20:35:37.017451Z",
     "iopub.status.idle": "2024-06-01T20:35:37.033411Z",
     "shell.execute_reply": "2024-06-01T20:35:37.032413Z",
     "shell.execute_reply.started": "2024-06-01T20:35:37.017451Z"
    }
   },
   "outputs": [
    {
     "data": {
      "text/plain": [
       "(array([6521., 4924., 2784., ...,    0.,    0.,    0.]),\n",
       " array([7514., 4618., 3394., ...,    0.,    0.,    0.]),\n",
       " array([1685., 1508., 1432., ...,    0.,    0.,    0.]),\n",
       " array([5005., 3721., 2200., ...,    0.,    0.,    0.]),\n",
       " array([2670., 1427., 1161., ...,    0.,    0.,    0.]))"
      ]
     },
     "execution_count": 1099,
     "metadata": {},
     "output_type": "execute_result"
    }
   ],
   "source": [
    "true_p, source_p, markov_p, ar_p, gan_p"
   ]
  },
  {
   "cell_type": "code",
   "execution_count": 909,
   "metadata": {
    "execution": {
     "iopub.execute_input": "2024-05-31T12:40:29.928252Z",
     "iopub.status.busy": "2024-05-31T12:40:29.928252Z",
     "iopub.status.idle": "2024-05-31T12:40:29.947201Z",
     "shell.execute_reply": "2024-05-31T12:40:29.947201Z",
     "shell.execute_reply.started": "2024-05-31T12:40:29.928252Z"
    }
   },
   "outputs": [
    {
     "data": {
      "text/plain": [
       "array([0.0127, 0.0087, 0.0061, ..., 0.    , 0.    , 0.    ])"
      ]
     },
     "execution_count": 909,
     "metadata": {},
     "output_type": "execute_result"
    }
   ],
   "source": [
    "epr_p/epr_p.sum()"
   ]
  },
  {
   "cell_type": "code",
   "execution_count": 1227,
   "metadata": {
    "execution": {
     "iopub.execute_input": "2024-06-01T21:27:24.883282Z",
     "iopub.status.busy": "2024-06-01T21:27:24.883282Z",
     "iopub.status.idle": "2024-06-01T21:27:25.304558Z",
     "shell.execute_reply": "2024-06-01T21:27:25.303588Z",
     "shell.execute_reply.started": "2024-06-01T21:27:24.883282Z"
    }
   },
   "outputs": [
    {
     "data": {
      "image/png": "[encoded data removed]",
      "text/plain": [
       "<Figure size 800x500 with 1 Axes>"
      ]
     },
     "metadata": {},
     "output_type": "display_data"
    }
   ],
   "source": [
    "plt.figure(figsize=(8, 5))\n",
    "\n",
    "true = true_p[true_p>0] / true_p.sum()\n",
    "source = source_p[source_p>0] / source_p.sum()\n",
    "\n",
    "plt.plot(np.arange(len(true)) + 1, true, label=\"true\")\n",
    "# plt.plot(np.arange(len(source)) + 1, source, label=\"source\")\n",
    "# plotting\n",
    "for pre, label in zip(predict, diff_file_name):\n",
    "    plt.plot(np.arange(len(pre)) + 1, pre, label=label)\n",
    "    \n",
    "\n",
    "\n",
    "plt.xscale(\"log\")\n",
    "plt.yscale(\"log\")\n",
    "plt.legend(prop={\"size\": 13})\n",
    "plt.show()"
   ]
  },
  {
   "cell_type": "code",
   "execution_count": 1054,
   "metadata": {
    "execution": {
     "iopub.execute_input": "2024-05-26T09:26:12.696908Z",
     "iopub.status.busy": "2024-05-26T09:26:12.696908Z",
     "iopub.status.idle": "2024-05-26T09:26:12.729331Z",
     "shell.execute_reply": "2024-05-26T09:26:12.729331Z",
     "shell.execute_reply.started": "2024-05-26T09:26:12.696908Z"
    }
   },
   "outputs": [
    {
     "ename": "TypeError",
     "evalue": "'>' not supported between instances of 'list' and 'int'",
     "output_type": "error",
     "traceback": [
      "\u001b[1;31m---------------------------------------------------------------------------\u001b[0m",
      "\u001b[1;31mTypeError\u001b[0m                                 Traceback (most recent call last)",
      "Cell \u001b[1;32mIn[1054], line 3\u001b[0m\n\u001b[0;32m      1\u001b[0m plt\u001b[38;5;241m.\u001b[39mfigure(figsize\u001b[38;5;241m=\u001b[39m(\u001b[38;5;241m8\u001b[39m, \u001b[38;5;241m5\u001b[39m))\n\u001b[1;32m----> 3\u001b[0m predict \u001b[38;5;241m=\u001b[39m predict_p[\u001b[43mpredict_p\u001b[49m\u001b[38;5;241;43m>\u001b[39;49m\u001b[38;5;241;43m0\u001b[39;49m] \u001b[38;5;241m/\u001b[39m predict_p\u001b[38;5;241m.\u001b[39msum()\n\u001b[0;32m      4\u001b[0m true \u001b[38;5;241m=\u001b[39m true_p[true_p\u001b[38;5;241m>\u001b[39m\u001b[38;5;241m0\u001b[39m] \u001b[38;5;241m/\u001b[39m true_p\u001b[38;5;241m.\u001b[39msum()\n\u001b[0;32m      5\u001b[0m source \u001b[38;5;241m=\u001b[39m source_p[source_p\u001b[38;5;241m>\u001b[39m\u001b[38;5;241m0\u001b[39m] \u001b[38;5;241m/\u001b[39m source_p\u001b[38;5;241m.\u001b[39msum()\n",
      "\u001b[1;31mTypeError\u001b[0m: '>' not supported between instances of 'list' and 'int'"
     ]
    },
    {
     "data": {
      "text/plain": [
       "<Figure size 800x500 with 0 Axes>"
      ]
     },
     "metadata": {},
     "output_type": "display_data"
    }
   ],
   "source": [
    "plt.figure(figsize=(8, 5))\n",
    "\n",
    "predict = predict_p[predict_p>0] / predict_p.sum()\n",
    "true = true_p[true_p>0] / true_p.sum()\n",
    "source = source_p[source_p>0] / source_p.sum()\n",
    "\n",
    "# markov = markov_p[markov_p>0]\n",
    "# ar = ar_p[ar_p>0]\n",
    "# gan = gan_p[gan_p>0]\n",
    "\n",
    "epr = epr_p[epr_p>0]/ epr_p.sum()\n",
    "\n",
    "# plotting\n",
    "plt.plot(np.arange(len(predict)) + 1, predict, label=\"predict\")\n",
    "plt.plot(np.arange(len(true)) + 1, true, label=\"true\")\n",
    "plt.plot(np.arange(len(source)) + 1, source, label=\"source\")\n",
    "\n",
    "plt.plot(np.arange(len(epr)) + 1, epr, label=\"epr\")\n",
    "\n",
    "plt.xscale(\"log\")\n",
    "plt.yscale(\"log\")\n",
    "plt.legend(prop={\"size\": 13})\n",
    "plt.show()"
   ]
  },
  {
   "cell_type": "code",
   "execution_count": 232,
   "metadata": {
    "execution": {
     "iopub.execute_input": "2024-04-17T09:59:17.815000Z",
     "iopub.status.busy": "2024-04-17T09:59:17.815000Z",
     "iopub.status.idle": "2024-04-17T09:59:17.825936Z",
     "shell.execute_reply": "2024-04-17T09:59:17.825936Z",
     "shell.execute_reply.started": "2024-04-17T09:59:17.815000Z"
    }
   },
   "outputs": [],
   "source": [
    "# predict = np.log(predict_p[:100])\n",
    "# true = np.log(true_p[:100])\n",
    "# source = np.log(source_p[:100])\n",
    "\n",
    "predict = predict_p\n",
    "true = true_p\n",
    "source = source_p"
   ]
  },
  {
   "cell_type": "code",
   "execution_count": 233,
   "metadata": {
    "execution": {
     "iopub.execute_input": "2024-04-17T09:59:18.063579Z",
     "iopub.status.busy": "2024-04-17T09:59:18.063579Z",
     "iopub.status.idle": "2024-04-17T09:59:18.072293Z",
     "shell.execute_reply": "2024-04-17T09:59:18.072293Z",
     "shell.execute_reply.started": "2024-04-17T09:59:18.063579Z"
    }
   },
   "outputs": [
    {
     "name": "stdout",
     "output_type": "stream",
     "text": [
      "Prediction and True: 0.377\t Source and True: 0.061\n"
     ]
    }
   ],
   "source": [
    "pred_true_js = distance.jensenshannon(predict, true)\n",
    "source_true_js = distance.jensenshannon(source, true)\n",
    "\n",
    "print(f\"Prediction and True: {pred_true_js:.3f}\\t Source and True: {source_true_js:.3f}\")"
   ]
  },
  {
   "cell_type": "code",
   "execution_count": 127,
   "metadata": {
    "execution": {
     "iopub.execute_input": "2024-04-12T14:19:32.588256Z",
     "iopub.status.busy": "2024-04-12T14:19:32.588256Z",
     "iopub.status.idle": "2024-04-12T14:19:32.594647Z",
     "shell.execute_reply": "2024-04-12T14:19:32.594647Z",
     "shell.execute_reply.started": "2024-04-12T14:19:32.588256Z"
    }
   },
   "outputs": [
    {
     "name": "stdout",
     "output_type": "stream",
     "text": [
      "Markov and True: 0.365\t AR and True: 0.166\t GAN and True: 0.214\n"
     ]
    }
   ],
   "source": [
    "markov_true_js = distance.jensenshannon(markov_p, true)\n",
    "ar_true_js = distance.jensenshannon(ar_p, true)\n",
    "gan_true_js = distance.jensenshannon(gan_p, true)\n",
    "\n",
    "print(f\"Markov and True: {markov_true_js:.3f}\\t AR and True: {ar_true_js:.3f}\\t GAN and True: {gan_true_js:.3f}\")"
   ]
  },
  {
   "cell_type": "code",
   "execution_count": 234,
   "metadata": {
    "execution": {
     "iopub.execute_input": "2024-04-17T09:59:20.016328Z",
     "iopub.status.busy": "2024-04-17T09:59:20.016328Z",
     "iopub.status.idle": "2024-04-17T09:59:20.025169Z",
     "shell.execute_reply": "2024-04-17T09:59:20.025169Z",
     "shell.execute_reply.started": "2024-04-17T09:59:20.016328Z"
    }
   },
   "outputs": [
    {
     "name": "stdout",
     "output_type": "stream",
     "text": [
      "EPR and True: 0.221\n"
     ]
    }
   ],
   "source": [
    "epr_true_js = distance.jensenshannon(epr_p, true)\n",
    "\n",
    "print(f\"EPR and True: {epr_true_js:.3f}\")"
   ]
  },
  {
   "cell_type": "markdown",
   "metadata": {},
   "source": [
    "# Visit frequency - individual location (max 50)"
   ]
  },
  {
   "cell_type": "code",
   "execution_count": 1228,
   "metadata": {
    "execution": {
     "iopub.execute_input": "2024-06-01T21:27:29.329044Z",
     "iopub.status.busy": "2024-06-01T21:27:29.328047Z",
     "iopub.status.idle": "2024-06-01T21:27:29.345999Z",
     "shell.execute_reply": "2024-06-01T21:27:29.345999Z",
     "shell.execute_reply.started": "2024-06-01T21:27:29.329044Z"
    }
   },
   "outputs": [],
   "source": [
    "def get_individual_loc_p(ls, max_len = 50):\n",
    "    visits = np.zeros(shape=(max_len), dtype=float)\n",
    "\n",
    "    for seq in ls:\n",
    "        _, counts = np.unique(seq, return_counts=True)\n",
    "        counts.sort()\n",
    "        counts = counts[::-1]\n",
    "\n",
    "        if len(counts) > max_len:\n",
    "            counts = counts[:max_len]\n",
    "        else:\n",
    "            counts = np.pad(counts, (0, max_len - len(counts)))\n",
    "        \n",
    "        visits += counts/counts.sum()\n",
    "\n",
    "    visits = visits/len(ls)\n",
    "    return visits"
   ]
  },
  {
   "cell_type": "code",
   "execution_count": 1229,
   "metadata": {
    "execution": {
     "iopub.execute_input": "2024-06-01T21:27:29.521714Z",
     "iopub.status.busy": "2024-06-01T21:27:29.521714Z",
     "iopub.status.idle": "2024-06-01T21:27:32.147817Z",
     "shell.execute_reply": "2024-06-01T21:27:32.145838Z",
     "shell.execute_reply.started": "2024-06-01T21:27:29.521714Z"
    }
   },
   "outputs": [],
   "source": [
    "predict_ind_p = [get_individual_loc_p(p) for p in predict_ls]"
   ]
  },
  {
   "cell_type": "code",
   "execution_count": 1230,
   "metadata": {
    "execution": {
     "iopub.execute_input": "2024-06-01T21:27:33.204588Z",
     "iopub.status.busy": "2024-06-01T21:27:33.204588Z",
     "iopub.status.idle": "2024-06-01T21:27:35.852682Z",
     "shell.execute_reply": "2024-06-01T21:27:35.851898Z",
     "shell.execute_reply.started": "2024-06-01T21:27:33.204588Z"
    }
   },
   "outputs": [],
   "source": [
    "true_ind_p = get_individual_loc_p(true_ls)\n",
    "source_ind_p = get_individual_loc_p(src_ls)"
   ]
  },
  {
   "cell_type": "code",
   "execution_count": 1186,
   "metadata": {
    "execution": {
     "iopub.execute_input": "2024-06-01T21:22:29.383761Z",
     "iopub.status.busy": "2024-06-01T21:22:29.382763Z",
     "iopub.status.idle": "2024-06-01T21:22:29.398721Z",
     "shell.execute_reply": "2024-06-01T21:22:29.397723Z",
     "shell.execute_reply.started": "2024-06-01T21:22:29.383761Z"
    }
   },
   "outputs": [
    {
     "data": {
      "text/plain": [
       "(2,\n",
       " array([0.5549, 0.2186, 0.0863, 0.0465, 0.0295, 0.0198, 0.0137, 0.0096,\n",
       "        0.0068, 0.0046, 0.0032, 0.0021, 0.0015, 0.001 , 0.0007, 0.0005,\n",
       "        0.0003, 0.0002, 0.0001, 0.0001, 0.    , 0.    , 0.    , 0.    ,\n",
       "        0.    , 0.    , 0.    , 0.    , 0.    , 0.    , 0.    , 0.    ,\n",
       "        0.    , 0.    , 0.    , 0.    , 0.    , 0.    , 0.    , 0.    ,\n",
       "        0.    , 0.    , 0.    , 0.    , 0.    , 0.    , 0.    , 0.    ,\n",
       "        0.    , 0.    ]))"
      ]
     },
     "execution_count": 1186,
     "metadata": {},
     "output_type": "execute_result"
    }
   ],
   "source": [
    "len(predict_ind_p), predict_ind_p[0]"
   ]
  },
  {
   "cell_type": "code",
   "execution_count": 1187,
   "metadata": {
    "execution": {
     "iopub.execute_input": "2024-06-01T21:22:29.401712Z",
     "iopub.status.busy": "2024-06-01T21:22:29.400715Z",
     "iopub.status.idle": "2024-06-01T21:22:29.414679Z",
     "shell.execute_reply": "2024-06-01T21:22:29.413681Z",
     "shell.execute_reply.started": "2024-06-01T21:22:29.401712Z"
    }
   },
   "outputs": [
    {
     "data": {
      "text/plain": [
       "(array([0.4394, 0.2034, 0.0835, 0.051 , 0.0375, 0.0293, 0.0238, 0.0197,\n",
       "        0.0165, 0.014 , 0.0119, 0.0102, 0.0087, 0.0075, 0.0064, 0.0056,\n",
       "        0.0048, 0.004 , 0.0034, 0.0028, 0.0023, 0.0019, 0.0016, 0.0014,\n",
       "        0.0011, 0.0009, 0.0008, 0.0006, 0.0006, 0.0005, 0.0005, 0.0004,\n",
       "        0.0004, 0.0004, 0.0003, 0.0003, 0.0003, 0.0003, 0.0003, 0.0002,\n",
       "        0.0002, 0.0002, 0.0002, 0.0002, 0.0002, 0.0001, 0.0001, 0.0001,\n",
       "        0.0001, 0.0001]),\n",
       " array([0.4353, 0.2148, 0.0987, 0.0583, 0.041 , 0.0311, 0.0246, 0.02  ,\n",
       "        0.0159, 0.0129, 0.0104, 0.0084, 0.0067, 0.0052, 0.004 , 0.003 ,\n",
       "        0.0022, 0.0017, 0.0013, 0.001 , 0.0009, 0.0007, 0.0006, 0.0004,\n",
       "        0.0003, 0.0002, 0.0002, 0.0001, 0.    , 0.    , 0.    , 0.    ,\n",
       "        0.    , 0.    , 0.    , 0.    , 0.    , 0.    , 0.    , 0.    ,\n",
       "        0.    , 0.    , 0.    , 0.    , 0.    , 0.    , 0.    , 0.    ,\n",
       "        0.    , 0.    ]))"
      ]
     },
     "execution_count": 1187,
     "metadata": {},
     "output_type": "execute_result"
    }
   ],
   "source": [
    "true_ind_p, source_ind_p"
   ]
  },
  {
   "cell_type": "code",
   "execution_count": 1079,
   "metadata": {
    "execution": {
     "iopub.execute_input": "2024-06-01T20:29:28.129388Z",
     "iopub.status.busy": "2024-06-01T20:29:28.128391Z",
     "iopub.status.idle": "2024-06-01T20:29:31.224285Z",
     "shell.execute_reply": "2024-06-01T20:29:31.224285Z",
     "shell.execute_reply.started": "2024-06-01T20:29:28.128391Z"
    }
   },
   "outputs": [],
   "source": [
    "markov_p = get_individual_loc_p(markov_ls)\n",
    "ar_p = get_individual_loc_p(ar_ls)\n",
    "gan_p = get_individual_loc_p(gan_ls)"
   ]
  },
  {
   "cell_type": "code",
   "execution_count": 1080,
   "metadata": {
    "execution": {
     "iopub.execute_input": "2024-06-01T20:29:31.226241Z",
     "iopub.status.busy": "2024-06-01T20:29:31.225221Z",
     "iopub.status.idle": "2024-06-01T20:29:32.569986Z",
     "shell.execute_reply": "2024-06-01T20:29:32.569986Z",
     "shell.execute_reply.started": "2024-06-01T20:29:31.226241Z"
    }
   },
   "outputs": [],
   "source": [
    "epr_ind_p = get_individual_loc_p(epr_ls)"
   ]
  },
  {
   "cell_type": "code",
   "execution_count": 1231,
   "metadata": {
    "execution": {
     "iopub.execute_input": "2024-06-01T21:27:35.853680Z",
     "iopub.status.busy": "2024-06-01T21:27:35.853680Z",
     "iopub.status.idle": "2024-06-01T21:27:36.276643Z",
     "shell.execute_reply": "2024-06-01T21:27:36.275651Z",
     "shell.execute_reply.started": "2024-06-01T21:27:35.853680Z"
    }
   },
   "outputs": [
    {
     "data": {
      "image/png": "[encoded data removed]",
      "text/plain": [
       "<Figure size 800x300 with 1 Axes>"
      ]
     },
     "metadata": {},
     "output_type": "display_data"
    }
   ],
   "source": [
    "plt.figure(figsize=(8, 3))\n",
    "\n",
    "predict = [p[p>0] for p in predict_ind_p]\n",
    "true = true_ind_p[true_ind_p>0]\n",
    "source = source_ind_p[source_ind_p>0]\n",
    "\n",
    "ar = ar_p[ar_p>0]\n",
    "markov = markov_p[markov_p>0]\n",
    "gan = gan_p[gan_p>0]\n",
    "epr = epr_ind_p[epr_ind_p>0]\n",
    "\n",
    "# plotting\n",
    "plt.plot(np.arange(len(true)) + 1, true, label=\"Data\")\n",
    "# plt.plot(np.arange(len(source)) + 1, source, label=\"source\")\n",
    "\n",
    "for pre, label in zip(predict, diff_file_name):\n",
    "    plt.plot(np.arange(len(pre)) + 1, pre, label=label)\n",
    "\n",
    "# plt.plot(np.arange(len(ar)) + 1, ar, label=\"MHSA decode (Ours)\")\n",
    "# plt.plot(np.arange(len(markov)) + 1, markov, label=\"Markov\", alpha=0.5)\n",
    "# plt.plot(np.arange(len(gan)) + 1, gan, label=\"MovSim\", alpha=0.5)\n",
    "# plt.plot(np.arange(len(epr)) + 1, epr, label=\"EPR\", alpha=0.5)\n",
    "\n",
    "plt.xscale(\"log\")\n",
    "plt.yscale(\"log\")\n",
    "plt.legend(prop={\"size\": 13})\n",
    "\n",
    "plt.xlabel(\"location rank\", fontsize=16)\n",
    "plt.ylabel(\"location frquency\", fontsize=16)\n",
    "\n",
    "# plt.savefig(r'.\\metrics\\figures\\lk.png', bbox_inches='tight', dpi=600)\n",
    "plt.show()\n"
   ]
  },
  {
   "cell_type": "code",
   "execution_count": 496,
   "metadata": {
    "execution": {
     "iopub.execute_input": "2024-05-30T14:51:45.164081Z",
     "iopub.status.busy": "2024-05-30T14:51:45.164081Z",
     "iopub.status.idle": "2024-05-30T14:51:45.169277Z",
     "shell.execute_reply": "2024-05-30T14:51:45.169277Z",
     "shell.execute_reply.started": "2024-05-30T14:51:45.164081Z"
    }
   },
   "outputs": [],
   "source": [
    "predict = [p[p>0] for p in predict_ind_p]\n",
    "true = true_ind_p[true_ind_p>0]\n",
    "source = source_ind_p[source_ind_p>0]\n",
    "\n",
    "ar = ar_p[ar_p>0]\n",
    "markov = markov_p[markov_p>0]\n",
    "gan = gan_p[gan_p>0]\n",
    "epr = epr_ind_p[epr_ind_p>0]"
   ]
  },
  {
   "cell_type": "code",
   "execution_count": 245,
   "metadata": {
    "execution": {
     "iopub.execute_input": "2024-04-25T09:26:45.332316Z",
     "iopub.status.busy": "2024-04-25T09:26:45.332316Z",
     "iopub.status.idle": "2024-04-25T09:26:45.345281Z",
     "shell.execute_reply": "2024-04-25T09:26:45.345281Z",
     "shell.execute_reply.started": "2024-04-25T09:26:45.332316Z"
    }
   },
   "outputs": [
    {
     "name": "stdout",
     "output_type": "stream",
     "text": [
      "Prediction and True: 0.226\t Source and True: 0.069\n"
     ]
    }
   ],
   "source": [
    "pred_true_js = distance.jensenshannon(predict_ind_p[0], true_ind_p)\n",
    "source_true_js = distance.jensenshannon(source_ind_p, true_ind_p)\n",
    "\n",
    "print(f\"Prediction and True: {pred_true_js:.3f}\\t Source and True: {source_true_js:.3f}\")"
   ]
  },
  {
   "cell_type": "code",
   "execution_count": 246,
   "metadata": {
    "execution": {
     "iopub.execute_input": "2024-04-25T09:27:33.462547Z",
     "iopub.status.busy": "2024-04-25T09:27:33.462547Z",
     "iopub.status.idle": "2024-04-25T09:27:33.481496Z",
     "shell.execute_reply": "2024-04-25T09:27:33.481496Z",
     "shell.execute_reply.started": "2024-04-25T09:27:33.462547Z"
    }
   },
   "outputs": [
    {
     "name": "stdout",
     "output_type": "stream",
     "text": [
      "Markov and True: 0.250\t AR and True: 0.070\t GAN and True: 0.223\n",
      "EPR and True: 0.166\n"
     ]
    }
   ],
   "source": [
    "markov_true_js = distance.jensenshannon(markov_p, true_ind_p)\n",
    "ar_true_js = distance.jensenshannon(ar_p, true_ind_p)\n",
    "gan_true_js = distance.jensenshannon(gan_p, true_ind_p)\n",
    "\n",
    "print(f\"Markov and True: {markov_true_js:.3f}\\t AR and True: {ar_true_js:.3f}\\t GAN and True: {gan_true_js:.3f}\")\n",
    "\n",
    "epr_true_js = distance.jensenshannon(epr_ind_p, true_ind_p)\n",
    "\n",
    "print(f\"EPR and True: {epr_true_js:.3f}\")"
   ]
  },
  {
   "cell_type": "markdown",
   "metadata": {},
   "source": [
    "# Rg\n",
    "## Overall"
   ]
  },
  {
   "cell_type": "code",
   "execution_count": 1189,
   "metadata": {
    "execution": {
     "iopub.execute_input": "2024-06-01T21:22:35.282467Z",
     "iopub.status.busy": "2024-06-01T21:22:35.282467Z",
     "iopub.status.idle": "2024-06-01T21:22:35.296429Z",
     "shell.execute_reply": "2024-06-01T21:22:35.296429Z",
     "shell.execute_reply.started": "2024-06-01T21:22:35.282467Z"
    }
   },
   "outputs": [],
   "source": [
    "def get_rg(ls, geo_x, geo_y):\n",
    "    rgs = []\n",
    "\n",
    "    for seq in ls:\n",
    "        locs = seq - 2 # padding and seperator\n",
    "\n",
    "        xs = np.take(geo_x, locs)\n",
    "        ys = np.take(geo_y, locs)\n",
    "\n",
    "        x_center = np.average(xs)\n",
    "        y_center = np.average(ys)\n",
    "\n",
    "        square_rg = np.average((xs - x_center) ** 2 + (ys - y_center) ** 2)\n",
    "\n",
    "        rgs.append(np.sqrt(square_rg))\n",
    "    return np.array(rgs, dtype=float)"
   ]
  },
  {
   "cell_type": "code",
   "execution_count": 1232,
   "metadata": {
    "execution": {
     "iopub.execute_input": "2024-06-01T21:28:45.398619Z",
     "iopub.status.busy": "2024-06-01T21:28:45.398619Z",
     "iopub.status.idle": "2024-06-01T21:28:45.407594Z",
     "shell.execute_reply": "2024-06-01T21:28:45.407594Z",
     "shell.execute_reply.started": "2024-06-01T21:28:45.398619Z"
    }
   },
   "outputs": [],
   "source": [
    "geo_x = all_locs[\"geometry\"].x.values\n",
    "geo_y = all_locs[\"geometry\"].y.values"
   ]
  },
  {
   "cell_type": "code",
   "execution_count": 1233,
   "metadata": {
    "execution": {
     "iopub.execute_input": "2024-06-01T21:28:45.584002Z",
     "iopub.status.busy": "2024-06-01T21:28:45.583004Z",
     "iopub.status.idle": "2024-06-01T21:28:47.397827Z",
     "shell.execute_reply": "2024-06-01T21:28:47.397827Z",
     "shell.execute_reply.started": "2024-06-01T21:28:45.584002Z"
    }
   },
   "outputs": [],
   "source": [
    "predict_rg = [get_rg(p, geo_x, geo_y) for p in predict_ls]\n",
    "\n",
    "predict_rg = [p[p>1] for p in predict_rg]"
   ]
  },
  {
   "cell_type": "code",
   "execution_count": 1192,
   "metadata": {
    "execution": {
     "iopub.execute_input": "2024-06-01T21:22:37.478852Z",
     "iopub.status.busy": "2024-06-01T21:22:37.477855Z",
     "iopub.status.idle": "2024-06-01T21:22:39.322592Z",
     "shell.execute_reply": "2024-06-01T21:22:39.322046Z",
     "shell.execute_reply.started": "2024-06-01T21:22:37.478852Z"
    }
   },
   "outputs": [],
   "source": [
    "true_rg = get_rg(true_ls, geo_x, geo_y)\n",
    "source_rg = get_rg(src_ls, geo_x, geo_y)\n",
    "\n",
    "true_rg = true_rg[true_rg>1]\n",
    "source_rg = source_rg[source_rg>1]"
   ]
  },
  {
   "cell_type": "code",
   "execution_count": 1153,
   "metadata": {
    "execution": {
     "iopub.execute_input": "2024-06-01T20:59:30.943631Z",
     "iopub.status.busy": "2024-06-01T20:59:30.942633Z",
     "iopub.status.idle": "2024-06-01T20:59:31.852273Z",
     "shell.execute_reply": "2024-06-01T20:59:31.851275Z",
     "shell.execute_reply.started": "2024-06-01T20:59:30.943631Z"
    }
   },
   "outputs": [],
   "source": [
    "epr_rg = get_rg(epr_ls, geo_x, geo_y)\n",
    "\n",
    "epr_rg = epr_rg[epr_rg>1]"
   ]
  },
  {
   "cell_type": "code",
   "execution_count": 1154,
   "metadata": {
    "execution": {
     "iopub.execute_input": "2024-06-01T20:59:31.853270Z",
     "iopub.status.busy": "2024-06-01T20:59:31.853270Z",
     "iopub.status.idle": "2024-06-01T20:59:33.916368Z",
     "shell.execute_reply": "2024-06-01T20:59:33.915735Z",
     "shell.execute_reply.started": "2024-06-01T20:59:31.853270Z"
    }
   },
   "outputs": [],
   "source": [
    "markov_rg = get_rg(markov_ls, geo_x, geo_y)\n",
    "markov_rg = markov_rg[markov_rg>1]\n",
    "\n",
    "ar_rg = get_rg(ar_ls, geo_x, geo_y)\n",
    "ar_rg = ar_rg[ar_rg>1]\n",
    "\n",
    "gan_rg = get_rg(gan_ls, geo_x, geo_y)\n",
    "gan_rg = gan_rg[gan_rg>1]"
   ]
  },
  {
   "cell_type": "code",
   "execution_count": 1234,
   "metadata": {
    "execution": {
     "iopub.execute_input": "2024-06-01T21:28:48.389637Z",
     "iopub.status.busy": "2024-06-01T21:28:48.389637Z",
     "iopub.status.idle": "2024-06-01T21:28:48.787775Z",
     "shell.execute_reply": "2024-06-01T21:28:48.786778Z",
     "shell.execute_reply.started": "2024-06-01T21:28:48.389637Z"
    }
   },
   "outputs": [
    {
     "data": {
      "image/png": "[encoded data removed]",
      "text/plain": [
       "<Figure size 800x500 with 1 Axes>"
      ]
     },
     "metadata": {},
     "output_type": "display_data"
    }
   ],
   "source": [
    "plt.figure(figsize=(8, 5))\n",
    "\n",
    "# fit power law\n",
    "fit = powerlaw.Fit(true_rg, xmin=1)\n",
    "\n",
    "# plotting\n",
    "powerlaw.plot_pdf(true_rg, label=\"true\")\n",
    "# powerlaw.plot_pdf(source_rg, label=\"source\")\n",
    "\n",
    "for pre, label in zip(predict_rg, diff_file_name):\n",
    "    powerlaw.plot_pdf(pre, label=label)\n",
    "\n",
    "# powerlaw.plot_pdf(markov_rg, label=\"markov\")\n",
    "# powerlaw.plot_pdf(ar_rg, label=\"ar\")\n",
    "# powerlaw.plot_pdf(gan_rg, label=\"gan\")\n",
    "# powerlaw.plot_pdf(epr_rg, label=\"epr\")\n",
    "\n",
    "# fit.power_law.plot_pdf(linestyle=\"--\", label=\"powerlaw fit\")\n",
    "# fit.truncated_power_law.plot_pdf(linestyle=\"--\", label=\"truncated power law\")\n",
    "# fit.lognormal.plot_pdf(linestyle=\"--\", label=\"lognormal fit\")\n",
    "\n",
    "plt.xlabel(\"Rg\", fontsize=16)\n",
    "plt.legend(prop={\"size\": 13})\n",
    "plt.show()"
   ]
  },
  {
   "cell_type": "code",
   "execution_count": null,
   "metadata": {},
   "outputs": [],
   "source": [
    "plt.figure(figsize=(8, 5))\n",
    "\n",
    "# fit power law\n",
    "fit = powerlaw.Fit(true_rg, xmin=1)\n",
    "\n",
    "# plotting\n",
    "powerlaw.plot_pdf(predict_rg, label=\"predict\")\n",
    "powerlaw.plot_pdf(true_rg, label=\"true\")\n",
    "powerlaw.plot_pdf(source_rg, label=\"source\")\n",
    "\n",
    "# powerlaw.plot_pdf(markov_rg, label=\"markov\")\n",
    "# powerlaw.plot_pdf(ar_rg, label=\"ar\")\n",
    "# powerlaw.plot_pdf(gan_rg, label=\"gan\")\n",
    "powerlaw.plot_pdf(epr_rg, label=\"epr\")\n",
    "\n",
    "# fit.power_law.plot_pdf(linestyle=\"--\", label=\"powerlaw fit\")\n",
    "# fit.truncated_power_law.plot_pdf(linestyle=\"--\", label=\"truncated power law\")\n",
    "# fit.lognormal.plot_pdf(linestyle=\"--\", label=\"lognormal fit\")\n",
    "\n",
    "plt.legend(prop={\"size\": 13})\n",
    "plt.show()"
   ]
  },
  {
   "cell_type": "code",
   "execution_count": 232,
   "metadata": {
    "execution": {
     "iopub.execute_input": "2024-04-25T09:22:54.397916Z",
     "iopub.status.busy": "2024-04-25T09:22:54.397916Z",
     "iopub.status.idle": "2024-04-25T09:22:54.413873Z",
     "shell.execute_reply": "2024-04-25T09:22:54.413873Z",
     "shell.execute_reply.started": "2024-04-25T09:22:54.397916Z"
    }
   },
   "outputs": [],
   "source": [
    "predict = np.log(predict_rg[0])\n",
    "true = np.log(true_rg)\n",
    "source = np.log(source_rg)\n",
    "\n",
    "min = predict.min()\n",
    "max = predict.max()"
   ]
  },
  {
   "cell_type": "code",
   "execution_count": 233,
   "metadata": {
    "execution": {
     "iopub.execute_input": "2024-04-25T09:22:57.454106Z",
     "iopub.status.busy": "2024-04-25T09:22:57.454106Z",
     "iopub.status.idle": "2024-04-25T09:22:57.462087Z",
     "shell.execute_reply": "2024-04-25T09:22:57.462087Z",
     "shell.execute_reply.started": "2024-04-25T09:22:57.454106Z"
    }
   },
   "outputs": [
    {
     "name": "stdout",
     "output_type": "stream",
     "text": [
      "Prediction and True: 0.243\t Source and True: 0.191\n"
     ]
    }
   ],
   "source": [
    "\n",
    "pred_rg_p, _ = np.histogram(predict, bins=1000, range=(min, max))\n",
    "true_rg_p, _ =  np.histogram(true, bins=1000, range=(min, max))\n",
    "source_rg_p, _ =  np.histogram(source, bins=1000, range=(min, max))\n",
    "\n",
    "pred_true_js = distance.jensenshannon(pred_rg_p, true_rg_p)\n",
    "source_true_js = distance.jensenshannon(source_rg_p, true_rg_p)\n",
    "\n",
    "print(f\"Prediction and True: {pred_true_js:.3f}\\t Source and True: {source_true_js:.3f}\")"
   ]
  },
  {
   "cell_type": "code",
   "execution_count": 235,
   "metadata": {
    "execution": {
     "iopub.execute_input": "2024-04-25T09:23:55.188587Z",
     "iopub.status.busy": "2024-04-25T09:23:55.188587Z",
     "iopub.status.idle": "2024-04-25T09:23:55.206539Z",
     "shell.execute_reply": "2024-04-25T09:23:55.206539Z",
     "shell.execute_reply.started": "2024-04-25T09:23:55.188587Z"
    }
   },
   "outputs": [],
   "source": [
    "markov = np.log(markov_rg)\n",
    "ar = np.log(ar_rg)\n",
    "gan = np.log(gan_rg)\n",
    "epr = np.log(epr_rg)"
   ]
  },
  {
   "cell_type": "code",
   "execution_count": 391,
   "metadata": {
    "execution": {
     "iopub.execute_input": "2024-05-06T15:12:57.266650Z",
     "iopub.status.busy": "2024-05-06T15:12:57.266650Z",
     "iopub.status.idle": "2024-05-06T15:12:57.300561Z",
     "shell.execute_reply": "2024-05-06T15:12:57.299564Z",
     "shell.execute_reply.started": "2024-05-06T15:12:57.266650Z"
    }
   },
   "outputs": [
    {
     "ename": "NameError",
     "evalue": "name 'true_rg_p' is not defined",
     "output_type": "error",
     "traceback": [
      "\u001b[1;31m---------------------------------------------------------------------------\u001b[0m",
      "\u001b[1;31mNameError\u001b[0m                                 Traceback (most recent call last)",
      "Cell \u001b[1;32mIn[391], line 2\u001b[0m\n\u001b[0;32m      1\u001b[0m markov_rg_p, _ \u001b[38;5;241m=\u001b[39m  np\u001b[38;5;241m.\u001b[39mhistogram(markov, bins\u001b[38;5;241m=\u001b[39m\u001b[38;5;241m1000\u001b[39m, \u001b[38;5;28mrange\u001b[39m\u001b[38;5;241m=\u001b[39m(\u001b[38;5;28mmin\u001b[39m, \u001b[38;5;28mmax\u001b[39m))\n\u001b[1;32m----> 2\u001b[0m markov_true_js \u001b[38;5;241m=\u001b[39m distance\u001b[38;5;241m.\u001b[39mjensenshannon(markov_rg_p, \u001b[43mtrue_rg_p\u001b[49m)\n\u001b[0;32m      4\u001b[0m ar_rg_p, _ \u001b[38;5;241m=\u001b[39m  np\u001b[38;5;241m.\u001b[39mhistogram(ar, bins\u001b[38;5;241m=\u001b[39m\u001b[38;5;241m1000\u001b[39m, \u001b[38;5;28mrange\u001b[39m\u001b[38;5;241m=\u001b[39m(\u001b[38;5;28mmin\u001b[39m, \u001b[38;5;28mmax\u001b[39m))\n\u001b[0;32m      5\u001b[0m ar_true_js \u001b[38;5;241m=\u001b[39m distance\u001b[38;5;241m.\u001b[39mjensenshannon(ar_rg_p, true_rg_p)\n",
      "\u001b[1;31mNameError\u001b[0m: name 'true_rg_p' is not defined"
     ]
    }
   ],
   "source": [
    "markov_rg_p, _ =  np.histogram(markov, bins=1000, range=(min, max))\n",
    "markov_true_js = distance.jensenshannon(markov_rg_p, true_rg_p)\n",
    "\n",
    "ar_rg_p, _ =  np.histogram(ar, bins=1000, range=(min, max))\n",
    "ar_true_js = distance.jensenshannon(ar_rg_p, true_rg_p)\n",
    "\n",
    "gan_rg_p, _ =  np.histogram(gan, bins=1000, range=(min, max))\n",
    "gan_true_js = distance.jensenshannon(gan_rg_p, true_rg_p)\n",
    "\n",
    "print(f\"Markov and True: {markov_true_js:.3f}\\t AR and True: {ar_true_js:.3f}\\t GAN and True: {gan_true_js:.3f}\")\n",
    "\n",
    "epr_rg_p, _ =  np.histogram(epr, bins=1000, range=(min, max))\n",
    "epr_true_js = distance.jensenshannon(epr_rg_p, true_rg_p)\n",
    "\n",
    "print(f\"EPR and True: {epr_true_js:.3f}\")"
   ]
  },
  {
   "cell_type": "markdown",
   "metadata": {
    "execution": {
     "iopub.execute_input": "2024-04-24T13:23:32.913907Z",
     "iopub.status.busy": "2024-04-24T13:23:32.912910Z",
     "iopub.status.idle": "2024-04-24T13:23:32.916899Z",
     "shell.execute_reply": "2024-04-24T13:23:32.916899Z",
     "shell.execute_reply.started": "2024-04-24T13:23:32.913907Z"
    }
   },
   "source": [
    "## Evolution"
   ]
  },
  {
   "cell_type": "code",
   "execution_count": 1235,
   "metadata": {
    "execution": {
     "iopub.execute_input": "2024-06-01T21:28:55.969088Z",
     "iopub.status.busy": "2024-06-01T21:28:55.968091Z",
     "iopub.status.idle": "2024-06-01T21:28:55.994533Z",
     "shell.execute_reply": "2024-06-01T21:28:55.993536Z",
     "shell.execute_reply.started": "2024-06-01T21:28:55.969088Z"
    }
   },
   "outputs": [],
   "source": [
    "def get_rg_evolution(seq, geo_x, geo_y, max_len=50):\n",
    "    locs = seq - 2 # padding and seperator\n",
    "\n",
    "    xs = np.take(geo_x, locs)\n",
    "    ys = np.take(geo_y, locs)\n",
    "\n",
    "    current_rg = [0]\n",
    "    for i in range(1, len(xs)):\n",
    "\n",
    "        x_center = np.average(xs[:i])\n",
    "        y_center = np.average(ys[:i])\n",
    "\n",
    "        square_rg = np.average((xs[:i] - x_center) ** 2 + (ys[:i] - y_center) ** 2)\n",
    "\n",
    "        current_rg.append(np.sqrt(square_rg))\n",
    "    \n",
    "    current_rg = np.array(current_rg, dtype=float)\n",
    "    if len(current_rg) > max_len:\n",
    "        current_rg = current_rg[:max_len]\n",
    "    else:\n",
    "        current_rg = np.pad(current_rg, (0, max_len - len(current_rg)), constant_values=np.nan)\n",
    "            \n",
    "    return current_rg\n",
    "\n",
    "geo_x = all_locs[\"geometry\"].x.values\n",
    "geo_y = all_locs[\"geometry\"].y.values\n"
   ]
  },
  {
   "cell_type": "code",
   "execution_count": 1236,
   "metadata": {
    "execution": {
     "iopub.execute_input": "2024-06-01T21:28:56.125576Z",
     "iopub.status.busy": "2024-06-01T21:28:56.125576Z",
     "iopub.status.idle": "2024-06-01T21:29:05.393321Z",
     "shell.execute_reply": "2024-06-01T21:29:05.393321Z",
     "shell.execute_reply.started": "2024-06-01T21:28:56.125576Z"
    }
   },
   "outputs": [],
   "source": [
    "predict_rge = [_apply_parallel(p, get_rg_evolution, geo_x=geo_x, geo_y=geo_y, n=-1) for p in predict_ls]"
   ]
  },
  {
   "cell_type": "code",
   "execution_count": 1237,
   "metadata": {
    "execution": {
     "iopub.execute_input": "2024-06-01T21:29:05.395315Z",
     "iopub.status.busy": "2024-06-01T21:29:05.395315Z",
     "iopub.status.idle": "2024-06-01T21:29:17.803533Z",
     "shell.execute_reply": "2024-06-01T21:29:17.803533Z",
     "shell.execute_reply.started": "2024-06-01T21:29:05.395315Z"
    }
   },
   "outputs": [],
   "source": [
    "true_rge = _apply_parallel(true_ls, get_rg_evolution, geo_x=geo_x, geo_y=geo_y, n=-1)\n",
    "source_rge = _apply_parallel(src_ls, get_rg_evolution, geo_x=geo_x, geo_y=geo_y, n=-1)"
   ]
  },
  {
   "cell_type": "code",
   "execution_count": 301,
   "metadata": {
    "execution": {
     "iopub.execute_input": "2024-05-30T14:02:58.378094Z",
     "iopub.status.busy": "2024-05-30T14:02:58.378094Z",
     "iopub.status.idle": "2024-05-30T14:03:14.460264Z",
     "shell.execute_reply": "2024-05-30T14:03:14.460264Z",
     "shell.execute_reply.started": "2024-05-30T14:02:58.378094Z"
    }
   },
   "outputs": [],
   "source": [
    "epr_rge = _apply_parallel(epr_ls, get_rg_evolution, geo_x=geo_x, geo_y=geo_y, n=-1)\n",
    "\n",
    "markov_rge = _apply_parallel(markov_ls, get_rg_evolution, geo_x=geo_x, geo_y=geo_y, n=-1)\n",
    "\n",
    "ar_rge = _apply_parallel(ar_ls, get_rg_evolution, geo_x=geo_x, geo_y=geo_y, n=-1)\n",
    "\n",
    "gan_rge = _apply_parallel(gan_ls, get_rg_evolution, geo_x=geo_x, geo_y=geo_y, n=-1)"
   ]
  },
  {
   "cell_type": "code",
   "execution_count": 1238,
   "metadata": {
    "execution": {
     "iopub.execute_input": "2024-06-01T21:29:17.804468Z",
     "iopub.status.busy": "2024-06-01T21:29:17.804468Z",
     "iopub.status.idle": "2024-06-01T21:29:18.380378Z",
     "shell.execute_reply": "2024-06-01T21:29:18.379412Z",
     "shell.execute_reply.started": "2024-06-01T21:29:17.804468Z"
    }
   },
   "outputs": [
    {
     "data": {
      "image/png": "[encoded data removed]",
      "text/plain": [
       "<Figure size 800x300 with 1 Axes>"
      ]
     },
     "metadata": {},
     "output_type": "display_data"
    }
   ],
   "source": [
    "plt.figure(figsize=(8, 3))\n",
    "\n",
    "x = np.arange(1, 50)\n",
    "\n",
    "# plotting\n",
    "plt.plot(x, np.nanmedian(true_rge, axis = 0)[1:], color = colors[0], label=\"Data\")\n",
    "plt.plot(x, np.nanquantile(true_rge, q=0.25, axis=0)[1:], '--', color = colors[0], alpha=0.3)\n",
    "plt.plot(x, np.nanquantile(true_rge, q=0.75, axis=0)[1:], '--', color = colors[0], alpha=0.3)\n",
    "\n",
    "# plt.fill_between(x, np.nanquantile(true_rge, q=0.25, axis=0)[1:], np.nanquantile(true_rge, q=0.75, axis=0)[1:], color = colors[0], alpha=0.3)\n",
    "\n",
    "# plt.plot(source_rge, label=\"source\")\n",
    "\n",
    "for i, (pre, label) in enumerate(zip(predict_rge, diff_file_name)):\n",
    "    plt.plot(x, np.nanmedian(pre, axis=0)[1:], color = colors[i+1], label=label)\n",
    "    plt.plot(x, np.nanquantile(pre, q=0.25, axis=0)[1:], '--', color = colors[i+1], alpha=0.3)\n",
    "    plt.plot(x, np.nanquantile(pre, q=0.75, axis=0)[1:], '--', color = colors[i+1], alpha=0.3)\n",
    "\n",
    "    # plt.fill_between(x, np.nanquantile(pre, q=0.25, axis=0)[1:], np.nanquantile(pre, q=0.75, axis=0)[1:], color = colors[i+1], alpha=0.3)\n",
    "\n",
    "# plt.plot(x, np.nanmedian(ar_rge, axis = 0)[1:], color = colors[i+2], label=\"MHSA decode (Ours)\")\n",
    "\n",
    "# plt.plot(x, np.nanmedian(markov_rge, axis = 0)[1:], label=\"Markov\", alpha=0.5)\n",
    "# plt.plot(x, np.nanmedian(gan_rge, axis = 0)[1:], label=\"MovSim\", alpha=0.5)\n",
    "# plt.plot(x, np.nanmedian(epr_rge, axis = 0)[1:], label=\"EPR\", alpha=0.5)\n",
    "\n",
    "plt.xlabel(\"number of displacements\", fontsize=16)\n",
    "plt.ylabel(\"radius of gyration (m)\", fontsize=16)\n",
    "plt.legend(prop={\"size\": 13})\n",
    "\n",
    "# plt.savefig(r'.\\metrics\\figures\\rg_evolution.png', bbox_inches='tight', dpi=600)\n",
    "plt.show()"
   ]
  },
  {
   "cell_type": "markdown",
   "metadata": {},
   "source": [
    "# Testing distribution"
   ]
  },
  {
   "cell_type": "code",
   "execution_count": 182,
   "metadata": {
    "execution": {
     "iopub.execute_input": "2024-04-17T09:12:57.215239Z",
     "iopub.status.busy": "2024-04-17T09:12:57.214242Z",
     "iopub.status.idle": "2024-04-17T09:13:12.267402Z",
     "shell.execute_reply": "2024-04-17T09:13:12.267402Z",
     "shell.execute_reply.started": "2024-04-17T09:12:57.215239Z"
    }
   },
   "outputs": [
    {
     "name": "stdout",
     "output_type": "stream",
     "text": [
      "Max loc id 14882, min loc id 2, unique loc id:14881\n"
     ]
    }
   ],
   "source": [
    "from utils.utils import load_data, _split_dataset\n",
    "\n",
    "def get_train_test(sp, all_locs=None):\n",
    "    sp.sort_values(by=[\"user_id\", \"start_day\", \"start_min\"], inplace=True)\n",
    "    sp.drop(columns={\"started_at\", \"finished_at\"}, inplace=True)\n",
    "    sp[\"idx\"] = sp.groupby(\"user_id\").cumcount().add(1)\n",
    "\n",
    "    # encoder user, 0 reserved for padding\n",
    "    enc = OrdinalEncoder(dtype=np.int64)\n",
    "    sp[\"user_id\"] = enc.fit_transform(sp[\"user_id\"].values.reshape(-1, 1)) + 1\n",
    "\n",
    "    # split the datasets, user dependent 0.6, 0.2, 0.2\n",
    "    train_data, vali_data, test_data = _split_dataset(sp)\n",
    "\n",
    "    # encode unseen locations in validation and test into 0\n",
    "    enc = OrdinalEncoder(dtype=np.int64, handle_unknown=\"use_encoded_value\", unknown_value=-1).fit(\n",
    "        all_locs[\"loc_id\"].values.reshape(-1, 1)\n",
    "    )\n",
    "    # add 1 to account for 0 padding\n",
    "    all_locs[\"loc_id\"] = enc.transform(all_locs[\"loc_id\"].values.reshape(-1, 1)) + 2\n",
    "\n",
    "    train_data[\"location_id\"] = enc.transform(train_data[\"location_id\"].values.reshape(-1, 1)) + 2\n",
    "    vali_data[\"location_id\"] = enc.transform(vali_data[\"location_id\"].values.reshape(-1, 1)) + 2\n",
    "    test_data[\"location_id\"] = enc.transform(test_data[\"location_id\"].values.reshape(-1, 1)) + 2\n",
    "\n",
    "    return train_data, vali_data, test_data, all_locs\n",
    "\n",
    "def get_data_for_mechanistic(type):\n",
    "    sp = pd.read_csv(os.path.join(f\"./data/sp_{type}.csv\"), index_col=\"id\")\n",
    "    loc = pd.read_csv(os.path.join(\"./data/loc_s2_level10_13.csv\"), index_col=\"id\")\n",
    "\n",
    "    sp = load_data(sp, loc)\n",
    "\n",
    "    # get all possible locations\n",
    "    all_locs = pd.read_csv(\"./data/s2_loc_visited_level10_13.csv\", index_col=\"id\")\n",
    "    all_locs[\"geometry\"] = all_locs[\"geometry\"].apply(wkt.loads)\n",
    "    all_locs = gpd.GeoDataFrame(all_locs, geometry=\"geometry\", crs=\"EPSG:4326\")\n",
    "    # transform to projected coordinate systems\n",
    "    all_locs = all_locs.to_crs(\"EPSG:2056\")\n",
    "\n",
    "    train_data, vali_data, test_data, all_locs = get_train_test(sp, all_locs=all_locs)\n",
    "    print(\n",
    "        f\"Max loc id {all_locs.loc_id.max()}, min loc id {all_locs.loc_id.min()}, unique loc id:{all_locs.loc_id.unique().shape[0]}\"\n",
    "    )\n",
    "\n",
    "    return train_data, vali_data, test_data, all_locs\n",
    "\n",
    "train_df, vali_df, test_df, all_locs_df = get_data_for_mechanistic(type=\"all\")"
   ]
  },
  {
   "cell_type": "code",
   "execution_count": 186,
   "metadata": {
    "execution": {
     "iopub.execute_input": "2024-04-17T09:15:18.373632Z",
     "iopub.status.busy": "2024-04-17T09:15:18.373632Z",
     "iopub.status.idle": "2024-04-17T09:15:33.013036Z",
     "shell.execute_reply": "2024-04-17T09:15:33.013036Z",
     "shell.execute_reply.started": "2024-04-17T09:15:18.373632Z"
    }
   },
   "outputs": [],
   "source": [
    "from sklearn.linear_model import LinearRegression\n",
    "def get_parameter_estimate(df):\n",
    "    df.sort_values(by=[\"start_day\", \"start_min\"], inplace=True)\n",
    "\n",
    "    loc = df[\"location_id\"].values\n",
    "\n",
    "    unique_count_ls = []\n",
    "    for i in range(loc.shape[0]):\n",
    "        unique_count_ls.append(len(np.unique(loc[: i + 1])))\n",
    "\n",
    "    # big S\n",
    "    unique_count_arr = np.array(unique_count_ls)\n",
    "\n",
    "    # small n\n",
    "    steps = np.arange(unique_count_arr.shape[0]) + 1\n",
    "\n",
    "    logy = np.log(unique_count_arr)\n",
    "    logx = np.log(steps)\n",
    "    # print(logy, logx)\n",
    "    reg = LinearRegression().fit(logx.reshape(-1, 1), logy)\n",
    "\n",
    "    r = 1 / reg.coef_ - 1\n",
    "    p = np.exp((reg.intercept_ - np.log(1 + r)) * (1 + r))\n",
    "\n",
    "    return pd.Series([r[0], p[0]], index=[\"r\", \"p\"])\n",
    "\n",
    "train_vali_data = pd.concat([train_df, vali_df])\n",
    "param_estimate = train_vali_data.groupby(\"user_id\").apply(get_parameter_estimate)"
   ]
  },
  {
   "cell_type": "code",
   "execution_count": 189,
   "metadata": {
    "execution": {
     "iopub.execute_input": "2024-04-17T09:16:06.590642Z",
     "iopub.status.busy": "2024-04-17T09:16:06.589646Z",
     "iopub.status.idle": "2024-04-17T09:16:06.609383Z",
     "shell.execute_reply": "2024-04-17T09:16:06.609383Z",
     "shell.execute_reply.started": "2024-04-17T09:16:06.590642Z"
    }
   },
   "outputs": [
    {
     "data": {
      "text/plain": [
       "((0.631684130639635, 0.3078206120000065),\n",
       " (0.5256114632862874, 0.27405772148554913))"
      ]
     },
     "execution_count": 189,
     "metadata": {},
     "output_type": "execute_result"
    }
   ],
   "source": [
    "from scipy.stats import norm\n",
    "norm.fit(param_estimate.r), norm.fit(param_estimate.p)"
   ]
  },
  {
   "cell_type": "code",
   "execution_count": 190,
   "metadata": {
    "execution": {
     "iopub.execute_input": "2024-04-17T09:17:29.996405Z",
     "iopub.status.busy": "2024-04-17T09:17:29.996405Z",
     "iopub.status.idle": "2024-04-17T09:17:30.007376Z",
     "shell.execute_reply": "2024-04-17T09:17:30.006380Z",
     "shell.execute_reply.started": "2024-04-17T09:17:29.996405Z"
    }
   },
   "outputs": [],
   "source": [
    "param_estimate = param_estimate.loc[param_estimate[\"p\"]<1]"
   ]
  },
  {
   "cell_type": "code",
   "execution_count": 192,
   "metadata": {
    "execution": {
     "iopub.execute_input": "2024-04-17T09:17:38.206161Z",
     "iopub.status.busy": "2024-04-17T09:17:38.206161Z",
     "iopub.status.idle": "2024-04-17T09:17:38.515396Z",
     "shell.execute_reply": "2024-04-17T09:17:38.515396Z",
     "shell.execute_reply.started": "2024-04-17T09:17:38.206161Z"
    }
   },
   "outputs": [
    {
     "data": {
      "text/plain": [
       "array([[<Axes: title={'center': 'r'}>, <Axes: title={'center': 'p'}>]],\n",
       "      dtype=object)"
      ]
     },
     "execution_count": 192,
     "metadata": {},
     "output_type": "execute_result"
    },
    {
     "data": {
      "image/png": "[encoded data removed]",
      "text/plain": [
       "<Figure size 640x480 with 2 Axes>"
      ]
     },
     "metadata": {},
     "output_type": "display_data"
    }
   ],
   "source": [
    "param_estimate.hist()"
   ]
  },
  {
   "cell_type": "code",
   "execution_count": 193,
   "metadata": {
    "execution": {
     "iopub.execute_input": "2024-04-17T09:18:42.764764Z",
     "iopub.status.busy": "2024-04-17T09:18:42.764764Z",
     "iopub.status.idle": "2024-04-17T09:18:42.773253Z",
     "shell.execute_reply": "2024-04-17T09:18:42.773253Z",
     "shell.execute_reply.started": "2024-04-17T09:18:42.764764Z"
    }
   },
   "outputs": [
    {
     "data": {
      "text/plain": [
       "((0.6217721474035965, 0.3032468230238075),\n",
       " (0.4943456871979018, 0.20562538359456128))"
      ]
     },
     "execution_count": 193,
     "metadata": {},
     "output_type": "execute_result"
    }
   ],
   "source": [
    "norm.fit(param_estimate.r), norm.fit(param_estimate.p)"
   ]
  },
  {
   "cell_type": "code",
   "execution_count": 306,
   "metadata": {
    "execution": {
     "iopub.execute_input": "2024-04-17T12:56:41.283473Z",
     "iopub.status.busy": "2024-04-17T12:56:41.283473Z",
     "iopub.status.idle": "2024-04-17T12:56:45.174311Z",
     "shell.execute_reply": "2024-04-17T12:56:45.174311Z",
     "shell.execute_reply.started": "2024-04-17T12:56:41.283473Z"
    }
   },
   "outputs": [
    {
     "name": "stdout",
     "output_type": "stream",
     "text": [
      "Lognormal: parameter1: 0.9748\t parameter2: 1.4316\n"
     ]
    }
   ],
   "source": [
    "duration_hour = train_vali_data[\"act_duration\"].values / 60\n",
    "duration_hour = duration_hour[duration_hour > 0.1]\n",
    "\n",
    "fit = powerlaw.Fit(duration_hour, xmin=0.1, xmin_distribution=\"lognormal\")\n",
    "# print(\"AIC criteria for wait time:\", getAIC(fit, duration_hour))\n",
    "print(f\"Lognormal: parameter1: {fit.lognormal.parameter1:.4f}\\t parameter2: {fit.lognormal.parameter2:.4f}\")\n",
    "# print(\n",
    "#     f\"Truncated power law: parameter1: {fit.truncated_power_law.parameter1:.2f}\\t parameter2: {fit.truncated_power_law.parameter2:.2f}\"\n",
    "# )\n",
    "# print(f\"Power law: alpha: {fit.power_law.alpha:.2f}\")\n"
   ]
  },
  {
   "cell_type": "code",
   "execution_count": 311,
   "metadata": {
    "execution": {
     "iopub.execute_input": "2024-04-17T12:57:26.206760Z",
     "iopub.status.busy": "2024-04-17T12:57:26.206760Z",
     "iopub.status.idle": "2024-04-17T12:57:26.220986Z",
     "shell.execute_reply": "2024-04-17T12:57:26.220986Z",
     "shell.execute_reply.started": "2024-04-17T12:57:26.206760Z"
    }
   },
   "outputs": [
    {
     "data": {
      "text/plain": [
       "2013.6666666666667"
      ]
     },
     "execution_count": 311,
     "metadata": {},
     "output_type": "execute_result"
    }
   ],
   "source": [
    "duration_hour.max()"
   ]
  },
  {
   "cell_type": "code",
   "execution_count": 312,
   "metadata": {
    "execution": {
     "iopub.execute_input": "2024-04-17T12:57:41.560627Z",
     "iopub.status.busy": "2024-04-17T12:57:41.559630Z",
     "iopub.status.idle": "2024-04-17T12:57:41.719594Z",
     "shell.execute_reply": "2024-04-17T12:57:41.719594Z",
     "shell.execute_reply.started": "2024-04-17T12:57:41.560627Z"
    }
   },
   "outputs": [
    {
     "data": {
      "text/plain": [
       "(-304319.6466017017, 0.0)"
      ]
     },
     "execution_count": 312,
     "metadata": {},
     "output_type": "execute_result"
    }
   ],
   "source": [
    "fit.distribution_compare('power_law', 'exponential')"
   ]
  },
  {
   "cell_type": "code",
   "execution_count": 198,
   "metadata": {
    "execution": {
     "iopub.execute_input": "2024-04-17T09:23:05.477675Z",
     "iopub.status.busy": "2024-04-17T09:23:05.477675Z",
     "iopub.status.idle": "2024-04-17T09:23:06.133209Z",
     "shell.execute_reply": "2024-04-17T09:23:06.133209Z",
     "shell.execute_reply.started": "2024-04-17T09:23:05.477675Z"
    }
   },
   "outputs": [
    {
     "data": {
      "image/png": "[encoded data removed]",
      "text/plain": [
       "<Figure size 800x500 with 1 Axes>"
      ]
     },
     "metadata": {},
     "output_type": "display_data"
    }
   ],
   "source": [
    "plt.figure(figsize=(8,5))\n",
    "\n",
    "powerlaw.plot_pdf(duration_hour)\n",
    "\n",
    "fit.power_law.plot_pdf(linestyle = '--', label='powerlaw fit')\n",
    "# fit.truncated_power_law.plot_pdf(linestyle = '--', label='truncated power law')\n",
    "fit.lognormal.plot_pdf(linestyle = '--', label='lognormal fit')\n",
    "\n",
    "plt.legend(prop={'size': 13}, ncol=2)\n",
    "\n",
    "plt.show()"
   ]
  },
  {
   "cell_type": "code",
   "execution_count": 313,
   "metadata": {
    "collapsed": true,
    "execution": {
     "iopub.execute_input": "2024-04-17T12:58:56.802372Z",
     "iopub.status.busy": "2024-04-17T12:58:56.802372Z",
     "iopub.status.idle": "2024-04-17T12:58:56.889652Z",
     "shell.execute_reply": "2024-04-17T12:58:56.888654Z",
     "shell.execute_reply.started": "2024-04-17T12:58:56.802372Z"
    },
    "jupyter": {
     "outputs_hidden": true
    }
   },
   "outputs": [
    {
     "ename": "TypeError",
     "evalue": "Expected bytes or string, got Point",
     "output_type": "error",
     "traceback": [
      "\u001b[1;31m---------------------------------------------------------------------------\u001b[0m",
      "\u001b[1;31mTypeError\u001b[0m                                 Traceback (most recent call last)",
      "Cell \u001b[1;32mIn[313], line 1\u001b[0m\n\u001b[1;32m----> 1\u001b[0m train_vali_data[\u001b[38;5;124m\"\u001b[39m\u001b[38;5;124mgeometry\u001b[39m\u001b[38;5;124m\"\u001b[39m] \u001b[38;5;241m=\u001b[39m \u001b[43mtrain_vali_data\u001b[49m\u001b[43m[\u001b[49m\u001b[38;5;124;43m\"\u001b[39;49m\u001b[38;5;124;43mgeometry\u001b[39;49m\u001b[38;5;124;43m\"\u001b[39;49m\u001b[43m]\u001b[49m\u001b[38;5;241;43m.\u001b[39;49m\u001b[43mapply\u001b[49m\u001b[43m(\u001b[49m\u001b[43mwkt\u001b[49m\u001b[38;5;241;43m.\u001b[39;49m\u001b[43mloads\u001b[49m\u001b[43m)\u001b[49m\n",
      "File \u001b[1;32mC:\\ProgramData\\Anaconda3\\envs\\generation\\lib\\site-packages\\pandas\\core\\series.py:4757\u001b[0m, in \u001b[0;36mSeries.apply\u001b[1;34m(self, func, convert_dtype, args, by_row, **kwargs)\u001b[0m\n\u001b[0;32m   4629\u001b[0m \u001b[38;5;28;01mdef\u001b[39;00m \u001b[38;5;21mapply\u001b[39m(\n\u001b[0;32m   4630\u001b[0m     \u001b[38;5;28mself\u001b[39m,\n\u001b[0;32m   4631\u001b[0m     func: AggFuncType,\n\u001b[1;32m   (...)\u001b[0m\n\u001b[0;32m   4636\u001b[0m     \u001b[38;5;241m*\u001b[39m\u001b[38;5;241m*\u001b[39mkwargs,\n\u001b[0;32m   4637\u001b[0m ) \u001b[38;5;241m-\u001b[39m\u001b[38;5;241m>\u001b[39m DataFrame \u001b[38;5;241m|\u001b[39m Series:\n\u001b[0;32m   4638\u001b[0m \u001b[38;5;250m    \u001b[39m\u001b[38;5;124;03m\"\"\"\u001b[39;00m\n\u001b[0;32m   4639\u001b[0m \u001b[38;5;124;03m    Invoke function on values of Series.\u001b[39;00m\n\u001b[0;32m   4640\u001b[0m \n\u001b[1;32m   (...)\u001b[0m\n\u001b[0;32m   4755\u001b[0m \u001b[38;5;124;03m    dtype: float64\u001b[39;00m\n\u001b[0;32m   4756\u001b[0m \u001b[38;5;124;03m    \"\"\"\u001b[39;00m\n\u001b[1;32m-> 4757\u001b[0m     \u001b[38;5;28;01mreturn\u001b[39;00m \u001b[43mSeriesApply\u001b[49m\u001b[43m(\u001b[49m\n\u001b[0;32m   4758\u001b[0m \u001b[43m        \u001b[49m\u001b[38;5;28;43mself\u001b[39;49m\u001b[43m,\u001b[49m\n\u001b[0;32m   4759\u001b[0m \u001b[43m        \u001b[49m\u001b[43mfunc\u001b[49m\u001b[43m,\u001b[49m\n\u001b[0;32m   4760\u001b[0m \u001b[43m        \u001b[49m\u001b[43mconvert_dtype\u001b[49m\u001b[38;5;241;43m=\u001b[39;49m\u001b[43mconvert_dtype\u001b[49m\u001b[43m,\u001b[49m\n\u001b[0;32m   4761\u001b[0m \u001b[43m        \u001b[49m\u001b[43mby_row\u001b[49m\u001b[38;5;241;43m=\u001b[39;49m\u001b[43mby_row\u001b[49m\u001b[43m,\u001b[49m\n\u001b[0;32m   4762\u001b[0m \u001b[43m        \u001b[49m\u001b[43margs\u001b[49m\u001b[38;5;241;43m=\u001b[39;49m\u001b[43margs\u001b[49m\u001b[43m,\u001b[49m\n\u001b[0;32m   4763\u001b[0m \u001b[43m        \u001b[49m\u001b[43mkwargs\u001b[49m\u001b[38;5;241;43m=\u001b[39;49m\u001b[43mkwargs\u001b[49m\u001b[43m,\u001b[49m\n\u001b[0;32m   4764\u001b[0m \u001b[43m    \u001b[49m\u001b[43m)\u001b[49m\u001b[38;5;241;43m.\u001b[39;49m\u001b[43mapply\u001b[49m\u001b[43m(\u001b[49m\u001b[43m)\u001b[49m\n",
      "File \u001b[1;32mC:\\ProgramData\\Anaconda3\\envs\\generation\\lib\\site-packages\\pandas\\core\\apply.py:1209\u001b[0m, in \u001b[0;36mSeriesApply.apply\u001b[1;34m(self)\u001b[0m\n\u001b[0;32m   1206\u001b[0m     \u001b[38;5;28;01mreturn\u001b[39;00m \u001b[38;5;28mself\u001b[39m\u001b[38;5;241m.\u001b[39mapply_compat()\n\u001b[0;32m   1208\u001b[0m \u001b[38;5;66;03m# self.func is Callable\u001b[39;00m\n\u001b[1;32m-> 1209\u001b[0m \u001b[38;5;28;01mreturn\u001b[39;00m \u001b[38;5;28;43mself\u001b[39;49m\u001b[38;5;241;43m.\u001b[39;49m\u001b[43mapply_standard\u001b[49m\u001b[43m(\u001b[49m\u001b[43m)\u001b[49m\n",
      "File \u001b[1;32mC:\\ProgramData\\Anaconda3\\envs\\generation\\lib\\site-packages\\pandas\\core\\apply.py:1289\u001b[0m, in \u001b[0;36mSeriesApply.apply_standard\u001b[1;34m(self)\u001b[0m\n\u001b[0;32m   1283\u001b[0m \u001b[38;5;66;03m# row-wise access\u001b[39;00m\n\u001b[0;32m   1284\u001b[0m \u001b[38;5;66;03m# apply doesn't have a `na_action` keyword and for backward compat reasons\u001b[39;00m\n\u001b[0;32m   1285\u001b[0m \u001b[38;5;66;03m# we need to give `na_action=\"ignore\"` for categorical data.\u001b[39;00m\n\u001b[0;32m   1286\u001b[0m \u001b[38;5;66;03m# TODO: remove the `na_action=\"ignore\"` when that default has been changed in\u001b[39;00m\n\u001b[0;32m   1287\u001b[0m \u001b[38;5;66;03m#  Categorical (GH51645).\u001b[39;00m\n\u001b[0;32m   1288\u001b[0m action \u001b[38;5;241m=\u001b[39m \u001b[38;5;124m\"\u001b[39m\u001b[38;5;124mignore\u001b[39m\u001b[38;5;124m\"\u001b[39m \u001b[38;5;28;01mif\u001b[39;00m \u001b[38;5;28misinstance\u001b[39m(obj\u001b[38;5;241m.\u001b[39mdtype, CategoricalDtype) \u001b[38;5;28;01melse\u001b[39;00m \u001b[38;5;28;01mNone\u001b[39;00m\n\u001b[1;32m-> 1289\u001b[0m mapped \u001b[38;5;241m=\u001b[39m \u001b[43mobj\u001b[49m\u001b[38;5;241;43m.\u001b[39;49m\u001b[43m_map_values\u001b[49m\u001b[43m(\u001b[49m\n\u001b[0;32m   1290\u001b[0m \u001b[43m    \u001b[49m\u001b[43mmapper\u001b[49m\u001b[38;5;241;43m=\u001b[39;49m\u001b[43mcurried\u001b[49m\u001b[43m,\u001b[49m\u001b[43m \u001b[49m\u001b[43mna_action\u001b[49m\u001b[38;5;241;43m=\u001b[39;49m\u001b[43maction\u001b[49m\u001b[43m,\u001b[49m\u001b[43m \u001b[49m\u001b[43mconvert\u001b[49m\u001b[38;5;241;43m=\u001b[39;49m\u001b[38;5;28;43mself\u001b[39;49m\u001b[38;5;241;43m.\u001b[39;49m\u001b[43mconvert_dtype\u001b[49m\n\u001b[0;32m   1291\u001b[0m \u001b[43m\u001b[49m\u001b[43m)\u001b[49m\n\u001b[0;32m   1293\u001b[0m \u001b[38;5;28;01mif\u001b[39;00m \u001b[38;5;28mlen\u001b[39m(mapped) \u001b[38;5;129;01mand\u001b[39;00m \u001b[38;5;28misinstance\u001b[39m(mapped[\u001b[38;5;241m0\u001b[39m], ABCSeries):\n\u001b[0;32m   1294\u001b[0m     \u001b[38;5;66;03m# GH#43986 Need to do list(mapped) in order to get treated as nested\u001b[39;00m\n\u001b[0;32m   1295\u001b[0m     \u001b[38;5;66;03m#  See also GH#25959 regarding EA support\u001b[39;00m\n\u001b[0;32m   1296\u001b[0m     \u001b[38;5;28;01mreturn\u001b[39;00m obj\u001b[38;5;241m.\u001b[39m_constructor_expanddim(\u001b[38;5;28mlist\u001b[39m(mapped), index\u001b[38;5;241m=\u001b[39mobj\u001b[38;5;241m.\u001b[39mindex)\n",
      "File \u001b[1;32mC:\\ProgramData\\Anaconda3\\envs\\generation\\lib\\site-packages\\pandas\\core\\base.py:921\u001b[0m, in \u001b[0;36mIndexOpsMixin._map_values\u001b[1;34m(self, mapper, na_action, convert)\u001b[0m\n\u001b[0;32m    918\u001b[0m \u001b[38;5;28;01mif\u001b[39;00m \u001b[38;5;28misinstance\u001b[39m(arr, ExtensionArray):\n\u001b[0;32m    919\u001b[0m     \u001b[38;5;28;01mreturn\u001b[39;00m arr\u001b[38;5;241m.\u001b[39mmap(mapper, na_action\u001b[38;5;241m=\u001b[39mna_action)\n\u001b[1;32m--> 921\u001b[0m \u001b[38;5;28;01mreturn\u001b[39;00m \u001b[43malgorithms\u001b[49m\u001b[38;5;241;43m.\u001b[39;49m\u001b[43mmap_array\u001b[49m\u001b[43m(\u001b[49m\u001b[43marr\u001b[49m\u001b[43m,\u001b[49m\u001b[43m \u001b[49m\u001b[43mmapper\u001b[49m\u001b[43m,\u001b[49m\u001b[43m \u001b[49m\u001b[43mna_action\u001b[49m\u001b[38;5;241;43m=\u001b[39;49m\u001b[43mna_action\u001b[49m\u001b[43m,\u001b[49m\u001b[43m \u001b[49m\u001b[43mconvert\u001b[49m\u001b[38;5;241;43m=\u001b[39;49m\u001b[43mconvert\u001b[49m\u001b[43m)\u001b[49m\n",
      "File \u001b[1;32mC:\\ProgramData\\Anaconda3\\envs\\generation\\lib\\site-packages\\pandas\\core\\algorithms.py:1814\u001b[0m, in \u001b[0;36mmap_array\u001b[1;34m(arr, mapper, na_action, convert)\u001b[0m\n\u001b[0;32m   1812\u001b[0m values \u001b[38;5;241m=\u001b[39m arr\u001b[38;5;241m.\u001b[39mastype(\u001b[38;5;28mobject\u001b[39m, copy\u001b[38;5;241m=\u001b[39m\u001b[38;5;28;01mFalse\u001b[39;00m)\n\u001b[0;32m   1813\u001b[0m \u001b[38;5;28;01mif\u001b[39;00m na_action \u001b[38;5;129;01mis\u001b[39;00m \u001b[38;5;28;01mNone\u001b[39;00m:\n\u001b[1;32m-> 1814\u001b[0m     \u001b[38;5;28;01mreturn\u001b[39;00m \u001b[43mlib\u001b[49m\u001b[38;5;241;43m.\u001b[39;49m\u001b[43mmap_infer\u001b[49m\u001b[43m(\u001b[49m\u001b[43mvalues\u001b[49m\u001b[43m,\u001b[49m\u001b[43m \u001b[49m\u001b[43mmapper\u001b[49m\u001b[43m,\u001b[49m\u001b[43m \u001b[49m\u001b[43mconvert\u001b[49m\u001b[38;5;241;43m=\u001b[39;49m\u001b[43mconvert\u001b[49m\u001b[43m)\u001b[49m\n\u001b[0;32m   1815\u001b[0m \u001b[38;5;28;01melse\u001b[39;00m:\n\u001b[0;32m   1816\u001b[0m     \u001b[38;5;28;01mreturn\u001b[39;00m lib\u001b[38;5;241m.\u001b[39mmap_infer_mask(\n\u001b[0;32m   1817\u001b[0m         values, mapper, mask\u001b[38;5;241m=\u001b[39misna(values)\u001b[38;5;241m.\u001b[39mview(np\u001b[38;5;241m.\u001b[39muint8), convert\u001b[38;5;241m=\u001b[39mconvert\n\u001b[0;32m   1818\u001b[0m     )\n",
      "File \u001b[1;32mlib.pyx:2926\u001b[0m, in \u001b[0;36mpandas._libs.lib.map_infer\u001b[1;34m()\u001b[0m\n",
      "File \u001b[1;32mC:\\ProgramData\\Anaconda3\\envs\\generation\\lib\\site-packages\\shapely\\wkt.py:22\u001b[0m, in \u001b[0;36mloads\u001b[1;34m(data)\u001b[0m\n\u001b[0;32m      9\u001b[0m \u001b[38;5;28;01mdef\u001b[39;00m \u001b[38;5;21mloads\u001b[39m(data):\n\u001b[0;32m     10\u001b[0m \u001b[38;5;250m    \u001b[39m\u001b[38;5;124;03m\"\"\"\u001b[39;00m\n\u001b[0;32m     11\u001b[0m \u001b[38;5;124;03m    Load a geometry from a WKT string.\u001b[39;00m\n\u001b[0;32m     12\u001b[0m \n\u001b[1;32m   (...)\u001b[0m\n\u001b[0;32m     20\u001b[0m \u001b[38;5;124;03m    Shapely geometry object\u001b[39;00m\n\u001b[0;32m     21\u001b[0m \u001b[38;5;124;03m    \"\"\"\u001b[39;00m\n\u001b[1;32m---> 22\u001b[0m     \u001b[38;5;28;01mreturn\u001b[39;00m \u001b[43mshapely\u001b[49m\u001b[38;5;241;43m.\u001b[39;49m\u001b[43mfrom_wkt\u001b[49m\u001b[43m(\u001b[49m\u001b[43mdata\u001b[49m\u001b[43m)\u001b[49m\n",
      "File \u001b[1;32mC:\\ProgramData\\Anaconda3\\envs\\generation\\lib\\site-packages\\shapely\\io.py:282\u001b[0m, in \u001b[0;36mfrom_wkt\u001b[1;34m(geometry, on_invalid, **kwargs)\u001b[0m\n\u001b[0;32m    278\u001b[0m     \u001b[38;5;28;01mraise\u001b[39;00m \u001b[38;5;167;01mTypeError\u001b[39;00m(\u001b[38;5;124m\"\u001b[39m\u001b[38;5;124mon_invalid only accepts scalar values\u001b[39m\u001b[38;5;124m\"\u001b[39m)\n\u001b[0;32m    280\u001b[0m invalid_handler \u001b[38;5;241m=\u001b[39m np\u001b[38;5;241m.\u001b[39muint8(DecodingErrorOptions\u001b[38;5;241m.\u001b[39mget_value(on_invalid))\n\u001b[1;32m--> 282\u001b[0m \u001b[38;5;28;01mreturn\u001b[39;00m lib\u001b[38;5;241m.\u001b[39mfrom_wkt(geometry, invalid_handler, \u001b[38;5;241m*\u001b[39m\u001b[38;5;241m*\u001b[39mkwargs)\n",
      "\u001b[1;31mTypeError\u001b[0m: Expected bytes or string, got Point"
     ]
    }
   ],
   "source": [
    "train_vali_data[\"geometry\"] = train_vali_data[\"geometry\"].apply(wkt.loads)"
   ]
  },
  {
   "cell_type": "code",
   "execution_count": 314,
   "metadata": {
    "execution": {
     "iopub.execute_input": "2024-04-17T12:59:00.966906Z",
     "iopub.status.busy": "2024-04-17T12:59:00.966906Z",
     "iopub.status.idle": "2024-04-17T12:59:37.279706Z",
     "shell.execute_reply": "2024-04-17T12:59:37.278711Z",
     "shell.execute_reply.started": "2024-04-17T12:59:00.966906Z"
    }
   },
   "outputs": [],
   "source": [
    "from trackintel.geogr import point_haversine_dist\n",
    "def get_jump_length(gdf):\n",
    "    geom_arr = gdf.geometry.values\n",
    "\n",
    "    res_ls = []\n",
    "    for i in range(1, len(geom_arr)):\n",
    "        res_ls.append(point_haversine_dist(geom_arr[i - 1].x, geom_arr[i - 1].y, geom_arr[i].x, geom_arr[i].y)[0])\n",
    "    return res_ls\n",
    "\n",
    "\n",
    "jump_length = gpd.GeoDataFrame(train_vali_data, geometry=\"geometry\").groupby(\"user_id\").apply(get_jump_length)\n"
   ]
  },
  {
   "cell_type": "code",
   "execution_count": 315,
   "metadata": {
    "execution": {
     "iopub.execute_input": "2024-04-17T12:59:37.280704Z",
     "iopub.status.busy": "2024-04-17T12:59:37.280704Z",
     "iopub.status.idle": "2024-04-17T12:59:37.294632Z",
     "shell.execute_reply": "2024-04-17T12:59:37.294632Z",
     "shell.execute_reply.started": "2024-04-17T12:59:37.280704Z"
    }
   },
   "outputs": [
    {
     "data": {
      "text/plain": [
       "user_id\n",
       "1       [281.4220762892863, 1646.0597839192035, 2.5153...\n",
       "2       [155.18895767606526, 221.79356387054705, 26330...\n",
       "3       [1209.6737790118673, 240.78123913861543, 1334....\n",
       "4       [123843.69073783064, 10414.004688691146, 1195....\n",
       "5       [8.588890376360753, 55879.11369479354, 1605.63...\n",
       "                              ...                        \n",
       "2108    [228.16955784604625, 222.54524713864237, 50848...\n",
       "2109    [4.1009411544915535, 62234.457307382705, 31556...\n",
       "2110    [2.258582367933473, 2.0777604465263058, 1365.7...\n",
       "2111    [497.91750127566246, 3433.3350937983655, 3425....\n",
       "2112    [431.8709694992403, 275.23958168598085, 577.94...\n",
       "Length: 2112, dtype: object"
      ]
     },
     "execution_count": 315,
     "metadata": {},
     "output_type": "execute_result"
    }
   ],
   "source": [
    "jump_length"
   ]
  },
  {
   "cell_type": "code",
   "execution_count": 316,
   "metadata": {
    "execution": {
     "iopub.execute_input": "2024-04-17T12:59:40.252820Z",
     "iopub.status.busy": "2024-04-17T12:59:40.252820Z",
     "iopub.status.idle": "2024-04-17T12:59:40.326169Z",
     "shell.execute_reply": "2024-04-17T12:59:40.326169Z",
     "shell.execute_reply.started": "2024-04-17T12:59:40.252820Z"
    }
   },
   "outputs": [],
   "source": [
    "flat_jump_length = np.array([item for sublist in jump_length.to_list() for item in sublist])\n",
    "flat_jump_length = flat_jump_length[flat_jump_length > 20]"
   ]
  },
  {
   "cell_type": "code",
   "execution_count": 317,
   "metadata": {
    "execution": {
     "iopub.execute_input": "2024-04-17T12:59:42.045519Z",
     "iopub.status.busy": "2024-04-17T12:59:42.044521Z",
     "iopub.status.idle": "2024-04-17T12:59:45.741893Z",
     "shell.execute_reply": "2024-04-17T12:59:45.741893Z",
     "shell.execute_reply.started": "2024-04-17T12:59:42.045519Z"
    }
   },
   "outputs": [
    {
     "name": "stdout",
     "output_type": "stream",
     "text": [
      "Lognormal: parameter1: 7.4534\t parameter2: 2.0797\n"
     ]
    }
   ],
   "source": [
    "fit = powerlaw.Fit(flat_jump_length, xmin=20, xmin_distribution='lognormal')\n",
    "print(f\"Lognormal: parameter1: {fit.lognormal.parameter1:.4f}\\t parameter2: {fit.lognormal.parameter2:.4f}\")"
   ]
  },
  {
   "cell_type": "code",
   "execution_count": 321,
   "metadata": {
    "execution": {
     "iopub.execute_input": "2024-04-17T13:03:36.559444Z",
     "iopub.status.busy": "2024-04-17T13:03:36.558447Z",
     "iopub.status.idle": "2024-04-17T13:07:28.260775Z",
     "shell.execute_reply": "2024-04-17T13:07:28.259511Z",
     "shell.execute_reply.started": "2024-04-17T13:03:36.559444Z"
    }
   },
   "outputs": [
    {
     "name": "stderr",
     "output_type": "stream",
     "text": [
      "Assuming nested distributions\n"
     ]
    },
    {
     "data": {
      "text/plain": [
       "(283658.73046166607, 0.0)"
      ]
     },
     "execution_count": 321,
     "metadata": {},
     "output_type": "execute_result"
    }
   ],
   "source": [
    "fit.distribution_compare('truncated_power_law', 'power_law')"
   ]
  },
  {
   "cell_type": "code",
   "execution_count": 206,
   "metadata": {
    "execution": {
     "iopub.execute_input": "2024-04-17T09:26:34.797687Z",
     "iopub.status.busy": "2024-04-17T09:26:34.797687Z",
     "iopub.status.idle": "2024-04-17T09:26:36.193404Z",
     "shell.execute_reply": "2024-04-17T09:26:36.193404Z",
     "shell.execute_reply.started": "2024-04-17T09:26:34.797687Z"
    }
   },
   "outputs": [
    {
     "data": {
      "image/png": "[encoded data removed]",
      "text/plain": [
       "<Figure size 800x500 with 1 Axes>"
      ]
     },
     "metadata": {},
     "output_type": "display_data"
    }
   ],
   "source": [
    "plt.figure(figsize=(8,5))\n",
    "\n",
    "powerlaw.plot_pdf(flat_jump_length)\n",
    "\n",
    "fit.power_law.plot_pdf(linestyle = '--', label='powerlaw fit')\n",
    "# fit.truncated_power_law.plot_pdf(linestyle = '--', label='truncated power law')\n",
    "fit.lognormal.plot_pdf(linestyle = '--', label='lognormal fit')\n",
    "\n",
    "plt.legend(prop={'size': 13}, ncol=2)\n",
    "\n",
    "plt.show()"
   ]
  },
  {
   "cell_type": "markdown",
   "metadata": {},
   "source": [
    "# Language metrics"
   ]
  },
  {
   "cell_type": "code",
   "execution_count": 198,
   "metadata": {
    "execution": {
     "iopub.execute_input": "2024-05-30T13:20:02.010548Z",
     "iopub.status.busy": "2024-05-30T13:20:02.010548Z",
     "iopub.status.idle": "2024-05-30T13:20:02.029971Z",
     "shell.execute_reply": "2024-05-30T13:20:02.029971Z",
     "shell.execute_reply.started": "2024-05-30T13:20:02.010548Z"
    }
   },
   "outputs": [],
   "source": [
    "def bleu_score(recover, reference):\n",
    "    return sentence_bleu(\n",
    "        [reference],\n",
    "        recover,\n",
    "        smoothing_function=SmoothingFunction().method4,\n",
    "    )\n",
    "\n",
    "def get_scores(pred_ls, ref_ls):\n",
    "    bleu_ls = []\n",
    "    for pred, ref in zip(pred_ls, ref_ls):\n",
    "\n",
    "        bleu_ls.append(bleu_score(pred, ref))\n",
    "    return bleu_ls\n",
    "\n",
    "def get_self_bleu(ls):\n",
    "    selfBleu = []\n",
    "    for i, seq in tqdm(enumerate(ls)):\n",
    "        for j in range(i + 1, len(ls)):\n",
    "            score = bleu_score(seq, ls[j])\n",
    "            selfBleu.append(score)\n",
    "    return np.mean(selfBleu)\n",
    "\n",
    "def distinct_n_gram_inter_sent(hypn, n):\n",
    "    hyp_ngrams = []\n",
    "    for hyp in hypn:\n",
    "        hyp_ngrams += nltk.ngrams(hyp, n)\n",
    "    total_ngrams = len(hyp_ngrams)\n",
    "    unique_ngrams = len(list(set(hyp_ngrams)))\n",
    "\n",
    "    dist_n = unique_ngrams / total_ngrams\n",
    "    return dist_n\n",
    "\n",
    "def distinct_n_gram(hypn, n=1):\n",
    "    dist_list = []\n",
    "    for hyp in hypn:\n",
    "        n1_grams = list(nltk.ngrams(hyp, n))\n",
    "        dist_list.append(len(set(n1_grams))/len(n1_grams))\n",
    "    return np.mean(dist_list)"
   ]
  },
  {
   "cell_type": "markdown",
   "metadata": {},
   "source": [
    "## BLEU"
   ]
  },
  {
   "cell_type": "code",
   "execution_count": 1239,
   "metadata": {
    "execution": {
     "iopub.execute_input": "2024-06-01T21:29:33.997839Z",
     "iopub.status.busy": "2024-06-01T21:29:33.997839Z",
     "iopub.status.idle": "2024-06-01T21:29:59.752807Z",
     "shell.execute_reply": "2024-06-01T21:29:59.751857Z",
     "shell.execute_reply.started": "2024-06-01T21:29:33.997839Z"
    }
   },
   "outputs": [],
   "source": [
    "predict_src_bleu = [get_scores(p, src_ls) for p in predict_ls]\n",
    "predict_true_bleu = [get_scores(p, true_ls) for p in predict_ls]"
   ]
  },
  {
   "cell_type": "code",
   "execution_count": 1240,
   "metadata": {
    "execution": {
     "iopub.execute_input": "2024-06-01T21:29:59.753804Z",
     "iopub.status.busy": "2024-06-01T21:29:59.753804Z",
     "iopub.status.idle": "2024-06-01T21:30:08.478853Z",
     "shell.execute_reply": "2024-06-01T21:30:08.477897Z",
     "shell.execute_reply.started": "2024-06-01T21:29:59.753804Z"
    }
   },
   "outputs": [],
   "source": [
    "true_src_bleu = get_scores(true_ls, src_ls)"
   ]
  },
  {
   "cell_type": "code",
   "execution_count": 1241,
   "metadata": {
    "execution": {
     "iopub.execute_input": "2024-06-01T21:30:08.479849Z",
     "iopub.status.busy": "2024-06-01T21:30:08.479849Z",
     "iopub.status.idle": "2024-06-01T21:30:08.493811Z",
     "shell.execute_reply": "2024-06-01T21:30:08.493811Z",
     "shell.execute_reply.started": "2024-06-01T21:30:08.479849Z"
    }
   },
   "outputs": [
    {
     "name": "stdout",
     "output_type": "stream",
     "text": [
      "Source and True: 0.232\n",
      "na_diffseq_150_1_200 and True: 0.222\t\tna_diffseq_150_1_200 and Source: 0.311\n",
      "na_diffseq_v2_150_1_200 and True: 0.212\t\tna_diffseq_v2_150_1_200 and Source: 0.300\n"
     ]
    }
   ],
   "source": [
    "print(f\"Source and True: {np.average(true_src_bleu):.3f}\")\n",
    "for ps, pt, label in zip(predict_src_bleu, predict_true_bleu, diff_file_name):\n",
    "    print(f\"{label} and True: {np.average(pt):.3f}\\t\\t{label} and Source: {np.average(ps):.3f}\")"
   ]
  },
  {
   "cell_type": "code",
   "execution_count": 193,
   "metadata": {
    "execution": {
     "iopub.execute_input": "2024-05-18T19:20:38.199999Z",
     "iopub.status.busy": "2024-05-18T19:20:38.199999Z",
     "iopub.status.idle": "2024-05-18T19:20:51.387827Z",
     "shell.execute_reply": "2024-05-18T19:20:51.387827Z",
     "shell.execute_reply.started": "2024-05-18T19:20:38.199999Z"
    }
   },
   "outputs": [
    {
     "name": "stdout",
     "output_type": "stream",
     "text": [
      "Markov and True: 0.303\n",
      "AR and True: 0.277\n",
      "GAN and True: 0.002\n"
     ]
    }
   ],
   "source": [
    "markov_true_bleu = get_scores(markov_ls, true_ls)\n",
    "ar_true_bleu = get_scores(ar_ls, true_ls)\n",
    "gan_true_bleu = get_scores(gan_ls, true_ls)\n",
    "\n",
    "print(f\"Markov and True: {np.average(markov_true_bleu):.3f}\\nAR and True: {np.average(ar_true_bleu):.3f}\\nGAN and True: {np.average(gan_true_bleu):.3f}\")"
   ]
  },
  {
   "cell_type": "code",
   "execution_count": 194,
   "metadata": {
    "execution": {
     "iopub.execute_input": "2024-05-18T19:20:51.388826Z",
     "iopub.status.busy": "2024-05-18T19:20:51.388826Z",
     "iopub.status.idle": "2024-05-18T19:20:58.351967Z",
     "shell.execute_reply": "2024-05-18T19:20:58.351967Z",
     "shell.execute_reply.started": "2024-05-18T19:20:51.388826Z"
    }
   },
   "outputs": [
    {
     "name": "stdout",
     "output_type": "stream",
     "text": [
      "EPR and True: 0.095\n"
     ]
    }
   ],
   "source": [
    "epr_true_bleu = get_scores(epr_ls, true_ls)\n",
    "\n",
    "print(f\"EPR and True: {np.average(epr_true_bleu):.3f}\")"
   ]
  },
  {
   "cell_type": "markdown",
   "metadata": {},
   "source": [
    "## Self-bleu\n",
    "Lower self-bleu suggests higher diversity"
   ]
  },
  {
   "cell_type": "code",
   "execution_count": 98,
   "metadata": {
    "collapsed": true,
    "execution": {
     "iopub.execute_input": "2024-04-05T14:12:20.854577Z",
     "iopub.status.busy": "2024-04-05T14:12:20.854074Z",
     "iopub.status.idle": "2024-04-05T14:12:26.808265Z",
     "shell.execute_reply": "2024-04-05T14:12:26.808265Z",
     "shell.execute_reply.started": "2024-04-05T14:12:20.854577Z"
    },
    "jupyter": {
     "outputs_hidden": true
    }
   },
   "outputs": [
    {
     "name": "stderr",
     "output_type": "stream",
     "text": [
      "1it [00:05,  5.78s/it]\n"
     ]
    },
    {
     "ename": "KeyboardInterrupt",
     "evalue": "",
     "output_type": "error",
     "traceback": [
      "\u001b[1;31m---------------------------------------------------------------------------\u001b[0m",
      "\u001b[1;31mKeyboardInterrupt\u001b[0m                         Traceback (most recent call last)",
      "Cell \u001b[1;32mIn[98], line 2\u001b[0m\n\u001b[0;32m      1\u001b[0m \u001b[38;5;66;03m# slow\u001b[39;00m\n\u001b[1;32m----> 2\u001b[0m predict_bleu \u001b[38;5;241m=\u001b[39m \u001b[43mget_self_bleu\u001b[49m\u001b[43m(\u001b[49m\u001b[43mpredict_ls\u001b[49m\u001b[43m)\u001b[49m\n\u001b[0;32m      3\u001b[0m true_bleu \u001b[38;5;241m=\u001b[39m get_self_bleu(true_ls)\n\u001b[0;32m      4\u001b[0m src_bleu \u001b[38;5;241m=\u001b[39m get_self_bleu(src_ls)\n",
      "Cell \u001b[1;32mIn[95], line 19\u001b[0m, in \u001b[0;36mget_self_bleu\u001b[1;34m(ls)\u001b[0m\n\u001b[0;32m     17\u001b[0m \u001b[38;5;28;01mfor\u001b[39;00m i, seq \u001b[38;5;129;01min\u001b[39;00m tqdm(\u001b[38;5;28menumerate\u001b[39m(ls)):\n\u001b[0;32m     18\u001b[0m     \u001b[38;5;28;01mfor\u001b[39;00m j \u001b[38;5;129;01min\u001b[39;00m \u001b[38;5;28mrange\u001b[39m(i \u001b[38;5;241m+\u001b[39m \u001b[38;5;241m1\u001b[39m, \u001b[38;5;28mlen\u001b[39m(ls)):\n\u001b[1;32m---> 19\u001b[0m         score \u001b[38;5;241m=\u001b[39m \u001b[43mbleu_score\u001b[49m\u001b[43m(\u001b[49m\u001b[43mseq\u001b[49m\u001b[43m,\u001b[49m\u001b[43m \u001b[49m\u001b[43mls\u001b[49m\u001b[43m[\u001b[49m\u001b[43mj\u001b[49m\u001b[43m]\u001b[49m\u001b[43m)\u001b[49m\n\u001b[0;32m     20\u001b[0m         selfBleu\u001b[38;5;241m.\u001b[39mappend(score)\n\u001b[0;32m     21\u001b[0m \u001b[38;5;28;01mreturn\u001b[39;00m np\u001b[38;5;241m.\u001b[39mmean(selfBleu)\n",
      "Cell \u001b[1;32mIn[95], line 2\u001b[0m, in \u001b[0;36mbleu_score\u001b[1;34m(recover, reference)\u001b[0m\n\u001b[0;32m      1\u001b[0m \u001b[38;5;28;01mdef\u001b[39;00m \u001b[38;5;21mbleu_score\u001b[39m(recover, reference):\n\u001b[1;32m----> 2\u001b[0m     \u001b[38;5;28;01mreturn\u001b[39;00m \u001b[43msentence_bleu\u001b[49m\u001b[43m(\u001b[49m\n\u001b[0;32m      3\u001b[0m \u001b[43m        \u001b[49m\u001b[43m[\u001b[49m\u001b[43mreference\u001b[49m\u001b[43m]\u001b[49m\u001b[43m,\u001b[49m\n\u001b[0;32m      4\u001b[0m \u001b[43m        \u001b[49m\u001b[43mrecover\u001b[49m\u001b[43m,\u001b[49m\n\u001b[0;32m      5\u001b[0m \u001b[43m        \u001b[49m\u001b[43msmoothing_function\u001b[49m\u001b[38;5;241;43m=\u001b[39;49m\u001b[43mSmoothingFunction\u001b[49m\u001b[43m(\u001b[49m\u001b[43m)\u001b[49m\u001b[38;5;241;43m.\u001b[39;49m\u001b[43mmethod4\u001b[49m\u001b[43m,\u001b[49m\n\u001b[0;32m      6\u001b[0m \u001b[43m    \u001b[49m\u001b[43m)\u001b[49m\n",
      "File \u001b[1;32mC:\\ProgramData\\Anaconda3\\envs\\generation\\lib\\site-packages\\nltk\\translate\\bleu_score.py:107\u001b[0m, in \u001b[0;36msentence_bleu\u001b[1;34m(references, hypothesis, weights, smoothing_function, auto_reweigh)\u001b[0m\n\u001b[0;32m     20\u001b[0m \u001b[38;5;28;01mdef\u001b[39;00m \u001b[38;5;21msentence_bleu\u001b[39m(\n\u001b[0;32m     21\u001b[0m     references,\n\u001b[0;32m     22\u001b[0m     hypothesis,\n\u001b[1;32m   (...)\u001b[0m\n\u001b[0;32m     25\u001b[0m     auto_reweigh\u001b[38;5;241m=\u001b[39m\u001b[38;5;28;01mFalse\u001b[39;00m,\n\u001b[0;32m     26\u001b[0m ):\n\u001b[0;32m     27\u001b[0m \u001b[38;5;250m    \u001b[39m\u001b[38;5;124;03m\"\"\"\u001b[39;00m\n\u001b[0;32m     28\u001b[0m \u001b[38;5;124;03m    Calculate BLEU score (Bilingual Evaluation Understudy) from\u001b[39;00m\n\u001b[0;32m     29\u001b[0m \u001b[38;5;124;03m    Papineni, Kishore, Salim Roukos, Todd Ward, and Wei-Jing Zhu. 2002.\u001b[39;00m\n\u001b[1;32m   (...)\u001b[0m\n\u001b[0;32m    105\u001b[0m \u001b[38;5;124;03m    :rtype: float / list(float)\u001b[39;00m\n\u001b[0;32m    106\u001b[0m \u001b[38;5;124;03m    \"\"\"\u001b[39;00m\n\u001b[1;32m--> 107\u001b[0m     \u001b[38;5;28;01mreturn\u001b[39;00m \u001b[43mcorpus_bleu\u001b[49m\u001b[43m(\u001b[49m\n\u001b[0;32m    108\u001b[0m \u001b[43m        \u001b[49m\u001b[43m[\u001b[49m\u001b[43mreferences\u001b[49m\u001b[43m]\u001b[49m\u001b[43m,\u001b[49m\u001b[43m \u001b[49m\u001b[43m[\u001b[49m\u001b[43mhypothesis\u001b[49m\u001b[43m]\u001b[49m\u001b[43m,\u001b[49m\u001b[43m \u001b[49m\u001b[43mweights\u001b[49m\u001b[43m,\u001b[49m\u001b[43m \u001b[49m\u001b[43msmoothing_function\u001b[49m\u001b[43m,\u001b[49m\u001b[43m \u001b[49m\u001b[43mauto_reweigh\u001b[49m\n\u001b[0;32m    109\u001b[0m \u001b[43m    \u001b[49m\u001b[43m)\u001b[49m\n",
      "File \u001b[1;32mC:\\ProgramData\\Anaconda3\\envs\\generation\\lib\\site-packages\\nltk\\translate\\bleu_score.py:210\u001b[0m, in \u001b[0;36mcorpus_bleu\u001b[1;34m(list_of_references, hypotheses, weights, smoothing_function, auto_reweigh)\u001b[0m\n\u001b[0;32m    206\u001b[0m \u001b[38;5;28;01mfor\u001b[39;00m references, hypothesis \u001b[38;5;129;01min\u001b[39;00m \u001b[38;5;28mzip\u001b[39m(list_of_references, hypotheses):\n\u001b[0;32m    207\u001b[0m     \u001b[38;5;66;03m# For each order of ngram, calculate the numerator and\u001b[39;00m\n\u001b[0;32m    208\u001b[0m     \u001b[38;5;66;03m# denominator for the corpus-level modified precision.\u001b[39;00m\n\u001b[0;32m    209\u001b[0m     \u001b[38;5;28;01mfor\u001b[39;00m i \u001b[38;5;129;01min\u001b[39;00m \u001b[38;5;28mrange\u001b[39m(\u001b[38;5;241m1\u001b[39m, max_weight_length \u001b[38;5;241m+\u001b[39m \u001b[38;5;241m1\u001b[39m):\n\u001b[1;32m--> 210\u001b[0m         p_i \u001b[38;5;241m=\u001b[39m \u001b[43mmodified_precision\u001b[49m\u001b[43m(\u001b[49m\u001b[43mreferences\u001b[49m\u001b[43m,\u001b[49m\u001b[43m \u001b[49m\u001b[43mhypothesis\u001b[49m\u001b[43m,\u001b[49m\u001b[43m \u001b[49m\u001b[43mi\u001b[49m\u001b[43m)\u001b[49m\n\u001b[0;32m    211\u001b[0m         p_numerators[i] \u001b[38;5;241m+\u001b[39m\u001b[38;5;241m=\u001b[39m p_i\u001b[38;5;241m.\u001b[39mnumerator\n\u001b[0;32m    212\u001b[0m         p_denominators[i] \u001b[38;5;241m+\u001b[39m\u001b[38;5;241m=\u001b[39m p_i\u001b[38;5;241m.\u001b[39mdenominator\n",
      "File \u001b[1;32mC:\\ProgramData\\Anaconda3\\envs\\generation\\lib\\site-packages\\nltk\\translate\\bleu_score.py:347\u001b[0m, in \u001b[0;36mmodified_precision\u001b[1;34m(references, hypothesis, n)\u001b[0m\n\u001b[0;32m    261\u001b[0m \u001b[38;5;250m\u001b[39m\u001b[38;5;124;03m\"\"\"\u001b[39;00m\n\u001b[0;32m    262\u001b[0m \u001b[38;5;124;03mCalculate modified ngram precision.\u001b[39;00m\n\u001b[0;32m    263\u001b[0m \n\u001b[1;32m   (...)\u001b[0m\n\u001b[0;32m    343\u001b[0m \u001b[38;5;124;03m:rtype: Fraction\u001b[39;00m\n\u001b[0;32m    344\u001b[0m \u001b[38;5;124;03m\"\"\"\u001b[39;00m\n\u001b[0;32m    345\u001b[0m \u001b[38;5;66;03m# Extracts all ngrams in hypothesis\u001b[39;00m\n\u001b[0;32m    346\u001b[0m \u001b[38;5;66;03m# Set an empty Counter if hypothesis is empty.\u001b[39;00m\n\u001b[1;32m--> 347\u001b[0m counts \u001b[38;5;241m=\u001b[39m \u001b[43mCounter\u001b[49m\u001b[43m(\u001b[49m\u001b[43mngrams\u001b[49m\u001b[43m(\u001b[49m\u001b[43mhypothesis\u001b[49m\u001b[43m,\u001b[49m\u001b[43m \u001b[49m\u001b[43mn\u001b[49m\u001b[43m)\u001b[49m\u001b[43m)\u001b[49m \u001b[38;5;28;01mif\u001b[39;00m \u001b[38;5;28mlen\u001b[39m(hypothesis) \u001b[38;5;241m>\u001b[39m\u001b[38;5;241m=\u001b[39m n \u001b[38;5;28;01melse\u001b[39;00m Counter()\n\u001b[0;32m    348\u001b[0m \u001b[38;5;66;03m# Extract a union of references' counts.\u001b[39;00m\n\u001b[0;32m    349\u001b[0m \u001b[38;5;66;03m# max_counts = reduce(or_, [Counter(ngrams(ref, n)) for ref in references])\u001b[39;00m\n\u001b[0;32m    350\u001b[0m max_counts \u001b[38;5;241m=\u001b[39m {}\n",
      "File \u001b[1;32mC:\\ProgramData\\Anaconda3\\envs\\generation\\lib\\collections\\__init__.py:593\u001b[0m, in \u001b[0;36mCounter.__init__\u001b[1;34m(self, iterable, **kwds)\u001b[0m\n\u001b[0;32m    582\u001b[0m \u001b[38;5;250m\u001b[39m\u001b[38;5;124;03m'''Create a new, empty Counter object.  And if given, count elements\u001b[39;00m\n\u001b[0;32m    583\u001b[0m \u001b[38;5;124;03mfrom an input iterable.  Or, initialize the count from another mapping\u001b[39;00m\n\u001b[0;32m    584\u001b[0m \u001b[38;5;124;03mof elements to their counts.\u001b[39;00m\n\u001b[1;32m   (...)\u001b[0m\n\u001b[0;32m    590\u001b[0m \n\u001b[0;32m    591\u001b[0m \u001b[38;5;124;03m'''\u001b[39;00m\n\u001b[0;32m    592\u001b[0m \u001b[38;5;28msuper\u001b[39m()\u001b[38;5;241m.\u001b[39m\u001b[38;5;21m__init__\u001b[39m()\n\u001b[1;32m--> 593\u001b[0m \u001b[38;5;28mself\u001b[39m\u001b[38;5;241m.\u001b[39mupdate(iterable, \u001b[38;5;241m*\u001b[39m\u001b[38;5;241m*\u001b[39mkwds)\n",
      "File \u001b[1;32mC:\\ProgramData\\Anaconda3\\envs\\generation\\lib\\collections\\__init__.py:680\u001b[0m, in \u001b[0;36mCounter.update\u001b[1;34m(self, iterable, **kwds)\u001b[0m\n\u001b[0;32m    678\u001b[0m     \u001b[38;5;28;01melse\u001b[39;00m:\n\u001b[0;32m    679\u001b[0m         _count_elements(\u001b[38;5;28mself\u001b[39m, iterable)\n\u001b[1;32m--> 680\u001b[0m \u001b[38;5;28;01mif\u001b[39;00m kwds:\n\u001b[0;32m    681\u001b[0m     \u001b[38;5;28mself\u001b[39m\u001b[38;5;241m.\u001b[39mupdate(kwds)\n",
      "\u001b[1;31mKeyboardInterrupt\u001b[0m: "
     ]
    }
   ],
   "source": [
    "# slow\n",
    "predict_bleu = get_self_bleu(predict_ls)\n",
    "true_bleu = get_self_bleu(true_ls)\n",
    "src_bleu = get_self_bleu(src_ls)"
   ]
  },
  {
   "cell_type": "markdown",
   "metadata": {},
   "source": [
    "## Diverse 4-gram\n",
    "Higher div-4 suggests higher diversity"
   ]
  },
  {
   "cell_type": "code",
   "execution_count": 1242,
   "metadata": {
    "execution": {
     "iopub.execute_input": "2024-06-01T21:30:22.849893Z",
     "iopub.status.busy": "2024-06-01T21:30:22.849893Z",
     "iopub.status.idle": "2024-06-01T21:30:24.965362Z",
     "shell.execute_reply": "2024-06-01T21:30:24.965362Z",
     "shell.execute_reply.started": "2024-06-01T21:30:22.849893Z"
    }
   },
   "outputs": [
    {
     "name": "stdout",
     "output_type": "stream",
     "text": [
      "Source: 0.0168\n",
      "True: 0.0086\n",
      "na_diffseq_150_1_200: 0.2020\n",
      "na_diffseq_v2_150_1_200: 0.2431\n"
     ]
    }
   ],
   "source": [
    "pred_div4 = [distinct_n_gram_inter_sent(p, 4) for p in predict_ls]\n",
    "true_div4 = distinct_n_gram_inter_sent(true_ls, 4)\n",
    "src_div4 = distinct_n_gram_inter_sent(src_ls, 4)\n",
    "\n",
    "print(f\"Source: {src_div4:.4f}\\nTrue: {true_div4:.4f}\")\n",
    "for div, label in zip(pred_div4, diff_file_name):\n",
    "    print(f\"{label}: {div:.4f}\")"
   ]
  },
  {
   "cell_type": "code",
   "execution_count": 335,
   "metadata": {
    "execution": {
     "iopub.execute_input": "2024-05-30T14:06:27.819287Z",
     "iopub.status.busy": "2024-05-30T14:06:27.819287Z",
     "iopub.status.idle": "2024-05-30T14:06:28.970761Z",
     "shell.execute_reply": "2024-05-30T14:06:28.970761Z",
     "shell.execute_reply.started": "2024-05-30T14:06:27.819287Z"
    }
   },
   "outputs": [
    {
     "name": "stdout",
     "output_type": "stream",
     "text": [
      "Markov: 0.0120\n",
      "AR: 0.2612\n",
      "GAN: 0.4934\n"
     ]
    }
   ],
   "source": [
    "markov_div4 = distinct_n_gram_inter_sent(markov_ls, 4)\n",
    "ar_div4 = distinct_n_gram_inter_sent(ar_ls, 4)\n",
    "gan_div4 = distinct_n_gram_inter_sent(gan_ls, 4)\n",
    "\n",
    "print(f\"Markov: {markov_div4:.4f}\\nAR: {ar_div4:.4f}\\nGAN: {gan_div4:.4f}\")"
   ]
  },
  {
   "cell_type": "code",
   "execution_count": 336,
   "metadata": {
    "execution": {
     "iopub.execute_input": "2024-05-30T14:06:42.868164Z",
     "iopub.status.busy": "2024-05-30T14:06:42.867167Z",
     "iopub.status.idle": "2024-05-30T14:06:43.407325Z",
     "shell.execute_reply": "2024-05-30T14:06:43.407325Z",
     "shell.execute_reply.started": "2024-05-30T14:06:42.867167Z"
    }
   },
   "outputs": [
    {
     "name": "stdout",
     "output_type": "stream",
     "text": [
      "EPR: 0.6146\n"
     ]
    }
   ],
   "source": [
    "epr_div4 = distinct_n_gram_inter_sent(epr_ls, 4)\n",
    "\n",
    "print(f\"EPR: {epr_div4:.4f}\")"
   ]
  },
  {
   "cell_type": "markdown",
   "metadata": {},
   "source": [
    "## Distinct unigrams (1-gram)\n",
    "intra-diversity within each sequence. Lower dist means more repeated tokens."
   ]
  },
  {
   "cell_type": "code",
   "execution_count": 1243,
   "metadata": {
    "execution": {
     "iopub.execute_input": "2024-06-01T21:30:29.312937Z",
     "iopub.status.busy": "2024-06-01T21:30:29.311939Z",
     "iopub.status.idle": "2024-06-01T21:30:30.240872Z",
     "shell.execute_reply": "2024-06-01T21:30:30.239872Z",
     "shell.execute_reply.started": "2024-06-01T21:30:29.312937Z"
    }
   },
   "outputs": [
    {
     "name": "stdout",
     "output_type": "stream",
     "text": [
      "Source: 0.2295\n",
      "True: 0.1892\n",
      "na_diffseq_150_1_200: 0.1503\n",
      "na_diffseq_v2_150_1_200: 0.1691\n"
     ]
    }
   ],
   "source": [
    "predict_1_gram = [distinct_n_gram(p) for p in predict_ls]\n",
    "true_1_gram = distinct_n_gram(true_ls)\n",
    "src_1_gram = distinct_n_gram(src_ls)\n",
    "\n",
    "print(f\"Source: {src_1_gram:.4f}\\nTrue: {true_1_gram:.4f}\")\n",
    "for gram, label in zip(predict_1_gram, diff_file_name):\n",
    "    print(f\"{label}: {gram:.4f}\")"
   ]
  },
  {
   "cell_type": "code",
   "execution_count": 338,
   "metadata": {
    "execution": {
     "iopub.execute_input": "2024-05-30T14:06:54.291606Z",
     "iopub.status.busy": "2024-05-30T14:06:54.290608Z",
     "iopub.status.idle": "2024-05-30T14:06:54.767221Z",
     "shell.execute_reply": "2024-05-30T14:06:54.767221Z",
     "shell.execute_reply.started": "2024-05-30T14:06:54.291606Z"
    }
   },
   "outputs": [
    {
     "name": "stdout",
     "output_type": "stream",
     "text": [
      "Markov: 0.0770\n",
      "AR: 0.1999\n",
      "GAN: 0.3890\n"
     ]
    }
   ],
   "source": [
    "markov_1_gram = distinct_n_gram(markov_ls)\n",
    "ar_1_gram = distinct_n_gram(ar_ls)\n",
    "gan_1_gram = distinct_n_gram(gan_ls)\n",
    "\n",
    "print(f\"Markov: {markov_1_gram:.4f}\\nAR: {ar_1_gram:.4f}\\nGAN: {gan_1_gram:.4f}\")"
   ]
  },
  {
   "cell_type": "code",
   "execution_count": 339,
   "metadata": {
    "execution": {
     "iopub.execute_input": "2024-05-30T14:06:57.171418Z",
     "iopub.status.busy": "2024-05-30T14:06:57.170473Z",
     "iopub.status.idle": "2024-05-30T14:06:57.376290Z",
     "shell.execute_reply": "2024-05-30T14:06:57.376290Z",
     "shell.execute_reply.started": "2024-05-30T14:06:57.171418Z"
    }
   },
   "outputs": [
    {
     "name": "stdout",
     "output_type": "stream",
     "text": [
      "EPR: 0.3661\n"
     ]
    }
   ],
   "source": [
    "epr_1_gram = distinct_n_gram(epr_ls)\n",
    "\n",
    "print(f\"EPR: {epr_1_gram:.4f}\")"
   ]
  },
  {
   "cell_type": "markdown",
   "metadata": {},
   "source": [
    "# Entropy\n",
    "## Real entropy"
   ]
  },
  {
   "cell_type": "code",
   "execution_count": 867,
   "metadata": {
    "execution": {
     "iopub.execute_input": "2024-05-31T12:21:28.665248Z",
     "iopub.status.busy": "2024-05-31T12:21:28.665248Z",
     "iopub.status.idle": "2024-05-31T12:21:28.672960Z",
     "shell.execute_reply": "2024-05-31T12:21:28.672960Z",
     "shell.execute_reply.started": "2024-05-31T12:21:28.665248Z"
    }
   },
   "outputs": [],
   "source": [
    "def real_entropy_individual(locs_series):\n",
    "\n",
    "    n = len(locs_series)\n",
    "\n",
    "    # 1 to ensure to consider the first situation from where\n",
    "    # locs_series[i:j] = [] and locs_series[i:j] = locs_series[0:1]\n",
    "    sum_lambda = 1\n",
    "\n",
    "    for i in range(1, n - 1):\n",
    "        j = i + 1\n",
    "\n",
    "        while True:\n",
    "            # if the locs_series[i:j] is longer than locs_series[:i],\n",
    "            # we can no longer find it locs_series[i:j] in locs_series[:i]\n",
    "            if j - i > i:\n",
    "                break\n",
    "\n",
    "            # if locs_series[i:j] exist in locs_series[:i], we increase j by 1\n",
    "            # sliding_window_view creates sublist of length len(locs_series[i:j]) from locs_series[:i]\n",
    "            ls = np.lib.stride_tricks.sliding_window_view(locs_series[:i], j - i).tolist()\n",
    "            if tuple(locs_series[i:j]) in list(map(tuple, ls)):\n",
    "                # if the subsequence already exist, we increase the sequence by 1, and check again\n",
    "                j += 1\n",
    "            else:\n",
    "                # we find the \"shortest substring\" that does not exist in locs_series[:i]\n",
    "                break\n",
    "\n",
    "        # length of the substring\n",
    "        sum_lambda += j - i\n",
    "\n",
    "    # the function S5 from the suppl. material\n",
    "    return 1.0 / (sum_lambda * 1 / n) * np.log(n)\n",
    "\n"
   ]
  },
  {
   "cell_type": "code",
   "execution_count": 1244,
   "metadata": {
    "execution": {
     "iopub.execute_input": "2024-06-01T21:30:36.200342Z",
     "iopub.status.busy": "2024-06-01T21:30:36.200342Z",
     "iopub.status.idle": "2024-06-01T21:31:00.977825Z",
     "shell.execute_reply": "2024-06-01T21:31:00.977825Z",
     "shell.execute_reply.started": "2024-06-01T21:30:36.200342Z"
    }
   },
   "outputs": [],
   "source": [
    "predict_re = [_apply_parallel(p, real_entropy_individual, n=-1) for p in predict_ls]"
   ]
  },
  {
   "cell_type": "code",
   "execution_count": 1207,
   "metadata": {
    "execution": {
     "iopub.execute_input": "2024-06-01T21:25:14.116678Z",
     "iopub.status.busy": "2024-06-01T21:25:14.115681Z",
     "iopub.status.idle": "2024-06-01T21:25:51.988753Z",
     "shell.execute_reply": "2024-06-01T21:25:51.988753Z",
     "shell.execute_reply.started": "2024-06-01T21:25:14.116678Z"
    }
   },
   "outputs": [],
   "source": [
    "true_re = _apply_parallel(true_ls, real_entropy_individual, n=-1)\n",
    "source_re = _apply_parallel(src_ls, real_entropy_individual, n=-1)"
   ]
  },
  {
   "cell_type": "code",
   "execution_count": 447,
   "metadata": {
    "execution": {
     "iopub.execute_input": "2024-05-30T14:39:04.369529Z",
     "iopub.status.busy": "2024-05-30T14:39:04.368532Z",
     "iopub.status.idle": "2024-05-30T14:39:38.738025Z",
     "shell.execute_reply": "2024-05-30T14:39:38.738025Z",
     "shell.execute_reply.started": "2024-05-30T14:39:04.369529Z"
    }
   },
   "outputs": [],
   "source": [
    "markov_re = _apply_parallel(markov_ls, real_entropy_individual, n=-1)\n",
    "ar_re = _apply_parallel(ar_ls, real_entropy_individual, n=-1)\n",
    "gan_re = _apply_parallel(gan_ls, real_entropy_individual, n=-1)"
   ]
  },
  {
   "cell_type": "code",
   "execution_count": 448,
   "metadata": {
    "execution": {
     "iopub.execute_input": "2024-05-30T14:39:38.740020Z",
     "iopub.status.busy": "2024-05-30T14:39:38.740020Z",
     "iopub.status.idle": "2024-05-30T14:39:46.448732Z",
     "shell.execute_reply": "2024-05-30T14:39:46.447735Z",
     "shell.execute_reply.started": "2024-05-30T14:39:38.740020Z"
    }
   },
   "outputs": [],
   "source": [
    "epr_re = _apply_parallel(epr_ls, real_entropy_individual, n=-1)"
   ]
  },
  {
   "cell_type": "code",
   "execution_count": 1245,
   "metadata": {
    "execution": {
     "iopub.execute_input": "2024-06-01T21:31:00.979822Z",
     "iopub.status.busy": "2024-06-01T21:31:00.979822Z",
     "iopub.status.idle": "2024-06-01T21:31:01.259611Z",
     "shell.execute_reply": "2024-06-01T21:31:01.258615Z",
     "shell.execute_reply.started": "2024-06-01T21:31:00.979822Z"
    }
   },
   "outputs": [
    {
     "data": {
      "image/png": "[encoded data removed]",
      "text/plain": [
       "<Figure size 800x500 with 1 Axes>"
      ]
     },
     "metadata": {},
     "output_type": "display_data"
    }
   ],
   "source": [
    "fig, ax = plt.subplots(1, 1, figsize=(8, 5))\n",
    "\n",
    "density = stats.gaussian_kde(true_re)\n",
    "x = np.linspace(0, np.max(true_re) + 0.2, 100)\n",
    "ax.plot(x, density(x), label=\"true\")\n",
    "\n",
    "# density = stats.gaussian_kde(source_re)\n",
    "# x = np.linspace(0, np.max(source_re) + 0.2, 100)\n",
    "# ax.plot(x, density(x), label=\"source\")\n",
    "\n",
    "for pre, label in zip(predict_re, diff_file_name):\n",
    "    density = stats.gaussian_kde(pre)\n",
    "    x = np.linspace(0, np.max(pre) + 0.2, 100)\n",
    "    ax.plot(x, density(x), label=label)\n",
    "\n",
    "# density = stats.gaussian_kde(markov_re)\n",
    "# x = np.linspace(0, np.max(markov_re) + 0.2, 100)\n",
    "# ax.plot(x, density(x), label=\"markov\")\n",
    "\n",
    "# density = stats.gaussian_kde(ar_re)\n",
    "# x = np.linspace(0, np.max(ar_re) + 0.2, 100)\n",
    "# ax.plot(x, density(x), label=\"ar\")\n",
    "\n",
    "# density = stats.gaussian_kde(gan_re)\n",
    "# x = np.linspace(0, np.max(gan_re) + 0.2, 100)\n",
    "# ax.plot(x, density(x), label=\"gan\")\n",
    "\n",
    "# density = stats.gaussian_kde(epr_re)\n",
    "# x = np.linspace(0, np.max(epr_re) + 0.2, 100)\n",
    "# ax.plot(x, density(x), label=\"epr\")\n",
    "\n",
    "plt.legend(prop={\"size\": 12})\n",
    "plt.xlabel(\"Entropy\", fontsize=16)\n",
    "plt.ylabel(\"PDF\", fontsize=16)\n",
    "\n",
    "plt.show()\n"
   ]
  },
  {
   "cell_type": "code",
   "execution_count": 253,
   "metadata": {
    "execution": {
     "iopub.execute_input": "2024-04-17T10:04:05.968187Z",
     "iopub.status.busy": "2024-04-17T10:04:05.968187Z",
     "iopub.status.idle": "2024-04-17T10:04:07.517158Z",
     "shell.execute_reply": "2024-04-17T10:04:07.517158Z",
     "shell.execute_reply.started": "2024-04-17T10:04:05.968187Z"
    }
   },
   "outputs": [
    {
     "name": "stdout",
     "output_type": "stream",
     "text": [
      "Prediction and True: 0.414\t Source and True: 0.047\n"
     ]
    }
   ],
   "source": [
    "predict_density = stats.gaussian_kde(predict_re)\n",
    "true_density = stats.gaussian_kde(true_re)\n",
    "source_density = stats.gaussian_kde(source_re)\n",
    "\n",
    "x = np.linspace(0, 3, 1000)\n",
    "\n",
    "pred_true_re = distance.jensenshannon(predict_density(x), true_density(x))\n",
    "source_true_re = distance.jensenshannon(source_density(x), true_density(x))\n",
    "\n",
    "print(f\"Prediction and True: {pred_true_re:.3f}\\t Source and True: {source_true_re:.3f}\")"
   ]
  },
  {
   "cell_type": "code",
   "execution_count": 102,
   "metadata": {
    "execution": {
     "iopub.execute_input": "2024-04-12T14:18:32.684873Z",
     "iopub.status.busy": "2024-04-12T14:18:32.683875Z",
     "iopub.status.idle": "2024-04-12T14:18:34.949221Z",
     "shell.execute_reply": "2024-04-12T14:18:34.948281Z",
     "shell.execute_reply.started": "2024-04-12T14:18:32.684873Z"
    }
   },
   "outputs": [
    {
     "name": "stdout",
     "output_type": "stream",
     "text": [
      "Markov and True: 0.624\t AR and True: 0.206\t GAN and True: 0.316\n"
     ]
    }
   ],
   "source": [
    "markov_density = stats.gaussian_kde(markov_re)\n",
    "ar_density = stats.gaussian_kde(ar_re)\n",
    "gan_density = stats.gaussian_kde(gan_re)\n",
    "\n",
    "markov_true_re = distance.jensenshannon(markov_density(x), true_density(x))\n",
    "ar_true_re = distance.jensenshannon(ar_density(x), true_density(x))\n",
    "gan_true_re = distance.jensenshannon(gan_density(x), true_density(x))\n",
    "\n",
    "print(f\"Markov and True: {markov_true_re:.3f}\\t AR and True: {ar_true_re:.3f}\\t GAN and True: {gan_true_re:.3f}\")"
   ]
  },
  {
   "cell_type": "code",
   "execution_count": 254,
   "metadata": {
    "execution": {
     "iopub.execute_input": "2024-04-17T10:04:40.953617Z",
     "iopub.status.busy": "2024-04-17T10:04:40.952620Z",
     "iopub.status.idle": "2024-04-17T10:04:41.783016Z",
     "shell.execute_reply": "2024-04-17T10:04:41.783016Z",
     "shell.execute_reply.started": "2024-04-17T10:04:40.953617Z"
    }
   },
   "outputs": [
    {
     "name": "stdout",
     "output_type": "stream",
     "text": [
      "EPR and True: 0.436\n"
     ]
    }
   ],
   "source": [
    "epr_density = stats.gaussian_kde(epr_re)\n",
    "\n",
    "epr_true_re = distance.jensenshannon(epr_density(x), true_density(x))\n",
    "\n",
    "print(f\"EPR and True: {epr_true_re:.3f}\")"
   ]
  },
  {
   "cell_type": "markdown",
   "metadata": {},
   "source": [
    "## Uncorrelated entropy"
   ]
  },
  {
   "cell_type": "code",
   "execution_count": 1246,
   "metadata": {
    "execution": {
     "iopub.execute_input": "2024-06-01T21:31:29.073079Z",
     "iopub.status.busy": "2024-06-01T21:31:29.072083Z",
     "iopub.status.idle": "2024-06-01T21:31:29.086045Z",
     "shell.execute_reply": "2024-06-01T21:31:29.086045Z",
     "shell.execute_reply.started": "2024-06-01T21:31:29.073079Z"
    }
   },
   "outputs": [],
   "source": [
    "def uncorrelated_entropy_individual(locs_series):\n",
    "    _, counts = np.unique(locs_series, return_counts=True)\n",
    "    freq = counts/len(locs_series)\n",
    "    return -(freq * np.log(freq)).sum()\n"
   ]
  },
  {
   "cell_type": "code",
   "execution_count": 1247,
   "metadata": {
    "execution": {
     "iopub.execute_input": "2024-06-01T21:31:29.253313Z",
     "iopub.status.busy": "2024-06-01T21:31:29.253313Z",
     "iopub.status.idle": "2024-06-01T21:31:30.527388Z",
     "shell.execute_reply": "2024-06-01T21:31:30.526600Z",
     "shell.execute_reply.started": "2024-06-01T21:31:29.253313Z"
    }
   },
   "outputs": [],
   "source": [
    "predict_ue = [[uncorrelated_entropy_individual(seq) for seq in p] for p in predict_ls]"
   ]
  },
  {
   "cell_type": "code",
   "execution_count": 1248,
   "metadata": {
    "execution": {
     "iopub.execute_input": "2024-06-01T21:31:36.658940Z",
     "iopub.status.busy": "2024-06-01T21:31:36.658940Z",
     "iopub.status.idle": "2024-06-01T21:31:37.997647Z",
     "shell.execute_reply": "2024-06-01T21:31:37.997647Z",
     "shell.execute_reply.started": "2024-06-01T21:31:36.658940Z"
    }
   },
   "outputs": [],
   "source": [
    "true_ue = [uncorrelated_entropy_individual(seq) for seq in true_ls]\n",
    "source_ue = [uncorrelated_entropy_individual(seq) for seq in src_ls]"
   ]
  },
  {
   "cell_type": "code",
   "execution_count": 238,
   "metadata": {
    "execution": {
     "iopub.execute_input": "2024-05-30T13:36:52.630975Z",
     "iopub.status.busy": "2024-05-30T13:36:52.629978Z",
     "iopub.status.idle": "2024-05-30T13:36:54.135150Z",
     "shell.execute_reply": "2024-05-30T13:36:54.135150Z",
     "shell.execute_reply.started": "2024-05-30T13:36:52.630975Z"
    }
   },
   "outputs": [],
   "source": [
    "markov_ue = [uncorrelated_entropy_individual(seq) for seq in markov_ls]\n",
    "ar_ue = [uncorrelated_entropy_individual(seq) for seq in ar_ls]\n",
    "gan_ue = [uncorrelated_entropy_individual(seq) for seq in gan_ls]"
   ]
  },
  {
   "cell_type": "code",
   "execution_count": 239,
   "metadata": {
    "execution": {
     "iopub.execute_input": "2024-05-30T13:36:54.136147Z",
     "iopub.status.busy": "2024-05-30T13:36:54.136147Z",
     "iopub.status.idle": "2024-05-30T13:36:54.833120Z",
     "shell.execute_reply": "2024-05-30T13:36:54.833120Z",
     "shell.execute_reply.started": "2024-05-30T13:36:54.136147Z"
    }
   },
   "outputs": [],
   "source": [
    "epr_ue = [uncorrelated_entropy_individual(seq) for seq in epr_ls]"
   ]
  },
  {
   "cell_type": "code",
   "execution_count": 1249,
   "metadata": {
    "execution": {
     "iopub.execute_input": "2024-06-01T21:31:37.998676Z",
     "iopub.status.busy": "2024-06-01T21:31:37.998676Z",
     "iopub.status.idle": "2024-06-01T21:31:38.275445Z",
     "shell.execute_reply": "2024-06-01T21:31:38.275445Z",
     "shell.execute_reply.started": "2024-06-01T21:31:37.998676Z"
    }
   },
   "outputs": [
    {
     "data": {
      "image/png": "[encoded data removed]",
      "text/plain": [
       "<Figure size 800x500 with 1 Axes>"
      ]
     },
     "metadata": {},
     "output_type": "display_data"
    }
   ],
   "source": [
    "fig, ax = plt.subplots(1, 1, figsize=(8, 5))\n",
    "\n",
    "density = stats.gaussian_kde(true_ue)\n",
    "x = np.linspace(0, np.max(true_ue) + 0.2, 100)\n",
    "ax.plot(x, density(x), label=\"true\")\n",
    "\n",
    "# density = stats.gaussian_kde(source_ue)\n",
    "# x = np.linspace(0, np.max(source_ue) + 0.2, 100)\n",
    "# ax.plot(x, density(x), label=\"source\")\n",
    "\n",
    "for pre, label in zip(predict_ue, diff_file_name):\n",
    "    density = stats.gaussian_kde(pre)\n",
    "    x = np.linspace(0, np.max(pre) + 0.2, 100)\n",
    "    ax.plot(x, density(x), label=label)\n",
    "\n",
    "plt.legend(prop={\"size\": 12})\n",
    "plt.xlabel(\"Entropy\", fontsize=16)\n",
    "plt.ylabel(\"PDF\", fontsize=16)\n",
    "\n",
    "plt.show()\n"
   ]
  },
  {
   "cell_type": "code",
   "execution_count": null,
   "metadata": {},
   "outputs": [],
   "source": [
    "fig, ax = plt.subplots(1, 1, figsize=(8, 5))\n",
    "\n",
    "\n",
    "density = stats.gaussian_kde(predict_ue)\n",
    "x = np.linspace(0, np.max(predict_ue) + 0.2, 100)\n",
    "ax.plot(x, density(x), label=\"predict\")\n",
    "\n",
    "density = stats.gaussian_kde(true_ue)\n",
    "x = np.linspace(0, np.max(true_ue) + 0.2, 100)\n",
    "ax.plot(x, density(x), label=\"true\")\n",
    "\n",
    "density = stats.gaussian_kde(source_ue)\n",
    "x = np.linspace(0, np.max(source_ue) + 0.2, 100)\n",
    "ax.plot(x, density(x), label=\"source\")\n",
    "\n",
    "# density = stats.gaussian_kde(markov_ue)\n",
    "# x = np.linspace(0, np.max(markov_ue) + 0.2, 100)\n",
    "# ax.plot(x, density(x), label=\"markov\")\n",
    "\n",
    "# density = stats.gaussian_kde(ar_ue)\n",
    "# x = np.linspace(0, np.max(ar_ue) + 0.2, 100)\n",
    "# ax.plot(x, density(x), label=\"ar\")\n",
    "\n",
    "# density = stats.gaussian_kde(gan_ue)\n",
    "# x = np.linspace(0, np.max(gan_ue) + 0.2, 100)\n",
    "# ax.plot(x, density(x), label=\"gan\")\n",
    "\n",
    "density = stats.gaussian_kde(epr_ue)\n",
    "x = np.linspace(0, np.max(epr_ue) + 0.2, 100)\n",
    "ax.plot(x, density(x), label=\"epr\")\n",
    "\n",
    "plt.legend(prop={\"size\": 12})\n",
    "plt.xlabel(\"Entropy\", fontsize=16)\n",
    "plt.ylabel(\"PDF\", fontsize=16)\n",
    "\n",
    "plt.show()"
   ]
  },
  {
   "cell_type": "code",
   "execution_count": 258,
   "metadata": {
    "execution": {
     "iopub.execute_input": "2024-04-17T10:05:31.345158Z",
     "iopub.status.busy": "2024-04-17T10:05:31.344194Z",
     "iopub.status.idle": "2024-04-17T10:05:32.753003Z",
     "shell.execute_reply": "2024-04-17T10:05:32.753003Z",
     "shell.execute_reply.started": "2024-04-17T10:05:31.345158Z"
    }
   },
   "outputs": [
    {
     "name": "stdout",
     "output_type": "stream",
     "text": [
      "Prediction and True: 0.454\t Source and True: 0.109\n"
     ]
    }
   ],
   "source": [
    "predict_density = stats.gaussian_kde(predict_ue)\n",
    "true_density = stats.gaussian_kde(true_ue)\n",
    "source_density = stats.gaussian_kde(source_ue)\n",
    "\n",
    "x = np.linspace(0, 3, 1000)\n",
    "\n",
    "pred_true_ue = distance.jensenshannon(predict_density(x), true_density(x))\n",
    "source_true_ue = distance.jensenshannon(source_density(x), true_density(x))\n",
    "\n",
    "print(f\"Prediction and True: {pred_true_ue:.3f}\\t Source and True: {source_true_ue:.3f}\")"
   ]
  },
  {
   "cell_type": "code",
   "execution_count": 107,
   "metadata": {
    "execution": {
     "iopub.execute_input": "2024-04-12T14:18:42.129157Z",
     "iopub.status.busy": "2024-04-12T14:18:42.129157Z",
     "iopub.status.idle": "2024-04-12T14:18:44.153972Z",
     "shell.execute_reply": "2024-04-12T14:18:44.153972Z",
     "shell.execute_reply.started": "2024-04-12T14:18:42.129157Z"
    }
   },
   "outputs": [
    {
     "name": "stdout",
     "output_type": "stream",
     "text": [
      "Markov and True: 0.575\t AR and True: 0.209\t GAN and True: 0.483\n"
     ]
    }
   ],
   "source": [
    "markov_density = stats.gaussian_kde(markov_ue)\n",
    "markov_true_ue = distance.jensenshannon(markov_density(x), true_density(x))\n",
    "\n",
    "ar_density = stats.gaussian_kde(ar_ue)\n",
    "ar_true_ue = distance.jensenshannon(ar_density(x), true_density(x))\n",
    "\n",
    "gan_density = stats.gaussian_kde(gan_ue)\n",
    "gan_true_ue = distance.jensenshannon(gan_density(x), true_density(x))\n",
    "\n",
    "print(f\"Markov and True: {markov_true_ue:.3f}\\t AR and True: {ar_true_ue:.3f}\\t GAN and True: {gan_true_ue:.3f}\")"
   ]
  },
  {
   "cell_type": "code",
   "execution_count": 259,
   "metadata": {
    "execution": {
     "iopub.execute_input": "2024-04-17T10:06:01.905270Z",
     "iopub.status.busy": "2024-04-17T10:06:01.904273Z",
     "iopub.status.idle": "2024-04-17T10:06:02.781236Z",
     "shell.execute_reply": "2024-04-17T10:06:02.781236Z",
     "shell.execute_reply.started": "2024-04-17T10:06:01.905270Z"
    }
   },
   "outputs": [
    {
     "name": "stdout",
     "output_type": "stream",
     "text": [
      "EPR and True: 0.471\n"
     ]
    }
   ],
   "source": [
    "epr_density = stats.gaussian_kde(epr_ue)\n",
    "epr_true_ue = distance.jensenshannon(epr_density(x), true_density(x))\n",
    "\n",
    "print(f\"EPR and True: {epr_true_ue:.3f}\")"
   ]
  },
  {
   "cell_type": "markdown",
   "metadata": {},
   "source": [
    "## Difference between real and uncorrelated"
   ]
  },
  {
   "cell_type": "code",
   "execution_count": 1250,
   "metadata": {
    "execution": {
     "iopub.execute_input": "2024-06-01T21:31:42.713898Z",
     "iopub.status.busy": "2024-06-01T21:31:42.713898Z",
     "iopub.status.idle": "2024-06-01T21:31:42.734842Z",
     "shell.execute_reply": "2024-06-01T21:31:42.734842Z",
     "shell.execute_reply.started": "2024-06-01T21:31:42.713898Z"
    }
   },
   "outputs": [],
   "source": [
    "pred_diff = [[re - ue for re, ue in zip(r,u)] for r,u in zip(predict_re, predict_ue)]"
   ]
  },
  {
   "cell_type": "code",
   "execution_count": 1251,
   "metadata": {
    "execution": {
     "iopub.execute_input": "2024-06-01T21:31:43.301840Z",
     "iopub.status.busy": "2024-06-01T21:31:43.301840Z",
     "iopub.status.idle": "2024-06-01T21:31:43.326740Z",
     "shell.execute_reply": "2024-06-01T21:31:43.325745Z",
     "shell.execute_reply.started": "2024-06-01T21:31:43.301840Z"
    }
   },
   "outputs": [],
   "source": [
    "true_diff = [re - ue for re, ue in zip(true_re,true_ue)]\n",
    "source_diff = [re - ue for re, ue in zip(source_re,source_ue)]"
   ]
  },
  {
   "cell_type": "code",
   "execution_count": 1215,
   "metadata": {
    "execution": {
     "iopub.execute_input": "2024-06-01T21:26:17.826872Z",
     "iopub.status.busy": "2024-06-01T21:26:17.826872Z",
     "iopub.status.idle": "2024-06-01T21:26:17.841831Z",
     "shell.execute_reply": "2024-06-01T21:26:17.841831Z",
     "shell.execute_reply.started": "2024-06-01T21:26:17.826872Z"
    }
   },
   "outputs": [],
   "source": [
    "markov_diff = [re - ue for re, ue in zip(markov_re,markov_ue)]\n",
    "ar_diff = [re - ue for re, ue in zip(ar_re,ar_ue)]\n",
    "gan_diff = [re - ue for re, ue in zip(gan_re,gan_ue)]"
   ]
  },
  {
   "cell_type": "code",
   "execution_count": 244,
   "metadata": {
    "execution": {
     "iopub.execute_input": "2024-05-30T13:40:26.073727Z",
     "iopub.status.busy": "2024-05-30T13:40:26.073727Z",
     "iopub.status.idle": "2024-05-30T13:40:26.089017Z",
     "shell.execute_reply": "2024-05-30T13:40:26.089017Z",
     "shell.execute_reply.started": "2024-05-30T13:40:26.073727Z"
    }
   },
   "outputs": [],
   "source": [
    "epr_diff = [re - ue for re, ue in zip(epr_re, epr_ue)]"
   ]
  },
  {
   "cell_type": "code",
   "execution_count": 1252,
   "metadata": {
    "execution": {
     "iopub.execute_input": "2024-06-01T21:31:45.103504Z",
     "iopub.status.busy": "2024-06-01T21:31:45.103504Z",
     "iopub.status.idle": "2024-06-01T21:31:45.519449Z",
     "shell.execute_reply": "2024-06-01T21:31:45.519449Z",
     "shell.execute_reply.started": "2024-06-01T21:31:45.103504Z"
    }
   },
   "outputs": [
    {
     "data": {
      "image/png": "[encoded data removed]",
      "text/plain": [
       "<Figure size 800x300 with 1 Axes>"
      ]
     },
     "metadata": {},
     "output_type": "display_data"
    }
   ],
   "source": [
    "fig, ax = plt.subplots(1, 1, figsize=(8, 3))\n",
    "\n",
    "x = np.linspace(-1, 1, 100)\n",
    "\n",
    "density = stats.gaussian_kde(true_diff)\n",
    "ax.plot(x, density(x), label=\"true\")\n",
    "\n",
    "# density = stats.gaussian_kde(source_diff)\n",
    "# x = np.linspace(-1, 1, 100)\n",
    "# ax.plot(x, density(x), label=\"source\")\n",
    "\n",
    "for pre, label in zip(pred_diff, diff_file_name):\n",
    "    density = stats.gaussian_kde(pre)\n",
    "    ax.plot(x, density(x), label=label)\n",
    "\n",
    "# density = stats.gaussian_kde(ar_diff)\n",
    "# ax.plot(x, density(x), label=\"MHSA decode (ours)\")\n",
    "\n",
    "# density = stats.gaussian_kde(markov_diff)\n",
    "# ax.plot(x, density(x), label=\"markov\", alpha=0.5)\n",
    "\n",
    "# density = stats.gaussian_kde(gan_diff)\n",
    "# ax.plot(x, density(x), label=\"gan\", alpha=0.5)\n",
    "\n",
    "# density = stats.gaussian_kde(epr_diff)\n",
    "# ax.plot(x, density(x), label=\"epr\", alpha=0.5)\n",
    "\n",
    "plt.legend(prop={\"size\": 13})\n",
    "plt.xlabel(\"$S_{temp} - S_{unc}$\", fontsize=16)\n",
    "plt.ylabel(\"probability\", fontsize=16)\n",
    "\n",
    "# plt.savefig(r'.\\metrics\\figures\\ent_diff.png', bbox_inches='tight', dpi=600)\n",
    "plt.show()"
   ]
  },
  {
   "cell_type": "code",
   "execution_count": 253,
   "metadata": {
    "execution": {
     "iopub.execute_input": "2024-04-25T09:29:59.949618Z",
     "iopub.status.busy": "2024-04-25T09:29:59.948621Z",
     "iopub.status.idle": "2024-04-25T09:30:02.112851Z",
     "shell.execute_reply": "2024-04-25T09:30:02.112851Z",
     "shell.execute_reply.started": "2024-04-25T09:29:59.949618Z"
    }
   },
   "outputs": [
    {
     "name": "stdout",
     "output_type": "stream",
     "text": [
      "Prediction and True: 0.532\t Source and True: 0.263\n"
     ]
    }
   ],
   "source": [
    "predict_density = stats.gaussian_kde(pred_diff[0])\n",
    "true_density = stats.gaussian_kde(true_diff)\n",
    "source_density = stats.gaussian_kde(source_diff)\n",
    "\n",
    "x = np.linspace(-1, 1, 1000)\n",
    "\n",
    "pred_true_diff = distance.jensenshannon(predict_density(x), true_density(x))\n",
    "source_true_diff = distance.jensenshannon(source_density(x), true_density(x))\n",
    "\n",
    "print(f\"Prediction and True: {pred_true_diff:.3f}\\t Source and True: {source_true_diff:.3f}\")"
   ]
  },
  {
   "cell_type": "code",
   "execution_count": 254,
   "metadata": {
    "execution": {
     "iopub.execute_input": "2024-04-25T09:30:24.932840Z",
     "iopub.status.busy": "2024-04-25T09:30:24.932840Z",
     "iopub.status.idle": "2024-04-25T09:30:27.687327Z",
     "shell.execute_reply": "2024-04-25T09:30:27.687327Z",
     "shell.execute_reply.started": "2024-04-25T09:30:24.932840Z"
    }
   },
   "outputs": [
    {
     "name": "stdout",
     "output_type": "stream",
     "text": [
      "Markov and True: 0.340\t AR and True: 0.141\t GAN and True: 0.717\n"
     ]
    }
   ],
   "source": [
    "markov_density = stats.gaussian_kde(markov_diff)\n",
    "markov_true_diff = distance.jensenshannon(markov_density(x), true_density(x))\n",
    "\n",
    "ar_density = stats.gaussian_kde(ar_diff)\n",
    "ar_true_diff = distance.jensenshannon(ar_density(x), true_density(x))\n",
    "\n",
    "gan_density = stats.gaussian_kde(gan_diff)\n",
    "gan_true_diff = distance.jensenshannon(gan_density(x), true_density(x))\n",
    "\n",
    "print(f\"Markov and True: {markov_true_diff:.3f}\\t AR and True: {ar_true_diff:.3f}\\t GAN and True: {gan_true_diff:.3f}\")"
   ]
  },
  {
   "cell_type": "code",
   "execution_count": 255,
   "metadata": {
    "execution": {
     "iopub.execute_input": "2024-04-25T09:30:28.276231Z",
     "iopub.status.busy": "2024-04-25T09:30:28.276231Z",
     "iopub.status.idle": "2024-04-25T09:30:29.567890Z",
     "shell.execute_reply": "2024-04-25T09:30:29.567890Z",
     "shell.execute_reply.started": "2024-04-25T09:30:28.276231Z"
    }
   },
   "outputs": [
    {
     "name": "stdout",
     "output_type": "stream",
     "text": [
      "EPR and True: 0.389\n"
     ]
    }
   ],
   "source": [
    "epr_density = stats.gaussian_kde(epr_diff)\n",
    "epr_true_diff = distance.jensenshannon(epr_density(x), true_density(x))\n",
    "\n",
    "print(f\"EPR and True: {epr_true_diff:.3f}\")"
   ]
  },
  {
   "cell_type": "code",
   "execution_count": 327,
   "metadata": {
    "execution": {
     "iopub.execute_input": "2024-04-17T13:22:15.091439Z",
     "iopub.status.busy": "2024-04-17T13:22:15.091439Z",
     "iopub.status.idle": "2024-04-17T13:22:54.625938Z",
     "shell.execute_reply": "2024-04-17T13:22:54.625166Z",
     "shell.execute_reply.started": "2024-04-17T13:22:15.091439Z"
    }
   },
   "outputs": [],
   "source": [
    "predict_lk = predict_density.logpdf(true_diff)\n",
    "epr_lk = epr_density.logpdf(true_diff)"
   ]
  },
  {
   "cell_type": "code",
   "execution_count": 335,
   "metadata": {
    "execution": {
     "iopub.execute_input": "2024-04-17T13:27:54.641264Z",
     "iopub.status.busy": "2024-04-17T13:27:54.641264Z",
     "iopub.status.idle": "2024-04-17T13:28:31.859406Z",
     "shell.execute_reply": "2024-04-17T13:28:31.859406Z",
     "shell.execute_reply.started": "2024-04-17T13:27:54.641264Z"
    }
   },
   "outputs": [],
   "source": [
    "markov_lk = markov_density.logpdf(true_diff)\n",
    "ar_lk = ar_density.logpdf(true_diff)"
   ]
  },
  {
   "cell_type": "code",
   "execution_count": 337,
   "metadata": {
    "execution": {
     "iopub.execute_input": "2024-04-17T13:28:50.048525Z",
     "iopub.status.busy": "2024-04-17T13:28:50.048525Z",
     "iopub.status.idle": "2024-04-17T13:28:50.071467Z",
     "shell.execute_reply": "2024-04-17T13:28:50.071467Z",
     "shell.execute_reply.started": "2024-04-17T13:28:50.048525Z"
    }
   },
   "outputs": [
    {
     "data": {
      "text/plain": [
       "(-14554.282355123138, 0.0)"
      ]
     },
     "execution_count": 337,
     "metadata": {},
     "output_type": "execute_result"
    }
   ],
   "source": [
    "def loglikelihood_ratio(loglikelihoods1, loglikelihoods2,normalized_ratio=False):\n",
    "    from numpy import sqrt\n",
    "    from scipy.special import erfc\n",
    "\n",
    "    n = float(len(loglikelihoods1))\n",
    "\n",
    "    if n==0:\n",
    "        R = 0\n",
    "        p = 1\n",
    "        return R, p\n",
    "    from numpy import asarray\n",
    "    loglikelihoods1 = asarray(loglikelihoods1)\n",
    "    loglikelihoods2 = asarray(loglikelihoods2)\n",
    "\n",
    "    #Clean for extreme values, if any\n",
    "    from numpy import inf, log\n",
    "    from sys import float_info\n",
    "    min_val = log(10**float_info.min_10_exp)\n",
    "    loglikelihoods1[loglikelihoods1==-inf] = min_val\n",
    "    loglikelihoods2[loglikelihoods2==-inf] = min_val\n",
    "\n",
    "    R = sum(loglikelihoods1-loglikelihoods2)\n",
    "\n",
    "    from numpy import mean\n",
    "    mean_diff = mean(loglikelihoods1)-mean(loglikelihoods2)\n",
    "    variance = sum(( (loglikelihoods1-loglikelihoods2) - mean_diff)**2)/n\n",
    "\n",
    "    p = erfc( abs(R) / sqrt(2*n*variance))\n",
    "\n",
    "    return R, p\n"
   ]
  },
  {
   "cell_type": "code",
   "execution_count": 338,
   "metadata": {
    "execution": {
     "iopub.execute_input": "2024-04-17T13:29:11.439624Z",
     "iopub.status.busy": "2024-04-17T13:29:11.439624Z",
     "iopub.status.idle": "2024-04-17T13:29:11.455016Z",
     "shell.execute_reply": "2024-04-17T13:29:11.455016Z",
     "shell.execute_reply.started": "2024-04-17T13:29:11.439624Z"
    }
   },
   "outputs": [
    {
     "data": {
      "text/plain": [
       "(-45057.917133547104, 8.342522715116849e-282)"
      ]
     },
     "execution_count": 338,
     "metadata": {},
     "output_type": "execute_result"
    }
   ],
   "source": [
    "loglikelihood_ratio(predict_lk, markov_lk)"
   ]
  },
  {
   "cell_type": "code",
   "execution_count": 339,
   "metadata": {
    "execution": {
     "iopub.execute_input": "2024-04-17T13:29:14.184736Z",
     "iopub.status.busy": "2024-04-17T13:29:14.184736Z",
     "iopub.status.idle": "2024-04-17T13:29:14.201101Z",
     "shell.execute_reply": "2024-04-17T13:29:14.201101Z",
     "shell.execute_reply.started": "2024-04-17T13:29:14.184736Z"
    }
   },
   "outputs": [
    {
     "data": {
      "text/plain": [
       "(-59612.19948867087, 0.0)"
      ]
     },
     "execution_count": 339,
     "metadata": {},
     "output_type": "execute_result"
    }
   ],
   "source": [
    "loglikelihood_ratio(predict_lk, ar_lk)"
   ]
  },
  {
   "cell_type": "code",
   "execution_count": 340,
   "metadata": {
    "execution": {
     "iopub.execute_input": "2024-04-17T13:29:16.439981Z",
     "iopub.status.busy": "2024-04-17T13:29:16.439981Z",
     "iopub.status.idle": "2024-04-17T13:29:16.457440Z",
     "shell.execute_reply": "2024-04-17T13:29:16.457440Z",
     "shell.execute_reply.started": "2024-04-17T13:29:16.439981Z"
    }
   },
   "outputs": [
    {
     "data": {
      "text/plain": [
       "(-14554.282355123138, 0.0)"
      ]
     },
     "execution_count": 340,
     "metadata": {},
     "output_type": "execute_result"
    }
   ],
   "source": [
    "loglikelihood_ratio(markov_lk, ar_lk)"
   ]
  },
  {
   "cell_type": "code",
   "execution_count": 329,
   "metadata": {
    "execution": {
     "iopub.execute_input": "2024-04-17T13:23:10.287270Z",
     "iopub.status.busy": "2024-04-17T13:23:10.287270Z",
     "iopub.status.idle": "2024-04-17T13:23:10.303227Z",
     "shell.execute_reply": "2024-04-17T13:23:10.303227Z",
     "shell.execute_reply.started": "2024-04-17T13:23:10.287270Z"
    }
   },
   "outputs": [
    {
     "data": {
      "text/plain": [
       "104632.93332755628"
      ]
     },
     "execution_count": 329,
     "metadata": {},
     "output_type": "execute_result"
    }
   ],
   "source": [
    "R"
   ]
  }
 ],
 "metadata": {
  "kernelspec": {
   "display_name": "Python 3 (ipykernel)",
   "language": "python",
   "name": "python3"
  },
  "language_info": {
   "codemirror_mode": {
    "name": "ipython",
    "version": 3
   },
   "file_extension": ".py",
   "mimetype": "text/x-python",
   "name": "python",
   "nbconvert_exporter": "python",
   "pygments_lexer": "ipython3",
   "version": "3.9.17"
  },
  "vscode": {
   "interpreter": {
    "hash": "659ffd3ea00dbbc52f857660b8dafea05f804bc55dd91047cefb31e38b5505f6"
   }
  }
 },
 "nbformat": 4,
 "nbformat_minor": 4
}
