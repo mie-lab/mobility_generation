{
 "cells": [
  {
   "cell_type": "code",
   "execution_count": 1,
   "metadata": {
    "execution": {
     "iopub.execute_input": "2024-11-22T10:31:43.391959Z",
     "iopub.status.busy": "2024-11-22T10:31:43.390958Z",
     "iopub.status.idle": "2024-11-22T10:31:45.000519Z",
     "shell.execute_reply": "2024-11-22T10:31:45.000519Z",
     "shell.execute_reply.started": "2024-11-22T10:31:43.391959Z"
    }
   },
   "outputs": [],
   "source": [
    "import os\n",
    "import numpy as np\n",
    "import pandas as pd\n",
    "import geopandas as gpd\n",
    "import pickle as pickle\n",
    "import json\n",
    "\n",
    "from shapely import wkt\n",
    "\n",
    "from joblib import Parallel, delayed\n",
    "import multiprocessing\n",
    "\n",
    "import scipy.stats as stats\n",
    "from scipy.spatial import distance\n",
    "from sklearn.preprocessing import OrdinalEncoder\n",
    "from easydict import EasyDict as edict\n",
    "from tqdm import tqdm\n",
    "\n",
    "from scipy.stats import wasserstein_distance\n",
    "\n",
    "from nltk.translate.bleu_score import sentence_bleu, SmoothingFunction\n",
    "import nltk\n",
    "\n",
    "import powerlaw"
   ]
  },
  {
   "cell_type": "code",
   "execution_count": 2,
   "metadata": {
    "execution": {
     "iopub.execute_input": "2024-11-22T10:31:45.001523Z",
     "iopub.status.busy": "2024-11-22T10:31:45.001523Z",
     "iopub.status.idle": "2024-11-22T10:31:47.019670Z",
     "shell.execute_reply": "2024-11-22T10:31:47.019670Z",
     "shell.execute_reply.started": "2024-11-22T10:31:45.001523Z"
    }
   },
   "outputs": [],
   "source": [
    "# import sys\n",
    "# sys.path.insert(1, os.path.join(sys.path[0], '..'))\n",
    "from utils.utils import setup_seed, load_config"
   ]
  },
  {
   "cell_type": "code",
   "execution_count": 3,
   "metadata": {
    "execution": {
     "iopub.execute_input": "2024-11-22T10:31:47.020674Z",
     "iopub.status.busy": "2024-11-22T10:31:47.020674Z",
     "iopub.status.idle": "2024-11-22T10:31:47.366796Z",
     "shell.execute_reply": "2024-11-22T10:31:47.366796Z",
     "shell.execute_reply.started": "2024-11-22T10:31:47.020674Z"
    }
   },
   "outputs": [],
   "source": [
    "import matplotlib.pyplot as plt\n",
    "import matplotlib\n",
    "\n",
    "np.set_printoptions(precision=4)\n",
    "np.set_printoptions(suppress=True)\n",
    "\n",
    "\n",
    "colors = plt.rcParams[\"axes.prop_cycle\"].by_key()[\"color\"]\n"
   ]
  },
  {
   "cell_type": "code",
   "execution_count": 4,
   "metadata": {
    "execution": {
     "iopub.execute_input": "2024-11-22T10:31:47.367800Z",
     "iopub.status.busy": "2024-11-22T10:31:47.367800Z",
     "iopub.status.idle": "2024-11-22T10:31:47.378445Z",
     "shell.execute_reply": "2024-11-22T10:31:47.378445Z",
     "shell.execute_reply.started": "2024-11-22T10:31:47.367800Z"
    }
   },
   "outputs": [],
   "source": [
    "def _apply_parallel(ls, func, n=-1, **kwargs):\n",
    "    \"\"\"parallel apply for spending up.\"\"\"\n",
    "    length = len(ls)\n",
    "    cpunum = multiprocessing.cpu_count()\n",
    "    if length < cpunum:\n",
    "        spnum = length\n",
    "    if n < 0:\n",
    "        spnum = cpunum + n + 1\n",
    "    else:\n",
    "        spnum = n or 1\n",
    "\n",
    "    return Parallel(n_jobs=n, verbose=0)(delayed(func)(seq, **kwargs) for seq in ls)\n",
    "\n",
    "def loglikelihood_ratio(loglikelihoods1, loglikelihoods2,normalized_ratio=False):\n",
    "    from numpy import sqrt\n",
    "    from scipy.special import erfc\n",
    "\n",
    "    n = float(len(loglikelihoods1))\n",
    "\n",
    "    if n==0:\n",
    "        R = 0\n",
    "        p = 1\n",
    "        return R, p\n",
    "    from numpy import asarray\n",
    "    loglikelihoods1 = asarray(loglikelihoods1)\n",
    "    loglikelihoods2 = asarray(loglikelihoods2)\n",
    "\n",
    "    #Clean for extreme values, if any\n",
    "    from numpy import inf, log\n",
    "    from sys import float_info\n",
    "    min_val = log(10**float_info.min_10_exp)\n",
    "    loglikelihoods1[loglikelihoods1==-inf] = min_val\n",
    "    loglikelihoods2[loglikelihoods2==-inf] = min_val\n",
    "\n",
    "    R = sum(loglikelihoods1-loglikelihoods2)\n",
    "\n",
    "    from numpy import mean\n",
    "    mean_diff = mean(loglikelihoods1)-mean(loglikelihoods2)\n",
    "    variance = sum(( (loglikelihoods1-loglikelihoods2) - mean_diff)**2)/n\n",
    "\n",
    "    p = erfc( abs(R) / sqrt(2*n*variance))\n",
    "\n",
    "    return R, p\n",
    "\n",
    "def getAIC(fit, empr):\n",
    "    aics = []\n",
    "\n",
    "    aics.append(-2*np.sum(fit.truncated_power_law.loglikelihoods(empr))+4)\n",
    "    aics.append(-2*np.sum(fit.power_law.loglikelihoods(empr))+2)\n",
    "    aics.append(-2*np.sum(fit.lognormal.loglikelihoods(empr))+4)\n",
    "    \n",
    "    aics = aics-np.min(aics)\n",
    "    \n",
    "    down = np.sum([np.exp(-aic/2) for aic in aics])    \n",
    "        \n",
    "    res = {}\n",
    "    res['truncated_power_law'] = np.exp(-aics[0]/2)/down\n",
    "    res['power_law'] = np.exp(-aics[1]/2)/down\n",
    "    res['lognormal'] = np.exp(-aics[2]/2)/down\n",
    "\n",
    "    return res"
   ]
  },
  {
   "cell_type": "markdown",
   "metadata": {},
   "source": [
    "# Read \n",
    "\n",
    "## Read sequences"
   ]
  },
  {
   "cell_type": "code",
   "execution_count": 5,
   "metadata": {
    "execution": {
     "iopub.execute_input": "2024-11-22T10:32:06.536677Z",
     "iopub.status.busy": "2024-11-22T10:32:06.536677Z",
     "iopub.status.idle": "2024-11-22T10:32:14.296814Z",
     "shell.execute_reply": "2024-11-22T10:32:14.296814Z",
     "shell.execute_reply.started": "2024-11-22T10:32:06.536677Z"
    }
   },
   "outputs": [],
   "source": [
    "file_dir = [    \n",
    "    # \".\\\\data\\\\validation\\\\na_multi_0_layer6_14_200_1_200.json\",\n",
    "    # \".\\\\data\\\\validation\\\\na_layer6_14_200_1_200.json\", # no time\n",
    "    \n",
    "    # \".\\\\data\\\\validation\\\\na_layer6_linear_long_14_250_1_200.json\",\n",
    "    # \".\\\\data\\\\validation\\\\na_layer6_linear_long_run2_14_250_1_200.json\",\n",
    "\n",
    "    # \".\\\\data\\\\validation\\\\na_layer6_large_14_200_1_200.json\",\n",
    "    # \".\\\\data\\\\validation\\\\na_layer6_linear_14_200_1_200_seed101.json\",\n",
    "    # \".\\\\data\\\\validation\\\\na_layer6_linear_14_200_1_200_seed102.json\", \n",
    "    # \".\\\\data\\\\validation\\\\na_layer6_linear_14_200_1_200_seed103.json\", \n",
    "    \n",
    "    # \".\\\\data\\\\validation\\\\na_layer6_linear_relu_14_250_1_200_seed101.json\",\n",
    "    \".\\\\data\\\\validation\\\\na_layer6_linear_relu_14_250_1_200_seed102.json\",\n",
    "    # \".\\\\data\\\\validation\\\\na_layer6_linear_relu_14_250_1_200_seed103.json\",\n",
    "    # \".\\\\data\\\\validation\\\\na_layer6_linear_relu_14_250_1_200_seed104.json\",\n",
    "    # \".\\\\data\\\\validation\\\\na_layer6_linear_relu_14_250_1_200_seed105.json\",\n",
    "\n",
    "    # \".\\\\data\\\\validation\\\\na_layer6_linear_relu_smallLR_14_250_1_200.json\",\n",
    "\n",
    "    # \".\\\\data\\\\validation\\\\ablation\\\\base_200_101.json\",\n",
    "    # \".\\\\data\\\\validation\\\\ablation\\\\base_200_102.json\",\n",
    "    \n",
    "    # \".\\\\data\\\\validation\\\\ablation\\\\base_20_101.json\",\n",
    "    # \".\\\\data\\\\validation\\\\ablation\\\\base_20_102.json\",\n",
    "    # \".\\\\data\\\\validation\\\\ablation\\\\base_ctx_20_103.json\",\n",
    "\n",
    "    # \".\\\\data\\\\validation\\\\ablation\\\\layer2\\\\duration_ctx_20_102.json\",\n",
    "    # \".\\\\data\\\\validation\\\\ablation\\\\layer2\\\\mode_ctx_20_102.json\",\n",
    "\n",
    "    # \".\\\\data\\\\validation\\\\ablation\\\\layer2\\\\mode_ctx_200_20_102.json\",\n",
    "\n",
    "    # \".\\\\data\\\\validation\\\\ablation\\\\layer4\\\\mode_duration_95_20_101.json\",\n",
    "    # \".\\\\data\\\\validation\\\\ablation\\\\layer4\\\\mode_duration_100_20_101.json\",\n",
    "    # \".\\\\data\\\\validation\\\\ablation\\\\layer4\\\\mode_duration_110_20_101.json\",\n",
    "    # \".\\\\data\\\\validation\\\\ablation\\\\layer4\\\\mode_duration_120_20_101.json\",\n",
    "    # \".\\\\data\\\\validation\\\\ablation\\\\layer4\\\\mode_duration_130_20_101.json\",\n",
    "\n",
    "    # \".\\\\data\\\\validation\\\\ablation\\\\layer6\\\\duration_20_100.json\",\n",
    "    # \".\\\\data\\\\validation\\\\ablation\\\\layer6\\\\duration_20_101.json\",\n",
    "    # \".\\\\data\\\\validation\\\\ablation\\\\layer6\\\\duration_20_102.json\",\n",
    "    # \".\\\\data\\\\validation\\\\ablation\\\\layer6\\\\duration_20_103.json\",\n",
    "    \n",
    "    # \".\\\\data\\\\validation\\\\ablation\\\\layer4\\\\mode_ctx_80_20_101.json\",\n",
    "    # \".\\\\data\\\\validation\\\\ablation\\\\layer4\\\\mode_ctx_110_100_101.json\",\n",
    "    # \".\\\\data\\\\validation\\\\ablation\\\\layer4\\\\mode_ctx_120_100_101.json\",\n",
    "    # \".\\\\data\\\\validation\\\\ablation\\\\layer4\\\\mode_ctx_130_100_101.json\",\n",
    "    # \".\\\\data\\\\validation\\\\ablation\\\\layer4\\\\mode_ctx_150_20_101.json\",\n",
    "\n",
    "    # \".\\\\data\\\\validation\\\\ablation\\\\layer2\\\\mode_ctx_200_20_102.json\",\n",
    "\n",
    "    # \".\\\\data\\\\validation\\\\ablation\\\\layer6\\\\small_mode_ctx_lr4_seed101_200_100_101.json\",\n",
    "    # \".\\\\data\\\\validation\\\\ablation\\\\layer6\\\\small_mode_ctx_lr4_seed102_200_100_101.json\",\n",
    "    # \".\\\\data\\\\validation\\\\ablation\\\\layer6\\\\small_mode_ctx_lr4_seed110_200_100_101.json\",\n",
    "    \".\\\\data\\\\validation\\\\ablation\\\\layer6\\\\tiny_mode_ctx_lr4_200_100_101.json\",    \n",
    "    \n",
    "    # \".\\\\data\\\\validation\\\\ablation\\\\base_ctx_200_101.json\",\n",
    "    # \".\\\\data\\\\validation\\\\ablation\\\\base_ctx_20_101.json\",\n",
    "    # \".\\\\data\\\\validation\\\\ablation\\\\base_ctx_102.json\",\n",
    "    # \".\\\\data\\\\validation\\\\ablation\\\\base_ctx_103.json\",\n",
    "\n",
    "    # \".\\\\data\\\\validation\\\\ablation\\\\mode_ctx_50_20_102.json\",\n",
    "    # \".\\\\data\\\\validation\\\\ablation\\\\mode_ctx_100_20_102.json\",\n",
    "    # \".\\\\data\\\\validation\\\\ablation\\\\mode_ctx_150_20_102.json\",\n",
    "    # \".\\\\data\\\\validation\\\\ablation\\\\mode_ctx_170_20_102.json\",\n",
    "    \n",
    "    \n",
    "    # \".\\\\data\\\\validation\\\\ablation\\\\layer6\\\\duration_ctx_20_102.json\",\n",
    "    # \".\\\\data\\\\validation\\\\ablation\\\\mode_ctx_180_20_102.json\",\n",
    "    # \".\\\\data\\\\validation\\\\ablation\\\\mode_duration_200_20_102.json\",\n",
    "    \n",
    "]\n",
    "\n",
    "predict_ls = []\n",
    "true_ls = []\n",
    "src_ls = []\n",
    "\n",
    "for i, file in enumerate(file_dir):\n",
    "    predict_curr = []\n",
    "    with open(file, \"r\") as f_reader:\n",
    "        for row in f_reader:\n",
    "            content = json.loads(row)\n",
    "\n",
    "            if i == 0:\n",
    "                src_ls.append((np.array(content[\"source\"])))\n",
    "    \n",
    "                target_arr = np.array(content[\"target\"])\n",
    "                try:\n",
    "                    target_arr = target_arr[:np.where(target_arr == 0)[0][0]]\n",
    "                except IndexError:\n",
    "                    target_arr = target_arr\n",
    "                true_ls.append(target_arr)\n",
    "\n",
    "            if len(content[\"recover\"]) >= 50:\n",
    "                predict_curr.append(np.array(content[\"recover\"][:50]).squeeze())\n",
    "            else:\n",
    "                print(len(content[\"recover\"]))\n",
    "    predict_ls.append(predict_curr)\n"
   ]
  },
  {
   "cell_type": "code",
   "execution_count": 6,
   "metadata": {
    "execution": {
     "iopub.execute_input": "2024-11-22T10:32:14.297818Z",
     "iopub.status.busy": "2024-11-22T10:32:14.297818Z",
     "iopub.status.idle": "2024-11-22T10:32:14.303540Z",
     "shell.execute_reply": "2024-11-22T10:32:14.303540Z",
     "shell.execute_reply.started": "2024-11-22T10:32:14.297818Z"
    }
   },
   "outputs": [
    {
     "data": {
      "text/plain": [
       "(2, 36285, 36285, 36285)"
      ]
     },
     "execution_count": 6,
     "metadata": {},
     "output_type": "execute_result"
    }
   ],
   "source": [
    "len(predict_ls), len(predict_ls[0]), len(true_ls), len(src_ls)"
   ]
  },
  {
   "cell_type": "code",
   "execution_count": 7,
   "metadata": {
    "execution": {
     "iopub.execute_input": "2024-11-22T10:32:14.304543Z",
     "iopub.status.busy": "2024-11-22T10:32:14.304543Z",
     "iopub.status.idle": "2024-11-22T10:32:14.329673Z",
     "shell.execute_reply": "2024-11-22T10:32:14.329673Z",
     "shell.execute_reply.started": "2024-11-22T10:32:14.304543Z"
    }
   },
   "outputs": [
    {
     "data": {
      "text/plain": [
       "(138.37412153782554, 47.75587708419457, 50, 2)"
      ]
     },
     "execution_count": 7,
     "metadata": {},
     "output_type": "execute_result"
    }
   ],
   "source": [
    "np.mean([len(seq) for seq in src_ls]), np.mean([len(seq) for seq in true_ls])\\\n",
    ", np.max([len(seq) for seq in true_ls]), np.min([len(seq) for seq in true_ls])"
   ]
  },
  {
   "cell_type": "code",
   "execution_count": 8,
   "metadata": {
    "execution": {
     "iopub.execute_input": "2024-11-22T10:32:14.330680Z",
     "iopub.status.busy": "2024-11-22T10:32:14.330680Z",
     "iopub.status.idle": "2024-11-22T10:32:14.335062Z",
     "shell.execute_reply": "2024-11-22T10:32:14.335062Z",
     "shell.execute_reply.started": "2024-11-22T10:32:14.330680Z"
    }
   },
   "outputs": [
    {
     "data": {
      "text/plain": [
       "['na_layer6_linear_relu_14_250_1_200_seed102', 'tiny_mode_ctx_lr4_200_100_101']"
      ]
     },
     "execution_count": 8,
     "metadata": {},
     "output_type": "execute_result"
    }
   ],
   "source": [
    "diff_file_name = [name.split(\"\\\\\")[-1].split(\".\")[0] for name in file_dir]\n",
    "# diff_file_name = [\"Diffusion (Ours)\"]\n",
    "# diff_file_name = [\"Base\", \"Base + xy + POI\"]\n",
    "diff_file_name "
   ]
  },
  {
   "cell_type": "code",
   "execution_count": 9,
   "metadata": {
    "execution": {
     "iopub.execute_input": "2024-11-22T10:32:14.336066Z",
     "iopub.status.busy": "2024-11-22T10:32:14.336066Z",
     "iopub.status.idle": "2024-11-22T10:32:15.040663Z",
     "shell.execute_reply": "2024-11-22T10:32:15.040663Z",
     "shell.execute_reply.started": "2024-11-22T10:32:14.336066Z"
    }
   },
   "outputs": [],
   "source": [
    "clean_predict_ls = []\n",
    "for ls in predict_ls:\n",
    "    clean_data = []\n",
    "    for x in ls:\n",
    "        clean_data.append(np.array([28741 if item>28741 else item for item in x]))\n",
    "    clean_predict_ls.append(clean_data)\n",
    "\n",
    "clean_true = []\n",
    "for x in true_ls:\n",
    "    clean_true.append(np.array([28741 if item>28741 else item for item in x]))\n",
    "    \n",
    "# 14882 -> 14976 (28743 -> 28800)"
   ]
  },
  {
   "cell_type": "code",
   "execution_count": 10,
   "metadata": {
    "execution": {
     "iopub.execute_input": "2024-11-22T10:32:15.041668Z",
     "iopub.status.busy": "2024-11-22T10:32:15.041668Z",
     "iopub.status.idle": "2024-11-22T10:32:15.651056Z",
     "shell.execute_reply": "2024-11-22T10:32:15.651056Z",
     "shell.execute_reply.started": "2024-11-22T10:32:15.041668Z"
    }
   },
   "outputs": [
    {
     "name": "stdout",
     "output_type": "stream",
     "text": [
      "28738 28738\n",
      "28739 28739\n",
      "28741 28741\n"
     ]
    }
   ],
   "source": [
    "for i in range(len(predict_ls)):\n",
    "    print(np.max([np.max(x) for x in predict_ls[i]]), np.max([np.max(x) for x in clean_predict_ls[i]]))\n",
    "\n",
    "print(np.max([np.max(x) for x in true_ls]), np.max([np.max(x) for x in clean_true]))"
   ]
  },
  {
   "cell_type": "code",
   "execution_count": 11,
   "metadata": {
    "execution": {
     "iopub.execute_input": "2024-11-22T10:32:15.652063Z",
     "iopub.status.busy": "2024-11-22T10:32:15.652063Z",
     "iopub.status.idle": "2024-11-22T10:32:15.669025Z",
     "shell.execute_reply": "2024-11-22T10:32:15.669025Z",
     "shell.execute_reply.started": "2024-11-22T10:32:15.652063Z"
    }
   },
   "outputs": [],
   "source": [
    "predict_ls = clean_predict_ls\n",
    "true_ls = clean_true"
   ]
  },
  {
   "cell_type": "markdown",
   "metadata": {},
   "source": [
    "## Read all locations"
   ]
  },
  {
   "cell_type": "code",
   "execution_count": 12,
   "metadata": {
    "execution": {
     "iopub.execute_input": "2024-11-22T10:32:25.006310Z",
     "iopub.status.busy": "2024-11-22T10:32:25.006310Z",
     "iopub.status.idle": "2024-11-22T10:32:25.019129Z",
     "shell.execute_reply": "2024-11-22T10:32:25.019129Z",
     "shell.execute_reply.started": "2024-11-22T10:32:25.006310Z"
    }
   },
   "outputs": [],
   "source": [
    "# initialization\n",
    "config = load_config(\"./config/diff.yml\")\n",
    "config = edict(config)"
   ]
  },
  {
   "cell_type": "code",
   "execution_count": 13,
   "metadata": {
    "execution": {
     "iopub.execute_input": "2024-11-22T10:32:25.191274Z",
     "iopub.status.busy": "2024-11-22T10:32:25.191274Z",
     "iopub.status.idle": "2024-11-22T10:32:25.833249Z",
     "shell.execute_reply": "2024-11-22T10:32:25.833249Z",
     "shell.execute_reply.started": "2024-11-22T10:32:25.191274Z"
    }
   },
   "outputs": [],
   "source": [
    "all_locs = pd.read_csv(os.path.join(\"data\", \"s2_loc_visited_level10_14.csv\"), index_col=\"id\")\n",
    "all_locs[\"geometry\"] = all_locs[\"geometry\"].apply(wkt.loads)\n",
    "all_locs = gpd.GeoDataFrame(all_locs, geometry=\"geometry\", crs=\"EPSG:4326\")\n",
    "# transform to projected coordinate systems\n",
    "all_locs = all_locs.to_crs(\"EPSG:2056\")"
   ]
  },
  {
   "cell_type": "code",
   "execution_count": 14,
   "metadata": {
    "execution": {
     "iopub.execute_input": "2024-11-22T10:32:25.834257Z",
     "iopub.status.busy": "2024-11-22T10:32:25.834257Z",
     "iopub.status.idle": "2024-11-22T10:32:25.843558Z",
     "shell.execute_reply": "2024-11-22T10:32:25.843558Z",
     "shell.execute_reply.started": "2024-11-22T10:32:25.834257Z"
    }
   },
   "outputs": [],
   "source": [
    "enc = OrdinalEncoder(dtype=np.int64, handle_unknown=\"use_encoded_value\", unknown_value=-1).fit(\n",
    "    all_locs[\"loc_id\"].values.reshape(-1, 1)\n",
    ")\n",
    "all_locs[\"loc_id\"] = enc.transform(all_locs[\"loc_id\"].values.reshape(-1, 1)) + 1"
   ]
  },
  {
   "cell_type": "code",
   "execution_count": 15,
   "metadata": {
    "execution": {
     "iopub.execute_input": "2024-11-22T10:32:25.844564Z",
     "iopub.status.busy": "2024-11-22T10:32:25.844564Z",
     "iopub.status.idle": "2024-11-22T10:32:25.864823Z",
     "shell.execute_reply": "2024-11-22T10:32:25.864823Z",
     "shell.execute_reply.started": "2024-11-22T10:32:25.844564Z"
    }
   },
   "outputs": [
    {
     "data": {
      "text/html": [
       "<div>\n",
       "<style scoped>\n",
       "    .dataframe tbody tr th:only-of-type {\n",
       "        vertical-align: middle;\n",
       "    }\n",
       "\n",
       "    .dataframe tbody tr th {\n",
       "        vertical-align: top;\n",
       "    }\n",
       "\n",
       "    .dataframe thead th {\n",
       "        text-align: right;\n",
       "    }\n",
       "</style>\n",
       "<table border=\"1\" class=\"dataframe\">\n",
       "  <thead>\n",
       "    <tr style=\"text-align: right;\">\n",
       "      <th></th>\n",
       "      <th>loc_id</th>\n",
       "      <th>level</th>\n",
       "      <th>geometry</th>\n",
       "      <th>freq</th>\n",
       "      <th>area</th>\n",
       "    </tr>\n",
       "    <tr>\n",
       "      <th>id</th>\n",
       "      <th></th>\n",
       "      <th></th>\n",
       "      <th></th>\n",
       "      <th></th>\n",
       "      <th></th>\n",
       "    </tr>\n",
       "  </thead>\n",
       "  <tbody>\n",
       "    <tr>\n",
       "      <th>0</th>\n",
       "      <td>1</td>\n",
       "      <td>10</td>\n",
       "      <td>POINT (2824875.045 1159436.528)</td>\n",
       "      <td>1</td>\n",
       "      <td>POLYGON ((10.405097146225662 46.50637570678295...</td>\n",
       "    </tr>\n",
       "    <tr>\n",
       "      <th>1</th>\n",
       "      <td>2</td>\n",
       "      <td>14</td>\n",
       "      <td>POINT (2822264.816 1168040.708)</td>\n",
       "      <td>37</td>\n",
       "      <td>POLYGON ((10.343581795559412 46.62397697413108...</td>\n",
       "    </tr>\n",
       "    <tr>\n",
       "      <th>2</th>\n",
       "      <td>3</td>\n",
       "      <td>14</td>\n",
       "      <td>POINT (2822152.250 1167511.806)</td>\n",
       "      <td>1</td>\n",
       "      <td>POLYGON ((10.341857399540116 46.61926019734832...</td>\n",
       "    </tr>\n",
       "    <tr>\n",
       "      <th>3</th>\n",
       "      <td>4</td>\n",
       "      <td>13</td>\n",
       "      <td>POINT (2815796.126 1167304.569)</td>\n",
       "      <td>1</td>\n",
       "      <td>POLYGON ((10.260953592346382 46.61685460820135...</td>\n",
       "    </tr>\n",
       "    <tr>\n",
       "      <th>4</th>\n",
       "      <td>5</td>\n",
       "      <td>13</td>\n",
       "      <td>POINT (2816020.303 1168362.492)</td>\n",
       "      <td>1</td>\n",
       "      <td>POLYGON ((10.264376293749178 46.62629143145975...</td>\n",
       "    </tr>\n",
       "    <tr>\n",
       "      <th>...</th>\n",
       "      <td>...</td>\n",
       "      <td>...</td>\n",
       "      <td>...</td>\n",
       "      <td>...</td>\n",
       "      <td>...</td>\n",
       "    </tr>\n",
       "    <tr>\n",
       "      <th>28736</th>\n",
       "      <td>28737</td>\n",
       "      <td>13</td>\n",
       "      <td>POINT (2767507.842 1213073.682)</td>\n",
       "      <td>1</td>\n",
       "      <td>POLYGON ((9.64763962539829 47.042237657717536,...</td>\n",
       "    </tr>\n",
       "    <tr>\n",
       "      <th>28737</th>\n",
       "      <td>28738</td>\n",
       "      <td>13</td>\n",
       "      <td>POINT (2768419.907 1212986.551)</td>\n",
       "      <td>1</td>\n",
       "      <td>POLYGON ((9.65960383635977 47.04122268391671, ...</td>\n",
       "    </tr>\n",
       "    <tr>\n",
       "      <th>28738</th>\n",
       "      <td>28739</td>\n",
       "      <td>13</td>\n",
       "      <td>POINT (2769332.126 1212899.406)</td>\n",
       "      <td>1</td>\n",
       "      <td>POLYGON ((9.671569607102107 47.04020629289218,...</td>\n",
       "    </tr>\n",
       "    <tr>\n",
       "      <th>28739</th>\n",
       "      <td>28740</td>\n",
       "      <td>13</td>\n",
       "      <td>POINT (2770244.499 1212812.246)</td>\n",
       "      <td>1</td>\n",
       "      <td>POLYGON ((9.68353693615797 47.039188484166594,...</td>\n",
       "    </tr>\n",
       "    <tr>\n",
       "      <th>28740</th>\n",
       "      <td>28741</td>\n",
       "      <td>14</td>\n",
       "      <td>POINT (2823136.074 1207488.117)</td>\n",
       "      <td>8</td>\n",
       "      <td>POLYGON ((10.374229888555108 46.97826438422001...</td>\n",
       "    </tr>\n",
       "  </tbody>\n",
       "</table>\n",
       "<p>28741 rows × 5 columns</p>\n",
       "</div>"
      ],
      "text/plain": [
       "       loc_id  level                         geometry  freq  \\\n",
       "id                                                            \n",
       "0           1     10  POINT (2824875.045 1159436.528)     1   \n",
       "1           2     14  POINT (2822264.816 1168040.708)    37   \n",
       "2           3     14  POINT (2822152.250 1167511.806)     1   \n",
       "3           4     13  POINT (2815796.126 1167304.569)     1   \n",
       "4           5     13  POINT (2816020.303 1168362.492)     1   \n",
       "...       ...    ...                              ...   ...   \n",
       "28736   28737     13  POINT (2767507.842 1213073.682)     1   \n",
       "28737   28738     13  POINT (2768419.907 1212986.551)     1   \n",
       "28738   28739     13  POINT (2769332.126 1212899.406)     1   \n",
       "28739   28740     13  POINT (2770244.499 1212812.246)     1   \n",
       "28740   28741     14  POINT (2823136.074 1207488.117)     8   \n",
       "\n",
       "                                                    area  \n",
       "id                                                        \n",
       "0      POLYGON ((10.405097146225662 46.50637570678295...  \n",
       "1      POLYGON ((10.343581795559412 46.62397697413108...  \n",
       "2      POLYGON ((10.341857399540116 46.61926019734832...  \n",
       "3      POLYGON ((10.260953592346382 46.61685460820135...  \n",
       "4      POLYGON ((10.264376293749178 46.62629143145975...  \n",
       "...                                                  ...  \n",
       "28736  POLYGON ((9.64763962539829 47.042237657717536,...  \n",
       "28737  POLYGON ((9.65960383635977 47.04122268391671, ...  \n",
       "28738  POLYGON ((9.671569607102107 47.04020629289218,...  \n",
       "28739  POLYGON ((9.68353693615797 47.039188484166594,...  \n",
       "28740  POLYGON ((10.374229888555108 46.97826438422001...  \n",
       "\n",
       "[28741 rows x 5 columns]"
      ]
     },
     "execution_count": 15,
     "metadata": {},
     "output_type": "execute_result"
    }
   ],
   "source": [
    "all_locs"
   ]
  },
  {
   "cell_type": "markdown",
   "metadata": {},
   "source": [
    "## Read Markov generation"
   ]
  },
  {
   "cell_type": "code",
   "execution_count": 16,
   "metadata": {
    "execution": {
     "iopub.execute_input": "2024-11-22T10:32:26.095345Z",
     "iopub.status.busy": "2024-11-22T10:32:26.095345Z",
     "iopub.status.idle": "2024-11-22T10:32:26.629069Z",
     "shell.execute_reply": "2024-11-22T10:32:26.629069Z",
     "shell.execute_reply.started": "2024-11-22T10:32:26.095345Z"
    }
   },
   "outputs": [
    {
     "name": "stdout",
     "output_type": "stream",
     "text": [
      "28741\n"
     ]
    },
    {
     "data": {
      "text/plain": [
       "36285"
      ]
     },
     "execution_count": 16,
     "metadata": {},
     "output_type": "execute_result"
    }
   ],
   "source": [
    "file_name = \".\\\\data\\\\validation\\\\mobis_markov_generation_14.json\"\n",
    "\n",
    "markov_ls = []\n",
    "with open(file_name, \"r\") as f_reader:\n",
    "    for row in f_reader:\n",
    "        content = json.loads(row)\n",
    "\n",
    "\n",
    "        markov_ls.append(np.array(content[\"recover\"]).squeeze())\n",
    "\n",
    "print(np.max([np.max(x) for x in markov_ls]))\n",
    "len(markov_ls)"
   ]
  },
  {
   "cell_type": "markdown",
   "metadata": {},
   "source": [
    "## Read MHSA generation"
   ]
  },
  {
   "cell_type": "code",
   "execution_count": 17,
   "metadata": {
    "execution": {
     "iopub.execute_input": "2024-11-22T10:32:26.631077Z",
     "iopub.status.busy": "2024-11-22T10:32:26.630076Z",
     "iopub.status.idle": "2024-11-22T10:32:27.503616Z",
     "shell.execute_reply": "2024-11-22T10:32:27.503616Z",
     "shell.execute_reply.started": "2024-11-22T10:32:26.631077Z"
    }
   },
   "outputs": [
    {
     "name": "stdout",
     "output_type": "stream",
     "text": [
      "28721 28721\n"
     ]
    },
    {
     "data": {
      "text/plain": [
       "36285"
      ]
     },
     "execution_count": 17,
     "metadata": {},
     "output_type": "execute_result"
    }
   ],
   "source": [
    "# 0 is the best for rg evolution\n",
    "file_name = \".\\\\data\\\\validation\\\\mobis_mhsa_14_k200_p099.json\"\n",
    "\n",
    "ar_ls = []\n",
    "with open(file_name, \"r\") as f_reader:\n",
    "    for row in f_reader:\n",
    "        content = json.loads(row)\n",
    "\n",
    "\n",
    "        ar_ls.append(np.array(content[\"recover\"]).squeeze())\n",
    "\n",
    "clean_ls = []\n",
    "for x in ar_ls:\n",
    "    clean_ls.append(np.array([28742 if item>28742 else item for item in x]))\n",
    "print(np.max([np.max(x) for x in ar_ls]), np.max([np.max(x) for x in clean_ls]))\n",
    "\n",
    "ar_ls = clean_ls\n",
    "len(ar_ls)"
   ]
  },
  {
   "cell_type": "markdown",
   "metadata": {},
   "source": [
    "## Read GAN generation"
   ]
  },
  {
   "cell_type": "code",
   "execution_count": 18,
   "metadata": {
    "execution": {
     "iopub.execute_input": "2024-11-22T10:32:27.504620Z",
     "iopub.status.busy": "2024-11-22T10:32:27.504620Z",
     "iopub.status.idle": "2024-11-22T10:32:27.680585Z",
     "shell.execute_reply": "2024-11-22T10:32:27.680585Z",
     "shell.execute_reply.started": "2024-11-22T10:32:27.504620Z"
    }
   },
   "outputs": [
    {
     "name": "stdout",
     "output_type": "stream",
     "text": [
      "28739 28739\n"
     ]
    },
    {
     "data": {
      "text/plain": [
       "10240"
      ]
     },
     "execution_count": 18,
     "metadata": {},
     "output_type": "execute_result"
    }
   ],
   "source": [
    "file_name = \".\\\\runs\\\\temp\\\\generated_samples_25.pk\"\n",
    "gan_locs = pickle.load(open(file_name, \"rb\"))[\"locs\"]\n",
    "\n",
    "gan_ls = [locs[:-1] for locs in gan_locs]\n",
    "\n",
    "clean_ls = []\n",
    "for x in gan_ls:\n",
    "    clean_ls.append(np.array([28742 if item>28742 else item for item in x]))\n",
    "print(np.max([np.max(x) for x in gan_ls]), np.max([np.max(x) for x in clean_ls]))\n",
    "\n",
    "gan_ls = clean_ls\n",
    "len(gan_ls)"
   ]
  },
  {
   "cell_type": "markdown",
   "metadata": {},
   "source": [
    "## Read Mechanistic generation"
   ]
  },
  {
   "cell_type": "code",
   "execution_count": 19,
   "metadata": {
    "execution": {
     "iopub.execute_input": "2024-11-22T10:32:27.681590Z",
     "iopub.status.busy": "2024-11-22T10:32:27.681590Z",
     "iopub.status.idle": "2024-11-22T10:32:28.216667Z",
     "shell.execute_reply": "2024-11-22T10:32:28.216667Z",
     "shell.execute_reply.started": "2024-11-22T10:32:27.681590Z"
    }
   },
   "outputs": [
    {
     "name": "stdout",
     "output_type": "stream",
     "text": [
      "28741\n"
     ]
    },
    {
     "data": {
      "text/plain": [
       "36285"
      ]
     },
     "execution_count": 19,
     "metadata": {},
     "output_type": "execute_result"
    }
   ],
   "source": [
    "file_name = \".\\\\data\\\\validation\\\\mobis_epr_generation_14.json\"\n",
    "\n",
    "epr_ls = []\n",
    "with open(file_name, \"r\") as f_reader:\n",
    "    for row in f_reader:\n",
    "        content = json.loads(row)\n",
    "        epr_ls.append(np.array(content[\"recover\"]).squeeze())\n",
    "\n",
    "        # if len(np.array(content[\"recover\"]).squeeze()) != 50:\n",
    "        #     print(\"error\")\n",
    "print(np.max([np.max(x) for x in epr_ls]))\n",
    "len(epr_ls)"
   ]
  },
  {
   "cell_type": "code",
   "execution_count": 20,
   "metadata": {
    "execution": {
     "iopub.execute_input": "2024-11-22T10:32:28.217671Z",
     "iopub.status.busy": "2024-11-22T10:32:28.217671Z",
     "iopub.status.idle": "2024-11-22T10:32:28.771744Z",
     "shell.execute_reply": "2024-11-22T10:32:28.771744Z",
     "shell.execute_reply.started": "2024-11-22T10:32:28.217671Z"
    }
   },
   "outputs": [
    {
     "name": "stdout",
     "output_type": "stream",
     "text": [
      "28741\n"
     ]
    },
    {
     "data": {
      "text/plain": [
       "36285"
      ]
     },
     "execution_count": 20,
     "metadata": {},
     "output_type": "execute_result"
    }
   ],
   "source": [
    "file_name = \".\\\\data\\\\validation\\\\mobis_container_generation_14.json\"\n",
    "\n",
    "container_ls = []\n",
    "with open(file_name, \"r\") as f_reader:\n",
    "    for row in f_reader:\n",
    "        content = json.loads(row)\n",
    "        container_ls.append(np.array(content[\"recover\"]).squeeze())\n",
    "\n",
    "print(np.max([np.max(x) for x in container_ls]))\n",
    "len(container_ls)"
   ]
  },
  {
   "cell_type": "markdown",
   "metadata": {},
   "source": [
    "# Jump length"
   ]
  },
  {
   "cell_type": "code",
   "execution_count": 21,
   "metadata": {
    "execution": {
     "iopub.execute_input": "2024-11-22T10:32:28.772751Z",
     "iopub.status.busy": "2024-11-22T10:32:28.772751Z",
     "iopub.status.idle": "2024-11-22T10:32:28.788551Z",
     "shell.execute_reply": "2024-11-22T10:32:28.788551Z",
     "shell.execute_reply.started": "2024-11-22T10:32:28.772751Z"
    }
   },
   "outputs": [],
   "source": [
    "# na_layer6_linear_relu_14_250_1_200_seed101\n",
    "\n",
    "def get_jumplength(seq, geo_x, geo_y):\n",
    "    locs = seq - 1 # padding\n",
    "\n",
    "    return np.array([np.sqrt((geo_x[locs][i] - geo_x[locs][i - 1])**2 + (geo_y[locs][i] - geo_y[locs][i - 1])**2) for i in range(1, len(locs))])\n",
    "\n",
    "geo_x = all_locs[\"geometry\"].x.values\n",
    "geo_y = all_locs[\"geometry\"].y.values"
   ]
  },
  {
   "cell_type": "code",
   "execution_count": 22,
   "metadata": {
    "execution": {
     "iopub.execute_input": "2024-11-22T10:32:31.192498Z",
     "iopub.status.busy": "2024-11-22T10:32:31.192498Z",
     "iopub.status.idle": "2024-11-22T10:32:35.987586Z",
     "shell.execute_reply": "2024-11-22T10:32:35.987586Z",
     "shell.execute_reply.started": "2024-11-22T10:32:31.192498Z"
    }
   },
   "outputs": [],
   "source": [
    "predict_jp = [np.hstack(_apply_parallel(predict, get_jumplength, n=-1, geo_x=geo_x, geo_y=geo_y)) for predict in predict_ls]\n",
    "\n",
    "predict_jp = [predict[predict>1] for predict in predict_jp]"
   ]
  },
  {
   "cell_type": "code",
   "execution_count": 23,
   "metadata": {
    "execution": {
     "iopub.execute_input": "2024-11-22T10:32:35.988591Z",
     "iopub.status.busy": "2024-11-22T10:32:35.988591Z",
     "iopub.status.idle": "2024-11-22T10:32:42.138471Z",
     "shell.execute_reply": "2024-11-22T10:32:42.137466Z",
     "shell.execute_reply.started": "2024-11-22T10:32:35.988591Z"
    }
   },
   "outputs": [],
   "source": [
    "true_jp = np.hstack(_apply_parallel(true_ls, get_jumplength, n=-1, geo_x=geo_x, geo_y=geo_y))\n",
    "source_jp = np.hstack(_apply_parallel(src_ls, get_jumplength, n=-1, geo_x=geo_x, geo_y=geo_y))\n",
    "\n",
    "true_jp = true_jp[true_jp>1]\n",
    "source_jp = source_jp[source_jp>1]"
   ]
  },
  {
   "cell_type": "code",
   "execution_count": 24,
   "metadata": {
    "execution": {
     "iopub.execute_input": "2024-11-22T10:32:42.139473Z",
     "iopub.status.busy": "2024-11-22T10:32:42.138471Z",
     "iopub.status.idle": "2024-11-22T10:32:51.186808Z",
     "shell.execute_reply": "2024-11-22T10:32:51.186808Z",
     "shell.execute_reply.started": "2024-11-22T10:32:42.139473Z"
    }
   },
   "outputs": [],
   "source": [
    "markov_jp = np.hstack(_apply_parallel(markov_ls, get_jumplength, n=-1, geo_x=geo_x, geo_y=geo_y))\n",
    "markov_jp = markov_jp[markov_jp>1]\n",
    "\n",
    "ar_jp = np.hstack(_apply_parallel(ar_ls, get_jumplength, n=-1, geo_x=geo_x, geo_y=geo_y))\n",
    "ar_jp = ar_jp[ar_jp>1]\n",
    "\n",
    "gan_jp = np.hstack(_apply_parallel(gan_ls, get_jumplength, n=-1, geo_x=geo_x, geo_y=geo_y))\n",
    "gan_jp = gan_jp[gan_jp>1]\n",
    "\n",
    "epr_jp = np.hstack(_apply_parallel(epr_ls, get_jumplength, n=-1, geo_x=geo_x, geo_y=geo_y))\n",
    "epr_jp = epr_jp[epr_jp>1]\n",
    "\n",
    "container_jp = np.hstack(_apply_parallel(container_ls, get_jumplength, n=-1, geo_x=geo_x, geo_y=geo_y))\n",
    "container_jp = container_jp[container_jp>1]"
   ]
  },
  {
   "cell_type": "code",
   "execution_count": 25,
   "metadata": {
    "execution": {
     "iopub.execute_input": "2024-11-22T10:32:54.841125Z",
     "iopub.status.busy": "2024-11-22T10:32:54.840124Z",
     "iopub.status.idle": "2024-11-22T10:32:55.863485Z",
     "shell.execute_reply": "2024-11-22T10:32:55.863485Z",
     "shell.execute_reply.started": "2024-11-22T10:32:54.841125Z"
    }
   },
   "outputs": [
    {
     "data": {
      "image/png": "[encoded data removed]",
      "text/plain": [
       "<Figure size 800x600 with 1 Axes>"
      ]
     },
     "metadata": {},
     "output_type": "display_data"
    }
   ],
   "source": [
    "plt.figure(figsize=(8, 6))\n",
    "\n",
    "# plotting\n",
    "powerlaw.plot_pdf(true_jp, label=\"Data\", color=\"k\", linewidth=2)\n",
    "# powerlaw.plot_pdf(source_jp, label=\"source\")\n",
    "for predict, label in zip(predict_jp, diff_file_name):\n",
    "    # powerlaw.plot_pdf(predict, label=label, linewidth=2, color=\"tomato\")\n",
    "    powerlaw.plot_pdf(predict, label=label, linewidth=2)\n",
    "\n",
    "# powerlaw.plot_pdf(markov_jp, label=\"Markov\", alpha=0.7,  color=colors[4], linewidth=1.5)\n",
    "# powerlaw.plot_pdf(ar_jp, label=\"MHSA\", alpha=0.7, color=colors[5], linewidth=1.5)\n",
    "# powerlaw.plot_pdf(gan_jp, label=\"MovSim\", alpha=0.7, color=colors[6], linewidth=1.5)\n",
    "# powerlaw.plot_pdf(epr_jp, label=\"EPR\", alpha=0.7, color=colors[0], linewidth=1.5)\n",
    "# powerlaw.plot_pdf(container_jp, label=\"Container\", alpha=0.7, color=colors[2], linewidth=1.5)\n",
    "\n",
    "# fit power law\n",
    "# fit = powerlaw.Fit(true_jp, xmin=1)\n",
    "# fit.power_law.plot_pdf(linestyle=\"--\", label=\"powerlaw fit\")\n",
    "# fit.truncated_power_law.plot_pdf(linestyle=\"--\", label=\"truncated power law\")\n",
    "# fit.lognormal.plot_pdf(linestyle=\"--\", label=\"lognormal fit\")\n",
    "\n",
    "plt.legend(prop={\"size\": 12})\n",
    "plt.xlabel(\"Displacement (m)\", fontsize=15)\n",
    "plt.ylabel(\"Probability\", fontsize=15)\n",
    "\n",
    "# plt.savefig(r'.\\metrics\\figures\\jump.png', bbox_inches='tight', dpi=600)\n",
    "\n",
    "plt.show()"
   ]
  },
  {
   "cell_type": "markdown",
   "metadata": {},
   "source": [
    "### Divergence"
   ]
  },
  {
   "cell_type": "code",
   "execution_count": 537,
   "metadata": {
    "execution": {
     "iopub.execute_input": "2024-11-14T14:58:32.194572Z",
     "iopub.status.busy": "2024-11-14T14:58:32.194572Z",
     "iopub.status.idle": "2024-11-14T14:58:32.225913Z",
     "shell.execute_reply": "2024-11-14T14:58:32.225913Z",
     "shell.execute_reply.started": "2024-11-14T14:58:32.194572Z"
    }
   },
   "outputs": [],
   "source": [
    "predict = np.log(predict_jp[0])\n",
    "true = np.log(true_jp)\n",
    "source = np.log(source_jp)\n",
    "\n",
    "min = predict.min()\n",
    "max = predict.max()"
   ]
  },
  {
   "cell_type": "code",
   "execution_count": 538,
   "metadata": {
    "execution": {
     "iopub.execute_input": "2024-11-14T14:58:32.818577Z",
     "iopub.status.busy": "2024-11-14T14:58:32.817628Z",
     "iopub.status.idle": "2024-11-14T14:58:32.870974Z",
     "shell.execute_reply": "2024-11-14T14:58:32.870974Z",
     "shell.execute_reply.started": "2024-11-14T14:58:32.818577Z"
    }
   },
   "outputs": [
    {
     "name": "stdout",
     "output_type": "stream",
     "text": [
      "Prediction and True: 0.150\t Source and True: 0.095\n"
     ]
    }
   ],
   "source": [
    "pred_dist_p, _ = np.histogram(predict, bins=1000, range=(min, max))\n",
    "true_dist_p, _ =  np.histogram(true, bins=1000, range=(min, max))\n",
    "source_dist_p, _ =  np.histogram(source, bins=1000, range=(min, max))\n",
    "\n",
    "pred_true_js = distance.jensenshannon(pred_dist_p, true_dist_p)\n",
    "source_true_js = distance.jensenshannon(source_dist_p, true_dist_p)\n",
    "\n",
    "print(f\"Prediction and True: {pred_true_js:.3f}\\t Source and True: {source_true_js:.3f}\")"
   ]
  },
  {
   "cell_type": "code",
   "execution_count": 539,
   "metadata": {
    "execution": {
     "iopub.execute_input": "2024-11-14T14:58:33.786310Z",
     "iopub.status.busy": "2024-11-14T14:58:33.786310Z",
     "iopub.status.idle": "2024-11-14T14:58:33.812174Z",
     "shell.execute_reply": "2024-11-14T14:58:33.812174Z",
     "shell.execute_reply.started": "2024-11-14T14:58:33.786310Z"
    }
   },
   "outputs": [],
   "source": [
    "markov = np.log(markov_jp)\n",
    "ar = np.log(ar_jp)\n",
    "gan = np.log(gan_jp)\n",
    "epr =  np.log(epr_jp)"
   ]
  },
  {
   "cell_type": "code",
   "execution_count": 540,
   "metadata": {
    "execution": {
     "iopub.execute_input": "2024-11-14T14:58:34.733917Z",
     "iopub.status.busy": "2024-11-14T14:58:34.733917Z",
     "iopub.status.idle": "2024-11-14T14:58:34.782333Z",
     "shell.execute_reply": "2024-11-14T14:58:34.782333Z",
     "shell.execute_reply.started": "2024-11-14T14:58:34.733917Z"
    }
   },
   "outputs": [
    {
     "name": "stdout",
     "output_type": "stream",
     "text": [
      "Markov and True: 0.310\t AR and True: 0.138\t GAN and True: 0.213\n",
      "EPR and True: 0.248\n"
     ]
    }
   ],
   "source": [
    "markov_dist_p, _ =  np.histogram(markov, bins=1000, range=(min, max))\n",
    "markov_true_js = distance.jensenshannon(markov_dist_p, true_dist_p)\n",
    "\n",
    "ar_dist_p, _ =  np.histogram(ar, bins=1000, range=(min, max))\n",
    "ar_true_js = distance.jensenshannon(ar_dist_p, true_dist_p)\n",
    "\n",
    "gan_dist_p, _ =  np.histogram(gan, bins=1000, range=(min, max))\n",
    "gan_true_js = distance.jensenshannon(gan_dist_p, true_dist_p)\n",
    "\n",
    "print(f\"Markov and True: {markov_true_js:.3f}\\t AR and True: {ar_true_js:.3f}\\t GAN and True: {gan_true_js:.3f}\")\n",
    "\n",
    "epr_dist_p, _ =  np.histogram(epr, bins=1000, range=(min, max))\n",
    "epr_true_js = distance.jensenshannon(epr_dist_p, true_dist_p)\n",
    "\n",
    "print(f\"EPR and True: {epr_true_js:.3f}\")"
   ]
  },
  {
   "cell_type": "markdown",
   "metadata": {},
   "source": [
    "### Wasserstein distance"
   ]
  },
  {
   "cell_type": "code",
   "execution_count": 1262,
   "metadata": {
    "execution": {
     "iopub.execute_input": "2024-11-21T10:48:49.979643Z",
     "iopub.status.busy": "2024-11-21T10:48:49.978644Z",
     "iopub.status.idle": "2024-11-21T10:48:50.694880Z",
     "shell.execute_reply": "2024-11-21T10:48:50.694369Z",
     "shell.execute_reply.started": "2024-11-21T10:48:49.979643Z"
    }
   },
   "outputs": [
    {
     "data": {
      "text/plain": [
       "2125.1039345849977"
      ]
     },
     "execution_count": 1262,
     "metadata": {},
     "output_type": "execute_result"
    }
   ],
   "source": [
    "wasserstein_distance(true_jp, source_jp)"
   ]
  },
  {
   "cell_type": "code",
   "execution_count": 1263,
   "metadata": {
    "execution": {
     "iopub.execute_input": "2024-11-21T10:48:53.657894Z",
     "iopub.status.busy": "2024-11-21T10:48:53.656890Z",
     "iopub.status.idle": "2024-11-21T10:48:56.096562Z",
     "shell.execute_reply": "2024-11-21T10:48:56.096562Z",
     "shell.execute_reply.started": "2024-11-21T10:48:53.657894Z"
    }
   },
   "outputs": [
    {
     "name": "stdout",
     "output_type": "stream",
     "text": [
      "3889.0498250822043\n",
      "2539.733341763057\n",
      "15928.4955635633\n",
      "18930.28601557697\n",
      "20176.20852334464\n",
      "22723.770183638484\n"
     ]
    }
   ],
   "source": [
    "for pred_variant in predict_jp:\n",
    "    print(wasserstein_distance(true_jp, pred_variant))"
   ]
  },
  {
   "cell_type": "code",
   "execution_count": 1268,
   "metadata": {
    "execution": {
     "iopub.execute_input": "2024-11-21T11:27:55.368602Z",
     "iopub.status.busy": "2024-11-21T11:27:55.368602Z",
     "iopub.status.idle": "2024-11-21T11:27:57.381904Z",
     "shell.execute_reply": "2024-11-21T11:27:57.381904Z",
     "shell.execute_reply.started": "2024-11-21T11:27:55.368602Z"
    }
   },
   "outputs": [
    {
     "data": {
      "text/plain": [
       "(2223.081522217768,\n",
       " 1490.8059438635723,\n",
       " 8128.2145123329055,\n",
       " 15882.127010227026,\n",
       " 1145.8753095443494)"
      ]
     },
     "execution_count": 1268,
     "metadata": {},
     "output_type": "execute_result"
    }
   ],
   "source": [
    "wasserstein_distance(true_jp, markov_jp), \\\n",
    "wasserstein_distance(true_jp, ar_jp),\\\n",
    "wasserstein_distance(true_jp, gan_jp), \\\n",
    "wasserstein_distance(true_jp, epr_jp),\\\n",
    "wasserstein_distance(true_jp, container_jp)"
   ]
  },
  {
   "cell_type": "markdown",
   "metadata": {},
   "source": [
    "### Loglikelihood"
   ]
  },
  {
   "cell_type": "code",
   "execution_count": 547,
   "metadata": {
    "execution": {
     "iopub.execute_input": "2024-11-14T15:04:18.404467Z",
     "iopub.status.busy": "2024-11-14T15:04:18.403468Z",
     "iopub.status.idle": "2024-11-14T15:05:44.343839Z",
     "shell.execute_reply": "2024-11-14T15:05:44.343839Z",
     "shell.execute_reply.started": "2024-11-14T15:04:18.404467Z"
    }
   },
   "outputs": [
    {
     "name": "stdout",
     "output_type": "stream",
     "text": [
      "{'truncated_power_law': 0.0, 'power_law': 0.0, 'lognormal': 1.0}\n",
      "{'truncated_power_law': 0.0, 'power_law': 0.0, 'lognormal': 1.0}\n"
     ]
    }
   ],
   "source": [
    "# determine the best fit distributions\n",
    "\n",
    "fit = powerlaw.Fit(true_jp, xmin = 1, xmin_distribution='power_law')\n",
    "print(getAIC(fit, true_jp))\n",
    "fit = powerlaw.Fit(predict_jp[0], xmin = 1, xmin_distribution='power_law')\n",
    "print(getAIC(fit, predict_jp[0]))"
   ]
  },
  {
   "cell_type": "code",
   "execution_count": 548,
   "metadata": {
    "execution": {
     "iopub.execute_input": "2024-11-14T15:08:14.333074Z",
     "iopub.status.busy": "2024-11-14T15:08:14.332075Z",
     "iopub.status.idle": "2024-11-14T15:08:51.563065Z",
     "shell.execute_reply": "2024-11-14T15:08:51.563065Z",
     "shell.execute_reply.started": "2024-11-14T15:08:14.333074Z"
    }
   },
   "outputs": [],
   "source": [
    "predict_lk = powerlaw.Fit(predict_jp[0], xmin=1).lognormal.loglikelihoods(true_jp)\n",
    "markov_lk = powerlaw.Fit(markov_jp, xmin=1).lognormal.loglikelihoods(true_jp)\n",
    "ar_lk = powerlaw.Fit(ar_jp, xmin=1).lognormal.loglikelihoods(true_jp)\n",
    "gan_lk = powerlaw.Fit(gan_jp, xmin=1).lognormal.loglikelihoods(true_jp)\n",
    "epr_lk = powerlaw.Fit(epr_jp, xmin=1).lognormal.loglikelihoods(true_jp)\n",
    "container_lk = powerlaw.Fit(container_jp, xmin=1).lognormal.loglikelihoods(true_jp)"
   ]
  },
  {
   "cell_type": "code",
   "execution_count": 549,
   "metadata": {
    "execution": {
     "iopub.execute_input": "2024-11-14T15:09:04.485318Z",
     "iopub.status.busy": "2024-11-14T15:09:04.484317Z",
     "iopub.status.idle": "2024-11-14T15:09:05.215385Z",
     "shell.execute_reply": "2024-11-14T15:09:05.215385Z",
     "shell.execute_reply.started": "2024-11-14T15:09:04.485318Z"
    }
   },
   "outputs": [
    {
     "data": {
      "text/plain": [
       "((-3414.3317332006636, 1.591263626242219e-26),\n",
       " (-6227.598665433064, 1.1185464433545021e-95),\n",
       " (29272.73114165142, 0.0),\n",
       " (160214.37100576112, 0.0),\n",
       " (-12680.499763132106, 0.0))"
      ]
     },
     "execution_count": 549,
     "metadata": {},
     "output_type": "execute_result"
    }
   ],
   "source": [
    "loglikelihood_ratio(predict_lk, markov_lk),\\\n",
    "loglikelihood_ratio(predict_lk, ar_lk),\\\n",
    "loglikelihood_ratio(predict_lk, gan_lk),\\\n",
    "loglikelihood_ratio(predict_lk, epr_lk),\\\n",
    "loglikelihood_ratio(predict_lk, container_lk)"
   ]
  },
  {
   "cell_type": "markdown",
   "metadata": {},
   "source": [
    "# Visit frequency - dataset location"
   ]
  },
  {
   "cell_type": "code",
   "execution_count": 26,
   "metadata": {
    "execution": {
     "iopub.execute_input": "2024-11-22T10:33:08.561565Z",
     "iopub.status.busy": "2024-11-22T10:33:08.561565Z",
     "iopub.status.idle": "2024-11-22T10:33:08.565674Z",
     "shell.execute_reply": "2024-11-22T10:33:08.565674Z",
     "shell.execute_reply.started": "2024-11-22T10:33:08.561565Z"
    }
   },
   "outputs": [],
   "source": [
    "def get_loc_p(ls):\n",
    "    visits = np.zeros(shape=(len(all_locs)), dtype=float)\n",
    "    for seq in ls:\n",
    "        locs = seq - 1 # padding\n",
    "\n",
    "        visits[locs] += 1\n",
    "    visits.sort()\n",
    "    visits = visits[::-1]\n",
    "    return visits"
   ]
  },
  {
   "cell_type": "code",
   "execution_count": 27,
   "metadata": {
    "execution": {
     "iopub.execute_input": "2024-11-22T10:33:08.904132Z",
     "iopub.status.busy": "2024-11-22T10:33:08.903133Z",
     "iopub.status.idle": "2024-11-22T10:33:09.267932Z",
     "shell.execute_reply": "2024-11-22T10:33:09.267932Z",
     "shell.execute_reply.started": "2024-11-22T10:33:08.904132Z"
    }
   },
   "outputs": [
    {
     "name": "stdout",
     "output_type": "stream",
     "text": [
      "[array([5197., 2614., 2319., ...,    0.,    0.,    0.]), array([5078., 2265., 1918., ...,    0.,    0.,    0.])]\n"
     ]
    }
   ],
   "source": [
    "predict_p = [get_loc_p(predict) for predict in predict_ls]\n",
    "\n",
    "print(predict_p)\n",
    "\n",
    "predict = [ p[p>0] / p.sum() for p in predict_p ]"
   ]
  },
  {
   "cell_type": "code",
   "execution_count": 28,
   "metadata": {
    "execution": {
     "iopub.execute_input": "2024-11-22T10:33:09.408325Z",
     "iopub.status.busy": "2024-11-22T10:33:09.408325Z",
     "iopub.status.idle": "2024-11-22T10:33:09.591652Z",
     "shell.execute_reply": "2024-11-22T10:33:09.591652Z",
     "shell.execute_reply.started": "2024-11-22T10:33:09.408325Z"
    }
   },
   "outputs": [
    {
     "data": {
      "text/plain": [
       "array([5494., 3176., 3078., ...,    0.,    0.,    0.])"
      ]
     },
     "execution_count": 28,
     "metadata": {},
     "output_type": "execute_result"
    }
   ],
   "source": [
    "true_p = get_loc_p(true_ls)\n",
    "# source_p = get_loc_p(src_ls)\n",
    "\n",
    "true_p"
   ]
  },
  {
   "cell_type": "code",
   "execution_count": 29,
   "metadata": {
    "execution": {
     "iopub.execute_input": "2024-11-22T10:33:09.871026Z",
     "iopub.status.busy": "2024-11-22T10:33:09.871026Z",
     "iopub.status.idle": "2024-11-22T10:33:09.873884Z",
     "shell.execute_reply": "2024-11-22T10:33:09.873884Z",
     "shell.execute_reply.started": "2024-11-22T10:33:09.871026Z"
    }
   },
   "outputs": [],
   "source": [
    "true = true_p[true_p>0] / true_p.sum()\n",
    "# source = source_p[source_p>0] / source_p.sum()"
   ]
  },
  {
   "cell_type": "code",
   "execution_count": 30,
   "metadata": {
    "execution": {
     "iopub.execute_input": "2024-11-22T10:33:10.311848Z",
     "iopub.status.busy": "2024-11-22T10:33:10.311848Z",
     "iopub.status.idle": "2024-11-22T10:33:11.073092Z",
     "shell.execute_reply": "2024-11-22T10:33:11.073092Z",
     "shell.execute_reply.started": "2024-11-22T10:33:10.311848Z"
    }
   },
   "outputs": [],
   "source": [
    "markov_p = get_loc_p(markov_ls)\n",
    "ar_p = get_loc_p(ar_ls)\n",
    "gan_p = get_loc_p(gan_ls)\n",
    "epr_p = get_loc_p(epr_ls)\n",
    "container_p = get_loc_p(container_ls)"
   ]
  },
  {
   "cell_type": "code",
   "execution_count": 31,
   "metadata": {
    "execution": {
     "iopub.execute_input": "2024-11-22T10:33:11.074098Z",
     "iopub.status.busy": "2024-11-22T10:33:11.074098Z",
     "iopub.status.idle": "2024-11-22T10:33:11.078475Z",
     "shell.execute_reply": "2024-11-22T10:33:11.078475Z",
     "shell.execute_reply.started": "2024-11-22T10:33:11.074098Z"
    }
   },
   "outputs": [
    {
     "data": {
      "text/plain": [
       "(array([1762.,  791.,  771., ...,    0.,    0.,    0.]),\n",
       " array([4313., 1985., 1772., ...,    0.,    0.,    0.]),\n",
       " array([1719., 1099.,  925., ...,    0.,    0.,    0.]),\n",
       " array([6580., 3695., 2833., ...,    0.,    0.,    0.]),\n",
       " array([4960., 2253., 2191., ...,    0.,    0.,    0.]))"
      ]
     },
     "execution_count": 31,
     "metadata": {},
     "output_type": "execute_result"
    }
   ],
   "source": [
    "markov_p, ar_p, gan_p, epr_p, container_p"
   ]
  },
  {
   "cell_type": "code",
   "execution_count": 32,
   "metadata": {
    "execution": {
     "iopub.execute_input": "2024-11-22T10:33:11.462303Z",
     "iopub.status.busy": "2024-11-22T10:33:11.462303Z",
     "iopub.status.idle": "2024-11-22T10:33:11.466796Z",
     "shell.execute_reply": "2024-11-22T10:33:11.466796Z",
     "shell.execute_reply.started": "2024-11-22T10:33:11.462303Z"
    }
   },
   "outputs": [],
   "source": [
    "markov = markov_p[markov_p>0] / markov_p.sum()\n",
    "ar = ar_p[ar_p>0] / ar_p.sum()\n",
    "gan = gan_p[gan_p>0] / gan_p.sum()\n",
    "epr = epr_p[epr_p>0] / epr_p.sum()\n",
    "container = container_p[container_p>0] / container_p.sum()"
   ]
  },
  {
   "cell_type": "code",
   "execution_count": 33,
   "metadata": {
    "execution": {
     "iopub.execute_input": "2024-11-22T10:33:11.886882Z",
     "iopub.status.busy": "2024-11-22T10:33:11.886882Z",
     "iopub.status.idle": "2024-11-22T10:33:12.327455Z",
     "shell.execute_reply": "2024-11-22T10:33:12.327455Z",
     "shell.execute_reply.started": "2024-11-22T10:33:11.886882Z"
    }
   },
   "outputs": [
    {
     "data": {
      "image/png": "[encoded data removed]",
      "text/plain": [
       "<Figure size 400x300 with 1 Axes>"
      ]
     },
     "metadata": {},
     "output_type": "display_data"
    }
   ],
   "source": [
    "plt.figure(figsize=(4, 3))\n",
    "\n",
    "plt.plot(np.arange(len(true[:-200])) + 1, true[:-200], color=\"k\", linewidth=2, label=\"Data\")\n",
    "# plt.plot(np.arange(len(source)) + 1, source, label=\"source\")\n",
    "# plotting\n",
    "for pre, label in zip(predict, diff_file_name):\n",
    "    # plt.plot(np.arange(len(pre[:-5000])) + 1, pre[:-5000], color=\"tomato\", linewidth=2, label=label)\n",
    "    # plt.plot(np.arange(len(pre)) + 1, pre, color=\"tomato\", linewidth=2, label=label)\n",
    "    plt.plot(np.arange(len(pre)) + 1, pre, linewidth=2, label=label)\n",
    "\n",
    "# plt.plot(np.arange(len(ar)) + 1, ar, label=\"MHSA decode (Ours)\")\n",
    "# plt.plot(np.arange(len(markov)) + 1, markov, label=\"Markov\")\n",
    "# plt.plot(np.arange(len(gan)) + 1, gan, label=\"MovSim\")\n",
    "# plt.plot(np.arange(len(epr[:-20000])) + 1, epr[:-20000], color=colors[0], linewidth=1.5, alpha=0.7, label=\"EPR\")\n",
    "# plt.plot(np.arange(len(container[:-10000])) + 1, container[:-10000], color=colors[2], linewidth=1.5, alpha=0.7, label=\"Container\")\n",
    "\n",
    "plt.xscale(\"log\")\n",
    "plt.yscale(\"log\")\n",
    "\n",
    "plt.xlabel(\"Location rank\", fontsize=15)\n",
    "plt.ylabel(\"Location frequency\", fontsize=15)\n",
    "plt.legend(prop={\"size\": 13})\n",
    "# plt.savefig(r'.\\metrics\\figures\\fk_overall.png', bbox_inches='tight', dpi=600)\n",
    "\n",
    "plt.show()"
   ]
  },
  {
   "cell_type": "code",
   "execution_count": 37,
   "metadata": {
    "execution": {
     "iopub.execute_input": "2024-10-10T08:27:30.765645Z",
     "iopub.status.busy": "2024-10-10T08:27:30.765645Z",
     "iopub.status.idle": "2024-10-10T08:27:30.898900Z",
     "shell.execute_reply": "2024-10-10T08:27:30.898900Z",
     "shell.execute_reply.started": "2024-10-10T08:27:30.765645Z"
    }
   },
   "outputs": [
    {
     "ename": "NameError",
     "evalue": "name 'source_p' is not defined",
     "output_type": "error",
     "traceback": [
      "\u001b[1;31m---------------------------------------------------------------------------\u001b[0m",
      "\u001b[1;31mNameError\u001b[0m                                 Traceback (most recent call last)",
      "Cell \u001b[1;32mIn[37], line 7\u001b[0m\n\u001b[0;32m      5\u001b[0m predict \u001b[38;5;241m=\u001b[39m predict_p\n\u001b[0;32m      6\u001b[0m true \u001b[38;5;241m=\u001b[39m true_p\n\u001b[1;32m----> 7\u001b[0m source \u001b[38;5;241m=\u001b[39m \u001b[43msource_p\u001b[49m\n",
      "\u001b[1;31mNameError\u001b[0m: name 'source_p' is not defined"
     ]
    }
   ],
   "source": [
    "# predict = np.log(predict_p[:100])\n",
    "# true = np.log(true_p[:100])\n",
    "# source = np.log(source_p[:100])\n",
    "\n",
    "predict = predict_p\n",
    "true = true_p\n",
    "source = source_p"
   ]
  },
  {
   "cell_type": "code",
   "execution_count": 427,
   "metadata": {
    "execution": {
     "iopub.execute_input": "2024-09-26T13:58:17.963881Z",
     "iopub.status.busy": "2024-09-26T13:58:17.963881Z",
     "iopub.status.idle": "2024-09-26T13:58:17.967649Z",
     "shell.execute_reply": "2024-09-26T13:58:17.967649Z",
     "shell.execute_reply.started": "2024-09-26T13:58:17.963881Z"
    }
   },
   "outputs": [
    {
     "data": {
      "text/plain": [
       "array([5494., 3176., 3078., ...,    0.,    0.,    0.])"
      ]
     },
     "execution_count": 427,
     "metadata": {},
     "output_type": "execute_result"
    }
   ],
   "source": [
    "true"
   ]
  },
  {
   "cell_type": "code",
   "execution_count": 425,
   "metadata": {
    "execution": {
     "iopub.execute_input": "2024-09-26T13:57:55.969804Z",
     "iopub.status.busy": "2024-09-26T13:57:55.969804Z",
     "iopub.status.idle": "2024-09-26T13:57:55.990828Z",
     "shell.execute_reply": "2024-09-26T13:57:55.989823Z",
     "shell.execute_reply.started": "2024-09-26T13:57:55.969804Z"
    }
   },
   "outputs": [
    {
     "name": "stderr",
     "output_type": "stream",
     "text": [
      "C:\\ProgramData\\Anaconda3\\envs\\gene\\Lib\\site-packages\\scipy\\spatial\\distance.py:1261: RuntimeWarning: invalid value encountered in divide\n",
      "  p = p / np.sum(p, axis=axis, keepdims=True)\n"
     ]
    },
    {
     "ename": "TypeError",
     "evalue": "unsupported format string passed to numpy.ndarray.__format__",
     "output_type": "error",
     "traceback": [
      "\u001b[1;31m---------------------------------------------------------------------------\u001b[0m",
      "\u001b[1;31mTypeError\u001b[0m                                 Traceback (most recent call last)",
      "Cell \u001b[1;32mIn[425], line 4\u001b[0m\n\u001b[0;32m      1\u001b[0m pred_true_js \u001b[38;5;241m=\u001b[39m distance\u001b[38;5;241m.\u001b[39mjensenshannon(predict, true)\n\u001b[0;32m      2\u001b[0m source_true_js \u001b[38;5;241m=\u001b[39m distance\u001b[38;5;241m.\u001b[39mjensenshannon(source, true)\n\u001b[1;32m----> 4\u001b[0m \u001b[38;5;28mprint\u001b[39m(\u001b[38;5;124mf\u001b[39m\u001b[38;5;124m\"\u001b[39m\u001b[38;5;124mPrediction and True: \u001b[39m\u001b[38;5;132;01m{\u001b[39;00mpred_true_js\u001b[38;5;132;01m:\u001b[39;00m\u001b[38;5;124m.3f\u001b[39m\u001b[38;5;132;01m}\u001b[39;00m\u001b[38;5;130;01m\\t\u001b[39;00m\u001b[38;5;124m Source and True: \u001b[39m\u001b[38;5;132;01m{\u001b[39;00msource_true_js\u001b[38;5;132;01m:\u001b[39;00m\u001b[38;5;124m.3f\u001b[39m\u001b[38;5;132;01m}\u001b[39;00m\u001b[38;5;124m\"\u001b[39m)\n",
      "\u001b[1;31mTypeError\u001b[0m: unsupported format string passed to numpy.ndarray.__format__"
     ]
    }
   ],
   "source": [
    "pred_true_js = distance.jensenshannon(predict, true)\n",
    "source_true_js = distance.jensenshannon(source, true)\n",
    "\n",
    "print(f\"Prediction and True: {pred_true_js:.3f}\\t Source and True: {source_true_js:.3f}\")"
   ]
  },
  {
   "cell_type": "code",
   "execution_count": 127,
   "metadata": {
    "execution": {
     "iopub.execute_input": "2024-04-12T14:19:32.588256Z",
     "iopub.status.busy": "2024-04-12T14:19:32.588256Z",
     "iopub.status.idle": "2024-04-12T14:19:32.594647Z",
     "shell.execute_reply": "2024-04-12T14:19:32.594647Z",
     "shell.execute_reply.started": "2024-04-12T14:19:32.588256Z"
    }
   },
   "outputs": [
    {
     "name": "stdout",
     "output_type": "stream",
     "text": [
      "Markov and True: 0.365\t AR and True: 0.166\t GAN and True: 0.214\n"
     ]
    }
   ],
   "source": [
    "markov_true_js = distance.jensenshannon(markov_p, true)\n",
    "ar_true_js = distance.jensenshannon(ar_p, true)\n",
    "gan_true_js = distance.jensenshannon(gan_p, true)\n",
    "\n",
    "print(f\"Markov and True: {markov_true_js:.3f}\\t AR and True: {ar_true_js:.3f}\\t GAN and True: {gan_true_js:.3f}\")"
   ]
  },
  {
   "cell_type": "code",
   "execution_count": 234,
   "metadata": {
    "execution": {
     "iopub.execute_input": "2024-04-17T09:59:20.016328Z",
     "iopub.status.busy": "2024-04-17T09:59:20.016328Z",
     "iopub.status.idle": "2024-04-17T09:59:20.025169Z",
     "shell.execute_reply": "2024-04-17T09:59:20.025169Z",
     "shell.execute_reply.started": "2024-04-17T09:59:20.016328Z"
    }
   },
   "outputs": [
    {
     "name": "stdout",
     "output_type": "stream",
     "text": [
      "EPR and True: 0.221\n"
     ]
    }
   ],
   "source": [
    "epr_true_js = distance.jensenshannon(epr_p, true)\n",
    "\n",
    "print(f\"EPR and True: {epr_true_js:.3f}\")"
   ]
  },
  {
   "cell_type": "markdown",
   "metadata": {},
   "source": [
    "# Visit frequency - individual location (max 50)"
   ]
  },
  {
   "cell_type": "code",
   "execution_count": 34,
   "metadata": {
    "execution": {
     "iopub.execute_input": "2024-11-22T10:33:16.784496Z",
     "iopub.status.busy": "2024-11-22T10:33:16.784496Z",
     "iopub.status.idle": "2024-11-22T10:33:16.788832Z",
     "shell.execute_reply": "2024-11-22T10:33:16.788832Z",
     "shell.execute_reply.started": "2024-11-22T10:33:16.784496Z"
    }
   },
   "outputs": [],
   "source": [
    "def get_individual_loc_p(ls, max_len = 50):\n",
    "    visits = np.zeros(shape=(max_len), dtype=float)\n",
    "\n",
    "    for seq in ls:\n",
    "        _, counts = np.unique(seq, return_counts=True)\n",
    "        counts.sort()\n",
    "        counts = counts[::-1]\n",
    "\n",
    "        if len(counts) > max_len:\n",
    "            counts = counts[:max_len]\n",
    "        else:\n",
    "            counts = np.pad(counts, (0, max_len - len(counts)))\n",
    "        \n",
    "        visits += counts/counts.sum()\n",
    "\n",
    "    visits = visits/len(ls)\n",
    "    return visits"
   ]
  },
  {
   "cell_type": "code",
   "execution_count": 35,
   "metadata": {
    "execution": {
     "iopub.execute_input": "2024-11-22T10:33:17.038438Z",
     "iopub.status.busy": "2024-11-22T10:33:17.038438Z",
     "iopub.status.idle": "2024-11-22T10:33:20.089182Z",
     "shell.execute_reply": "2024-11-22T10:33:20.089182Z",
     "shell.execute_reply.started": "2024-11-22T10:33:17.038438Z"
    }
   },
   "outputs": [],
   "source": [
    "predict_ind_p = [get_individual_loc_p(p) for p in predict_ls]"
   ]
  },
  {
   "cell_type": "code",
   "execution_count": 36,
   "metadata": {
    "execution": {
     "iopub.execute_input": "2024-11-22T10:33:20.090189Z",
     "iopub.status.busy": "2024-11-22T10:33:20.090189Z",
     "iopub.status.idle": "2024-11-22T10:33:21.618102Z",
     "shell.execute_reply": "2024-11-22T10:33:21.618102Z",
     "shell.execute_reply.started": "2024-11-22T10:33:20.090189Z"
    }
   },
   "outputs": [],
   "source": [
    "true_ind_p = get_individual_loc_p(true_ls)\n",
    "# source_ind_p = get_individual_loc_p(src_ls)"
   ]
  },
  {
   "cell_type": "code",
   "execution_count": 1202,
   "metadata": {
    "execution": {
     "iopub.execute_input": "2024-11-20T08:51:03.051658Z",
     "iopub.status.busy": "2024-11-20T08:51:03.051658Z",
     "iopub.status.idle": "2024-11-20T08:51:03.054520Z",
     "shell.execute_reply": "2024-11-20T08:51:03.054520Z",
     "shell.execute_reply.started": "2024-11-20T08:51:03.051658Z"
    }
   },
   "outputs": [],
   "source": [
    "predict = [p[p>0] for p in predict_ind_p]\n",
    "true = true_ind_p[true_ind_p>0]\n",
    "# source = source_ind_p[source_ind_p>0]"
   ]
  },
  {
   "cell_type": "code",
   "execution_count": 1203,
   "metadata": {
    "execution": {
     "iopub.execute_input": "2024-11-20T08:51:03.056526Z",
     "iopub.status.busy": "2024-11-20T08:51:03.056526Z",
     "iopub.status.idle": "2024-11-20T08:51:09.807450Z",
     "shell.execute_reply": "2024-11-20T08:51:09.807172Z",
     "shell.execute_reply.started": "2024-11-20T08:51:03.056526Z"
    }
   },
   "outputs": [],
   "source": [
    "markov_p = get_individual_loc_p(markov_ls)\n",
    "ar_p = get_individual_loc_p(ar_ls)\n",
    "gan_p = get_individual_loc_p(gan_ls)\n",
    "epr_ind_p = get_individual_loc_p(epr_ls)\n",
    "container_ind_p = get_individual_loc_p(container_ls)\n",
    "\n",
    "markov = markov_p[markov_p>0]\n",
    "ar = ar_p[ar_p>0]\n",
    "gan = gan_p[gan_p>0]\n",
    "epr = epr_ind_p[epr_ind_p>0]\n",
    "container = container_ind_p[container_ind_p>0]"
   ]
  },
  {
   "cell_type": "code",
   "execution_count": 37,
   "metadata": {
    "execution": {
     "iopub.execute_input": "2024-11-22T10:33:23.857762Z",
     "iopub.status.busy": "2024-11-22T10:33:23.857762Z",
     "iopub.status.idle": "2024-11-22T10:33:24.283580Z",
     "shell.execute_reply": "2024-11-22T10:33:24.283580Z",
     "shell.execute_reply.started": "2024-11-22T10:33:23.857762Z"
    }
   },
   "outputs": [
    {
     "data": {
      "image/png": "[encoded data removed]",
      "text/plain": [
       "<Figure size 400x300 with 1 Axes>"
      ]
     },
     "metadata": {},
     "output_type": "display_data"
    }
   ],
   "source": [
    "plt.figure(figsize=(4, 3))\n",
    "\n",
    "\n",
    "# plotting\n",
    "plt.plot(np.arange(len(true)) + 1, true, color=\"k\", linewidth=2, label=\"true\")\n",
    "# plt.plot(np.arange(len(source)) + 1, source, label=\"source\")\n",
    "\n",
    "for pre, label in zip(predict, diff_file_name):\n",
    "    # plt.plot(np.arange(len(pre)) + 1, pre, color=\"tomato\", linewidth=2, label=label)\n",
    "    plt.plot(np.arange(len(pre)) + 1, pre, label=label)\n",
    "\n",
    "\n",
    "# plt.plot(np.arange(len(markov)) + 1, markov, label=\"Markov\", color=colors[4], linewidth=1.5, alpha=0.7)\n",
    "# plt.plot(np.arange(len(ar)) + 1, ar, label=\"MHSA\", color=colors[5], linewidth=1.5, alpha=0.7)\n",
    "# plt.plot(np.arange(len(gan)) + 1, gan, label=\"MovSim\", color=colors[6], linewidth=1.5, alpha=0.7)\n",
    "# plt.plot(np.arange(len(epr)) + 1, epr, label=\"EPR\", color=colors[0], linewidth=1.5, alpha=0.7)\n",
    "# plt.plot(np.arange(len(container[:-2])) + 1, container[:-2], label=\"Container\", color=colors[2], linewidth=1.5, alpha=0.7)\n",
    "\n",
    "plt.xscale(\"log\")\n",
    "plt.yscale(\"log\")\n",
    "plt.legend(prop={\"size\": 13})\n",
    "\n",
    "plt.xlabel(\"Location rank\", fontsize=15)\n",
    "plt.ylabel(\"Location frquency\", fontsize=15)\n",
    "\n",
    "# plt.savefig(r'.\\metrics\\figures\\lk_all.png', bbox_inches='tight', dpi=600)\n",
    "plt.show()\n"
   ]
  },
  {
   "cell_type": "code",
   "execution_count": 876,
   "metadata": {
    "execution": {
     "iopub.execute_input": "2024-11-17T14:27:53.842960Z",
     "iopub.status.busy": "2024-11-17T14:27:53.842960Z",
     "iopub.status.idle": "2024-11-17T14:27:53.862652Z",
     "shell.execute_reply": "2024-11-17T14:27:53.862652Z",
     "shell.execute_reply.started": "2024-11-17T14:27:53.842960Z"
    }
   },
   "outputs": [
    {
     "ename": "NameError",
     "evalue": "name 'source_ind_p' is not defined",
     "output_type": "error",
     "traceback": [
      "\u001b[1;31m---------------------------------------------------------------------------\u001b[0m",
      "\u001b[1;31mNameError\u001b[0m                                 Traceback (most recent call last)",
      "Cell \u001b[1;32mIn[876], line 3\u001b[0m\n\u001b[0;32m      1\u001b[0m predict \u001b[38;5;241m=\u001b[39m [p[p\u001b[38;5;241m>\u001b[39m\u001b[38;5;241m0\u001b[39m] \u001b[38;5;28;01mfor\u001b[39;00m p \u001b[38;5;129;01min\u001b[39;00m predict_ind_p]\n\u001b[0;32m      2\u001b[0m true \u001b[38;5;241m=\u001b[39m true_ind_p[true_ind_p\u001b[38;5;241m>\u001b[39m\u001b[38;5;241m0\u001b[39m]\n\u001b[1;32m----> 3\u001b[0m source \u001b[38;5;241m=\u001b[39m \u001b[43msource_ind_p\u001b[49m[source_ind_p\u001b[38;5;241m>\u001b[39m\u001b[38;5;241m0\u001b[39m]\n\u001b[0;32m      5\u001b[0m ar \u001b[38;5;241m=\u001b[39m ar_p[ar_p\u001b[38;5;241m>\u001b[39m\u001b[38;5;241m0\u001b[39m]\n\u001b[0;32m      6\u001b[0m markov \u001b[38;5;241m=\u001b[39m markov_p[markov_p\u001b[38;5;241m>\u001b[39m\u001b[38;5;241m0\u001b[39m]\n",
      "\u001b[1;31mNameError\u001b[0m: name 'source_ind_p' is not defined"
     ]
    }
   ],
   "source": [
    "predict = [p[p>0] for p in predict_ind_p]\n",
    "true = true_ind_p[true_ind_p>0]\n",
    "source = source_ind_p[source_ind_p>0]\n",
    "\n",
    "ar = ar_p[ar_p>0]\n",
    "markov = markov_p[markov_p>0]\n",
    "gan = gan_p[gan_p>0]\n",
    "epr = epr_ind_p[epr_ind_p>0]"
   ]
  },
  {
   "cell_type": "code",
   "execution_count": 364,
   "metadata": {
    "execution": {
     "iopub.execute_input": "2024-10-01T08:50:01.153514Z",
     "iopub.status.busy": "2024-10-01T08:50:01.152515Z",
     "iopub.status.idle": "2024-10-01T08:50:01.156608Z",
     "shell.execute_reply": "2024-10-01T08:50:01.156608Z",
     "shell.execute_reply.started": "2024-10-01T08:50:01.153514Z"
    }
   },
   "outputs": [
    {
     "name": "stdout",
     "output_type": "stream",
     "text": [
      "Prediction and True: 0.040\t Source and True: 0.092\n"
     ]
    }
   ],
   "source": [
    "pred_true_js = distance.jensenshannon(predict_ind_p[0], true_ind_p)\n",
    "source_true_js = distance.jensenshannon(source_ind_p, true_ind_p)\n",
    "\n",
    "print(f\"Prediction and True: {pred_true_js:.3f}\\t Source and True: {source_true_js:.3f}\")"
   ]
  },
  {
   "cell_type": "code",
   "execution_count": 365,
   "metadata": {
    "execution": {
     "iopub.execute_input": "2024-10-01T08:50:02.594898Z",
     "iopub.status.busy": "2024-10-01T08:50:02.594898Z",
     "iopub.status.idle": "2024-10-01T08:50:02.599047Z",
     "shell.execute_reply": "2024-10-01T08:50:02.599047Z",
     "shell.execute_reply.started": "2024-10-01T08:50:02.594898Z"
    }
   },
   "outputs": [
    {
     "name": "stdout",
     "output_type": "stream",
     "text": [
      "Markov and True: 0.287\t AR and True: 0.086\t GAN and True: 0.270\n",
      "EPR and True: 0.172\n"
     ]
    }
   ],
   "source": [
    "markov_true_js = distance.jensenshannon(markov_p, true_ind_p)\n",
    "ar_true_js = distance.jensenshannon(ar_p, true_ind_p)\n",
    "gan_true_js = distance.jensenshannon(gan_p, true_ind_p)\n",
    "\n",
    "print(f\"Markov and True: {markov_true_js:.3f}\\t AR and True: {ar_true_js:.3f}\\t GAN and True: {gan_true_js:.3f}\")\n",
    "\n",
    "epr_true_js = distance.jensenshannon(epr_ind_p, true_ind_p)\n",
    "\n",
    "print(f\"EPR and True: {epr_true_js:.3f}\")"
   ]
  },
  {
   "cell_type": "code",
   "execution_count": 38,
   "metadata": {
    "execution": {
     "iopub.execute_input": "2024-11-22T10:33:29.595334Z",
     "iopub.status.busy": "2024-11-22T10:33:29.595334Z",
     "iopub.status.idle": "2024-11-22T10:33:35.638440Z",
     "shell.execute_reply": "2024-11-22T10:33:35.638440Z",
     "shell.execute_reply.started": "2024-11-22T10:33:29.595334Z"
    }
   },
   "outputs": [],
   "source": [
    "# na_layer6_14_200_1_200\n",
    "\n",
    "def get_ind_loc_rank_arr(ls, max_len = 50):\n",
    "    rank_long_ls = []\n",
    "    for seq in ls:\n",
    "        _, counts = np.unique(seq, return_counts=True)\n",
    "        counts.sort()\n",
    "        counts = counts[::-1]\n",
    "    \n",
    "        rank_ls = np.repeat(np.arange(len(counts)) + 1, counts)\n",
    "    \n",
    "        rank_long_ls.append(rank_ls)\n",
    "    \n",
    "    return np.concatenate(rank_long_ls)\n",
    "\n",
    "predict_rank_arr = [get_ind_loc_rank_arr(p) for p in predict_ls]\n",
    "true_rank_arr = get_ind_loc_rank_arr(true_ls)\n",
    "source_rank_arr = get_ind_loc_rank_arr(src_ls)\n",
    "\n",
    "markov_rank_arr = get_ind_loc_rank_arr(markov_ls)\n",
    "ar_rank_arr = get_ind_loc_rank_arr(ar_ls)\n",
    "gan_rank_arr = get_ind_loc_rank_arr(gan_ls)\n",
    "epr_rank_arr = get_ind_loc_rank_arr(epr_ls)\n",
    "container_rank_arr = get_ind_loc_rank_arr(container_ls)"
   ]
  },
  {
   "cell_type": "code",
   "execution_count": 39,
   "metadata": {
    "execution": {
     "iopub.execute_input": "2024-11-22T10:33:35.640450Z",
     "iopub.status.busy": "2024-11-22T10:33:35.639449Z",
     "iopub.status.idle": "2024-11-22T10:33:36.640060Z",
     "shell.execute_reply": "2024-11-22T10:33:36.640060Z",
     "shell.execute_reply.started": "2024-11-22T10:33:35.640450Z"
    }
   },
   "outputs": [
    {
     "data": {
      "image/png": "[encoded data removed]",
      "text/plain": [
       "<Figure size 800x600 with 1 Axes>"
      ]
     },
     "metadata": {},
     "output_type": "display_data"
    }
   ],
   "source": [
    "plt.figure(figsize=(8, 6))\n",
    "\n",
    "# fit power law\n",
    "fit = powerlaw.Fit(true_rank_arr, xmin=1)\n",
    "\n",
    "# plotting\n",
    "powerlaw.plot_pdf(true_rank_arr, label=\"Data\", color=\"k\", linewidth=2)\n",
    "# powerlaw.plot_pdf(source_rank_arr, label=\"source\")\n",
    "\n",
    "for pre, label in zip(predict_rank_arr, diff_file_name):\n",
    "    powerlaw.plot_pdf(pre, label=label, linewidth=2)\n",
    "    # powerlaw.plot_pdf(pre, label=label, color=\"tomato\", linewidth=2)\n",
    "\n",
    "# powerlaw.plot_pdf(markov_rank_arr, label=\"markov\", alpha=0.7, color=colors[4], linewidth=1.5)\n",
    "# powerlaw.plot_pdf(ar_rank_arr, label=\"ar\", alpha=0.7, color=colors[5], linewidth=1.5)\n",
    "# powerlaw.plot_pdf(gan_rank_arr, label=\"gan\", alpha=0.7, color=colors[6], linewidth=1.5)\n",
    "# powerlaw.plot_pdf(epr_rank_arr, label=\"epr\", alpha=0.7, color=colors[0], linewidth=1.5)\n",
    "# powerlaw.plot_pdf(container_rank_arr, label=\"container\", alpha=0.7, color=colors[2], linewidth=1.5)\n",
    "\n",
    "# fit.power_law.plot_pdf(linestyle=\"--\", label=\"powerlaw fit\")\n",
    "# fit.truncated_power_law.plot_pdf(linestyle=\"--\", label=\"truncated power law\")\n",
    "# fit.lognormal.plot_pdf(linestyle=\"--\", label=\"lognormal fit\")\n",
    "\n",
    "plt.xlabel(\"Location rank\", fontsize=15)\n",
    "plt.ylabel(\"Location frequency\", fontsize=15)\n",
    "# plt.xscale(\"linear\")\n",
    "plt.xlim([10**-0.05, 10**1.7])\n",
    "# plt.savefig(r'.\\metrics\\figures\\lk_rank.png', bbox_inches='tight', dpi=600)\n",
    "plt.legend(prop={\"size\": 13})\n",
    "plt.show()"
   ]
  },
  {
   "cell_type": "code",
   "execution_count": 1269,
   "metadata": {
    "execution": {
     "iopub.execute_input": "2024-11-21T20:44:07.386729Z",
     "iopub.status.busy": "2024-11-21T20:44:07.386729Z",
     "iopub.status.idle": "2024-11-21T20:44:09.628027Z",
     "shell.execute_reply": "2024-11-21T20:44:09.628027Z",
     "shell.execute_reply.started": "2024-11-21T20:44:07.386729Z"
    }
   },
   "outputs": [
    {
     "name": "stdout",
     "output_type": "stream",
     "text": [
      "0.5513809423800689\n",
      "0.4148782553192998\n",
      "0.8842389928420623\n",
      "0.6762816632063958\n",
      "0.6821974962532542\n",
      "0.5415332384044803\n"
     ]
    }
   ],
   "source": [
    "for arr in predict_rank_arr:\n",
    "    print(wasserstein_distance(arr, true_rank_arr))"
   ]
  },
  {
   "cell_type": "code",
   "execution_count": 174,
   "metadata": {
    "execution": {
     "iopub.execute_input": "2024-10-28T14:38:10.499332Z",
     "iopub.status.busy": "2024-10-28T14:38:10.499332Z",
     "iopub.status.idle": "2024-10-28T14:38:12.541233Z",
     "shell.execute_reply": "2024-10-28T14:38:12.541233Z",
     "shell.execute_reply.started": "2024-10-28T14:38:10.499332Z"
    }
   },
   "outputs": [
    {
     "data": {
      "text/plain": [
       "(0.3472060550112739,\n",
       " 2.0381512331338243,\n",
       " 0.8512740762916583,\n",
       " 5.042072322301877,\n",
       " 2.629373088211085,\n",
       " 0.6874406092252777)"
      ]
     },
     "execution_count": 174,
     "metadata": {},
     "output_type": "execute_result"
    }
   ],
   "source": [
    "wasserstein_distance(predict_rank_arr[0], true_rank_arr),\\\n",
    "wasserstein_distance(markov_rank_arr, true_rank_arr),\\\n",
    "wasserstein_distance(ar_rank_arr, true_rank_arr),\\\n",
    "wasserstein_distance(gan_rank_arr, true_rank_arr),\\\n",
    "wasserstein_distance(epr_rank_arr, true_rank_arr),\\\n",
    "wasserstein_distance(container_rank_arr, true_rank_arr)"
   ]
  },
  {
   "cell_type": "code",
   "execution_count": 315,
   "metadata": {
    "execution": {
     "iopub.execute_input": "2024-10-21T10:01:22.941908Z",
     "iopub.status.busy": "2024-10-21T10:01:22.941908Z",
     "iopub.status.idle": "2024-10-21T10:01:24.676912Z",
     "shell.execute_reply": "2024-10-21T10:01:24.676912Z",
     "shell.execute_reply.started": "2024-10-21T10:01:22.941908Z"
    }
   },
   "outputs": [],
   "source": [
    "predict_lk = powerlaw.Fit(predict_rank_arr[0], xmin=1).power_law.loglikelihoods(true_rank_arr)\n",
    "markov_lk = powerlaw.Fit(markov_rank_arr, xmin=1).power_law.loglikelihoods(true_rank_arr)\n",
    "ar_lk = powerlaw.Fit(ar_rank_arr, xmin=1).power_law.loglikelihoods(true_rank_arr)\n",
    "gan_lk = powerlaw.Fit(gan_rank_arr, xmin=1).power_law.loglikelihoods(true_rank_arr)\n",
    "epr_lk = powerlaw.Fit(epr_rank_arr, xmin=1).power_law.loglikelihoods(true_rank_arr)\n",
    "container_lk = powerlaw.Fit(container_rank_arr, xmin=1).power_law.loglikelihoods(true_rank_arr)"
   ]
  },
  {
   "cell_type": "code",
   "execution_count": 316,
   "metadata": {
    "execution": {
     "iopub.execute_input": "2024-10-21T10:01:24.677918Z",
     "iopub.status.busy": "2024-10-21T10:01:24.677918Z",
     "iopub.status.idle": "2024-10-21T10:01:25.862160Z",
     "shell.execute_reply": "2024-10-21T10:01:25.862160Z",
     "shell.execute_reply.started": "2024-10-21T10:01:24.677918Z"
    }
   },
   "outputs": [
    {
     "data": {
      "text/plain": [
       "((794947.7643657704, 0.0),\n",
       " (65084.523087300346, 0.0),\n",
       " (266951.9782064898, 0.0),\n",
       " (112296.93936051158, 0.0),\n",
       " (10605.905037245619, 1.938416928414071e-243))"
      ]
     },
     "execution_count": 316,
     "metadata": {},
     "output_type": "execute_result"
    }
   ],
   "source": [
    "loglikelihood_ratio(predict_lk, markov_lk),\\\n",
    "loglikelihood_ratio(predict_lk, ar_lk),\\\n",
    "loglikelihood_ratio(predict_lk, gan_lk),\\\n",
    "loglikelihood_ratio(predict_lk, epr_lk),\\\n",
    "loglikelihood_ratio(predict_lk, container_lk)"
   ]
  },
  {
   "cell_type": "markdown",
   "metadata": {},
   "source": [
    "# Rg"
   ]
  },
  {
   "cell_type": "markdown",
   "metadata": {},
   "source": [
    "## Overall"
   ]
  },
  {
   "cell_type": "code",
   "execution_count": 40,
   "metadata": {
    "execution": {
     "iopub.execute_input": "2024-11-22T10:33:43.128494Z",
     "iopub.status.busy": "2024-11-22T10:33:43.127495Z",
     "iopub.status.idle": "2024-11-22T10:33:43.131914Z",
     "shell.execute_reply": "2024-11-22T10:33:43.131914Z",
     "shell.execute_reply.started": "2024-11-22T10:33:43.128494Z"
    }
   },
   "outputs": [],
   "source": [
    "# na_layer6_linear_relu_14_250_1_200_seed101\n",
    "\n",
    "def get_rg(ls, geo_x, geo_y):\n",
    "    rgs = []\n",
    "\n",
    "    for seq in ls:\n",
    "        locs = seq - 1 # padding\n",
    "\n",
    "        xs = np.take(geo_x, locs)\n",
    "        ys = np.take(geo_y, locs)\n",
    "\n",
    "        x_center = np.average(xs)\n",
    "        y_center = np.average(ys)\n",
    "\n",
    "        square_rg = np.average((xs - x_center) ** 2 + (ys - y_center) ** 2)\n",
    "\n",
    "        rgs.append(np.sqrt(square_rg))\n",
    "    return np.array(rgs, dtype=float)"
   ]
  },
  {
   "cell_type": "code",
   "execution_count": 41,
   "metadata": {
    "execution": {
     "iopub.execute_input": "2024-11-22T10:33:43.353918Z",
     "iopub.status.busy": "2024-11-22T10:33:43.353918Z",
     "iopub.status.idle": "2024-11-22T10:33:45.375059Z",
     "shell.execute_reply": "2024-11-22T10:33:45.375059Z",
     "shell.execute_reply.started": "2024-11-22T10:33:43.353918Z"
    }
   },
   "outputs": [],
   "source": [
    "geo_x = all_locs[\"geometry\"].x.values\n",
    "geo_y = all_locs[\"geometry\"].y.values\n",
    "\n",
    "predict_rg = [get_rg(p, geo_x, geo_y) for p in predict_ls]\n",
    "\n",
    "predict_rg = [p[p>1] for p in predict_rg]"
   ]
  },
  {
   "cell_type": "code",
   "execution_count": 42,
   "metadata": {
    "execution": {
     "iopub.execute_input": "2024-11-22T10:33:45.421171Z",
     "iopub.status.busy": "2024-11-22T10:33:45.421171Z",
     "iopub.status.idle": "2024-11-22T10:33:46.443050Z",
     "shell.execute_reply": "2024-11-22T10:33:46.443050Z",
     "shell.execute_reply.started": "2024-11-22T10:33:45.421171Z"
    }
   },
   "outputs": [],
   "source": [
    "true_rg = get_rg(true_ls, geo_x, geo_y)\n",
    "# source_rg = get_rg(src_ls, geo_x, geo_y)\n",
    "\n",
    "true_rg = true_rg[true_rg>1]\n",
    "# source_rg = source_rg[source_rg>1]"
   ]
  },
  {
   "cell_type": "code",
   "execution_count": 43,
   "metadata": {
    "execution": {
     "iopub.execute_input": "2024-11-22T10:33:46.444055Z",
     "iopub.status.busy": "2024-11-22T10:33:46.444055Z",
     "iopub.status.idle": "2024-11-22T10:33:50.681964Z",
     "shell.execute_reply": "2024-11-22T10:33:50.681964Z",
     "shell.execute_reply.started": "2024-11-22T10:33:46.444055Z"
    }
   },
   "outputs": [],
   "source": [
    "markov_rg = get_rg(markov_ls, geo_x, geo_y)\n",
    "markov_rg = markov_rg[markov_rg>1]\n",
    "\n",
    "ar_rg = get_rg(ar_ls, geo_x, geo_y)\n",
    "ar_rg = ar_rg[ar_rg>1]\n",
    "\n",
    "gan_rg = get_rg(gan_ls, geo_x, geo_y)\n",
    "gan_rg = gan_rg[gan_rg>1]\n",
    "\n",
    "epr_rg = get_rg(epr_ls, geo_x, geo_y)\n",
    "epr_rg = epr_rg[epr_rg>1]\n",
    "\n",
    "container_rg = get_rg(container_ls, geo_x, geo_y)\n",
    "container_rg = container_rg[container_rg>1]"
   ]
  },
  {
   "cell_type": "code",
   "execution_count": 44,
   "metadata": {
    "execution": {
     "iopub.execute_input": "2024-11-22T10:33:50.682967Z",
     "iopub.status.busy": "2024-11-22T10:33:50.682967Z",
     "iopub.status.idle": "2024-11-22T10:33:51.056063Z",
     "shell.execute_reply": "2024-11-22T10:33:51.056063Z",
     "shell.execute_reply.started": "2024-11-22T10:33:50.682967Z"
    }
   },
   "outputs": [
    {
     "data": {
      "image/png": "[encoded data removed]",
      "text/plain": [
       "<Figure size 800x600 with 1 Axes>"
      ]
     },
     "metadata": {},
     "output_type": "display_data"
    }
   ],
   "source": [
    "plt.figure(figsize=(8, 6))\n",
    "\n",
    "# fit power law\n",
    "fit = powerlaw.Fit(true_rg, xmin=1)\n",
    "\n",
    "# plotting\n",
    "powerlaw.plot_pdf(true_rg, label=\"Data\", color=\"k\", linewidth=2)\n",
    "# powerlaw.plot_pdf(source_rg, label=\"source\")\n",
    "\n",
    "for pre, label in zip(predict_rg, diff_file_name):\n",
    "    # powerlaw.plot_pdf(pre, label=label, linewidth=2, color=\"tomato\")\n",
    "    powerlaw.plot_pdf(pre, label=label, linewidth=2)\n",
    "\n",
    "# powerlaw.plot_pdf(markov_rg, label=\"markov\", alpha=0.7, color=colors[4], linewidth=1.5)\n",
    "# powerlaw.plot_pdf(ar_rg, label=\"ar\", alpha=0.7, color=colors[5], linewidth=1.5)\n",
    "# powerlaw.plot_pdf(gan_rg, label=\"gan\", alpha=0.7, color=colors[6], linewidth=1.5)\n",
    "# powerlaw.plot_pdf(epr_rg, label=\"epr\", alpha=0.7, color=colors[0], linewidth=1.5)\n",
    "# powerlaw.plot_pdf(container_rg, label=\"container\", alpha=0.7, color=colors[2], linewidth=1.5)\n",
    "\n",
    "# fit.power_law.plot_pdf(linestyle=\"--\", label=\"powerlaw fit\")\n",
    "# fit.truncated_power_law.plot_pdf(linestyle=\"--\", label=\"truncated power law\")\n",
    "# fit.lognormal.plot_pdf(linestyle=\"--\", label=\"lognormal fit\")\n",
    "\n",
    "plt.ylabel(\"Probability\", fontsize=15)\n",
    "plt.xlabel(\"Radius of gyration (m)\", fontsize=15)\n",
    "\n",
    "# plt.savefig(r'.\\metrics\\figures\\rg.png', bbox_inches='tight', dpi=600)\n",
    "plt.legend(prop={\"size\": 13})\n",
    "plt.show()"
   ]
  },
  {
   "cell_type": "markdown",
   "metadata": {},
   "source": [
    "### Divergence "
   ]
  },
  {
   "cell_type": "code",
   "execution_count": 458,
   "metadata": {
    "execution": {
     "iopub.execute_input": "2024-09-26T14:41:28.434457Z",
     "iopub.status.busy": "2024-09-26T14:41:28.434457Z",
     "iopub.status.idle": "2024-09-26T14:41:28.438284Z",
     "shell.execute_reply": "2024-09-26T14:41:28.438284Z",
     "shell.execute_reply.started": "2024-09-26T14:41:28.434457Z"
    }
   },
   "outputs": [],
   "source": [
    "predict = np.log(predict_rg[0])\n",
    "true = np.log(true_rg)\n",
    "source = np.log(source_rg)\n",
    "\n",
    "min = predict.min()\n",
    "max = predict.max()"
   ]
  },
  {
   "cell_type": "code",
   "execution_count": 459,
   "metadata": {
    "execution": {
     "iopub.execute_input": "2024-09-26T14:41:28.857910Z",
     "iopub.status.busy": "2024-09-26T14:41:28.856908Z",
     "iopub.status.idle": "2024-09-26T14:41:28.863947Z",
     "shell.execute_reply": "2024-09-26T14:41:28.863947Z",
     "shell.execute_reply.started": "2024-09-26T14:41:28.857910Z"
    }
   },
   "outputs": [
    {
     "name": "stdout",
     "output_type": "stream",
     "text": [
      "Prediction and True: 0.172\t Source and True: 0.679\n"
     ]
    }
   ],
   "source": [
    "\n",
    "pred_rg_p, _ = np.histogram(predict, bins=1000, range=(min, max))\n",
    "true_rg_p, _ =  np.histogram(true, bins=1000, range=(min, max))\n",
    "source_rg_p, _ =  np.histogram(source, bins=1000, range=(min, max))\n",
    "\n",
    "pred_true_js = distance.jensenshannon(pred_rg_p, true_rg_p)\n",
    "source_true_js = distance.jensenshannon(source_rg_p, true_rg_p)\n",
    "\n",
    "print(f\"Prediction and True: {pred_true_js:.3f}\\t Source and True: {source_true_js:.3f}\")"
   ]
  },
  {
   "cell_type": "code",
   "execution_count": 460,
   "metadata": {
    "execution": {
     "iopub.execute_input": "2024-09-26T14:41:31.621064Z",
     "iopub.status.busy": "2024-09-26T14:41:31.621064Z",
     "iopub.status.idle": "2024-09-26T14:41:31.625125Z",
     "shell.execute_reply": "2024-09-26T14:41:31.625125Z",
     "shell.execute_reply.started": "2024-09-26T14:41:31.621064Z"
    }
   },
   "outputs": [],
   "source": [
    "markov = np.log(markov_rg)\n",
    "ar = np.log(ar_rg)\n",
    "gan = np.log(gan_rg)\n",
    "epr = np.log(epr_rg)"
   ]
  },
  {
   "cell_type": "code",
   "execution_count": 461,
   "metadata": {
    "execution": {
     "iopub.execute_input": "2024-09-26T14:41:32.162046Z",
     "iopub.status.busy": "2024-09-26T14:41:32.162046Z",
     "iopub.status.idle": "2024-09-26T14:41:32.169696Z",
     "shell.execute_reply": "2024-09-26T14:41:32.169696Z",
     "shell.execute_reply.started": "2024-09-26T14:41:32.162046Z"
    }
   },
   "outputs": [
    {
     "name": "stdout",
     "output_type": "stream",
     "text": [
      "Markov and True: 0.395\t AR and True: 0.233\t GAN and True: 0.534\n",
      "EPR and True: 0.346\n"
     ]
    }
   ],
   "source": [
    "markov_rg_p, _ =  np.histogram(markov, bins=1000, range=(min, max))\n",
    "markov_true_js = distance.jensenshannon(markov_rg_p, true_rg_p)\n",
    "\n",
    "ar_rg_p, _ =  np.histogram(ar, bins=1000, range=(min, max))\n",
    "ar_true_js = distance.jensenshannon(ar_rg_p, true_rg_p)\n",
    "\n",
    "gan_rg_p, _ =  np.histogram(gan, bins=1000, range=(min, max))\n",
    "gan_true_js = distance.jensenshannon(gan_rg_p, true_rg_p)\n",
    "\n",
    "print(f\"Markov and True: {markov_true_js:.3f}\\t AR and True: {ar_true_js:.3f}\\t GAN and True: {gan_true_js:.3f}\")\n",
    "\n",
    "epr_rg_p, _ =  np.histogram(epr, bins=1000, range=(min, max))\n",
    "epr_true_js = distance.jensenshannon(epr_rg_p, true_rg_p)\n",
    "\n",
    "print(f\"EPR and True: {epr_true_js:.3f}\")"
   ]
  },
  {
   "cell_type": "markdown",
   "metadata": {},
   "source": [
    "### Wasserstein distance"
   ]
  },
  {
   "cell_type": "code",
   "execution_count": 1270,
   "metadata": {
    "execution": {
     "iopub.execute_input": "2024-11-21T20:44:43.796316Z",
     "iopub.status.busy": "2024-11-21T20:44:43.796316Z",
     "iopub.status.idle": "2024-11-21T20:44:43.854953Z",
     "shell.execute_reply": "2024-11-21T20:44:43.854953Z",
     "shell.execute_reply.started": "2024-11-21T20:44:43.796316Z"
    }
   },
   "outputs": [
    {
     "name": "stdout",
     "output_type": "stream",
     "text": [
      "804.0831335139488\n",
      "505.13966891746395\n",
      "6171.004972192076\n",
      "9210.33306387995\n",
      "10000.133996562332\n",
      "12599.233051050616\n"
     ]
    }
   ],
   "source": [
    "for predict_variations in predict_rg:\n",
    "    print(wasserstein_distance(predict_variations, true_rg))"
   ]
  },
  {
   "cell_type": "code",
   "execution_count": 1217,
   "metadata": {
    "execution": {
     "iopub.execute_input": "2024-11-20T09:04:36.432796Z",
     "iopub.status.busy": "2024-11-20T09:04:36.432796Z",
     "iopub.status.idle": "2024-11-20T09:04:36.478628Z",
     "shell.execute_reply": "2024-11-20T09:04:36.478628Z",
     "shell.execute_reply.started": "2024-11-20T09:04:36.432796Z"
    }
   },
   "outputs": [
    {
     "data": {
      "text/plain": [
       "(10101.730765153434,\n",
       " 5137.196647919567,\n",
       " 34096.41713049315,\n",
       " 12824.745832276036,\n",
       " 3578.4341492955173)"
      ]
     },
     "execution_count": 1217,
     "metadata": {},
     "output_type": "execute_result"
    }
   ],
   "source": [
    "wasserstein_distance(markov_rg, true_rg),\\\n",
    "wasserstein_distance(ar_rg, true_rg),\\\n",
    "wasserstein_distance(gan_rg, true_rg),\\\n",
    "wasserstein_distance(epr_rg, true_rg),\\\n",
    "wasserstein_distance(container_rg, true_rg)"
   ]
  },
  {
   "cell_type": "markdown",
   "metadata": {},
   "source": [
    "### Loglikelihood"
   ]
  },
  {
   "cell_type": "code",
   "execution_count": 555,
   "metadata": {
    "execution": {
     "iopub.execute_input": "2024-11-14T15:12:09.048924Z",
     "iopub.status.busy": "2024-11-14T15:12:09.048924Z",
     "iopub.status.idle": "2024-11-14T15:12:27.755126Z",
     "shell.execute_reply": "2024-11-14T15:12:27.755126Z",
     "shell.execute_reply.started": "2024-11-14T15:12:09.048924Z"
    }
   },
   "outputs": [
    {
     "name": "stdout",
     "output_type": "stream",
     "text": [
      "{'truncated_power_law': 0.0, 'power_law': 0.0, 'lognormal': 1.0}\n",
      "{'truncated_power_law': 0.0, 'power_law': 0.0, 'lognormal': 1.0}\n"
     ]
    }
   ],
   "source": [
    "# determine the best fit distributions\n",
    "\n",
    "fit = powerlaw.Fit(true_rg, xmin = 1, xmin_distribution='power_law')\n",
    "print(getAIC(fit, true_rg))\n",
    "fit = powerlaw.Fit(predict_rg[0], xmin = 1, xmin_distribution='power_law')\n",
    "print(getAIC(fit, predict_rg[0]))"
   ]
  },
  {
   "cell_type": "code",
   "execution_count": 556,
   "metadata": {
    "execution": {
     "iopub.execute_input": "2024-11-14T15:13:06.159211Z",
     "iopub.status.busy": "2024-11-14T15:13:06.159211Z",
     "iopub.status.idle": "2024-11-14T15:13:07.005495Z",
     "shell.execute_reply": "2024-11-14T15:13:07.005495Z",
     "shell.execute_reply.started": "2024-11-14T15:13:06.159211Z"
    }
   },
   "outputs": [],
   "source": [
    "predict_lk = powerlaw.Fit(predict_rg[0], xmin=1).lognormal.loglikelihoods(true_rg)\n",
    "markov_lk = powerlaw.Fit(markov_rg, xmin=1).lognormal.loglikelihoods(true_rg)\n",
    "ar_lk = powerlaw.Fit(ar_rg, xmin=1).lognormal.loglikelihoods(true_rg)\n",
    "gan_lk = powerlaw.Fit(gan_rg, xmin=1).lognormal.loglikelihoods(true_rg)\n",
    "epr_lk = powerlaw.Fit(epr_rg, xmin=1).lognormal.loglikelihoods(true_rg)\n",
    "container_lk = powerlaw.Fit(container_rg, xmin=1).lognormal.loglikelihoods(true_rg)"
   ]
  },
  {
   "cell_type": "code",
   "execution_count": 557,
   "metadata": {
    "execution": {
     "iopub.execute_input": "2024-11-14T15:13:17.984173Z",
     "iopub.status.busy": "2024-11-14T15:13:17.984173Z",
     "iopub.status.idle": "2024-11-14T15:13:18.011852Z",
     "shell.execute_reply": "2024-11-14T15:13:18.011852Z",
     "shell.execute_reply.started": "2024-11-14T15:13:17.984173Z"
    }
   },
   "outputs": [
    {
     "data": {
      "text/plain": [
       "((16524.710932785376, 0.0),\n",
       " (4346.202318618257, 0.0),\n",
       " (79916.6823140971, 0.0),\n",
       " (31358.36097032501, 0.0),\n",
       " (940.6211321269215, 7.624054395397612e-92))"
      ]
     },
     "execution_count": 557,
     "metadata": {},
     "output_type": "execute_result"
    }
   ],
   "source": [
    "loglikelihood_ratio(predict_lk, markov_lk),\\\n",
    "loglikelihood_ratio(predict_lk, ar_lk),\\\n",
    "loglikelihood_ratio(predict_lk, gan_lk),\\\n",
    "loglikelihood_ratio(predict_lk, epr_lk),\\\n",
    "loglikelihood_ratio(predict_lk, container_lk)"
   ]
  },
  {
   "cell_type": "markdown",
   "metadata": {
    "execution": {
     "iopub.execute_input": "2024-04-24T13:23:32.913907Z",
     "iopub.status.busy": "2024-04-24T13:23:32.912910Z",
     "iopub.status.idle": "2024-04-24T13:23:32.916899Z",
     "shell.execute_reply": "2024-04-24T13:23:32.916899Z",
     "shell.execute_reply.started": "2024-04-24T13:23:32.913907Z"
    }
   },
   "source": [
    "## Evolution"
   ]
  },
  {
   "cell_type": "code",
   "execution_count": 45,
   "metadata": {
    "execution": {
     "iopub.execute_input": "2024-11-22T10:34:00.898959Z",
     "iopub.status.busy": "2024-11-22T10:34:00.898959Z",
     "iopub.status.idle": "2024-11-22T10:34:00.914376Z",
     "shell.execute_reply": "2024-11-22T10:34:00.914376Z",
     "shell.execute_reply.started": "2024-11-22T10:34:00.898959Z"
    }
   },
   "outputs": [],
   "source": [
    "def get_rg_evolution(seq, geo_x, geo_y, max_len=50):\n",
    "    locs = seq - 1 # padding\n",
    "\n",
    "    xs = np.take(geo_x, locs)\n",
    "    ys = np.take(geo_y, locs)\n",
    "\n",
    "    current_rg = [0]\n",
    "    for i in range(1, len(xs)):\n",
    "\n",
    "        x_center = np.average(xs[:i])\n",
    "        y_center = np.average(ys[:i])\n",
    "\n",
    "        square_rg = np.average((xs[:i] - x_center) ** 2 + (ys[:i] - y_center) ** 2)\n",
    "\n",
    "        current_rg.append(np.sqrt(square_rg))\n",
    "    \n",
    "    current_rg = np.array(current_rg, dtype=float)\n",
    "    if len(current_rg) > max_len:\n",
    "        current_rg = current_rg[:max_len]\n",
    "    else:\n",
    "        current_rg = np.pad(current_rg, (0, max_len - len(current_rg)), constant_values=np.nan)\n",
    "            \n",
    "    return current_rg\n",
    "\n",
    "geo_x = all_locs[\"geometry\"].x.values\n",
    "geo_y = all_locs[\"geometry\"].y.values\n"
   ]
  },
  {
   "cell_type": "code",
   "execution_count": 46,
   "metadata": {
    "execution": {
     "iopub.execute_input": "2024-11-22T10:34:01.119619Z",
     "iopub.status.busy": "2024-11-22T10:34:01.119619Z",
     "iopub.status.idle": "2024-11-22T10:34:11.849657Z",
     "shell.execute_reply": "2024-11-22T10:34:11.849657Z",
     "shell.execute_reply.started": "2024-11-22T10:34:01.119619Z"
    }
   },
   "outputs": [],
   "source": [
    "predict_rge = [_apply_parallel(p, get_rg_evolution, geo_x=geo_x, geo_y=geo_y, n=-1) for p in predict_ls]"
   ]
  },
  {
   "cell_type": "code",
   "execution_count": 47,
   "metadata": {
    "execution": {
     "iopub.execute_input": "2024-11-22T10:34:11.850664Z",
     "iopub.status.busy": "2024-11-22T10:34:11.850664Z",
     "iopub.status.idle": "2024-11-22T10:34:17.009299Z",
     "shell.execute_reply": "2024-11-22T10:34:17.009299Z",
     "shell.execute_reply.started": "2024-11-22T10:34:11.850664Z"
    }
   },
   "outputs": [],
   "source": [
    "true_rge = _apply_parallel(true_ls, get_rg_evolution, geo_x=geo_x, geo_y=geo_y, n=-1)\n",
    "# source_rge = _apply_parallel(src_ls, get_rg_evolution, geo_x=geo_x, geo_y=geo_y, n=-1)"
   ]
  },
  {
   "cell_type": "code",
   "execution_count": 48,
   "metadata": {
    "execution": {
     "iopub.execute_input": "2024-11-22T10:34:22.990129Z",
     "iopub.status.busy": "2024-11-22T10:34:22.990129Z",
     "iopub.status.idle": "2024-11-22T10:34:45.908900Z",
     "shell.execute_reply": "2024-11-22T10:34:45.908900Z",
     "shell.execute_reply.started": "2024-11-22T10:34:22.990129Z"
    }
   },
   "outputs": [],
   "source": [
    "markov_rge = _apply_parallel(markov_ls, get_rg_evolution, geo_x=geo_x, geo_y=geo_y, n=-1)\n",
    "epr_rge = _apply_parallel(epr_ls, get_rg_evolution, geo_x=geo_x, geo_y=geo_y, n=-1)\n",
    "ar_rge = _apply_parallel(ar_ls, get_rg_evolution, geo_x=geo_x, geo_y=geo_y, n=-1)\n",
    "gan_rge = _apply_parallel(gan_ls, get_rg_evolution, geo_x=geo_x, geo_y=geo_y, n=-1)\n",
    "\n",
    "container_rge = _apply_parallel(container_ls, get_rg_evolution, geo_x=geo_x, geo_y=geo_y, n=-1)"
   ]
  },
  {
   "cell_type": "code",
   "execution_count": 50,
   "metadata": {
    "execution": {
     "iopub.execute_input": "2024-11-22T10:34:49.568286Z",
     "iopub.status.busy": "2024-11-22T10:34:49.568286Z",
     "iopub.status.idle": "2024-11-22T10:34:49.791051Z",
     "shell.execute_reply": "2024-11-22T10:34:49.791051Z",
     "shell.execute_reply.started": "2024-11-22T10:34:49.568286Z"
    }
   },
   "outputs": [
    {
     "data": {
      "image/png": "[encoded data removed]",
      "text/plain": [
       "<Figure size 800x600 with 1 Axes>"
      ]
     },
     "metadata": {},
     "output_type": "display_data"
    }
   ],
   "source": [
    "# na_layer6_linear_relu_14_250_1_200_seed102\n",
    "\n",
    "def get_fit(rge, x_log):\n",
    "    y = np.nanmedian(rge, axis = 0)[:-1]\n",
    "    # x_log = np.log(np.arange(len(y)) + 1)\n",
    "    slope, intercept, _, _, _ = linregress(x_log, y)\n",
    "\n",
    "    return slope, intercept\n",
    "\n",
    "\n",
    "plt.figure(figsize=(8, 6))\n",
    "\n",
    "x = np.arange(1, 50)\n",
    "x_log = np.log(x)\n",
    "\n",
    "# plotting\n",
    "plt.plot(x, np.nanmedian(true_rge, axis = 0)[1:], color=\"k\", linewidth=2, label=\"Data\")\n",
    "\n",
    "# slope, intercept = get_fit(true_rge, x_log)\n",
    "# plt.plot(np.exp(x_log)[1:], x_log[1:]*slope+intercept, \"--\", color=\"k\")\n",
    "\n",
    "# plt.plot(x, np.nanquantile(true_rge, q=0.25, axis=0)[1:], '--', color = colors[0], alpha=0.3)\n",
    "# plt.plot(x, np.nanquantile(true_rge, q=0.75, axis=0)[1:], '--', color = colors[0], alpha=0.3)\n",
    "# plt.fill_between(x, np.nanquantile(true_rge, q=0.25, axis=0)[1:], np.nanquantile(true_rge, q=0.75, axis=0)[1:], color = colors[0], alpha=0.3)\n",
    "\n",
    "# plt.plot(source_rge, label=\"source\")\n",
    "\n",
    "for i, (pre, label) in enumerate(zip(predict_rge, diff_file_name)):\n",
    "    # plt.plot(x, np.nanmedian(pre, axis=0)[1:], linewidth=2, label=label, color=\"tomato\")\n",
    "    plt.plot(x, np.nanmedian(pre, axis=0)[1:], linewidth=2, label=label)\n",
    "    \n",
    "    # slope, intercept = get_fit(pre, x_log)\n",
    "    # plt.plot(np.exp(x_log)[1:], x_log[1:]*slope+intercept, \"--\", color=\"tomato\")\n",
    "    # plt.plot(x, np.nanmedian(pre, axis=0)[1:], linewidth=2, label=label)\n",
    "    # plt.plot(x, np.nanquantile(pre, q=0.25, axis=0)[1:], '--', color = colors[i+1], alpha=0.3)\n",
    "    # plt.plot(x, np.nanquantile(pre, q=0.75, axis=0)[1:], '--', color = colors[i+1], alpha=0.3)\n",
    "    # plt.fill_between(x, np.nanquantile(pre, q=0.25, axis=0)[1:], np.nanquantile(pre, q=0.75, axis=0)[1:], color = colors[i+1], alpha=0.3)\n",
    "\n",
    "# plt.plot(x, np.nanmedian(markov_rge, axis = 0)[1:], color = colors[4], linewidth=1.5, label=\"Markov\", alpha=0.7)\n",
    "# plt.plot(x, np.nanmedian(ar_rge, axis = 0)[1:], color = colors[5], label=\"MHSA\", alpha=0.7)\n",
    "# plt.plot(x, np.nanmedian(gan_rge, axis = 0)[1:], color = colors[6], linewidth=1.5, label=\"MovSim\", alpha=0.7)\n",
    "# plt.plot(x, np.nanmedian(epr_rge, axis = 0)[1:], color=colors[0], linewidth=1.5, label=\"EPR\", alpha=0.7)\n",
    "# slope, intercept = get_fit(epr_rge, x_log)\n",
    "# plt.plot(np.exp(x_log)[1:], x_log[1:]*slope+intercept, \"--\", color=colors[0], alpha=0.7)\n",
    "\n",
    "# plt.plot(x, np.nanmedian(container_rge, axis = 0)[1:], color=colors[2], linewidth=1.5, label=\"Container\", alpha=0.7)\n",
    "\n",
    "\n",
    "plt.xlabel(\"#Displacements\", fontsize=15)\n",
    "plt.ylabel(\"Radius of gyration (m)\", fontsize=15)\n",
    "plt.legend(prop={\"size\": 10})\n",
    "\n",
    "# plt.savefig(r'.\\metrics\\figures\\rg_evolution_all.png', bbox_inches='tight', dpi=600)\n",
    "plt.show()"
   ]
  },
  {
   "cell_type": "markdown",
   "metadata": {},
   "source": [
    "### Fit"
   ]
  },
  {
   "cell_type": "code",
   "execution_count": 891,
   "metadata": {
    "execution": {
     "iopub.execute_input": "2024-11-05T14:39:34.523036Z",
     "iopub.status.busy": "2024-11-05T14:39:34.522037Z",
     "iopub.status.idle": "2024-11-05T14:39:34.657536Z",
     "shell.execute_reply": "2024-11-05T14:39:34.657536Z",
     "shell.execute_reply.started": "2024-11-05T14:39:34.523036Z"
    }
   },
   "outputs": [
    {
     "name": "stdout",
     "output_type": "stream",
     "text": [
      "LinregressResult(slope=2875.380653561889, intercept=-401.2924740358367, rvalue=0.9966999746219484, pvalue=7.992243632684262e-52, stderr=34.52765069223505, intercept_stderr=105.62517053583069)\n",
      "LinregressResult(slope=6172.546409370768, intercept=-2958.0776651473225, rvalue=0.9861268042008061, pvalue=1.5784560544136267e-37, stderr=153.19494272481762, intercept_stderr=468.6459004919987)\n",
      "LinregressResult(slope=6200.509752542976, intercept=-2956.786874876805, rvalue=0.9876013637038327, pvalue=1.2093855840836779e-38, stderr=145.31766182764326, intercept_stderr=444.54813764276435)\n"
     ]
    }
   ],
   "source": [
    "cut = 2\n",
    "\n",
    "y = np.nanmedian(true_rge, axis = 0)[cut:]\n",
    "x = np.log(np.arange(len(y)) + 1)\n",
    "print(stats.linregress(x, y))\n",
    "\n",
    "for predict_variation in predict_rge:\n",
    "    y = np.nanmedian(predict_variation, axis = 0)[cut:]\n",
    "    print(stats.linregress(x, y))"
   ]
  },
  {
   "cell_type": "code",
   "execution_count": 349,
   "metadata": {
    "execution": {
     "iopub.execute_input": "2024-10-21T10:14:34.166449Z",
     "iopub.status.busy": "2024-10-21T10:14:34.166449Z",
     "iopub.status.idle": "2024-10-21T10:14:34.414187Z",
     "shell.execute_reply": "2024-10-21T10:14:34.414187Z",
     "shell.execute_reply.started": "2024-10-21T10:14:34.166449Z"
    }
   },
   "outputs": [
    {
     "name": "stdout",
     "output_type": "stream",
     "text": [
      "LinregressResult(slope=2875.380653561889, intercept=-401.2924740358367, rvalue=0.9966999746219484, pvalue=7.992243632684262e-52, stderr=34.52765069223505, intercept_stderr=105.62517053583069)\n",
      "LinregressResult(slope=2967.216248265379, intercept=41.8583159364498, rvalue=0.9978610471510109, pvalue=3.773300781151778e-56, stderr=28.66047990899057, intercept_stderr=87.67663068100613)\n",
      "LinregressResult(slope=6430.589693006258, intercept=4213.527108442751, rvalue=0.9814759338592268, pvalue=1.1605267337963794e-34, stderr=185.07799742228624, intercept_stderr=566.1808622431234)\n",
      "LinregressResult(slope=3783.831980925417, intercept=-1265.6765105704108, rvalue=0.9926973382708331, pvalue=6.58368029933807e-44, stderr=67.79494809941005, intercept_stderr=207.3947346808159)\n",
      "markov_rge\n",
      "LinregressResult(slope=795.9891167905256, intercept=535.1803442210312, rvalue=0.9756517887016035, pvalue=5.868563071241963e-32, stderr=26.382873852157264, intercept_stderr=80.70909818622908)\n",
      "ar_rge\n",
      "LinregressResult(slope=1541.092028178805, intercept=249.131862258434, rvalue=0.9984986877101077, pvalue=1.1062395429802975e-59, stderr=12.464923378420858, intercept_stderr=38.13203711128424)\n",
      "gan_rge\n",
      "LinregressResult(slope=14976.400263230222, intercept=-11534.4671130083, rvalue=0.9787947026887163, pvalue=2.5266868159601018e-33, stderr=462.12500152889083, intercept_stderr=1413.7084660190185)\n"
     ]
    }
   ],
   "source": [
    "cut = 2\n",
    "\n",
    "y = np.nanmedian(true_rge, axis = 0)[cut:]\n",
    "x = np.log(np.arange(len(y)) + 1)\n",
    "print(stats.linregress(x, y))\n",
    "\n",
    "y = np.nanmedian(predict_rge[0], axis = 0)[cut:]\n",
    "print(stats.linregress(x, y))\n",
    "\n",
    "y = np.nanmedian(epr_rge, axis = 0)[cut:]\n",
    "print(stats.linregress(x, y))\n",
    "\n",
    "y = np.nanmedian(container_rge, axis = 0)[cut:]\n",
    "print(stats.linregress(x, y))\n",
    "\n",
    "print(\"markov_rge\")\n",
    "y = np.nanmedian(markov_rge, axis = 0)[cut:]\n",
    "print(stats.linregress(x, y))\n",
    "\n",
    "print(\"ar_rge\")\n",
    "y = np.nanmedian(ar_rge, axis = 0)[cut:]\n",
    "print(stats.linregress(x, y))\n",
    "\n",
    "print(\"gan_rge\")\n",
    "y = np.nanmedian(gan_rge, axis = 0)[cut:]\n",
    "print(stats.linregress(x, y))\n"
   ]
  },
  {
   "cell_type": "code",
   "execution_count": 287,
   "metadata": {
    "execution": {
     "iopub.execute_input": "2024-10-21T09:53:28.008846Z",
     "iopub.status.busy": "2024-10-21T09:53:28.008846Z",
     "iopub.status.idle": "2024-10-21T09:53:28.294473Z",
     "shell.execute_reply": "2024-10-21T09:53:28.294473Z",
     "shell.execute_reply.started": "2024-10-21T09:53:28.008846Z"
    }
   },
   "outputs": [
    {
     "data": {
      "image/png": "[encoded data removed]",
      "text/plain": [
       "<Figure size 800x300 with 1 Axes>"
      ]
     },
     "metadata": {},
     "output_type": "display_data"
    }
   ],
   "source": [
    "from scipy.stats import linregress\n",
    "\n",
    "plt.figure(figsize=(8, 3))\n",
    "\n",
    "cut = 2\n",
    "\n",
    "y = np.nanmedian(true_rge, axis = 0)[cut:]\n",
    "x = np.log(np.arange(len(y)) + 1)\n",
    "slope, intercept, _, _, _ = linregress(x, y)\n",
    "plt.plot(x, y, color=\"k\",  label=\"Data\")\n",
    "plt.plot(x, x*slope+intercept, \"--\", color=\"k\")\n",
    "\n",
    "y = np.nanmedian(predict_rge[0], axis = 0)[cut:]\n",
    "slope, intercept, _, _, _ = linregress(x, y)\n",
    "plt.plot(x, y, color=\"tomato\",  label=\"Diffusion (Ours)\")\n",
    "plt.plot(x, x*slope+intercept, \"--\", color=\"tomato\")\n",
    "\n",
    "y = np.nanmedian(epr_rge, axis = 0)[cut:]\n",
    "slope, intercept, _, _, _ = linregress(x, y)\n",
    "plt.plot(x, y, color=colors[0],  label=\"EPR\")\n",
    "plt.plot(x, x*slope+intercept, \"--\", color=colors[0])\n",
    "\n",
    "y = np.nanmedian(container_rge, axis = 0)[cut:]\n",
    "slope, intercept, _, _, _ = linregress(x, y)\n",
    "plt.plot(x, y, color=colors[2],  label=\"Container\")\n",
    "plt.plot(x, x*slope+intercept, \"--\", color=colors[2])\n",
    "\n",
    "# y = np.nanmedian(ar_rge, axis = 0)[cut:]\n",
    "# slope, intercept, _, _, _ = linregress(x, y)\n",
    "# plt.plot(x, y, color=colors[2],  label=\"MHSA\")\n",
    "# plt.plot(x, x*slope+intercept, \"--\", color=colors[2])\n",
    "\n",
    "plt.xlabel(\"log(#Displacements)\", fontsize=15)\n",
    "plt.ylabel(\"Radius of gyration (m)\", fontsize=15)\n",
    "\n",
    "plt.legend(prop={\"size\": 10})\n",
    "plt.show()"
   ]
  },
  {
   "cell_type": "markdown",
   "metadata": {},
   "source": [
    "# Testing distribution"
   ]
  },
  {
   "cell_type": "code",
   "execution_count": 104,
   "metadata": {
    "execution": {
     "iopub.execute_input": "2024-09-05T12:23:27.181506Z",
     "iopub.status.busy": "2024-09-05T12:23:27.181506Z",
     "iopub.status.idle": "2024-09-05T12:23:46.780794Z",
     "shell.execute_reply": "2024-09-05T12:23:46.780794Z",
     "shell.execute_reply.started": "2024-09-05T12:23:27.181506Z"
    }
   },
   "outputs": [
    {
     "name": "stdout",
     "output_type": "stream",
     "text": [
      "Max loc id 14881, min loc id 1, unique loc id:14881\n"
     ]
    }
   ],
   "source": [
    "from utils.utils import load_data, _split_dataset\n",
    "\n",
    "def get_train_test(sp, all_locs=None):\n",
    "    sp.sort_values(by=[\"user_id\", \"start_day\", \"start_min\"], inplace=True)\n",
    "    sp.drop(columns={\"started_at\", \"finished_at\"}, inplace=True)\n",
    "    sp[\"idx\"] = sp.groupby(\"user_id\").cumcount().add(1)\n",
    "\n",
    "    # encoder user, 0 reserved for padding\n",
    "    enc = OrdinalEncoder(dtype=np.int64)\n",
    "    sp[\"user_id\"] = enc.fit_transform(sp[\"user_id\"].values.reshape(-1, 1)) + 1\n",
    "\n",
    "    # split the datasets, user dependent 0.7, 0.2, 0.1\n",
    "    train_data, vali_data, test_data = _split_dataset(sp)\n",
    "\n",
    "    # encode unseen locations in validation and test into 0\n",
    "    enc = OrdinalEncoder(dtype=np.int64, handle_unknown=\"use_encoded_value\", unknown_value=-1).fit(\n",
    "        all_locs[\"loc_id\"].values.reshape(-1, 1)\n",
    "    )\n",
    "    # add 1 to account for 0 padding\n",
    "    all_locs[\"loc_id\"] = enc.transform(all_locs[\"loc_id\"].values.reshape(-1, 1)) + 1\n",
    "\n",
    "    train_data[\"location_id\"] = enc.transform(train_data[\"location_id\"].values.reshape(-1, 1)) + 1\n",
    "    vali_data[\"location_id\"] = enc.transform(vali_data[\"location_id\"].values.reshape(-1, 1)) + 1\n",
    "    test_data[\"location_id\"] = enc.transform(test_data[\"location_id\"].values.reshape(-1, 1)) + 1\n",
    "\n",
    "    return train_data, vali_data, test_data, all_locs\n",
    "\n",
    "def get_data_for_mechanistic(type):\n",
    "    sp = pd.read_csv(os.path.join(f\"./data/sp_{type}.csv\"), index_col=\"id\")\n",
    "    loc = pd.read_csv(os.path.join(\"./data/loc_s2_level10_13.csv\"), index_col=\"id\")\n",
    "\n",
    "    sp = load_data(sp, loc)\n",
    "\n",
    "    # get all possible locations\n",
    "    all_locs = pd.read_csv(\"./data/s2_loc_visited_level10_13.csv\", index_col=\"id\")\n",
    "    all_locs[\"geometry\"] = all_locs[\"geometry\"].apply(wkt.loads)\n",
    "    all_locs = gpd.GeoDataFrame(all_locs, geometry=\"geometry\", crs=\"EPSG:4326\")\n",
    "    # transform to projected coordinate systems\n",
    "    all_locs = all_locs.to_crs(\"EPSG:2056\")\n",
    "\n",
    "    train_data, vali_data, test_data, all_locs = get_train_test(sp, all_locs=all_locs)\n",
    "    print(\n",
    "        f\"Max loc id {all_locs.loc_id.max()}, min loc id {all_locs.loc_id.min()}, unique loc id:{all_locs.loc_id.unique().shape[0]}\"\n",
    "    )\n",
    "\n",
    "    return train_data, vali_data, test_data, all_locs\n",
    "\n",
    "train_df, vali_df, test_df, all_locs_df = get_data_for_mechanistic(type=\"all\")"
   ]
  },
  {
   "cell_type": "code",
   "execution_count": 186,
   "metadata": {
    "execution": {
     "iopub.execute_input": "2024-04-17T09:15:18.373632Z",
     "iopub.status.busy": "2024-04-17T09:15:18.373632Z",
     "iopub.status.idle": "2024-04-17T09:15:33.013036Z",
     "shell.execute_reply": "2024-04-17T09:15:33.013036Z",
     "shell.execute_reply.started": "2024-04-17T09:15:18.373632Z"
    }
   },
   "outputs": [],
   "source": [
    "from sklearn.linear_model import LinearRegression\n",
    "def get_parameter_estimate(df):\n",
    "    df.sort_values(by=[\"start_day\", \"start_min\"], inplace=True)\n",
    "\n",
    "    loc = df[\"location_id\"].values\n",
    "\n",
    "    unique_count_ls = []\n",
    "    for i in range(loc.shape[0]):\n",
    "        unique_count_ls.append(len(np.unique(loc[: i + 1])))\n",
    "\n",
    "    # big S\n",
    "    unique_count_arr = np.array(unique_count_ls)\n",
    "\n",
    "    # small n\n",
    "    steps = np.arange(unique_count_arr.shape[0]) + 1\n",
    "\n",
    "    logy = np.log(unique_count_arr)\n",
    "    logx = np.log(steps)\n",
    "    # print(logy, logx)\n",
    "    reg = LinearRegression().fit(logx.reshape(-1, 1), logy)\n",
    "\n",
    "    r = 1 / reg.coef_ - 1\n",
    "    p = np.exp((reg.intercept_ - np.log(1 + r)) * (1 + r))\n",
    "\n",
    "    return pd.Series([r[0], p[0]], index=[\"r\", \"p\"])\n",
    "\n",
    "train_vali_data = pd.concat([train_df, vali_df])\n",
    "param_estimate = train_vali_data.groupby(\"user_id\").apply(get_parameter_estimate)"
   ]
  },
  {
   "cell_type": "code",
   "execution_count": 189,
   "metadata": {
    "execution": {
     "iopub.execute_input": "2024-04-17T09:16:06.590642Z",
     "iopub.status.busy": "2024-04-17T09:16:06.589646Z",
     "iopub.status.idle": "2024-04-17T09:16:06.609383Z",
     "shell.execute_reply": "2024-04-17T09:16:06.609383Z",
     "shell.execute_reply.started": "2024-04-17T09:16:06.590642Z"
    }
   },
   "outputs": [
    {
     "data": {
      "text/plain": [
       "((0.631684130639635, 0.3078206120000065),\n",
       " (0.5256114632862874, 0.27405772148554913))"
      ]
     },
     "execution_count": 189,
     "metadata": {},
     "output_type": "execute_result"
    }
   ],
   "source": [
    "from scipy.stats import norm\n",
    "norm.fit(param_estimate.r), norm.fit(param_estimate.p)"
   ]
  },
  {
   "cell_type": "code",
   "execution_count": 190,
   "metadata": {
    "execution": {
     "iopub.execute_input": "2024-04-17T09:17:29.996405Z",
     "iopub.status.busy": "2024-04-17T09:17:29.996405Z",
     "iopub.status.idle": "2024-04-17T09:17:30.007376Z",
     "shell.execute_reply": "2024-04-17T09:17:30.006380Z",
     "shell.execute_reply.started": "2024-04-17T09:17:29.996405Z"
    }
   },
   "outputs": [],
   "source": [
    "param_estimate = param_estimate.loc[param_estimate[\"p\"]<1]"
   ]
  },
  {
   "cell_type": "code",
   "execution_count": 192,
   "metadata": {
    "execution": {
     "iopub.execute_input": "2024-04-17T09:17:38.206161Z",
     "iopub.status.busy": "2024-04-17T09:17:38.206161Z",
     "iopub.status.idle": "2024-04-17T09:17:38.515396Z",
     "shell.execute_reply": "2024-04-17T09:17:38.515396Z",
     "shell.execute_reply.started": "2024-04-17T09:17:38.206161Z"
    }
   },
   "outputs": [
    {
     "data": {
      "text/plain": [
       "array([[<Axes: title={'center': 'r'}>, <Axes: title={'center': 'p'}>]],\n",
       "      dtype=object)"
      ]
     },
     "execution_count": 192,
     "metadata": {},
     "output_type": "execute_result"
    },
    {
     "data": {
      "image/png": "[encoded data removed]",
      "text/plain": [
       "<Figure size 640x480 with 2 Axes>"
      ]
     },
     "metadata": {},
     "output_type": "display_data"
    }
   ],
   "source": [
    "param_estimate.hist()"
   ]
  },
  {
   "cell_type": "code",
   "execution_count": 193,
   "metadata": {
    "execution": {
     "iopub.execute_input": "2024-04-17T09:18:42.764764Z",
     "iopub.status.busy": "2024-04-17T09:18:42.764764Z",
     "iopub.status.idle": "2024-04-17T09:18:42.773253Z",
     "shell.execute_reply": "2024-04-17T09:18:42.773253Z",
     "shell.execute_reply.started": "2024-04-17T09:18:42.764764Z"
    }
   },
   "outputs": [
    {
     "data": {
      "text/plain": [
       "((0.6217721474035965, 0.3032468230238075),\n",
       " (0.4943456871979018, 0.20562538359456128))"
      ]
     },
     "execution_count": 193,
     "metadata": {},
     "output_type": "execute_result"
    }
   ],
   "source": [
    "norm.fit(param_estimate.r), norm.fit(param_estimate.p)"
   ]
  },
  {
   "cell_type": "code",
   "execution_count": 306,
   "metadata": {
    "execution": {
     "iopub.execute_input": "2024-04-17T12:56:41.283473Z",
     "iopub.status.busy": "2024-04-17T12:56:41.283473Z",
     "iopub.status.idle": "2024-04-17T12:56:45.174311Z",
     "shell.execute_reply": "2024-04-17T12:56:45.174311Z",
     "shell.execute_reply.started": "2024-04-17T12:56:41.283473Z"
    }
   },
   "outputs": [
    {
     "name": "stdout",
     "output_type": "stream",
     "text": [
      "Lognormal: parameter1: 0.9748\t parameter2: 1.4316\n"
     ]
    }
   ],
   "source": [
    "duration_hour = train_vali_data[\"act_duration\"].values / 60\n",
    "duration_hour = duration_hour[duration_hour > 0.1]\n",
    "\n",
    "fit = powerlaw.Fit(duration_hour, xmin=0.1, xmin_distribution=\"lognormal\")\n",
    "# print(\"AIC criteria for wait time:\", getAIC(fit, duration_hour))\n",
    "print(f\"Lognormal: parameter1: {fit.lognormal.parameter1:.4f}\\t parameter2: {fit.lognormal.parameter2:.4f}\")\n",
    "# print(\n",
    "#     f\"Truncated power law: parameter1: {fit.truncated_power_law.parameter1:.2f}\\t parameter2: {fit.truncated_power_law.parameter2:.2f}\"\n",
    "# )\n",
    "# print(f\"Power law: alpha: {fit.power_law.alpha:.2f}\")\n"
   ]
  },
  {
   "cell_type": "code",
   "execution_count": 311,
   "metadata": {
    "execution": {
     "iopub.execute_input": "2024-04-17T12:57:26.206760Z",
     "iopub.status.busy": "2024-04-17T12:57:26.206760Z",
     "iopub.status.idle": "2024-04-17T12:57:26.220986Z",
     "shell.execute_reply": "2024-04-17T12:57:26.220986Z",
     "shell.execute_reply.started": "2024-04-17T12:57:26.206760Z"
    }
   },
   "outputs": [
    {
     "data": {
      "text/plain": [
       "2013.6666666666667"
      ]
     },
     "execution_count": 311,
     "metadata": {},
     "output_type": "execute_result"
    }
   ],
   "source": [
    "duration_hour.max()"
   ]
  },
  {
   "cell_type": "code",
   "execution_count": 312,
   "metadata": {
    "execution": {
     "iopub.execute_input": "2024-04-17T12:57:41.560627Z",
     "iopub.status.busy": "2024-04-17T12:57:41.559630Z",
     "iopub.status.idle": "2024-04-17T12:57:41.719594Z",
     "shell.execute_reply": "2024-04-17T12:57:41.719594Z",
     "shell.execute_reply.started": "2024-04-17T12:57:41.560627Z"
    }
   },
   "outputs": [
    {
     "data": {
      "text/plain": [
       "(-304319.6466017017, 0.0)"
      ]
     },
     "execution_count": 312,
     "metadata": {},
     "output_type": "execute_result"
    }
   ],
   "source": [
    "fit.distribution_compare('power_law', 'exponential')"
   ]
  },
  {
   "cell_type": "code",
   "execution_count": 198,
   "metadata": {
    "execution": {
     "iopub.execute_input": "2024-04-17T09:23:05.477675Z",
     "iopub.status.busy": "2024-04-17T09:23:05.477675Z",
     "iopub.status.idle": "2024-04-17T09:23:06.133209Z",
     "shell.execute_reply": "2024-04-17T09:23:06.133209Z",
     "shell.execute_reply.started": "2024-04-17T09:23:05.477675Z"
    }
   },
   "outputs": [
    {
     "data": {
      "image/png": "[encoded data removed]",
      "text/plain": [
       "<Figure size 800x500 with 1 Axes>"
      ]
     },
     "metadata": {},
     "output_type": "display_data"
    }
   ],
   "source": [
    "plt.figure(figsize=(8,5))\n",
    "\n",
    "powerlaw.plot_pdf(duration_hour)\n",
    "\n",
    "fit.power_law.plot_pdf(linestyle = '--', label='powerlaw fit')\n",
    "# fit.truncated_power_law.plot_pdf(linestyle = '--', label='truncated power law')\n",
    "fit.lognormal.plot_pdf(linestyle = '--', label='lognormal fit')\n",
    "\n",
    "plt.legend(prop={'size': 13}, ncol=2)\n",
    "\n",
    "plt.show()"
   ]
  },
  {
   "cell_type": "code",
   "execution_count": 313,
   "metadata": {
    "collapsed": true,
    "execution": {
     "iopub.execute_input": "2024-04-17T12:58:56.802372Z",
     "iopub.status.busy": "2024-04-17T12:58:56.802372Z",
     "iopub.status.idle": "2024-04-17T12:58:56.889652Z",
     "shell.execute_reply": "2024-04-17T12:58:56.888654Z",
     "shell.execute_reply.started": "2024-04-17T12:58:56.802372Z"
    },
    "jupyter": {
     "outputs_hidden": true
    }
   },
   "outputs": [
    {
     "ename": "TypeError",
     "evalue": "Expected bytes or string, got Point",
     "output_type": "error",
     "traceback": [
      "\u001b[1;31m---------------------------------------------------------------------------\u001b[0m",
      "\u001b[1;31mTypeError\u001b[0m                                 Traceback (most recent call last)",
      "Cell \u001b[1;32mIn[313], line 1\u001b[0m\n\u001b[1;32m----> 1\u001b[0m train_vali_data[\u001b[38;5;124m\"\u001b[39m\u001b[38;5;124mgeometry\u001b[39m\u001b[38;5;124m\"\u001b[39m] \u001b[38;5;241m=\u001b[39m \u001b[43mtrain_vali_data\u001b[49m\u001b[43m[\u001b[49m\u001b[38;5;124;43m\"\u001b[39;49m\u001b[38;5;124;43mgeometry\u001b[39;49m\u001b[38;5;124;43m\"\u001b[39;49m\u001b[43m]\u001b[49m\u001b[38;5;241;43m.\u001b[39;49m\u001b[43mapply\u001b[49m\u001b[43m(\u001b[49m\u001b[43mwkt\u001b[49m\u001b[38;5;241;43m.\u001b[39;49m\u001b[43mloads\u001b[49m\u001b[43m)\u001b[49m\n",
      "File \u001b[1;32mC:\\ProgramData\\Anaconda3\\envs\\generation\\lib\\site-packages\\pandas\\core\\series.py:4757\u001b[0m, in \u001b[0;36mSeries.apply\u001b[1;34m(self, func, convert_dtype, args, by_row, **kwargs)\u001b[0m\n\u001b[0;32m   4629\u001b[0m \u001b[38;5;28;01mdef\u001b[39;00m \u001b[38;5;21mapply\u001b[39m(\n\u001b[0;32m   4630\u001b[0m     \u001b[38;5;28mself\u001b[39m,\n\u001b[0;32m   4631\u001b[0m     func: AggFuncType,\n\u001b[1;32m   (...)\u001b[0m\n\u001b[0;32m   4636\u001b[0m     \u001b[38;5;241m*\u001b[39m\u001b[38;5;241m*\u001b[39mkwargs,\n\u001b[0;32m   4637\u001b[0m ) \u001b[38;5;241m-\u001b[39m\u001b[38;5;241m>\u001b[39m DataFrame \u001b[38;5;241m|\u001b[39m Series:\n\u001b[0;32m   4638\u001b[0m \u001b[38;5;250m    \u001b[39m\u001b[38;5;124;03m\"\"\"\u001b[39;00m\n\u001b[0;32m   4639\u001b[0m \u001b[38;5;124;03m    Invoke function on values of Series.\u001b[39;00m\n\u001b[0;32m   4640\u001b[0m \n\u001b[1;32m   (...)\u001b[0m\n\u001b[0;32m   4755\u001b[0m \u001b[38;5;124;03m    dtype: float64\u001b[39;00m\n\u001b[0;32m   4756\u001b[0m \u001b[38;5;124;03m    \"\"\"\u001b[39;00m\n\u001b[1;32m-> 4757\u001b[0m     \u001b[38;5;28;01mreturn\u001b[39;00m \u001b[43mSeriesApply\u001b[49m\u001b[43m(\u001b[49m\n\u001b[0;32m   4758\u001b[0m \u001b[43m        \u001b[49m\u001b[38;5;28;43mself\u001b[39;49m\u001b[43m,\u001b[49m\n\u001b[0;32m   4759\u001b[0m \u001b[43m        \u001b[49m\u001b[43mfunc\u001b[49m\u001b[43m,\u001b[49m\n\u001b[0;32m   4760\u001b[0m \u001b[43m        \u001b[49m\u001b[43mconvert_dtype\u001b[49m\u001b[38;5;241;43m=\u001b[39;49m\u001b[43mconvert_dtype\u001b[49m\u001b[43m,\u001b[49m\n\u001b[0;32m   4761\u001b[0m \u001b[43m        \u001b[49m\u001b[43mby_row\u001b[49m\u001b[38;5;241;43m=\u001b[39;49m\u001b[43mby_row\u001b[49m\u001b[43m,\u001b[49m\n\u001b[0;32m   4762\u001b[0m \u001b[43m        \u001b[49m\u001b[43margs\u001b[49m\u001b[38;5;241;43m=\u001b[39;49m\u001b[43margs\u001b[49m\u001b[43m,\u001b[49m\n\u001b[0;32m   4763\u001b[0m \u001b[43m        \u001b[49m\u001b[43mkwargs\u001b[49m\u001b[38;5;241;43m=\u001b[39;49m\u001b[43mkwargs\u001b[49m\u001b[43m,\u001b[49m\n\u001b[0;32m   4764\u001b[0m \u001b[43m    \u001b[49m\u001b[43m)\u001b[49m\u001b[38;5;241;43m.\u001b[39;49m\u001b[43mapply\u001b[49m\u001b[43m(\u001b[49m\u001b[43m)\u001b[49m\n",
      "File \u001b[1;32mC:\\ProgramData\\Anaconda3\\envs\\generation\\lib\\site-packages\\pandas\\core\\apply.py:1209\u001b[0m, in \u001b[0;36mSeriesApply.apply\u001b[1;34m(self)\u001b[0m\n\u001b[0;32m   1206\u001b[0m     \u001b[38;5;28;01mreturn\u001b[39;00m \u001b[38;5;28mself\u001b[39m\u001b[38;5;241m.\u001b[39mapply_compat()\n\u001b[0;32m   1208\u001b[0m \u001b[38;5;66;03m# self.func is Callable\u001b[39;00m\n\u001b[1;32m-> 1209\u001b[0m \u001b[38;5;28;01mreturn\u001b[39;00m \u001b[38;5;28;43mself\u001b[39;49m\u001b[38;5;241;43m.\u001b[39;49m\u001b[43mapply_standard\u001b[49m\u001b[43m(\u001b[49m\u001b[43m)\u001b[49m\n",
      "File \u001b[1;32mC:\\ProgramData\\Anaconda3\\envs\\generation\\lib\\site-packages\\pandas\\core\\apply.py:1289\u001b[0m, in \u001b[0;36mSeriesApply.apply_standard\u001b[1;34m(self)\u001b[0m\n\u001b[0;32m   1283\u001b[0m \u001b[38;5;66;03m# row-wise access\u001b[39;00m\n\u001b[0;32m   1284\u001b[0m \u001b[38;5;66;03m# apply doesn't have a `na_action` keyword and for backward compat reasons\u001b[39;00m\n\u001b[0;32m   1285\u001b[0m \u001b[38;5;66;03m# we need to give `na_action=\"ignore\"` for categorical data.\u001b[39;00m\n\u001b[0;32m   1286\u001b[0m \u001b[38;5;66;03m# TODO: remove the `na_action=\"ignore\"` when that default has been changed in\u001b[39;00m\n\u001b[0;32m   1287\u001b[0m \u001b[38;5;66;03m#  Categorical (GH51645).\u001b[39;00m\n\u001b[0;32m   1288\u001b[0m action \u001b[38;5;241m=\u001b[39m \u001b[38;5;124m\"\u001b[39m\u001b[38;5;124mignore\u001b[39m\u001b[38;5;124m\"\u001b[39m \u001b[38;5;28;01mif\u001b[39;00m \u001b[38;5;28misinstance\u001b[39m(obj\u001b[38;5;241m.\u001b[39mdtype, CategoricalDtype) \u001b[38;5;28;01melse\u001b[39;00m \u001b[38;5;28;01mNone\u001b[39;00m\n\u001b[1;32m-> 1289\u001b[0m mapped \u001b[38;5;241m=\u001b[39m \u001b[43mobj\u001b[49m\u001b[38;5;241;43m.\u001b[39;49m\u001b[43m_map_values\u001b[49m\u001b[43m(\u001b[49m\n\u001b[0;32m   1290\u001b[0m \u001b[43m    \u001b[49m\u001b[43mmapper\u001b[49m\u001b[38;5;241;43m=\u001b[39;49m\u001b[43mcurried\u001b[49m\u001b[43m,\u001b[49m\u001b[43m \u001b[49m\u001b[43mna_action\u001b[49m\u001b[38;5;241;43m=\u001b[39;49m\u001b[43maction\u001b[49m\u001b[43m,\u001b[49m\u001b[43m \u001b[49m\u001b[43mconvert\u001b[49m\u001b[38;5;241;43m=\u001b[39;49m\u001b[38;5;28;43mself\u001b[39;49m\u001b[38;5;241;43m.\u001b[39;49m\u001b[43mconvert_dtype\u001b[49m\n\u001b[0;32m   1291\u001b[0m \u001b[43m\u001b[49m\u001b[43m)\u001b[49m\n\u001b[0;32m   1293\u001b[0m \u001b[38;5;28;01mif\u001b[39;00m \u001b[38;5;28mlen\u001b[39m(mapped) \u001b[38;5;129;01mand\u001b[39;00m \u001b[38;5;28misinstance\u001b[39m(mapped[\u001b[38;5;241m0\u001b[39m], ABCSeries):\n\u001b[0;32m   1294\u001b[0m     \u001b[38;5;66;03m# GH#43986 Need to do list(mapped) in order to get treated as nested\u001b[39;00m\n\u001b[0;32m   1295\u001b[0m     \u001b[38;5;66;03m#  See also GH#25959 regarding EA support\u001b[39;00m\n\u001b[0;32m   1296\u001b[0m     \u001b[38;5;28;01mreturn\u001b[39;00m obj\u001b[38;5;241m.\u001b[39m_constructor_expanddim(\u001b[38;5;28mlist\u001b[39m(mapped), index\u001b[38;5;241m=\u001b[39mobj\u001b[38;5;241m.\u001b[39mindex)\n",
      "File \u001b[1;32mC:\\ProgramData\\Anaconda3\\envs\\generation\\lib\\site-packages\\pandas\\core\\base.py:921\u001b[0m, in \u001b[0;36mIndexOpsMixin._map_values\u001b[1;34m(self, mapper, na_action, convert)\u001b[0m\n\u001b[0;32m    918\u001b[0m \u001b[38;5;28;01mif\u001b[39;00m \u001b[38;5;28misinstance\u001b[39m(arr, ExtensionArray):\n\u001b[0;32m    919\u001b[0m     \u001b[38;5;28;01mreturn\u001b[39;00m arr\u001b[38;5;241m.\u001b[39mmap(mapper, na_action\u001b[38;5;241m=\u001b[39mna_action)\n\u001b[1;32m--> 921\u001b[0m \u001b[38;5;28;01mreturn\u001b[39;00m \u001b[43malgorithms\u001b[49m\u001b[38;5;241;43m.\u001b[39;49m\u001b[43mmap_array\u001b[49m\u001b[43m(\u001b[49m\u001b[43marr\u001b[49m\u001b[43m,\u001b[49m\u001b[43m \u001b[49m\u001b[43mmapper\u001b[49m\u001b[43m,\u001b[49m\u001b[43m \u001b[49m\u001b[43mna_action\u001b[49m\u001b[38;5;241;43m=\u001b[39;49m\u001b[43mna_action\u001b[49m\u001b[43m,\u001b[49m\u001b[43m \u001b[49m\u001b[43mconvert\u001b[49m\u001b[38;5;241;43m=\u001b[39;49m\u001b[43mconvert\u001b[49m\u001b[43m)\u001b[49m\n",
      "File \u001b[1;32mC:\\ProgramData\\Anaconda3\\envs\\generation\\lib\\site-packages\\pandas\\core\\algorithms.py:1814\u001b[0m, in \u001b[0;36mmap_array\u001b[1;34m(arr, mapper, na_action, convert)\u001b[0m\n\u001b[0;32m   1812\u001b[0m values \u001b[38;5;241m=\u001b[39m arr\u001b[38;5;241m.\u001b[39mastype(\u001b[38;5;28mobject\u001b[39m, copy\u001b[38;5;241m=\u001b[39m\u001b[38;5;28;01mFalse\u001b[39;00m)\n\u001b[0;32m   1813\u001b[0m \u001b[38;5;28;01mif\u001b[39;00m na_action \u001b[38;5;129;01mis\u001b[39;00m \u001b[38;5;28;01mNone\u001b[39;00m:\n\u001b[1;32m-> 1814\u001b[0m     \u001b[38;5;28;01mreturn\u001b[39;00m \u001b[43mlib\u001b[49m\u001b[38;5;241;43m.\u001b[39;49m\u001b[43mmap_infer\u001b[49m\u001b[43m(\u001b[49m\u001b[43mvalues\u001b[49m\u001b[43m,\u001b[49m\u001b[43m \u001b[49m\u001b[43mmapper\u001b[49m\u001b[43m,\u001b[49m\u001b[43m \u001b[49m\u001b[43mconvert\u001b[49m\u001b[38;5;241;43m=\u001b[39;49m\u001b[43mconvert\u001b[49m\u001b[43m)\u001b[49m\n\u001b[0;32m   1815\u001b[0m \u001b[38;5;28;01melse\u001b[39;00m:\n\u001b[0;32m   1816\u001b[0m     \u001b[38;5;28;01mreturn\u001b[39;00m lib\u001b[38;5;241m.\u001b[39mmap_infer_mask(\n\u001b[0;32m   1817\u001b[0m         values, mapper, mask\u001b[38;5;241m=\u001b[39misna(values)\u001b[38;5;241m.\u001b[39mview(np\u001b[38;5;241m.\u001b[39muint8), convert\u001b[38;5;241m=\u001b[39mconvert\n\u001b[0;32m   1818\u001b[0m     )\n",
      "File \u001b[1;32mlib.pyx:2926\u001b[0m, in \u001b[0;36mpandas._libs.lib.map_infer\u001b[1;34m()\u001b[0m\n",
      "File \u001b[1;32mC:\\ProgramData\\Anaconda3\\envs\\generation\\lib\\site-packages\\shapely\\wkt.py:22\u001b[0m, in \u001b[0;36mloads\u001b[1;34m(data)\u001b[0m\n\u001b[0;32m      9\u001b[0m \u001b[38;5;28;01mdef\u001b[39;00m \u001b[38;5;21mloads\u001b[39m(data):\n\u001b[0;32m     10\u001b[0m \u001b[38;5;250m    \u001b[39m\u001b[38;5;124;03m\"\"\"\u001b[39;00m\n\u001b[0;32m     11\u001b[0m \u001b[38;5;124;03m    Load a geometry from a WKT string.\u001b[39;00m\n\u001b[0;32m     12\u001b[0m \n\u001b[1;32m   (...)\u001b[0m\n\u001b[0;32m     20\u001b[0m \u001b[38;5;124;03m    Shapely geometry object\u001b[39;00m\n\u001b[0;32m     21\u001b[0m \u001b[38;5;124;03m    \"\"\"\u001b[39;00m\n\u001b[1;32m---> 22\u001b[0m     \u001b[38;5;28;01mreturn\u001b[39;00m \u001b[43mshapely\u001b[49m\u001b[38;5;241;43m.\u001b[39;49m\u001b[43mfrom_wkt\u001b[49m\u001b[43m(\u001b[49m\u001b[43mdata\u001b[49m\u001b[43m)\u001b[49m\n",
      "File \u001b[1;32mC:\\ProgramData\\Anaconda3\\envs\\generation\\lib\\site-packages\\shapely\\io.py:282\u001b[0m, in \u001b[0;36mfrom_wkt\u001b[1;34m(geometry, on_invalid, **kwargs)\u001b[0m\n\u001b[0;32m    278\u001b[0m     \u001b[38;5;28;01mraise\u001b[39;00m \u001b[38;5;167;01mTypeError\u001b[39;00m(\u001b[38;5;124m\"\u001b[39m\u001b[38;5;124mon_invalid only accepts scalar values\u001b[39m\u001b[38;5;124m\"\u001b[39m)\n\u001b[0;32m    280\u001b[0m invalid_handler \u001b[38;5;241m=\u001b[39m np\u001b[38;5;241m.\u001b[39muint8(DecodingErrorOptions\u001b[38;5;241m.\u001b[39mget_value(on_invalid))\n\u001b[1;32m--> 282\u001b[0m \u001b[38;5;28;01mreturn\u001b[39;00m lib\u001b[38;5;241m.\u001b[39mfrom_wkt(geometry, invalid_handler, \u001b[38;5;241m*\u001b[39m\u001b[38;5;241m*\u001b[39mkwargs)\n",
      "\u001b[1;31mTypeError\u001b[0m: Expected bytes or string, got Point"
     ]
    }
   ],
   "source": [
    "train_vali_data[\"geometry\"] = train_vali_data[\"geometry\"].apply(wkt.loads)"
   ]
  },
  {
   "cell_type": "code",
   "execution_count": 314,
   "metadata": {
    "execution": {
     "iopub.execute_input": "2024-04-17T12:59:00.966906Z",
     "iopub.status.busy": "2024-04-17T12:59:00.966906Z",
     "iopub.status.idle": "2024-04-17T12:59:37.279706Z",
     "shell.execute_reply": "2024-04-17T12:59:37.278711Z",
     "shell.execute_reply.started": "2024-04-17T12:59:00.966906Z"
    }
   },
   "outputs": [],
   "source": [
    "from trackintel.geogr import point_haversine_dist\n",
    "def get_jump_length(gdf):\n",
    "    geom_arr = gdf.geometry.values\n",
    "\n",
    "    res_ls = []\n",
    "    for i in range(1, len(geom_arr)):\n",
    "        res_ls.append(point_haversine_dist(geom_arr[i - 1].x, geom_arr[i - 1].y, geom_arr[i].x, geom_arr[i].y)[0])\n",
    "    return res_ls\n",
    "\n",
    "\n",
    "jump_length = gpd.GeoDataFrame(train_vali_data, geometry=\"geometry\").groupby(\"user_id\").apply(get_jump_length)\n"
   ]
  },
  {
   "cell_type": "code",
   "execution_count": 315,
   "metadata": {
    "execution": {
     "iopub.execute_input": "2024-04-17T12:59:37.280704Z",
     "iopub.status.busy": "2024-04-17T12:59:37.280704Z",
     "iopub.status.idle": "2024-04-17T12:59:37.294632Z",
     "shell.execute_reply": "2024-04-17T12:59:37.294632Z",
     "shell.execute_reply.started": "2024-04-17T12:59:37.280704Z"
    }
   },
   "outputs": [
    {
     "data": {
      "text/plain": [
       "user_id\n",
       "1       [281.4220762892863, 1646.0597839192035, 2.5153...\n",
       "2       [155.18895767606526, 221.79356387054705, 26330...\n",
       "3       [1209.6737790118673, 240.78123913861543, 1334....\n",
       "4       [123843.69073783064, 10414.004688691146, 1195....\n",
       "5       [8.588890376360753, 55879.11369479354, 1605.63...\n",
       "                              ...                        \n",
       "2108    [228.16955784604625, 222.54524713864237, 50848...\n",
       "2109    [4.1009411544915535, 62234.457307382705, 31556...\n",
       "2110    [2.258582367933473, 2.0777604465263058, 1365.7...\n",
       "2111    [497.91750127566246, 3433.3350937983655, 3425....\n",
       "2112    [431.8709694992403, 275.23958168598085, 577.94...\n",
       "Length: 2112, dtype: object"
      ]
     },
     "execution_count": 315,
     "metadata": {},
     "output_type": "execute_result"
    }
   ],
   "source": [
    "jump_length"
   ]
  },
  {
   "cell_type": "code",
   "execution_count": 316,
   "metadata": {
    "execution": {
     "iopub.execute_input": "2024-04-17T12:59:40.252820Z",
     "iopub.status.busy": "2024-04-17T12:59:40.252820Z",
     "iopub.status.idle": "2024-04-17T12:59:40.326169Z",
     "shell.execute_reply": "2024-04-17T12:59:40.326169Z",
     "shell.execute_reply.started": "2024-04-17T12:59:40.252820Z"
    }
   },
   "outputs": [],
   "source": [
    "flat_jump_length = np.array([item for sublist in jump_length.to_list() for item in sublist])\n",
    "flat_jump_length = flat_jump_length[flat_jump_length > 20]"
   ]
  },
  {
   "cell_type": "code",
   "execution_count": 317,
   "metadata": {
    "execution": {
     "iopub.execute_input": "2024-04-17T12:59:42.045519Z",
     "iopub.status.busy": "2024-04-17T12:59:42.044521Z",
     "iopub.status.idle": "2024-04-17T12:59:45.741893Z",
     "shell.execute_reply": "2024-04-17T12:59:45.741893Z",
     "shell.execute_reply.started": "2024-04-17T12:59:42.045519Z"
    }
   },
   "outputs": [
    {
     "name": "stdout",
     "output_type": "stream",
     "text": [
      "Lognormal: parameter1: 7.4534\t parameter2: 2.0797\n"
     ]
    }
   ],
   "source": [
    "fit = powerlaw.Fit(flat_jump_length, xmin=20, xmin_distribution='lognormal')\n",
    "print(f\"Lognormal: parameter1: {fit.lognormal.parameter1:.4f}\\t parameter2: {fit.lognormal.parameter2:.4f}\")"
   ]
  },
  {
   "cell_type": "code",
   "execution_count": 321,
   "metadata": {
    "execution": {
     "iopub.execute_input": "2024-04-17T13:03:36.559444Z",
     "iopub.status.busy": "2024-04-17T13:03:36.558447Z",
     "iopub.status.idle": "2024-04-17T13:07:28.260775Z",
     "shell.execute_reply": "2024-04-17T13:07:28.259511Z",
     "shell.execute_reply.started": "2024-04-17T13:03:36.559444Z"
    }
   },
   "outputs": [
    {
     "name": "stderr",
     "output_type": "stream",
     "text": [
      "Assuming nested distributions\n"
     ]
    },
    {
     "data": {
      "text/plain": [
       "(283658.73046166607, 0.0)"
      ]
     },
     "execution_count": 321,
     "metadata": {},
     "output_type": "execute_result"
    }
   ],
   "source": [
    "fit.distribution_compare('truncated_power_law', 'power_law')"
   ]
  },
  {
   "cell_type": "code",
   "execution_count": 206,
   "metadata": {
    "execution": {
     "iopub.execute_input": "2024-04-17T09:26:34.797687Z",
     "iopub.status.busy": "2024-04-17T09:26:34.797687Z",
     "iopub.status.idle": "2024-04-17T09:26:36.193404Z",
     "shell.execute_reply": "2024-04-17T09:26:36.193404Z",
     "shell.execute_reply.started": "2024-04-17T09:26:34.797687Z"
    }
   },
   "outputs": [
    {
     "data": {
      "image/png": "[encoded data removed]",
      "text/plain": [
       "<Figure size 800x500 with 1 Axes>"
      ]
     },
     "metadata": {},
     "output_type": "display_data"
    }
   ],
   "source": [
    "plt.figure(figsize=(8,5))\n",
    "\n",
    "powerlaw.plot_pdf(flat_jump_length)\n",
    "\n",
    "fit.power_law.plot_pdf(linestyle = '--', label='powerlaw fit')\n",
    "# fit.truncated_power_law.plot_pdf(linestyle = '--', label='truncated power law')\n",
    "fit.lognormal.plot_pdf(linestyle = '--', label='lognormal fit')\n",
    "\n",
    "plt.legend(prop={'size': 13}, ncol=2)\n",
    "\n",
    "plt.show()"
   ]
  },
  {
   "cell_type": "markdown",
   "metadata": {},
   "source": [
    "# Language metrics"
   ]
  },
  {
   "cell_type": "code",
   "execution_count": 668,
   "metadata": {
    "execution": {
     "iopub.execute_input": "2024-09-26T21:14:02.314632Z",
     "iopub.status.busy": "2024-09-26T21:14:02.314632Z",
     "iopub.status.idle": "2024-09-26T21:14:02.320350Z",
     "shell.execute_reply": "2024-09-26T21:14:02.320350Z",
     "shell.execute_reply.started": "2024-09-26T21:14:02.314632Z"
    }
   },
   "outputs": [],
   "source": [
    "def bleu_score(recover, reference):\n",
    "    return sentence_bleu(\n",
    "        [reference],\n",
    "        recover,\n",
    "        smoothing_function=SmoothingFunction().method4,\n",
    "    )\n",
    "\n",
    "def get_scores(pred_ls, ref_ls):\n",
    "    bleu_ls = []\n",
    "    for pred, ref in zip(pred_ls, ref_ls):\n",
    "\n",
    "        bleu_ls.append(bleu_score(pred, ref))\n",
    "    return bleu_ls\n",
    "\n",
    "def get_self_bleu(ls):\n",
    "    selfBleu = []\n",
    "    for i, seq in tqdm(enumerate(ls)):\n",
    "        for j in range(i + 1, len(ls)):\n",
    "            score = bleu_score(seq, ls[j])\n",
    "            selfBleu.append(score)\n",
    "    return np.mean(selfBleu)\n",
    "\n",
    "def distinct_n_gram_inter_sent(hypn, n):\n",
    "    hyp_ngrams = []\n",
    "    for hyp in hypn:\n",
    "        hyp_ngrams += nltk.ngrams(hyp, n)\n",
    "    total_ngrams = len(hyp_ngrams)\n",
    "    unique_ngrams = len(list(set(hyp_ngrams)))\n",
    "\n",
    "    dist_n = unique_ngrams / total_ngrams\n",
    "    return dist_n\n",
    "\n",
    "def distinct_n_gram(hypn, n=1):\n",
    "    dist_list = []\n",
    "    for hyp in hypn:\n",
    "        n1_grams = list(nltk.ngrams(hyp, n))\n",
    "        dist_list.append(len(set(n1_grams))/len(n1_grams))\n",
    "    return np.mean(dist_list)"
   ]
  },
  {
   "cell_type": "markdown",
   "metadata": {},
   "source": [
    "## BLEU"
   ]
  },
  {
   "cell_type": "code",
   "execution_count": 669,
   "metadata": {
    "execution": {
     "iopub.execute_input": "2024-09-26T21:14:04.635177Z",
     "iopub.status.busy": "2024-09-26T21:14:04.635177Z",
     "iopub.status.idle": "2024-09-26T21:14:22.106926Z",
     "shell.execute_reply": "2024-09-26T21:14:22.105914Z",
     "shell.execute_reply.started": "2024-09-26T21:14:04.635177Z"
    }
   },
   "outputs": [],
   "source": [
    "predict_src_bleu = [get_scores(p, src_ls) for p in predict_ls]\n",
    "predict_true_bleu = [get_scores(p, true_ls) for p in predict_ls]"
   ]
  },
  {
   "cell_type": "code",
   "execution_count": 670,
   "metadata": {
    "execution": {
     "iopub.execute_input": "2024-09-26T21:14:22.107926Z",
     "iopub.status.busy": "2024-09-26T21:14:22.107926Z",
     "iopub.status.idle": "2024-09-26T21:14:31.858671Z",
     "shell.execute_reply": "2024-09-26T21:14:31.858671Z",
     "shell.execute_reply.started": "2024-09-26T21:14:22.107926Z"
    }
   },
   "outputs": [],
   "source": [
    "true_src_bleu = get_scores(true_ls, src_ls)"
   ]
  },
  {
   "cell_type": "code",
   "execution_count": 671,
   "metadata": {
    "execution": {
     "iopub.execute_input": "2024-09-26T21:14:33.660487Z",
     "iopub.status.busy": "2024-09-26T21:14:33.659485Z",
     "iopub.status.idle": "2024-09-26T21:14:33.667949Z",
     "shell.execute_reply": "2024-09-26T21:14:33.667949Z",
     "shell.execute_reply.started": "2024-09-26T21:14:33.660487Z"
    }
   },
   "outputs": [
    {
     "name": "stdout",
     "output_type": "stream",
     "text": [
      "Source and True: 0.077\n",
      "Diffusion (Ours) and True: 0.242\t\tDiffusion (Ours) and Source: 0.074\n"
     ]
    }
   ],
   "source": [
    "print(f\"Source and True: {np.average(true_src_bleu):.3f}\")\n",
    "for ps, pt, label in zip(predict_src_bleu, predict_true_bleu, diff_file_name):\n",
    "    print(f\"{label} and True: {np.average(pt):.3f}\\t\\t{label} and Source: {np.average(ps):.3f}\")"
   ]
  },
  {
   "cell_type": "code",
   "execution_count": 672,
   "metadata": {
    "execution": {
     "iopub.execute_input": "2024-09-26T21:14:46.082582Z",
     "iopub.status.busy": "2024-09-26T21:14:46.082582Z",
     "iopub.status.idle": "2024-09-26T21:15:01.427314Z",
     "shell.execute_reply": "2024-09-26T21:15:01.427314Z",
     "shell.execute_reply.started": "2024-09-26T21:14:46.082582Z"
    }
   },
   "outputs": [
    {
     "name": "stdout",
     "output_type": "stream",
     "text": [
      "Markov and True: 0.275\n",
      "AR and True: 0.244\n",
      "GAN and True: 0.002\n"
     ]
    }
   ],
   "source": [
    "markov_true_bleu = get_scores(markov_ls, true_ls)\n",
    "ar_true_bleu = get_scores(ar_ls, true_ls)\n",
    "gan_true_bleu = get_scores(gan_ls, true_ls)\n",
    "\n",
    "print(f\"Markov and True: {np.average(markov_true_bleu):.3f}\\nAR and True: {np.average(ar_true_bleu):.3f}\\nGAN and True: {np.average(gan_true_bleu):.3f}\")"
   ]
  },
  {
   "cell_type": "code",
   "execution_count": 673,
   "metadata": {
    "execution": {
     "iopub.execute_input": "2024-09-26T21:16:09.831224Z",
     "iopub.status.busy": "2024-09-26T21:16:09.831224Z",
     "iopub.status.idle": "2024-09-26T21:16:26.223406Z",
     "shell.execute_reply": "2024-09-26T21:16:26.223406Z",
     "shell.execute_reply.started": "2024-09-26T21:16:09.831224Z"
    }
   },
   "outputs": [
    {
     "name": "stdout",
     "output_type": "stream",
     "text": [
      "EPR and True: 0.087\n",
      "Container and True: 0.187\n"
     ]
    }
   ],
   "source": [
    "epr_true_bleu = get_scores(epr_ls, true_ls)\n",
    "container_true_bleu = get_scores(container_ls, true_ls)\n",
    "\n",
    "print(f\"EPR and True: {np.average(epr_true_bleu):.3f}\\nContainer and True: {np.average(container_true_bleu):.3f}\")"
   ]
  },
  {
   "cell_type": "markdown",
   "metadata": {},
   "source": [
    "## Self-bleu\n",
    "Lower self-bleu suggests higher diversity"
   ]
  },
  {
   "cell_type": "code",
   "execution_count": 98,
   "metadata": {
    "collapsed": true,
    "execution": {
     "iopub.execute_input": "2024-04-05T14:12:20.854577Z",
     "iopub.status.busy": "2024-04-05T14:12:20.854074Z",
     "iopub.status.idle": "2024-04-05T14:12:26.808265Z",
     "shell.execute_reply": "2024-04-05T14:12:26.808265Z",
     "shell.execute_reply.started": "2024-04-05T14:12:20.854577Z"
    },
    "jupyter": {
     "outputs_hidden": true
    }
   },
   "outputs": [
    {
     "name": "stderr",
     "output_type": "stream",
     "text": [
      "1it [00:05,  5.78s/it]\n"
     ]
    },
    {
     "ename": "KeyboardInterrupt",
     "evalue": "",
     "output_type": "error",
     "traceback": [
      "\u001b[1;31m---------------------------------------------------------------------------\u001b[0m",
      "\u001b[1;31mKeyboardInterrupt\u001b[0m                         Traceback (most recent call last)",
      "Cell \u001b[1;32mIn[98], line 2\u001b[0m\n\u001b[0;32m      1\u001b[0m \u001b[38;5;66;03m# slow\u001b[39;00m\n\u001b[1;32m----> 2\u001b[0m predict_bleu \u001b[38;5;241m=\u001b[39m \u001b[43mget_self_bleu\u001b[49m\u001b[43m(\u001b[49m\u001b[43mpredict_ls\u001b[49m\u001b[43m)\u001b[49m\n\u001b[0;32m      3\u001b[0m true_bleu \u001b[38;5;241m=\u001b[39m get_self_bleu(true_ls)\n\u001b[0;32m      4\u001b[0m src_bleu \u001b[38;5;241m=\u001b[39m get_self_bleu(src_ls)\n",
      "Cell \u001b[1;32mIn[95], line 19\u001b[0m, in \u001b[0;36mget_self_bleu\u001b[1;34m(ls)\u001b[0m\n\u001b[0;32m     17\u001b[0m \u001b[38;5;28;01mfor\u001b[39;00m i, seq \u001b[38;5;129;01min\u001b[39;00m tqdm(\u001b[38;5;28menumerate\u001b[39m(ls)):\n\u001b[0;32m     18\u001b[0m     \u001b[38;5;28;01mfor\u001b[39;00m j \u001b[38;5;129;01min\u001b[39;00m \u001b[38;5;28mrange\u001b[39m(i \u001b[38;5;241m+\u001b[39m \u001b[38;5;241m1\u001b[39m, \u001b[38;5;28mlen\u001b[39m(ls)):\n\u001b[1;32m---> 19\u001b[0m         score \u001b[38;5;241m=\u001b[39m \u001b[43mbleu_score\u001b[49m\u001b[43m(\u001b[49m\u001b[43mseq\u001b[49m\u001b[43m,\u001b[49m\u001b[43m \u001b[49m\u001b[43mls\u001b[49m\u001b[43m[\u001b[49m\u001b[43mj\u001b[49m\u001b[43m]\u001b[49m\u001b[43m)\u001b[49m\n\u001b[0;32m     20\u001b[0m         selfBleu\u001b[38;5;241m.\u001b[39mappend(score)\n\u001b[0;32m     21\u001b[0m \u001b[38;5;28;01mreturn\u001b[39;00m np\u001b[38;5;241m.\u001b[39mmean(selfBleu)\n",
      "Cell \u001b[1;32mIn[95], line 2\u001b[0m, in \u001b[0;36mbleu_score\u001b[1;34m(recover, reference)\u001b[0m\n\u001b[0;32m      1\u001b[0m \u001b[38;5;28;01mdef\u001b[39;00m \u001b[38;5;21mbleu_score\u001b[39m(recover, reference):\n\u001b[1;32m----> 2\u001b[0m     \u001b[38;5;28;01mreturn\u001b[39;00m \u001b[43msentence_bleu\u001b[49m\u001b[43m(\u001b[49m\n\u001b[0;32m      3\u001b[0m \u001b[43m        \u001b[49m\u001b[43m[\u001b[49m\u001b[43mreference\u001b[49m\u001b[43m]\u001b[49m\u001b[43m,\u001b[49m\n\u001b[0;32m      4\u001b[0m \u001b[43m        \u001b[49m\u001b[43mrecover\u001b[49m\u001b[43m,\u001b[49m\n\u001b[0;32m      5\u001b[0m \u001b[43m        \u001b[49m\u001b[43msmoothing_function\u001b[49m\u001b[38;5;241;43m=\u001b[39;49m\u001b[43mSmoothingFunction\u001b[49m\u001b[43m(\u001b[49m\u001b[43m)\u001b[49m\u001b[38;5;241;43m.\u001b[39;49m\u001b[43mmethod4\u001b[49m\u001b[43m,\u001b[49m\n\u001b[0;32m      6\u001b[0m \u001b[43m    \u001b[49m\u001b[43m)\u001b[49m\n",
      "File \u001b[1;32mC:\\ProgramData\\Anaconda3\\envs\\generation\\lib\\site-packages\\nltk\\translate\\bleu_score.py:107\u001b[0m, in \u001b[0;36msentence_bleu\u001b[1;34m(references, hypothesis, weights, smoothing_function, auto_reweigh)\u001b[0m\n\u001b[0;32m     20\u001b[0m \u001b[38;5;28;01mdef\u001b[39;00m \u001b[38;5;21msentence_bleu\u001b[39m(\n\u001b[0;32m     21\u001b[0m     references,\n\u001b[0;32m     22\u001b[0m     hypothesis,\n\u001b[1;32m   (...)\u001b[0m\n\u001b[0;32m     25\u001b[0m     auto_reweigh\u001b[38;5;241m=\u001b[39m\u001b[38;5;28;01mFalse\u001b[39;00m,\n\u001b[0;32m     26\u001b[0m ):\n\u001b[0;32m     27\u001b[0m \u001b[38;5;250m    \u001b[39m\u001b[38;5;124;03m\"\"\"\u001b[39;00m\n\u001b[0;32m     28\u001b[0m \u001b[38;5;124;03m    Calculate BLEU score (Bilingual Evaluation Understudy) from\u001b[39;00m\n\u001b[0;32m     29\u001b[0m \u001b[38;5;124;03m    Papineni, Kishore, Salim Roukos, Todd Ward, and Wei-Jing Zhu. 2002.\u001b[39;00m\n\u001b[1;32m   (...)\u001b[0m\n\u001b[0;32m    105\u001b[0m \u001b[38;5;124;03m    :rtype: float / list(float)\u001b[39;00m\n\u001b[0;32m    106\u001b[0m \u001b[38;5;124;03m    \"\"\"\u001b[39;00m\n\u001b[1;32m--> 107\u001b[0m     \u001b[38;5;28;01mreturn\u001b[39;00m \u001b[43mcorpus_bleu\u001b[49m\u001b[43m(\u001b[49m\n\u001b[0;32m    108\u001b[0m \u001b[43m        \u001b[49m\u001b[43m[\u001b[49m\u001b[43mreferences\u001b[49m\u001b[43m]\u001b[49m\u001b[43m,\u001b[49m\u001b[43m \u001b[49m\u001b[43m[\u001b[49m\u001b[43mhypothesis\u001b[49m\u001b[43m]\u001b[49m\u001b[43m,\u001b[49m\u001b[43m \u001b[49m\u001b[43mweights\u001b[49m\u001b[43m,\u001b[49m\u001b[43m \u001b[49m\u001b[43msmoothing_function\u001b[49m\u001b[43m,\u001b[49m\u001b[43m \u001b[49m\u001b[43mauto_reweigh\u001b[49m\n\u001b[0;32m    109\u001b[0m \u001b[43m    \u001b[49m\u001b[43m)\u001b[49m\n",
      "File \u001b[1;32mC:\\ProgramData\\Anaconda3\\envs\\generation\\lib\\site-packages\\nltk\\translate\\bleu_score.py:210\u001b[0m, in \u001b[0;36mcorpus_bleu\u001b[1;34m(list_of_references, hypotheses, weights, smoothing_function, auto_reweigh)\u001b[0m\n\u001b[0;32m    206\u001b[0m \u001b[38;5;28;01mfor\u001b[39;00m references, hypothesis \u001b[38;5;129;01min\u001b[39;00m \u001b[38;5;28mzip\u001b[39m(list_of_references, hypotheses):\n\u001b[0;32m    207\u001b[0m     \u001b[38;5;66;03m# For each order of ngram, calculate the numerator and\u001b[39;00m\n\u001b[0;32m    208\u001b[0m     \u001b[38;5;66;03m# denominator for the corpus-level modified precision.\u001b[39;00m\n\u001b[0;32m    209\u001b[0m     \u001b[38;5;28;01mfor\u001b[39;00m i \u001b[38;5;129;01min\u001b[39;00m \u001b[38;5;28mrange\u001b[39m(\u001b[38;5;241m1\u001b[39m, max_weight_length \u001b[38;5;241m+\u001b[39m \u001b[38;5;241m1\u001b[39m):\n\u001b[1;32m--> 210\u001b[0m         p_i \u001b[38;5;241m=\u001b[39m \u001b[43mmodified_precision\u001b[49m\u001b[43m(\u001b[49m\u001b[43mreferences\u001b[49m\u001b[43m,\u001b[49m\u001b[43m \u001b[49m\u001b[43mhypothesis\u001b[49m\u001b[43m,\u001b[49m\u001b[43m \u001b[49m\u001b[43mi\u001b[49m\u001b[43m)\u001b[49m\n\u001b[0;32m    211\u001b[0m         p_numerators[i] \u001b[38;5;241m+\u001b[39m\u001b[38;5;241m=\u001b[39m p_i\u001b[38;5;241m.\u001b[39mnumerator\n\u001b[0;32m    212\u001b[0m         p_denominators[i] \u001b[38;5;241m+\u001b[39m\u001b[38;5;241m=\u001b[39m p_i\u001b[38;5;241m.\u001b[39mdenominator\n",
      "File \u001b[1;32mC:\\ProgramData\\Anaconda3\\envs\\generation\\lib\\site-packages\\nltk\\translate\\bleu_score.py:347\u001b[0m, in \u001b[0;36mmodified_precision\u001b[1;34m(references, hypothesis, n)\u001b[0m\n\u001b[0;32m    261\u001b[0m \u001b[38;5;250m\u001b[39m\u001b[38;5;124;03m\"\"\"\u001b[39;00m\n\u001b[0;32m    262\u001b[0m \u001b[38;5;124;03mCalculate modified ngram precision.\u001b[39;00m\n\u001b[0;32m    263\u001b[0m \n\u001b[1;32m   (...)\u001b[0m\n\u001b[0;32m    343\u001b[0m \u001b[38;5;124;03m:rtype: Fraction\u001b[39;00m\n\u001b[0;32m    344\u001b[0m \u001b[38;5;124;03m\"\"\"\u001b[39;00m\n\u001b[0;32m    345\u001b[0m \u001b[38;5;66;03m# Extracts all ngrams in hypothesis\u001b[39;00m\n\u001b[0;32m    346\u001b[0m \u001b[38;5;66;03m# Set an empty Counter if hypothesis is empty.\u001b[39;00m\n\u001b[1;32m--> 347\u001b[0m counts \u001b[38;5;241m=\u001b[39m \u001b[43mCounter\u001b[49m\u001b[43m(\u001b[49m\u001b[43mngrams\u001b[49m\u001b[43m(\u001b[49m\u001b[43mhypothesis\u001b[49m\u001b[43m,\u001b[49m\u001b[43m \u001b[49m\u001b[43mn\u001b[49m\u001b[43m)\u001b[49m\u001b[43m)\u001b[49m \u001b[38;5;28;01mif\u001b[39;00m \u001b[38;5;28mlen\u001b[39m(hypothesis) \u001b[38;5;241m>\u001b[39m\u001b[38;5;241m=\u001b[39m n \u001b[38;5;28;01melse\u001b[39;00m Counter()\n\u001b[0;32m    348\u001b[0m \u001b[38;5;66;03m# Extract a union of references' counts.\u001b[39;00m\n\u001b[0;32m    349\u001b[0m \u001b[38;5;66;03m# max_counts = reduce(or_, [Counter(ngrams(ref, n)) for ref in references])\u001b[39;00m\n\u001b[0;32m    350\u001b[0m max_counts \u001b[38;5;241m=\u001b[39m {}\n",
      "File \u001b[1;32mC:\\ProgramData\\Anaconda3\\envs\\generation\\lib\\collections\\__init__.py:593\u001b[0m, in \u001b[0;36mCounter.__init__\u001b[1;34m(self, iterable, **kwds)\u001b[0m\n\u001b[0;32m    582\u001b[0m \u001b[38;5;250m\u001b[39m\u001b[38;5;124;03m'''Create a new, empty Counter object.  And if given, count elements\u001b[39;00m\n\u001b[0;32m    583\u001b[0m \u001b[38;5;124;03mfrom an input iterable.  Or, initialize the count from another mapping\u001b[39;00m\n\u001b[0;32m    584\u001b[0m \u001b[38;5;124;03mof elements to their counts.\u001b[39;00m\n\u001b[1;32m   (...)\u001b[0m\n\u001b[0;32m    590\u001b[0m \n\u001b[0;32m    591\u001b[0m \u001b[38;5;124;03m'''\u001b[39;00m\n\u001b[0;32m    592\u001b[0m \u001b[38;5;28msuper\u001b[39m()\u001b[38;5;241m.\u001b[39m\u001b[38;5;21m__init__\u001b[39m()\n\u001b[1;32m--> 593\u001b[0m \u001b[38;5;28mself\u001b[39m\u001b[38;5;241m.\u001b[39mupdate(iterable, \u001b[38;5;241m*\u001b[39m\u001b[38;5;241m*\u001b[39mkwds)\n",
      "File \u001b[1;32mC:\\ProgramData\\Anaconda3\\envs\\generation\\lib\\collections\\__init__.py:680\u001b[0m, in \u001b[0;36mCounter.update\u001b[1;34m(self, iterable, **kwds)\u001b[0m\n\u001b[0;32m    678\u001b[0m     \u001b[38;5;28;01melse\u001b[39;00m:\n\u001b[0;32m    679\u001b[0m         _count_elements(\u001b[38;5;28mself\u001b[39m, iterable)\n\u001b[1;32m--> 680\u001b[0m \u001b[38;5;28;01mif\u001b[39;00m kwds:\n\u001b[0;32m    681\u001b[0m     \u001b[38;5;28mself\u001b[39m\u001b[38;5;241m.\u001b[39mupdate(kwds)\n",
      "\u001b[1;31mKeyboardInterrupt\u001b[0m: "
     ]
    }
   ],
   "source": [
    "# slow\n",
    "predict_bleu = get_self_bleu(predict_ls)\n",
    "true_bleu = get_self_bleu(true_ls)\n",
    "src_bleu = get_self_bleu(src_ls)"
   ]
  },
  {
   "cell_type": "markdown",
   "metadata": {},
   "source": [
    "## Diverse 4-gram\n",
    "Higher div-4 suggests higher diversity"
   ]
  },
  {
   "cell_type": "code",
   "execution_count": 674,
   "metadata": {
    "execution": {
     "iopub.execute_input": "2024-09-26T21:16:34.092589Z",
     "iopub.status.busy": "2024-09-26T21:16:34.091587Z",
     "iopub.status.idle": "2024-09-26T21:16:37.350403Z",
     "shell.execute_reply": "2024-09-26T21:16:37.350403Z",
     "shell.execute_reply.started": "2024-09-26T21:16:34.092589Z"
    }
   },
   "outputs": [
    {
     "name": "stdout",
     "output_type": "stream",
     "text": [
      "Source: 0.0163\n",
      "True: 0.0203\n",
      "Diffusion (Ours): 0.4394\n"
     ]
    }
   ],
   "source": [
    "pred_div4 = [distinct_n_gram_inter_sent(p, 4) for p in predict_ls]\n",
    "true_div4 = distinct_n_gram_inter_sent(true_ls, 4)\n",
    "src_div4 = distinct_n_gram_inter_sent(src_ls, 4)\n",
    "\n",
    "print(f\"Source: {src_div4:.4f}\\nTrue: {true_div4:.4f}\")\n",
    "for div, label in zip(pred_div4, diff_file_name):\n",
    "    print(f\"{label}: {div:.4f}\")"
   ]
  },
  {
   "cell_type": "code",
   "execution_count": 675,
   "metadata": {
    "execution": {
     "iopub.execute_input": "2024-09-26T21:16:42.862122Z",
     "iopub.status.busy": "2024-09-26T21:16:42.862122Z",
     "iopub.status.idle": "2024-09-26T21:16:44.218346Z",
     "shell.execute_reply": "2024-09-26T21:16:44.218346Z",
     "shell.execute_reply.started": "2024-09-26T21:16:42.862122Z"
    }
   },
   "outputs": [
    {
     "name": "stdout",
     "output_type": "stream",
     "text": [
      "Markov: 0.0191\n",
      "AR: 0.2941\n",
      "GAN: 0.5973\n"
     ]
    }
   ],
   "source": [
    "markov_div4 = distinct_n_gram_inter_sent(markov_ls, 4)\n",
    "ar_div4 = distinct_n_gram_inter_sent(ar_ls, 4)\n",
    "gan_div4 = distinct_n_gram_inter_sent(gan_ls, 4)\n",
    "\n",
    "print(f\"Markov: {markov_div4:.4f}\\nAR: {ar_div4:.4f}\\nGAN: {gan_div4:.4f}\")"
   ]
  },
  {
   "cell_type": "code",
   "execution_count": 676,
   "metadata": {
    "execution": {
     "iopub.execute_input": "2024-09-26T21:17:21.456932Z",
     "iopub.status.busy": "2024-09-26T21:17:21.455932Z",
     "iopub.status.idle": "2024-09-26T21:17:22.929292Z",
     "shell.execute_reply": "2024-09-26T21:17:22.929292Z",
     "shell.execute_reply.started": "2024-09-26T21:17:21.456932Z"
    }
   },
   "outputs": [
    {
     "name": "stdout",
     "output_type": "stream",
     "text": [
      "EPR: 0.7699\n",
      "Container: 0.5744\n"
     ]
    }
   ],
   "source": [
    "epr_div4 = distinct_n_gram_inter_sent(epr_ls, 4)\n",
    "container_div4 = distinct_n_gram_inter_sent(container_ls, 4)\n",
    "\n",
    "print(f\"EPR: {epr_div4:.4f}\\nContainer: {container_div4:.4f}\")"
   ]
  },
  {
   "cell_type": "markdown",
   "metadata": {},
   "source": [
    "## Distinct unigrams (1-gram)\n",
    "intra-diversity within each sequence. Lower dist means more repeated tokens."
   ]
  },
  {
   "cell_type": "code",
   "execution_count": 678,
   "metadata": {
    "execution": {
     "iopub.execute_input": "2024-09-26T21:18:21.125726Z",
     "iopub.status.busy": "2024-09-26T21:18:21.125726Z",
     "iopub.status.idle": "2024-09-26T21:18:22.135508Z",
     "shell.execute_reply": "2024-09-26T21:18:22.135508Z",
     "shell.execute_reply.started": "2024-09-26T21:18:21.125726Z"
    }
   },
   "outputs": [
    {
     "name": "stdout",
     "output_type": "stream",
     "text": [
      "Source: 0.1670\n",
      "True: 0.2818\n",
      "Diffusion (Ours): 0.2474\n"
     ]
    }
   ],
   "source": [
    "predict_1_gram = [distinct_n_gram(p) for p in predict_ls]\n",
    "true_1_gram = distinct_n_gram(true_ls)\n",
    "src_1_gram = distinct_n_gram(src_ls)\n",
    "\n",
    "print(f\"Source: {src_1_gram:.4f}\\nTrue: {true_1_gram:.4f}\")\n",
    "for gram, label in zip(predict_1_gram, diff_file_name):\n",
    "    print(f\"{label}: {gram:.4f}\")"
   ]
  },
  {
   "cell_type": "code",
   "execution_count": 679,
   "metadata": {
    "execution": {
     "iopub.execute_input": "2024-09-26T21:18:22.615723Z",
     "iopub.status.busy": "2024-09-26T21:18:22.615723Z",
     "iopub.status.idle": "2024-09-26T21:18:23.139773Z",
     "shell.execute_reply": "2024-09-26T21:18:23.139773Z",
     "shell.execute_reply.started": "2024-09-26T21:18:22.615723Z"
    }
   },
   "outputs": [
    {
     "name": "stdout",
     "output_type": "stream",
     "text": [
      "Markov: 0.0786\n",
      "AR: 0.2073\n",
      "GAN: 0.5106\n"
     ]
    }
   ],
   "source": [
    "markov_1_gram = distinct_n_gram(markov_ls)\n",
    "ar_1_gram = distinct_n_gram(ar_ls)\n",
    "gan_1_gram = distinct_n_gram(gan_ls)\n",
    "\n",
    "print(f\"Markov: {markov_1_gram:.4f}\\nAR: {ar_1_gram:.4f}\\nGAN: {gan_1_gram:.4f}\")"
   ]
  },
  {
   "cell_type": "code",
   "execution_count": 680,
   "metadata": {
    "execution": {
     "iopub.execute_input": "2024-09-26T21:19:07.796606Z",
     "iopub.status.busy": "2024-09-26T21:19:07.795628Z",
     "iopub.status.idle": "2024-09-26T21:19:08.259943Z",
     "shell.execute_reply": "2024-09-26T21:19:08.259943Z",
     "shell.execute_reply.started": "2024-09-26T21:19:07.796606Z"
    }
   },
   "outputs": [
    {
     "name": "stdout",
     "output_type": "stream",
     "text": [
      "EPR: 0.4235\n",
      "Container: 0.3084\n"
     ]
    }
   ],
   "source": [
    "epr_1_gram = distinct_n_gram(epr_ls)\n",
    "container_1_gram = distinct_n_gram(container_ls)\n",
    "\n",
    "print(f\"EPR: {epr_1_gram:.4f}\\nContainer: {container_1_gram:.4f}\")"
   ]
  },
  {
   "cell_type": "markdown",
   "metadata": {},
   "source": [
    "# Entropy\n",
    "## Real entropy"
   ]
  },
  {
   "cell_type": "code",
   "execution_count": 51,
   "metadata": {
    "execution": {
     "iopub.execute_input": "2024-11-22T10:35:19.626241Z",
     "iopub.status.busy": "2024-11-22T10:35:19.626241Z",
     "iopub.status.idle": "2024-11-22T10:35:19.630548Z",
     "shell.execute_reply": "2024-11-22T10:35:19.630548Z",
     "shell.execute_reply.started": "2024-11-22T10:35:19.626241Z"
    }
   },
   "outputs": [],
   "source": [
    "# na_layer6_14_200_1_200\n",
    "\n",
    "def real_entropy_individual(locs_series):\n",
    "\n",
    "    n = len(locs_series)\n",
    "\n",
    "    # 1 to ensure to consider the first situation from where\n",
    "    # locs_series[i:j] = [] and locs_series[i:j] = locs_series[0:1]\n",
    "    sum_lambda = 1\n",
    "\n",
    "    for i in range(1, n - 1):\n",
    "        j = i + 1\n",
    "\n",
    "        while True:\n",
    "            # if the locs_series[i:j] is longer than locs_series[:i],\n",
    "            # we can no longer find it locs_series[i:j] in locs_series[:i]\n",
    "            if j - i > i:\n",
    "                break\n",
    "\n",
    "            # if locs_series[i:j] exist in locs_series[:i], we increase j by 1\n",
    "            # sliding_window_view creates sublist of length len(locs_series[i:j]) from locs_series[:i]\n",
    "            ls = np.lib.stride_tricks.sliding_window_view(locs_series[:i], j - i).tolist()\n",
    "            if tuple(locs_series[i:j]) in list(map(tuple, ls)):\n",
    "                # if the subsequence already exist, we increase the sequence by 1, and check again\n",
    "                j += 1\n",
    "            else:\n",
    "                # we find the \"shortest substring\" that does not exist in locs_series[:i]\n",
    "                break\n",
    "\n",
    "        # length of the substring\n",
    "        sum_lambda += j - i\n",
    "\n",
    "    # the function S5 from the suppl. material\n",
    "    return 1.0 / (sum_lambda * 1 / n) * np.log(n)\n",
    "\n"
   ]
  },
  {
   "cell_type": "code",
   "execution_count": 52,
   "metadata": {
    "execution": {
     "iopub.execute_input": "2024-11-22T10:35:20.262026Z",
     "iopub.status.busy": "2024-11-22T10:35:20.262026Z",
     "iopub.status.idle": "2024-11-22T10:35:46.039048Z",
     "shell.execute_reply": "2024-11-22T10:35:46.039048Z",
     "shell.execute_reply.started": "2024-11-22T10:35:20.262026Z"
    }
   },
   "outputs": [],
   "source": [
    "predict_re = [_apply_parallel(p, real_entropy_individual, n=-1) for p in predict_ls]"
   ]
  },
  {
   "cell_type": "code",
   "execution_count": 53,
   "metadata": {
    "execution": {
     "iopub.execute_input": "2024-11-22T10:35:46.041054Z",
     "iopub.status.busy": "2024-11-22T10:35:46.040054Z",
     "iopub.status.idle": "2024-11-22T10:35:57.380019Z",
     "shell.execute_reply": "2024-11-22T10:35:57.380019Z",
     "shell.execute_reply.started": "2024-11-22T10:35:46.041054Z"
    }
   },
   "outputs": [],
   "source": [
    "true_re = _apply_parallel(true_ls, real_entropy_individual, n=-1)\n",
    "# source_re = _apply_parallel(src_ls, real_entropy_individual, n=-1)"
   ]
  },
  {
   "cell_type": "code",
   "execution_count": 54,
   "metadata": {
    "execution": {
     "iopub.execute_input": "2024-11-22T10:35:57.381025Z",
     "iopub.status.busy": "2024-11-22T10:35:57.381025Z",
     "iopub.status.idle": "2024-11-22T10:36:57.155566Z",
     "shell.execute_reply": "2024-11-22T10:36:57.155566Z",
     "shell.execute_reply.started": "2024-11-22T10:35:57.381025Z"
    }
   },
   "outputs": [],
   "source": [
    "markov_re = _apply_parallel(markov_ls, real_entropy_individual, n=-1)\n",
    "ar_re = _apply_parallel(ar_ls, real_entropy_individual, n=-1)\n",
    "gan_re = _apply_parallel(gan_ls, real_entropy_individual, n=-1)\n",
    "epr_re = _apply_parallel(epr_ls, real_entropy_individual, n=-1)\n",
    "\n",
    "container_re = _apply_parallel(container_ls, real_entropy_individual, n=-1)"
   ]
  },
  {
   "cell_type": "code",
   "execution_count": 55,
   "metadata": {
    "execution": {
     "iopub.execute_input": "2024-11-22T10:36:57.156573Z",
     "iopub.status.busy": "2024-11-22T10:36:57.156573Z",
     "iopub.status.idle": "2024-11-22T10:36:57.462968Z",
     "shell.execute_reply": "2024-11-22T10:36:57.462968Z",
     "shell.execute_reply.started": "2024-11-22T10:36:57.156573Z"
    }
   },
   "outputs": [
    {
     "data": {
      "image/png": "[encoded data removed]",
      "text/plain": [
       "<Figure size 800x600 with 1 Axes>"
      ]
     },
     "metadata": {},
     "output_type": "display_data"
    }
   ],
   "source": [
    "fig, ax = plt.subplots(1, 1, figsize=(8, 6))\n",
    "\n",
    "density = stats.gaussian_kde(true_re)\n",
    "x = np.linspace(0, np.max(true_re) + 0.2, 100)\n",
    "ax.plot(x, density(x), label=\"Data\", color=\"k\", linewidth=2)\n",
    "\n",
    "# density = stats.gaussian_kde(source_re)\n",
    "# x = np.linspace(0, np.max(source_re) + 0.2, 100)\n",
    "# ax.plot(x, density(x), label=\"source\")\n",
    "\n",
    "for pre, label in zip(predict_re, diff_file_name):\n",
    "    density = stats.gaussian_kde(pre)\n",
    "    x = np.linspace(0, np.max(pre) + 0.2, 100)\n",
    "    # ax.plot(x, density(x), color=\"tomato\", linewidth=2, label=label)\n",
    "    ax.plot(x, density(x), linewidth=2, label=label)\n",
    "\n",
    "# density = stats.gaussian_kde(markov_re)\n",
    "# x = np.linspace(0, np.max(markov_re) + 0.2, 100)\n",
    "# ax.plot(x, density(x), color=colors[4], label=\"Markov\", linewidth=1.5, alpha=0.7)\n",
    "\n",
    "# density = stats.gaussian_kde(ar_re)\n",
    "# x = np.linspace(0, np.max(ar_re) + 0.2, 100)\n",
    "# ax.plot(x, density(x), color=colors[5], label=\"MHSA\", linewidth=1.5, alpha=0.7)\n",
    "\n",
    "# density = stats.gaussian_kde(gan_re)\n",
    "# x = np.linspace(0, np.max(gan_re) + 0.2, 100)\n",
    "# ax.plot(x, density(x), color=colors[6], label=\"MovSim\", linewidth=1.5, alpha=0.7)\n",
    "\n",
    "# density = stats.gaussian_kde(epr_re)\n",
    "# x = np.linspace(0, np.max(epr_re) + 0.2, 100)\n",
    "# ax.plot(x, density(x), label=\"EPR\", color=colors[0], linewidth=1.5, alpha=0.7)\n",
    "\n",
    "# density = stats.gaussian_kde(container_re)\n",
    "# x = np.linspace(0, np.max(container_re) + 0.2, 100)\n",
    "# ax.plot(x, density(x), label=\"Container\", color=colors[2], linewidth=1.5, alpha=0.7,)\n",
    "\n",
    "# plt.legend(prop={\"size\": 12}, frameon=False, bbox_to_anchor=(-0.5, -0.2), loc=\"upper left\", bbox_transform=fig.transFigure, ncol=7)\n",
    "plt.xlabel(\"Temporal entropy\", fontsize=15)\n",
    "plt.ylabel(\"PDF\", fontsize=15)\n",
    "# plt.xlim([0, 4.1])\n",
    "\n",
    "# plt.savefig(r'.\\metrics\\figures\\entropy_tem_all.png', bbox_inches='tight', dpi=600)\n",
    "plt.show()"
   ]
  },
  {
   "cell_type": "code",
   "execution_count": 927,
   "metadata": {
    "execution": {
     "iopub.execute_input": "2024-11-08T10:41:29.256825Z",
     "iopub.status.busy": "2024-11-08T10:41:29.255825Z",
     "iopub.status.idle": "2024-11-08T10:41:29.276965Z",
     "shell.execute_reply": "2024-11-08T10:41:29.276965Z",
     "shell.execute_reply.started": "2024-11-08T10:41:29.256825Z"
    }
   },
   "outputs": [],
   "source": [
    "predict_density = stats.gaussian_kde(predict_re)\n",
    "true_density = stats.gaussian_kde(true_re)\n",
    "source_density = stats.gaussian_kde(source_re)\n",
    "\n",
    "markov_density = stats.gaussian_kde(markov_re)\n",
    "ar_density = stats.gaussian_kde(ar_re)\n",
    "gan_density = stats.gaussian_kde(gan_re)\n",
    "\n",
    "epr_density = stats.gaussian_kde(epr_re)\n",
    "container_density = stats.gaussian_kde(container_re)"
   ]
  },
  {
   "cell_type": "code",
   "execution_count": 1265,
   "metadata": {
    "execution": {
     "iopub.execute_input": "2024-11-21T11:00:03.244424Z",
     "iopub.status.busy": "2024-11-21T11:00:03.244424Z",
     "iopub.status.idle": "2024-11-21T11:00:04.942984Z",
     "shell.execute_reply": "2024-11-21T11:00:04.942984Z",
     "shell.execute_reply.started": "2024-11-21T11:00:03.244424Z"
    }
   },
   "outputs": [
    {
     "name": "stdout",
     "output_type": "stream",
     "text": [
      "Prediction and True: 0.268\t Source and True: 0.084\n"
     ]
    }
   ],
   "source": [
    "x = np.linspace(0, 3, 1000)\n",
    "\n",
    "pred_true_re = distance.jensenshannon(predict_density(x), true_density(x))\n",
    "source_true_re = distance.jensenshannon(source_density(x), true_density(x))\n",
    "\n",
    "print(f\"Prediction and True: {pred_true_re:.3f}\\t Source and True: {source_true_re:.3f}\")"
   ]
  },
  {
   "cell_type": "code",
   "execution_count": 1266,
   "metadata": {
    "execution": {
     "iopub.execute_input": "2024-11-21T11:00:06.540203Z",
     "iopub.status.busy": "2024-11-21T11:00:06.540203Z",
     "iopub.status.idle": "2024-11-21T11:00:09.005781Z",
     "shell.execute_reply": "2024-11-21T11:00:09.005781Z",
     "shell.execute_reply.started": "2024-11-21T11:00:06.540203Z"
    }
   },
   "outputs": [
    {
     "name": "stdout",
     "output_type": "stream",
     "text": [
      "Markov and True: 0.653\t AR and True: 0.253\t GAN and True: 0.449\n"
     ]
    }
   ],
   "source": [
    "markov_true_re = distance.jensenshannon(markov_density(x), true_density(x))\n",
    "ar_true_re = distance.jensenshannon(ar_density(x), true_density(x))\n",
    "gan_true_re = distance.jensenshannon(gan_density(x), true_density(x))\n",
    "\n",
    "print(f\"Markov and True: {markov_true_re:.3f}\\t AR and True: {ar_true_re:.3f}\\t GAN and True: {gan_true_re:.3f}\")"
   ]
  },
  {
   "cell_type": "code",
   "execution_count": 1267,
   "metadata": {
    "execution": {
     "iopub.execute_input": "2024-11-21T11:00:09.675406Z",
     "iopub.status.busy": "2024-11-21T11:00:09.675406Z",
     "iopub.status.idle": "2024-11-21T11:00:11.592938Z",
     "shell.execute_reply": "2024-11-21T11:00:11.592938Z",
     "shell.execute_reply.started": "2024-11-21T11:00:09.675406Z"
    }
   },
   "outputs": [
    {
     "name": "stdout",
     "output_type": "stream",
     "text": [
      "EPR and True: 0.419\t Container and True: 0.155\n"
     ]
    }
   ],
   "source": [
    "epr_true_re = distance.jensenshannon(epr_density(x), true_density(x))\n",
    "container_true_re = distance.jensenshannon(container_density(x), true_density(x))\n",
    "\n",
    "print(f\"EPR and True: {epr_true_re:.3f}\\t Container and True: {container_true_re:.3f}\")"
   ]
  },
  {
   "cell_type": "code",
   "execution_count": 1271,
   "metadata": {
    "execution": {
     "iopub.execute_input": "2024-11-21T20:45:09.594566Z",
     "iopub.status.busy": "2024-11-21T20:45:09.593569Z",
     "iopub.status.idle": "2024-11-21T20:45:09.651847Z",
     "shell.execute_reply": "2024-11-21T20:45:09.651847Z",
     "shell.execute_reply.started": "2024-11-21T20:45:09.594566Z"
    }
   },
   "outputs": [
    {
     "name": "stdout",
     "output_type": "stream",
     "text": [
      "0.10287483026181526\n",
      "0.0680357152664238\n",
      "0.238435236047317\n",
      "0.14015643142726275\n",
      "0.14310730429521154\n",
      "0.1104489265799664\n"
     ]
    }
   ],
   "source": [
    "for predict_variantions in predict_re:\n",
    "    print(wasserstein_distance(predict_variantions, true_re))"
   ]
  },
  {
   "cell_type": "code",
   "execution_count": 333,
   "metadata": {
    "execution": {
     "iopub.execute_input": "2024-10-21T10:08:49.659888Z",
     "iopub.status.busy": "2024-10-21T10:08:49.659888Z",
     "iopub.status.idle": "2024-10-21T10:08:49.714181Z",
     "shell.execute_reply": "2024-10-21T10:08:49.714181Z",
     "shell.execute_reply.started": "2024-10-21T10:08:49.659888Z"
    }
   },
   "outputs": [
    {
     "data": {
      "text/plain": [
       "(0.04546086529578332,\n",
       " 0.7272621381821822,\n",
       " 0.3000547380266365,\n",
       " 0.5055258298102989,\n",
       " 0.5393998789668848,\n",
       " 0.17956715481229105)"
      ]
     },
     "execution_count": 333,
     "metadata": {},
     "output_type": "execute_result"
    }
   ],
   "source": [
    "wasserstein_distance(predict_re[0], true_re),\\\n",
    "wasserstein_distance(markov_re, true_re),\\\n",
    "wasserstein_distance(ar_re, true_re),\\\n",
    "wasserstein_distance(gan_re, true_re),\\\n",
    "wasserstein_distance(epr_re, true_re),\\\n",
    "wasserstein_distance(container_re, true_re)"
   ]
  },
  {
   "cell_type": "markdown",
   "metadata": {},
   "source": [
    "### Loglikelihood"
   ]
  },
  {
   "cell_type": "code",
   "execution_count": 334,
   "metadata": {
    "execution": {
     "iopub.execute_input": "2024-10-21T10:09:28.226778Z",
     "iopub.status.busy": "2024-10-21T10:09:28.225778Z",
     "iopub.status.idle": "2024-10-21T10:12:17.746745Z",
     "shell.execute_reply": "2024-10-21T10:12:17.746745Z",
     "shell.execute_reply.started": "2024-10-21T10:09:28.226778Z"
    }
   },
   "outputs": [],
   "source": [
    "predict_lk = predict_density.logpdf(true_re)\n",
    "markov_lk = markov_density.logpdf(true_re)\n",
    "ar_lk = ar_density.logpdf(true_re)\n",
    "gan_lk = gan_density.logpdf(true_re)\n",
    "epr_lk = epr_density.logpdf(true_re)\n",
    "container_lk = container_density.logpdf(true_re)"
   ]
  },
  {
   "cell_type": "code",
   "execution_count": 335,
   "metadata": {
    "execution": {
     "iopub.execute_input": "2024-10-21T10:12:17.747749Z",
     "iopub.status.busy": "2024-10-21T10:12:17.747749Z",
     "iopub.status.idle": "2024-10-21T10:12:17.777877Z",
     "shell.execute_reply": "2024-10-21T10:12:17.777877Z",
     "shell.execute_reply.started": "2024-10-21T10:12:17.747749Z"
    }
   },
   "outputs": [
    {
     "data": {
      "text/plain": [
       "((2728469.556987768, 0.0),\n",
       " (9436.518302806573, 0.0),\n",
       " (22657.803092305563, 0.0),\n",
       " (30119.127913990982, 0.0),\n",
       " (3370.303449857369, 3.2569846892900786e-213))"
      ]
     },
     "execution_count": 335,
     "metadata": {},
     "output_type": "execute_result"
    }
   ],
   "source": [
    "loglikelihood_ratio(predict_lk, markov_lk),\\\n",
    "loglikelihood_ratio(predict_lk, ar_lk),\\\n",
    "loglikelihood_ratio(predict_lk, gan_lk),\\\n",
    "loglikelihood_ratio(predict_lk, epr_lk),\\\n",
    "loglikelihood_ratio(predict_lk, container_lk)"
   ]
  },
  {
   "cell_type": "markdown",
   "metadata": {},
   "source": [
    "## Uncorrelated entropy"
   ]
  },
  {
   "cell_type": "code",
   "execution_count": 56,
   "metadata": {
    "execution": {
     "iopub.execute_input": "2024-11-22T10:37:10.528316Z",
     "iopub.status.busy": "2024-11-22T10:37:10.528316Z",
     "iopub.status.idle": "2024-11-22T10:37:10.531781Z",
     "shell.execute_reply": "2024-11-22T10:37:10.531781Z",
     "shell.execute_reply.started": "2024-11-22T10:37:10.528316Z"
    }
   },
   "outputs": [],
   "source": [
    "def uncorrelated_entropy_individual(locs_series):\n",
    "    _, counts = np.unique(locs_series, return_counts=True)\n",
    "    freq = counts/len(locs_series)\n",
    "    return -(freq * np.log(freq)).sum()\n"
   ]
  },
  {
   "cell_type": "code",
   "execution_count": 57,
   "metadata": {
    "execution": {
     "iopub.execute_input": "2024-11-22T10:37:10.784366Z",
     "iopub.status.busy": "2024-11-22T10:37:10.784366Z",
     "iopub.status.idle": "2024-11-22T10:37:12.196860Z",
     "shell.execute_reply": "2024-11-22T10:37:12.196860Z",
     "shell.execute_reply.started": "2024-11-22T10:37:10.784366Z"
    }
   },
   "outputs": [],
   "source": [
    "predict_ue = [[uncorrelated_entropy_individual(seq) for seq in p] for p in predict_ls]"
   ]
  },
  {
   "cell_type": "code",
   "execution_count": 58,
   "metadata": {
    "execution": {
     "iopub.execute_input": "2024-11-22T10:37:13.206582Z",
     "iopub.status.busy": "2024-11-22T10:37:13.206582Z",
     "iopub.status.idle": "2024-11-22T10:37:14.675847Z",
     "shell.execute_reply": "2024-11-22T10:37:14.675847Z",
     "shell.execute_reply.started": "2024-11-22T10:37:13.206582Z"
    }
   },
   "outputs": [],
   "source": [
    "true_ue = [uncorrelated_entropy_individual(seq) for seq in true_ls]\n",
    "source_ue = [uncorrelated_entropy_individual(seq) for seq in src_ls]"
   ]
  },
  {
   "cell_type": "code",
   "execution_count": 59,
   "metadata": {
    "execution": {
     "iopub.execute_input": "2024-11-22T10:37:18.118127Z",
     "iopub.status.busy": "2024-11-22T10:37:18.117338Z",
     "iopub.status.idle": "2024-11-22T10:37:21.149772Z",
     "shell.execute_reply": "2024-11-22T10:37:21.149772Z",
     "shell.execute_reply.started": "2024-11-22T10:37:18.118127Z"
    }
   },
   "outputs": [],
   "source": [
    "markov_ue = [uncorrelated_entropy_individual(seq) for seq in markov_ls]\n",
    "ar_ue = [uncorrelated_entropy_individual(seq) for seq in ar_ls]\n",
    "gan_ue = [uncorrelated_entropy_individual(seq) for seq in gan_ls]\n",
    "epr_ue = [uncorrelated_entropy_individual(seq) for seq in epr_ls]\n",
    "container_ue = [uncorrelated_entropy_individual(seq) for seq in container_ls]"
   ]
  },
  {
   "cell_type": "code",
   "execution_count": 60,
   "metadata": {
    "execution": {
     "iopub.execute_input": "2024-11-22T10:37:21.623001Z",
     "iopub.status.busy": "2024-11-22T10:37:21.623001Z",
     "iopub.status.idle": "2024-11-22T10:37:21.871875Z",
     "shell.execute_reply": "2024-11-22T10:37:21.871875Z",
     "shell.execute_reply.started": "2024-11-22T10:37:21.623001Z"
    }
   },
   "outputs": [
    {
     "data": {
      "image/png": "[encoded data removed]",
      "text/plain": [
       "<Figure size 400x300 with 1 Axes>"
      ]
     },
     "metadata": {},
     "output_type": "display_data"
    }
   ],
   "source": [
    "# na_layer6_14_200_1_200\n",
    "\n",
    "fig, ax = plt.subplots(1, 1, figsize=(4, 3))\n",
    "\n",
    "density = stats.gaussian_kde(true_ue)\n",
    "x = np.linspace(0, np.max(true_ue) + 0.2, 100)\n",
    "ax.plot(x, density(x), label=\"Data\", color=\"k\", linewidth=2)\n",
    "\n",
    "# density = stats.gaussian_kde(source_ue)\n",
    "# x = np.linspace(0, np.max(source_ue) + 0.2, 100)\n",
    "# ax.plot(x, density(x), label=\"source\")\n",
    "\n",
    "for pre, label in zip(predict_ue, diff_file_name):\n",
    "    density = stats.gaussian_kde(pre)\n",
    "    x = np.linspace(0, np.max(pre) + 0.2, 100)\n",
    "    # ax.plot(x, density(x), color=\"tomato\", linewidth=2, label=label)\n",
    "    ax.plot(x, density(x), label=label)\n",
    "\n",
    "# density = stats.gaussian_kde(markov_ue)\n",
    "# x = np.linspace(0, np.max(markov_ue) + 0.2, 100)\n",
    "# ax.plot(x, density(x), label=\"Markov\", color=colors[4], linewidth=1.5, alpha=0.7)\n",
    "\n",
    "# density = stats.gaussian_kde(ar_ue)\n",
    "# x = np.linspace(0, np.max(ar_ue) + 0.2, 100)\n",
    "# ax.plot(x, density(x), label=\"MHSA\", color=colors[5], linewidth=1.5, alpha=0.7)\n",
    "\n",
    "# density = stats.gaussian_kde(gan_ue)\n",
    "# x = np.linspace(0, np.max(gan_ue) + 0.2, 100)\n",
    "# ax.plot(x, density(x), label=\"MovSim\", color=colors[6], linewidth=1.5, alpha=0.7)\n",
    "\n",
    "# density = stats.gaussian_kde(epr_ue)\n",
    "# x = np.linspace(0, np.max(epr_ue) + 0.2, 100)\n",
    "# ax.plot(x, density(x), label=\"EPR\", color=colors[0], linewidth=1.5, alpha=0.7)\n",
    "\n",
    "# density = stats.gaussian_kde(container_ue)\n",
    "# x = np.linspace(0, np.max(container_ue) + 0.2, 100)\n",
    "# ax.plot(x, density(x), label=\"Container\", color=colors[2], linewidth=1.5, alpha=0.7)\n",
    "\n",
    "\n",
    "# plt.legend(prop={\"size\": 10})\n",
    "plt.xlabel(\"Uncorrelated entropy\", fontsize=15)\n",
    "plt.ylabel(\"PDF\", fontsize=15)\n",
    "\n",
    "# plt.legend(prop={\"size\": 12}, frameon=False, bbox_to_anchor=(-0.5, -0.2), loc=\"upper left\", bbox_transform=fig.transFigure, ncol=4)\n",
    "\n",
    "# plt.savefig(r'.\\metrics\\figures\\entropy_unc.png', bbox_inches='tight', dpi=600)\n",
    "plt.show()\n"
   ]
  },
  {
   "cell_type": "code",
   "execution_count": 1164,
   "metadata": {
    "execution": {
     "iopub.execute_input": "2024-11-19T22:46:32.835587Z",
     "iopub.status.busy": "2024-11-19T22:46:32.835587Z",
     "iopub.status.idle": "2024-11-19T22:46:32.855131Z",
     "shell.execute_reply": "2024-11-19T22:46:32.855131Z",
     "shell.execute_reply.started": "2024-11-19T22:46:32.835587Z"
    }
   },
   "outputs": [],
   "source": [
    "predict_density = stats.gaussian_kde(predict_ue)\n",
    "true_density = stats.gaussian_kde(true_ue)\n",
    "source_density = stats.gaussian_kde(source_ue)\n",
    "\n",
    "markov_density = stats.gaussian_kde(markov_ue)\n",
    "ar_density = stats.gaussian_kde(ar_ue)\n",
    "gan_density = stats.gaussian_kde(gan_ue)\n",
    "epr_density = stats.gaussian_kde(epr_ue)\n",
    "container_density = stats.gaussian_kde(container_ue)"
   ]
  },
  {
   "cell_type": "code",
   "execution_count": 1165,
   "metadata": {
    "execution": {
     "iopub.execute_input": "2024-11-19T22:46:32.857137Z",
     "iopub.status.busy": "2024-11-19T22:46:32.856138Z",
     "iopub.status.idle": "2024-11-19T22:46:38.637448Z",
     "shell.execute_reply": "2024-11-19T22:46:38.637448Z",
     "shell.execute_reply.started": "2024-11-19T22:46:32.856138Z"
    }
   },
   "outputs": [
    {
     "name": "stdout",
     "output_type": "stream",
     "text": [
      "Prediction and True: 0.268\t Source and True: 0.084\n",
      "Markov and True: 0.653\t AR and True: 0.253\t GAN and True: 0.449\n",
      "EPR and True: 0.419\t Container and True: 0.155\n"
     ]
    }
   ],
   "source": [
    "x = np.linspace(0, 3, 1000)\n",
    "\n",
    "pred_true_ue = distance.jensenshannon(predict_density(x), true_density(x))\n",
    "source_true_ue = distance.jensenshannon(source_density(x), true_density(x))\n",
    "\n",
    "markov_true_ue = distance.jensenshannon(markov_density(x), true_density(x))\n",
    "ar_true_ue = distance.jensenshannon(ar_density(x), true_density(x))\n",
    "gan_true_ue = distance.jensenshannon(gan_density(x), true_density(x))\n",
    "\n",
    "epr_true_ue = distance.jensenshannon(epr_density(x), true_density(x))\n",
    "container_true_ue = distance.jensenshannon(container_density(x), true_density(x))\n",
    "\n",
    "\n",
    "print(f\"Prediction and True: {pred_true_ue:.3f}\\t Source and True: {source_true_ue:.3f}\")\n",
    "print(f\"Markov and True: {markov_true_ue:.3f}\\t AR and True: {ar_true_ue:.3f}\\t GAN and True: {gan_true_ue:.3f}\")\n",
    "print(f\"EPR and True: {epr_true_ue:.3f}\\t Container and True: {container_true_ue:.3f}\")"
   ]
  },
  {
   "cell_type": "markdown",
   "metadata": {},
   "source": [
    "### Wasserstein distance"
   ]
  },
  {
   "cell_type": "code",
   "execution_count": 1272,
   "metadata": {
    "execution": {
     "iopub.execute_input": "2024-11-21T20:45:45.347332Z",
     "iopub.status.busy": "2024-11-21T20:45:45.347332Z",
     "iopub.status.idle": "2024-11-21T20:45:45.395926Z",
     "shell.execute_reply": "2024-11-21T20:45:45.395926Z",
     "shell.execute_reply.started": "2024-11-21T20:45:45.347332Z"
    }
   },
   "outputs": [
    {
     "name": "stdout",
     "output_type": "stream",
     "text": [
      "0.4186636581023034\n",
      "0.29297602102754267\n",
      "0.2948706814758056\n",
      "0.25196185593141507\n"
     ]
    }
   ],
   "source": [
    "for predict_variantions in predict_ue:\n",
    "    print(wasserstein_distance(predict_variantions, true_ue))"
   ]
  },
  {
   "cell_type": "code",
   "execution_count": 568,
   "metadata": {
    "execution": {
     "iopub.execute_input": "2024-11-14T15:14:34.499493Z",
     "iopub.status.busy": "2024-11-14T15:14:34.498494Z",
     "iopub.status.idle": "2024-11-14T15:14:34.565481Z",
     "shell.execute_reply": "2024-11-14T15:14:34.565481Z",
     "shell.execute_reply.started": "2024-11-14T15:14:34.499493Z"
    }
   },
   "outputs": [
    {
     "data": {
      "text/plain": [
       "(0.15527611294335006,\n",
       " 0.9115530925359466,\n",
       " 0.3494886810970351,\n",
       " 0.9244147369442521,\n",
       " 0.5970015955254161,\n",
       " 0.20415402784330056)"
      ]
     },
     "execution_count": 568,
     "metadata": {},
     "output_type": "execute_result"
    }
   ],
   "source": [
    "wasserstein_distance(predict_ue[0], true_ue),\\\n",
    "wasserstein_distance(markov_ue, true_ue),\\\n",
    "wasserstein_distance(ar_ue, true_ue),\\\n",
    "wasserstein_distance(gan_ue, true_ue),\\\n",
    "wasserstein_distance(epr_ue, true_ue),\\\n",
    "wasserstein_distance(container_ue, true_ue)"
   ]
  },
  {
   "cell_type": "markdown",
   "metadata": {},
   "source": [
    "### Loglikelihood"
   ]
  },
  {
   "cell_type": "code",
   "execution_count": 571,
   "metadata": {
    "execution": {
     "iopub.execute_input": "2024-11-14T15:17:49.408305Z",
     "iopub.status.busy": "2024-11-14T15:17:49.407304Z",
     "iopub.status.idle": "2024-11-14T15:20:36.717750Z",
     "shell.execute_reply": "2024-11-14T15:20:36.717750Z",
     "shell.execute_reply.started": "2024-11-14T15:17:49.408305Z"
    }
   },
   "outputs": [],
   "source": [
    "predict_lk = predict_density.logpdf(true_ue)\n",
    "markov_lk = markov_density.logpdf(true_ue)\n",
    "ar_lk = ar_density.logpdf(true_ue)\n",
    "gan_lk = gan_density.logpdf(true_ue)\n",
    "epr_lk = epr_density.logpdf(true_ue)\n",
    "container_lk = container_density.logpdf(true_ue)"
   ]
  },
  {
   "cell_type": "code",
   "execution_count": 572,
   "metadata": {
    "execution": {
     "iopub.execute_input": "2024-11-14T15:20:36.719754Z",
     "iopub.status.busy": "2024-11-14T15:20:36.718753Z",
     "iopub.status.idle": "2024-11-14T15:20:36.748791Z",
     "shell.execute_reply": "2024-11-14T15:20:36.748791Z",
     "shell.execute_reply.started": "2024-11-14T15:20:36.719754Z"
    }
   },
   "outputs": [
    {
     "data": {
      "text/plain": [
       "((328042.901699942, 0.0),\n",
       " (6921.002540604997, 0.0),\n",
       " (47404.112614605685, 0.0),\n",
       " (73277.1520670844, 0.0),\n",
       " (1307.0503065684222, 1.5437465589427424e-19))"
      ]
     },
     "execution_count": 572,
     "metadata": {},
     "output_type": "execute_result"
    }
   ],
   "source": [
    "loglikelihood_ratio(predict_lk, markov_lk),\\\n",
    "loglikelihood_ratio(predict_lk, ar_lk),\\\n",
    "loglikelihood_ratio(predict_lk, gan_lk),\\\n",
    "loglikelihood_ratio(predict_lk, epr_lk),\\\n",
    "loglikelihood_ratio(predict_lk, container_lk)"
   ]
  },
  {
   "cell_type": "markdown",
   "metadata": {},
   "source": [
    "## Difference between real and uncorrelated"
   ]
  },
  {
   "cell_type": "code",
   "execution_count": 172,
   "metadata": {
    "execution": {
     "iopub.execute_input": "2024-10-21T09:12:39.947037Z",
     "iopub.status.busy": "2024-10-21T09:12:39.947037Z",
     "iopub.status.idle": "2024-10-21T09:12:39.953420Z",
     "shell.execute_reply": "2024-10-21T09:12:39.953420Z",
     "shell.execute_reply.started": "2024-10-21T09:12:39.947037Z"
    }
   },
   "outputs": [],
   "source": [
    "pred_diff = [[re - ue for re, ue in zip(r,u)] for r,u in zip(predict_re, predict_ue)]"
   ]
  },
  {
   "cell_type": "code",
   "execution_count": 173,
   "metadata": {
    "execution": {
     "iopub.execute_input": "2024-10-21T09:12:40.549267Z",
     "iopub.status.busy": "2024-10-21T09:12:40.548267Z",
     "iopub.status.idle": "2024-10-21T09:12:40.554852Z",
     "shell.execute_reply": "2024-10-21T09:12:40.554852Z",
     "shell.execute_reply.started": "2024-10-21T09:12:40.549267Z"
    }
   },
   "outputs": [],
   "source": [
    "true_diff = [re - ue for re, ue in zip(true_re,true_ue)]\n",
    "# source_diff = [re - ue for re, ue in zip(source_re,source_ue)]"
   ]
  },
  {
   "cell_type": "code",
   "execution_count": 174,
   "metadata": {
    "execution": {
     "iopub.execute_input": "2024-10-21T09:12:42.684439Z",
     "iopub.status.busy": "2024-10-21T09:12:42.684439Z",
     "iopub.status.idle": "2024-10-21T09:12:42.699018Z",
     "shell.execute_reply": "2024-10-21T09:12:42.699018Z",
     "shell.execute_reply.started": "2024-10-21T09:12:42.684439Z"
    }
   },
   "outputs": [],
   "source": [
    "markov_diff = [re - ue for re, ue in zip(markov_re,markov_ue)]\n",
    "ar_diff = [re - ue for re, ue in zip(ar_re,ar_ue)]\n",
    "gan_diff = [re - ue for re, ue in zip(gan_re,gan_ue)]\n",
    "epr_diff = [re - ue for re, ue in zip(epr_re, epr_ue)]\n",
    "container_diff = [re - ue for re, ue in zip(container_re, container_ue)]"
   ]
  },
  {
   "cell_type": "code",
   "execution_count": 175,
   "metadata": {
    "execution": {
     "iopub.execute_input": "2024-10-21T09:12:43.028740Z",
     "iopub.status.busy": "2024-10-21T09:12:43.028740Z",
     "iopub.status.idle": "2024-10-21T09:12:43.341914Z",
     "shell.execute_reply": "2024-10-21T09:12:43.341914Z",
     "shell.execute_reply.started": "2024-10-21T09:12:43.028740Z"
    }
   },
   "outputs": [
    {
     "data": {
      "image/png": "[encoded data removed]",
      "text/plain": [
       "<Figure size 800x300 with 1 Axes>"
      ]
     },
     "metadata": {},
     "output_type": "display_data"
    }
   ],
   "source": [
    "fig, ax = plt.subplots(1, 1, figsize=(8, 3))\n",
    "\n",
    "x = np.linspace(-1, 1, 100)\n",
    "\n",
    "density = stats.gaussian_kde(true_diff)\n",
    "ax.plot(x, density(x), label=\"true\")\n",
    "\n",
    "# density = stats.gaussian_kde(source_diff)\n",
    "# x = np.linspace(-1, 1, 100)\n",
    "# ax.plot(x, density(x), label=\"source\")\n",
    "\n",
    "for pre, label in zip(pred_diff, diff_file_name):\n",
    "    density = stats.gaussian_kde(pre)\n",
    "    ax.plot(x, density(x), label=label)\n",
    "\n",
    "# density = stats.gaussian_kde(ar_diff)\n",
    "# ax.plot(x, density(x), label=\"MHSA (ours)\")\n",
    "\n",
    "# density = stats.gaussian_kde(markov_diff)\n",
    "# ax.plot(x, density(x), label=\"Markov\", alpha=0.5)\n",
    "\n",
    "# density = stats.gaussian_kde(gan_diff)\n",
    "# ax.plot(x, density(x), label=\"MovSim\", alpha=0.5)\n",
    "\n",
    "# density = stats.gaussian_kde(epr_diff)\n",
    "# ax.plot(x, density(x), label=\"EPR\", alpha=0.5)\n",
    "\n",
    "# density = stats.gaussian_kde(container_diff)\n",
    "# ax.plot(x, density(x), label=\"Container\", alpha=0.5)\n",
    "\n",
    "plt.legend(prop={\"size\": 10})\n",
    "plt.xlabel(\"$S_{temp} - S_{unc}$\", fontsize=16)\n",
    "plt.ylabel(\"probability\", fontsize=16)\n",
    "\n",
    "# plt.savefig(r'.\\metrics\\figures\\ent_diff.png', bbox_inches='tight', dpi=600)\n",
    "plt.show()"
   ]
  },
  {
   "cell_type": "code",
   "execution_count": 72,
   "metadata": {
    "execution": {
     "iopub.execute_input": "2024-08-13T12:12:38.556437Z",
     "iopub.status.busy": "2024-08-13T12:12:38.555475Z",
     "iopub.status.idle": "2024-08-13T12:12:38.751377Z",
     "shell.execute_reply": "2024-08-13T12:12:38.751377Z",
     "shell.execute_reply.started": "2024-08-13T12:12:38.556437Z"
    }
   },
   "outputs": [
    {
     "ename": "NameError",
     "evalue": "name 'source_diff' is not defined",
     "output_type": "error",
     "traceback": [
      "\u001b[1;31m---------------------------------------------------------------------------\u001b[0m",
      "\u001b[1;31mNameError\u001b[0m                                 Traceback (most recent call last)",
      "Cell \u001b[1;32mIn[72], line 3\u001b[0m\n\u001b[0;32m      1\u001b[0m predict_density \u001b[38;5;241m=\u001b[39m stats\u001b[38;5;241m.\u001b[39mgaussian_kde(pred_diff[\u001b[38;5;241m0\u001b[39m])\n\u001b[0;32m      2\u001b[0m true_density \u001b[38;5;241m=\u001b[39m stats\u001b[38;5;241m.\u001b[39mgaussian_kde(true_diff)\n\u001b[1;32m----> 3\u001b[0m source_density \u001b[38;5;241m=\u001b[39m stats\u001b[38;5;241m.\u001b[39mgaussian_kde(\u001b[43msource_diff\u001b[49m)\n\u001b[0;32m      5\u001b[0m x \u001b[38;5;241m=\u001b[39m np\u001b[38;5;241m.\u001b[39mlinspace(\u001b[38;5;241m-\u001b[39m\u001b[38;5;241m1\u001b[39m, \u001b[38;5;241m1\u001b[39m, \u001b[38;5;241m1000\u001b[39m)\n\u001b[0;32m      7\u001b[0m pred_true_diff \u001b[38;5;241m=\u001b[39m distance\u001b[38;5;241m.\u001b[39mjensenshannon(predict_density(x), true_density(x))\n",
      "\u001b[1;31mNameError\u001b[0m: name 'source_diff' is not defined"
     ]
    }
   ],
   "source": [
    "predict_density = stats.gaussian_kde(pred_diff[0])\n",
    "true_density = stats.gaussian_kde(true_diff)\n",
    "source_density = stats.gaussian_kde(source_diff)\n",
    "\n",
    "x = np.linspace(-1, 1, 1000)\n",
    "\n",
    "pred_true_diff = distance.jensenshannon(predict_density(x), true_density(x))\n",
    "source_true_diff = distance.jensenshannon(source_density(x), true_density(x))\n",
    "\n",
    "print(f\"Prediction and True: {pred_true_diff:.3f}\\t Source and True: {source_true_diff:.3f}\")"
   ]
  },
  {
   "cell_type": "code",
   "execution_count": 254,
   "metadata": {
    "execution": {
     "iopub.execute_input": "2024-04-25T09:30:24.932840Z",
     "iopub.status.busy": "2024-04-25T09:30:24.932840Z",
     "iopub.status.idle": "2024-04-25T09:30:27.687327Z",
     "shell.execute_reply": "2024-04-25T09:30:27.687327Z",
     "shell.execute_reply.started": "2024-04-25T09:30:24.932840Z"
    }
   },
   "outputs": [
    {
     "name": "stdout",
     "output_type": "stream",
     "text": [
      "Markov and True: 0.340\t AR and True: 0.141\t GAN and True: 0.717\n"
     ]
    }
   ],
   "source": [
    "markov_density = stats.gaussian_kde(markov_diff)\n",
    "markov_true_diff = distance.jensenshannon(markov_density(x), true_density(x))\n",
    "\n",
    "ar_density = stats.gaussian_kde(ar_diff)\n",
    "ar_true_diff = distance.jensenshannon(ar_density(x), true_density(x))\n",
    "\n",
    "gan_density = stats.gaussian_kde(gan_diff)\n",
    "gan_true_diff = distance.jensenshannon(gan_density(x), true_density(x))\n",
    "\n",
    "print(f\"Markov and True: {markov_true_diff:.3f}\\t AR and True: {ar_true_diff:.3f}\\t GAN and True: {gan_true_diff:.3f}\")"
   ]
  },
  {
   "cell_type": "code",
   "execution_count": 255,
   "metadata": {
    "execution": {
     "iopub.execute_input": "2024-04-25T09:30:28.276231Z",
     "iopub.status.busy": "2024-04-25T09:30:28.276231Z",
     "iopub.status.idle": "2024-04-25T09:30:29.567890Z",
     "shell.execute_reply": "2024-04-25T09:30:29.567890Z",
     "shell.execute_reply.started": "2024-04-25T09:30:28.276231Z"
    }
   },
   "outputs": [
    {
     "name": "stdout",
     "output_type": "stream",
     "text": [
      "EPR and True: 0.389\n"
     ]
    }
   ],
   "source": [
    "epr_density = stats.gaussian_kde(epr_diff)\n",
    "epr_true_diff = distance.jensenshannon(epr_density(x), true_density(x))\n",
    "\n",
    "print(f\"EPR and True: {epr_true_diff:.3f}\")"
   ]
  },
  {
   "cell_type": "markdown",
   "metadata": {},
   "source": [
    "### Log-likelihood Ratio"
   ]
  },
  {
   "cell_type": "code",
   "execution_count": 327,
   "metadata": {
    "execution": {
     "iopub.execute_input": "2024-04-17T13:22:15.091439Z",
     "iopub.status.busy": "2024-04-17T13:22:15.091439Z",
     "iopub.status.idle": "2024-04-17T13:22:54.625938Z",
     "shell.execute_reply": "2024-04-17T13:22:54.625166Z",
     "shell.execute_reply.started": "2024-04-17T13:22:15.091439Z"
    }
   },
   "outputs": [],
   "source": [
    "predict_lk = predict_density.logpdf(true_diff)\n",
    "epr_lk = epr_density.logpdf(true_diff)"
   ]
  },
  {
   "cell_type": "code",
   "execution_count": 335,
   "metadata": {
    "execution": {
     "iopub.execute_input": "2024-04-17T13:27:54.641264Z",
     "iopub.status.busy": "2024-04-17T13:27:54.641264Z",
     "iopub.status.idle": "2024-04-17T13:28:31.859406Z",
     "shell.execute_reply": "2024-04-17T13:28:31.859406Z",
     "shell.execute_reply.started": "2024-04-17T13:27:54.641264Z"
    }
   },
   "outputs": [],
   "source": [
    "markov_lk = markov_density.logpdf(true_diff)\n",
    "ar_lk = ar_density.logpdf(true_diff)"
   ]
  },
  {
   "cell_type": "code",
   "execution_count": 338,
   "metadata": {
    "execution": {
     "iopub.execute_input": "2024-04-17T13:29:11.439624Z",
     "iopub.status.busy": "2024-04-17T13:29:11.439624Z",
     "iopub.status.idle": "2024-04-17T13:29:11.455016Z",
     "shell.execute_reply": "2024-04-17T13:29:11.455016Z",
     "shell.execute_reply.started": "2024-04-17T13:29:11.439624Z"
    }
   },
   "outputs": [
    {
     "data": {
      "text/plain": [
       "(-45057.917133547104, 8.342522715116849e-282)"
      ]
     },
     "execution_count": 338,
     "metadata": {},
     "output_type": "execute_result"
    }
   ],
   "source": [
    "loglikelihood_ratio(predict_lk, markov_lk)"
   ]
  },
  {
   "cell_type": "code",
   "execution_count": 339,
   "metadata": {
    "execution": {
     "iopub.execute_input": "2024-04-17T13:29:14.184736Z",
     "iopub.status.busy": "2024-04-17T13:29:14.184736Z",
     "iopub.status.idle": "2024-04-17T13:29:14.201101Z",
     "shell.execute_reply": "2024-04-17T13:29:14.201101Z",
     "shell.execute_reply.started": "2024-04-17T13:29:14.184736Z"
    }
   },
   "outputs": [
    {
     "data": {
      "text/plain": [
       "(-59612.19948867087, 0.0)"
      ]
     },
     "execution_count": 339,
     "metadata": {},
     "output_type": "execute_result"
    }
   ],
   "source": [
    "loglikelihood_ratio(predict_lk, ar_lk)"
   ]
  },
  {
   "cell_type": "code",
   "execution_count": 340,
   "metadata": {
    "execution": {
     "iopub.execute_input": "2024-04-17T13:29:16.439981Z",
     "iopub.status.busy": "2024-04-17T13:29:16.439981Z",
     "iopub.status.idle": "2024-04-17T13:29:16.457440Z",
     "shell.execute_reply": "2024-04-17T13:29:16.457440Z",
     "shell.execute_reply.started": "2024-04-17T13:29:16.439981Z"
    }
   },
   "outputs": [
    {
     "data": {
      "text/plain": [
       "(-14554.282355123138, 0.0)"
      ]
     },
     "execution_count": 340,
     "metadata": {},
     "output_type": "execute_result"
    }
   ],
   "source": [
    "loglikelihood_ratio(markov_lk, ar_lk)"
   ]
  },
  {
   "cell_type": "code",
   "execution_count": 329,
   "metadata": {
    "execution": {
     "iopub.execute_input": "2024-04-17T13:23:10.287270Z",
     "iopub.status.busy": "2024-04-17T13:23:10.287270Z",
     "iopub.status.idle": "2024-04-17T13:23:10.303227Z",
     "shell.execute_reply": "2024-04-17T13:23:10.303227Z",
     "shell.execute_reply.started": "2024-04-17T13:23:10.287270Z"
    }
   },
   "outputs": [
    {
     "data": {
      "text/plain": [
       "104632.93332755628"
      ]
     },
     "execution_count": 329,
     "metadata": {},
     "output_type": "execute_result"
    }
   ],
   "source": [
    "R"
   ]
  },
  {
   "cell_type": "code",
   "execution_count": null,
   "metadata": {},
   "outputs": [],
   "source": []
  }
 ],
 "metadata": {
  "kernelspec": {
   "display_name": "Python 3 (ipykernel)",
   "language": "python",
   "name": "python3"
  },
  "language_info": {
   "codemirror_mode": {
    "name": "ipython",
    "version": 3
   },
   "file_extension": ".py",
   "mimetype": "text/x-python",
   "name": "python",
   "nbconvert_exporter": "python",
   "pygments_lexer": "ipython3",
   "version": "3.11.9"
  },
  "vscode": {
   "interpreter": {
    "hash": "659ffd3ea00dbbc52f857660b8dafea05f804bc55dd91047cefb31e38b5505f6"
   }
  }
 },
 "nbformat": 4,
 "nbformat_minor": 4
}
